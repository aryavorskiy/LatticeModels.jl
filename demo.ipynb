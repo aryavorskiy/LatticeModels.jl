{
 "cells": [
  {
   "cell_type": "code",
   "execution_count": 1,
   "metadata": {},
   "outputs": [
    {
     "data": {
      "text/plain": [
       "3-element Vector{Matrix{Complex{Int64}}}:\n",
       " [0 + 0im 1 + 0im; 1 + 0im 0 + 0im]\n",
       " [0 + 0im 0 - 1im; 0 + 1im 0 + 0im]\n",
       " [1 + 0im 0 + 0im; 0 + 0im -1 + 0im]"
      ]
     },
     "metadata": {},
     "output_type": "display_data"
    }
   ],
   "source": [
    "using LatticeModels\n",
    "using Plots, LinearAlgebra\n",
    "σ = [[0 1; 1 0], [0 -im; im 0], [1 0; 0 -1]]"
   ]
  },
  {
   "cell_type": "markdown",
   "metadata": {},
   "source": [
    "## Variable ways to define a lattice with a hamiltonian operator"
   ]
  },
  {
   "cell_type": "code",
   "execution_count": 3,
   "metadata": {},
   "outputs": [
    {
     "data": {
      "text/plain": [
       "200×200 LatticeMatrix with inner type Matrix{ComplexF64}\n",
       "on Basis with 2-dimensional internal phase space\n",
       "on 10×10 square lattice"
      ]
     },
     "metadata": {},
     "output_type": "display_data"
    }
   ],
   "source": [
    "l = SquareLattice(10, 10)\n",
    "H = @hamiltonian begin # Hofstadter model\n",
    "    lattice := l\n",
    "    @hop axis=1\n",
    "    @hop axis=2\n",
    "end"
   ]
  },
  {
   "cell_type": "code",
   "execution_count": null,
   "metadata": {},
   "outputs": [
    {
     "data": {
      "text/plain": [
       "200×200 LatticeMatrix with inner type Matrix{ComplexF64}\n",
       "on Basis with 2-dimensional internal phase space\n",
       "on 10×10 square lattice"
      ]
     },
     "metadata": {},
     "output_type": "display_data"
    }
   ],
   "source": [
    "l = SquareLattice(10, 10)\n",
    "H = @hamiltonian begin # Chern insulator\n",
    "    lattice := l\n",
    "    @diag σ[3]\n",
    "    @hop axis=1 (σ[3] - im * σ[1]) / 2\n",
    "    @hop axis=2 (σ[3] - im * σ[2]) / 2\n",
    "end"
   ]
  },
  {
   "cell_type": "code",
   "execution_count": 18,
   "metadata": {},
   "outputs": [
    {
     "ename": "MethodError",
     "evalue": "MethodError: no method matching size(::SubLattice{HoneycombLattice})\nClosest candidates are:\n  size(!Matched::Union{QR, LinearAlgebra.QRCompactWY, QRPivoted}) at C:\\Users\\Alexander\\.julia\\juliaup\\julia-1.8.0+0.x64\\share\\julia\\stdlib\\v1.8\\LinearAlgebra\\src\\qr.jl:581\n  size(!Matched::Union{QR, LinearAlgebra.QRCompactWY, QRPivoted}, !Matched::Integer) at C:\\Users\\Alexander\\.julia\\juliaup\\julia-1.8.0+0.x64\\share\\julia\\stdlib\\v1.8\\LinearAlgebra\\src\\qr.jl:580\n  size(!Matched::Union{Cholesky, CholeskyPivoted}) at C:\\Users\\Alexander\\.julia\\juliaup\\julia-1.8.0+0.x64\\share\\julia\\stdlib\\v1.8\\LinearAlgebra\\src\\cholesky.jl:514\n  ...",
     "output_type": "error",
     "traceback": [
      "MethodError: no method matching size(::SubLattice{HoneycombLattice})\n",
      "Closest candidates are:\n",
      "  size(!Matched::Union{QR, LinearAlgebra.QRCompactWY, QRPivoted}) at C:\\Users\\Alexander\\.julia\\juliaup\\julia-1.8.0+0.x64\\share\\julia\\stdlib\\v1.8\\LinearAlgebra\\src\\qr.jl:581\n",
      "  size(!Matched::Union{QR, LinearAlgebra.QRCompactWY, QRPivoted}, !Matched::Integer) at C:\\Users\\Alexander\\.julia\\juliaup\\julia-1.8.0+0.x64\\share\\julia\\stdlib\\v1.8\\LinearAlgebra\\src\\qr.jl:580\n",
      "  size(!Matched::Union{Cholesky, CholeskyPivoted}) at C:\\Users\\Alexander\\.julia\\juliaup\\julia-1.8.0+0.x64\\share\\julia\\stdlib\\v1.8\\LinearAlgebra\\src\\cholesky.jl:514\n",
      "  ...\n",
      "\n",
      "Stacktrace:\n",
      " [1] coords!(crd::Vector{Float64}, l::SubLattice{HoneycombLattice}, site::LatticeIndex, bvs::LatticeModels.Bravais, buf::Vector{Float64})\n",
      "   @ LatticeModels c:\\Users\\Alexander\\Julia Projects\\LatticeModels\\src\\lattice.jl:66\n",
      " [2] _hopping_operator!(matrix::Matrix{ComplexF64}, lf::LatticeModels.var\"#40#41\", l::SubLattice{HoneycombLattice}, hop::Hopping{Matrix{ComplexF64}}, field::NoField)\n",
      "   @ LatticeModels c:\\Users\\Alexander\\Julia Projects\\LatticeModels\\src\\hoppings.jl:112\n",
      " [3] #hopping_operator#39\n",
      "   @ c:\\Users\\Alexander\\Julia Projects\\LatticeModels\\src\\hoppings.jl:137 [inlined]\n",
      " [4] hopping_operator(l::SubLattice{HoneycombLattice}, hop::Hopping{Matrix{ComplexF64}})\n",
      "   @ LatticeModels c:\\Users\\Alexander\\Julia Projects\\LatticeModels\\src\\hoppings.jl:133\n",
      " [5] top-level scope\n",
      "   @ c:\\Users\\Alexander\\Julia Projects\\LatticeModels\\demo.ipynb:4"
     ]
    }
   ],
   "source": [
    "l = HoneycombLattice(10, 10) do x, y\n",
    "    -8.5 < √3 * x + y < 9.5\n",
    "end\n",
    "H = @hamiltonian begin\n",
    "    lattice := l\n",
    "    @diag σ[3]\n",
    "    @hop site_indices=(2, 1) axis=1 (σ[3] - im * (σ[1] * √3 / 2 - σ[2]/2)) / 2\n",
    "    @hop site_indices=(2, 1) axis=2 (σ[3] - im * σ[2]) / 2\n",
    "    @hop site_indices=(2, 1) (σ[3] - im * (-σ[1] * √3 / 2 - σ[2]/2)) / 2\n",
    "end"
   ]
  },
  {
   "cell_type": "markdown",
   "metadata": {},
   "source": [
    "## Calculate the local Chern marker"
   ]
  },
  {
   "cell_type": "code",
   "execution_count": 21,
   "metadata": {},
   "outputs": [
    {
     "data": {
      "text/plain": [
       "LatticeValue with inner type Vector{Float64}\n",
       "on 10×10 square lattice"
      ]
     },
     "metadata": {},
     "output_type": "display_data"
    }
   ],
   "source": [
    "bas = H.basis\n",
    "X, Y = coord_operators(bas)\n",
    "sp = Spectrum(H)\n",
    "P = filled_projector(sp)\n",
    "\n",
    "ch = @on_lattice 4π * im * P * X * (I - P) * Y * P\n",
    "ch_values = diag_aggregate((m -> real(tr(m))), ch)\n",
    "d_values = diag_aggregate((m -> real(tr(m))), P)\n",
    "\n",
    "p = plot(layout=2, size=(1200, 400))\n",
    "plot!(p[1], ch_values, ms=10)\n",
    "plot!(p[2], d_values, ms=10)"
   ]
  },
  {
   "cell_type": "code",
   "execution_count": 2,
   "metadata": {},
   "outputs": [],
   "source": [
    "## Unitary evolution"
   ]
  },
  {
   "cell_type": "code",
   "execution_count": 3,
   "metadata": {},
   "outputs": [
    {
     "data": {
      "text/plain": [
       "h_sq (generic function with 1 method)"
      ]
     },
     "metadata": {},
     "output_type": "display_data"
    }
   ],
   "source": [
    "time_domain = 0:0.1:30\n",
    "Bf = 0.01\n",
    "τ = 30\n",
    "l = SquareLattice(20, 20)\n",
    "X, Y = coord_operators(l, 2)\n",
    "h_field(m, t) = @hamiltonian begin\n",
    "    lattice := l\n",
    "    field := Landau(Bf * t / τ)\n",
    "    @diag [m 0; 0 -m]\n",
    "    @hop axis=1 [1 -im; -im -1] / 2\n",
    "    @hop axis=2 [1 1; -1 -1] / 2\n",
    "end\n",
    "\n",
    "h_bound(bound) = @hamiltonian begin\n",
    "    lattice := l\n",
    "    @diag (x, y) -> begin\n",
    "        if x < bound\n",
    "            return [-3 0; 0 3]\n",
    "        else\n",
    "            return [3 0; 0 -3]\n",
    "        end\n",
    "    end\n",
    "    @hop axis=1 [1 -im; -im -1] / 2\n",
    "    @hop axis=2 [1 1; -1 -1] / 2\n",
    "end\n",
    "\n",
    "h_sq(bound) = @hamiltonian begin\n",
    "    lattice := l\n",
    "    @diag (site, x, y) -> begin\n",
    "        if abs(x) < bound && abs(y) < 5\n",
    "            return [-3 0; 0 3]\n",
    "        else\n",
    "            return [3 0; 0 -3]\n",
    "        end\n",
    "    end\n",
    "    @hop axis=1 [1 -im; -im -1] / 2\n",
    "    @hop axis=2 [1 1; -1 -1] / 2\n",
    "end"
   ]
  },
  {
   "cell_type": "code",
   "execution_count": null,
   "metadata": {},
   "outputs": [],
   "source": [
    "\n",
    "HB0 = h_bound(-2)\n",
    "HB1 = h_bound(2)\n",
    "h(t) = HB0 * (1 - t) + HB1 * t\n",
    "P0 = filled_projector(Spectrum(HB0))\n",
    "\n",
    "a = Animation()\n",
    "@evolution {\n",
    "    P0 => h(min(t / τ, 1)) => P\n",
    " } for t in 0:0.1:2τ\n",
    "    ch = 4pi * im * P * X * (I - P) * Y * P\n",
    "    d_values = diag_aggregate((m -> real(tr(m))), ch)\n",
    "    plot(d_values, lab=\"LCM\")\n",
    "    title!(\"t = $t\")\n",
    "    frame(a)\n",
    "end"
   ]
  },
  {
   "cell_type": "code",
   "execution_count": 4,
   "metadata": {},
   "outputs": [
    {
     "name": "stderr",
     "output_type": "stream",
     "text": [
      "┌ Warning: avoid using lattice operators and matrices in one function call\n",
      "└ @ LatticeModels c:\\Users\\Alexander\\Julia Projects\\LatticeModels\\src\\lattice_values.jl:168\n"
     ]
    },
    {
     "ename": "UndefVarError",
     "evalue": "UndefVarError: data not defined",
     "output_type": "error",
     "traceback": [
      "UndefVarError: data not defined\n",
      "\n",
      "Stacktrace:\n",
      "  [1] _unwrap_wlattice(f::Function, basis::Basis, checked_args::Tuple{Matrix{ComplexF64}}, el::LatticeVecOrMat{Matrix{ComplexF64}}, args::Tuple{LatticeVecOrMat{Matrix{ComplexF64}}}; kw::Base.Pairs{Symbol, Union{}, Tuple{}, NamedTuple{(), Tuple{}}})\n",
      "    @ LatticeModels c:\\Users\\Alexander\\Julia Projects\\LatticeModels\\src\\lattice_values.jl:171\n",
      "  [2] _unwrap_wlattice\n",
      "    @ c:\\Users\\Alexander\\Julia Projects\\LatticeModels\\src\\lattice_values.jl:171 [inlined]\n",
      "  [3] _unwrap_wlattice(f::Function, basis::Basis, checked_args::Tuple{Matrix{ComplexF64}}, args::Tuple{LatticeVecOrMat{Matrix{ComplexF64}}, LatticeVecOrMat{Matrix{ComplexF64}}}; kw::Base.Pairs{Symbol, Union{}, Tuple{}, NamedTuple{(), Tuple{}}})\n",
      "    @ LatticeModels c:\\Users\\Alexander\\Julia Projects\\LatticeModels\\src\\lattice_values.jl:178\n",
      "  [4] _unwrap_wlattice\n",
      "    @ c:\\Users\\Alexander\\Julia Projects\\LatticeModels\\src\\lattice_values.jl:178 [inlined]\n",
      "  [5] _unwrap_wlattice(f::Function, basis::Basis, checked_args::Tuple{}, el::Matrix{ComplexF64}, args::Tuple{LatticeVecOrMat{Matrix{ComplexF64}}, LatticeVecOrMat{Matrix{ComplexF64}}}; kw::Base.Pairs{Symbol, Union{}, Tuple{}, NamedTuple{(), Tuple{}}})\n",
      "    @ LatticeModels c:\\Users\\Alexander\\Julia Projects\\LatticeModels\\src\\lattice_values.jl:169\n",
      "  [6] _unwrap_wlattice\n",
      "    @ c:\\Users\\Alexander\\Julia Projects\\LatticeModels\\src\\lattice_values.jl:167 [inlined]\n",
      "  [7] #_unwrap#31\n",
      "    @ c:\\Users\\Alexander\\Julia Projects\\LatticeModels\\src\\lattice_values.jl:150 [inlined]\n",
      "  [8] _unwrap\n",
      "    @ c:\\Users\\Alexander\\Julia Projects\\LatticeModels\\src\\lattice_values.jl:150 [inlined]\n",
      "  [9] #_unwrap#29\n",
      "    @ c:\\Users\\Alexander\\Julia Projects\\LatticeModels\\src\\lattice_values.jl:146 [inlined]\n",
      " [10] _unwrap\n",
      "    @ c:\\Users\\Alexander\\Julia Projects\\LatticeModels\\src\\lattice_values.jl:146 [inlined]\n",
      " [11] #_unwrap#27\n",
      "    @ c:\\Users\\Alexander\\Julia Projects\\LatticeModels\\src\\lattice_values.jl:143 [inlined]\n",
      " [12] _unwrap\n",
      "    @ c:\\Users\\Alexander\\Julia Projects\\LatticeModels\\src\\lattice_values.jl:143 [inlined]\n",
      " [13] +\n",
      "    @ c:\\Users\\Alexander\\Julia Projects\\LatticeModels\\src\\lattice_values.jl:184 [inlined]\n",
      " [14] h_field(m::Int64, t::Int64)\n",
      "    @ Main c:\\Users\\Alexander\\Julia Projects\\LatticeModels\\demo.ipynb:6\n",
      " [15] top-level scope\n",
      "    @ c:\\Users\\Alexander\\Julia Projects\\LatticeModels\\demo.ipynb:1"
     ]
    }
   ],
   "source": [
    "H = h_field(3, 0)\n",
    "P0 = filled_projector(Spectrum(H))\n",
    "p = plot(layout = 2)hg\n",
    "plot!(p[1], diag_aggregate((m -> real(tr(m))), 4pi * im * P0 * X * (I - P0) * Y * P0))\n",
    "plot!(p[2], diag_aggregate((m -> real(m[begin])), H))"
   ]
  },
  {
   "cell_type": "code",
   "execution_count": 7,
   "metadata": {},
   "outputs": [
    {
     "name": "stderr",
     "output_type": "stream",
     "text": [
      "┌ Info: Saved animation to \n",
      "│   fn = c:\\Users\\Alexander\\Julia Projects\\LatticeModels\\lol.gif\n",
      "└ @ Plots C:\\Users\\Alexander\\.julia\\packages\\Plots\\yJrrq\\src\\animation.jl:137\n"
     ]
    },
    {
     "data": {
      "text/html": [
       "<img src=\"data:image/gif;base64,R0lGODlhWAKQAfcBAAAAAQD/AAEACgMCEwcFHQsLDAwHJxAJLxMTExQKNhkZGRsKPx0dHR8LSCEhIScLUS0JVy0tLS8vNDEIXDMzMzQ0NDYJYDY2ODsKSj08Rz43WT4+PkAJZkNDQ0gLakg4akoLakoQS0pKSk0Ma1ANbFBQUFNTU1QTSVYPbVg2elpaWl1dXV4Sbl5eXl9fX2JiYmUZRmVlZWgWbmpqa204hnFxcXR0dHYbbHYgPnd3d3x8fIAea4UgaoYpNYchaodCiIeHh4ssMY6Ojo8kZ5MzK5aWlpgnZZqampycnJ0pYp5AHqOjo6RMFaUsX6WdQaWjT6ZNgqanW6iTL6ioqKlaCqmraKtyCauFHaurq6xnBKxqBK4wW7GxsbNUGrk1Vbp+Grq6ur1Web+AP8A5UMDAwMbGxsg+SsvLy8zMzM5sdNFFQ9HR0dJia9ZKPtpOOtphPNp3WdtaNdvb29xQOdyBYd1SON1hPN5TNt5vWt+XgeFXMuGjkORaMeR8QeTi4eZeLObCZeeELOeQUeelWeeuX+ewZOe3nOe/b+e/rOfHvufScufbeefio+fl5OfmkuiFJOigQOmPKOmiQOmjTemwYOmycum6e+nHeOnUkenltepkJ+qTHuqVLOqjQOqjQ+qnTuqtWeqxYOq6d+q+Yuq+ierMo+uZIeubMeutTOvFlOvr6+yiPeyxXuy3buy9cOy9fuzEd+zFjOzKn+zRfezXWuzmxu2dLu3MmO3Omu3Rpu3Use3Yve5sIO6CTu6LIO7vtu+JFe+SD++UGu+aIO/exO/gz+/kju/o1vCODvDr4vDuePDv7vF1G/GPDfGwOPHoaPKRDfKVP/KXFfLkXPLyfvLy6PLy8vOWEvPdUfPdU/Pp2fPz8/P1hPR6FvSaHvT3jfWQC/XZSfXt4/X19faAEfa4I/bUQ/by7feHDPfQO/f29viKCvilLfjJMvj5yfj7n/mQB/m/QvnCKfqSBvqVBvq2G/r6+vuaBvuhCPunDPuuEvu1Gfz8+/39/f3/pf///yH/C05FVFNDQVBFMi4wAwEAAAAh+QQFBQABACwAAAAAWAKQAYcAAAEA/wABAAoDAhMHBR0LCwwMBycQCS8TExMUCjYZGRkbCj8dHR0fC0ghISEnC1EtCVctLS0vLzQxCFwzMzM0NDQ2CWA2Njg7Cko9PEc+N1k+Pj5ACWZDQ0NIC2pIOGpKC2pKEEtKSkpNDGtQDWxQUFBTU1NUE0lWD21YNnpaWlpdXV1eEm5eXl5fX19iYmJlGUZlZWVoFm5qamttOIZxcXF0dHR2G2x2ID53d3d8fHyAHmuFIGqGKTWHIWqHQoiHh4eLLDGOjo6PJGeTMyuWlpaYJ2WampqcnJydKWKeQB6jo6OkTBWlLF+lnUGlo0+mTYKmp1uoky+oqKipWgqpq2ircgmrhR2rq6usZwSsagSuMFuxsbGzVBq5NVW6fhq6urq9Vnm/gD/AOVDAwMDGxsbIPkrLy8vMzMzObHTRRUPR0dHSYmvWSj7aTjraYTzad1nbWjXb29vcUDncgWHdUjjdYTzeUzbeb1rfl4HhVzLho5DkWjHkfEHk4uHmXizmwmXnhCznkFHnpVnnrl/nsGTnt5znv2/nv6znx77n0nLn23nn4qPn5eTn5pLohSTooEDpjyjpokDpo03psGDpsnLpunvpx3jp1JHp5bXqZCfqkx7qlSzqo0Dqo0Pqp07qrVnqsWDqunfqvmLqvonqzKPrmSHrmzHrrUzrxZTr6+vsoj3ssV7st27svXDsvX7sxHfsxYzsyp/s0X3s11rs5sbtnS7tzJjtzprt0abt1LHt2L3ubCDugk7uiyDu77bviRXvkg/vlBrvmiDv3sTv4M/v5I7v6Nbwjg7w6+Lw7njw7+7xdRvxjw3xsDjx6GjykQ3ylT/ylxXy5Fzy8n7y8ujy8vLzlhLz3VHz3VPz6dnz8/Pz9YT0ehb0mh709431kAv12Un17eP19fX2gBH2uCP21EP28u33hwz30Dv39vb4igr4pS34yTL4+cn4+5/5kAf5v0L5win6kgb6lQb6thv6+vr7mgb7oQj7pwz7rhL7tRn8/Pv9/f39/6X///8I/wD/CRxIsKDBgwgTKlzIsKHDhxAjSpxIsaLFixgzatzIsaPHjyBDihxJsqTJkyhTqlzJsqXLlzBjypxJs6ZNg8vKrFF3s6fPn0CDCh1K9CKaI3L6kVy2QgAAAAiAKFV4BkgJBk+nFt3KtavXr2CJ6gCAhKS9DQAuFAGiAICOhSqeFsgatq7du3jz6oU4tuzIIwA22BPoBwEAOQqXIFkzju7ex5AjS54cc80Mt2gyjwNJAQAYgjkA5GhozzHl06hTq17N0MHT1wDKfFwGoMDggWQAUCBtmrXv38CDgy2zAoANMMiXIZSDvLnz5ogRlgHgoGCj2loTlgaQXbj37+DDt//sy3As7PNPpSLkEji7uqebF27vLr6+/fv4J5JfeEZIEf8A/vefEGckNAUAInQ3lyr0FTRffhBGKKGE+4WERXsEbWcNQw9O6OGHIPpWYULLyGHiiSiaqBxCuUWQ3XUCNOhgbyHWaOONdY2IkHnowabeQdcVUNAZAETAG3c4JqnkkkEBAcARDIExw5RUVjklGDL+4xoaBDk5w5FZMinmmGSOtIRbGPUTppMqTDWOa7IJJIcQU9DXYZl45qmnRmtApUMRRzDoUT/LuPYCGVygZQJB7Lk4UBkxRPpUpDEUuOelmGaakBBtPRXnR3JEAJsK2zBapFZn9linpqy2iqk1Jt7/BlI/ZCCxRFIFjSOHHwRtk+KJ8bkq7LDEXqRmscgmq+yyzDbr7LPQRivttNRWa+212Gar7bbcduvtt+CGK+645JZr7rnopqvuuuy26+678MYr77z01mvvvfjmq+++/Pbr778AByzwwAQXbPDBCCes8MIMN+zwwxBHLPHEFFds8cUYZ6zxxhx37PHHIIcs8sgkN+zHjzLxNJTKQfUjK1AsBxXzT/y8/NPMQrmj884896xzKUWEydUZu9G0jdAzbSgUPzj3pLRQTwNlT9M3RT2UO/5krfXWXPtTRQlIF3VGBTUdPZTVPjF9NlFo9zT12kX1k/U7dNdtt91eL5rX2GWH/x1T2zepDTXbQ709+Fb+3K343V/rxbfRfsMEuE2CBzW5TZfTZLjlXCVO9zd1g/653Y3vTTbkLJ1jSB6GLIN05gJpQ0olslA90Rk62DAFPwxVrlAie+yRyEb9lGIJKcW83pA6qVQSizYbiZNKK6mcozxDsrdS+0bEvCJKLkhvrpAulryyS0uw25T4N6Cz/0778INeOl6Pz2S2SsXYoQcfethBjNCwywUw0EFATkAPI0BwylM2kDnfHaQfedgfH/iQB5tN5ByC6IYGmUEKAGKPE+sIITBykRFiCAMeKBQGMRgCO1lcA4XwOIU4MmIJcMzjhpOwnUDE90BQwBAehWBJ+v9q8j72xc+I8ZvfXeonk/ulBA4TnKAe8OBBhYzDFwTMIiEih5A+nQdlB3GgQRAhwSgmgosHIYUG19iNYywEdoRARwhD6AsdOuQUP4QHJFi4kHOccB4wDOJFigGPGxoyFvKxYykA+UNdrGSINBkdEotYRCMq0S5MjIkTT7KMKHoyGWHK3C6ymMVIYKQI6OnAQsRYkDx4coJ5wEgG2dgNWYSSIZGY4xzPZ5Fk5BEe66jGGxeyixvCcB6cwEgsDGnITyRyIYUAJCPhIYpHcqWSSMwmEi9Zl0zCZJMmWUYZowhKhYiSlAT0xSlTuUo7uvKVsbyIIMjRDXpq0BDDXIgvdBn/Ql5WJBnryGMw85kQXRTymKZQJjNv6EyF8NAg0TwoCqupEkjO5B3c+EZGN6rRjmZUo1EogeNOZz80agSKnqQiQRFyRXQOAiNrUOBr3qIQVhIEEa/kAyIwokYN2tON5mQIKPjpi3NgBI8/hEQVE3KOF/5QkBYh5EIR6VA7yuKXjqzoNbnB1a569avcCOlI+7aSYrwhinYY3koRUooBFvCAF9GBTDewooTYdCAQLGMFMYJBe3ajg2s9iDZAKEISYmQXJ0zhCgNrEFlAg5G2mCFGRFHIG3rCjg8tCD8GMU2oCsQEHQitaEdL2tKa9rSoTa1qUyuCNWxEo9TgRmxnK9va/85WrKYja0rUdI49sC4ZDUmf7CqRCnWYVDo5mMESLGiQuwpETYnIg/B4lxF7lKISlkgeHxnCvFa8Aq4YEUcsWkEKyTLWIMd4BfXsCBFiWKIV4OMQe/+hi1aIwp8D8cxz9svf/vr3vwAOMH83gIXXUuPACE6wgqmBW/qRtInH5Yjfhnislji3IBFOiJo2vN3DBSWzEAFAXkxQYI28QxkLTvGBnyDS3KLOw0C5cNIIJxQQP0TEeCGxRvrxDWX4+MdADjI1WDzWF3NuafP9G40/nOSE4PguOtZIj4NMZSAT2cUlhVtQZCwTi77Eyy2xsUOebJcoZ4QbynhGmtes5jaz+f/KDtbtkbfc5C8vWWp1PgiZ62JmjHDjGYAOtKAH/Qw4L/HBmsxwSsDMEi4rWct4vsieIcLcl/T5ItQgtKYDbWhMIvqbikYJo1fiaMnd+SdibsikGZIIOrwhDm/IA3BlcmmLZHrTmnZCi8V2BKp58yXg9MmoVVJqO0Ma1Xk2yKo1HMFXpjUiOnAtQfqBBReIYAZkEMgMaPqPftTABgqpdUVu/YxpBNrcgEa3uXW9FVW4pq5D+jSwQ32SYaek2C6x96ILl+yCLBshhhgnWsvpEAdwoSAvYEARwFCECBSoNrgqQwEQEO4SZ0QZ0zB3xjWe8XJvfBrsLooKhAAAeBPk1y7/CbbThoJv9J3aJ6lmyL8Ncg475DSKeYicwRlVAF4JRB2lAsALRvOPF7yA4gkRN0Uw/vGmOz3kQ+GCCK5j8oGgvCUqrxrL+23NY8Oc6/l9SCJuHsU36PzgA3GBCvRMBgYwTQFgQDpClD4Rpmdj43fPeN43DvWDbKMR2mlEpWcTATlQHSFnYIDRX4AFdTj+8ZCPvOQnT/nKQ14Vls+85jfP+cdjvvOgD/3mt7EM0Zv+9JH/POpXL3rVs/71mrdG6Vc/82kHnOwTnHVDdj6QDnCbIIcRARiWoIIyyP0gJphC54WmjGzc3fnTgP7zp9/3guSgAAy4gCoMEncHKIAMSnHS/2v8QO+CuEAI/zj8Qc7ggCMUoQhlsIf850//+tv//vjPP/2Xof/++///ADh/qlAzAViABuh/6mANB7iADFh/A9iAELiADxiBFPh/46CAEFh7BHF7ZBcHTcZ7AiECNUAfhzEFoAUGxhduUxCAYdIPz+B8zocN2BCDMpgNNYgNUqA3BkEGCgB4KvAlGaIAXNAPU+B2/wAEMSASABBaaLEBn0IQaCBvKVd+JaFvJ9FyQvRybgN2AqGBA1EMAudJcAARIHiEEkCCcqAOCuAA/ZCCSWdxGNF8MDiHdAiD1TcQMTCC/yBxBcEF1dFt33eEMUBdH5EZaAAGAEAGVfcPV8cSWf+HOVvndcLGb5IGEXSAezv1ECDYD42AANx2K/1wGP8ABuDnhnMHhxbhgjYYDjLYiq7oilKwawXRAUUgELSxfQNRBKokEBtQFkBQAAKgAL/nEepnEI24Eo9YE1ZoEljYdTCGbJX4EMlgczm1V5o4cQgQFf+wBhSAABuAAB0AeKL4KMdnEHQnEc8QDqyojuzYju0oBRvwHD53AX7xHtEhEFYxFSKAfnKgHGigAFACEuoABpV2jCqRjDSxjCXRjFoliTcRcwvhhXiVDCg1QXZgjQ8he8uwkSzjB2iAi//gOgTBD4s4EOcYEenojir5juA4Wuj3DyXwktcRLP9wBBswEBf/sAQFkY8rYZApgZAzhmQOqXU1xoX/IJF49Q/EYAh7gAi6FxMn+RAuaA7mEA5VeZVWmZVXGYs70ib/4IcFYXyDoQ4FIG3PZQNeqRI+iRJA2WWR+Iw/oZBmYZRIiVcbRoUbEZUO0Q/TQJV++ZeASZVceRByUABTgAYR8JIusCoVUAOWcZP/IARgsAZFUABY0pNSiHV4ORJyORIMuW9DWRMQqRB1GRR66RDPEJiq6ZeDeRBg0AEXAATUlQOX6QcrQAEuAHhHuAEUUAKXiZlyBhSdKRKfKWpa+JB0OWKoWBF8mQ7m4JzQ+ZzSGZ2t2RAV5hNreRJt+Wh0FprKSIkWUZpA/3GaDNEPtJAO6Jme6rme6VCdnhaccfmWczaf0BieyrkR08Ce+pmeV6CDhwafkyiUcBmgTBaNULacFNEP2RAP7ZAODfqgDhqhDdqeYINlEMYSxdAKnlAIxRBcDbELhSAIlfCUqZgJmLAIjGBU7cQhjDALKDp4EXEOr4AKrIALHoo9rfAJrIBfgxQKqMChN7oQusAKqNAK5mUssgAKqPAKKlpV3EUKnwAKqWAzDkABVnqlWJqlWrqlXNqlXvqlXooAQ6gR2dAOD3qmDnqmZnoFsvieRoYSumBDNwQOhhVUC6FG5JCnvrBYF4EJrZgNtNCkCHFh9qAI7agIMOoQ4jAM+P+AD/eAD6HQYQlBDNJAD5ZKD6SQEblwqfQADlllpwrxCpZ6D/QgDR2KEaBAqvdwD5H1TAqhDqfATJ5AiOlniLZ6q7iaq7p6q2Swq776q7qaqBBRpmZarMZ6rO3Qn0WWZbvFCfTATKawVAhRDfWUp3k6CKFWC3XICGFyYZmgkpmAEa7gqOR6D3yKELDzCZxKD9dgPaloCpzKqpJ6EMkADqpKD/cACoelqqr6Cq6aEKmwUPNQp8YZN8SKrAibrP7ppsyKEr4ksNpwSwqxC9ZqrY+AEZkwgzCIDYuwogqBCSppDKGGCqtarrdwXgSxCetKDzwqEdqwsvRAogaRObpwr/j/mlAXEQv8iq+o8K8IEQoCS1GgSRQKKg9marRHW6xIu6Zt2k2Z6Yib6RDnIKeGBA4yWxCZQwwVm6eBgLF0yLEemxCOoJKYgBGo4KiPuqo2CqoJAa/req4TkQwrCw6CehCiRKr4aqm2gBG3gK/8qq9OqhCtILD+2pBEmw3yYLSJq7jtkLiN67hsuqwXqhKfsFCeMK8GYQ+RsLWVEGrVUIfhWlN2VAsqWQsYkQrlig/XcKR2yxCtsK7DQKsU0Qnx2lBsexDqMAx5i69CWxHacA07u7baYUe6sFDwALcmMZwk0Q8MurjO+7yLG7kWmmgroQ2xekOnAF7oyhDEEAjWKgh1/0sRmUALMIgJsttc7MUI7IgN3IoR/BAK5CoNBLu9feQJlzoMyDsRx2ALl7oK2tu6xDQMePsJ4TsRuCANqtoK5+sg7FVDN3QNmeqMRBEO0FvB0du0YZGdJrGdHsEPupAKuiCs/5A+5/DBu4CX1ZAJmQBUYathyaDC/xtVt5ALrEu/C9EPu5AKuWCUGfLBurDAM9sQ55ALt9CyFiEORHyqPpsQxyALshDDybsVzLu45ZC4VSwPV5zF0htnbxqf1hm1EVGcxpKRx2kTo2lqWxEOWby49WDFidvG8rDF/9nFBBpjPBzF3jkTZ2xsRBsPWCwPbQzHgQzIWFwObArGLqHBJf/BwXxsx3kclAU6oEDhx/VQxfUQyJZMyJcsxww7ufSZNndchWUsmqFMEspLEvFQDpfcxvuwyqusypV8yNMLao8cE2KMx5JsxqXMmVwRD67cyq4czPUgy1zcsMIpn8dcyzCxx/nWy5e8D9AMzcEczftgBQvrtAC6cgL6yXVcn9w8yfVAzdQ8zcNcocXsycncnbkMiUWpzDMRD+Icz+JsBRgMFopMEozczNuczt+sy+4sE/CsD/sg0AQ90AZN0NYsudS7zjRxy6L8z2G2yyJxyiMRD/pw0Rid0RpdzdecwU+LjIj8ERTdwRIdEiPtESfNEczsclth0Rr90hmd0LM8bxD/3WglDRIpzRE5rRErnYUtnQ8wHdT0rNC0zNAz4dCmPMqac9Mi3cv58NT6ANVSDdRQPdQzPYU1TWpMjdJKrcdb3RE7LWHxINVRTdVRfdZAbdXnvND9XBNIzctZrRI9LcFCwbz48NR4ndd6nQ9qPcfG7MXq3Nbf2c5GXRP94Ax7ndh43dedzNb8TDNfrdNdLRNzbbhEgdh3ndn5oNmczdjYTMfaHNiPDdiRVtg14QyNmtqqvdqN6tkenc1EKdqkPdpbGNctgdqsnduNqgX1/BX3PBL5zNKy3c2z/XW2zRK4rduszdtETdOmDRNvPdGTHROVPbSXnbppi9273dte8dsi/xHcPj3coS3YXn3cK8EO2p3d6s3cyzEDKoCg2PnRBxnSXL3PxU3ctf3cM+EMq9rf/v3fq8reBqEKnjgFCqCTQ+HdIQHedA3K5l1v4EneNsEOAF7h/S3gOykCArEEEkAUCg4SDI4RudAJw9AJ8YWyA8EPt+AMpoAK/5MR6lALv8AIvyBMLYwQ4gALzuAMl1DDFFEMoGAKpyAKBYy1H+oJQp4KQBwRxbMKm2DiQaodsXAKpvAJRnxBomALpsAKLDy8DCEOocAJnGCk4U0UFL67eJvmo0oPWVDPJQAEhAEAkb0RH/4RIW4RsVCu90BVt3sQh6DXn8qcv7A172DjdmVH5//gDM+8D85Q5BBxDNeQt/fgCdKKEAbFTK1Ab6SwrqmAuQYRCpwKDlcOEfywCmkuDVA8EKm2qJUFD7bg6NK9Fc6w5mhO66Ta5ghBjz8HAOQnFHXuEXeeoAKctvfgDXaUOcmw186AEcfQNb9w4waBCeHsymV7EaB+qaR6wn1uEKtgvFdLacKwrsJQ6eg1D+t6uRehC7XeCktsEKQwTSh0spY9FOwAs/bO5giQpXD+D7SoFLdI3xzx6x0R7HHr3+Ta5QCcELuw18PA7M4O7QUBC8AszbCAEfa7rnxuwwkhDAI76g5xDOa+rt8+EDS7sjiL57Xes4GbEKzwS+w+70JR7wL/O/M3lAUbcKu62QJEtwYFsOQ1IfAcQfASoQ7A+9+wPsILUQzK7vMN0exc8+yiuxCzsOjQPAuourLzG8QLYQsCq8QUMbXrCg3HvhDEsLKngBG4YOus0O4FIQrwDg8RbN30fky/9Eu4fhB+uBlo6eHy/ZMAz/L/DbjbXhCIndeXgBHj8A5cg/DouxDHEM7RXA+MLxGbyqnecPSw8woLtQpM3xCgsK6RiuL/wA/8y6kZTxHigMBrHugHkWrEAA4/BA2Tn9RbwQ6wX/d1f/fNVQIO0AEMcI9BAfQbIfQScQ6puqqgYOgJATvagAp4DQsizBDJMOiJY7oQXxC64AzQ7Ays/18RpFCp9GAL+Wvk8tEKcuoJqQ4R1QAK5j4PoHD0SO/4q2Cp4CAKnf+htkCq0tDpbF8QAFFKGDx4w3T9Q5hQ4UKGDR06tPZQ4kSKFSeyW0cwI0GOHeGty1JC4hoy6iyeRJkS4ZkKKl2i3Nbv5UyF2nYdsxiRYr9ju5LRXNjPXrJk4yryM0lRXa1a6mQCTXhuVzF7FXVSFDcV6sKe2nJW7Fdsl7itCe0R23Wuor2kE8cRI9a2LMqrc+06ZIcu4zq+ff32DXlXsEqWg2nGNCy4buKtSBnbXfwYaGTJL9lW3koZ88y8e/9+Bilyc+XCoykiNv1Sc2qKjlmrXP1aYmzZDf8v1z5JG7fDaB9Bf0ZHRfTuuaWJI0R9fLbyia6ZQ3y+PLptudMT6o7Ojtw6dN29f/8u3PpM48eTj0eInbhz9P/UE3+P+3Z79/QZRuMOXr938fZPlifuPPTiq429Af2rz7752iOQOPz2g7A/BCkCcDcBx2vwNQMxRDBD1hY8cMJ/okGHHHJKPNFEFFeUUMSHKsTtQus8TG3DGTv0D0QORSQxRR9XVJGcFtsbR4cLHDBhDYdgrE3G6Wg0zcYncVSwuh0njMZELbfk0sQh0WtkhjLkyEEBoxhiUjYno4NyNCnZpJI+HW/ksUs7tfzSvn4KOKOhNF9b87k2N3tT0Djbm3P/yjrJ6YZRRxuF1NE86TujAFX8bIm5QJkbFLNCOT0UvUTh5LEbUxmFNFVUu5kUvWUiEOKphc5AoAAEENBhG2t25bVXX38FNlhheW1kWGOPRTZZYpVlttlkl1HFWWmn9bVYaq+V1lpst0VWlWi5BXdYbcPdlp+JojE1XXXXNZWJ4fzb5oIaZJ2VgmXuPTNGekOk71PlOsUMYMlGNbRUdg82tdXpxtkgBon+ZG3Tf/3z9ziBJbuYMYJBLZUZhNdlxl0E1enABFXurQrNTJWT2GKKraTTvowT23hiHpnxGOdudOY5Z4WfW+NWocHY9x+IU2sZvpf9mzmxpger2eWbcaa6/2qrQ37XRUyfS3q3pwWrWGmmc4RZ0Ql72flqtbHW+uGVzSs65vbC9jrU8aIWG0teqN4b576Z+Vvktpd8O8C4zZ67bFJlJntsEXsBfG/JJwc8csEHV5nrwxdP3HHGq/QcwWgol7zy0nm5HHOFjjata9y+vovu1+22Du+6H4+cF913J51t1Wct3MLNC+5XceLpg90u22d/nHfnn0c9699ZH8312pKfS/braZ9u+e2bhz781H83Onh9ZesnmeEVUm8owdRR6yjjFTonfruqmf+6k5JJea7019ffWn5yl3FUwyJ4q9/3zhY+8UlPddTbjPXKwo9XDEQYlsifbs4Bi3Lsw/8ZmChLNRhBDWo4ohatyR8xnHGNfHTihFvRxSnggYxPeGUi2EnFJuARjFacA4AUsYcohEEPYbyifw/RYCiCQQ9TyOKHFNEGKqBBj1McZCI1I8YqwNEMSBTjNdgTTC80wQtNjLGMZDRjGsc3PfM16Yl3EcU85CjHVlBEN6PQxz70uA9cQMUejuBGIAOJE4l8Shv6yAc+EqmPAdJkF+CYB0dsMT/dpGKOcvzEVloxD3p0kh6isONE+uEJT3ZSFlA5xzA8eQ9wEOOK89MGNDoiDLKkBox36QUZdWnGXe5yjQ9so5reOBd7COOS87hGvqAjkWPscY/xGGZDaiFIQTKiOfP/iwU+tLnNWESTIaDwCDx0MTzdnOKY8CDkTM5xjVLSQxpHbAhtitFOeqwCKrlo5z1C8cqJvCKcsWDNLe0ixjMWNI1o5IUSHIg5CGJGglBJxjHlmM5lPmQXztRjOeCpkmlSkxuOuOZEXLHNROJjFFDxhEfmAVDpSGQgx9wFUI7ByXY2sqIO0QU9TQGVWNATFcPbWCgi2ZE62tJFBC1jUpW61F8yNJiA8qYfjXnJZN5wItrA6D5+CpSOUtOahcTmNrWZj24ChRXhtCISKWLOS6ITKOO4Bk07KYyNLkSe9LQnUPDZzn1KZGOvGCpHWGoagc4FqUtFbBkVSr7VPTViUYVK/xwvWYlQTmQUGO0jUP7oUYo2xJD6UKQ2GQmVRwZ2kladiCUvmUmobLKUoETtQ0bZzlMCRR2q9OQ1XOlXWF5jlrUk7FH/UMbhaqK4xyXuYhm7EsciDbJAoeAm5nHButqVIhvsoDMyCxURktARx1jfp8Kywnyg4oVQiSE4kAEKG7ZUIqkwxQ4rYT+a2MMSQxQGKarLvusqkYm1hYo2PjHFU8SUnxMhBiS26AkvBlS4fxguhI0bYQprQrnLbWhlHlqW/31lJ0N5bkP6oQ5r/DBs2/DhXfDn4Yqo7y4dtopF+FGNEDdEHQZcS/4Qco5tKBBBvZBwhYMcYQsvdCLbOEMjHP/SjzUoKSH3updkMiyZDRvVPtqTTWEn07jPnQ3CXwZzmCF84ZOQAQEbQECsFqIKCUTAASIwST8AIDQpN7d1Nd6MlmeC5S9yLzrey/JR+SBmQo/ZyA+JABL+IYcCKFkhOiiBUCpwhH/IeRmYmfJjqhzcK+s4b8jjMqgfN+hB/6HUp4bwoMlckTUUICkdKAK9HMAFhAihA5UGgBxUgWcK2bl6vK6Mnl/CZweHTlSevt2E8GBqPjTb2c9+9qopAgYHJCQGNlDInpzMhQjwQ84MQEC1H5Npxmx6NMJ2CbGt3GVEIZt5Z9MDtOUd7Qpgwd72dnIOVLBvfh+hH1iIwFNmMAP/hdgj1zIBgwIqreR+6KDOmjP2eNTNaXYfO+L0wUOz471xPnCc40pQgAlELnJF/wMMU0B5yvtEBgU8RQVAoBcCyoCQKVBgIfstjq8jCGyMLa3i/Gr3xdvTizt03OgeP7oepD2RZRRADv3oBwNorRARqHngC/HDwzXF88egWyUTP7efnwPoPoso43pAe9rVvvalT2QGGwDDDAL+Dy5IACFgQAAWkFAAJYFBB1xYQgS0zjKuM8brKQF7nsXOHLIXW9kdX3vk0X6HtvsVCCWYgaPX4HCEcMEEKiADQuRQgxKogNLj1rlDC+80n4v657Vzt4/9gwc93MH2t8d97olgguUy/xfir59O4gO2eOU0ft0IwoPt65B75tueCIfWGrkTY27Fd1roiLM48NGT/Dp03/vf//4dnt/78v3e9Z3TPueyf/7Z3wH87/e++KHvIukbhvrDt376j7d+BrkID3WYgwAUwAEcwDoYv96rv8G4v2Brvf67vrGLvUAzuzlwgwq0wAu8wDk4QAxLPQ1bPcM4PJQQPgZ8QMaLwLJTNgxUQQzcQMZKQMFYwJ7LP/YDOv6rQfvAgzZwAx3cwQrkwR90gxYknxe8ixjsuga8wSsJOv2bjhxsgyeEwiiUQiFkI/NzwOIpQY6RkxN0POSTwi+cwvkTESK0CyM0PCRUwitcQhrEOP81AMM3pEJgssIkDD4uPD41tME0xEE3fMMvjEOnmkM9tI4RlEEmPA7jozjkc8NFbANGdMQ2+MPBIcO5MEPWm0E8pMM/s8NE9A82aEQ1AMVQFEVRjMS2mcSyqMST6InOUqudEAvg2gp7OIZjGAcAqphx2IW4uJ+pwLkAoohkmAqu6woWk4iwGAu7UAe0oK+HiBqp0EUURBBPHMVpJEUxnJBT3IpUvC5Q4KR5+IRljCcoQgVE0odD6EWL0AZAIqFMCK/8yQVvuId7GIZcKAtS8C144ITdci+HsIdWgKR5kIT2oglx4EY5AgVwZAjdOIZV6CRwaAVzIS1b6CRpGCxmzB//WRiIghinLuxEavRINQgCa0QQbIQKbZwIVpAregCFypItZ8iHl3zJWaixcaAGjzovh/iUYojHnbyHBqOJUvAIYUBI/uqnYzqFrSjIOWIFlsRJiSwlUoAKcZCGdkorfpwfYoAkgpgHaGBFEpwQafzIUQxJ8iNJoDDJh1CHKSolcBhKX3SIYoBJmHSGGpummrTLr3qIT3kFnozHV4CKTwgnetzHhuCEtpoHn3yJc/jHOYIGZQpHiSAGejpKoLgFelpK3pqIVlApqLxD+2CDsJzGsUTADqSyD5yIZKAneuhKorSol0SklxwGqKgFu+SGmgQpsMpMvryHoqKJlPKIVIit/4eQLni4JAObiZmSKJt6zIfIqXbaKaDoqXbaKouciFAgTo6YB94MOxH5TDNQA+8Ez+8UT/AUTQ4MRMnoB1NISboKzoYQh3x4TficzuOszfrkBrzESWzSzYp8iUIIp10gJ4pYhWMCB+VUiWI6JlNYH9rQBnhoJ09AL3rSTuqYCFIILIK4BY70zPHk0PAkT5H0j7I8DNNMrZTkz+V8iEOIS32oymEDJPvEsbycn3OwBZ60hbZUxWvYCHjwhAWlCF1YzOzcClKgh0sCzvZsiFBYS+PcM4b0JGkQSAqVCHEYBq2EhxvVUPpgAzPg0i710i8FSRC1DxGdibOUiFzwhE3oBP/BRFKG4IdbcAZbMC9eU4dMcARHYAQDddP8EYdWsAVbGAVYpIliAIVIOIVXwNH0qIhd+IRNWIVUOEeLKIVO2ARPYNPBZAh7iIVVMAVU0EegOAdROAVTYIUoldIpLQROsIVKENTq+8ovhdUvLU8XJE1NI9G7UI8PhDoZ87RbjbEsPMRN3M5XjdVindUhrNVy89W5CMGTIMQjBFbiQMRhjcZiNVYxpZRknb5lLYtm5dVo/bQ8lJtOtNZY7QFsbQ8yfQkzZVY0HNdMhEBwVY4tHQMurVczuNd85dJzJUtttT9uzQx3xT54NUF5PQ42qNcxSFh8ZViFxdcx4NfRPM+BHUT/YXVVNuwei8W/r1TYjvXYj8XXiDXPrTNY2XjWMyzZ15jWi+1Ej33Yl/1YkfUPP0ADxVFXl2DXbhVY9SPY4tNYr4zGjxXamEVX2dCBM1OAPtkakjXE9fjZQsRYTUxZ3GADLxjaq5XZ9mC0rBOCDYibm1WJnA3YS+xZm9nCqUWfMLharC1a1rg8hFgGAHA04JlYnq1YtO1M2MPb16jaMbDav/XbwP1bL8ja8eiHa0sImfOTCACDxpUDw9lbQnlaaG3a3VjZjUUQtfWCzeXczuVcvy1cihgHG9gAFXjchZADIXgBIFCIRoiBDSC4mVABHXgKBQADP1GADtiADjgCa9iG/98F3uAV3uEl3uI1XuBthONV3uVl3uZFXueF3uhtXmiR3uq1XuFN3uvV3urN3u31Xual3u8V3+Pt3vH13vWpWs9V384N3Yl4ARE4gxxwAIhMiCJYAREQAYXYgBc4gxWgiRqYAZnQtqUlvMj1lMlF2cqVDwS2RATphzBY3wj2AhzgPZRQBadDiFlrCCHI35VwtX/osZmYAsEzGgSAGbBNCbGFCm+VHwPGXHGl2PbQXAn23PZ9CJZzOc5bCA5OiCPYgK1QBwewATCoANolYLhxYck42QaO2nhV4OOAYBr2XBxYqDVAgzPAYiz2g3+bu38A4A3u4H94263wgxmoOvqlW/+mbWLmWGIQJL5gTeLNiOIt2Fw69gI7xuMJLgBbEZocQIgWuIBAFmTWBQMGSIgX8GOG4OFaEwGARWGYANgV3tn9K1tpZWA3FhEIpuM83uQ7rmMcEAEou5f5kQMBOJMNKAIwTgguELdlfeSTUOEtI1tBfFe9fWLi0ORN3gJdvuNOpmKUkAkKiLVW2zU5iLWEWOR/UAcEuN2pY4xXtohYpgkWRqE4ptw1xET6CANe3uVe5mYKJgwFiAAEOD0sULh/WAIAUGcAeAGEwAIEGOfBQ+Jb1pBLHgxqZkoYtlsZ3uV+9uZ+Buhf/jo5CGGLUAc5sOfGqltKvlt6hkZ9Zmh+Buj/iaZogR7ZAnboGkloXH1jS7bmythmihbpXbZoWl1oLUS/NUZpiF5p+wjpka7otrUOaK4IaU4IftCFWNCFSMWOc9AFTGBSVGIKbbBFHTsGXMAFU6UJYkiFUmhVFJWtXUiFXEhUlLCHnN7pX52Ic8iFVAhqoBAHWbiFT6VOijiGVJAFpX5hl96CJthlt27rt5brLShpZD1pw9CGU/AkW1hN1nwIYigHmESFqq6IuqxNRkBjz8qfvYzHa/BLqOAHQtgIYQCwVpSIc/CEOTKFr3aJY7CFOToFtfZrh9gFb/Ckb9yKW2CnTiqE9akZSwAHgoAGzsxbGYbruYbr3KZrmZ4O/5o+jUhWiE9op07I50xlB5hEJFfgLtqsyVoYnk/ZBd3k7JRIBY9Ahqce7YYohGMahkidiE44JtbCVIVQB9MuJeUGCm0Ah3sopQzFTInQhXAi67XWZre277i+7/uu6ypU481QzHaCB+x2y4YgBtd0TVugy/q8y+eeH1fQTfSmCcD0iMqG6oaIrzkiiPlOCXEgzktiyzZViF2gJ1uAispsp5V874fQTI94bE506SaA8RiX8Rlvgv2Ww/7GjIiiJ6Ie74TYhfiEz9jkKub+qJCSiFbQzQl1Cd/siCO1bOHs8Dma7pPQBomaBz3N7oVozlJ6TpqIzlJChQN7COu8UNhy8f/6pvE0h3EbB0Qcxwyn9CQFBfGoAHJ9CPP0VvBAygQjfwhc0M3tmglRkO85T4hPOCZoIOxiVM9LInFC/wdxUEtPQnFHoqcWt8oS9YhSyFIZTgI1T3M2l0R/VUDgTghdiHRwuNSbcohYgM+XrAfEnAlGUHBHSNRPsYdO4MlO8O4p5YSOKITiZohikIYOh4ey0qvFBIcWrXCGeIVSEgbwggpQKCVbiNFLlwh1WIWOmIRdhwwXgQJPp/EkAHVTFHUYJPWEKIZW+IRWgHVVJ+1RQAVYEPCU6IdaYARG+AXHVGwgigVQAIVbsAdeO4dX+ARWKAUAwo5kEIWCn3KVSHdPYHf/rYbvUEAFUZh3YJYFVkAFUqjqmlGHfgeFVEhslnXpJOj0k28ClFf5cY++ci/Cc1eNSQ4KmFfUjzaMywVa//j2lOd5le/5JIAB3o4O3z4ymocNmTdblYbjjJaNMDD5k4f6lI96lqc/ly9Do08JfMZNpj/zjLV5xugHKHj6sSf7sQ/6fr1rqcFCrqdWlk56nZf6spf7s5dYN6/lOvz6ew61bG4PsU8CI/j7wAf8wQ98ur/oeVZ6p817xdj7SmYOsTeCyJf8yad8wzdpu4/h6GhjvV985dnobhcRyKf80Zd8y7drzN9nzf/8du18Ylp9nQ190pd9IzB9/sboxN+NzWf8/9YvC5yHWp2ffdKv/Ru/fb5Xfd6H/bNl+9SAAskfAueH/sgfguFv8+J3fNzQfY5Gfj96/bGdkOYfgucPfyMQf/In/+en/lBP+3CVuO6X5O3XLPeX5e8P//Gv//u3//Qn9/VPtpQGiH8CBxIsaPAgwoQKCVpb6PAhxIcNI1Ks+NCeOosaNxacyPEjRyhDhhgZObKkyZQwSoBs6bLgmQovZ27rN/PmQY84d/LLuPOnzp83gwp1ibEoTqJIX4pM6fTpyqVSDcacSrGm1ZZKs1LsyfXj1q8Qw4pdeLSsRbJoHTZ96nZI1LU/q8o1iLXuWLwQvep1qLavwL99zwJOKLjwP/8oPt4+9REX8Ue6gO9CNngYL9/KHTXn5FyQsOd/lwErHrL4tOnUqB+Hjii5L+XQo+Vmlt164Oy1oD3nxguFh4/gwocLN836tsPXemPzRl67OfLeZXdzli73N/Hsw0+wRA5ROV7m1Z37bG1d7Hmu1DWnL4tdu/bj3hOCryuePfno3ttbXV+Z/1dQ7ABfdjycYMJ8D9Un133/5XcbgFNFuJR/kE04VT8C8rAhhx126MOBGvmBxRo2GcTPGnIQhAaLaEi14FoNWvigefshVyFiF0qV4Q478ODjjxsCCaSBCFaEBQIqOFCDQUIUUIAIA/UDgAQUUPCiTIXJmCONtul3G47/hem4VD8/+NAjmmmqaWB3EfXjABb/NFKAigT50YgQUQo05TJWwYjWlkiJQ0orpIgj0UPazAILLufMdMwvmdTCj0PPIaSLK7DoMhM/srQiCjGIOnROKq28csxMgxZ6qF8PHfNKK7GU19IuorQii4kKhflPP7lUIsqmaI25FBQ3qHlsmtxVtEYB9ggkghAH5SklAGSgMQ6WiAUqFDHSzPOtNLu0ulAu5exzrjPauJQJN+1y48isB1laUD+g5IMPvqxQCtI5q8DzLzyWjKuQNsPA8y00sri0yzX0OCxNqAv9dQs4DtNji7otiWIxPZ3Ea1CY/Hxy8L+E5MrVsEWVeSay/8gqSxEXDgwUgw3S6slrARtEgEC2Wp6c1SrfCn3KwAidU0495547SkvJuOtuJgvNS1Au9+KLTz65tPQKwP+CU4zEDoEi9LfCfGzRKRzTs8rPli10TsMch9ISMWrTE0vbBIUpS9f/BvtVykUV27LLEQBx+OFk2PTCBo07DsQ/XESw7wwz2EyQT0f0PFneS1VzMNnwJNN5YAsRk7TS+zizL0e1PN0uI6T/M/VArlyNNT6utORJ3/PcEvZCm5D9rbgfJTOP2vNUA3xCuthtSkux2I2KWWcTVMg8JP8rSlmB/1Qm4S47kAP55HMh0BplqL++imXwLJAJkDd5M0GsF/VnWf/b7rQM6EKLzjxCiJE6dNlPI657XewUQjuB2A5fVtMdSHiXPYD9TiF/Ed7wiseR46kNHsuz4EJ2YTdORG961VtIK7S3ve4l6B8/6NENYriDGBqLhjO8QYgoMo4CrOEf9lAAGXhlv2kZpIdLwZ9Y9LeToJGNaAA8iDqQljpAtKQar+NG1BRovYHowoEO/BtHSDFBr6EKhAthxfDM1pK0cWwVRTvIOaShtkK0pBh2i8UJFVKKMfqNhQl6oQwDKcgavowiOogAEkpwAYFgQQECQUMOOjC+OGFhBkUAAgM2BxvZFYUYwxCaMCJmRoXowlzoYhVI2OUuRzhLiwvpxyhuNwr/Tj5EHbzzGineeBBt2EJo19Aa3YRhsWGI0jAOKUXcLobKj7wCHPdw2Ce2KJAw9YMQXasELYHSQkDS0IbdpGEh3bSEGQhhInLQ3D/WgDgggKEffhDCDHJwviNmiXNoIVUrUuEoXR5EHJi4RC4KyJF+JCMTv6gFLRc4kF3A4hIabEmvRPEKsPHTIOrAhSgMNZNzxEIU+hTVQrTRUVm00iXEIIUrwJiQXf2jVq94KOC2ecMbfrOGMQxnCw+CxK8oES/e45Q0xWQjMAUVMD/dCTdrqlSc5hQm9dzkl1qjUKMOtTUs1ctRcfIDpXIVh21qKlWeupxsYrVL0IHQjYral6ze/2SrXa1pCL4KVoLslCs9rQtbQTLVtVY1NFf16TZjKAPB3mCwhT1sYZk613/UNSt3lUteP7LXskbVr2ql7Hy2OtjNEtawm1XsXBtrlceuJbIcmSxgK+uZv+J1m5zd7Gs5G9fFhlVbZE2tVC+L2xoRVbW3+UFsDyuD2M4WOf04AxBssATriXYqpBWWWcfjW82wFrKuLSxssavdwRb3NnJwgA2EUIEN5K25UnmuH3M7Xfz0Fq1/HC584yvf4XbXqvtahgCM6FTbrhcyqG1tfxFT3dK6dr4Gpq9ckaMKAPhBp2INz20BrF73UtiyAdYMcA9s4Pp6RwUqKC8DXiBiLKijxP8mPjGKU6ziFbP4xKpoMYxjLOMZm/jFNL4xjmW8jWXkuMc+RrGNfyzkHAd5yEaOsTV4fOQlt7jITB4yJzOsYflyWC8iAACWs2wkgRyyTzp1wBGKUIQz8KPMZj4zmtOs5jWz+czLaDOc4yznOZv5zXS+M57lrI5t5LnPfkaznf8s6DwHetCGjrM6xnHoRcO50IwedJRZMFxJy4DSlp50lUNzSFUkBA0Ptk+ErXub/4q6wqvVrYS98wNKV1q+rEbwfIQQgQbT59MMCjWBR43qUvPWqrvOdWYlLexKD1vYLGBBpjWzBgA4wEoUCGJtfXZhwJAa2L22sKl/e+xiE7vbksb/QII5o44WscjL+5V2tjVTbehOezC/Znewty3veW872WA171LQi57osjfdlRkwvI1LA2LTu+Dgpu257elv/747vdc+dbsR8wMUFLzi9m4qvpGi75jqOuKYxfbDb0ODilf84AgfSMaLsnGU8dtBHq8LwB2OnIkfm+IssDnOa27ykzPW1jHCdcA9s26ZnxXkXvJOP0ZO8aXfnOlM3/nJUy6UlWfFtBsZ+r5fLpeYZ30+SkcB2MMudrFDHeFS/wnVrWJ1jWCd4wsXcMO77p2vj73uYC87bc++k7RrhBih6AQrimlMh+hiFM5wRcYgCqlf/AJbUiuqOjDBilHMoqQgEYco/zyBClkI1G0O0UYhOgEKlX6EGKxYReBBqpBcgKITrUi8XlOBCk/AYp+6gvwrJvEJUsQdJGv/CN3tPna8L1bvOOF7RXKBj3ss/x7AHGVCYoG1fORDH4LfyC/8oX1/vEMtClVHPJRWj3g4/iPiGAY9nkkPUFSUIMS4Btle4RJZcAwczx+8QizBMWlQ9CP9+MQzPdMwLNNBhMk5nMIYSYLlVV0L0YDwCR/xhZbPAQrQgUQ/2MI9ZGAGDgMnqUU1UB8I5gP1gEQybN/21cLjkYv41UM95EIFDkQr2M31bcZCeAI9kA00fNBpmQLyWIwtdOBCJEPFcMwIfoQIqd8zyd/tLf9ELPQNPCiM3CGHA6IACVChFVYhFlphBN7bBObPC26QBmbg8sFeZyjELoQg9Q1DSxyDCWrfL6SgQlzCAO0DLOyO+llMKjzRQWAQ2cCURWhDD1rMPCSDHhaE86gN9ICE9CAhPRQhQoRJKPzLGInCF27E73GEA5KAJm4iJ3biFmJcFyZRJWoE3IihBuogQqgFMaBhPrBDJbJhG76hKynELAxQPcxCS6CC3UAh/iUEDw7PDFLE56gNONheKoaQ3dhCS9yCwyAh+y2hQqRQ18yDErrd3HUiNnpiuEkgf4kFKjRfBjriMSoQO6DhIbTEObxDGx6D7CjU6aROPQQjRTAjx1z/AwF6XjQOjy0soEbYIMd8QvsJhDqgH8dwD0hoQ8MgIS8+YlDtggqBgzwixSVuBA1ko0WOwCfmlPHdBPJRhDisAvPdwyqQYRkqRC2UI/WhQu8NxDGoI/f9AidN1S2YUjncwijyQww6jDfc3zgqxDl8gtDYQkRGhDYEjcOswj3iY0J4ksWAgjqMYi7I0TOJQufpTVG9QjAczDXkIdG1Bg2MAFiGpViOJUZuIxd2o1j0wy7gwi5UJQ0uhDroAi4g1EyMwzEcAyomxF6JQy7oAkkOVDHggi6cAy0dBjHcgi6sZP3swi20peolRFziwlBWhDjogiyUUR6FVCnkQlKqXQOS/yVohmVGttBG0sQoembHvR2XtFfIeSUIvCZsxqZsgsBoGoQqKMkGuEhBCIEkbcA8/YMciIADmOVMlOZLdKREttyMaJ1uKCZqet1sRudregC4hZoJtEAjFIECxMsMgIEfLEEBuEg/RIAONELN0BNaHl1otB3LMSdacJ01SqEHzCd91qd9esADEOdBNIIANIJARMAUJMQGRAsZIAClOOdCGKdLIGdRTGREsCcDuud0IKhUOKhF0MB9Zih9YgD9PAQZZJJAtIAOIMQyIIDiFEEHZIWCtgSDCoWFPgSEPmdr/huFLsWLUgQNcAAHeICO8uiO9iiQ5idCkAEWcAEXFCkXuP8IFkSAidRADBxEP5iAkQCBft7EioJEi2pTas6oy/mahMpFjvLofP7omJYpdWZZljHJP9iAlLapCRTBP4ABiP6DC4wovcTABjgeiqpoKPLUaUqIcq6magIGfLan1wHpjyJqouZnhMmBAHjZBSABvczABngEGDjS7GjSWH3pV8QooHKqetRociZIjuqoqZ4qqnIAh1rEBowoGRRAn6yBndZABMjBMiwDtvCDAizBP6ATUlzpR2TpTtwoHHLpcnrpoCJGP6RAqjarqTZAlRqEHEgAAigAF9gEF2RJBDgAtzqA/JCBAyCAzKAnuhlrYXhqhfYVxCUrYpSqs6Yqo2pE+UX/hKgiBLByhLAmRaAKFahmRaFG6HwwqwVwwMAWLMEe7MByALT+aV/c60bk61DsK1X1a3/Uq4u2kMAirMYarAVAK88JhMNqBMTOBLHOornyK7KeLGQw68a27MB67MeGrEWM7EuUrF5arJayK178q4wih8BaANAGrdACLcHCLM/JbEXQrEvYLEKgq42qK2fw7KcG7NBW7dAabdT1qV0x7NNuqXp+bdTi7LBirNWWbcdG63wg7VVw7ahOmMryFWuCbWukgNla7QKYANvWhdpGhNJqhcTCrc7CnNjqa4KkwAQcLuImruJawAKgrXfsLUT0re/97cfJLY1S7FcYruJubuI2/+7H9lx6Fp3QDW7EYq5USG26Fi7nru4EeG7Maq1j5e3Feq3o1i51kS7JYiwETMDu9i7v/q7vuu7Rwu5oyW7Orifu1izU3q7pZkUKQAD0Rq/0Ti8ECG/Whq50ua3ldqnR2W5opMADUK/4Qq/1mh3xOpfxji3tZu/b7mzyLm0LfQAEhO8D0K/9zi/9lm/ene95pa9C9IMsrIIwnAKuBOQ0kUI0PIIgkN5GnIMjKAItLAJm3qxDiMMi0AIgLEJeckQxoMIwmELtGbBA6EInDDAp8KNG9MMtnMImrEIBF2JBqMMr2MImdMIunGY1tIIpmAIq9N9KFZU2gMImmEIhdGbqBv9s/c6vEtPvEs+v/hYf/+ab/yaEGGXPt1RjLyJEIXQDOXQxOehCJfLDImADNmRDNtDCX9ZPUJ0DLWBDOLwxLRjjRhTD8uHLPXSCW5YOucyRS7zCHd6NCIOCBjoMA1eEPYBk+t2DNExwAQbV+ZGNLchxz96G/NavJV8yJj9AAjguckDuQ0iuQPCDMKQRCjNEEHKxF5NDNFRiLZSxGZuxI7RjUDHCG9dyODBCS4yCKS5fIeOGQ6yC3RDiR6iDHHGMMAChQhxDMzajJ7RELgRgALZCZiLEKwyP70xxSXrHB2QyN1vyJn+uJzsEKP/D8VgzIyvlQexCKnfxI7REJpDxK2f/wyIUK0Jggi2/MSa0RCfUcUjaJPQhhDCpjR9WhDKrzT0IcxYbhC4w4j0k4kfEAjSnnziCTFCFgjVLcxRSsiU3QP1y9AN4tEdrMiffRjgvxDirQzAMDzRI8lsiRDGsMzkEgjvHsxnPs8kiBC3fcwJ9BCg0X/PxJDofhC3YjQ+TojPVY1CpYvotM9uABC5E9D2wwjQfhChYcy5ldGtscwNw9FZ/9EdzdVd/8+ti71RYNNkQggH3QzSs81UPMy3QNAre9C7dczikMUUoX0jiwzCwtCkvBCmoTVODBCuozdzAsJScQgA6DB6BRDV4Q0T38jQFVTGAA9lcg123rTZvtWZv/zZnb7VYDy9ZS4U6UAJlwwMl8HVfK0QyCEIXA4MllDJBK0IZT0MmxGRR1QItwHFct0QqSMPyOUMxILMCiQI0QJMRU8Q5DLbDFEJR/YU2eMIzXcMr5HFEEAMG3oM3VBA0rp7BzIMtQDZmI8cHdDZ5a/ZnX2+5ikUyEANCG3ZBaAMxLEM//Gk/aMMxbAOMqpU93CVsyysxHEN/+/JDVMN/48R6t/c/J8QxxPdN8EMxEMO8/nAtFUMxBHh4U3J5l/cBjHRrlLRCjLMlQsR808b7+m3zIgXqdu18jPcCaHaLb/WLN8CLbzg4R7HGYbPyrm+/ta/gnvhUfECLL0CQyziRC/85kdP4WKe39zKcjzdoWjX5UgC5kE85lVf5AiA5aCs5+44ulB/vuvK4XvSDBlg5mU85lqO3woH5WjjthW952HZ5UYx5AizAnNc5nd95nRsAh4eGhycEiGsE08pLiU8unN9Eird5aIw5ni+6nc+5ntd4aB8r8hZ66abs9nKGnCdAnWs6nXM6pz96gugABWxFnyPEn6cF5e7WpRfGoTt5gmiApse6rM+6poO6d5CBBACAuSUcVAUuiVN67sbtkmM6rRd7rNv6bYxDBJCBrturjascjsOvjnPvqhPqoINFC2nAASTAtnc7t3+7txPAnq9FDQBBIzS7g0W6oE66r/Pal1f/O2Ro+wHMO73Xu72Lu0acgRBcq11wQRFwQSv1AxYMfJwshCpMAcIn/BQ0RBlQgD2c+67TFQIUAAIggA6MwzZkvMZvPMd3vMd/PMhrfCOEPMmXvMmfvMijvMqv/MkvgyqwPMzHPMePvMzXPMzTvM3nvMm7vM73PMnjvM/nPCfJu70XPb3je0UcgQLYAAWogEE4QAfUwAVEQENMSQlIqUOswQp4GNergH9GABbIQRkAABqczRlQwK3i6qa2O1qwuauz/YQCO05ogAEYvd0jfUT8EBj8Q4nql0D45+w4wBLMN7p/hLNFAJVAG6+vvZq3/bVzRKBn87sPu2bQfd0bwOVn//4BYP7m4/13FICJlID8HAQFSOqUTAEXAD5IQLyzqzvKsnvjB92bw/1a9EMGYD7u577uY77nP0TMDMQM1EDeNFKfvIkKiEABuIQqOEDEo9yzT120m7j2Uv7rT76bt4bl7772GwABOEAMfP/3F7xwdiu35kDkjOs/BH/buI/iD8Rv3s/zo130E/r0X/+OW//9t4btEwDv9z9AGCBgQCBBAgQiHFGosMy/f438RJSo6t8ZBP0clgDikOM/NAq4dOTIT2RJkydRVqyQkmVLlya3YXw5kyZNazVx5jzJT51Onz5v/hRaM+hQoyzt9Ty69GRRpk9F9sswkGpVgVYHlGCJUf/mP3UKyPwbh+CMWD8O14A82RCqyDMr2/qMGReqU7pGed5lalevUL59dSYFbPTvYJ1SD14tmBir1ppCGOjYUAIjFgUOFTgwsXlKvyUidMxA0Pet4ZdzTQNN7TPv6pyFXbeEHRulYNo2b+dEfJB3b98EsuYkA2QJyX9+Qv7Dsnz5mn/LpgApgoY03NwdUV+Xrd1la+4pZ393GP67bfFNz7fc/Zs9cMfpfZYWnx1+R/LcvdfneJ87/+vm9RsvQJP6uaC99oIbsCb5vqMvQP9yy+9BBfej8B8AJ7TQIakGAM7DDkH80D0NX2KQOwdNs8cPe7oC76VxjmnRKFXkeElClJL/oeipZM55iT9+jhnnKXWOscfH02J86pxkZDwJQxzFuQ1C7fqR4EMQsQQORAHeIzElE7VDETB79oiDjzjyMJIl8s4hhBx0fCGlyZzWEEEAAByYoqUbSyIGDz34gCORo0oJpJtuBNFmu61I8WUdYAjpcSh1WgEGHmBEUdNFlsQBpRl4NkllTpyO8QQceDjRZVSOnixpl1PgAWcVYmKbUjsDB8g1Vy115TVBL7+07sRV78qDj2OPzWPRlCZBx1lnUxlqGwcAqBYAAcBgic+OtKkDWT7s0IZYl3Zh5tBDA9EUPZZSWcdddycxqhB46KW3kmVP6keSeum9ZdyWzhlmnoHn/4GH1pRa7egYaOApGB5holzN1usu0NXiiy/uEliTwLxOTL3ssePbM4XcFKVinn02mn9ZmsJaa1UgdluO9hiZjz2GGuRQcs5V1WSUTkHnXXeT9GkcZPh9WCmUwiMmaXhWYTklWQgmOBSklj7JEofrjcW1iXOrGOOxc+Vy42DP+/iuZAAd2Q9iw9slZWd9kRolIV6udgNtszbJ2JGVFUqQc3nuRtSfT3J06HV2EeqYp+FJZk2WdHl6k6FiqXrgT7BmKRSu6W3la2DFHkAAXU8vG3Wzzz6p49zUpsueN0a2o++SwjtmbnRWFgqLvAFYgW+Wah4ZZ6EKObcbnn1muiVIFv9H5xih1AkmaV/UNSm8Yp6WZKhcNJ+nkM5TeuVpryUGVgLT2RfgdPfbN5311kt6/bbY6Soe2T3GJW+QuWUxqQi8rABhScnMHCIOkSHLDsuwG4GIYa7CRaNkzmOJLBY3CKOIImmWwNdJPpG0XEzKFlUDRzHIhxJtCINrw4hYasB2Gwm4j4Y1tCENNUY/h9iPNviLSz/28Kc38O+DJjlHJR6BDk6U4oEo8YMKClCACmRreCwpBh3iEAc6FKOJJ9nF4B4xCFX0zyWy4AScKnG7nNiDFJtYRyRi8S82tWIT4ODECI2iDVAAAxqdaFwKT+YJZCDjE+IanZdmeENF4lCH9RP/lnbkUMHU9IMf/OmHc3zURW3xRxWNeIk9sieUfvRjHCxyiRzUqL22SGpPmFQPK5dCypd08iXqCKVpUInIRe4yhzrkYWw6AAZNpmYZF6FQEWJgoQ0YcECNuAyFgFADC1GgLCRK5LXch8070fBaAOgl/X7pmmAO0zTFJKdpkKlMZgbImRaK5jSrqSEJYLOb26RnNr3ZSLc88jrjVJA5j5lMCi2TQu2EpjQpRE1E5s2ed3rZnb7ZujM4AAgVtehFMZpRjW6Uoxt1wAs6GlKRjpSkQNBBAUqaUpWStAQXWOlLYYpRB8QgpjVd6UltmtOSimADOvVpSBUwg5/6VEcomac9/4HXTWtF9Gz8KEIOoBpVqU6VqlW16lWtWgMbYJWrXfXqV6FaA7COlaxftYFYy5pWtUpVq2t1a1rR+la5etUGW53rXbHaVrzO1ZNLscc29BlYwQ6WsIU17GERm1jFLpaxjXXsYyEbWclOlrKVtexlMZtZzW6Ws5317GdBG9rKdvKcnOVHI1J5nX74QZL6sUZfRVuTbawotrX9hypEUAAGOEBB/KiAAAY0A90WYAalhYocIuAABGxEP2uIQAEys8768IMCBTDuXdTxAt0iALa2/WwHYkCS7tYHCLm9Ll2WsIyHMGAJ5zGBNOWAAFemZw1kwIgQFHBeupTXugGqQQfUq/+K1Hr3smsogDWMMyDklgG4FiqBDsRjDQDU6B8qgLCC5ACA1p5nwf2tzzgKsIYEE/izU4iACRiggCIEqB/LRIOHm4kAtnDHwMbRgfAUJJkA8cPFMKZvAWzAAATYQL8k3lgOzloDJdfAvkUAwBH+YWDq3GYNS7aykISQzDUAQDtkSPKSbdCRcWygBkUeShkKwBEgUGZAYJBvgIQwA4/4+DxkAECZG+GAJZjZyBoqghAAHWjqTKEAxhGBEPhMEzkEmtHq2EYBkIAFvGGhqLFZA6MDzRF1dKAFif5JhtWUgxcMiAwyDlAxj4AFIAAAC+qFz5blgBEbuKDPnM2wUjawYvj/bCMGvTYBAGLwtvrYowQmGDF37GHqf3RACAEqA1g8fZRl9DoGvw52fdRBFofMQM613qwIYiCHIhRgvK+ms3sZMIUpYGHK38nBBdZQBARU+jwGnsG6sQDYAb14QDnowBq4gADpetuyqphBBVQwX/3IQQXB3cxmoCwee+jgAiWIJ3zK8PDNlDs9DB/QxC8gAmESnOQlN/nJUZ5yla+c5S13+cthHnOZz5zmNbf5zXGec53vnOc99/nPgR50oQ+d6EU3+tGRnnSlL53pTXf606EedalPnepVt/rVsZ51rW+d6133+tfBHnaxj53sZTf72dGedrWvne1td/vb4R53uc+dKO51t/vd8Z53ve+d7333+98BH3jBD57whTf84RGfeMUvnvGNd7zdAwIAIfkEBQUAAQAs9wACAEgAEgAACP8AAwgcSLCgwYMIEVo7g2ZcQoPW1pRpdHBNgDX/HmrcOHDcjAICC+iw93AZEAkAAAiUAKZgkQBAOMpM2E9EgAhCAjgIEONhGQAFROjIUSElF4IvY85cShDLTYcBVDEIUCbhGh2q/mntZwMAg34C5eQIUOOMwGVMZ9qcQjBnz41a/6kTAEBOgH4XDB5Nu5FfAQBoB1rcCTcugroCz9TgOVAVQj8cwR60i0CyQJIAoD6MiwZA5YFJN77UuBhhVQcZB/4DCVmjVnURACgVGFqjxYdFyCRsWSH1wKkYXf+LAWADSdAw+S7VHYEfwdUB/FhG+G9sBIpIk2u0ttExQosIfAedcA54ow6d2LPPTjj6YemDmNURhKxg+kEgABz4ES/wiPaHummEBX8E5dXSQEgEYIJGQnglh1Z6BTCDcs8RmF0HqdkTQQB7BUAREr41qMCDEBZEUQFjRWchhQLJteGCYHQQQAeWVaXAQGSkJGMMb11E0BIEdcjiY3kNJEJgAtk4EBYqHQQGf1DJN+RmZl3En3x2CTROlgZJOSWFJbIYEAAh+QQFBQABACz3AAIASAARAAAI/wADCBxIsKDBgwgRNiqzhl/Cgv38oEGj6iCZAI0eatxI0I8IAAIVIPn3kJ+IAgQdTCn4IgCZfhxjIlzmIICIIjoQBEDy0F4ACi4C2Ngg8AjBli9lKiWYI4AKmAHQCECwLGE/VVAD/BMSQIHDqCUCGBXocylHfgoCyCGoQqxSeygz/gNZMKPZjWsAOCA5cEkAE0qXAShQFoyIAFzJIlyzsRFfgysPEywTIEJWjcva1niM9PLBoBqXPC7ItS1BOQAUeDZYgkIEAQqAlBXYWSOYIkJw687NW85qgUACzLjcaPDogxQQFACAoMa4oy5/30XIdcVo1Aj+HTfYr9+aDgA6QL5P+rCixm0J/UoeSHnvRu3/1DkAcJF2dI2gH4pGSDnCaCwBhKURfCS5AEBiAcQQABgb+aXRGQmpg5J5As0QQHAPESjQR2MFoMNO0ynVUlMCNVJAAWsJxBgXAzXSD3wCobGcbwIxyIAORqkTokZ+6JRDGVhEEEAOj3ElAl9AMGDDEVgc4YIAAMzAV3c56FTijhqVUdNANXwlkJF8LWHlQAgAwc925kmH5UD8gGGUHwZVZZdW/JyBRRFIlKEOjAEBACH5BAUFAAEALPcAAgBIABEAAAj/AAMIHEiwoMGDCBHKCSDnX8KC/yJGPDglgMOHGDMOLBNhYIQyGCVG5BIAQI1+BB0E6HdRo0uDaAoEiHEkBoACax6KVKUAQICTKVe2fEk0wIUARS4WAbBhKMSJKwrYPOlwWwAFAc6gCbDGadGEawAwQCmQHwOGZBNyASAEiEmWAcgYjJD260MhMwu+CID3oTUGFfi5pRpg2dUAYASW8SpQLkZ1CWMEADIUSIAZjAfazDm4rkq4D1Vi9JOwRIAjBVGbyBwXgA6WnYOCTrhESBHbuG/rtpZZRIApQyv6RjjOgQN1Ed2ulM3arkHTSFIHMJFwBgAyLP/FHvi5eQDSGPklqXQxuaBlyQfDlpDDXk4OAC7kNOIuFKPoh+APWgY6cAZfhGsBIOCAAgYgAlkd2ZORDhkZhlAZAEQwVEcgpRfDhRheEGEMffWzAUPOvdSPSmCQtVYE4glEUk4CTTRQZy7mYBRewIWI0VoIFIEUAgGQNJBpQpAlUnJvDfTPMiYIIBBdNmKEhEwCFbBEXUAKOeR2Bc3nh3dNLoNFAFhYY9B8DrYo0jJyqDJQQAAAIfkEBQUAAQAs9wACAEcAEQAACP8AAwgcSLCgwYMIEaoKsMZewocGywSQA7GixQCqTAxEIKRiBwAgAQgEAKafQBsBsFxceVAdhQAbiuhQAAAIxI8bOujUecZkAJQqWQoV2LGDTzkFCvh5+FHOv6dQA/xbsyKAzQBo1A21+M8BgJ4C/82wyhSAU6hPpSooCGDN1opLEfgUyAVm2bNopZLRqEMgmHEIKUL0M7cgmAAvCVJcm/BjiQgSTCzh928g0IooIXZEuCSAiLn9FopsHEAATZEblllOWVEixDWFCR4JoJGgQwBaD/5bgqayPSxea/9k/fZiZxEFRccemFeqHJBLhwd9uBCiaoR1LxSkKFc3WrQVAASmvQwx88PNBxdXHkgmwIX1Bb+jRd45QI4AUyrWhdgeYT+acszV133eydcPAyRJVUQAQixXnG4oxbDeMjS5JRBF06nCD0H/CAEAArlJpEBfR1T3oEI0jcXFSy8Q1Nl7AiGhQA1FYFFEBwEAgARzQCAwkoUnIrRGBAMB4EJuAr24HhYFhAQSA0vAN5BqcjgUpH/8tLeEYARZE0B0AqlTxhRFIFEGZQIFBAAh+QQFBQABACz3AAIASAARAAAI/wADCBxIsKDBgwgR+gkgp1/Cg/zklFnjkCCWAOoeatxIEE2FgQ7IVEz4zx4QBQMLACH4URXHlwnlFAjwIkANAQXIaLRXAgCCGDpmSDDxb2BLmEgLigiwUuASABFGHly5YRlBqxjRRAhA5kyANUWTcmzkU13YAFvLnC24rECBhQfXACioQKrYhEsCECVoI4COhEgA7D04DoyDABe5riVYZuO2xQNzBOhLsEgAFQljAABSRkWECzPkFDyqkcLGNQlrAjn772KHhCIEAygQAUGAAmBGkn44ZaMqyAIxWyYIJsAF4MYBAChh7R+/vwiwBth9l6Pqgq4TdvDpUmC/CwGOGMMN0P0h3If2EtYIIJmg+MEGTQB4TfDvjPHlE5rWiBqh+BUF/dXeQToIVpAQAbgQFniNbNTUQw0iJBcD/Zy1QQC5IQQGAPsJ9M99OlRkQgBoIFfdQaZNUVEZACiQkUDFNSaQPQ4AUEZFqiBgY0UrSbDSEiaeKBAZsyGIhG15DVTTgK35JEQZSxw24kDqrDBTAHUJqREWtglUgBBrLTnQP/8gcWUAALwwzkEN+hGklv+Mw0UAU0g3kEv5kbkNF0Us4cdIAQEAIfkEBQUAAQAs9wACAEgAEQAACP8AAwgcSLCgwYMIEaoKsMZewoP/IkYsWCaAn34PM2oc2MjEQARFMnIBQBLAQJIhBdYIwGWjy4TjJAToEECHAgBCHpbpwLPnBpJrBq5s+bIoQSABRAyUU6CAn4cS/wmcAoCCwH9rVAQQgiYAGnVGXf5zAKBrgH79YgRAijDqQBEAUv5DUBCAHIxhM8oJoACvwJY0204U6AdAgYUB/pEpUZNMADDjEO7N+BRhywsFgzJIGDWiDgArCg7VuDJjEb8FkSQt2ChAAdQEO48NQKafVJUsNZIpIoS3797AgyIMqZVgZAD8BEsEA8CB7dsBRud9qboE6tYCoBd0qwIAkOdCc2esRPxwWUIsATag3quA88RlBQBcHBxd/MPSD08jDOqAYD8w6bknVREAiPAcdDYEgF5GCz7kGEL8IGAXQTnUpF1sE1EAAHpubeXhdC+tNMNtqtwkHENFNCjRGgAgoE5nAjmmgA4BHGEeiA81clMNZHAh0wwEqbYBhjMAUEOHVwFBVwB2wYZjZv0JBMALDg0kZEH20LUGkmdhZJ4cyT35UD+OLTEZQdZYhKUc89EXEAAh+QQFBQABACz3AAIARwARAAAI/wADCBxIsKDBgwgR+gkgh19Cg/zknFlYkEsAa/8eatw4cM2GgQ64ZEz4z9qMAgMRALE3sgNDjjAT+lEQQEUAGyjBPOwXAIACHUVqoKzR8mXMowRt5hjJBYADewnJAEDQaOCZnsvsoakQwKLAkUg3LhNQwNrXfxcCgOF58AiAEgT/OQAwEUDBAv3Ahk1osYNeIDf5AnB5VgEAP+rASAiwRGcAvQTRiE0IOEbBJQFEJLTnQIDjf0LesnUpZyPhh2QgD6wRIEdBnRVUD/TTAcCFEhECrDArkPRGLkKKBB8uvHhVhDMCACZYJkAEtgdVnQRg9yfU3kb3wmStQ69OCgmXzdLV0aifnBWDR2dPePyhuoQ6AszQOyXAaYM6ALh4/O9fvwoAYIFdaRrdh1BqCNVXAnSgyZeQCABMkVd//+TnWmbrISTERgQe1MhU1wmkWX0I1YYEfxnVAIANAr0QABnQaWdaAEewtcZU2wxEhhBkDJRDehRaMxeJRTi3nGwyEnRGAQIAUcYSDARQ5GoOCuRHAYNh8WQEAETwXgD2xIBSAHghmWQA/XBBk0BN6sVaclZx2RN1HfjBVn8BqPLVmRqNY9EUehakZ6AD9YMGEkcsIQdbAQEAIfkEBQUAAQAs9wACAEcAEgAACP8AAwgcSLCgwYMIEypEqA5NGVUIly2cSDGAnIoE1dUgKMLPv4EiBPbDSPKgCYJcFPITyCCAEBEAHEAUGDLAyJIlWwTYKBCMQHUJlwRwIFHgjAAzPga4EAALzpLWCggoKnBDAC5KDZZwSXAZgALqGhkEkPXp0xo3DUYIQKZgSzD2AlQIgEQgmbQ4Zx4UEuBFQacdEkoAACbtPwUA+AaoidesTYQ5Atgo2FZCQhUAdPzb/E8OgMw0RToe6CchT7xohpZFCQDBmn7/xsEEwJPx6ImTIxNsuxbhPxcBCohQwQDABdCLRd9WCCRAjL8BrPruV4SC1A1kThYJ/Xh544FORax/dp6Qc8G1Zwiumbh94veCQAduFep7M0E0MW8+97l8Ycj2AhVQgDUDlaEcZ0pZUwEASCh1xEAA9mdQagYpJlBkzwn0zwU2CAWEAwCYYF8AKw1EloQG/QMGAgXhhSFBEQAwUAE58DMiihWpA0Z773Vn0xlLHMHFMjfiWFE/PeIUEAAh+QQFBQABACz3AAIASAASAAAI/wADCBxIsKDBgwgR/lv4L6HBfnIC+Ek4zqHFiwPLABHBIECBhRf/cXEwcMOaghskNsTI8qAIAB4BfASZ8B8YjzWKqAiAYGJJlS2DEkSyZE0jmQxXHrTnAACXgTkCqOgXQF0ACgHAnAmwhqpQjElVyQzAMOHNCwStFRCwLEDEggW+siwrNm5ShDYC6CgoIgCWqgEiBJhycavFtgpB1iVL02WAJQVnBADiNaUfpQhTWiyDmSDdsWURon068N/eGj8vW/xrsVFNhotDHxRMBuRCIQFipO4s1+Fnu40NVgAApl/S05WB9garGHTwgh0ALEn6T/JegZZ5o7zIOXHD2M8JzpEAAARziccDO0j0mhC3RZ8HwzrXLnAKABHs7SEAAH9FgNrLzbVQXXcJRIZAK22z30lkHRFAB+y5F8ARSARoERkxxNACAAJkGAODAUiG2kBFAKDAEhqtZZhA6rwwUFwWJlQiTAIBYCNpIQYwIoJACFAjAjgW5Jof7MVYkDVyJKlkklYVpNSAUxzBRZNG9hbecgEBACH5BAUFAAEALPcAAgBIABEAAAj/AAMIHEiwoMGDCBMqRPiv4b+DaALI6bewYkU5QlZECACgjMUzQEowENjvIUEdAZBYXJlQiEAAAjpaVMGxAAAAJU0KRKmSpU+CZISUGUdB5sJ/S5CsGXcz58N/a2YE0BERzbifWP8V9Xi0YQB7TR0G+OegoFGsLLWeTSgWLE6x/8qsCGBDIJhlCOVctKiWq0KH/9w6NcmzIsqFQCge3VqxbVivO1NWPLNQCOXGjLs+FCw2ck+0WTP/dci5c+GFeFHzFc3Wa2mdpxUeVpgY81qGrh/rBBLgiE6EYCoGt+23dcPXA5dMBU2wn+LFtyUGmKIYMHKBawIg0FHkiKrnzA82RhIYAwGAEgKxDOQSIMLzMjHi34wf4/JYIQpeFg9vUO/BGuu199wSNw10EwDUFWSNRPbwl1CDB6ky0FV+ELSNHBhmiOFVAQEAIfkEBQUAAQAs9wACAEgAEQAACP8AAwgcSLCgwYMIEypEaG1NmUYH1wRY82+hRYuNirgYyMXiMiASAAAQKAFMwSIBgFxcmXDJwAIBOi4sA6CACB05KoiUKRClSpZACZ4JQMZah5gW1+hQ9a9pPxsAGPQTKCdHgBpDAywLyjXAUZ4Xm/5TJwCAnAD9LhgE2/XiV6Bi/yEwK/BMjQAxBqpC6OfiVItvWYpFAwDB3wA+LaJceNctUsFjIwD42TNl0oVFyKwMvLJpDAAb7BFM3LYr57BWI0AcbXmhNYt7HbNdqCOAg9WsKSdcrLAx4McXgQBw4KdiwSOtFWpeiMX4wtMKhUSV03RtgBmlB1aXbRAiEufSFVBH304QYgGrAYpnTzhuIIMAIgQiGVgmgIKBZEQejZFXoMSBLnG0XkKxGbQCffYNhMVIB4HhnEDtBaDOgAgdltCEZ0GYoUETBgQAIfkEBQUAAQAs9wACAEgAEQAACP8AAwgcSLCgwYMIEyo82M8PGjSqDpIJ0GihxYtrgKhwILDiQn4iChB0MKXgiwBk+l1cibCGQAEAAqhSqdBeAAouAtjYIPAIwZMpWQoliOUIGnsIKFrsN3PgPyEBFPATiKZEAJ8CbQ7dmrTpUHsiK/6LWdDjVqFJzQpdBqCAVjAiAkDNinCNxUb/LnalyXKZigA18goEyhdhzoVLBC9My7IEhQgCFADROhhl4YNgigjRzHmzZzmXEe5dSQFBAQAIaoz7afmsa8Ys+/Vb0wFAB9ZBFUZcuG3l6JX/gqtzAGBi5dwJDytMrFcp8OB5XQCYGyBGADAWl1g841tm6IPQBYtoAIA1gI4ASFy/dk7QLpeBjfpBp3oatEDsDHT4VKd+4ZoZAom0gkC5QSWCYEAwYMMRRbkA0wyCyZZDUh31pxB2B1FnoGBLUDgQAkDwo9hAu31noUD8HWTNQMuw9w8/Z2BRBBJlqDNfQAAAIfkEBQUAAQAs9wACAEgAEQAACP8AAwgcSLCgwYMIEyo8+K9hw4NTAvxbSLEiGB0iEASI0I+iw4ZcAgCo0XGggwD9JlZceTCCwAIb+alM+FGVAgABSBI8mZKlT4JCpshBAyACP48PVxSIMbLntgAKApxBE2DNzJ8V+/VbU1TmSi4AhABpOpGMQY5Yf3I1utIagwr8xpKcuAxqADACy1wlaHahuoprvVJkuiaA3JICee41eHKhH8BdK5IBoCPl4Z0oFxdcIqRI58+eQ1vTXDAw6YHjHDhQ13AsSsw902INTHEGADIp/102mdkxxaMUTSvkWkKOcTk5ALiQ04h37ISNFT4OHlkhWADYs2MPIKKkS3sUdVBrrEvd6OmqMdKrv1A0hhCB/TYEkCM7Le2CIQsLfDjwMP8cAVzw3hTn1RcAFzEEYAIASwnUiEolBCBESR+11tRA/yxjggACoWVgQuIdpF8AEU64X4W7FdScHwXWpwpC4DkYAHknOrSMHC8KFBAAIfkEBQUAAQAs9wADAEcAEAAACP8AAwQoE0COwIMIEypcyLCgEBUOAgBY0xBhBwAYAQgEAKafQBsBsFQcSfKgDoECJFIkeXFDh5cvz3gMAFJkyZsMwRQpY8/BxJIX5fwbSjTAvzUrAgARiEYdzqcCifpcOTIo0aL/FCT8CRXqv6lAAQi9+s8oGRMBTgYAM46hwZF+Zlb8yrUqgBIRJJhYwq/sx5AkQY4UUpIu1YodAghQgDHAhmUHa5IkOHKN3IaGSf5bgqasPSw+0f612bV05pFXo8rB6Gc0SVUkIWsGO5cs0QoAbEoeKbgi4dl1GdomKiLAEoE5AkwhyYUkmcK0MQ/vx4Cj0SIBhFwujfM0QoOkVfFfQ/hPCAAETgcGUHDyCGzucAXGQABAdHOBxy/4RaKgRhEsRSQGABIH/QMEAhsdBt9CaDCklnEB6CcQFgVkhBEDS/iFEGRy2LNgRekpJFsA1gTQ2kHqlDFFEUiU0ZdAAQEAIfkEBQUAAQAs9wACAEgAEQAACP8AAwgcSLCgwYMIEypMyE9OmTX9CmIJoG6hxYtkdJRQEEBBRIv/7AHhKLAAEIIVAqi6yDJhh5IdPy60VwIAghg6Zkgw8W9gypUtgxI8smSNHwAeL57csIxgU4poIgQgcybAmp5ChR5NunBZgQJ+EK4BUJBr1pZbZSZEAoAnwnFgHASYOBWrwTIWt9lNmNZiDABAyqiIcGGGnII/LVKwuOZi34Ui2gIoEAFBgAJgZCZeOMWiqr0IHyu8AABACWv/+OkIgOBpgM1ns4p2aRNogH4XAhzxqdJi2JmOkapFaALAS4KrZ/C2nXDxwsa+hVvU0bagkAAusOZuZPHkQu7RzSZ3BAPAucB/ynV8NBEADejYwcULBBMAr0B7DgCU+agKgf6PJ0lw0hLvwVcQfQGoMFkMAsnx0QsB5DDQP1jYJEQZS8jF3kDqrFCAQPIZaB1CZDwY4YT/IPGhQAC8MM5B3PlRoIgCuVZQRQKtxNw//2zDRRFL+CFTQAAAIfkEBQUAAQAs9wACAEgAEQAACP8AAwgcSLCgwYMIEypM+K9hw4JlAvjpt7BiRTlCVDgIAEAORYVcAIgEMFBkkYE1AnCxyDKhDoECOMqpWKaDzZsbRK5BqbKlz4JcjpSxx6DjR4UO/wmcAoCCwH9rVAQQgiYAGnU/s/5zYHRh0oEiAJwM8A9Bwa5ZW25Fy/ChQD8ACqh6SqZEAB1kAoAZh3DmQj8W13r0mvSfDgArCqZcuTDlwiJHGXIdjLTwRjL9lApcXJFMESGfQ4MevbOi4MgHC4MB4CCz5gCc06Y9TfihCgBAXPNkrHDuwmWBJ6M26DDAsgIAJrqF3bNxRcimhdcOUASACNevbQTAUpH7wrzR2SJkLE4BAPevU9PL1iqd4Joi3sk2XAMAgbrCAvMqeHkE+HqFfsWAnFQqaYZEABsQ1NAMANSA3lNAmCXTcP8NFNFBQAx0YIIE2WPWGg8G0A9FwMnBT4UJYXWQfwFYI1FB9sih3HIBAQAh+QQFBQABACz3AAIARwARAAAI/wADCBxIsKDBgwgTKkTIT84ZPwa5BLD2b6FFi2WAlFAQoEC/igr/WZtRYCACIPZAdggg56LLhCUElvRosV8AAAp0FKlRsoZKli+DFkSyZI0qAB5BJiQDAEGjgWduLrOHpkIAiQKVCn1pDenHhUcAxBz4zwGAhwAKJt0atOtahVwArMz6TwEAP+rASAiwBExWhGgsLrvo9qtCew4E+A3wT4hYmwFWtlw4VyEZrQgLYz7opwOACyUiBFhhbaBki1yEFFHNerXrpxY1W1RFEkDanPZMA2XLVrbCZWZ1NOonZ4VcyKcXwlaojrDXzQV1AHDB+N+/fhUAYBGYXGHlpdAL+o1OKALAlI/W/0nPIVDEboVCLE5eOB6hZyTVK9YAYEPgiwBkQMZbW88VRIYQZAyUw3HpWWPWFAIVEUAEQPw1oGX+pRWDQGsMVEMAMwzkRwFyYVHGEhEAEEFzAdgTQ0kdGXbhQUcghFUAH4YIVYo32daBH5BZF4AqFs54UGkHjTMQkUQS1A8aSByxhByQBQQAIfkEBQUAAQAs9wACAEcAEQAACP8AAwgcSLCgwYMIEypEqA5NGVUIly2cSPGMQAYBAPyjqK4GQRF+NgoUIbAfxZMITRDUOJHfxQBCRABwAHFkSZQ4CS5BEsBaRpEKlwRwIFHgjAAzRF4IgCWnU4Lqfk4sAZPgMgAF1DUyyPIpyqhdFUYIQKYgRjD2AlQIwJOsSa81F4IFmlACADBvA/xTAECIzQB5vd6UK3WhCgA6/in+JwcA4r+BvfrhWFghFwAI1vT7N04mAI8BSAIWnHPuxH8uAhQQoYIBgAuPQw8mfdL0wn/9ilAoIGADGZVFINOendC2wsUFx1ocuGZi8ImRDxpPiHwgmplvYwQAM/xr5YFlBi9HFmmtAgAkIo8MfN79YPiDaAbmCKBd4L8LNoQCcQDAhGKBLg0UVnsDtWUQFiLNV59AEQAwUAE58PMfgRSOVtIZSxzBxTITBgQAIfkEBQUAAQAs9wACAEgAEQAACP8AAwgcSLCgwYMID6pCc0ZVwoP95ATwk3Dcw4sYBfrJ4QAAAIEb0GD8x8XBwA1rCm6Y+C+jy4NLACAwoaNGBAAFzjz8ByZAgRpFVARAQPEky5dIB4IRsu3fv372TADo0C+hvY5cBuYIoKKqugAUAoDRuaZq0qRO/8kBIMDswZ4XCForIGBZAIkFC5w9m9aaR34JbQTQUVBEACwBvkYIMAWjzot2RzqdAqDCQ8NLCs4IAMTsSj8tH668WCb0zn+qFABAnDBu1oH/CNcwCvoi64eNMv6zJwKA0IeLyTgN4FRIgBi0Te9Fyk9oh68PKwAA0y9t7AA1PB9djrSfiwAXLF6n7ABgifV/mwmD3J5w9MPSD/vFAHDBWsYZAIAoLxEgs8AOE7mFkHEXFYVQP/hJoIpyCVEmglv2IACAgSsEIBx3LuUAQAQLMigQGQKFto2EKRF3RABUDURgAEcggeFDSHhUQgw0DuSQQJvNNlARACiwRBlA0PWYQOq8MJBeLyIExEcH4RVAjgT9A4QAAsn0mkG5+SFgkgMt42RBgBVkmlOqTHEEF9AJFBAAIfkEBQUAAQAs9wACAEgAEQAACP8AAwgcSLCgwYMID6pbU0ZOwoP/Iv47iCaAnH4PM2oMoE7IBoIOpmB8eAZICQYC+00kqCMAko0wETYKAECEDR0daArJqIJmAQAAVK4U2PJlzKMDVdnwgzFikQAFrCX8twTJmnFAhU78t2ZGAB0V0YxDSnbgPwcAyIw0KDGAvaxtzxYEUKZs2X8XAoCZGtEt3L7/yqwIYEMgmGUIHWZUDLPRT1V8I74NKnFlUY0tMwJZm7GfiAAzOBdsO1nrwMsZz2QUonrjPyABHEiN7JdyX6Iu7d59qeDiw8qlK+M2+hBxRuO/lwRAsEYj6b9DUT/M/HDz7ynLmzvvG/x2ANhHhiJ33JuRPMJ/WJafEX1eYvehyqnr7seeIJYCBdYnDiBSIHDoAzWHgA5FHKFKfboJJIcAAeRVEBkDcRFABGuVEcOFQF0YQ2sB/COEAgLRlWBCHBp0RIQTrrUEUAMBBUB/BEklhz0jIqROQrMFMJYfBG0jx49A/jhWQAAAIfkEBQUAAQAs9wACAEgAEQAACP8AAwgcSLCgwYMIEcpJmNDamjKNDq4JsOYfw4sYA/Qr0oEggyIXlwGRAACAQAlgCoIEkrElQnsCNwgUIVAHwzIACojQkaNCSS4EV7ocSpDfjIUDpwQA4CfhGh2q/kntZwMAg34C5eQIUOOMwGVEwxKsEGCKxYtS/6kTAGBhvwsGgYoVS3NJxrT/ELQVeKZGgBgDVSFsihFrS2tZ70pFAwCB4QBCL4K86LflvxYBTJxFqzYCAJYDIzOcyLAIGZdHAiiIqDgGgA0wQwcAPTcsFgEI0GxGuzUCa9m0G2IUjFFumaE2HfwGjnEyw8oMwRQocNolEAAO/OwWmDo4wuoMsWxqLyi9AJjxCYVYlSM1boAZtQe2T3gaQEqEEZFsVq+A/XyCERWwVQDaxYeQKgUEEIFBYBh2nAIDkVFSRzEAJhBpAtk1kFwGGkTYQUA4qNpAWJh00HkFjSOQOh0eFNtBYK0YAFIBjENjQSwGBAAh+QQFBQABACz3AAIASAARAAAI/wADCBxIsKDBgwgPWlsToFFCg/38oEGj6iCZhg8zahS4DIgEghLA/HvIT0QBgg6mFHwRgEy/jTAPlglQQISOHBUEcnmJ0F4ACi4C2Ngg8AhBli5jKh24RoeqkQH62QjAgOfBfqqs/hMSQAE/gWhKBDAq0OfSswLVnZSj1N5Jh/8AGHSI9mw/BAHYxlwGoIBZMCICcC2LkGHGRlA3ogGA4CvMZSoC1EiM1CrCoBmXJM6o7iOQjSUoRBCgAIhZgZUzgikihLXr1rDlWH4YI8CG0w8pICjAuMa4oy1n14WpA0AEuhv79VvTAUAH4EkfVsy4baOOAA6Qb/zHXZ0DABdRB5bPiPmh5oxAADjwo5Q79wAuAAwOUBuMxiUaz2QUAoCBXpjuQSUCAGQFcB0Sw8V0BAAKrLEZQQxxMVAj/bgHFm+yCWQfAzoYpU6CCZEh13MF/ceVCFABwYANR2BxhAsCADADVMrlgJdA2oFIEBYJiSTQiVAtceNACADBz4MBTCecjgH8htCHHGEk0D/8nIFFEUiUoY6FAQEAIfkEBQUAAQAs9wACAEgAEQAACP8AAwgcSLCgwYMID6o6c8ZaQoP/IkY8OCXAv4cYMwqUM4MBQRFyMEqMyCUAgBr9CDoI0O+ixpcF+wEJoGBFgBkrEchxeXCkKgUAAqBUyZInzKNTkKgbOG5DABVGC0oMsKJAjJMtA2yjGeAMmgBroh4dSwYAA7EGuQAQAgTrRTIGI6QcS1fgGgAK0BK0xqACv7YoLy7jCkZgGb1wMS6FKSRACb0Dr64JAHiuwJVZH67E6AemnAIBymAsq6NlZaKZEy4RUoS169awrUEmOI5CgByzxzlwoC5iW5aoZ9dNqE5EABP8MM4AQKblv9MDMQvvjDE5RnvGS9jDeLeEnO9ycgCNcCGnUfSiGDc/pJ7QXokAIhY/VAugvv368OdGCLAdo46MgyXEjwoBdCDfQ2vEoOCCFwAQQQyNseRUSMO9NGAAG2yFUEmTCTTRQJV9mEMAFzQ2hXDDzfSUQfy49J4Qc43kG1YD/bOMCQIIJFeFCfUzQ3sDvRijjNAVZJ4fKNalSkI8mReghyMtI8eSAgUEACH5BAUFAAEALPcAAgBHABEAAAj/AAMIHEiwoMGDCA+OW1PGT8KHB8sEkAOxYsVxQC4QjIClYgcAIAEIBACmn0AbATpaXGnwH0UBInLk2BAAABKIHzd02LnzjMkAKFWyHCrQT45GP/8BCYBA3cOPcv5JnRrg35oVAZYGQOOUqFeB/RAAOPMUQNSpUqsqKAhgzdev/yIAkJgQKtq0/8iYCKBDIJhxCClC9PPTIsUC28qWiCDBxBJ+/wYGrYgSohCW/GhWrhtAgAKQATYsk5yyIt2Hawo//Nc3QleE/5agiWwPiwMAe0+Wfuv132UGhFdTrSoHpEOgux+qqjga4r8iARQITngXbQUAKidD3Jzw8uoj0eWoiD5YfaqIAEsE5ggwpSKXimRWp0fgtmL5f/0YkKwKXch43rC1hwAaCVEklCr8EOQbAE0JJJECfR2xHIAI1UdTQWQJlN4FkQWAhAI1FIFFER3UdJNASiEwUn0UFpRXQlP8tGGHWBQQEkgMLNEhQaPJYU+LB71mEGACWRPAcQKpU8YURSBRBmQCBQQAIfkEBQUAAQAs9wACAEgAEQAACP8AAwgcSLCgwYMID6o6c2ZZQoT85JRZ068glgDqHmrcKNCPDQcEO6zZ+M8eEAUDCwAhWCGAKo4wERYJgECFjhogC4x8aK8EAAQxdMyQYOLfwJYvYyodyKXIOKMB7IkIIAIqwpUbHA7Uqg5NhABkzgRYY3Wp2TUACpQtuKxAAT8I0RZUUNGs3UZp6x5EAqAownFgQF4Eu3ZgmY3bCidcEmCDYoExAAApoyLChRlyCiLdSGHjTo6NEATg8lBE37QRRBcAo3ezxikbVT0uaG9DgBizA1wAAKCEtX/8dNDUGsC1XbP8TAToYC93h59JA/S7EODIUZcb4Wq0t5GfiuXjNpqhANChoPAZ16Mn7KzxM8J+LRon3qijb0EhAVxApd5o40qN/SXUTwy6bQMTGACwJ9A/6OlQl3Jo5HYcQf2gR4F6BYERwGEC2eMAAGXUpQoCINa1kgQrLSHhcTMFoFxB1gz0QgA5DPQPFj8JUcYSIL0okDorFCAQXRM+JBxCjUA1Y40L/oOEkAIB8EJ4BvXnx4p2EWeQXi+p988/2zS1hB96BQQAIfkEBQUAAQAs9wACAEgAEQAACP8AAwgcSLCgwYMID45bU8ZPQoT/IkYsWCaAn34PM2oMsA3IBYIRuGBMyAWASQADTRYZWCMAl40wEa4JIEBEjhwbAgBY8rBMh59AN5icKbDly5hIB8rR0WjgPyABENh7KPGfwCkAKAj8t0ZFACFoAqBRl7SswH78CgAgerDqQBEAVgb4h6AgADkjzSL95wBAWIgTBfoBUEDVVjIlAuggEwDMOIRyNDqMGbkAWcBVdQBYUdCoxpYZi+TNyO+jDqpV+QYg089qUZcayRQRMrs27dtsM/6zEUDCZcwRwQBw0Np1AM96y/4TEsBBU9QTVQAAUpwl7IyGMy7TuDwAg8i6Jy6LU3sx8PHrD0E/FE11pQLw4a0WASCiuHHeWDTmz8g44T8kASiQG3QBUABAfm59pWByG/3DEwIDErRGEfvNFdEaACCgTmoCMabAaUdsxyBCf+VU0F8BAGjiVv/MAEANCW4FRF064TXiQWAkVKGKBdlT1xoxBtAPRtvJwc+NB/1m0GMCWWNRj3KUZ15AAAAh+QQFBQABACz3AAIARwARAAAI/wADCBxIsKDBgwgPLkNzRlXCg/zknPFjkEsAa/8eatwYoJEOBwQ3nMmY8J+1GQUGIgBij2SHAHI4ykS4JAACEzpqRAhQoMzDfgEAKNBRpEbKGi5hzlxKkIyQZQL72VMRYANQhGQAIGg08EzQZfbQVAhgUSBJpmj/+QEQwF7CIwBKEPznAMBEtgQL9DuLduk4tuoScgHw0uw/BQD8qAMjIcASMGYRotkIdSaWABL4FrTnQADkAP+ExL36MqbGwg/JaE6oikGAKVcR+ukA4EKJnSusDSy9kYuQIr+DAx/OlSM/EQFMrC6oCiUAtkPdCuTdt2+/FQEujNO4rK6ORv3krLYgTFqpxuIPA2vsFyP7to06ALgA/e9fvwoALgeg/hB1QtU/zRAABZVpJAIAsNVXX3w5CIScaQ8JsRGECDUYgUMc0YYEfRnVAIANAr0QABmxVbeRhegZ5BQZA+VAnoLW1DWFQEUEEAEQkZmYUE0ByFUQejUEIKBAfhRAGBZlLBEBABGoZ08MKfG0l44ISYgQhEEOKdAZSwb1XAd+XFVfABguR2UABRrEz0AOYThQP2ggccQSclwVEAAh+QQFBQABACz3AAIARwARAAAI/wADCBxIsKDBgwgTCuynsKA6NGVUIVzWsKLFABEKlqmorgZBEX7+DRSx8KLJglgCFBBoYyAZhfwEMgggRAQABxIFkgzA8KTPgv/4tQhwQSTCJQEcUBQ4I8AMoxcCpPxJlWAjgeoSlqBJcBmAAuquFgRgtOpJewLHJcz4kuBMMGgrBEAikExPqjkvcsF416AEAGDu/lMAQIjOkmYH9lW4FGlCFQB0/Jv8Tw6AyId5Jhbox+TWEosLcgGAYE2/f+NsAvAYYGfozQpjCNzW8J8LlSJUMABwAXNrxLArNqWwVOG/fkUoFBCwgYyJAEUyv/45XeA/jxktUi6Y8QzBNRWjV1usbvXi9oFobvaUDSZ4Qx1JFW7UHICyUWsVACAxemSgePcFTWFRDgHIZt0FNiAFhAMAmDCZQDENRBaAF4EnEIEGChQBAAMVkAM/D1JoFloF3dXPGUscwcUyIQYEACH5BAUFAAEALPcAAgBIABEAAAj/AAMIHEiwoMGDCA82GvgvocF+cgL4STjOocWLAv+ZQEDQwZGL/7g4GLhhTcENEhtiXGnwX4EILQLk6BAAABCH/8AEKFCjiIoACCaSTMmyKMNGKgP8W7JTXUJ7DgBwGZgjgIp+AZxSCADmTIA1WI2KzcjRJEKdFwhaKyBgWYCIBQuMnctPrrWENgLoKCgiAJasASIEmHLRq0W3K63NCOAiqcG+TAkuBhIWpR/HB1FaLIPZ4AoKEQogyGGv88C0UxnurTH0ssW/Fhda7ICgAIACMxAjFEzmX0PfQgLEaG167kWIJQBU4JewAgAw/Xz7Xl2ZqHGWvvv1sxdBaliDHQAsqpHue/FegZaLD92sPqP0ADUAnD84w6bjEgEiB6Dp5zvC4BYJlRB5AqlgU0JTACDCd/YgAICAKwTQ23UXqVKabwLJYVsZA5GRkUDbOGjWPx918B2AARyBBIUJFaFAT1isaJsKSS3G2kBFAKDAEmUAwZZhAqnzwkBysXgQFxwRVIAOpQ1kI0H/ACGAQAAgkJpBC/VnZEv9oIGFimSM815BSfmmyhRHcOHUQAEBACH5BAUFAAEALPcAAgBIABEAAAj/AAMIHEiwoMGDCA+qWlPGT7+EBv9J/HcQTQA5DyFq3BgAiAOCBWyM03gGSAkGAvtRJKgjABKOMBOWUGDChg4VBQJ0yIhQRQAABQAAULlSYMuXMZNClBOUDM+C/5YgWTNOKFGK/9bMCKDDIpqRSsMO9FnkKcGJAexZRfvvI0EAZcSK/SciAJaEaNUOZVtmRQAbAsEsQyhnY2GY/V46sId3ot6rK49ubKkRiFmDRQJIQABARSOIeddKHCiZpEYhZyYPBCBiDejRj9EadSl37j9VLREcPjjxX2zZpSEO1jh848QaAWYUhQpbdNHgCSlDtJwUTIANlwWG3jtaIJAAR5YffrSukTzilx0aS/xddAnX2gP7ZReorrjAcRc6Ziw8JWNv9gO5hoAORRyhynzwMaWCEAEsoYMCAThQHBcBRMBTGTFkKFSGMaSmnRAQ/hQXfAg14tZqJnw2EIUWDrSEUKsJ1V9B1lzEGIkI/SMHhUdwoYpBI/lB0DZyFGlkkSMFBAAh+QQFBQABACz3AAIASAARAAAI/wADCBxIsKDBgwgPLhtoL6FBa2vKNDq4JsCafw4zahR4xGCMhQmXAZEAAIBACWAKFgkAZKPLhDEQBKgR4IXACg0RlgFQQISOHBVKciG4suXLowRV8SPoR0GAKRgp6lD1r2o/GwAY9BMoJ8fMMwJBIh0rcEYAHVEdVv2nTgAAOQH6XTA4lCxZFwE6alz7D8FbgWdoxhioCqGfjVtdYimAQKzaqmgAIEgcoKjGlRlpZlwSgILAEnA3VlUXAYBRgZYzVnRYhMxlgh3Aiv4XA8CGnKhZ2t1tTUiAAqsz/vMaYSJR3RmtaSx8tKWJjToCODB+/HRCzA41vwQbYalDIAAc+H5JO7CjdYSuM2IhL3xohIxCssqpSjeA2d0C6SPkp4pyAHsizDTQREikFZ8C8+lH0EQFeBXAePghtIwAz00hkAMBKEBdGRkOREZJHQQQw2ACBRcAZwPVFaFB47xXkAihCcShUwJhYdJBYLA3jkDqrJgQgQIdVlCPMY4T45ABBAQAIfkEBQUAAQAs9wACAEgAEQAACP8AAwgcSLCgwYMIDzYS2OhfwoL9/KBBo+ogmQALH2rcKLAGA4IIgPB7yE9EAYIOphR8EYBMP44wEUpwoCJHgBIAAsRwiNBeAAouAtjYIPAIQZYuYyol2JAgGQEB5CTsp+qlwH9CAigYGQBNiQBGBfpcSnbghQBclNo7ufBfzoIZy5KN0FXpMgAFxoIRESCrWIRrNjblaA8IgA1WOS5TEaAGzwBIEyMMqnHJY4Q5KkQoUCCGNY4lKEQQoADIWIGRNYIpIoS169aw5Ug+yFJgARNxH1JAUAAAghrjjracLTemnxgBGHze2K/fmg4AOghP+rCixm1LvwLh+K+7OgcALqKiHq6R8kPLSosEWHH5YPfuAVwA8KszAJiNSzaeWaqj/sP3PIkAQFgB9IdEcTAtM85lqjgQAHoBBJYWQ/28JxAavckm0H0M6GCUOggmBAYCyHGBRA0IBHABV30FIAJPQDBgwxFYHOGCAADMwFNzOaTIUIgIoaFAQQW8sAxBWb0o0BI+DhQSP+0FYB1xQA4UmFFgWEfQkXH9w88ZWBSBRBnqWBgQACH5BAUFAAEALPcAAgBIABEAAAj/AAMIHEiwoMGDCA3283MGzbKEBv9JlHhwSoB/EDNqFDiuAwKCEbBgTDhRIpcAAGr0I+ggQL+RG2MWXAaAwgsdNi4IXAKxpCoFAAKoZOkSpsyj/FQVBAKAgdGCEwOsKBAj5csA2wIoCNAwwJqnR8OOC2pNIxcAQpiqxEjGYISVYeMKVAWgANiC1hhU4Kf26sOtYASWuRugbUZ1MlWZCKCD8MCqawL0JXoVYsuMfjSKoIBSARDHAskA0PFy8sCWlRMuEVKEtevWsK2BDhChgEAENhAnHOfAgTqJTF1Sni1XYb9+/NB0CFAC7sEZAMi8/GdaIOrZmTPyO7qNAVeEawCUpJBDXk4OAC7kNDpdNONliNllqghwBOFZAPjz4w8gAm6EAPZopINGDx21HE8HrRHDggxeAEAEMQghUD8bBCBHcTI14pxgAgQQ30mRCUTRQH2NmEMAF0g4BXFy6eBADkdgccQKQeUAUwkBCAFXScBZNdA/y5jQIW0bYmgQErYRhICOBOHI5EU8VkfQen6wKBc/ZUxRBBJlBFjQegWKWNIyciglUEAAACH5BAUFAAEALPcAAgBHABEAAAj/AAMIHEiwoMGDCA3+U7WmTKN+CSMaLBNAjsSLF//pcEAQQQ57EjsAGAlAIAAwEAPYCIAFo0uE/zowUGFDhwoBAUqEBLChg0+fZ1KubPmy6MB/jQquKQDgTESRcv5JnRrg35oVAYAIRKPOqNejIgIsSXkQ6lSq/xQUBLDm69d/G04+BRD17L+qZEwE0CEQzDiEFiX6ISuRX5EAEfjNLRFBgokl/O4KHHpxpUQhF7UGQFBAhaqQAQQoGBlgw7KBlCVSlLiG8EEbCEyWCAxzCZq79rA4AKB3Mku3Rs+qyrE5KUyqVeWM9OObaMTPEk+//PciAPGDds9WAEA0dUTLETEXm50SICz27FLDLhFInLxELhfJGD2s83z2fgzk/jssxDVwhNtYU5A1EQQgXkW/CaSKYkcJAQACXQVAkQJ8HQHdfwehUYALmC2Rg1oR/CXQehdIhoQCNRSBRREdBAAAEkcBEZuLbWF4kBwcESTACheKFUCJAmHBFEkAMLCEZASdJgdINmInBxdHHAGGKq4JyNxA6pQxRRFIlBGZQAEBACH5BAUFAAEALPcAAgBIABEAAAj/AAMIHEiwoMGDCA3284MGjap/CQ/yk1NmTb+CWAKoi8ix40ARCAg6WAIx4j97QBQMLACEYIUAqjzKTAggggsdOToACCCEo70SABDE0DFDgomSAV7GnMk04pGg9iK23LCMYFWNaCIEIHMmwBqkTcP2KxDAT8JlBQqYPbhmJ0EFF8PKVSdAY0IkAI4iHAfGQYCMW8ESLNNxm+CzLwLMODwwBgAgZVREuDBDTkGlHSl0XNPRxMsCCHTwiygiL4ACEUIWABM3KcyOUzo+5HghQF0EM8ZFvAAAQAlr//jpCIDgquulcpOvERFgQ2uDOhEg71f7yEDMHNdGjDpTnVbWCE0ArOhQcPiM6685aubIeWa/8y0R6shbsKeLkrUbdYwfUT9TEzwlBAYA6wn0z3k6xAUgGowld5AqoxG0BlntBQBGAIQJZI8DAJQRlyoIdBhXSxK0RJKDEQmhgA1FBHDEC2S9gFRiOQz0DxZBCVHGEn4BOJA6K5AVAFwoJoRFSASFFqFANNr4DxJCBgDAC7oZpJ8fDRYZAD9oYFEEEmSMI1hMyAXwzz/bcFHEEn60FhAAIfkEBQUAAQAs9wACAEgAEQAACP8AAwgcSLCgwYMIDf5TtaZMo34JD/6bOLFgmQB+IEbcyDGADgYEEeiwF5ELgJMABp4sMrBGAC4dYybcwECFDR0mCgQwEbFMh59AN5xc0/KlzKMR+50pAGCNRokUBU4BQEHgvzUqAghBEwCNOqRgB/7rEGDJP4QUzwoUAYBlgH8ICgKQ8zSszH8XApBJGFWgHwAFVFklU8LjXjDjEMrh6EcmPyEBKPDjm/afDgArCrqEudHlxiJ1DwKpiqDACsGU0zrQ209tgM0cyRQRMrs27dtEOwfQKcDE4tQTwQBw0No1bLt2G9kIoEBVaLFRVQAAUrwo54ioIy47+i+zDtcFoy6hY5qxosDjET1HBH13SYASz61WLAJARHHXy7Fw1L9x71HIPKFVEQUA6JeWQJBBhlxH1lhT0DIRBOBWAGsUwd9bE60BAALqVCbQXgroEMAR2y2IUBkFvADZEjnEFcFXAiERwAYETTQDADUcKBYQcQUwV3wmygESQQK4kF0AMtJIkD1xraGjQP1AtJ0ck5mIlhxcHHEEGEcK5GBjS8pRnnkBBAQAIfkEBQUAAQAs9wACAEcAEQAACP8AAwgcSLCgwYMIDzYKcEZVwoP85JzxY5BLAGv/HmrcKFAFAoIMjvR7+M/ajAIDEQCxlzFAhwByOMpMiCDCCh05RAAIAGQkwpEAFOgoUgNljZYvY85cmvDfFAAFMCIkAwDBQoFnAgBYZg9NhQAWBbZkSlagggBrEh4BUILgPwcAJu4kWKDf2LIz+aF0iJALgJdi/ykA4EcdGAkBloARixDNxmUzt80IoOJuQXsOBCwO8E8IW59JNwJ+SMayQRcCCyCwoU6jnw4ALpSIEGCFtYGhNXIRUoS3797Arz4cXSAG5IeqTgLYKdQebph4o8sxEYACS4TL4Opo1E/Oir+goWu+FJ6wdV4KAaYk1AEA9b/3/SoAwCIw9/CNpZfmCKDDtECdU9j13j/s7ReACOI9JMRGSs2EWk8IwYYEZ+8FUAMANgj0QgBk+BSdRqo4R5AcH5ExEBlCmChQDuANaA1c6gVQRAARAMHYhwgdoUANMyIRA0omjFVDAJMJ5EcBf2FRxhIRABCBefb8mJpdOB7ExVl05WCeQEMWiVWTWi3XgR8+VciXf1UG0M8aWBSBBBnbGOQQXwP1gwYSRywhh08BAQAh+QQFBQABACz3AAIARwARAAAI/wADCBxIsKDBgwgTlgnwL6FBdWjKqEK4zKHFiwQVFCxyUV0NgiL8NBQoQmA/jCgRalRRUMfIg/wEMgggRAQABxNJmkzJ0yGWAAIcLgngoKLAGQFmjLwQ4GfPpwdnoklYgibBZQAKqGtkEMBLqDz7IQjAFWGEAGQKzgRjL0CFAEgEkjkJNifGcR9NOJQAAAxdhgoACNEZ4C/YnQ5jEPzoUAUAl/8iywHwmLBhsH4ulhz4wiIXAAjW9Ps3ziYAxpsvH07J8mzCfy4CFBChggGAC5UDpF4NlulQhP/6FaFQQMAGMno56kbMW7VDHQFyvI5c8OwZgmsuKrfoPKFil8CpD1tEc5OuYjC8oWZGvLCwwMjirVUAgGTkkYHb0xtcMnYg0gBVDSSdYu9dYMNQQDgAgAnixTSQV/oZBEZ/BNlQ0IAERQDAQAXkwI94EfJ0xH0O/dXPGUscwcUy4gUEACH5BAUFAAEALPcAAgBIABEAAAj/AAMIHEiwoMGDCA/+W/gv4cF+cgL4STjOocWLAxn+U6UAAIOGDv9xcTBww5qCGySCxMjSoEYVAAJ8DAkmQIEaRVQEQDCxpMqWQAmC5AKghseFCe05AMBlYI4AKvoFUBeAQgAwZwKskRoU6DIGG+TERIqw5gWC1goIWBYgYsECXYO6KLBG7MeVBm0E0FFQRAAsUwNECDDlYlaLbB2CAQAE4lGHfpcUnBGgscCUfvAeTGmxjGa0DCKo+2f3M8GzTTPyreEzs0XAFhs5jAHAM+nHCQeTQbpQSIAYrU3HRUimKMGjwgNUAACmn8bVXDEnH17QAYK6cuQsVpA9YQcASzT+oaPM9/JPh5wdekZYAID79+4DAKh4cAZjvCUCSBbYQSLXhL5Z1JNB/cwQw4EHmgBAAQfag9AUAIjwnz0IADDgCgHsRh1GZAlUGllkCATSNhWeFMA/RwTQwX8BBnAEEhuGJF5pBFHG2kBFAKDAEmUAodZhAqnzwkBwxYiQeLfNNJCNQgEhgEAAIJCaQbL58Z+RBYlnjxwDZpnRRlMcwQVVAwUEACH5BAUFAAEALPcAAgBIABEAAAj/AAMIHEiwoMGDCBMqRPiv4b+DaALI6bewosWB/ToEADBR4RkgJRgI7PeQoI4ASC6qXHhEIEeKCVVsLAAAAMmSAk+mXMmzYCMEJhi8TPhvCZI142refPhvzYwAOiKiGddz5b8SBRoJ7ciwYQB7Sh0G+OegIIAyVVUuAYDk31aYB8WCtSn2X5kVAWwIBLMMoZyKfxWqQrCh4VuiDucuLamz4smFQOAa/GeiwJqxh7s+VCw2J8qKZxYKCZ0QS4DImIdq/hrWq+edaS2qUhDBnkC3quMmbu268cK+vxPOADBloBwFAMAEULeas2uonxc+Voj6oAiFXJrzHggkwBGcCJUvaxQ/WcjTgTFomghwWXdD5ziXQI89UvJC3FwlBpgC0+E/+ANdhoAORRyhin30EZVZANlFAFcZMURYU4QxkDaWEAq4hFaCFuEHV4NwrQXAQDURZ581EtnGYUX/+CGHigJR5QdB28hh4402UhUQACH5BAUFAAEALPcAAgBIABEAAAj/AAMIHEiwoMGDCBMqRGhtTZlGB9cEWPNvocWLA/+pEEimIsJlQCQAACBQApiCRQIAwchyIZeBHROWAVBAhI4cFUa+HJhyZcufBZcx2EAhQEyEa3So+se0nw0ADPoJlJMjQI0zApcB/eliYgWjHhcy/adOAAA5AfpdMLhz68WTQPoVPSp2LIKzAs/UCBBjoCqEfi5KTWiNQQR7AeaGVTgWDQAEgwP0tJhy4V6FMwCUEaj4IlN1EQD4FDh5oUSFRcgoVG3DY2eLTGMA2ICYp0q3LMc5cLBt4GuxVSNAJFhaoTWLfxHqkEwwQoApAXovXO5gOPHbCysrvHywa8IjC4EAanDgZ7FA8KMTql6IxfxAJH0JIghQwqhCIVDlMGUbYAbujO4p9BtESISFnwL67VcQRAVUFUB5/7H022YKwDRSB3zFNxFBSxDUVoQWTRhAhQJhQdJBYJg3jkDqgIgRRC0O1CJaAo1Do0EtBgQAIfkEBQUAAQAs9wACAEgAEQAACP8AAwgcSLCgwYMIEyo82M8PGjSqDpIJ0GihxYsE1UUQaE8hPxEFCDqYUvBFADL9MKpUqGNgx4QdKbgIYGODwCMETaJcybPgGgE2AAR4ibCfqpQC/wkJoICfQDQlAuDk2HMlPwoOlgklitFeyIr/hBasWBUjkABg+G3lqbXASzAiAiylenCNxUb/FK4p4OKf2qErl6kIUCOvQJ1IE85cuMQwww0IIv7lmrAEhQgCFADhinghmCJCQIsOTVpOYoNnSQaYfJECggIAENQYl/Pk6bIK5RQQgZT1xX791nQA0KH2ToURF25LGHfiQKFyAC/8R12dAwDOA3RWuFhhY4QbE9p/VUidegAXAOYGiIHW4hKLZxK2LCiUvR/y5QWKADA1QEskuJXlm0B2cTFQI/3kFwAasJkmEBgBMKADTuoEqNKAcgUggmFAMGDDEVgc4YIAAMxgGHA5IHCghRhhuNSGAi2hIkEIAMGPYwMldxuLCUWH4zIUDeTXGVgUgUQZ6uQXEAAh+QQFBQABACz3AAIASAARAAAI/wADCBxIsKDBgwgTKjz4r2HDg1MC/FtIsSJBOQUCXJiY0GFDLgEA1OhH0EGAfhwtqjzYb4PAjQo9qlIAIMDIkidTrtwpUIhIjToNOgywokAMkSgDbAugIMAZNAHWBOW50E8BFWSAVuQCQAgQpBOzFoxAkmrFfh0QNMoKc6E1BhX4fR05cRnTAGAElpkqUKxCdQuPAEASgC3fgkfXBJhbVqDJpApNVlXYCMGGsFoVkgGgAyVjnJATLhFShLTp0qitHQ5QooCcvpkRjnPgQF3DrydBrzZbcAkAIBwNK5wBgAzKf58HPt4dwA9FfrIROHgtcEkACs0bE1wDoISc73JyAIdwIaeR8pwLJSt0flBVTYQItA/kCqC+/foBRJSNEMAeRR0U2XWQNTEUJMJdNfC1RgwMNngBABHEIIRALQVAHW88CTdfVAM9NBBjHuag0YRTMIchQRoKVEIAQpTl0W1IdbiMCQIIRNaJFqXIGosuvphcQeb5YSKOAQBmHkHmCSjQi8vIocpAAQEAIfkEBQUAAQAs9wADAEcAEAAACP8AAwQoE0COwIMIEypcyDBhvw0BADRqKLADgIsABAIA00+gjQBYKIocqfCfEI0TKVrc0KFlyzMdA3wMSbKmSDkFXiCQKNKinH9Agwb4t2ZFACAC0aizyfRgvw4IVO1M2dBnUKH/FCQEsKYp039FAEz5N7UngJ9X/w0lYyKADoFgxjE0KNJPTIZ+CogYWlYlgBIRJJhYwk+tR5AjP4o82fCfiAJ++PJUGUCAgosBNiw7OHMkQZFr7ipEAqBIR7KTGf5bgkatPSwOALQ9TNOrzUYILvATiJrqwqu85VyMLBOxSFUjN/9eAYDLQTk7y8hZWjJt0AoAaHYWqZgi45IQGQKHICOat3Wge5cIzBFgykjnIsmoRoowRgEAK2LIKT/0fD8GGw1VRABC8GebTb0hZFBtqux2kEkAIEAdQQq8dQRyB37Vl0DqXWAYEgrUUAQWRXQQERIPAoGARl1liOCGAXRoGBb3YQQAA0sYhtBmctjjIoJ+yOGgQNYEQJxA6pQxRRFIlFGYQAEBACH5BAUFAAEALPcAAgBIABEAAAj/AAMIHEiwoMGDCBMqTMhPTpk1/QpiCaBuocWLBBshCBCB38J/9oAoGFgACMEKAVRhXLmwhEAH/xbaKwEAQQwdMySYiCkQpUqWQAsuAVADQISICk1uWEaQKUU0EQKQORNgDc+gGFUp6IAGAEyFywoU8INwDYCCCpBivWiigByzRxUiAbAT4TgwDgJMlHq1YBmL2/oa5AJASFWvggvGAACkjIoIF2bIKejTIgWLa8AqoGDvcNyEIugCKBBhYwEwaisvnGJRVeKBLaoKNPs14QUAAEpY+8dPRwAETgOoXnsRDAAdSOGqPdih5s8A/S4EODJweEKyMhH2Y6Ags0DCDia/nQ5gAkCHgr5nVE9pGTNCfmcT9nutg25Bwy54Sm9k0eRC/gf1E0NB5dkE3WvGXTbQP+ohJ5AJAaAxHnELweXRQGAE8JdA9jgAQBlIqYLAh0iZJIFJS0xIoUG09fVCADksiEVNQpSxRF4QDqTOCgUIlNaKGClH0IsxCvTPP0j0KBAAL4xzEH9+qAjkQPbIESVBKj0XwJHbcFHEEn6oFRAAIfkEBQUAAQAs9wACAEgAEQAACP8AAwgcSLCgwYMIEypM+K9hw4JlAvjpt7CixYH8KgQAoEohFwAgAQwEWWRgjQBcLqpcCEQgR4VlOsicuQHkGpMoV+o0KKdAjAIvFTr8J3AKAAoC/61REUAImgBo1O1c2W+DgmVAOzJ0OFAEgJIB/iEoCEAOxakWhQDA8i+r0IcC/QAooPUfmRIBdJAJAGYcQjkV/Sz0U0BEWLdbh+oAsKLgyZQLTy4scvZgvw4FGh0OinBoQwcByPQjKvBxRTJFhKRerbr1zYRHAhwh2pbzQc9gADgYTTqAabQXGyHYMLC21s5cVQAAwhsnZIXHEy7rrBzMwJ4AzgSQevshVgAT4fqDzhm5IuXbFxTu7U60CAARvHvbCIClYv2F6w3+a0kwhgAALgQAGHsBULBWWFw1pSBwUxlH0BpF3IegUgAgoI5nAu2lgA6yTcfgRQ4OhEQAxBX3zwwA1DAUQfuNtZFZH1oUokAjljiQPWOtseJA/VA0nRz8xCijH0ASZI1EBdkjR3jiBQQAIfkEBQUAAQAs9wACAEcAEQAACP8AAwgcSLCgwYMIEypEyE/OGT8GuQSw9m+hxYsDVSkIoKBiwn/WZhQYiACIPY8dAsjByHLhCoEdFfYLAECBjiI1RtZAqbKlz4gAbNT0iJAMAASNBp6hucwemgoBJAok+vOiNQYX5AxVeARACYL/HAB4CKBggX5UqyqMIWCNn60JuQBIOfWfAgB+1IGREGAJmKkI0VhcttCoDpVwEdpzIOBvgH9CvM4MkHLlQroKyaQlOM5BhHGIYyr00wHAhRIRAqywNrCyRS5CisSeLbt20oQzApARqFV0QlUiAZS1aa91T7UYywCY4bH3ZoLLxOpo1E/OirmTXS+8rVBdwggIBAusNKpg5WSDOgC4ePzvX78KALAI1K4Qc0LNCEcmJHxQBIApaLX3T3o5CCTCcQoJYZFlB+VGkAoAFBBDAKAdVBoS7FVUQ1ACvaDbeci15BxBZAixm0A5YCegNWJNIVARAUQABGAhYjTiQDUE4GAAfhQwFxZlLBEBABF4F4A9Meh31nM1GnSjQDnuGMAZQ9IkXAd+TNZeAKrQ2ORC9sjhB1VddklQP2ggccQSckwWEAAh+QQFBQABACz3AAIARwARAAAI/wADCBxIsKDBgwgTKkSoDk0ZVQiXLZxIkeAyBgEQTFRXg6AIP/8GihDYr6JJhS8EalTITyBGISIAOIAocGSAkidzEgQzcGXCJQEcSBQ4I8CMkAEuBMCis2mAcQ4q+Mm4sEQAIRYBFFDXyCAApE4nzgDQc2GEAGQKYgRjL0CFAEgEksHZlCbFqT4RSgAAhu4/BQCwBrBJN+zNhQ7UBcC7UAUAHf8i/5MD4HFNkoYFTk3Y8TBjhVwAIFjT79+4mAA6E85MMcbAzwn/uQhQQIQKBgAuWB6MmbXJMlQV/utXhEIBARvImAhQ5PJh1oUJ5jVot6DkgmfPEFwzsfnE6AM7I1e0hvD6QDQycbrm6dskbIHAn0tGaq0CACRIjwz03n7h+wA5BOCaQP9cYANQQDgAgAmRCdTSQF/1p9B/AQ4oUARkCVRADvw0KGFODyJEVz9nLHEEF8t4GBAAIfkEBQUAAQAs9wACAEgAEQAACP8AAwgcSLCgwYMIEypE2E9OAD8Jxy2cSHEDgIsXAwAA00/hPy4OBm5YU3DDw38UUyK0uKGDS5dnPIIJUKBGERUBEEAUeVKlT4IW/fT7RxSlQnsOAHAZmCOAio7qAlAIACbmmo4/UwYdWnThzAsErRUQsCyAw4IFsqrcWtRoQhsBdBQUEQBLgKgRAkyZGHNh2YQWRUSgYGIJv4V0lxScEQAIVpN+3K6cWEZySQACFGTcYE0h2KUD/8mtwTPyQrsLGylcgoaoPSxJnybMS4ZoAKJCAsQobVmtR9sC/8m5uPNghY1ciY5+3NM3xbZtj2PpLbADgCXQGcsVCJk6UMreoRecTex9BgAgkksEUFz9IdaEuRcWNyj+Xz8GAMi8LzgFgIj39iAAQHErBFCbcxSpclhoQgCAQFQCkRGcQNsISNJtRwTQwXvxBXAEEggqdIQCNmFRRAcaLfEeY6QNVAQACixRBhBj9SWQOi8MlFaICGFRAEYXMTDFfiwS9A8QAgjkIGgGqSYUjwf1o04ZS3x4hj3hhfaPKlMcwQWEAgUEACH5BAUFAAEALPcAAgBIABEAAAj/AAMIHEiwoMGDCBMqRPiv4b+DaALI6bewYkUgB208THgGSAkGAvttHKgjABKLKBH2wxih4JGFKgIAKAAAgMiRAUqeTMlz4MoAR3Au/LcEyZpxNW8+/LdmRs6IaMb1RPkzaEqHAewlxfrPQUEAZaZarCpUIVatNrmWWRHAhkAwyxDKqThXJcYNFyJ0EBLXrEO0SjfqrFhyIRCKB38CCFBAoII1iA+e3dqQpMmKZxYKyawSDBh1Afqh2RCAgVSGlQFjFThYrGuB6lrulPyXcuWclxf2VbgbZY4AMyIXnJz2Nu7ZCQsrPMxTSAC2qB+qNo7RqkIwFbFfdREgR1mBDv9Ndx+5BPfrkMILqusdoAzNsALnTkEcfvzANQEQ6ChyRFX68wP5UYAKziHxgkArjMRFABFEVkYMENYEYQycBfCPEAoIBBaACDWCQEEF6ADaQAs2ONASNQ1UEwDzFWSNRPZwKFk/a2ABFBgvFiSVHwRtI8ePQP4oVUAAACH5BAUFAAEALPcAAgBIABEAAAj/AAMIHEiwoMGDCBMqRGhtTZlGB9cEWPNvoUWLRw66ULgMiAQAAARKAFOwSAAgF1Mi/JfRQUGUCcsAKCBCR44KILkQNAlTpU+BLE/6XKND1b+j/WwAYNBPoJwcAWqcEbjsZ8qgPX8e/adOAAA5AfpdMKjTqkWsZgNs/Yfgq8AzNQLEGKgKoZ+LTQ8GrTAQCMSrR9EAQJA3AE+LJhfGXZmxIAIyFc9yjQAg6+GFEhUWIZPwX5my/9aICICgruQYADbY2yk0rWt+Y7N2hhrh78DLCq1ZNK1SSAATkRXqCODA9u3Wmi0uVrkkgIjCCIEAcOAn+MCMsg9yXojFukUbchcKZlkq5yjZADNcDzSPkB9vgWsQBCgbACKS4OMVlGdPEGIBqAFUpx5C4/w20AwFOFdYGQEoMBAZIHUg11zwEdTcQPQNWFCBBs3AoUAMOigQFiEdBIZ3HKqj4Urz0WWQimAJNE6MLwYQEAAh+QQFBQABACz3AAIASAARAAAI/wADCBxIsKDBgwgTKjzYzw8aNKoOkgnQaKHFizEOFumXkJ+IAgQdTCn4IgAZjhdTHsxIoSAXhfYCUHARwMYGgUcIljypsifBjGB69lOFMsA/IQEU8BOIpkSAnAJj+kwJdGpBeyAr/gNgsKJVi1W/ClwGoIBUMCICII2KcI3FRv8SZuzQUkQRdT6XqQhQI67AnUUR0ly4xO/KgQIERvATGGEJChEEKAAi9a/JxgbBFBGyuTPnz3IwD+RCZik/MhECVBBdkAKCAgAQ1Bin87LYr6oQ2F7Yr9+aDgA61OapMOLCbT73Arn4r7k6BwAmWiaecLDCwj1rBNBhGGHz5gFcAItYGyDsdYtnfN6EmvC7XxEA2OsIgOT2RWt4CXIBIMDPQLcvCdRIP98xBVtoAgXFgA455WefQWQgkBEXR5jAFXcDISWCX0AwYMMRWBzhggAAzOBXbznoJuCDB50BEkEICBGYhn4toeJACADBT3cCGcfag/ygMUURSJDh4EDLUDTQP/ycgQWRZahTYEAAACH5BAUFAAEALPcAAgBIABEAAAj/AAMIHEiwoMGDCBMqPPivYcODUwL8W0ixooODayYidNiQSwAANfoRvNhPY8WTBi92KOhH5EaHqhQACBByZICSKHPa5JfTYYAVBWKAxLktgIIAZ9AEyKgT5UWeTbkAEAJk6EQyBiO4bErxaVNrDCrwqxpy4jKjAcAILGOyINaF6hReNBGBggouWxUKXROAbF6SbQ9eXOhHboACHwWWsBfYLQAdJf3axKlwiZAilzNj3myt8cAiTNUhQUDTs8BxDhyoa1j15mTTXE+SAVBgnOkZAMiU/Cd5IGDCFKGiPFoG4RoAJeQol5MDgAs5jXzfhC1wsMLCOSUE0H1QKoDv4L8HhxDhMkIAexR1UDyLUh1iOXkHrolBv/4FABFiCBHYb0MAObGhpEpe/dQQgAMmecSXQA8N5FeDOQRwwX5TUBegDg7kcAQWQlQgkFoDlRCAEC5xxNpQA/2zjAkCCKRVgAoVMdNIYLQlIokMmthbQdH5YWGA45CxRABLrBFfANGxl6NDy8ihykABAQAh+QQFBQABACz3AAMARwAQAAAI/wADBCgTQI7AgwgTKlzIMECOhToaCuwAoCIAgQDA9BNoIwAWiSBDHnwYIeGSfxIpbujAkuWZjQE6fhRJk+HDKTUnApDzr6fPAP/WrAgARCAadTlz3kxKkafPnkAVJASwJmnNpTmbPoX6j4yJABEDgBnH0CBIPzAXPtxQIYIIIdZCUiwRQYKJJfxQcvQYsiNIIRIfXiwg0EHVlAEEKKgYYMOygzJDEgS5Jq1CMGDs9eNX5kIAB/wa/luCBqU9LA4AfN0706rrg+NSt1b4VOA/ORX9sA6pKuTjnDNiMtz6tAKAmZFB+pUIOGfRGXoTEvcpIsASgVglcglJJme/r0CiI4Gc/q8fg4xAiwQQYvm1xHFxD3YVQPWgwdaqQssXAgAB0oEBKBDREb2519AaBbwAGBItCBTcQdddoBcSCtRQBBZFdBAAAEjIBwQCGB1m4EJyEIZQAUDYg1CEemFRgEUVMXCSQo/JoeKIDPWzxkdIkGFNe3HpdpA6ZUxRBBJl5CVQQAAAIfkEBQUAAQAs9wACAEgAEQAACP8AAwgcSLCgwYMIEypMyE9OmTX9CmIJoG6hxYsXDpJZ+M8eEAUDCwAhWCGAqosoE2bcUHDNQnslACCIoWOGBBP/BpY8mbInwYyqIqYcuWEZQaMU0UQIQOZMgDU5faIEKvTisgIF/CBcA6CggqpSF1JNiQQAToTjwDgIMJFpVINlLG57azBjiQgUTGDhtzAGACBlVES4MENOwZ0WKVh0qTKAgABdA3QYp1CEWQAFIiAIUABMVcQLp1hURbcgEogdp4B0UfonAAAlrP3jpyMAAqQBQIfd/bQrz4MdZP7ul/GITpMWtb70udQzQhMAOhSsPeP474SKFzJOKb3tQR1mCwqYCcBaYMZGFkcuRJ+SH8i4CMEAyC7wX3UdQk0EQNOa90FVfBEEBAAK2DMQGAHAF4A9DgBQhlCqIOCgUCNJMNIS/fknkBAM2GCcECwFINpALwSQw0D/YCGTEGUssZZ+A6mzQgECfaUhQksY5AAWdJV4Yn3/IEGjQAC8QJlB6PmRoYb9jEOGaEucwU9pJ133zz/bcFHEEn5UFRAAIfkEBQUAAQAs9wACAEgAEQAACP8AAwgcSLCgwYMIEypM+K9hw4JlAvjpt7BixRoHgVBEyAWARwADPRYZiJGLxZMJMUYoOGXjwTIdYsrc4HENyQAmUeokiBHLP50OfwaYAoCCwH9rVAQQgiYAGnU7UfYUajHoQBEARgb4h6AgADkuoyqcitLhQD8ACqg6SqZEAB1kAoAZh1BORT9jA2y4EEGEELoKgzbUAWBFwZIXKxYJezgAyAICHYBlKNhBADL9qCJeSKaIEM+gP4u2mZALGXv9+JWpECCCPcoOwQBwkFkzTrG4B1pTcBuhVRUAND4UuFnh2oXLdsZ4CzvAsgIAJg4PUDylYsYLdVDHfvRhEQAialN/tREAS0XznIG6FcJ960MKAMxbXUo/t8Vx2wqCcUw6wJoi6LmHFAAIqCOYQHEpoN0RydmHEBoFvCBEAEcotd1ASOhFUEMzAFDDfEcB0ZVjkzlokF0FFQAEPwRluEFB9nS1BogB9ENRcnKwaKJB//CzhnlIkAEYQdZIBKMc0k0XEAAh+QQFBQABACz3AAIARwARAAAI/wADCBxIsKDBgwgTKkTIT84ZPwa5BLD2b6FFix0OcqmI8J+1GQUGIgBij2NGORdTJsx4oWAZjgf7BQCgQEeRGiFrmAyAUqVPgid9kgGAoNHAMzOX2UNTIYBEgTB/YuTp8wiAEgT/OQDwEEDBAv2iSl1JVSUXABmh/lMAwI86MBICLAEDFSEai8sUZhQR18QSfgvtORBAN8A/IVdlBgi6MK1CMmKBDvQa4AJFhX46ALhQIkKAFdYGMlbIRUgR06hPqzaacAmasPa4OAhgIjJBVSABeK1pT3TZscB5hux5cNlWHY36yVmBVvHohKwVqvPZr+UU2wF0AHBh+N+/fhUAYKcR+Byh44SQfWJFgl0EgClhvf/TnkOgiN8JhVgkfrHf7MIHaYZEdxXVAIANAr0QABmKBbeQKoARpB8C2wxEhhBkDJRDc/JZs9UUAhURQARA1OUgQksoUIOIRaR1BEw1BDDDQH4UgBYWZSwRAQARTBeAPTGEFABY2Dn4FEEKLBFVjDMeteNMunXgh2LeBaCKiScepE4ZIAZQRoS3WVlQP2ggccQScigWEAAh+QQFBQABACz3AAIARwARAAAI/wADCBxIsKDBgwgTKkSoDk0ZVQiXLZxIUcRBLAvV1SAows+/gRYD9KNIEmFIgyMR8hPIIIAQEQAcQBQYMmXJmzQDrLm5JIADiQJnBJjxMcCFABhxKq1ZsoRLgssAFFDXyCCAokonWtxZMkIAMgVbgrEXoEIAJALJ2FQ606RBsgolAABj858CAEJyisyKMuFJgm0PqgCg45/hf3IAENa7lq+fhWcMlmhMkAsABGv6/RsHE8DGAEz5ih5IWeA/FwEKiFDBAMCFxaAFlh498d+GAD0R/utXhEIBARvImAhQhDFt2TeHF9dtuKDXyAO5Kly+cPbBolywFjxMEE3MlDECgFA5rrR4AWsDyyAPcLiotQoAkBQ9MpA6+YUh7ecIEN70BRs9AeEAACY0F8BKA111H0VoEbRffwJFAMBABeTAj4ELKgXXQTb1c8YSR3CxjIEBAQAh+QQFBQABACz3AAIASAARAAAI/wADCBxIsKDBgwgT+imzZlvCgv3kBPCTcNzDixgH/vvHJcJAASIucnQwcMOaghsm/svIEuE/IAAKmNBRI4CClS7BBChQo4iKAAgollTZsihBMjZPDlT10J4DAFwG5gigol8AdQEoBABzJsAaq0ZZXgjABWdGnWMHWisgYFkAiQULhGUpB4ACsCxtBNBRMCSWqwE8TsHY9aJbhEsAiPBTg0IEFWTwHgy5pOCMAEDApvRjFmHKi2U6E4TZAQGACAoCAMiccGxUjXxrCtws2uDfi40S5gBwWg4/jgIAIEXokczGABuFBIgxlPPcljp4Rxb4T6+K2gIrAADTb+PG2JqJPrrPKCQmP4I6I0gm2AHAEu8bL/OdLT7h54ehEYKxWxBNAJIIzbBaZyUEUJlAHUy0nkHKXSTUQWsBYA1Bg22woEBTKIaXPaY9uEIAxo2XUT8qrDZQPxusBtZwOG1jmlL/HBFAB3g1GMARSIj40D9ymGYDGVwk6MBhAVwmm0BF2LVEGUCwVZhA6rwwkFw6uvTPGQCqdgFcAhlJ0EsCCAQAAq8ZlJsfF1aJ3D/8kIGjfy5p9I8qUxzBBVYDBQQAIfkEBQUAAQAs9wACAEgAEQAACP8AAwgcSLCgwYMIE6pCg0ZVv4QE/0n8dxBNADkPIWrcOHCNiIEAIvjJePAMkBIMBPajSFBHACQcY0IkUwDAhgA5TBRYA1FFAAA1AaxkKdAlTJlICapSAGAKQXXqEv5bgmTNOABCJwb4t2ZGAB0W0YxLKtOlV5la7WEdSvGfg4IAypDl6BYAT7QSA6jNmvdfmRUBbAgEswyhnI2HEaoKIGCckJsikPCDOPHfXrYsjW50qREIyYJnAji4EIBBBIEd7EnNe1lr0ZcbQ0MUIvsgGYEFuPzrJ+ct54Np17r+CnuuTLlfKfbrByaAgs8RJ7Z2rVljYesJeQK4PZCfAACNEAac50u0OsTfCT0jVG03IgIAiQ2OZzsQSIAjRBE217gf+E0uJC0GwFjASSdcXgItQZxxAy0nFUwdZPSPSxuwdNgUEhpIXkcBIKBDEUc4xCBE/JAmAhdk1MBYbVwEEAFJZcQgI1YyxlDbP0IoIFBcI2qkSgcEMQAGSS2+ONASWIGEFYYFWXORaj1StsYSR4AB5UBj+UHQNnJ06WWXYwUEACH5BAUFAAEALPcAAgBIABEAAAj/AAMIHEiwoMGDCBMuC3Cm0b+EBK2tKdPo4JoAax5C3MhxoBwTAgY6yIhwGRAJAAAIlACmYJEAQDrKhLgGQYALOXSoQNASYRkABUToyFEhJReCL2POXEpQnYMALwfa25ZwjQ5V/7L2swGAQT+BcnIEqHFG4EKmMl+aQCsw6z91AgDICdDvgsGjbDnaJfMVrdt/COQKPFMjQIyBqhD66djXoLoCAFRF7VBEnUy3aAAgaJyUY1SIhRHORdAhgIKBF6x1zKouAgClAjtvvAixCJmqAgVM+eonQoAZq//FALDBHlKYeWfONdz2H5oABSxv/Cc2QsXjsBOq3pgYYXcsBAFjmuSoI4CD69g9cwx9UDxfgk/LbAQCwIEfjQSPIN94eyMW/AatdQR+/BQQwGIJCdGVHFnd9VtyAzWY0FES8DPQSxH0VRES+CmoAIMSElRRAWIdCCCEBf0jQgAbgFceAGD0Jd9pApGRUmkxHCYQbQItQRBeKCJkzVoDIfDfQDMOhIVKB4Fx4jgCSRdkQnO9BGVTASwXwDhaFmRZQAAAIfkEBQUAAQAs9wACAEgAEQAACP8AAwgcSLCgwYMIEzYqs0ZVQoL9/KBB49AgmQCNHmrcWLDMBQADK4xLyE9EAYIOphR8EYBMP44wE2IBKUJHjhIFliW0F4CCiwA2Ngg8QpCly5hICcopUODiQGv8EvZT9VLgPyEBFEQNgKZEAKICeSaF2SKAkKpjw57M+A9kwYxpNao7uexfXIHLABQQC0aE2YFiDa7Z2MjuwTMAHCzTcSFACSxoOS5TEaCG4QBGIx/8qXHJ5YJYAlRwEMAB6QAuNB8sQSGCAAVAAmNuqbogmCJCcOvOzVtO7QBIBCoo8+9fGQXAN1JAUAAAghojB2a+y3GJwOADiV74jLBfvzUdAHTHKEpbY8WH2xJyEeiHoB+9vwkW/6fOAQCns48+5PzQM0I5IG1zWV4BbJXQfHa5AABWAsUQABgbWafRGVIxEMBgA6EBgALxBYCgQCIAAFYAOiRHHUclvnBZWSoKNNh6AjXSz3wCodGcbwJByIAORKlzYkLWkNYCGGBQhoAchmElgmFAMGDDEVgc4YIAAMxgmHc5IDAQXD8eJEcFBEVA4UBKGraElgQhAAQ/3AVQUYc/9lMGEkiQYSBeGA30Dz9nYFEEEmWoQ2NAAAAh+QQFBQABACz3AAIASAARAAAI/wADCBxIsKDBgwgTyhGoLiHBfxAhHpwS4J/DixgJ9kPiYGCBFxYRRoTIJQCAGv0IduwXMqPLgzUCFFgRoMYGCilFRlSlAEDNnAJXtnxJNMAUABH8AF02tGDEACsKxDjJMsC2AAoCnEETYE3Togn7dTwDNgAXAEKAULVIxmAEoGUTkgGAE6w1BhX4qUVpcRnWAGAElvkqsO3FhgiBBHghJ4YECi/OEC44dU2AvXCFXux40U/CGQFKFAgQAYFAJJMLA9DBErPKAFUdLhFShLbt2ritTaYZ4EIjgUcACFiIcJwDB+ogqoX9OnZcjDEEygGqIkCOzwDIsPzneqBmh54v8rVLeN3B0CUBOhBeA6CEnPdycgBwIed3UNip73dOiCQAhaElbQDXQGcBYOCBBgYgQk4RBGAPRjpg5BdCcgCAAFxCBGDCejF06OEFSMWQIWwbBEDccxmVuERO9nS0okAlWSaQRANhRuN1F2Q4RX4onlGAAECQgcUF/j0oUAkBCJHTSMpRNdA/y5gggEBvoXgRGFkNJIIqBCGp5IxMdlfQb37waKU9YByxhFdjBjAhmBEtIweXAgUEACH5BAUFAAEALPcAAgBHABEAAAj/AAMIHEiwoMGDCBOqOoNGVcKHBcsEkAOxosUA/9B0GAgggqp+CTsAGAlAIAAwIAPYCIDlokuEYAoA2JjDRAGKIQFs6MCT55mUK1u+HCqwEQIBXP4NHKfuoUg5/6JKxbhmRQAgAtE0JVrxX40AOZS6fCp16j8FBQGs4VqxnwIAOMfCLRsVIxkTAXQIBDMOYdyEflIapFhAHZANEUQsEYxQZIkIEkws4SdWJcuKKyEKSUgmQIQIARw4EFiCn9MAAt6W3LBsYNCKEiGuYUyQi8ACZECuYQBACO2B/5agUWoPiwMAeAW+ZnsRjEAglVuORlhW4D85I/0ovwzRIcTWCCUCuUBD0FoAAOYN0i1bAYDQ5Q8zP9yMsDWAwAP7yWx0cL1UEQEsIVAOAUxRkW0QdUYdBScRpF0B9vTnXz+8OfdPEQH4xtxFm5UgllcBiCAWRUIFoIppwAkBAAJbSaSAXkd4tyFC6kSAHBdgzBBAAWsJJOAFYiGhQA1FYFHERgAgARwQCJjU44wINbIBQQ4o6GMAQAqEhUwkAcDAEpUN1JocEUKZUEZLHEFGmQOZp91A6pQxRRFIlEGZQAEBACH5BAUFAAEALPcAAgBIABEAAAj/AAMIHEiwoMGDCBP6KbNmXEKD/OQw7FcQSwB1DzNqLDglwkABJv79S/jPHhAFAwsAIVghgKqNMB/qAFBARYAaHRyMTGivBAAEMXTMkBByYMuXMZMSBAOAgRyCqnYiXLlhGUGrF9F4JHMmwBqpSjVSCACGIsxlBQr4QbgGQEEFZsNmbOsg7kYkAIoeHAfGQQCLAciAJVhG47bBA5EEKOFnBgUJKgo/jAEASBkVES7MeMrSpViNaxLqCCCigIAIKAMIsVtQRF6aERAEKFDWqOeMUzRGRVhDYAQ5I6cICHAGscALAACUsPaP32gEWAMclZs0h8CuA2cEiJGww0+kAfpdyQhwxDZ4hRrtJVxZACwX6cYDmADQoeBo7QKnZxw7N+F7nVKVAUAErA00kwkFCRGACzuN14hGK2X0IEKq0ORQYgF0EB9T/An0j3Y6mIUgGvFRd1AJqg3ET0sKCgRGAJIFYI8DAJRhlioI1GjWShKstESJJgokRwEB6EAGFvVFYM1ALwRgnYdY/CREGUv4heBA6qxAZABwBZlQP/2U4ddAG6zFpJMDiYTElgEA8MKFBT3oB5BeBsAPGUcg8VVBL50n0jZcFLGEH3EFBAAh+QQFBQABACz3AAIASAARAAAI/wADCBxIsKDBgwgTqhK4MGHBfxAhFiwTwE8/hxgzEjyzYSAACQ0PcgFAEoBHAEUG1gjARaNLh1wKAOgQIIeJAn4SlunAs+cGkmtUsnxJtGAjBADAXBS4zZ7DiP8ETgFAQeC/NSoCCEETAI26oi9nBNAR1SXUgSJQWkVQEICcpWAd9kOa82XEgX4AFGj4j0yJsWQCgBmHUE7GugcNIxgH5EIEEVP4PYX6TweAFQVXtsS4EmMRuAT7gQkQIQIABw4EmpCMkPK/1GT6lQ2gOSOZIkJw687NOyhCLAIRxO7KQGtCymBOy55dO+7LzUIITiENmuBZFQCALBe62WHIhMsSBrEG4JthAABfD95dJtOiRIHNHXZ2+BnhQgCNCEoG8N26xCIAiLDcbDYEABxGBzoUWGumLSiQYQVUN9BdFAAA3FnGRefcS9GZMKFYHgq0RhEJRrQGAAioQ5lAgSmgQwBHhLehQ+pEEIAJYIDxQgAFlIdEAB1N+M8MANSAoVVAsHXeWzO29o8fQQrkQBlw/RilQPawtcaRAfRzUXhysNbkcWggcQQZThFkTUUF2SOHe+8FEBAAIfkEBQUAAQAs9wACAEcAEQAACP8AAwgcSLCgwYMIE/oRaC1hQX5yziwsyCWAtX8OM2okyCUCQREYEf6zNqPAQARA7IXsEEDOxpcOhQAQYCKAjQ4IQh7sFwCAAh1FapissbIlzKMFy/hco3OZToNkACBoNPBMz2X20FQIUFHgU6QZNwTAcvQIgBIE/zkAIBFAwQL9voI96EcqT5hcALD0+k8BAD/qwEgIsASMV4RoNC5LSLZDoxpbVYCRS9CeAwGGA/yTWeIuS5cZ9zokQ3lzAJwBIigQqIPyQD8dAFwo4XFFQ4GfNXIRUoS3797AqSLUIdABaC4mydw9qKokALc/7Q3MPRcmEIGZBeYIYML1srU6GvXWk7NCr2ejGYU7VJewSAAB/AiSCeDAtQ4ALjT/+9evAgCyp6HnkGgJkYbQfDkRtEYADLgmAgBTxLXfP/dtF4AIAiYkhEagHTSOSYsNRNYFrsWGhH4Y1QCADQK9EIBy1cHUQgDECdQPSzW+KMR82pk3oTVrTSGQexFcp1mMGfmBQAA1kMEFhg6EyGQAM7xWgF5YlLFEBABEwF4A9sRgUgBwuYakQGg4QNAFcuhUA5UEncFlT8914Mdd+wWgymFnOtQPGUcggcZyAu25J0H9oIHEEUvIcVdAAAAh+QQFBQABACz3AAIARwARAAAI/wADCBxIsKDBgwgTKkSoDk0ZVQiXLZxIcSAFgh0WqqtBUISffwNFCOxXseTBIgVFFFDITyCDAEJEAHAAUaDIACRN6gxwJgACk0sCOJAocEaAGSADXAiAZefOjEFLloBJcBmAAuoaGQSQ1KlCrQHsmYwQgEzBl2DEVgiARCCZnE5rHuQSYEMAGwThHpQAAAzcfwoACLE50mtBvQY3KBDqQGAOhSoA6PhH+Z8cAJIJ4zQ80E9CIAnBJOQCAMGafv/GyQTAMcBNxJwNwqU7UEeAqQj/uQhQQIQKBgAuZHZdOLbCIwEAiB1YZuG/fkUoFBCwgYyJACiJbzYOm+BKgwq6B3SoXJBsz4FrJmZfKF6dQFWzA1AQT34gmpk5YwQQbXzhi4nNbVdZUtZUAAASSSEn0Hr9GQTWfgMxINdj+gn0zwU2BAWEAwCYQJlALQ3EVYMHrUHWQGvBRSFBEQAwUAE58PMhiRX1EyJPCcHVzxlLHMHFMjMGBAAh+QQFBQABACz3AAIASAARAAAI/wADCBxIsKDBgwgT/lv4L2HBfnIC+Ek4zqHFiwK5ANgIgCAAIQ7/cXEwcMOaghskNsTI0uCZDjBjbtiIRiGYAAVqFFERAMHEkipbCiXIcCUWABEc2nMAgMvAHAFU9AugLgCFAGDOBFgzdShLhgNFfHR48wJBawUELAsQsWABr1/BBmgEoIAqhzYC6CgoIgAWqgGSTrmo1eJahEUXAgHA02HfJQVnBADSNaWflQlTWiyDuWDirmA6GzTrdOC/vTWAXrb412IjhUXJAGDAT67BpGQWBlgIMoZq0XBhg20BQIdtgxUAgOlXFHXloMExFkULQM7xgh0ALEksea9Ay8BRXpjkjFj3EQAddl8fOAMAkM4lAkAWmN5P14QgLf48WPQCgCnMrSfQFACIcJ89CACw3woB5BZdXGsAgMA4RQ1EhkArbZPgSbsdEUAH9+UXwBFIPGjRQjUAMENi7AWQ2kBFAKDAEmUAkVZhAqnzwkBvmagUAgGgwaJAkr2IIRACCCRhaQa9Zp+PCdkjh30C7mbaP6pMcQQXVQ0UEAAh+QQFBQABACz3AAIASAARAAAI/wADCBxIsKDBgwgTKkT4r+G/g2gCyOm3sOJCewlFKDwDpAQDgf0eEtQRAInFkwj5GexQIAAQhSoCACgAAEBIkQJJmkTJU6Eqmo0S/luCZM24mjcf/lszI4COiGjG9Zw6UEiAEhQZNgxgD6nDAP8cFARQhurUfxEAcFH4tavNr//KrAhgQyCYZQjlVNR78kwABRiFOnSbVKTOiiQXAsm68F/Tumy3Ev6as2RFvwqFYK6oDgGANY0le91aeafZqUsCbGCsteFkyocX4pVt8d8Gy6EfvsYZW2FihYv3BiiwrWLb0ThfHsGJEExF54gDvGDe+t/ugal/n+7HOiUDsgf1Tk3J6tA68oGgEegockRV99MH10ZQaVA+4zIx8tfMH2PzPyEKCAQefGyZ4BJC9mFX00A1ATBeQdZIFBiBDPkhhzoISeUHQdvI4eGHHkoVEAAh+QQFBQABACz3AAIASAARAAAI/wADCBxIsKDBgwgTKkRobU2ZRgfXBFjzb6HFhf8KILyQcBkQCQAACJQApmCRAEAuqkT4r4RBBAFsJCwDoIAIHTkqhORC8GTKlUAVqoMpEeEaHar+Ke1nAwCDfgLl5AhQ44zAZUGzDlwS4EJFi0r/qRMAQE6AfhwL8tSatUMAJCrD/kNQVuCZGgFiDFSF0M9FqBfNFrAWVykaAAgAB/Bp8eRCvCp1BHixUqm6CAB+CmS8sGjCImRU9mMQIHThGAA22OuJki3bkg6+Xvw3NQJE1poTEl7I12I/E61XSnZwG3dji5B5FwBQ3CIQAA78yB54JLhC0wqxTEcoJEAJxQuFOFqVo9QgzxmuB5bHGCHA2oIQkcgWr4D8eoIQC0wNID39QqsKrGZQGQEoMBAZIbkVg14CeRYAVwO95x9Ceu03YIEDYSHSQWBsN45A6kxo0YcHhWiWQOOcaFCIAQEAIfkEBQUAAQAs9wACAEgAEQAACP8AAwgcSLCgwYMIEyo82M8PGjSqDpIJ0GihRYtyACCckZCfiAIEHUwp+CIAmX4XUx7008GggAAjEdoLQMFFABsbBB4hWPKkyp8K1wBAoC5hP1UoBf4TEkABP4FoSgTYKXAm0KsCawSokTSlPZAV/2ksWBErUHsIAqzpenEZgAJWwYgIwLQqwjUWG/1LOZLCXpXLVGz9G6An24M2Fy4hvHBukZQlKEQQoACIVYGGF4IpIoSz586g5RxG6OdtxIsUEBQYWmMcT5OjzV7UEWDFz3791nQA0HJgZoWnFW67+M8BbJX/kqtzAGAi5uMKEytcbBEMAAexESZPHsAFgLoBYgR8AGNxicUzFwUDQb5doAgAVAPQRiIb6DKQfkbj5TKwUb/2AaCxmmgCkceADjsVVd9Cj4kQG1Mi/AUEAzYcgcURLggAwAx/4ZZDWgKVtWBCFASABUIQ/rUEiAMhAAQ/jAl0WnYjBtCPHAE8ddAyFA30Dz9nYFEEEmWo015AAAAh+QQFBQABACz3AAIASAARAAAI/wADCBxIsKDBgwgTKjz4r2HDg1MC/FtIkeKRhFgSOmzIJQCAGv0IOgjQb2LFkwY7FrwAIEAjjQ5VKWgJUiRJkyhzIhQSQAROgw4DrCgQ42PJANsCKAhwBk2ANT916qQQAEvUg1wACAFidCIZgxFCSpWKBgACdVcLWmNQgR9XkBOXKQ0ARmCZtAG+LlSHckYAGxWLrgnwVqzAkUcVjlzo56Q6BE8pkgGgo2Rhm4kTLhFShLPnzqCt4S24JMCF0QLHOXCA9h9XkphRj1XYIcDFhTMAkCnp2mhsxhT5VZQDoIBohWsAlJDDXE4OAC7kvDx8c+FihY0p6gjgQnZWAODDg2/vKTZCAHvaKcpd2I9BXtlrYsifzzJCDJ4kNwSQM1sqGAAOPFRQR4MJJKBAhQmYg2k8TSFbfwKZQFhaJQQghFgbNXSZgcuYIIBAYUG4kCoFuIRQhRcamOGGBb3kx4P9jRPAiwi9tJ6KDi0jhyoDBQQAIfkEBQUAAQAs9wADAEcAEAAACP8AAwQoE0COwIMIEypcyFAVwwAqHgboAKAiAIEAwPQTaCMAFokgQwq0prBDgQBFNjKkuKGDS5dnVHb8KLJmzUYBCjh8SFHOv59AA/xbsyIAEIFo1NlcuvBoRIk9gQb9pyAhgDVMswrs5wAAGZUrAfiU+k8oGRMBdAgEM46hQZB+wIIkE8CB3IUUS0SQYGIJv7IcPYbsCFJIzX8RgdwtGUCAgooBNiw7ODMkQZBrFi9cVgBAXIn/lqApaw9LV7SBaWrVWiSACM0IpQr8J6ein9Qhd0qcHPIfBQCqGZKVWgE4bpCEJRoOiRWBUtDDf4oIsERgjgBTQnIJSRfkvxkBavRqjt6PQUahrYXAXv3QHoKrCw2qVsUvthAAzgUSVKD2iG72EmVXAUPVXQAYEgrUUAQWRXQQAABIHPQPEAhghBWAoDnY2kIFAoZFZxYBwMASgCE0mRz2YAiaHygyRNJtB6lTxhRFIFHGXwIFBAAh+QQFBQABACz3AAIASAARAAAI/wADCBxIsKDBgwgTKkzIT06ZNf0KYgmgbqFFixMRHlH4zx4QBQMLACFYIYCqiygRkjG4AUCANf8S2isBAEEMHTMkmIgpsOTJlEAVLglwgSfCkRuWEVRKEU2EAGTOvDQatGqHABsTLitQwA/CNS4JKohYtaocAAWsUS2IBMBOhOPAOAiQkczagWUsbruLUEcAF3wHxgAApIyKCBdmyCno0yIFi2tQ9mMANbBAEW7RRkAQoAAYsgEaL5xiUZVlgmAAOPh3+gIAACXU8vOLgGlok2VzBzARAMjpAB1q/gzQ7wLWgaIVel1o76KqAgEaWTQB4CpBvzOQ4174eGFki0IClIsAnVCH24LhAQs0Ln3hyIXtFz7lQh5h6u4C/2XXQZY3mt+6FXQGAAo0ZxAYAeQlkD0OAFAGWaog4CBZI0kw0hIABhhDADYg9EIAOQz0DxY1CVHGEnPxNpA6K0AXwFgBLqQOZ98Z9GGI+f2DhIsBAPDCOAdJ50eGuakjx5AInTRcAKxtw0URS/gBWkAAACH5BAUFAAEALPcAAgBIABEAAAj/AAMIHEiwoMGDCBMqTPivYcOCZQL46bew4sJGCV0k5AKgI4CBHYsMrBGAi8WTCJcZ7FAgwJGEZTrInLmh45qRJVHqXCgnQAFrCh3+EzgFAAWB/9aoCCAETQA06nZKHagjwIugDgeKACAywD8EBQHIoThVZz8GAMhgHSrQD4ACqpCSKRFAh1ow4xD2XOgHJZgADhYKbagDwIqCJE0uJLmwCFnBJgIAETw4MJl+bAMkrkimiBDPoD+LvmlRVQEAGNc2BAPAAebMm8tOFRKgxGOEQgOoAADkNU7FCuMuVFnxX4SStw9mXXZ64kOBsRUyVui44pkACuwVf1gEgIjXmW0EdcBSkfxCtRVnBLCRmeFDCgDI52ZKX7ZOdQgAkC64poh5rw2tAQAC6gwmkFoKVHUEcfYptEQAGyQnEBIQEtTQDADUMB9SQIAVgFgSNjjQPxsEQOFBFJZIkD1grbFhAP1QpJIc/IjIUAByaHcQUH2tKIdzzwUQEAAh+QQFBQABACz3AAIARwARAAAI/wADCBxIsKDBgwgTKkTIT84ZPwa5BLD2b6HFhWASCumH8J+1GQUGIgBir2KADgHkXFyJEI3BDQAClEnIEYACHUVqhKxhEqVKlkAVSozAESEZAAgaDTwTAMAye2gqBJAo0GTQqwFKBNiY8AgArQP/OQDwMCbBAv2sYl3ZSEAAVUIBoKz6TwEAP+rASAiwJGMAtQRdLlzGUkgAEwvtORDg95+Qr0V9WpyrkAzghBGmWvTTAcCFEplXWBsoeSEXIUVQq07NWunFMjaLKlQFEkDMm/ZIp1y79kUAHRaXjdXRqJ+cFXIj717oWqG6i+NCyrlcUAcAF3///etXAQAWgaUVUpdOaNkikgAbqBcUAWBKWu3/rOcQKGK5QsMLfy7cwFd2ws7nwRdADQDYIJBvZPjHm0VyAFDAcwaRIQQZA+WQHHzWjDWFQEUEEAEQVS1okYExUFdDADMM5EcBcmFRxhIRABABhPbEEFIAaKknYgD8KBDAGQoKdGKKS8XYlG0d+FGUdm+FuCNCuf2FEFxwEdQPGkgcsYQcRQUEACH5BAUFAAEALPcAAgBHABEAAAj/AAMIHEiwoMGDCBMqRKgOTRlVCJctnDiRTEIg/xKqq0FQhJ+MAkUI7Eex5ME1BjsItIiQn0AGAYSIAOAAYsiRJnMqBBPAAciDS3pKFDgjwAyQFwJg0cn0oIkAGBOWiElwGYAC6hoZBPCzqUlVBQJoTRghAMuBMMHYC1AhAJKVJL3aNFkiLkIJAMDY/acAgJCbAex6xZlTsEEVAHT8W/xPDoDEgA039VPyjMC1CrkAQLCm379xMwFwDCAy8GCmRW10PfjPRYACIlQwAHABMmnCp0uqQxAA5cJ//YpQKCBgA5mnRSLnxp0wqOnfiwuWtTzQt8LkEyUjRLKadfSBaGjGVY0RgOfynNYOliHMGKS1CgC4CzwyEPv5hDoCvECYIwB5gf9cYENQQDgAgAnfuTQQV/cd1A9M6x3U338CRQDAQAXkwM93DVKkYHYD9XPGEkdwscx3AQEAIfkEBQUAAQAs9wACAEgAEQAACP8AAwgcSLCgwYMID/ZrVEYOv4QG+8kJ4CfhOIgYMwr81w8IgoEFYlj7B/EfFwcDN6wpuIEiSY0wDf6rAaBAjSI6FATY8PLgPzABbBZREQBBxZQuYyoduAwAgDIDGyEAQCahPQcAuAzMEUBFvwDqAlAIAOZMgDVfl2pEAwDlwH8mABxJaxDoBYLWCghYFmBiwQJqYTYC8HHjPxFZE9oIoKOgiABYwAaIEGBKRrMY+SYsAUDIRjBt7SV8vKTgjABA0rb00xNhS4xlWhe0tkJAhBJ3OxxFeFfr28Y1kLLGGBljI4j2gChwGnSGKoiUyfwjOd1zDOGyA0Ps1wGACoeNdLTM1XywAgAw/aZPB646qXaNXABQ4Kf+3wsAjRF2X1L/3+n8O7mX0GsQxYaQeFzVhwUAHSQ0AwBAtFZCAKUJ1KAfdCHkGUa7GZQDAKepRyGDCU0BgAh02TPVbisEIN17GpnIwDLqcQcAVwJVFcBL20y10o5HBNABXRsGcAQSMCIXAQARLFEGFt0VsNtpwQ1UBAAKOAmEXpgJpM4LICWZUD9+dBeAU0yeQReVBP0DhAACEeabQcdhKGZCJC1RBBJoZNjmW/+oMsURXIQ1UEAAACH5BAUFAAEALPcAAgBIABEAAAj/AAMIHEiwoMGDCA/+U4VmjbqEBv9J/HcQTQA5/SBq3CjwH5cIAwF0wAjxDJASDAT2o0hQRwAkHGMm5BIAgIkAQC4EQNAIooqaBQAAWMlSoEuYMpMO/KcTSMYA/ToEcInw3xIka8YJJUrx35oZUy2iGac05j8EAOQQPBLARNGCEwPY2xr3n4OCAMqU5fgvAoA1BIUEqPE0okS5dA//K7MigA2BYJYhVKuRMkLBJR4G8OPgb8KJ/+YOBW305UaqEJ1+BoJAQYAOBRyAgRhXNNeBRzee0Shk9+cpFEKWsPj5sO24pZHuNQskgAQy9pYtQVCATHGJx5Hn1iiZe0JVBQpYpQ4wJYDOqsYTF90OEXVC1QetUygcQLIAfugpZi/a/Mjbg7NpFCCAAURAX09D5ReaegMtMdVyBPVDX0Gq1KRXR80FJ5BaUzwF2n4DAYaADkUcocqEEBL0Tww7AUEGGGABgMVANBk4UBkx5ChUjjH4FsA/QrhmYYqf2TODAAQhgERRNRa2hFAhCdVhQdZcZA+RGqlC0xFgaDYQWX4QtI0cZJZJJlkBAQAh+QQFBQABACz3AAIASAARAAAI/wADCBxIsKDBgwgRLhM4LqFBa2vKNDq4JsCafw4zahxIRgLBDWgwKgQiAQAAgRLAFCwSAMjGlwnLCAhQQoiQDQEKyOmHsAyAAiJ05KhgkgtBli5hKiUoIkANkf9MBIiRcI0OVf+y9rMBgAHPAHJyOD0jcOHSlw4ClCFoFKfGrP/UCQAgJ0C/CwaNnt3YIYDKgUsCqBDpEO4/BHQFnqkxdaAqhH42fj04JcCGbQJVRQhAZiNcNAAQTEaqkWVGxg6LKEDQVCCWl1nVRQCQVCDpjBVTd3bIxa3ADrvf/osBYIO9oy33LkUSwAEYddu4KBCgN+M/sREmIq+d0JrGxwjVIZzOLVBlWo06mmvfXlojaooBGBAOwK8AAPAJgQBw4Ge+wCPJZRRcQlj4N1BFCMynTmYOCdGVHFnlFcAMyhEUYXgFBFBdAMwxMNBESBDmoAIQXkjQRAWIFUB/FTqUXoYq5ZChaWoFoABHJvUVA1UCkRdAYANt2KJB/MhIUAFCELTWja6ddBAY/jUUwIJDJvQVgAF4R9CCdTHUpUELBgQAIfkEBQUAAQAs9wACAEgAEQAACP8AAwgcSLCgwYMIETY6I0ddwoL9/KBBo+ogmQCNHmrcSBAJA4ImMibkJ6IAQQdTCr4IQKYfx5cIiwAQEKMIkAgBHKj7h9BeAAouAtjYIPAIwZUtYSod2E9BgCUBXI7DiSRhP1UuBf4TEkABP4FoSgQwKtDnUo7LAAQwK1CHUKX2TGb8p7agyLMa+5lcRrBGAK4w0xYwC0bE34FsC67Z2IgnQr8zvgZYg6AA1pfLVASo4TgA0qwJg2pc0tkgPxsFHJTYAIACGo4lKEQQoABI4s8awRQRsrs3799yQBvsV8QBQRdyOFKoDABBjXFHWQrHu3FGgA5r7KkqUgBB8o39+q3J6QCgQ/SkDytq3JZwDQAF1ggCCaB547/76hwAuCgQ90PRD5GGUFUmKAaAA6UddN99AbgAAGABxBAAGBtBpdEZCRllGEFl5JRgQQs6JgIAZAXgVlXUvYQGAAV8J5CEBQq0GBcDNdLPgmAVAEBwAlHIgA5GOZTiQ4YxUEQZXKgwU4cCcSWCY0AwYMMRWBzhggAAzOBYeDkgUOOQD2VWl0AM0DiQk44t4SVBCADBz4fqTQcmiH5MUQQSZEg2EF93/cPPGVjcWcZODAYEACH5BAUFAAEALPcAAgBIABEAAAj/AAMIHEiwoMGDCA/y81PGD7+EBf9JlHhwSoB/EDNqHKguR4GBBXKogzhRIpcAAGr0I+ggQD+MG2MeNBEAQY4AORAEUAHzYElVCgAEUMnSZU+ZSOUAKCDnZQA5H+UknBhgRYEYKZ1uC6AgwBk0AdYcRQqx38kNKwX2uxDgZEYuAIQAyYqRjMEIaclqPANAwtEIAcBCtMagAr+5KjEu4xoAjMAyYwfazTgSYb8KAabAXALgAsWEWNcEQJw3QEunEFtm9ANRVQkAFAJICFBCVUYyAHS8JF0UdcIlQooEHy68uLXIA63Z0CnQ5taE4xw4UCdxrsveyPUmVBd7hp9+fmbAxLaXUDyZl/94DzydfSDrjA8RFgkg4qiIAEcQrgFQQo5/OTkA4IIcjaxnVEaqQfTeQS4EIERBD76AEFwAVGhhhfSlBRh5Gemg0WIIrTBaQUAE0OBBa8Sg4ooXABBBDA+6tMFT2iH1YATxBWAPYDG2FdZAnwlE2mc3XfCgZjVmtExXF1g0BVsMWDNQCQ6mVVJ1WQG5jAkCCIRXkhmtwRZBFzQ1ZZUCXZlelgYV6Ed7YA60xhIBLLFGP6UVCGKaJS0jh20CBQQAIfkEBQUAAQAs9wACAEcAEQAACP8AAwgcSLCgwYMID/5TdWaNvYQQDZYJICeixYv/sDgYCEBERYgdAIgEIBAAmH4CbQTAcrFlwikBAKwIAERCAAWqQALY0KFnzzMoA6hk6bLowH8RAAj5J9DeBZo65fybSjXAvzUzgQhEo84oRqYAVAX9JySAi6hUq/5TUBDAGq8YGQD4KFCrDrRpmf4jYyLA3QBgxiGkm9BPUIP/tKp4SFFBAcIGQ5aIIMHEEn5MU660qDJi2YT9dCBg20FABDIROwQQoEBkgA3LBg61ODHimsOIl0TgaOJtwn9L0DC1pxFAX81E4bb8d/dCGXvLkCAogOZ3VatyRPpBbjFnxNgI/Qi5KOBd4JEAqhXmpVoBANHZETtD/HyQy+uCjQIUQLieqogASwiUQwAwRWRfRKghZF8FBVW0n3rr9SMXGFYVEYAQuCkH0XYC+GbVXRsMVFFyqvBDEFkAINBVABMpcNcR5WmokAo3CUEGGDHEdJJAAV6QGRIK1FAEFkWoBgASRwGBQEkeynjQOC8UpMASmQEYgI8CYVHASCIxQKVBscnBmJMJNcISEmSoU2UA1gSw3UDqlDFFEUiUgZlAAQEAIfkEBQUAAQAs9wACAEgAEQAACP8AAwgcSLCgwYMID/bzU8ZPQoT85JRZ068glgDqHmrcOJCfDgQDC8wYp/GfPSAKQgIhWCGAKo4wE84IUMBGAB0pRVRMaK8EAAQxdMyQYOLfwJYvYyod2AhAgDUD/YAs83DlhmUEsWJEEyEAmTNPjS7lSCZAhH5iA5QIsGSnwWUFCjg8uMYpQQVuxz6UA4BB2gAdAoBJiARAUYTjwDgIcNHrX4JUNW57TDBwEbFcAESwlzAGACBlVES4MENOQaQbKWyEmnCZCs0BKgDo0OihCMMACkQAWQCMW9Qap2xURXmgOpwhayRFeAEAgBLW/nkMgEBrbJd6lfbbEKCFnH6NcmjStm6ww8/l/S4EOHIUu8a5DzkjnALgQl4VAVYiNDG7oI4AMwkE3EOqacTaQTXcVNASaiWkg2EFCRGAC2KpV5tG+j10IYIB5FAQeyXkRRAYABQo0D8z6bCTCQGgUVx2BzHoAEkCbaegQINFFoA9DgBQxk6qIODjTitJsNISL8IokDqLRbBEGVgEhkAjYr3Q4UD/YPGTEGUssRiLxq1QgEB4KbkXdwRFgAZBVnp44j9IjCkQAC/QWFBtfiRppkBrLMEeRQW9tFwA//yzDRdFLOGHWwEBACH5BAUFAAEALPcAAgBIABEAAAj/AAMIHEiwoMGDCA/+U3VmTUKE/yJGLFgmgJ9+DzNqFPhvioOBAErIecgFgEkAIAEUGVgjAJeNMBMuCQDARQAgEQIwWJawTIefQDeYdCiw5cuYSAf++7hSoL0KAYQ8lPhP4BQAFDiuUREVTQA06pLCxAhAFUEgAWJUVShxoAiVHBEUBCAHo9iM/xQA8ENQRwC/ECcK9AOggNkA/8iU+EsmAJhxCEdm5JvQrwt7AuUoKHAxMFUdAFYUNKqxZcYidg/201GAQYANBSI0Tkg14kcy/dYGIJ2RTBEhv4MDH04UIpKcAgGYKM5WIhgADnLr5n0X5r8cAS6csbfsSAEEa1IXu6QaQAUAINJZutR4+CHPyAIQtA+wUgTticsK7E1fdH1G0w+hhhAWAXRQ0EhyeUYfACJIp5sNARCYkYQPzXbQFNkV5BACuo03EQUAEEheVCRWB9NIBRT3D4QGCrRGERRKtAYACKhTm0CNKeDXEe+ZCJEJASggFRg2AQDGQEi8RlBEMwBQw4gcAZEgXeL5WNA4NhGkAIZIKkmQPXKtAWUA/WDEkxz8WJlRI1gUcQQZmBFkjUUF2SPHRW0JFBAAIfkEBQUAAQAs9wACAEcAEQAACP8AAwgcSLCgwYMID/ZrVEZOwoP85JzxY5BLAGv/HmrcKLAfEAQDC7xY9vCftRkFBiIAYi9jgA4BHHKciTBHgAI1AuhgEGADv4T9AgBQoKNIjZQ1XMKUSbOpQGsCApQJGkCVggBgEpIBgKDRwDNCl9lDUyGARYEunW5cE0BB2gArAhShavAIgBIE/zkAMBFAwQL93qpFqIor3QB4sSTkAgAm2n8KAPhRB0ZCgCVZAwgeiGYjyYQmAgChutWBus0C7TkQkPmfkLtUl250/JAMaoHjXAiIEOACgA1MEfrpAOBCCd4rrA2UrZGLkCLPo0Of7jWhPSA8BRaIoeqwQVUoAfjqJWpveczBTkUEMCGHXyMgAByour1sr45G/eSsaBz7vMbqD6mzGAAR/BRAP/3MEIBNCOkAgAua/fNPPxUAoNhL/j1Em1a36RBATgRZ1IF3A4kAwBSBSfiPgwyqFxxCQmz0IkEeznDYFD0lRBwSEWZUAwA2CPRCAGSQiB5Ciinw2YHqgUikEGQMlAN/KlqzF45yBRABEGgd+ZA9vEXAIxbqFcBUTgoK5EcBjWFRxhIREChgAPbEkNJNgXmZUCMbalkGQWgSdEacQonXgR9USVhVl3o+JMcSRyBxhoEDqbIoQf2ggcQRS8hBVUAAACH5BAUFAAEALPcAAgBHABEAAAj/AAMIHEiwoMGDCA/+S8hQHZoyqhAuY0ixIkEhBV1UVFeDoAg/CwWKENjPokmEOgTOIHihJEJ+AhkEECICgIOIIkme3DlwXIEAZAxySbgkgIOJKgPMCHkhABaeUAe6FPhiZkiDJWYSXAaggLpGBgFcjZpw4k+CJgJMSRgBaEGZYOwFqBAAiUAyU6HiRKhCIEyBBRSMSygBAJip/xQAwBhgZIC8ZB8zrLpTBQAd/zL/kwPgck7JkQX6Yfi3YKOxBbkAQLCm379xNQF0bKwzdMWsWeXGBG3wn8YCIlQwAHDBM23ethGCEahOYGaBNhL+61eEQgEBG8ikLfIZMlnvAoEoei24fIP05wTbniG4piL3iuAHxrja72lThJoJorHpMkaA5ckxNFQAe/2T1UoClVGbZiFZUwEASIR0xEDvBWgQPxIQNGBBOQTgn3MX2FAUEA4AYAJ6pQUgloUHOTaQAxx6mB4AAxWQAz/osXjSFO/FN1U/ZyxxBBfLoBcQACH5BAUFAAEALPcAAgBIABEAAAj/AAMIHEiwoMGDCA/yWxPAz7+EBvvJaZhwHMSLGAkCIXgBzUOI/7g4GLiBIcENDT9mXGlwhsAcAVQAKLBGpcF/YAIUqFFERQAEfk6mZEl0IJqZEwUWAbDBZkF7DgBwGQhTRb8A6gJQCADmTIA1V4tmhBlDZb+RJg/mvEDQWgEBywIkJVhA7EqfQmyKCCAkoY0AOgruxYI1QIQAUzB6vRgX4QoAQvp9/NcBQIyEe5cUdAkkLEqHF1FeLON0IBAAJv6p/jcOAYASCdlOHfgvcA2SQyESvtgooRwAUlXzmwG8Q8LDZFQHUN33ssDPpe1C3Mi0RQQAF15HD1ABABjJq217u84tHaNqLhsKAKCwZKNLhJWXrFbtMvBz8ghFQySNcDXBfiYEgMR2xAFhE2yaCWScH2El1NdFQfWn3ECqFFCAKglNAYAIDdrjWoQBrBBAcuVlNJ9A/JgAQA0qkSHQR9u4ZtI/RwTQQYMPBnAEEiWCpEIMR3AhBAUAVLCNSi7dNtBSCixRBhBvLSaQOi8MVFePCclE0AvL2JQkQf8AIYBAACAwm0G9MYhlQmtMccQUjUx4E23/qOImF1kNFBAAIfkEBQUAAQAs9wACAEgAEQAACP8AAwgcSLCgwYMID/6TE2BNQoX/Ih5EE0BOv4cYMwr8B8bBQAZLMp4BUoKBwH7/CuoIgESjy4RYAgBwEcBGAQAtH6qQeRMAypQDV+Z8SVSgOgU4ga4pUEBVwn9LkKwZB8BnxJT/1swIoIMimnFFXZIJ4HHgP5pCnkq0V/Un1rIDAZQJq7FliYsD04pQm5KtVYn/yqyoKRDMMoQMMSY+GHIvQSBk+f7z6xao0IwrMQLBa/BMAAXqzJYIUIBvAMpXg7IUiVGIZ4T9IgSocfFfTJmcC6ZGLVHgZbov+5EpHWHFhoGlEV6d3Ha579UYD0fHuEYFArI6xsI1uLt5b67QH2aMfrj55b8jAXYqX+sdaADIR9wjBJORvvkNALhI5u0+5HjgAfSTG0b/FBGABPYMxNAUeC3H30AOIaBDEUeoMiCABRUhQlpIjIaAQwPpFwFnZcRgYlUmxvBaAP8IoYBAcmH4EHoEXQBiiAGMONASVcVVFYMFWVNRgjIm1Ih+S9xIEFh+ELSNHFBGCSVYAQEAIfkEBQUAAQAs9wACAEgAEQAACP8AAwgcSLCgwYMIEfoRyC+hQWtryjQ6uCbAmn8OM2ocSEbCQAVF+jlcBkQCAAACJYApWCQAkI0wE5IREECFEB0IXDosA6CACB05KpzkQrDly5hIB/aLoFPgwgByEq7Roeqf1X42ADAQCTVHgBpnBC5LCrMiAnsEbQTQsdHqP3UCAETtd8EgUbIaiV7AOHBJgLoa3f5DIFfgmRoBYgxUpXAjV7sBKPAViCRAgccJ3aIBgOCxUY0tMyJGGLXA2IEvAgAYF/htBABHBX7OWNFhETKZ67pAGwC3QMYZrcYAsIG37KZ4Yf5bk9NBiw4DVwf2GmFiUeQJrWkEnlDOCwUBFNiNMIsZIVsH1q/HThja4eiYWAJAzwgEgAM/kwcewY7Qt0Ms+WlkQgD7OSSEVnJYBdkMyRGkIHwBOMCaQBMhMdmBCiT4IEETFeBVAPg16JBfAWCxhAqWlfFYGeFxdBJ0MSgmUG0CkSjQXSIiFB9BEYRFEIvgCYQFSgeBEeCE6uToEHc+FpRkVAKNA6VBSQYEACH5BAUFAAEALPcAAgBIABEAAAj/AAMIHEiwoMGDCA/2WxNAzr+EBfv5QYNG1UEyARpB3MiR4BIGAyOA2chPRAGCDqYUfBGATL+OMBEKAVBgRpEZAAKMTGgvAAUXAWxsEHiEIEuXMZMOVHVyp04ADnoi7KfqpcB/QgIo4CcQTYkARQVKVcoRSYAODwd2CMAlqb2TGv/lLKiRLEcdAWpYFVgjwIyky2hKBSMiQFaxCBlubJTWIN6/BGOcjblMRd7GR/ciBLpxSeOCKiXs7RchQATNB0tQiCBAAZCxATJvBFNESO3btnPLQT3QGgLDaQ87+HyQAoICABDUGGe0JW+7ELHkrOCiQkjiChd2ALB2oGyIFjdur9tYRsRvB0KWnMVu8J97dQ4AYBT4PSFniJ6T5giAd6N79wG4AMBhAUjmVELqbXSGWw4EoFhC/6UlAgBh8ReAWdBlaEMAIjTGUFsCNdLPf10ht5tAIzGgQ1HqZLhRDioUwcURQznA2EBZdSgQEAzYcAQWR7ggAAAzpNVPPzn8FqKLEPU3kAh+FJRjWksoORACQPCDXXjPMTmQH1gIJMdBy2Q00D/8nIFFEUiUoQ6JAQEAIfkEBQUAAQAs9wACAEgAEQAACP8AAwgcSLCgwYMID6oT2CihwX8QIR6cEuCfw4sYB9rLUWBgBzkWE0aEyCUAgBr9CDoI0C9kxpcF+5kIoECHkBI0/TgcqUoBgAAoVbJ0CbMoFwAIGgrUEUAF0YIRA6woEONkywDbaAY4gybAmqdFHboIwHSguo7LMB4VAsSqRTIGI6QMm3FDACxEI9y9aI1BBX5tUVpMqyAAGIFlwAqEe3Ehwg4BpswVqFeH4oFV1wQIPDnAyqsOV17UiXAGUIKNBASYcTkAGQA6WnIWCjrhEiFFcOvOzdva5dcFyghUNzPAWITjHDhQB7EtS9qt6SKsEUBAhxWiVyecAYBMy3+zB361jh6AtEN+F5dcKFCgApgYmzsPXAOghJz7cnIAcCFHqeehF2WXkHkO9WNgPxcYhtBRADToYIMBiDCXXvZgVJZDacEkBwAKOGbQGjGEKOIFAEQQgxAC9WOXHNK1OJxdQkxWkmYCSTQQZzbmEMAFKE5Bnosd1IDEZiuJUOFAOMVY40jgWTXQP8uYoFoAcrl4kV0DCVCDhwIlOReTTQZlUEN+/NhiP2sscVeGBTXEZkUjLSOHKgMFBAAh+QQFBQABACz3AAIARwASAAAI/wADCBxIsKDBgwgP/pMTQE6/hBANlmkYsaLFf1gcDHSApWIHACABCAQA5mEAGwE6WlypcEkAADGK1CgAYErEjxs66NR5xiRKlSyDCtyGoObAMwEULIP4Uc6/p1AD/FuzIgAQgWjUCV3JJUAEgv9MBEDCFIBTqE+lKigIYM1Wi0ICqCh4VYXJg03Rpv1HRqwOgWDGIWQY0c/dgkUCmPg3sN/frwk/loggwcQSfowF/qyIMmJchGACOOA38F+HpIcLnhagAGSADUs1p6w4MeKa1APtMQCg4+E/lwEKJPyNhrG9jADEygb6diUYmhFabBi4FiFagQtB+lleUVXF2AnXmK8o6gBIVwqZC+pFWwGAys0RO0P8HBFt3BjW1z8VEQB4jgA2RdRVRGQE1Q8FAJCBm1T69bNbaP8kJsSCzV101XQDMQSUKqSVJgQACGgVwEQK/HWEdxVCBEQJRWCBBH8KODSQSxdkhoQCNbRYxGkAkIUdEAiM5FaKCdH30gaEzRhAjQJhQVNIADCwRHoDLSWHPUQO1wgXRSwhY0HWBLDdQOqUMUURSJSBWZZE9kNhUAEBACH5BAUFAAEALPcAAgBIABIAAAj/AAMIHEiwoMGDCA/yWxPAz7+ECuWUWdOvIJYA6iBq3DiQH5ACAy8w1PjPHhAFAwsAIVghgCqOMBO+CIAgRwAVABDIqZjQXomcMXTMkGDiocCWL2MqHVgGQAE5A4UEEMET4coNywhmxYgmQgAyZwKsMbp0Y40ANaryQwkV4bICBfwgXAOgoIKqZSGWCHCkYAe+CZEAKIpwHBgHAS5+JVuwzMZtjAmaCFCk6r8LaPESjAEASBkVES7MaDsQ6UYKG0ce1BFgBVlrCG4mFDHYaYTYBcBUNa1xykZVkQfSDQDmIb8YAktoDgkAQAlr//ixRrA1AO+8MYHU7bACsUAVCTvkxUwaoB/mvkddbpSr0V7Cfv2wbIBLAYtNGwlNAPhLkPWM0upphJpGqkEEn0AiBOAbQjoMVpBULhiFWSMbraQRhTE1Ahd0CIEBwIAC/fOfDjxNhkZw2MHkUwA5kAVGAI4JZI8DAJTBkyoI1MjTShKstASKKUo2wxFcCOHVBeqQNZNNIWKRkxBlLIHYZAOpswJIAdwVpF4FxbBNQUsO9M8/SGAZAAAvjHMQhQ5tCdEaUxyBBXkEvUTnmNtwUcQSfiznZllj/hkQACH5BAUFAAEALPcAAgBIABEAAAj/AAMIHEiwoMGDCA/+kxNATr+ECv9J/FewTAA/DyFq3BjgHxYHAx1wyYiQC4CTAAaeLDKwRgAuHGMmRBIAQIwANQoAwEIRYZkOQINuOLmm5UuZSAla0wlToEUF2yBO7DkFAAWB/9aoCCAETQA06pLGxBKgQs+OJQIsSTh1oAgALDsiKAjAodiNQAK4KKgjwIqzBScO9AOggCqsZNLqIBMAzDiEDDX6SSgkgArANgJQAExwqkQdAFYUdNkUokuNRUgWBBPAAcl/GwIw4DzQ8z+QZPqdJb2RTBEhv4MDH170YD91CgL07UgzAALaWKeCAeBaotHSd2OCEaA5wIWBDNgKrFYBAIju3Uc1Hta4TCqaEgioA4H5HaHgZToxWhfIW+NpiKlttF9eM4hHUREAiHDeWZmRpZGDEDEmUz8RACBhRBRRsFNHgnHlYXbZ/ZNXbAOtUQSEE60BAALqeCYQYwr0dUR7IEIERAknItFBAApEJhBNJEY3AwA1tFUbEHPVZFeNxuVFUAc+/hhAkALZM9caRgrUz0PtycEPkxD5QdYSUQ5kzUUF2SOHfvsFEBAAIfkEBQUAAQAs9wACAEcAEQAACP8AAwgcSLCgwYMID/JbE8BPQoVyzjgsyCWAtX8PM2oU2E8IgoEVzmBM+M/ajAIDEQCxN7JDADkbYyasEaCAjQAtABRY0y9hTwAKdBSpgbJGy5cykxJco5OhQCQBLow8SAYAgkYDzwQAsMwemgoBKgqcqjSjjgAuCPZzEMDpwSMAShD85wCARAAFC/QjWxbhigBCCsoFkpALAJdj/ykA4EcdGAkBloAZixCNxmUJXwQgTFAE2oT2HAiYHOCfkLg9A7iEmRHxQzJ8BxIuMVWdggCeE/rpAOBCiQgBVlgbuFojFyFFkCtPzhzrwX9+8HLp2Y9mgA0PVZ0EgDeoPeJI+ybTPX29BXCBuQ8uq6ujUT85Kw6nLp7R+UN1JMN2KCAgwhLCMSSkAwBp/WNgPxUAgIVA9D3kWkKwJaVCAEckJAIAU+xl4D8D5oBeeA8FlhFrMS1TQAH2GcQbVBsGUAMANwWgGRmpiVcWPxPOQBAZQpAxUA7ybWhNXVMIVEQAEXAWm40FufDCEceBRQFmA9Gko0B+FHAYFmUsEQEAEeAXgD0xoFTTXkwi9M9fBLVAZZUBXCnQGV9uxV0HfqRmYACqUJZmQk5N0UhsffapFhpIHLGEHKkFBAAh+QQFBQABACz3AAIARwARAAAI/wADCBxIsKDBgwgTKkSoDk0ZVQiXLZxI0SCFMhPV1SAows+/gSIE9qtI0mAOgi4EovmIkJ9ABgGEiADgAKLAkAFGltx5cEmACjp7BnAgUeCMADNYXgiAhedOIAFUFIwQ4EzCEjEJLgNQQF0jgwBYOlX4IgDUgf1MiERIlUxBmGDs/QyARCCZoDxtHowRQEdBrFIRSgAAJug/BQCE3Fw7liBegopxCpQboENCFQB0/Nv8Tw6AzItzNh7oR6EApixtCFyKkAsABGv6/Rs3E8DGADgfj0ZYBKFlhP9SFhChggGAC6BxM969EIxAACgT/utXhEIBARvIqO2tXDRz3QpTFnIBH4Dz1KoE10zkvpD8QWsIoEvfTBANTZ18nTMv2W9FAL4DYeQdZyxZUwEASLB0xEDs7WdQWQJxRxVBJwFY3gU2+ASEAwCYQF8ALg0UloMPFqSCXgJVSFAE8gVQQA78fEgiRXJMQVFQ/ZyxxBFcLPNhQAAAIfkEBQUAAQAs8QACAFUAEQAACP8AAwgcSLCgwYMIExL8x5ChQHtryqhK2PDfQGto0GwzKOfImYUOFYo8qKrIiwgCAEwJULGhEAQAYpqYCLKluhoFYhawoY7gEgA6alocSVQgl5gAci5pyVAIAAU6imwAQGHcQKYMTQCIIERIBAArfAIVWrToGiFklmldGjJAowIF5PQL0E8EACBXGw4EE8DBxn7LHAAgI1AOEAAxMqJRxbRs2bVtAxyeMVcgGgAO8g6lWyIAks1FAKgQ2AEpUrYVHReFvDlAaS4h+ykA4GeuXoH9cjba7OfpXDQ5RIMZvrtxo+HIhxdcg/Uga4KzmRO8AACM7duNkvbb3C8mzZ9BNbf//mk6ZkEXWFsLfD4w5W6Cdpdc33xZQeTZcgOAJztQjpAi/wUI4IBgNGcQa0PxA0AA1rS2AgBFCNRSAGVstR1Bgn2k31jiqfYYAKjpBcB7A5UAABLi/YNGAAzcB8AaAu3X4UVy1GijHAWpst2EB4LIUkUwSTfQVFykKEdSkekWI4cS3rZkeQsShJ6BBK1l0FQFbiYYjAsJxE9Oy2yWXQEDTQFADjUVdMYMbLY5Q0EhplaQlQUFl8NmRypQ2UEdBFBkmQCIMBAZYPHn4Uh0XgWjAjQFMAMANYAmxDISorgBP15St5JAy8BVQxFHyNHYoQb1E8OpgnVwahEVxUAVF2TUVfCUjgPFJBdD/FQAQAlkgGHXBQVhwcBpo5JKkIJQBlBCRfa8YFoEaLS24K0MNTIVUh00StA4NVrVpHrG9nOjjW45KccSR5Bhj7lyrNvWGUgssSJBAQEAIfkEBQUAAQAs8QACAFUAEQAACP8AAwgcSLCgwYMIEyoM8E9OAIcLCf6b+M/guABc+kXcqJDfkhobCgR4UdEgmQgDKZxZ6DFAyAAxJhJsFOACx5sHLxJ8cbBMAQAzjvAssEbhMgABAPyMWVIgTZs4owpUp4OLnyIjDfajAABJxX9CAnRQSJVLoyIAmJZsBCYASoF+NErFiZVnQTQBHDS1pwAARIMUK6JVKxCIQbtzb9Y1aHiGRBUBjjSVSDHA4MAB/ExxO7DoQXsRyXBcXNBFgLAEdQSoMXkg5suVAzyNSHOhgtFZC4oIsESuwLArWguMPZhh5dkLdSpEghvx8LEZCS4JUALh67TG19ZMnJg0wd3TCWLFhXyQOPbYyDtG9NPcIGTUA1U7Li/T8vn66RPWVnh7o/f4AeRQUAynWVcZbE2pEkAFEVkTkWr+5UaQaAwO1I8DAHhG30QIWliAAr5xp5iEA/HDAABkyIUFZwNxEYCGgXU43AYAmBCWaCImBJZAG7jF03wCbYbAEWUU8RMYTe0mREn/ABFDDDRG8GQNvq0BFYk5FvTPWAaJ5JqRAxUwRYi7YTUQjQQBoJRB9rCnYJbl7UdQXAUtsyIWyg1E0zIzyeHnn3LQGRAAIfkEBQUAAQAs8QACAFQAEQAACP8AAwgcSLCgwYMIEyoU6GehwX6NyqwZV7BfgCn/HGpU+A+LjQ4CS1g0iIbCwAhkRiIs8wIBAAABCqxQNZBfAAcbcx78V4CgSINrEAR4EWCGwDIKW9yMoSOGywjLBNrEqbOqwIxYAmT9SfCfiABABi4JIEGlQSFc+v1bq8oBACD9VJ0JwGCgnIxWdW41G6AhAnsD++Gc63DtvyIAQCIxyDXvxr0FF6swWwMs351rsSQO0AhMAAUELwfAq9CzRsgEbQTIUVBIAKWF18YAwDrAVIc2FxYQbRD1QBcBXBOcEkAE767/yAAo0EjqTYfHBQop8jhAY4EmAhwhHYBLgA0a/zXZUgBgsXOqjq36FrgieEHiIB2qigBAB8HbC7kjvHvaOt/K9hFE3WQLzRdAZfc9t1BuCu3W33UBUAccQawFmNAyFAAwA18WoZdQdALVAKJA6wWwxk0q/XNBAKYhtMwFALygVkH/MFCAOump5x+NEWiFFxl0ASaQZ2eMNM4GALigln7WFTfkiI4dIRBIDsQQQAw4DhmTEGccIRRxAylloQrLvRDDmQLpgJcf4IUEZV7ZGQQARQNNIdRARXAnJl4dwGSQh7Y111yOVvFH0DbeBRDVQTQJ1IgcCP0TEAAh+QQFBQABACzwAAIAVQARAAAI/wADCBxIsKDBgwgTKhTYb02ARgsJjpMTQI46g6oCgInIceE4JDMuCNTx7yAWBwM7yCmZEAwFAAMBmPDTb2CZACpqdtxZcA3MgUBMAiiQo4iJAAogJhRSQMSMADMUIFUa4GZOnlgFNgICplGOACQLqpNKRufTGCwPLrOXdlwFsAL9IAnQYSDVrBH71fwatCAWumlVCSgwjueRACUEPi0YFu/Or40HPhVScIPGtBEpL5ZD2XIAMivVRjzTka9By38JtghAueMZBQIc6rWqM+HNhZ4jQsYcIMJnzDXA8i5YpgIFBgA2kElLe2GjIkKgS48ePUBq3QH6EkSJhnEAGwvJIPVAAAAABS4EmzvOurugbzIFwevg+E/dEvLX1Se86Lx09oL9iIQeQS+wFtE/CP7DBQAR8COQfgjdplBuC7VHkAsBFFFQXQMmlCCC6pTHX3dHLeRHZsMdZFpBc5nQVgEBLKPQhyX5UZ5OjQBwQYrrVShcQaoUUIAcOlFWQlpLBHCiVh8KVAMAHejUDwMBxCAQGjz2KNBXAVAQwFs/ChSUA0uUAcRQDg3kW4cOdADEElgI8VIBEn7m20hZaomSQRHU1o8OPyG10UD9rDmQCAZVUMZw6pwoo5YJLVnQXQKpMkURYPBH6InbDPSPKmAsUcQUAfSDYAABAQAh+QQFBQABACzwAAIAVgARAAAI/wADCBxIsKDBgwgTKhSoTqC1hQT/SZR4cE0AixAzKvQjpEUEAAHIHOSno4BAATEeKpwoUUQAAGv+EQQS4IjGmweLDBQQUmbBGgEcABFSIUCHfisnIgEAUg7SgTSL+MRJlYyQMuMuhDS4BgCCRjLVFV2SNEAjBCIcwKR4cUaAHANVUtVIUSuZqQLdAnkagAuADXgRlijQSG3MgREMipxL1a7BxGemjuPZUOESAEf6GZ5a5kUAoAHALEPoB6IcjXbx2gOpqiCDiwpVKdiAdLNAiVEDG6S5UIfug44JqgLJVyCF0ApNFIj5z3DB3AvRCCkyvTr162VQ9yToB0CBwB36JvT0u1ei85kBpDJeH3xgI5CBj4NBuExBhMrN16JXr3D0wtYZpUaQOiDJJZADAUR20AwATCHHg3IwAAAYcowDVXq/oddbhgW1NxCCGAnEj0kGElQCUyiiKBAWAwmRXnEHzbcQF9rdVdAKLw5EBgASZFhEDEAGWQAAJsSwxlNTvLUee1sVBAYAEYzjUwkBuMiQi/z4FNhmU8nhVQ46NbLkfzEIpEAAVAZA1kAubQAGGSoEEIFcwwUgF0vmXRRYEWcKtNiYpIFk0AxTLZOmQBWcNlCdd+J5nkHWnFYZoAfZo2hBABK0xhJHlAEjP6cVh6cfcvAzUEAAACH5BAUFAAEALPEAAgBVABEAAAj/AAMIHEiwoMGDCBMqDNBPTgA//RZKFLgsAJeJGBPaW1LjQoEANSIW/AfGgUAAF9YslAOgZUuBDAg67PAvo02CjQZ+DGmQTIACNYqsCIDAYUKWCDooVaqipsCZN6MGsKaDSyMgIEUO5BcBABaB/3QEKKGQJc1/aNEObHTxwkA/Um9i5UnQpwSnAcYVAKDqKICzafGKLUg37sS5WgWKzUHwH9kpfgGnHShnSQAKlBMPHCexDEbEjU0EOEI4wOCDLBl0iHChxhq8AaCulBhBM0LQA/9tCPCVINYZfgEUQPBSiMwAHSQuKyKEufPm0C0fztq4AgAwBYsEaJGw0RFVNVXZ6ghwnTJyw1Jxg93NJTHWGAgD584BQIT55AvtSYQ7vXCAf/YhUdB4jB0UWGBoAICAU7KVRZttB6kn0HhAaPWPCgEIaOCBaOVUgEhw4adQXwtV2J9mF22AFz8KAGCUQRyiBQYADqilTgAmoccQhBFSR5A6LZ4xkGVugfWVHCLlRNAy1tH1T1crGOeZjvFhFYBbEUxIkIAKIFGGEHtN+d9uGl65ARBLTKGDAgEwoKRAaGAmkH9U5lbBQQpYCOZACLSXG5kDleCSSyK8SJA9cJFY50hvEsTfQP2oAhkXnDUGlzU4cbFEEV+pJVBAAAAh+QQFBQABACzxAAIAVAARAAAI/wADCBxIsKDBgwgTKgygbk2AZf8WFlyG5kwjgnKKoJHIcWGjIi8iAAjA5WA/IQgGqlC18N8/OSYEDHTgsN+RAED6ddxpcEpBLBELAgmgAIiQDQEuqFP4zyGACzl0qEAARuDNnDyzCkQjhIw1EQGAFpQjoIAcgfw6BBCiUJ0DAEUI2tsWQI6OADMGLtOqFaxYgndrECQDIELQg3FNIET68zBfjn4dJw1QdWC/AgFU6Tx4gTLCM4JfDGR58OJCh5DDSk55liCFAGQQqsP8cUOEDkWWWsW5OeHNhTMkI4xMkN9I0gPVYkEoBwCCDgAURBB4wdpurApRK4yd+q9AayP5Ff9UjAThGgDop/Tr52d63gBXez/mSXygvZEQCar1ebA5gBgEbVTAUvEtZN1CyC1U30CYtTbQa5UZpAp6yw30DwIAOFSgQr8pFFx3kr1GhmMKBOCHfARhSEZv/4hURgBL4CTRiwtNIdxBCwokGHYBnMfAjQKZAECHAdhTAAB+eAbgfAK51FGOAZwR3YEBuBDAXQKdFMA4QXEBgATiBfAPW4ZlVpYNcTnI5EHqLMlAAGoFUN5AKyTFBRkzAMAAcsaZuNk/IgCwARZk6CAAABEu8aZAJa2JEHgHqUCQOiuMJFAEaxzW54lNWqPYQArwR9A4Z43jKEL9qDlaQS/FuKJBZ9kMQ5BLcixRBBh0CRQQACH5BAUFAAEALPEAAgBUABEAAAj/AAMIHEiwoMGDCBMqDNBPTgA/Cw3+m/iP4LIjYPpF3KhQ3ZIZGwoEsFGx4D8uDgZeWLNQBICXAAa+5PePpYiSHHMShEjQxkEwAQrUKLIiAAI/GhHq6MC0qQMAFwTaxKlT5zIdYBoBGWnQ3lMuAv/pCGBCIUWcHQAcCdAIS4ANZwTyrMqxn8atPgsCrUBwWwEAyxJSHOgHQAFrAXIYzEtXJ16DiscO/CciABaqBAcL1AHAhUA5SAJE/YxZ4LiIZTg+LlgiQGiCMwIASWry7L9+DACQGTh1IcuFEVRzzRwVLMGxsQ/a/gfUwUSpAW4uXCakSPXr1rMvEc44bPDdBIUE53iBcLkJAECeB+jduPHqycULIi8/WNXfRoPZJ7QXce7C9wNVth1BNQQgmUSDCQFACf3kF11pBf2mUHAbAShQgVsRVNYSEAZwVgQAcNHgcw510OFAjUSUoYrDEeSWiQPZgwAA/tX2zxkAKGDPWQGcFgFt7TnW4kDjzLhGUqFtMJlbciRF0QwA+KTZPyC6IF5qQZqlQ2x8UajYQGspsEQZQBQgQFxhRcXhZOoYySNDZ0gwEElZCkZhQQzg9E+ZAyFgXJoBrBnWdhuMWJo9EKlSp2A1ylVQP6pMEQAX6hgEEWIEKaqKZgEEBAAh+QQFBQABACzxAAIAVAARAAAI/wADCBxIsKDBgwgTKgxgb00AVQsLWluzxlpBOQHORNy4UNWRFxIABFjS72ARBANNNFr4r8wFghXK/PsXYEqAHBxzHuRSkKRBIQEQ6AjQIUCEcTQRrikgUogQEQAKoBFoE6fOqwLXALWmYmRJgo0KFHAYoF+JAEC+HlQB4AXBGAFU9JMDJICLqQ+x5pwZ12tBoG4HrgHgQK3BCgDAfP1HBoCEACIM+tSbs+vkgZGxFGQQACPCEgA0C/zHBUDkNUO7Clx5kLVCshEtGw7gIADegRsCcElqsHSFZQH+LbsAgGfNmxFtLlQd2y/BAgH8GD6LROESBQhEiECgYHLViJ4Vgv/hKLugSIgE3QJNCKYDgPcBNoynipyy3vLPoxc0EeBIQiyEcTHOOGA4AIBy3y20TUSuLefcQAoEAJtARYlmUD8KAFBGcP30cwYACpSUoELKKcScg5dRqFtBtU1IkB9RjTbTPwgAgJFmNkR0W0IpJoTfQEPlOBCMCPCDEIwF2DPjP/0whdGGJ9pX2YMCyQEAAqokVUMAMxBUxEM09VPjFP3wBWCRAVgjVg1fyjGblAXFAFdtuQVQREkddhkBTzWA2CB0sAERlQ5gkKEDU3UFh0VtAvUIJ0EiGRTZQPbEECltLgI6UD9AQPfeoAapg9GCjyIUHlgF/ePHEgGQ8SZG9mwM2s8yYBRxBBekBhAQACH5BAUFAAEALPEAAgBVABEAAAj/AAMIHEiwoMGDCBMqDMBvIcJGZQKoQ1jmn8OLDmNQEBAAiUWDRxQMLHERDUEEQPoRxBKgBsaXB8EUPPKRYJGD1i6S1MEggI2aLF3CHFpwWYsANAuqMmgigI6aBjf4HKhK5JqPQgKoIMp14NGkBlcQlBNAAVSCjQAI2FYTSIAZAknOPNtV4dezJJcM7NfPQYA1FAE4gCrTL8GmC5fWLXj3YESCHQKwPHhG8L+P/7gEADBOYFCHkxUidtj4ZAA5ULfePLgMAIBGly/ncO1H5WeHRYTk3q2798vSAwsEaFQwhkCVB0UAKKHu8pkCrgFLbrmYKPAAyMkSVI3coB8FglWIwhAQAbofz9QXdq7uFelZv2cKiggwpTvBy41mMACgIAZZAPagJ5RCoSU02kLXDVRgABEEYNJBsRVEBgAUfKRZDfYdJJ1CHl2UoFsYDkRcAAFCGOFAMQAAxEcmlUAXewld192IUxk30BH3xfYRGPyp8tF6cMGoUJAFCWHRZUKxZEMACJxX0IMBgLEBEFgs8QIAAXABlWY3vggjRwZFNhA/RAoEpUAIODjQhFgK5AAZXgopZ5QNHTSRQP8swwUSS1QEVUAAACH5BAUFAAEALPEAAgBUABEAAAj/AAMIHEiwoMGDCBMqDPCv4b+FBa2hQbPt4BmIGCEWeRFB4JR+BdUtmbGhQAAbDSGqq2EyQAEb6gYuCaAjo82DXArOLOgHQAAABQCgTJnwn4kAHYV0XCGT5s2nBckEOLqT4DIdYBoBEepQIZgADir2W+YggNQAQALEgMp2IFWD//qB3Dr0IcJ+JQAgIVgkgIoAHQxWbYvxbcGudB3aNdgvaCOCfgIo6Icmh1+IjwkXNEwQsVCGRA0+LgByYGlVAWbWXDgYoYuMnAd6tgF6cUE0km3/UxBATmqnEIUUEU58uHGbsQXOrm17YBkAEfrZbVj2omrNUJMrRvt5u0E0ABgoyG7Ie83v1QqtQVRVemHy2txpey8oB+j4fyYfX2cN8XXh34elRBd8B/ET1DIEjeZRADk0Z9BF/P3XGnOJdYVQBwBw0d4UAYggkFRMYXeTdopVaFtfCAqEBAAb8CMQPxcAwGEAKdYgm4gH9bPWQIEF0NdAOswQQwXQxRCDZQP5JEdp/BBZAhlgiADABQRhwUBTOBrEj08GlUBQBFwKBEB4BClZ2j+NbJBkB6gVNI5Ab2ZZUHsK+SHHnXjKEVlB9nT2zxlILIHbQAEBACH5BAUFAAEALPEAAgBVABEAAAj/AAMIHEiwoMGDCBMqXKjwn8N/BscF4NKPoUWF/JbU2FAgwAuIBP+B0dEBQYAIFjMG4BgghkOCjQJcuEjzoESCLwz+QzmQ58JlAAIAKADAJUiBMWfWXCpQnQ4ufop4NNhPyBI5ZU5adMqlUZGiD5GC0SrQT0WmNaXm1AnxDNmGYb8aBQnE4Fq0NNUqdOsz4UOIcv8G8DPl7RqE9hiSuag3IV+GggOHDZCUYcyFChhPdfzW78sAcgMIrrzwpkIkmu8efLwwclHRn0njZdoYIWu4IENPlp2QH0M/qfd2RjhZd2yZlhlmtlh79fCDrucOVBWgAkNrDHUE59zXs0PJR/sVdFBwdnbazbafTwxwWOBf8AP/bQBgQkiAxeb92l95MucMgljEEEAJAZjU0mUBiBCAECD9A0QMMcwXAYQ1lLeGUujlp1MHB3U0kA0HASDHWQpKNdB8BAEwlEH2AEedhtAhSJBZ0x0kR2JIBbAMTHL06KMcNAYEACH5BAUFAAEALPEAAgBUABEAAAj/AAMIHEiwoMGDCBMqXJiwX6Mya8YV7Bdgyj+GGBX+w2Kjg8ASFAuSCVBCQQCTDMu8QAAAQIACK1QN5BfAQcabB/8VIAjS4AaCKBe2qBlDRwyWEZYJpGkTp1OBF7EEkNqT4L8iAdbIOYlRCJd+/8KqcgAASD9VZwIwGCjn4lOcVEMe3Bo0Y9irADwiMVj1bca4Cek6vYslb4BGYLgOlGuVYWKMgBEKxnk3BoAcS2sypLmwAOOEkecqvhmWDIACjTI3VfjZoBCskEm2ZjvabiMFAPaq9us3tMHJN1VFAKCDIFOGbhW2jd33d22GwgPUKHh8IWeFnpnPFgic4TIKAGZ8gqa4uiHDGtsL+i7YXeGyCwBegC34j0EBdbyfrifYXmDiMyGNswEALoCV3EAlBCCCf+nlF8ARAnnkQAwBxICffwKp8BJtAg1VXIanvRDDiALp4JYfP33UYH4mHASARAIBgRAZbnnoVgcuGVReAPyklpqDTi0nkFIHXTiQTAI1slVOAQEAIfkEBQUAAQAs8AACAFUAEQAACP8AAwgcSLCgwYMIEypcqHCcnABy1BlUFQAMw4sLxyGZcUGgjn8GsdjoUCBAiYtgKAAYCMCEn34DywRQAROjzYJrVg4EcrDkwJMMhRQQMSPADAUBFDSKObPmzaeNgIBplCPAx4L9dGDxM8XkxWX2QAocV8GqQD9IAnQYuPSpzX4wq/JM2BWo2yNejRq86vZmVb4H6/YNIEQvxMIbBJKRI7bgMoZnMMpVKNjtGQUC1gSAK5PmQpkLE1/829hg5YtlKlBgAGADmcadnSJsVERI7du2bQfAIjnAXISnGZJBgAAAAApcCMYe3Jc03bw2/6lbUpy3wOUKJS5sy3Dyc7sX/4mu/8cFQAR+15t+Zii6u9XSBYMvHC9enXHtaAKYYOgnKHyE3gEH3Xz0BeCHcTU1AsAF/zHnHmCmDTjQEgayVWAANQDQQU39MBBADAKh0aCDA1UVAAUBlPXeQEUItJYDA9kzUAQBJCeQAx0AsQQWQqhUAGiK0ejRiCQGAKNBETi130Ha9UOjjQGIYFAFZfynTn+PFYlQfwZxF4CXBInVT3/bDPSPKmAsUURX/YgXQEAAACH5BAUFAAEALPAAAgBWABEAAAj/AAMIHEiwoMGDCBMqXKjwn0OHB9cEkMiwokI/QlpEABCAjMFlSGZQEBBASMWHDkUEALDmH0EgAY5YnHmwyECSZFwSLMNxoEmGKJEA4Cin38sARXTSXEpGSJlxFzoalAMEjKoZJU+6bIRAhAOWECdizTHQ2lKaEKPmTIj1p8USBRp9bTkwgkGPZ5eqVdh25hIAR/rNVVrmRYAaAsEsQ+iHoRyLapUa7FtRlYINRgcLdAgz6UKYC3VITriXbdaKJgq0/De3YOfRBtEIKTK7Nu3bZSB3hD2Q8kIuAID0c9j6qOe8eUsj9J1wmYII6jZrHvh64eKFqnSvXX6aL4ApcsLLpGEAAIyccdSR8j4aen1B5QeZIywxtH59gVh8IjWqEAxDLtq5J19NMRRoYAEAmBDDGvxNEQBZyCUnlWluDaSOSfzoNNpgSskBAAI52NRIhNjFIJACAZQg0BIEIRaAXVEFAIROqnBk1mYosTbRaEWgKBBeJDLWU0EzKIXAQRfQaONAObLGEkLWPBZdkAjZ85hB2Q3UmEEjCsTPY/zh+JAfcvAzUEAAACH5BAUFAAEALPEAAwBVABAAAAj/AAMsC8AlgMGDCBMqXMjQ3pIaFwoEqNEv4T8uOTogCLChIsODcgCIFGmQAUI5ATr8+8iyZcJGByVStKgAYUeXIRF02LlTxUqDKDu4HNrSmg4ujYBM9Hhw5RQ5YDgy/RhS5b+rVw82KnjhoB+iYBcqnckw6s2WVbFiPahDIdmwcMdOTWh27sK0an8GkLMkAAWQdgOMc1mGqNyPdXECYNAhwoUaa/TuTYnTZYTACg+XlaoYQAEEJIWcpNxyWREhp1OjXt13qOaFiVs2OqJqpSobAQBEBUoaru+DrxXG/qi2aQ4AIkD2/mjP5VfXSxFzZpkXKxoACH4GrdzyMvS3wqcToa/+D2YBj1+FtlTlEgjmhMHpimdI/h8YAA6yqgvg4HfCfu/BF91mZzWFxV4ewYTQMhUAQNY/EQCwgmiF+dfSP0oF0FUEBuF2UGvJ1RRADAMF8M8GASBx0AUbALHEFDrUxICCBqHxl0HgWajQPxUspABTMSwEgIInpnhQCSONJAJKCtnzFXs6EkcjQs8ZBGVCcvBj0D9fWYPQVksUcWBWBgUEACH5BAUFAAEALPEAAgBUABEAAAj/AAMIHEiwoMGDCBMqXLhwGZozjQjKKYKGocWFjYq8iAAgABeD45DMuFAggI5/DP/9k2NCwEAHawL0OxIASL+LOA1OKYgFpcSOA0+mjAngQg4dKhCAEUjTZs6nAtEIIWNNRICeBSNyUaXDpE+F6hwAKELQ3rYAcrrOGLgMKlSrWBF2FbqQrAmEGwzGdXsR7leDc/8ivBBg6cEzNQK8GKgKYcSFMS36TRh4obqSGTdE6FBE3cCmNxXSXDhDMMLJcr0ulAMAQQcACiIIvGCNac3QCSMrJNP3qumgqhWuAUB8Sr9+fmSvDQCar1vUBysrZA0gBsGKBTw3V1h7YWPJvikHv0+oijgWgv8QAIi5PeFohaXB7wU8PqF6Mrj/cSwTYElNhvwtNMVvBkFHH10KmQDAewHYUwAAfhQWgHXOCaRSb/MVJN1A/QgRwDg+cQGABPxY6GEEKKkiQAE2kCVHhWBRyEAAHQiEBEFdBUCBjgLRxU9HfoT2jwgAbIAFGToIAIBh/c0o0EcwImQNUAWpQJADBzng048BBGmhNXcNpMBOBY3z4jhRItTPiwZ9J1CEBfnhx1cv2oPeSksUAcZZAgUEACH5BAUFAAEALPEAAgBUABEAAAj/AAMIHEiwoMGDCBMqXLjwn8N/BJcdAdOPoUWF6pbM2FAggA2IBP9xydEBQYAOFReKAMASwECW/P6tCSAC5MWbBP0UtGHwn8mBKBnq6EC0qAMAFwTOrImzqcBlOsA0AuKxZ4ApcsCcTKnwoc0OAI4EaIQlwIYzAnU6vdivIlWeCbUGbehwoB8ABawFyGEQ7tqbbxXK5Zrw4UAdAFwIlIMkQNLFNgmOY1jmYuC4W+l67ccAAJmBSyMfnLkwguWqmOcW9vpPq4O6AUIvXCakSO3btnMvOe334GDND00AAAJb9l+nlxH+7mpYVQEAjQwbT2iPoVqGyX1nZl5XCIAS/aTTmxRtkLRC0xazG1zO/V8EAFzC15VzknzBRth5C97O/QwABfZ4FcBkERB2nH6pGfhPWXKk9NAMAPBkWADuJSZEAJUdWJgOMwRQQQDo8TXQbjQFoIBAMehFYVJL2PSPOggAsIaAAfRzhgQDfaQhQu4dxIBNLxwEgCoV/cOii7ttIB959uikyo48XpcTQU8WJEeDdgWg4kBPqjJhAAEBACH5BAUFAAEALPEAAgBUABEAAAj/AAMIHEiwoMGDCBMqXKjQ2po11grKCXCGocWFqo68kAAgwJJ+Be0tqXGhQIAaFv+VuUCwQpl//wJMCZDjos2DXAp+LNio40CUDNcU6ChEiAgABdAInFnzplOBa4QEsKbCI0iC1nRwaQTkZMyFKgC8IBgjgIp+crq6UBpA1VObMM1aTdi1xleFFQCAufqPDAAJAUQY3PnWZlXCB+veTVgCAJaB/7gAELxGh1yBjRBmXrjm4uGrib0ylFxhWYB/yy4AyCmTJsOZYD3PRajY4hIFCESIQKCAMFOGExeCkY3YYG2GYDoAWB5gw/Clrgu//UxX9EIsABxwGTcOjAMAsH8vwNzGcDND6rStJ+ynAECZ0/36nQGgAKR4hbAVVrWIPrTdhX4gJRBMMCEAwESP2cAQWwoVl1B/xqmHUIAF2EPgP/0MNdF7+0nnFIQFHUdQEW3F1I+BU/QTF3YI8DNVAQXUQKIcoHl4UAxlOdCcQEWA1lUALEUgkA13mdSZQEAgpQMYZOgw1I//YKGjQA7aSJBPBQk2EAUH1feVkQP1A4RJyylpkDoTkWclQsHxRJB5BPlx10T2hNnPMmAUcQQXagYQEAAh+QQFBQABACzxAAIAVQARAAAI/wADCBxIsKDBgwgTKlyosFGZAOoQlvnHsCLDGBQEBEBC8eAGgTM6LkRDEAGQfgSxBKhhseVBMAWPiBSoqmDIliUC6GAQwIZIlSxdCi24rEUAmQXHDRQSYEbFjzYGqlIQYE1HpiqGah1oFClCpk4XNgIgYJtIIE0F5ow5c+vCrm0JgmVYBoCDmTAdFDTBsKbbgnATzl14xu6/jv+4BACgNABQhioX8q0Y+GvahcsAAGh0+HAOzX5QPmZYREjp06ZTt6x8cPBCEQBKqDt8poDmNQJH/3XJ2qBrhX4U2FUhQkAE235yr2TYeLfA3gV/IzzcaAYDAApiyFlsT3lQhZEVToJmCF3uZYWdC5IBQKGj4hooFeJeyJHy0bhLzyfsPDMGACAdkVQCfs4hVF5+YcVEEH8dgYGdKh01lmCBCE24FIEDfTcQSQKBsQEQWCzxAgABcDGTYgN5RSFBGhnUAUEXHISASAgEwGEA65EokANkYLjijwLFN1BEAv2zDBdILDHRTAEBACH5BAUFAAEALPEAAgBUABEAAAj/AAMIHEiwoMGDCBMq5OenzBp7Cg1aQ4Nm28EzETNqDFDkRQSBU/oVBGOiAAAAAQrYsBhRXY0CAlWqG7gkgI6NOA9yKViTYL8LASLM0OHC5AZ+Cv+ZCBpAyMcVNG3mnFqQTIClPQnqIPOv6z85JqcoBBPAgcV+yxwEsBoASIAYVOMOxJq0qw0AMxL2KwEACcEiAVQE6GAwq1yNdBN6BQIALsJ+JhsR9BNAQT80OQJnlHy4YGKEXjsAOJJQcgGRA1GrClDzZkTDCF1s/HywKxIADMYlRFP5H8F/CgLIYS01o5Aix5MjX46TtsF/a0yyRVgGQIR+vgN0VYuxdWeqzgvKzVHQNyIa3F69Bl9D3LVCaxlVoY4YfuB4jhnlACiQvitMyd69lpFsiBF3kB8MACBEdguZtAxBpoEUQA4MIoSRgAXCJpAfDgAARFcaicbFfGKJIJBVUH2XU3iNdAgEdhUOBNiDAt12lED8XACAWAHQWMNAMaooUD+OCUQYfgLpiMBbMTgmBEEoyYEaPxUAUAIZYIgAAFADYcFAVEIaxA9KBpUwUIcHHSlQlKj908gGAwHQwWoF6RaAnWH6lJEfwxnUSIwQAfnPGUgswdtAAQEAIfkEBQUAAQAs8QACAFUAEQAACP8AAwgcSLCgwYMIEyr8pyoAGmsKDf6b+M/guABc+kXcuJHfkhobCgR4UZHgmhoKBgIoISeixwAhA8SYSLBRgAsccya8SPBFwX86AihoEWAGA6F+NCJcBiAAgAIAZpYUaBOnzqsE1eng4qfISINLlqgbOA6nz4RauTQqEpUiVTABIgxMirWu17MR4TpISLEiW6klgRjEW1fnXY5rAuxF2DfA38Z+psQdmPigvY1kch7eKFiFUoluH7sNUHWjzYgpOW5WuAYqGr40HUcN0Lh0RJ4KkWj+qnCb3KCwaf6lHdt24cKrD47bEGDF54Ojh482npDfRj+7CRdU1yGACesLY0uhL37T9MbUG5NnFRGgxOWIjUVPbVhhI8SIwNPzLmivRAARY3HUl3wD9VOAAs8dZ9h+A/GjQgAdBHgQFwFURtxEBAr0zwYAmCBEAJkpuNCHMMXl0wwDBQUAUQTFQBB7QpT0DxAxxMBhBDXW8NkaVjEookTdGSSSQC4e1NRA7Hk1EIcEAfCUQfZg19CPjJ1WEF0BTGlQSwPZtExNcoQpphx0BQQAIfkEBQUAAQAs8QACAFQAEQAACP8AAwgcSLCgwYMIEyoUeObMsoUE+zUqs2ZcwX4BpvyDyFHhPyw2OggsgZGgHBsOCHZYs7DMCwQAAAQosELVQH4BUnbcafBfAYIkCxYJgEBFgBopEazZiLBFzhg6YsCM8DAATp08swbYiCVA16AEuRSxKFCdiABgDwrh0u+fW1UOAADpp+pMAAYD5TDVuvNrSYVoZnZ0+68IAJFIDKbly9EvxEaCORLGcjhAIzABFEQ8uDch5sZo/yY8EqBD54SEYwDIIfAqRJwLC4hO6FihHwQBPkN0SwZAAchWc0KcbVDIUNCLDarbEGAGcYT/GikAkLi1cMZ8ax+0VwKtvZ2qIgCn0EHQ9cLTB/Uif27VRGl14CMcLWheIWyFstcf5Gd0A1mOy1AAgHMXXacQewTVgCBB2g3UTwwBXLDNTstcAMALbRX0DwMFwIddVg0G8GAAFFR1EGZnlDTOBgC40BZ63Z2V24IfklbaUwHE4KEQArlX0H9OkSeQCr69EMORAunAlB/MjUQjdj4WBABZQh5kk0BBMtWBTAZh1RpkwH2YlXoLzXalZXJAFxAAIfkEBQUAAQAs8AACAFUAEQAACP8AAwgcSLCgwYMIEyoM0K9RmTXjFhIcJyeAHHUGVQUAI7HjwnFIZlwQqONfwTIvEAwssEKjQjAUAAwEYMJPv4FlAqi46bFnwTUyBwIx6CKAgxgBYqiMsEyhkAIiZgSYoSCAgkY4dfL0ybUREDCNcgQoWVAIl62qHAQYmnCZPZMCx1UYK9APkgAdBmLl2rPfTbFsFxbBy/VIgBICpRYky9enWMYKseDd2lHIVIFyLG8QSEYO3IJNF57xCLgjUrE9zygQsIZhv5w7F+ZcuLnj488IyQAo4EdimQoUGADYQOYzbMoHGxURsrw5c+YBJNteu7BRVSS4cyNAAAAABS4EjzfUHn87oaoIY7Mr/KduCXfpAcQrxFidNHWE5wPUUJ/wn/9/XAAQAT8CyZfQbArVJlF5Bi1DwVTIrfcfe93Rh0YAJkjU20JC8GdQaQZZM9ILEfY3YQB+dMdTIwBc4OF4CzE40DibuVCiQEugqNeJ+gHQAU/9MJCUQGi8CKNAqD04V3oCqRBAAS8sthV64AnkQAdALIGFEDEVgGAAZKBHkpFHqmVQBDzldZADcPVD5UAiGFRBGeqp01toRya0YUF7BdBnQX602ds2A/2jChhLFDEFQ/4FEBAAIfkEBQUAAQAs8AACAFYAEQAACP8AAwgcSLCgwYMIEyoMYE+OwH4LCf6bOPHgmgAXI2pU6EdIiwgAApAxOKVEgYEIgKhbSHGiiAAA1vwjCCTAkY04DxYZKEDkTIIOAlCoEUBFSBUQE7ZEAiCknKQCaxb5mbMqGSFlxl0QadDGGaplTpKharBiIwQiHMSsiHFGgBwDrVXNWXHr2IX9TAQAAjWhyUZqZQ6MYHDk3Kp2NRLVQfbgEgBH+gUG+yIA0QBgliH0E9GhRruNDfIjDKavQVUKNkCcLHCi1NAFay5k/JnrwpoS+C00UUDmv8CxA0xdiEZIEePIjysvsxG0QjAAei/kAoDvROA0hcM+XNswwrAFuCzJXKYgwsoAv9dmH65Q80JVzX0iRHMSS8QZAKbI2S+HAQAwcowz0Gu3RURbRIlZhEAAU2xHUAlNRRihQPYJJIRwphkERkTidReaHAsi4SBBRcRg4okFAGBCDGskNcVb3HGXIEFyKGBTQupcyM9PjU1GlRwAIJDDTo3E+F4MAtlYgkBLPGSjA0gS1KRAqoQkV2st/YZRY0XYKJB3Rh7kR0gGzfBTTwdVRqWVA2WZXkYGWePQeWEe1NBB8Ank2WkD8eNQX1n6IYduAgUEACH5BAUFAAEALPEAAgBVABEAAAj/AAMIHEiwoMGDCBMq/NdI4DaFEAsuC8AlokWI9pbUuFAgQI1+BdfMUDAQgAo/EOUAWLlSIAOCcgJ0+HexpsGGAjt+LFgjgIIXAUYGYIAToUoEHZImVUFTYMwONqMOtKaDSyMgHkESRDLF3tQIHhWqnPmvbNmBjSpeGIhSalSsOxdiCUBBLACyZpsG0GEwrtuLcLUqJBMAbMKxec86XUJ3oBzBBMdFLAM4K8R/fGPoNaiSQYcIF2qs2fw0YkyIESAnDAwRTQEAa+wCKICgpRCYMiMuKyKEt+/ewBlbZJ1QlQMAQlQXbHREFU1VNgIAAOM491+3xA9auwBgxmWzA//lygAgojpUjBHbRsxecNtaF8oLJjaLBgCCpqVTRkw93LLBcVCpwE9E85XVUAFaoXSeQqqsF59B7AmkTnkmDEhggWAA4MBZ6gTgwHUD9fMghP4NZE95JXh10D9zPSZQUQItUwEAcf0TAQAr3EYZiAn9g1UAaxkWXQD/9AQAUAT1JNA/GwSAxEAXbADEElPoQBJRBKFRl0B+8ShfBQcpoJUKCHW0ZJNPClQCSyyJcFpB9qDUoJcrwsjWQHMa5IdW/6BkDUFpLVHEXIoFEBAAIfkEBQUAAQAs8QACAFQAEQAACP8AAwgcSLCgwYMIEyrk50cgP4UHl6E504ignCJoIGrc2KjIiwgAAnAxyMVEgYEFcqiD+O+fHBMCBjpYE6DfkQBA+m3ciXBKQSz/ClIIEGFGABcnRehM+I8mgAs5dKhAAEbgzZw8sxJEI4SMNREBgBbUQSaowDUnRyZU5wBAEYL2tgWQoyOAUYHLtOoNAFYsRKM1zB58awLhBoN+9+7sKzhh3RoKLwSoevAM5BcDVSGsCJHmRsYaDy9Ze7Ljhggdiqy0inNpwpt/GycErbAIAAf2EsoBgKADAAURBF6wxhqrQs8KySwOK7vgmZNlmg9cA6D6lH79/AS/e9W14qy0D67jQRDAp8LdAGJsDVBgZXeIxCFq/swcoRzySKQTVFUdC8F/CABA03sKwabQDPoVFJ5FCgRQRIIEBUiGa/+AVEYAowGh0YUQTQHhQAsK5IcDOH04kAkAGBiAPQUA0FBV6n0nUEvLJSYiiUDo148QAYxjFhcASPBQAP/wGEFQqghQgA1vySGjQurEyEAAHQiExEDBKRDjQA86FJIfS/0jAgAbYEGGDgIAQBmGUwqk1pMHWROSQSoM1OBBJQzEz5dhWlOYneYRNI6T48CJUD9OGjRfAA0d1IhgTuY2UEtyLFEEGHIJFBAAIfkEBQUAAQAs8QACAFQAEQAACP8AAwgcSLCgwYMIEyr81ygAmnEKD/6b+I/gsiNg+kXcuFHdkhkbCgSwUZEgmhkKBgpQ0VChCAAwAQyEye/fmgAiSnLcadBPQRsGZwRg8CLADAQBHKhSqKOD06cOAFwQeDMnz6sWdYBpBGSkwSNT+A1cFsFrQoo6OwA4EqARlgAbzgj0iZVnP41dgW5cEmDq2YkD/QAoYC1ADoN6617Ny5FMAAoLAQvUAcCFQDlI+g6Uo5MgxIhldjLeCFQoQrQT+zEA4Jgqzs4Hb0Ysy3G0wjMCCsjRKBE1mKSSq8I2uExIEePIjyvnW9tsQlUOAgiJjNYEACDBXyvebvvgsgpGI6LCDaCqAIBGFAMIj2hvI92N3QtamxqD91/AQgCU6Jd+vULZCtEGn3MFbbNBAC3YR90/EQDABX+AyRFAB8MV1JJCXTWXmGcdBGCCWBxRdAYACtgzHkQRKLgdT/EFoE6HH5721m4CUTQDAEClFwCDlU0X2ooL6SAUeLQdJpBQAhRFUA0D/TPVEjr9ow4CAKwxXgD9nCHBQCQBeZaABDFQkgkIIVXjk1HytQGEw9nj01JenvYeQe9dWNCcPhVG0FKq6BhAQAAAIfkEBQUAAQAs8QACAFQAEQAACP8AAwgcSLCgwYMIEyrk5yfAGnsKDVpbs8ZaQTkBzkTcyFHVkRcSAARY0q8gGBUFBhaoYVHhvzIXCFYo8+9fgCkBcnDcmZBLQZIFNwSIMCOAi5QbICZcU0CkECEiABRAIxCnTp5YCa4REsCaipElCQIBEzaAHARgE6oA8IJgjAAq+skBYpRqAFVZsdaEm3Zgv7IDdbZNWAEAWYH/yACQEECEQaB5sX6FrJCrC4UlAGAZ+I8LAMdrdPAV2Ahh6Yhrdk4GjNBxEYWeKywL8G/ZBQA+b+bciDPiV46rIy4BoGCbzYRLFCAQIQKBAshWN2KMCEZ1X4RMA1Sn3gGA9wAbtuvlvho5cnCEchQEOLIRCwAHXMaNA+MAQO/oEbdtPL3xvEE5DAQgxHEJ9aMAAGXQ9tcZxJWEn0K9KfRbf9cR5IcDAQBBYEJ+SIVYTf8gAABGm9mwkV0KUSZhhaRFkCFrCHVYgD0g/tNPUxglOGF5WfnXYgA6wDjQa6rY1I+IU/Szl3sI8NNVASu9JoeQPLr1FoZCBVBEWEIh8BZBXKnk0EBASKUDGGTo0BRdtGGBoUAqVmmQSAY5JtCbBnVQVkqpCdQPECl5Z6ZB6mCkn5wJTVcQfw0dxJ9ZASgVwF/LgFHEEVwcGkBAAAAh+QQFBQABACzxAAIAVQARAAAI/wADCBxIsKDBgwgTKuynUGGjMgHUISzzr6HFiwFiUBAQAEnFhjO2WURDEAEQhgOxBKiBseVBMAWPfBzYQWCMAC8EXsBYIoAOBgFszFTJ0qXRgstaBJB5kJ9Bjwk3BB2oSkGANR+FBFBxtOtApUwH/ps5UEcApQgbARCwbSaQADME9oxJ1mtDsHUPFtmasAwAB2RhOihowqIquwbxYtSK8MzfsQL/cQkAYJxAohZVNix8UbHCKQKXJVwGAECjsWNzlPbDELPFIkJgy45Nu6VnhHIGokQoAkAJdWPPFCi95vJKxEdvG/QDtMhuhH4U/FUhQkCE4X6MF1VoGfnXpXkFZpcX+Pzg2EYzGABQECM3AHvaM1vkbFH5wfLmIRMkA4DCx8k14FdQcQ1BVR94CekQnkGokRUDAEB8RFIJC3p3kH2HrVThEQQ1+BEY66nyUXdxWahQiQUJ8VFNB71VEEkCgbEBEFgs8QIAAXBB1mQDhWUiQRwZxGIAESAk1UAIBABjAPzhKJADZFT445QISRTZMlwgsQRFZAUEACH5BAUFAAEALPEAAgBUABEAAAj/AAMIHEiwoMGDCBMqVCcngJxxCg1aQ4Nm28EzETNqDFDkRQSBU/oVLFNBwEAAIuSIXFijgMACNtQNXBJAx8abB7kUpLmzQIcZAWowCICgYcJ/JgJ8FPJxxcyaOKMWJBMgKU+Cy9T9G2ivQ4AZKw+CCeDAYr9lDgJQDQAkQAypcAda1YglwIaE/UoAQEKwSAAVAbzujItzbka+CvsVANCIoJ8ACvqhyfE3Y2PCBQ0rXJO2TMLGBcIGWKkqAE2bEa8mdLFRc8E1FSg4AEABzFaEaCDfFvhPgUPTUDMKKTK8OPHjN10TXIMAAQAAEZbsNlgGer/b//6lxXgas1TlBf+p4cPCAMCRhGgAMMjOvneANcBRK7SWUZXohOAHticDIDJCOQAU0F52LjXWXWoZsaZRfgEMqBhjCPGz2DIEgQZSADlMd1FGqimUX3sCWfMchQh1AAAXYU0RgAgCUeWUd4UBV1Aj7A2kA3R9BUBiAEgAsAE/AvFzAQAq6ihQDfrBeFA/bw0kmF8CSbABEEtgIcQGAAgw1kkOrcRPBQCUQAYYIgBwAUHkPaWkQfwAcFAJAwFWUAS27eamSrw1cpdAAHRQWkEQBRDomgTdd9A/1oCxRBFTrFFjQfYQlN0ZSCyR20ABAQAh+QQFBQABACzxAAIAVQARAAAI/wADCBxIsKDBgwgTKuTn5wyaZQoN/pv4z+C4AFz6Rdy4kd+SGhsKBHhRkaC1DiIHRuBSEqHHACEDxJhIsFGACxxzJrxI8IXBRgAq+LSBE8AUhcsABABQAMDMlgFs4tRJlaA6HVz8FBlp0J4qgv90BHAAteBVLo2KOKUosBGYABEG+tFYtepWnxshArCHkGJFtU9LAjGIty7Vuxz9BECQ0G8AwI79HI0rcA1CvhHJ5EQcUVWJAEDoSmQLmW3UmxttRlSwmevBfx3gBmAghF9jmo+dBnAsdSNPhUhaFy74z8FABTkwvyat23Rvw9A5J+x3ZkMAE7dLAt6N+/nCjYo5Sq9HqgCA5eXam3dHHVG1QtbiXUf893lJX+aBB36tsNHaRrHxDdcYTlhk909pLfVTgAKiQXeYfAqRIQAA7nERwHncTYTgQP9sAIAJQgSgmYMK/RMiTHD5NMNANjiQwxEBHKHCUgAKJEIAQpT0DxAxxOBhBD3WINoaU0FIokSxGZTSY0sKpIAQDd641UAeEgQAU10p9tWRfblH0FwD2VPGUUiUodxANkGEphxstikHmAEBACH5BAUFAAEALPEAAgBUABEAAAj/AAMIHEiwoMGDCBMq7BcATQBVCgv2a1RmzTiJAab8i8iR4z8sNjoILMGQYD8RCAg6WBKxzAsEAAAEKLACokB+ARx03JnwXwGCJDFGcCFQZIAiClvkjKEjBswIy27m5Em14EYsAbAGJfivUUGkCHAiFMKl37+zqhwAANJP1ZkADAbK2Vi1qtaSCvn99OrxbBEAIpEY3FqX512OFwuo63j2I+AAjcAEUGDyIF2FkjseVrhMaY2djWMAyCFVZ0SxCgvgVbh5sMACCHSsVniWDIACfHGaXhhRCFLNAQgXrBBAQAAENS4ybqQAgODShaNnDT7b6hoRATpUP6gqAgAdBHV7ruQ4F7hwhOp0ZlbYPcDn8FNPc1RtfrvBGAGERFxGAcCM2QztlpB9BNVAIEGtKVTCUZxdAMALZlnFgGLS1ZWgQLOt8dMaA0l2RknjbACAC2ZdNtCC2AUAxoEVHlHUUgHEsFgAQDBgw28v/ITfQEqBJ5AKt70Qw5AC6UCXHxucyKJ0JhwEgHJTpERQAUDYQ1CPdHUgk0ECBsCPV3xVWFV5N52BlUAzGmQTZHIg9E9AAAAh+QQFBQABACzwAAIAVQARAAAI/wADCBxIsKDBgwgTKgxgT06ZNeMWEhwnJ4AcdQZVBQAjsePCcUhmXBCo419BORsKELxQZiEYCgAGAjDhp9/AlipsetxZcE3MgUAMlhGwIUaAGhECFCCjUEgBETMCzFAQQEGjmwFy8twqsBEQMI1yBChZcNw2gv1eBOhgEuEye20DjKswVqAfJGsHXuXqsZ9NsUEl+lQQt+ORACUERi1Ilu9OsY0VMq1QWKIQqQLlXN4gkIycygKXSTzjEbBEPyOXgE54RoGANQH84tSZsOVCzh0hr95GIYADAA5USyxTgQIDABvIxJ29sFERIc+jQ4ceAEvpAIENWkMQIKYDIbQTkupBgAAAAApcCDJ3zFW3Qn5kktpYbfCfuiXlrQtcnxBj8+vZKeSHAAWoEt5B/yT4DxcARMDPflkdKJREuEnknkRJMaWQggmqY55/aARgwmmW0VeQaR1RRVpCHJrkh3k6NQLABSayl9CFBFW2BAAI+BfAEgH4oReHAtUAQAc69cNAAEYFgEaNNooVQG90jdWWCRHogAQXQogQ02EDJZWeQA50AMQSWAgBUwG2dZYUSVCy58BBEeikg0oEBRdXP2IOJIJBFZQBmjpCimajgAftFds4ZCxxxBJoHNiPkGcJ9I8qYCxRxBSxJRhAQAAAIfkEBQUAAQAs8AACAFYAEQAACP8AAwgcSLCgwYMIEyoMME6gHHsLCf6bOPHgmgAXI2pU6EdIiwgAApAxyAXkQAEm/CykOFFEAABr/hEEEuDIxpsHi5wUKXNmARE1AsxQEICBKoUskQAIKaffzABFeuKcSkZImXEXRBpUxY+gtQgBgDhFWLERAhEOYFbEOCNAjoHWpuKsmJWM1IRCAqjQWKJAo7QxB4ItOFLu1LoaadqIuATAkX6ApZZ5ESBoADDLEKpcKGdj3bsHyyAo0FShKgUbnEYWOJFm1IU0F+oAjRDxwcJEN5wZm9BEgZj/ABd0TbsgGiFFkCtPzryMZ54HwRQYWIFL8YFcAIidKPzpa8OGbRfe5K0OCYIAXBIuUxBBHevVA4kvzLzwqMbPEacAoNCv+AwAU8ghoBwMAACGHA0JJJ9CsSk0231aRbQMAALwVlAJS2WYoUBYDJRXERZGF1F6ENoVkRwAFHBdETG06GIBAJgQwxpjTeEWeOCJl1A/MQQgQk/q5MVPT6BFJhWKCOSgUyM41tdjAESVINASAykgAhBLTAEEWL8NpEpIcbHGUnAYgVYEUQIV1qRmIRk0Q08dtDnQBWgQ9GUAYQYwZnAwIWRNZ+6tiZA9nW010D+qgIFEAAGCxk9nFo7phxxdCRQQACH5BAUFAAEALPEAAgBVABEAAAj/AAMIHEiwoMGDCBMq5OcnwBprCiMWXBaAi8SLEe0tqXGhQIAa/Qqq2uBRIAAJYCLKAcCSpUAGBOUE6PAPo02DjQZ6BFlw5YUYHykEAGAx4UoEHZImVVFToMwON6MOtKaDSyMgH0MSVEdx4D8bASg0PbiS5r+zZwc2snhhYEOpUbHyjNiwgFayAMyiHavD4Fy4GOXeTbgmgAOFZfemdbok7EA5gweOk1gmcNaIjToAEDLW4EoGHSJcqLGm81OJMiNGiIxQ8MF/bSMYLtLZM8sCCFwKiTlT4rIiQoALD0688UXXBv8pKCAggAIdrAk2OqKqpiqwAFI67Q0YLnKCY/mV2Wn7IuFerzkAiHjMXaE9iW8lfk+oKnfq5IrPogGAoOlplRKtdtxlEf2jGRfR5XdWTnYJ1BBUEakiX3QGzYfQPxFkl6CCYADgQFrqGNbdQP1QWCGB5qVUQFf/YBEAZALlRNAyFQAwF4YArLBbZSOah1UAsQkElkAzRJDDEVgUYcJQPwbwzwYBIDHQBRsAscQUOigQAAMyCoSGUAL91WNB/1RwkAJaAVHSQAoccdeTUQ5UQkstiXAfQfY0JOGYr3VJUHwB2FPGFEUsUQY/ZDYEkVpcLFGEi4sFEBAAIfkEBQUAAQAs8QACAFQAEgAACP8AAwgcSLCgwYMIEypUJyeAHHUKDy5Dc6YRQTlF0ETcyLFRkRcRAATgYpAMBZEDSzRU+O+fHBMCBjpYE6DfkQBA+nHciXBKQSz/Ch4pIGJGgBkMAiDww5ImgAs5dKhAAEbgzZw8sxJEI4SMNREBgBZcBnGgug0Baix0AKAIQXvbHOo4OnCZ1rsBwIqNuCSvQrcmEKL9GRQvT72F/wZ4ofBCgKoHz6hlLFAVQosRaXJEnFmBAI0I1RUI4HFDhA5Fyga4qlPhzYgzEivkbHANhQBJL5BRKAcAgg4AFEQQeMGaVZytE2pWuHtzWNkDyyBAIDLC3oNrAGif0q+fn+FGVyP0N4yXdugpCgL0RdgbQIytAQpAZB3ReETLzq8nBAPAQfKCqmiHBUH/UEcTfa5tFFt+0B3ET0zWNCgQdWQk909IZaiH00YZRjSFhAaZl1CAAagDogkAvCaQPQUAwFRV75EnUEs7iYhQDgFcUFg/QgQwTmFcACABPzP2GEFQqghQgA1urSRjaDEm1YFASAwUwQZA9CWEYwU0FwA/IvnR2j8iALABFmToIAAAkKmXlEAkPYmQNSgVpIJA/ZRQp0ARkJEYmAGIOaM1gQ2kgE8FjdPQOHIi1I+TBOEn0DJg9DWFHP8J1JA9BLq0RBFgxNXoqAl1J2dAAAAh+QQFBQABACzxAAIAVAASAAAI/wADCBxIsKDBgwgTKuTnJ8AaawoP/pv4j+CyI2D6Rdy4Ud2SGRsKBLBRkWCjkAQpkNGYUASAlwAGvuT3b00AESU56jTYkKANg2sEXIgRoAaFAADAKNTRoalTBwAuCLSJc6dVizrANAIy0qC9ZQT/1QggNSHFnB0AHAnQCEuADWcE9ryqs59Grj83yglQIKdBigP9ACgAMYfBvHSt4uVoMwI/sxMH6gDgQqAcJGQHyvE7cNzGMjoXR2yUtgjLv2f/9WMAgMxAqpyBbowQuutBlg4EOFgL+axSB5Ed3oxdcJmQIseTI1++pDbigqcDMABirzdFEwCABIeduLvohP3KHNIlivBsAFUFADQCzF1h9YhzI35X2Ch9/LCAhQAo0Y/98Ig2RUQbR/OZtUEAXFgXAQBc9BfZXh0QZ9JGXBFoW0T/0KZUeROdAYAC9pjnWQTRdbdTgQglSJhA/7glB0sUzQDAT4AFkCFlQgQAmokK/aPDDAFUEMCAhgn0QgQ5YFZECUjlyKJUS+T0jzoIALCGeQH0c4YEA5HEo1kDFsRARf8AIRJBCmA20D9QStncBg7GZk9Dqnxp1n1yEaQOaEcgccZjBTUEEUF1qlKjnYj2KKFVAQEAIfkEBQUAAQAs8QACAFQAEQAACP8AAwgcSLCgwYMIEypUJ0egPYUGra1ZY61gwzMQM2pUdeSFBAABlvQrWOaCAIIi1vxT+K8kwQpl/q2cEiCHxpsJuRQUWXBKgQ4zBDIIgEDOSIRrCoAUIkQEgAJoBNK0ibMqwTVCAlhTEfLowGXqCNoTEeCFQhUAzA6MEUBFPzlAAriIGkCV1aoy23bNqPOCwgoAwBz9RwaAhABkd3q9e5MrT4hLAphYibAEACwD/3EBQHaNDr0CGyEUDXFN470K1zgQQIbywc0VlgX4t+wCAJ0BpmakCZGrRseLBzYUCICCYMgKEIgQgUDBY90QhysEc/pxQdMDIyBxjRBMBwDgA2zxoC61JuPzeq0fVMdFQYAiwQliAeCAy7hxYBwA4A1d4baMpGUEXEZlAIBAfAL1owAAZczWTz9nAKDASP0lxNtZ1SFoEAIB+IGQH08JJJNMCADQEGY2ZESXQuolNCBE44Bk10EgFmDPiP/0o1RDDfqGnlUvKhRXBF4VUddK/ZQ4RT95zYcAP1oVUEANRhr1o0IxsOWAeALBJ1AFG+gQmRAbCESeQAUEgF0AQDylAxhk6KBUXLNhsaVALV5JEEgGJSbXSQRFcCaaag7UDxBpguemQQwF8J+eCElHUIBaUVfEFCoZ1NBDCfazDBhFHMHFowEEBAAh+QQFBQABACzxAAIAVQARAAAI/wADCBxIsKDBgwgTKrQ3UJ1Cg43KBHB4sMy/hxgzBohBQUAAJBcJoglQgGCHjCMHIgDSjyCWADU0yjwIpuCRkANfbhjogKTGEgF0MAhgA+fLmDOTFlzWIsDNgtbGEeQncIXCnTYGqlIQYE1IIQFUKB07sOnTjBUSNgIgYBtOIAFmCARqEydZjGbtInxJtyIAB3Zr9iRoAqOquwbzPpQTAEBNhGf+/gv5j0tjqQGOYnz5sHBGxQfTDuSil+AyAAAaTZ6cA7WflpoxFhEyuzbt2zJBF2RM8MhDEQBKqJt8pgDqNQJjI56p+yDDnkJKD/Sj4K8KEQIiGPeTHCZGzMsFNqVHOLIkwsmNZjAAoCAGYwAMM3t/yFmhZ7xOpRvkytvg6oJkAEBBSJbV0JJCyD0E0mf5YaROSY2c999AMQAAREgjlaBfeAeNlxBgA/k20GqTCQQGe6qEhJlcHCrEYkHRCXQBQpYVlFIAYGwABBZLvABAAKQRVKNAZ7VIkEcGnSTQC+YJWRACAdwY4I8COUDGhkaS1RIZAi2hEEUB/LMMF0gsYZFdAQEAIfkEBQUAAQAs8QACAFQAEQAACP8AAwgcSLCgwYMIEyr8x5ChQoPW0KDZdvDMw4sYAxR5EUHglH4FGzIsEgAAEJAK1dUoILCADXUDlwTQkbHmQS4FZYZs6KcAgAAn/yX8ZyJARyEdV8ScabNpQTIBiuok6DCACAQrTKJECCaAA4r9ljkIABVogBhO0w6UmhAJgCU1tCbsVwIAEoIkVQToYHCqWoxsDzZCIKJf3JNzfTYi6CeAgn5ocgTQ+3Dx34KBDZooICfA4a0GFxcAjVJVAJk0H/pF6CJjZoJTAAhh+DkhGsdCB/5TEKAzaoxCigQfLrx4zdcCVSmowI+2XIRlAETol5vhWIu/LzdFPhnAGpD/aiPYRAOAgUiGvNecZvrQ2kVVoBMiJwPAhZz7cl4AsCHH9EE5ABRw3j8sLZadQqsd1Bpg6xHkFgAQRghhAEodxI9PyxAkmkcB5JBbQhap5lqDA5URw4koRgBABTHchVAHAHCx1RRWCQRVhdodR6JuBYknEEkZCuTWBvwIxM8FANAYQJA18JijQf2gNRBfGul2XpOIDfSTHCjxUwEAJZABhggAXEAQFgws9aRB/PxkUAlWiuRjSb2h9E8jG2jZgX8EjSOQn2sWFN9BA6oiR5AF2UPVP2cgscRtAwUEACH5BAUFAAEALPEAAgBVABEAAAj/AAMIHEiwoMGDCBMqXKjwn8N/BscF4NKPoUWF/JbU2FAgwAuICeUICNBhYcYAHAPEcEiwUYALF2MelEjwBUaYJBcuAxAAQAEAK0EKdIlTptEA6nRw8VPEo0IhAGqgFHowKZdGRYA+HAomQISBfioeldnUJkI5BVx03UC14EOIWYOCBGLQ7NiYZRH224BAFZepCd8GiCvYzxSvA9cgtMeQzMW8B7NO6be2LUHBhLcGIMrQ5UIFj50a9FNARIB+f0sGZjkYaADBnBfSVIgktN2B/UQUkCOw8mqWcV+zjn33KGSCRwIIAekboebgmokn5MfQj+2C1hA4IFgbpvWDz11HkX/ZmSFoi8cFfkd43iBmrawDqApQgaE1hjquE1xm0DRoG7/9k5lQ/RSggFjFkSWaQs0J9JdiAr014ED/bACACUIE4FiCgWWIklc2zaBXagWZtlyEQMQQg4URqFgDgmsUdRuHbqlWUEcINRiAaU0NZCFBAPhkkD3WzUcjeJ4VFBZCEiU5VAD8DdSIHFRWKceSAQEAIfkEBQUAAQAs8QACAFQAEQAACP8AAwgcSLCgwYMIEypcmLBfozJrxhXsF2DKP4YYFf7DYqODwBIUEzZCECDCwjIvEAAAEKDAClUD+QVwkLHmwX8FCIJM+E+EQJMKW8yMoSOGygjLBMqkabOpwItYAkTdiXDJwAghEQrh0u+fV1UOAADpp+pMAAYD5Vx0anNq1oIjRZjFmtHrvyIAPCIxSJVtRrc3TRSQg6bkW41eseQN0AhMAAUEDz9l6BgjYINTAgj5N1cyQrsxAORQOpOhzIUFPBu8TFCVggr8OJes6ZUMgAKNSDNVqHqgkCJ/A/R9qgLAGoGd6zZSAGCvbr9+WQvkEkDHwOQYVUUAYD1m6YVrFaqmtSz8LT8FCtb4mT7TjxyG2gPUKLjUNMPU5IerU8hS4TIKAMxwGEW7NcRQDb0RJJ09fAVAkoAJLXMBAC90VdA/DBSwH3RNSXcQdgI5dkZI42wAgAtdhTdQCQH4FAAYCXJ4hEAeORBDADFseOFcBQnVXQDFFfBCDEQKpMNafmywYozQmXAQABJ9aBhBPq7VQX8FFRgAP7nlxqFT4x2ko0EwCdTIezcFBAAh+QQFBQABACzwAAIAVQARAAAI/wADCBxIsKDBgwgTKlyocJycAHLUGVQVAAzDiwvHIZlxQaCOfwrJAAjgAmRCMBRGCgRgwk+/gWUCqHiJsWbBNSoFAlG4zYHAkgqFFBAxI8AMBQEUNIIpk6bNp42AgGmUI8DHhDMKxCBpEuEye13HVbAq0A+SAB0GLn1as9/LqjsRlgGgowjXp0cClBBYtOBVtjar/i2oLoIDe3aB2hRiVKAcxhsEkpHTleAyhmcwwkVoI0DMxJUxKxCwJoDbmDMXxlwY+aLg0AHOAJgBEjTDMhUoMACwgUxX1E4RNioihLjx4sUDYNEcIC5BexEUXA5geyEZBAgAAKDAhSBwwOBf+9kN0F1gdYb/1C3Jvlzgd4USF65luJmgHAEd5DxsHsCEnPkJ/SPgP1wAEAE/7jWlGkOt0WdVZWQo1JFCAwqojnbxodEfQ34wJARsB9U30H4ERebADECAKFCFIPmhHU2NAHCBiuAtJJ5Cdr1Q2RIBdChQIxUKVAMAHdDUDwMBbBUAGjTWKFBVAVAQwFgPInReABGQN5ADHQCxBBZCpFTAapJl6VGTTvpkUATBEXReP1mWF4AIBlVQBmzqdDidkwn5WBCABVkTAEUD9dPhNgP9owoYSxQxhWkCBhAQACH5BAUFAAEALPAAAgBWABEAAAj/AAMIHEiwoMGDCBMqXKjwn0OHB9cEkMiwokI/QlpEABCAzEIdApEsfOhQRAAAa/4RBBLgiMWXB4sMFNBRJcI1HAMs6dfwIRIAHOXwHMiyiE2YSMkIKTPuQseE/Co4KBFAZM8AjRCIcIAS4sQZAXIMtIYUJkSnZI4WZAlGRVWLJQo04ppyYASDHssiRXuzwIt/bq0uXALgSD+6R8u8CFBDIJhlCP0wlGMRrVqB/TYoUBUgMENVCjbwRCzQYdHLBll+RH2Qr0EhAaYI9LzQRIGU/+iuDWB0IRohRYALD068TOWaBeUUEGGTdkIuAID0c6h7JW/Weiu6Hpi5gOTZbxMuxVMQQV1p0kSvL4S8kLN25AMJix1okiV7gzMATJHDXw4DAGDIMU56vSmkmkI6YFfQdgIdeNB8BpUA1IQTCoTFQLAVMVRCYDDExXFpcfdhQQ4EsEEMXGxIUBExtOhiAQCYEMMaQ8kGYXZ7PbWQcwGoAxs/Nl2G2FFyAIBADjI1gmN7MQikQABU6ZQQj6pwRFZpJOU20WVFPClQXktGllNBM2BHpZUDZZkbSghZQ5l5YSJkD2UGuXcQZ1cKxA9lKmbphxz8DBQQACH5BAUFAAEALPEAAwBVABAAAAj/AAMsC8AlgMGDCBMqXMjQ3pIaFwoEqNGPoUE0AgKUqGhRDoCPHw0yQCgnQId/FlOqTNjooESKFu1FMFhCpUcEHXLmVIHSYMkOK4OqtKaDSyMgEzkq/KcDQA2NShd6PPmvatWDjQpeOOhHqNeFSGEuXFNgxhSoKadatXpQh0KxX+OGjXqQHwUFy85uTAuA6tqDcpYEoACYrsFxK8sInbsUCICCeg2TBMCgQ4QLNdb09GlyZUmVESQrZJxQTgETBiPzBVAAQUghJDurXFZESO3btnMLDkr6YL8NBVoGUG2x0RFVKFXZCAAADGDZcaMf7B3gnxAASA4SX/jX4L8cAEQ8vgeq0t7KrryTIlRVYObBIp3RL11rFQ0ABD1/el4ZOj3cAGuk5ABD9FnVUgEcdUVeSqqsBIRoCfX2j3AIATWgDpshVGBVYADgwFXqBDCgdAj1A2GE6qW03T9YBCAHRxQatEwFTnH0TwQArACbYiSq9A9SAWzl3nIMrbhBANkZdMEGQCwxhQ4KBMBAjGgQZtB/PS5VwUIKiGYkkgeVABJIInyWkD1dNZilRRMuJJ9CiMX4T1fWIJTVEkW0eJVBAQEAIfkEBQUAAQAs8QACAFQAEQAACP8AAwgcSLCgwYMIEypcuHAZmjONCMopgoahxYWNiryIACAAl4VCOgr5p/DfPzkmBAx0sCZAvyMBgPS7SNPglIJYSCKUU0DgyJItAVzIoUMFAjACYcqsyVQgGiFkrIkIkBNhvw4KVAT4mVCdAwBFCNrbFkCOjgAzBi5r2nRq1YNFAGBJyxVhWBMINxh8y/aiW50FGyEQ8Y8u4IMXAiA9eKZGgBcDVSGMuLClxb8HRRTwg3br4YLqembcEKFDEXUDlc5UCHPhjM8IMRdEAlag4YRyACDoAEBBBIEXrCWNuTqhZYVk/FL9LPjC6tsI1wCYPqVfPz+/0wZQ3Zet7IElChzSh34wN4AYBCsWQM1dofCFki8vJ8jlPMEVAc7GN6hqOhaC/yAAQEvtJdSaQq/Jx1cAYSWEHkICklHcPxyVEcASMTFk4UJTwJbZfAMlV9BviWGIkAkAHBiAPQUAwBlSD3YXgEnKLXgQef0IEcA4OtUnAT8C/aNjBCSpIkABNoQlh4wKqfMgAwF0IBASCZHHT0d+rPaPCABsgAUZOggAwGIXQinQR0wiZE1HBmmFkJVYamkNXgMpcFNB4yw5TppWLclfQpK9N9CS9gB40hJFgEGWQAEBACH5BAUFAAEALPEAAgBUABEAAAj/AAMIHEiwoMGDCBMqXLjwn8N/BJcdAdOPoUWF6pbM2FAggA2ICcsINLFQBICTAAae5PdvTQARIC/KJOinoA2MEUYu1NGhp08HAC4IdAlzplGBy3SAaQTEY8J/OgDMCEBS4cOYHQAcCdAIS4ANZwTWPHqxX8WmNxGuEVBjCdWGDgf6AVDAWoAcBtOSlYkWIT8KDLa5rfo0rsCoLgTKQRJAqOKYBMcxFGmx78GoXAIMtnr1Xz8GAMgMJAr5oMuFOSs7NSingAqBmwtfBRPAgWHSC5cJKbK7N+/fblXrHfgXgaqKsRF2/mcCAJDbL0vvvWiZIBAAwTW/lQ1RVQEAjR4GtMCt0B7DsQyrC2xUoAJBIS8DoC94NYAQACX6iSef8LTC1OmtNtp/FR10VQQAcKFfXHIE0IF0BTUSoHAFzSdQB7UFoINsZwCggD31SRZBgdPNpB5CyQXwj1dyFPjQDADcJJ6KCLoAH2UlKqfDVO6lhheK2wn0j1BLxPSPOggAsEZ9AfRzhgQDfZSjcgASxACE2hGmIpFGurXBgtLZU5MqUypnoVgJbRPAcTQFYBdBZKoyYwABAQAh+QQFBQABACzxAAIAVAARAAAI/wADCBxIsKDBgwgTKlyo0NqaNdYKyglwhqHFhaqOvJAAIMCSfgqRCNSx8F+ZCwQrlPn3L8CUADkuyjzIpeDHhI0QjFy4pkBHIUJEACiARuDLmDOTClwjJIA1FR5BIiyBwEUAkgpVAHhBMEYAFf3kAAngomgAVUplsvwaFeESAEhiYk1YAQAYqf/IAJAQQITBm2llQgVcUJWCDf3kLiwBAMvAf1wA+F1DEqrARggx87w4WGpBEwUmKlYYucKyAP+WXQBQ0yVMhi8XWmbY2WDksa/nJlyiAIEIEQgUAD7KcOJCMJzbEjQcgV/L0QrBdABAPcAG5EZfB05bm+CKAGZzL9jEAsABl3HjwDgAEJv4wm0MNdNWLlDv94EzAtQ465lgPwUAlIFaP/2cAYACILmnUGxZJUeYRw0e5MdQArHEEgIATOSYDQyFt1t/CXUnkIAF8UVBAEcgNGEB9lj4Tz8+TSTgbNvNJCJC0AlUxFkt9YPhFP2sRR4C/DhVQAE17CgHiDUWFINXDlinI5MC5RhAAQGsMRAQQ+kABhk6+ITbP1hEKdCDTRbUkUF+4XhVQVhqKVA/QGBJXZcGqTMRfGkiZFxB8hmE1jItDTSRPQMRuAwYRRzBBZ8BBAQAIfkEBQUAAQAs8QACAFUAEQAACP8AAwgcSLCgwYMIEypcqLBRmQDqEJb5x7AiwxgUBARAQjHhkoH9FqIhiABIyIFYAtSwyPIgmIJHOjI8ubBEAB0MAtiQmXJly58Fl7UIEDOhiQIvBNI8uEHnQFUKAqzpKCSACqBYBw4tenAKUR1KEzYCIGCbTCABZgi0CVNmVoZb3R4EG2BpwTIAHLh96aCgCYaq3hqMe/DqmpthEZ7J+6/jPy4BAIwT2JNhyoV/KxJGGJKuXYLLAABo1LhxDtF+QlZmWERI69euY7PcPHBZTnsCPSsUAaCEusZnCog+HGC14Ja0BSZ9mDsxQj8K8qoQISCCcD+UVTKcfFwrUbcPrxaaVJuwcaMZDAAoiCEnMu7i2hdeVpgZ7neCXo3KFVi6IBkAFHQEWQ2fFUScQhxpdt9AZxhEwUBFIFSaWzEAAERHI5WwX3cJJTeXc0QRNGFHYKinSkfckcdhQioSJMSGiNVl0EgCgbEBEFgs8QIAAXDhFmQDcbUiQRoZ1EFCug2EQAA0BvAfjwI5QAaMQ1aZUET8LcMFEktM5FZAAAAh+QQFBQABACzxAAIAVAARAAAI/wADCBxIsKDBgwgTKlyo0BoaNNsOnmFIkWGRFxEETulXUA6Ajx8FOvi3UF2NAgIL2FA3cEkAHRVjHuRS0CXBfmsAIOjAk6cKkgn/mQiQUUjGFS1fylxakEyAoTYJehTR75/VqwrBBHAQsd8yBwGcBgASIAbTswOhGpxa9arVhP1KAEBCsEgAFQE6GIyKlqLamzlFuMWKsF8BAI0I+gmgoB+aHHcZJu5b8K9UAAw6RLhQY81bhIkLcBw4WlUAlzAX8kXooqLlgR4DFEAQ0m5CNIyBCvynIICc00oZCikyvDjx4zFfB+jX6IgqkqpsBABAZrTBMgAiVN39D+xE1JSZKt0PQJh8DgAibmMezDvAGuCpGzJUZV2hcvZW0ej83BFAAfYoJQaeagy15hdwBOH3z2KiIcTPYcsQFJpGAeSgG0ITEXjgagpyAcBICXUAABfWTRFAemEFgFR4Mo032UDWVABADXUFEKFASACwAT8C8XMBACbaKBCNu7F4UD9mDaRXALYFUMEGQCwxhQ69MUDfQAD4Nho/MpZABhgiAHABQVgwkJSRBvGTpUElDBQmSB+JsBhBWcox2j+NbIBlB6YVNI5Af6JZUH0JNcLFEkVg4Qd/BNmT4D9nILEEbgMFBAAh+QQFBQABACzxAAIAVQARAAAI/wADCBxIsKDBgwgTKlyo8J/DfwbHBeDSj6FFhfyW1NhQIMALiAT/MTAIQA7GJQE4BojhkGCjABcuyjwokeCLgg4ZACjY4WXCZTsBFADAEqTAlzFnKhWoTgcXP0U8GhQJwKjFplwaFSH68CiYABEG+qm4dGbUmzh1Wl34EOLWoiCBGERbVuZZnFRntg3wdq+fKWAHrkFojyGZi3fTAjARgMIKLmy79u0aAClDnwoVIJaaVqBmgSb4JaT8NsBeywtrKkSyma5Ah0XkVFR3BEGAHGsH7i1NGXXdpYkXfi1Q+CBpoqZbVobJUPRCP60t/kMAYA1ZvCB5K/edEHPCzwyDN5yMAKDM9ZCSuSoPoCpABYbWGOqIznBbAADQEbadbLRfAQXn/UYfQaqc188MgQ0E2WCvPcSfbhssJkQAhwk42oQpgXUTggLp4EAOSGAhBAUBCECGUSIEIARI/wARQwwRRvBiDdetkRRnFhrXwUEdCYQhQRGAYVWKUQ0UIUEACGWQPdC1l6Nx3ol13TYVLmGdQS8t45IcXHYpx1gBBAQAIfkEBQUAAQAs8QACAFQAEQAACP8AAwgcSLCgwYMIEypcmLBfozJrxhXsF2DKP4YYFf7DYqODwBIUC1I4WEZhmRcIAAAIUGCFqoH8AjjISPPgvwIEQRocuaHgGoUtZMbQESNlhGUCY86syVTgRSwBoOoUGQApTSFc+v3bqsoBACD9VJ0JwGCgnItNa0oNSXCk1aZb/xUB4BGJwalpM67dWTVvXCx0AzQCE0ABQbYE0SokjHEv1RICTWBBvDBuDAA5kspkGHNhAcoIHbcNIIBgB3UZt5IBUKCR5qUKQRcUUkRvALwDkay5aG+K4RipGykAYPd13ryiE6IJAOCtQlURAOggqJSh4oRnG9+WbXAmmOsHoQeiqFGw+sLOCj9rx52wJ5eFyygAmEGZIuyGDGtwL5gcIT8EAYyV0DIXAPCCVgX9w0ABqB3HVH8BoCfQdAqwRdgZIY2zAQAuaAXebQGIIBAY+zkYwBECeeQAcDE0KAQDNqAYQE8AQDVQUNMJpAJrL8Tg44Ro+dHTRyU6aMJBAEgUwBLdZUUQjmh1sFJ35bnmmolMZSeQkkcgsRxCLwnUiBwI/RMQACH5BAUFAAEALPAAAgBVABIAAAj/AAMIHEiwoMGDCBMqXKhwnJwActQZVBUADMOLC8chmXFBoI5/BfkBOGhPIRgKIwUCMOGn38AyAVS4xEiz4JqUAoEYFFmgQ0iFQgqImBFghoIAChq9jDmzptNGQMA0yhHgY0gADkDSXGZPa4BxFaoK9IMkgE+BSp3S7OeSqs6rWdUWPBKghECiBa3KpUlV70CRcfcKFFJUoBzCGwSSkeOV4DKGZzC63QkAgYgAFWKQaXzxjAIBawKwhSlzIcyFiS/25SwyQAGCNTgfLFOBAgMAGzYvLa2wUREhv4MDBx4Ai+QAbwn2E+JHoDUgr+kuJIMAAQAAFLgQJN1UMN+qsg3S3A288J+6JdaNC+S+UOLCtAwnM1w28nH5f/i5AIjAbz1T0wylFh94DPXzWiPhDYTfgupc5x4aAZjAUHMLCZFgQfItJAcABbiH0IL4BeDHdTM1AsAFF3qH0GoFIUiQPXaJ4NUSIg6E4IIC1QBABzP1w0AAMQiERoreURUABZh5pJUKEehAIxAOuBbaQBEEoJ1ADnQAxBJYCIFSAacpVqWSKiYUpUERzFSDQRes4VU/VV4ZwGUFVVCGbOo0Z1+ZB1HYIkGqWFTEFA8V1E9z2ygY6BKDihYin5AixFaZAQEAIfkEBQUAAQAs8AACAFYAEgAACP8AAwgcSLCgwYMIEypcqPCfQ4cH1wSQyLCiQj9CWkQAEICMQTAHN/Rr+PCfiAAA1vwjCCTAEYswDxYZKKDjSoIgFRSsMTJhSSQAOMrpKbBlkZsxk5IRUmbchY4fA7xICrERAhEOUkKcOCNAjoHWksaE+JQMUoEgp4oNUKJAo6wqB0Yw6HFtzLJR1SZdAuBIP7hIy0ytgXYZQj8M5VgsezYAyAgbAmywoZihKgUiAwAW6NBoY4MtF+r4fBBvQZABECAQWGAKUYQmCqj8B7eg54VohBTRzXu37zKLbRaUs8RwAD8vAAigiJALACD9HNZmGeCo3bWmF6oIECPhMgUR1HHX3jzwtkLjClUFN8uQS4AIpAPMADBFjn05DACAkTOufPX4/okGIEHZKXQGAA7EV0JQDDIoEBYDCVHdawehppB7FTHG0EsdUDhQETGEKGIBAJgQwxo9TeHVddhBtdBbAQjRkzoS8nNTY4AhJQcACOQwUyMsptddADqVINASAzEgAhBTLJFDAe/1J5AqHIXFWUm0TdRYEToJVFeQB/nBkUEz3ESBQSqoNxCVAVgZAJa0pYSQNYqJB+ZB9lRWkJoC+cEFEgFw0Uhj/Cj2GpZ+yMHPnYwutFWQAQEAIfkEBQUAAQAs8QADAFUAEAAACP8AAywLwCWAwYMIEypcyNDekhoXCgSo0S/hPwQKATRiaFAOgI8fDTJAKCdAh38cU6pMuNGgRIoWEQBI2GEgR48IOujUqQJlR5Mrg6q0poNLIyATKyK8KFFoRwAn/0mVerBRwQsH/TjdmhApzKUIECgV6jHqVJ8BdCj8ynWr17EGmXIte5ZqxyUBKByUA/fguJVlhL6NWUBEgAouwKz0yKBDhAs11qANULLD4pUR+jIcvFRiAQUGAbhQ6RFAAZkzhZAEqnJZESGvY8OejTco54P/hJQMMK5IAQBIOTY6ogqlKhsBACj+abmtc4O3OWIJIJbhWdw5ABhmvtLeSq22k67E5Pd7t8K6U9EAQOCz8mWVmcOz5fiPAYA11tH/21hAqdbmKamyEhCaLRQdQwICIOBC+v0DBgAOUKVOAA48h1A/BRooXkr8jHaBT/9Mx5dBLR20TAUAfPVPBACsoFpgFqb0T3BYRWAQcgbNEEEOSGAhhI0FwBjAPxsEgMRBF2wAxBJT6AAaAyUGgIZeBs0Xo0UVLKSAUmolFEEZYxFp5EElgASSCOYhZI9WC17JYJRZIWQNGHgtgZ9FWlmDkFVLFDGdXQEEBAAh+QQFBQABACzxAAIAVAARAAAI/wADCBxIsKDBgwgTKly4cBmaM40IyimChqHFhY2KvIgAIAAXg2g6FozQT+G/f3JMCBjoYE2AfkcCACl5sWbBKQWx/CsYUkHBFzsT/nMJ4EIOHSoQgBEYc6bNpwLRCCFjTUQAnTwBlHiqzgGAIgTtbQsgR0eAGQOXQYVqFSvBkCWCXgRrAuEGg27XXmwrN6rWpxcCLD14pkaAFwNVIYy40KVFvlkddAhwoYYcmgjVFQiQcUOEDkXUDWyKGWHMhTP6JoT8ViSC0aolAkDQAYCCCAIvWGMqs/RBxwrJ7L2q2g8SxZxrdCyTcA2A51P69fODG20A0nrXslaI1kRsgXKex954G6CAaOwKdy9EznB7QjIAGHwPoOo5FoL/EABwiT7hae7zFeQeQuEhEKB+ZGD2D0fMLSETQ8wtNEWABA140H0RBGgCAP8FYE8BAPghWADjZSfQScPlhdAyuOlAUz9CBDBOUFwAIAE/J8aYIX0CFGADWHKYqJA6JTIQwGQBIDHQZ0AsMYUOrzmglkD8dOQHTf+IAMAGWJChgwAADBbAEkYK9JGQCFkjUkEqDIQkQSX4IVeVAVx5ojV1DaQATgWNE+Q4aCLUT5AGsccZF0gcgYWIBgVpD34oLVEEGGMJFBAAIfkEBQUAAQAs8QACAFQAEQAACP8AAwgcSLCgwYMIEypcuPCfw38Elx0B04+hRYXqlszYUCCADYgE/3UsCECVQhEAUgIYmJLfvzUBRIC8SJOgn4I2DIoUULCDNYU6Oggd6gDABYEwZdZcKnCZDjCNgHjUWQDB0oczOwA4EqARlgAbzgi8yfRiv4pScxYUabXmw4F+ABT4mcOg2rI001JtS/OtQB0AXAiUgyTA0cEzCY5jWOai3rUFCpQIUMEFmYZY//VjAOAy0piJD8JcGMHxVMgCFQyMURFh5n9gAjhw+FmpwmVCiuTerbv3EtN3B/4TIkfgOCEdhbTWmdkEACC0AyQNjRe4xSkBFCxf+1ZVAQCN3k6+X2iPIVmGj8kLAHCeO20hAEr0Ew964WiFpS2mV/hPAYD7zDkUAQBczEdbcR1QV1Aj6FnHEIMA/OSaQ2cAoIA9WAWwWATbVeegQvysABZI/3wlR2sPzQBATn79M6ALQgTQmIcJ/aPDDJQFkF9dAs0QgQ5IYCFEaQWIJdA/Ry0x0z/qIPBfhgH0c4YEA31Eo2v5FcQASDoYJMGMRya55G8bGEidPTeZdOVB/7QHV0RgLFHEEgC+KeFAJqniVwABAQAh+QQFBQABACzxAAIAVAARAAAI/wADCBxIsKDBgwgTKlyo0NqaNdYKyglwhqHFhaqOvJAAIMCSfhI7FlTwT+G/MhcIVijzr+SUADkuyjzIpeDHkAgKqgCZcE2BjkKEiABQAI3AlzFnKhW4RkgAayo88hwoB0AHpSoAvCAYI8BOOUACuDAaQNVSmS29Sg15dWYFAGB4/iMDQEIAEQZvnpUZVS9Vq0pLAMAy8B8XAHjX6FArsBFCxwvXXOw7VWBVBlcv1FhTUuHhCssC/Ft2AUDNAEgZvlwY1SLlkAJzChTSOeESBQhEiECgQG/qhRMXgpm8lmBGVSBV2egIpvZBMB0ASA+wYfhRmHv3vl64uIPzglgAOOHgMm4cGAcAVv9WuI0hZIbbFa4h+n1gPwUAyoju1+8MAAUgrZfQagq1Bl9xCjXSUX0C+UGUQC21hAAAExFmA0NkKeRXgQgmNJwDDAbgYAH2RPhPPz9NpJ+B2c0UH0LWpDQDQUWUVVI/E07RT1rhIcDPUwUUUEONclTWokExdOUAdQIVwdMGFwCxxBQ6KBCAAu8FUEAAkgkEBFE6gEGGDj+FJRoWSwq04ZEFiVQQXgKVYFAHwQ20ZZcB9APEltKBaZA6E7XHJkJ1EpRlI6dh4YeRAUxkj339LANGEUdwIWgAAQEAIfkEBQUAAQAs8QACAFUAEQAACP8AAwgcSLCgwYMIEypcqLBRmQDqEJb5x7AiwxgUBARAQpGgn4MIGKIhiABIP4JYAtSwyPIgmIJHOg78aNCETIUlAuhgEMCGzJQrWwotuKxFgJgFP24QutTGQFUKAqzpKCSAiqFYBxpF6jHAUpaNAAjYJhNIgBkCc8K8mXXhVrZKW5YB4ODmSwcFTTBU1dbg26QBogpEezLhGbr/Ov7jEgDAOIFAGaZcqLfi364GzSZcBgBAo8SJc3T2czIywyJCUKtOzZrl5YHLinwWmEMg44QiAJRQl/hMgc5rIKvsO/Q1w8IH/Sigq0KEgAi/aZpW+Ji41qNsD8pZmLjRDAYAFMSX2A7AnvCgCicrrMzQ+MF+fAPwQwi6IBkAFDoyroEcYfCFHFmGHUNkBJYQaDfFAAAQHY1UQnbWJeSeQdssFQNBRxCEYEdghKdKR9WhFaFCIhYkhEwb6CCQZgiNJBAYGwCBxRIvABAAFzfdJhBXIxKkkUEdDMSeQiG5GMB9NgrkABkQ9mgdGEgIJEeTEQn0zzJcILHERDcFBAAh+QQFBQABACzxAAIAVAARAAAI/wADCBxIsKDBgwgTKhSobk0ZOf0WDrSGBs22g2ckapRY5EUEgVMiEvz3z1oNBASXLFRXo4DAAjbUDVSpY6PNg1wKqiz4bxkFAAxm6IjhoGbCfyYCfBTyccXMAEZvSh1IJkDSnSNVAFhhj+AyhWACOLjYb5mDAFUDAAkQY6rbgVcNrhErc2O/EgCQECwSQEWADgaxvtUYt2AOqDf7FQDQiKCfAAr6oTnsd2HjwQULE9wQAAuYEhEu6LiMsHEBkQJFqgpAU6JghC42ah541gSAAhFcKpiLEA3kfyMVBJDDGrFEIUWQK0/O3OZsgQgAAKhh7984vxH4ISwDIEI/4AFInu/N2Bqz1OeQu2sXOE4BgLQG0QAlSf+f8LnlFVqTqAq1QvQRADDDSLYJgZAct9VHkkuN5ZfQawfFRlhxmQEQFUltrXUQP4t9NZBpIAWQA3gJZbQQhAihJ8RWI3UAAIoCucgFalMEIIJAVTll3k3oBVBAAY+FNxeQA/HlYQBIALDBevxcAECNAXhYw0Ak7khQP20NBFgAfAn0DxBAIVFGEdEdNhAAw4nETwUAlEAGGCIAcAFBWDDwlJUG8YOmQSVQ2Y8OLr2Ug39oQuRlI5wJBEAHqxU0Dnt4GuTfUf2oMkURU5BWUFdU/nMGEkv4NlBAAAAh+QQFBQABACzxAAIAVQARAAAI/wADCBxIsKDBgwgTKhTYT06ANfYWDvxH8Z/BcQG49JPIUSG/JTU2FAjwwqLBfkccDCwwYyPCjwFEBohBkWCjABc66jyIkeCLg/9mBCjgIkCNCzkTLgMQAEABADRNCryZdKfVAOp0cPFThORBJAEi3OyYlUujIlArTgUTdqAfl1d1dv1ZkJ8CAGt0VrSINqpJIAbpxpXrtSDbqhz3Buir2M+UtgLzHoy4kEzHuQYBz1gTI0CFF2gUKmasNgBViWMVKrhceGC/nyWeBkDQdEnC0n0DKD69sKdCsBwxF1QhcIOqfv+6FnAIVG3u0rwHXxVOcEUAAcx1mwigAyFuqLprmsjGKZGfRD+sBQ+sERZugCMBRHgX/1x89ISpE64O3npgV8QBYBFAB/PVRJpUqngmkTUSdcefepEFoIB7gFlXYHJpiRdAPwVMKN10/Qn0zwUAPCaQOg6UOBAXD01U0YETbQCACUIEYNmHt9UYU1g/CTVQGQIUAAQZU1CAE1zyCWHSP0DEEIOMEThZA1xrVAUhjgT9Q6BBI03ExX5NlZDgQPJ1NZCMBAHglEH2oDcmlgb9k59b7v2jDltLyOHeeMvYJMefgMrxVgABAQAh+QQFBQABACzxAAIAVAARAAAI/wADCBxIsKDBgwgTKhT4b+C4hQL7NSqz5iHBfgGmNITIMeE/LDY6CCyB0eC/KQQFqNh4sMwLBAAABCiwQtVAfgEcdNx58F8BgiQP6hCoQuAGnQlb5IyhIwbMCMsE4kTKs2qAhlgCZA1akEtOOTuFcOn3r6wqBwCA9FN1JgCDgXJYWu24teTAfxECgJl7tWwRACKRGOTKl2PdgmtyFi77EXCARnsVXOwJca/hAIQFHglgws8MChFclNnJOAaAHFIVL8S5sIBdhYfvohYxUHIAIR3LkgFQoFFqqglfHxRShC5m4TMEUvDTcIkAAGg4/mukAIDg34Xnxh5YIwB0gjECJMyHqCoCgKE3VSuUizDu5cwBgARAIDfrBfJ5uxOcCpG1QtfvCZcVcAGQEUBeCi1DAQAzCIcRgQcJd1ANEh60nUCNCFCAPQRtJkKFAi1zAQAvkFXQPwwUoE52VV0oEG1FlMSPBLcNtNcZJY2zAQAukMUeZgHQpheILAawWQAiORBeDCsKtEYBAgyFxQYHWhSAUugFoAJvL8TgpUA6bOQHlSMRyaIJBwFgZYFvDdSBHwRhuVEHMhlEID+++VYkT+7tZyQSa/wYgE0YgtVTQAAAIfkEBQUAAQAs8AACAFUAEQAACP8AAwgcSLCgwYMIEyocyE+gHHsLBY6TE0COOoOqAoCJyHHhOCQzLgjU8e+gPSAIBhYA0i8hGAoABgIw4aelwDIBVNjsyJPgmpgDgZgsEQBBjAAzJOhMKKSAiBlIFQRQ0GggzqU9swZoBARMoxwBSBrUEWCDNZ7L7JWUWCGsQD9IAnQYWFVrx34twQotuKxAgbp2BR4JQBTp2LWBOYIVS3CwisQDhRiuKHmDQDJyEBNcFvFMR70GXwQAUkZFhAs1KPY8o0DAmgB4r+5EiHOhZcVhNcsNYAJAgQC/C2xcWKYCBQYANpBBLHthoyJCoEuPHj0Als+jDYrkvQ12DgAIzir8JIMAAQAAFLgQbA6552LdlhFwFtiPQoC4Ef+pW2L++s2csx10kXPY7UUQUSLMBhZUC/3j4D9cABBBQwGwl1BtCt0W0XsFgfUYQUKJptCDDqpz3oBo8BaRHxEJoRtCoBUEBgAXaHYUYweRWJIf59nUCI0vtqcQhwP1ow4DFa6lym8YLhEAiwI1QqJANQDQgU39IHlUAGgEKWQAYAVgX1u5DYQFeEKUsYQDvCEWQQDqCeRAB0AsgYUQMBWAYQBkvDmSl0KyaVAEsyHx20AvDAjbm3EGIIJBFZTxojoszvelQVAWBNhA23BRxBKZ0sdidwL9owoYSxQxBWwOBhAQACH5BAUFAAEALPAAAgBWABEAAAj/AAMIHEiwoMGDCBMqHDhuTQA//RYK/EeR4kGHDiVqVOhHSIsIAAKQQajqRYGBDMAorEhRRAAAa/4RBBLgyMabB4sMFCBSZsFGDgJEqBHABYMiPg+yRAIgpJyIA2kixUlVIBkhZcZdEGmwX4cANfgNhJrQYiMEIhzAtBhgzYwAOQZaq3rT4lYySQWCAVCBLM4SBYCuHRjB4Ei6OO8aVFHT78YlAI70UxtzYJkXYPUuQ+hHopyNd/MGCFpmissNQDYvVKVgQ0TKPilKFW2Q5kIdtA8qLsiTMYKBDjorNFEg5j/KBWcvRCOkSPPnzqOXAd2ToLqQAYD066fKZYfcArkA9NBOEfnMAFMRV909kF/I7wMbnfx8cJmCCOomwj6fPqFqhapQh1dBJwGR11ZYIDQDAFPI4aAcDAAAhhzjRIUeeBbehiFB7A20lU0EubSEYwKV0NSJJwqUoEBCoEdiQSotxIWAosUVF0GFkfFiETH06GMBAJgQwxpQTQGXenR1GMA/awCgwFx6AYBAhQGo0yI/sRUEW1JySJmDTo0gCWAMAikQQAkCLUHQWxGoCcRJOgmkSkhQLsnScW2JVoSZVomZkB/YFTRDUvwsOFABQiQ1ZwB13nkcTAhZ81l+fh5kD30FBfiTkVz8JxA/n/l1px9yiCVQQAAAIfkEBQUAAQAs8QACAFUAEQAACP8AAwgcSLCgwYMIEyoU2E9OgDX2FkoMsCwAl4kYE9pbUuNCgQA1+h3kJ4TBwAI2/iWUA6BlS4EmBzrsoDKjzYGNToIUWbDfigAIXgSYcaGDQpYIOihVqqJmgJk3owawpoNLIyA7C/4rEoCCqoFOEbKk+a9sWZwXLwz0I/Um1pAF1SEA4DDjWLNmB+owCLctxrc8B2IJQNPmXbxO5SzpKjMwwXESy/zNSjBHgBxrXASoEGPNQpYMOkS4UGNNWKifJUZwnBBwQRUBSgj4iCBAgcErWxaYCyCAEIKoFS4rIoS48eLIF090DVaEwA7L/vXDWiAnwkZHVKlUZSMAADAyCfvqlcpc4L8Stq0H+GcU60G8YHMAcC4wuEaJbJdTHii0QsHfsL2HWFloAIBATfaJpRprCJUnEFZGEYREbGGBNeA/ORXAE1sRKvTVQkAweJCDAZwRgAMF7TVDheZdCAYADpylzonjMSTiiPsxFAEAFwlkjQI8mjeYHDypJ9AyFQDQ1z87rvCbZDUi9I97akUgUHcDgTEbVlNY2QFP/2wQwIQCXbABEEtMoYMCATBgJBoUDNRXlFr5Z5ACgf2DRW0CAWCCNWCJSWZsLrkkQl0F2cPWh3RqZeRaBqnDxRFLIGoeW4CitUQRg50lUEAAACH5BAUFAAEALPEAAgBUABEAAAj/AAMIHEiwoMGDCBMqFKhuTQA5/xYSXIbmTCOCcoqgkchxYaMiLyIACMAF4bIZBQYqmKLw3z85JgQMdOCw35EAQPp13GmQJUEsEQuqihDAQY0AMRzkTPjPIYALOXSoQABG4M2lPLMGQCOEjDURAYAaNBHghb2BOhWqcwCgCEF72x7qCDBj4DKtWsGKJXgGgAN+PN2SPbjB4F68HfUGHVgXSNYLAaoePHP0xUBVCC8udMhRccEKkbGUCLBBB+aE6lJ+3BChQxF1A6+mTXhz4YzFCj0TVBDAxMgAKRXImV1QDgAEHQAoIBrggjWrOIkf5KyQTOKwuIELzKFzG9kK0geu/wFAfkq/fn6I1g0gGzFe3QNTUpi9DEGAMwiNA4hBcGMB2O0p9NxCp0kEn0AOBJBDQWDVZpAq5GFB0D8IAOBQgLRJdFtn2DGIU0ErBCBEQhWSMds/IpURwBIfLqTiQlNkh9CBH/JHEGQSIuSbgwHYUwAAfkSGlHsDuXTdYQL5UUABmgVQBgAFnNbPiOMExQUAEgAWwD8jRhCRKgIUYINbchCplo0MBNCBQEigpYNfLAphn2MC8TOSH2n9IwIAG2BBhg4CACDZimkKVJKZCFnzW0EqENTPm/HpsJidAeAp0D/WDCbQSgaNU+Y4iCLUT5kPPjhFEVgUOFCZZxX50hJFgAURl0ABAQAh+QQFBQABACzxAAIAVAARAAAI/wADCBxIsKDBgwgTKhTYT45AdQsJ/pv4j+CyI2D6RdyoUN2SGRsKBLBR0SA/IQoGFsihUASAlwAGvuT3b00AESU56iTop6CNg/xUBEDwIsCMCzgT6ujAtKkDABcE2ky6s2qAZTrANAIy8qCQABdUDcyJkGLODgCOBGiEJcCGMwJ7WuXYTyPXnwXHFSjgUCfFgX4AFLAWgKXPuVXvGmwroupfgToAuBAoBwnYgXLIDhwXsQxHxQVrBNCBZnKFGTYTmp3YjwEAMgOnajaYWmGEz10LmhAoQCCCAAW4qF4NJoCDiVJvzi64TEgR59CfS1+CGy/BDgJFLAvQj2sBsQdX/+gzAQAI8gCyEc8FTbDxd40B/m0I8DX8X1UFADT6m16hvYhyRcTeQCtcRhBXLZT1lxAAlNAPf8otVFtCt200oEBcNUaQWrspOFEEAHDxIHIOdbAcQY0IWJ1BnkUAn0A/1fBiQRSdAYAC9pgVAGcuqmfVhdw9VZxAyyAAwJD/tCUHfBTNAMBPj/0DogtfeeajajrMEEAFAVRoWHzFFSAEGVPcpmF8US2R0z/qGLmGjtydIcFAJF1ZVoUFMbDmFL8JBIAKhAn0T5prUrfBiLPZ0xN4dhr0T4A8GTQOF0cs0VekgQ4kliqPBRAQACH5BAUFAAEALPEAAgBUABEAAAj/AAMIHEiwoMGDCBMqFGhvjcB+CwdaW7PGWkE5Ac5E3LhQ1ZEXEgAEWALR4DYbCAYiQKLwX5kLBCuU+fcvwJQAOTjqPMilIEmD1mAymBEgRgQbCtcUEClEiAgABdAIvJlzp1WBa4QEsKZiZEmCLgKoUPfwK0IVAF4QjCG2nxwgAVxIDaDqqk6aYr1eBMBg3M4KAMCU/EcGgIQAIgz+tKuz6+KHOnBaLQEAy8B/XAAkXhO5q8BGCEEvdLjRsdkAHWyCKRHggg7RCTNXWBbg37ILAHralLzw5kLPEU0XdCBQZIACARCsqZlwiQIEIkQgULCYakSMC8FwFE5QgcAZ9gKo/2sRIEL4hGA6AFgfYIP2qbwZX+U+kEEAB/2Yq/NO5vRALAA4wMU444DhAAC+WbfQNhHB9pteBEUQAFEEdSWEfwH0owAAZdTWTz9nAKAARAoq5JtCwD34mEBdVTUQUUBg6AdUAtFEEwIAYGQZUgvNpdCKCdEnUBEBmMCcQIkhcSRBMxZgj43/9LMURh2mKF9jEA6kSgEFYBfAGgAI4MdARKpSUz84TpFfTQAiwM9WXNZApBwYXjlQDGwRt8GQX2nFABJlFOGdDUciR1oAQEClAxhk6LAUXLVhQZxAQNpJkHEFJUYQEAIMJEAObw5k6ED9AIHceooapA5GDFqKkJcEORkokCpYFDFFXRcFcF6G/SwDRhFHcNFqAAEBACH5BAUFAAEALPEAAgBVABEAAAj/AAMIHEiwoMGDCBMqXKiwUZkA6hCW+cewIsMYFAQEQELR4LgcBY8sREMQAZB+BLEEqGGx5UEwITsS3HaQJcMSAXQwCGBDpkqbLoMSXNYiwBGZA2MEMOFyA8+BqhQEWNNRSAAVQrMOLHr0oAKaFhsBELBNJpAAMwTijKm1JVekHW24LAPAAVKYDgoyXaiqrcG3BUUEWEIQpMIzdf91/MclAIBxAn8yVLlwL0PABCNcNUgS4TIAABopVpwDtB+UkhkWEbK6NevXbo0iDbAzgFKBLwI44JdQBIAS6hSfKQB6TeSVfoViHpg3gD2CO2Ei9KOgrgoRAiIQ93McaELIybfKri5YIUBugkWBzBaouNEMBgAUxJDj+HmA1AopK7S8cLnAFU8RxJIO6wUwWkFkAEBBR43VgJJCxi3EUUX+bRTAWgUVgdBoSMUAgHoCkVRCgeEhVOFB9AFAn0AiDcRhR2DEp0pH4KVVokI2FiSETBoqIFKL3oU4EBgbAIHFEi8AEAAXSDU2UFc3FqSRQR0YVABBcpUUQGcBJKikQA6QQWKUZDaCUETsLcMFEktMhFRAAAAh+QQFBQABACzxAAIAVAARAAAI/wADCBxIsKDBgwgTKhT4r2HDhQOtoUGz7eAZiBghFnkRQeCUfgVLABgJYOBIdQrV1SggsIANlAKXBNCRseZBLgVlFtTRoadPBwAqKPxnIkBHIR1XDJRJ06ZTgmQCFNVZ0OE/gSIAFFEIJoCDiv2WOQgQNQCQADGeqh041aBVgX4AFFiWsJ9IJAS3qgjQwSDVtRjbVn0oUAcApXULAGhE0E8ABf3Q5AiwdyFjwAUFE7TaECgZkAgZFwAtELSqAEwh/kXoIqPmgZzBAHDQ7ypCNI9tM1QQQA7qmRiFFBFOfLjxmq8ZWlUBAEht3QXLAIhQW/nYi6kxO00ewOoyxX6eQ9YfiAYAA87/eK/53VShNYiqSCvk7jBAEQAiuhM2KEcuepaMZafQage1Fthvg11FAQBY6DfeQPwoRtdAonkUQA4PFnTRQgQiRF9DawCAAEr1IdQBAFyQNkUA+ZEVAGLaIYfgZg3NAEANDuq21YQBIAHABvwIxM8FAKwYwIQ4MhTjQf2kNVBf9m2mDgIArPGWSb2Bxk8FAJRABhhZXUAQFgwsteRB/JRkUAkFTQHABZwRVJIcoP3TyAYmdXBaQeMI1OeZBcmnkCpyqFKiQfbQeAYSS+A2UEAAACH5BAUFAAEALPEAAgBVABEAAAj/AAMIHEiwoMGDCBMqXKjwn8N/BscF4NKPoUWF/JbU2FAgwAuIBIsk5JIwYwCOAWI4JNgowIWLMA9KJPjCIMmCLwWoSrgMQAAABQCoBCmw5cuYSAWq08HFj8iaDIUEMKFwKZdGRYQ+LAomQISBfiomjfmU4b8IAG4efAgx61CQQAxCHQuz7MIyARTwS8g2gNu+fqZ4HbgGoT2GZC7aVVhTR8Otf7cGMMqw5UIFij0uHBdUzmOQbgP0pbyZIZLMcxGe3kB0LWSholdOdkmX7uK1GwIsWSg5tGTSGBn6Qa3QcwF1vGX7lg08oWWFmC3eNpgjpdnXbwfurMDQGkPH0jUjfOSnAMAZsZ//RSbar4AC9LXrij9I8iv9AIUFsl0/8N8GACZIlVh8fEl1klc1zVDQPyUEYKBBIjgI0j9AxBDDfxFYWAN6axw1H4EG/dPBQR2xJEABqsA3UIQiDfQfQQAAZZA9w+0E4lrPERQWQcgNh1BLy7Akx5BEyrFjQAAAIfkEBQUAAQAs8QACAFQAEQAACP8AAwgcSLCgwYMIEypcmLBfozJrxhXsF2DKP4YYFf7DYqODwBIUCU5JiCRhmRcIAAAIUGCFqoH8AjjISPPgvwIEQRYkY3BDAAByQhpsITOGjhgpIywTGHNmzacCL2IJMFXnwpI+Ewrh0u+fV1UOAADpp+pMAAYD5VyEWrOq0IQ+l7xN6PVfEQAeSxa0yjaj24VyWG7LWBcL3gCNwARQQHBuVIaKMf5VmCNAjLUM68YAUDlAU4YxFxZwfHAyQn6My9D0SgZAgUZMZTIkTVBIEb8B+B7kEiACbZuNFADQ61l2X7amD5YIIKSmqggAdBD8vBBzQrWSc/9uJADAy4zPA9SWKEhdYWiFo7PrLtjcBM1lFADMmEvRqcLfA2vgH5ic4L8IAXBhXULLXADAC10V9A8DBahzHFT9DaSaAqQpdkZI42wAgAtdDZhbACIIBMZ+xx0hkEcOxGCZgwS9EIAOpBElnUAquPZCDDgKpMNafmSl3YMKuWcQABINNE4BQHkYgIxrdbCSQfYxBRtsQD6F3VPfIRaYTQEBACH5BAUFAAEALPAAAgBVABEAAAj/AAMIHEiwoMGDCBMqXKhwnJwActQZVBUADMOLC8chmXFBoI5/BW0kXJMQDAUAAwGY8NNvYJkAKlpinFlwDcqBQAweMRghAAJ7IA8KKSBiRoAZCgIoaOQSpkyaUBsBAdMoR4CPDI3WULgM6MBxFa4K9IMkQIeBTKHO7NfSas6F6hAEWBMU484SAo0WxKqWplW+CZcEuFAXo5CjAuUc3iCQjJzCA5cxPIPRLcOzO2meUSCAJNuXMRe+XMj44l/IBf0AKCCZYZkKFBgA2ECmLuinCBsVEbK7N2/eAbBUDvA2oY4ALlAfJIMAAQAAFLgQvN23+umE/RgEqD3zn7olzoULu6SuUOLCtAwtlwTgQDnCf/D/cQEQgd94p6IZlk5/1X0AE8R1F593z5mHxn8M+cGQEP4RpN5BqhQQAHoLDQiSagDI1AgAhFXX13VCBSCCcoIpKFAjAwpUAwAdyJRdADEIhEaDHgZgVQAUBBBWfwX1JN1BPg7kQAdALIGFECcVMFpjPXlEo4cOAInbGQAoYM9B/QQpkAgGVVAGauoo2FqNCZlYEIUBWDMhQv0ouM1A/6gCxhJFTBFAP/AFEBAAIfkEBQUAAQAs8AACAFYAEQAACP8AAwgcSLCgwYMIEypcqPCfQ4cH1wSQyLCiQj9CWkQAEICMwQoIEfxL+NChiAAA1owcCCTAEYswDxYZKKDjyoEzDDIIUKIfyYdIAHCU45NlgCI3Y8YkI6TMuAsdK0YIwKXhyEYIRDhICXFizhwDrSmNCREqmaQHzwBQYK9iiQKNtqocOLWgx7FKzTKMEQAswyUAjvSTe7PMiwA1BIJZhtAPQzkWzaItqA5BAKILVSnY4JOwQIctkS5suVDH5IN6FS4JwJmhiQIq/8ktGPo0QTRCiuTerbt3mcg2FW4IgIQhFwBA+jmcTbA23uepEcoBUGDbwmUKIqj77NmoaIWMMwOxP5sQLN+FMwBMkcNeDgMAYOSM827baOn6BKMb5KcgwO+FJQgloIACYTGQEEcVlRAYxo1n23ER8MNQETFUaGEBAJgQwxpFTdHXc9BFhVAJAQih4EDqIMjPSmgRdtN0COQwUyMgZnZefyQGsBpBqgAgQCOT9RiAWJ+VJNtEaBXRn0B31dgYRwbNkBSCJpwmJJEBGClbSghZA9l2TiJkD2QGqVIQjVgWxA9kJxrphxwSChQQACH5BAUFAAEALPEAAwBVABAAAAj/AAMsC8AlgMGDCBMqXMjQ3pIaFwoEqNEvIRCGAMgwDCAHgEePBhkglBOgw7+NKFMmbHRQIsWEUxRSCFDA2saOCDro1KnipEGSHVQKTWlNB5dGF1+m1BHABcqOJv9JlXqwUcELB/0M3bowaUWU/RxkfAog6lSfAZgmVMq1rdeUYAI4+MoQ6lmqP5cEmPmTLsJxKssMfbvxn4kAQNAu7MigQ4QLNdYoBqqSZMoIfjcSZqiqAACWZAEUQABSyMiSKpcVEbK6NevXeoVuXmhahMpGR1SdVGUjAIC4P1G3HY5wdsJ/EgBgSXn24L8cAGwHD5rSnkqtsidmRngmgALrKO9Or0UDAIFPyikto8Scne3xGQF6Mxf/j2WBr1qpo1SlEsj2rtoxpA5pa6hE3z9gAOAAVerIRVxC/fwHoHsI6XWBYgb9s5wcX4F20DIVAKDUPxEAsIJpgj3I3EUBYBWBQfI51wEASCz0zwYB1GjQBRsAscQUOigQAAMeBoAGXwGqWFgFCyngF0k12YijjgGU8NFHIqiHkD1a8adkYUVmldA2AYTpnFY2VcXFEkUsh1cAAQEAIfkEBQUAAQAs8QACAFQAEQAACP8AAwgcSLCgwYMIEypcuHAZmjONCMopgoahxYWNiryIACAAF4MdEv4T+U+OCQEDHawJ0O9IACD9Lso0OKUglpEEcxh0EGBDTIT/VgK4kEOHCgRgBLqEObOpQDRCyFgTEeAmww0BkChU5wBAEYL2tgWQoyPAjIHLnDqlalWhHAAFxCb8agIhVps41V5kmxehzhh9DV4IkPTgmRoBXgxUhTDiwpUW+SrkpyBAma0FAmTcEKFDEXUDl/5M6HLhjMAIJSfkAiACP7cAEHQAoCCCwAvWlL4cjRCyQjJ7q6ImWCKAEN4G1wBYPqVfPz+2zwYQrVet6oOqAAhwnPAtgBgEKxbJAE1dYe6FjCMLTygkgInhBLMDwELwHwIAK8uTZnhafduDtn3E0H1kjPYPR5ct8RJDly00BXwFXVdQGbS9xpAJAJQmkD0FAOAHYQGAV51A/0AY4XoHKaaTQf20Nw5OrElg4T/tRTCSKgIUYMNXcoy4lYgMBBBSVgWNk1mPBvHTkR8//SMCABtgQYYOAgBQWABLBCmQgD4eZE1HBqlQkFYbDKdkAEySaE1dAylQU5E9jtMlQv0gWVB6iwWQFkI92lNfSUsUAYZcAQQEACH5BAUFAAEALPEAAgBUABEAAAj/AAMIHEiwoMGDCBMqXLjwn8N/BJcdAdOPoUWF6pbM2FAggA2IBHUkLJNQBICTAAae5PdvTQARIC/KJOinoA2DSwxSCFBgXEIdHYIKdQDggkCXMGcqFbhMB5hGQDxazBEghsKHMTsAOBKgEZYAG84IrLn0Yr+KUW8u5KcAAMmEDwf6AVDAWgCqNssqTcuQS4AI/K46HKgDgAuBcpAEMIo4JkGfC98y5Hu1RAAhFRFiddiPAQAyA5E6PuhyYYSLlBOqCiCgkWCsYAI4GBxA9MJlQork3q27d06LqREKCWBidMHN/0wAAELbtt6lwQ3+iwDA72uIqgoAaBTXeUJ7DMlOrpY6MoCCwNcvAyjRr/tL4wVLKzwNnDzCF3ctYqXOpf1gOQF0AB9Bri0UVX1qHTSOdnJk9toZAChgD1YB+BSBg8/JFB1Bim2AoUD/fNUgiA7NAMBNcQUwnWHDSZbhQf/oMEMAFfwlEF4D/bNBAEt8qKJRS8T0jzoIALAGhQH0c4YEA330omb0FcSAYwAWoA6MQAqZk4cpEmRPTas9CaN4NBVkV4EH1WQXQaup0mVAAAAh+QQFBQABACzxAAIAVAARAAAI/wADCBxIsKDBgwgTKlyo0NqaNdYKyglwhqHFhaqOvJAAIMCSfgVNJNyW8F+ZCwQrlPn3L8CUADkuyjzIpeDHgjoMOggQoSXCNQU6ChEiAkABNAJfxpzJVOAaIQGsqfAIcmGJAFATqgDwgmCMACr6yQESwAXSAKqaymQJlurCRkbTJqwAAEzVf2QASAggwuBNtTKn/k1INqzCEgCwDPzHBUDfNTmnCmyEkPLCNRcFV00YIQAYnwgbV1gW4N+yCwBquoTJ8OVCyQw1KyQTgAE/hksUIBAhAoGCv0oZTlwIJrPbhC0C5GQIpgOA5wE2FE/KGrBa2QitFQgwXCEWAA64jM4bB8YBANfBF5J8a3ywwSMBOoBG2E8BgDKl+/U7A0AByPQKuaYQbK8ddxBKU2yGkB9GCcQSSwgAMJFiNjB0lkLuaWVgQWsYpc58BzFYgD0P/tNPUBPhR6B1gW1IUA0BzACiQEWg1VI/ESbI1ncI3KZdATXUKIeCLBoUw1c7bUCjgvYgEAAaMwawHWYCAWGUDmCQoUNQZJWGxU4CZVgkQR0Z1BdBivWE0JQD9QPEds9daZA6E6035kHdEWTZQGnJhWcA9rTZzzJgFHEEF3YGBAAh+QQFBQABACzxAAIAVQARAAAI/wADCBxIsKDBgwgTKlyosFGZAOoQlvnHsCLDGBQEBEBCkaCKhMsUoiGIAEg/glgC1LDI8iCYgkc6DgSS8OTCEgF0MAhgQ2bKlS2DFlzWIkBMhiYE2jy4gedAVQoCrOkoJMBHoVgFFj2qUFUAAY0SNgIgYJtMmjME4oQpMyvDrW0PVjURl2AZAA7avnRQMOlCr24Lwq3IReEZvP86/isMYJzAnwxTLvT71mhduwGiKlwGAECjxIlzdPZzEjLDIkJQq07NmuXghC8C5GAoAkAJdYnPFOi85rHKwEJfH3Rs0Y8CvCpECIiw249voAqJA9dqOSGSAE0XJm40gwEABTHkBIsAYO95ZKQWhRtsuoQh6IJkAFDoWLjGUoS9F3KsqJ6geIugtRUDAEB0NFIJl02HUH8DzRYDQkcQFGBHYHynSkfEpaWgQhoWJERb/ER1xn0FjSQQGBsAgcUSLwAQABdtFTYQVxsSpJFBHRQkI4kDIRCAiQHE56JADpCRYI1IJhSRQP8swwUSS0zUVkAAACH5BAUFAAEALPEAAgBUABEAAAj/AAMIHEiwoMGDCBMqDKBuDRpVCwtaQ4Nm28EzETNGLPIigsAp/Qr+8yOCoIMp//4pVFejgMACNtQNXBJAh8abB7kUpFlwGQMAEYAUWQEgwBSF/0wE8CjE44qZNXFKLUgmgFKeBIUAqMBvYJGlXRGCCeDAYr9lDgJUDQAkQIypcAdeNRgDQFuB/5YBABDyYL8SAJAQ/KoiQAeDWONmnFtQBwCbeP0AUJCwXwEAjQj6CaCgH5ocAQovzKy4IGOCcgogkCPQXgu7fQ1mLhA7QF+INCErTIzQhcbTBMlEKLChhIICOmoXRMNZ5cB/lFnnziikSPXr1rPfBD5wjYq9RSMI/05YBmg/5ynTYpxeWir3AGsKFECyzN6ZCwBAI0QDgEHK/9DBFwB7ClkTkSrKIfSeCAB89Z8qCACw2UFyAFAAgCm5lBmBCfF2kG+LDWhQhKwB2AEAWCDEz2XLEDTbRwHk4FxCGC3koYIiFhThGgAGsAGKCZ3IRWxHlaRWAE+1h9N7J9rwH3yXsSbQVy0KhAQAG4TFD35HBVBlDc8p6ddbAx0WwFcCgbHXC2CQIYQCAKgQW1Fy9MVPBQCUQAYYDF5AEBYMQCWmQfwUZVAJBE1BGXgAvDAOQXT29U8jGwwEQAcQFfRoAJsOSlCCCKlDxhFFYEGaQfYQlNIZSCzB3EABAQAh+QQFBQABACzxAAIAVQARAAAI/wADCBxIsKDBgwgTKgzAz08ZP/0WEvxH8Z/BcQG4RJTIMSG/JTU2FAjwwmJBdTVGCiygw57CjwFEBohBkWCjABc66jyIkeALg/9KBECgI4ANBCRNHlwGIACAAgBoKg1wM+fOqwLV6eDipwhJg2sCFIAocA1UPwm1cmlUJGpFgY3ABIgwkCzWnV5/FpwSoAPBfhQCyD1Y0WJbqSaBGNR7V2deg2RwTowAICzht4cLB/DDl25ZhC4XRub4uCA/ylgE/jsSc+pEzG7fUpW88OZCBR1LF2wkAkCFuQBMLEso+3AAzVUl9lSIJPdXg8tqIBWIIIc64rBjHK8522pjrLoHqtejXAOin58X+CEsHnW7yeQL1S9ES/o5QSEBhA7s53fJxoLsaScbfArZphBu9TE2kAoBeEWQYjOsl51sAagSwG8LWSNRUQkaZEIA+BFUlHYSUpQZdwH0U4AC/33nmH0DKVaBfAGMFwBrAnERgGXu/XOiUv9sEBx+o7m4XogbzPVThAKpgtQGU5QxRWAOaCiQCCCa9A8QMcQgZARd1vDfGt4paCSAfhmkUlmBEbSBHP9h6aBAQhIEwFMG2YOWhWcSZiBBdqm2xhIBLMHjQDcNh6gcjDYqB1kBAQAh+QQFBQABACzxAAIAVAARAAAI/wADCBxIsKDBgwgTKgzQb6C9hQP7NSqzZlzBhlP+Qdyo8B8WGx0ElmhY0J4OBARrWExY5gUCAAACFFihaiC/AA446jz4rwDBkQZjyMwRIIeCACIUtsAZQ0eMlxGWCbyZc6dVgRqxBNAKlGCjAALWaAzgRyCahEK49PvHVpUDAED6qToTgMFAOWOv6uRKciCZABEI/ks6pW9Ctv+KAAiJxGBXvRz5FpSDs+CGAH8hIsayOEAjMAGORuQJEfRGyYJDHhnIBfBNzWxjACAagCrE1woLGE6ImuAyEwEkBKCA9OtGtmQAFDBue+Fug0KKRA7weKA6HaJl1pB6vJECAI2nVtaGrLf31Msv8AawAXjbRlURAOgg2LwjRPUQzQdYEmBD33/ACQERfAHUUFB9CeGWkG6nUbfbDAHERVBjwCm0DAUAzLBbQ1Up9JxBNXxokH4Q0jaQdBUitMwFALywVkH/MFCAOuRdpd9qDtA41QURkgTaGSSNswEALqyV10AlICUQGCLWKNBqAYTkgFAx6DhOThTwh8VlCKhC0lLzCaSCci/EYKZAOozlx2UiNelkigQBsFIAcrA5kARiDQTmWB3EZFCHU31lnJM74VfQEeEdVJNAjVDGU0AAACH5BAUFAAEALPAAAgBVABEAAAj/AAMIHEiwoMGDCBMqFGhPToBG/xYOHOdQjjqDqgKAkchx4TgkMy4I1BGxoCoXAgYqENJPIRgKAAYCMOGnpcAyAVTY7MiT4JqYA4EY5FchgAMdAWYUCABkp0EhBUTMSKoggIJGA3Hq7MlVYCMgYBrlCECyIBer1gaCAVDgIsJl9koGGFcUaQA/SAJ0GIi1a8d+LccKLSj0RUEEAeTIlXgkQAmBUwuW9ctz7OSBS3Lu5Ld0W08hSQXKAb1BIBnFB5dJPNNRsEFrCgrgDNAPaYvFC88oELCGdj+tTg/OVliao2XciUWWdlAghluFZSpQYABgAxm5wBc2KiKEu/fu3QNg/2nN1GA/PzGWCmTQVCIZBAgAAKBwNqtmyn6PF2zEgKkqfms8ZgJyB/2jzhLxjXfTfQo9l1BfErlWUA0B1CCXPREEcN1C/3T4DxcARMDPgltBJ1FxEZKFm0gbDdTPVIMl5GGH6sjnFhoBmCCRHxIJQaBBEhJUFBdOuVCejDPeJZ9NjQBwwY/4KaQfQTE4JpcqiIFRUmY8epVkhQB0YFM//VUZABpQRhnAWAFQEEBRKgq0xlIljIeEAwFc0E9JGdZnVAdALIGFEDDJRhAZGY6UZpR4GhTBTmQ0OlAJEPbT50AiGFRBGcipw6NqaibU5X4F/ZbXFA4RdF4Angn0jypgLAlRxBS0dRhAQAAAIfkEBQUAAQAs8AACAFYAEQAACP8AAwgcSLCgwYMIEyoUOG4NmmULCf6bOPHgmgAXI2pU6EdIiwgAApCx2CGkwAhg/imkOFFEAABrVA4EEuDIxpsHiwwUIFLmQD8FAmygWSIkGZ8GWSIBEFJOP4I0iyDFeZOMkDLjLog0WCOACJ86AnSYKlFlIwQiHMCsiHFGgBwDrVHFWVHr0YIulxBcA0ABWYMlCjRSG3NgBIMj51K1azBGAKkDywCo8JfgEgBH+hH2WeZFgK4BwEA86CeinI12p54B4EAVQ5dIFqpSsOHpZoETo1aeGVHHboKMDXJxUKCDCAUIhPwOYKJAzH+EC+peiEZIEevYr2svg7pnwX9lRJj/DFABy28uAID0mxgd6uPlihMGJwimAAIs1tSROVzk6cFlCkSgDm638QaZQqMp5JpGqRV0GBcEyQFAAdsgNAMAU8ihoRwMAACGHOMYuBxNC/nG4FYEqRPSOD79cxh3BxXF1IxMCYTFQEI85l9CYEQE4Yl3DTROSMsg5UAAMBpURAxMNlkAACbEsIZ/U7wVX3zzGRZAjgORAYAAFQagTo78yDTVZj5JiEAOOjVypWyOBaBAACUIpFcA/SwlQA1gkAEEAgHYIJMqIcmFG0vQYTRVEXMKlNibCPkxHkEz+FREUAMVUAM/AxEagKEBIAodTAhZc9qAkCJkz2kGLSgkGEcUEcGFqwLxc9qOobLkhxycChQQACH5BAUFAAEALPEAAgBVABEAAAj/AAMIHEiwoMGDCBMqDMBPzhk//RZKFLgsAJeJGBPaW1LjQoEANSIW3Dbjo0AEQOwplAOgZUuBDAjKCdDhX8abBBsN/BiyYL8OARToAMlT5EGWCDooVarCpsCZQHFKtaaDSyMgII0KJBMAgU6BZwIAUJWQZc1/aNEObHTxwkA/UqVi7UkQSYASBP9FAFCmLICzaZ0GGFqQblyMc7UGAEOTYD8FAOAiNBtY7dMlASgMlKNY4DiJfScmdqzOgQDGAf4JCSBiJQAGHSJcqLFGcACoEmcujND54OiCfjoAuFBi7wprrgEUQPBy9ebGC5cVETK9OvXrmEVnNaiq5EChKhM2/zqiyqYqG2JR34Z+WO52gtYcANDRqJ8cFewNBh74LweA1k/lh1B4Ckkm0W8DYbWCYxcAgAVClaWFBgAIOIXbQropxJt2hgXQT2vZDTQUegdFiJZOBYgEV1QKkbUQEL0ZhGBqrR1REHok6mciGAA4oJY6ATjQ3kD9xCjjeyIGsIFR8QEwRUT/PMiZQF8NtEwFANClFwArrBbakBBiFYBbEQhE4j9+MNcBFmUsUWYEn6W2QQB2CXTBBkAsMYUOCgTAQJUBoKGZQB2CmVcFBylg1BllDvRXhv/MWeddLrkkQoYE2QOXi4bqB+hbPqGBxBFLTMkfXMitxcUSRTxoWQABAQAh+QQFBQABACzxAAIAVAARAAAI/wADCBxIsKDBgwgTKgygbg0aVf8WFlyG5kwjgnKKoJHIcWGjIi8iAAjA5aAcESMFOuDST+G/f3JMCBjoYE2AfkcCAGnZsWfBKQWxRCSoSkGACkACqBgpNOE/mwAu5NChAgEYgTl3+twqEI0QMtZEBGhKMOkGfgOFBJAw9KA6BwCKELS3LYAcHQFmDFzGlatYsgL7rQigdmAjAAV4HpRrAuEGg4D7cvzbVmAOnYrlAHBQueCFAFcPnqkR4MVAVQgvLrQ5eWxlmAIY+BGorrEQxQXVFQjwcUOEDkXUDcyK+2DOhTM6I6RskIyDAh0CKEAABC1CzQg6AFAQQeAFa1gxr/+WSKYj84JrTKQMEGFJcYJrAMif0q+fn+56AxCX3Pf8wDMFIIDEMvaUUUEAOignkGYAxEDQRgUIt59C4C2EWmuRBRAdEgQ1UkABqhmkinxYEPQPAgDYNGFCxymUHIad7RaiQI+VhBCKZCj2j0hlBLCEThL1uNAUChrkn0C7yVEQBSQlpF6LAdhTAACzXeUgfwK9ZJ5rniHYFhozNRJRP2qNMxQXAEhg3T9qRRCRKgIUYINcSmKZkDpXMqChQBwKhGZeYJAhBAKlDcXPSH7w9A9KG2BBhg4CABCaj3r6aWdC1qxHkAoELUEoQTMIJ9ChASSapTWNDaQAUAWNo+Q4lyId1E+dBV04kDpkHFEEF2IWpKQ9JsK0RBFg1CVQQAAAIfkEBQUAAQAs8QACAFQAEQAACP8AAwgcSLCgwYMIEyoMYE/OGT8LDf6b+I/gsiNg+kXcqFDdkhkbCgSwUbGgtRgiBSIAwk+hCAAwAQyEye/fmgAiSnLcSRAiQRsG+20IoEBHgBoigSbU0aGpUwcALgi8mZOnVYHLdIBpBGSkQTIBEKjSGKBMAAHLElLU2QHAkQCNsATYcEagz6sb+2nsqnTgvyIBTBD8BxWN2okD/QAoYC1ADoN98XLka5ALTp3/FABodFinDgAuBMpBEkCqaJ0Ex0U0u5FyQXVQyWjsJyRACdSD1/7rxwAA2KmXF95cGGGyV4Ny2l4wEQFAi22dKYIJ4ABxAKq4DS4TUoS79+7glxj3jzxQ1YyURIGoiz7RBAAg1rFLxuvaIlQdjfrJURGgQ/QAqhSwGUXXBaeQPRHdtVB9Axn1AkH8UACAZQetFYAQAJTQD4HyKTScQsW1dpxf/k1R0GNGIbRWc1xsiJgc/WVXEGcLjmeQf0uQJVANjnV2BgAK2GOhahHoON9ODAoEVAc6LsNAAHIF8I9ccpBF0QwAAEWglM25UBtrR6qowwwBVBBAiI/ZJVIHWJSxRHERICilVEtgpg4CAKxhYQD9nCHBQCSFqWKIBTGgUxmECtQBjXMGUKdf4m3gYnb2QKSKoCoqmBhBep2BxBFLVFkQRI0RdKkqWwYQEAAh+QQFBQABACzxAAIAVAARAAAI/wADCBxIsKDBgwgTKgygLkAZVQsLWluzxlpBOQHORNy4UNWRFxIABFjSz6CfEiIFOljyT+G/MhcIVijzr+WUADk46jzIpSDJgsscBIgAJEALkT8RrikgUogQEQAKoBF4M+fOqwLXCAlgTcXIkgS3SrDXMgCSAA7KHlQB4AXBGAFU9JNT1MXUABCxcqwZ92vBGQGAgA2wTaS9hBUAgAH7jwwACQFEGEyql6NXygKL2iDYCAACtQZRYhn4jwsAyWt09BXYCGHrhWss+yXopwACjAHsuVWd0HSFZQH+LbsAoGeAqhFvLvS68fLggWUiCOhQgkEBHfwWLlGAQIQIBAqSIv9fiFshGNmYBcphOzDCkecHwXQAQD/AhvNUcVau7Lzg0gJHqMLPGRsEsFlCWADgABfjjAOGAwAoN55C20T0WkT9EVRCAFsNtAwCAZRXUD8KAFBGcP30cwYACpQ0YULKKcQchrMNpECIz0kWY0F+RCVQTTUhAABGox2o0F0KpYdQhgOBiAZoHYyEUI8FkAVkP0xhdOKM++3EpECS1aCWHAXgKFAReLXUj5BT9MNXgghkZ00BBdSAphzwdVlQDHAJVWAARYDlWAAu9CTEjSaoVWZsmUWlAxhk6MBUUcFhIZRASuo5UEoFSTYQFjcS5EKFAy06UD9AlEmfowapgxGpmh4dJOJAFwZnDxlHFIFFI6CFmNup/SwDRhFHcAFrQAAAIfkEBQUAAQAs8QACAFUAEQAACP8AAwgcSLCgwYMIEyoceKbRwoKNygRQh7DMv4cYH8agICAAkosGTRBkEKDfQjQEEQAxORBLgBoZYx4EU/AIyIHbCroQ+PFhiQA6SNq46RKmzKMFl7UIYLNgkQARKApcEoBkwg0BbAxUpSDAGpBCAqhASnbg0qYEYeq4KXUcwkYABGy7CSTADIE/a94s+/Ds3oFGBaoSyNJgGQAO9tJ0UFDkwsF8C/qFKPBrAH4xAuRIeAbxP5D/uAQA4DZA0YcuFzruy/RvgDMBCmAVuDnhMgAAGn3+nAO3H5OnHxYRMrw48eMxJy9kvFAEgBLqPp8pgHuNwOCRZSofKAdBgKf2rL/CLGzQjwLEKkQIiEDdz/WXD0tnF7i9pMi6BLuWPPi50QwGACgQgxyj2fNeYAmlptBqC9VXlVd7/UQVf58VRAYAFIAkWg3kHSSeQj2xhtZAXUl0UIcC7bZXDAAAARJKJbg2X0IOCnSXQZYxRZCKIIERoCoglXbjjAkNSZAQf60g0FMBlNAhSgKBsQEQWCzxAgABcLGXaAONSORAHRnUAUFcErSCNSkFAGUAF2IpkANkyPglkUgsJFUA/yzDBRJLWLRXQAAAIfkEBQUAAQAs8QACAFQAEQAACP8AAwgcSLCgwYMIEyoMoOoMmm0LC1pD8/DgmYgYIxZ5EUHglH4HSwwsMGPcv4XqahQQWMCGuoFLAujISPMgl4IxCzZiEOCCECAdRYBM+M9EgI5COq6AKbOm04JkAhjNSTBGABH8BKq7EIDqQTABHEDst8xBgKgBgASw+rStwKkF+yEIgIbgzQ0nD/YrAQAJwSIBVAToYNCr24hwCVoDEODlQD8BAEDUWwBAI4KQFfRDkyNwxMuHCyYeOA4AAGt5/8mJfPHg5QJDBQ5V1bXpQsMHXWQcPZABADD/gv9bYvrmwboK8gr8pyDA6pgzIwopMr069es0eQvMAYCCqn7/IJv/xoKwDIAI4Jf/M3sReuin2gNskwAAgYkSBRA4+B2bIBoADAgnXHNr1BadQtZE9B1G2gVnjQ4OCFCACnLwtIZyBMkBQAECBrfSZe7dFpFuDNZWkHAEqbKhPQjxU9kyBL3mUQA5YGhRRLghFB+KAwkBwArBIdQBAFzENsVVAkW11Hs17RikQHIgAMCFAwEGo0BIALBBVgHwcwEARwZwZQ0D2cikbGwJRFgAgAnkRwRALIGFSgAI8WRkzg3FTwUAlEAGGCIAwNVAWPAkUI5n8sOYQSIJ1EhlAymwxJ14yjHUP41sMBAAHdBW0DgCgXqmQf0lpA4ZfoHBj5kCsVjmP2cgBrFEXQMFBAAh+QQFBQABACzxAAIAVQARAAAI/wADCBxIsKDBgwgTKgygbk2ZRgsL/pv4z+C4AFz6RdyokN+SGhsKBHhRsaA6GyIDABAhZ6HHACEDxJhIEOIFjjgPXiT4wmA/EQEU6BBSIgADiAmXAVBZAMDMkgJt5pw6UJ0OLn6KjDSIJagqgf9sBHCh0CqXRkWcUowKJkCEgX40Us2ptSfBfyoCACG4rYCAZQgpVkz7tOTegnbn4qwr8SYXgv3ePj4oOADhyn6muB24BqG9iGQ4Mr57s+vAfg70Bl57eW0AqQuRKlQgeiviAGIHIq2xuiThAJVhK9ypEEntxANDFzhTUV1Rmb0HOwVO83WAm4rnjr47I4AAESocAMi4WQPq3eq/XQtPyC+in+MH+yGp4HcDGLJC5EpEP1399YiyJUTbRtshpNE/FAAQGmWsqVVdAF9VEJE1EekAX0SdMdBedK1B1U8BCuiX3WK2DbeBZfo91hlYFHU40D8bAGCCEAEsOGJgNMLkVk/dgdVBDUhwAURqJWwoEFBClPQPEDHEEGMETdag3xrYlXijQf90cFBKwEk4kAA5fEYQUFoNFCNBAADA5UD2vPfVlZQFCJd+/aCxxBFcAGYQRHpGJcefgMoRVwABAQAh+QQFBQABACzxAAIAVAARAAAI/wADCBxIsKDBgwgTKgxgb+HBfo3KrBlXsF+AKf8calT4D4uNDgJLWCzITweCgRvWLCzzAgEAAAEKrFA1kF8ABxtzHvxXgKDIgv9cBECQo4iJoXIUtrgZQ0cMlxGWCbSJU6dVgRmxBND6kyCZmH4GAgkgQqEQLv3+qVXlAACQfqrOBGAwUE7Gqzq5jhw4I4ANgvZchnWo9l8RACCRGOyKd6PegmUVD/y3IYDkhYWxIA7QCEwABQT3Eryr0LPGxz4DHNn7r0KAGhoLxwCQY+pNhzYXFhCdEPXA2i8ILuu5IvY/MgAKNLJdVSFvg0KKOA7AWKBKAV8D8AtOPXYjBQAuU8pt3Nj3QB0BEC8dWNyhqggA0Ne8jdmh3dPUn3esHKACl785kIbQe6+RRJ9CuSm0G37VGXRXWVoptAwFAMzAm0XNJfScQTVsaJB5CDUiQAEUJbTMBQC8kBZQDBSgDnlXgWiQPWXpQJpnZ4w0zgYAuJCWgCGRJRAYHsIo0BECgeRADAHE8GJIfQUgRAQBbNDQQEvJF4AKyb0Qw5cC2SiQH/zlZ2RCRxkEQIlCDlThNgVleVcHMBmUoXbLLXemTvdhpdJWNA04UCNJ7RQQACH5BAUFAAEALPAAAgBVABEAAAj/AAMIHEiwoMGDCBMqFLjtTIBlCwmOkxNAjjqDqgKAichx4TgkMy4I1PHP4DIXAgaqyKgQDAUAAwGY8NNvYJkAKmp23FlwDcyBQAyqoxAgAhAgG4qOUyikgIgZAWYoCKCgkU2cOnlqbQQETKMcAUgWFFJ0W81+KsIqXGavpMBxFdQG8IMkQIeBVrXu7FcTbNCCIqcQlAOAQVaORwKUEAi1oFi9PME+HoggwBqC/QpY5km2sRyySQOQkeO2IMSFDjn6NTgVTWl+KQV3PKNAwGW+N3MuvLkwdETJpQXeLUKwDEyyCstUoMAAwAYypXMfPtioiBDr2K9fD4Cl4+qCdRVQ+3woMsDfhGQQIAAAgAKX4lghywdekJ+IAAVKmFBQIEIA5Av9o84S63UnkHQLXbRQXr+ZdxA/QkQgQAEdoJGUgQr9o+E/XAAQAT8HxpdcRL4tRN9C/VRGU4YbCsiegmgEYEJEfkQkRHAJfbcQGABcgGNBLZbkB3s6NdLjj/KpFhaSBDXiQADvDbTEXHi1KFANAHSgUz8MBBCDQK4laaJARMW15EAR5DClDlPNEJx/UQbgQAdALIGFEC8VwJtAZPg3EpNiCvSkQRFkVdlABQARXD9wDnRfQRWU8aM6NZ4WKEI1GsRgAPzwxoWCmNW4zUD/qALGEkUI1o+GAQQEACH5BAUFAAEALPAAAgBWABEAAAj/AAMIHEiwoMGDCBMqFNiozBp1Cwn+mzjx4JoAFyNqVOhHSIsIAAKQsdghZIACOuwtpDhRRAAAa/4RBBLgyMabB4sMFCBSJkE5CAJ0EKLDQYAXPhGyRAIgpJx+MwMUSYoTJxkhZcZdEGnQZYx+MpcZHZmwYiMEIhzArIhxRoAcA61VxVlxKxmq20I2ImhThcYSBRqpjTkwgkGyc3HaLSgHAAKqZRxTPbgEwJF+g5OWeRGghkAwyxD6iShno92k/RoXoEpGr0JVCjZAzSxwIs2pC2ku1DEZ4WKC6gpgjDo8oYkCMf8NLni7d0E0QopEny69ehnTPQuuECoXY9AA1xFy8gEABKxymMylOk+s8TdBwQEUqBBRwIGC4gaXKYgAMcB5wgM1t1BoC6mC3V0GqVIDA4694AdPBh40AwBTyGGhHAyCIcc4AaqXW0S8tcdVRGsA4ABbBZXQ1IorCoTFQEJIBZVCYETExYHrEQQXXAgVEcOPQBYAgAkxrDHjFG+xx557CZVRQGADqRMjPz5NlllSjSGQg057KflaDALdV4JASwxUxgVAYDHFDDy9OJAqIXXnH0vKYTRZEfcJhJiXB/lhUkEz+FQiQQ7cSBCcAchJ538IWVNaf3weZE9pCRK0DRhHIEHGjATxUxqnc1Lkhxz8DBQQACH5BAUFAAEALPEAAgBVABEAAAj/AAMIHEiwoMGDCBMqDKAOTRlVCyMOXBaAi8SLCe0tqXGhQIAa/QyOm+ExAIASfhbKAcCSpUAGBOUE6PAPo02CjQZ6BFmQX4cADnQIEQEUYsKVCDooVaqipkCZP29KtaaDSyMgH0MSRAKUYoB+MwKEPQqA5r+zZwc2snhhYEqpN7HyHPiPaBGCEAuoI2sWrdMAOgzOhXtRrlaB/yIAIEPwn4LFhwuu7It2oJwlAShYjjxwXMQyhbPS7acYTGMEAYpwtgyAQYcIF2qs+RsAakSZCyOsPmi4sYkAQA7jDoxwJYACCFwKiTkz4rIiQqBLj04ds8TeBC0iWCNwW1QbCRsd91FVUxV4AKafNicMFzvdFQEKiFDxuAJghH7p5gBAVH1UhfZE9FZE7g3UTxEUFCBAB2T8dgR+fqGFBgAIOGWbShHpdp1oB4UU0j8OAIAGhBH+k1MBWqX0X0JGKRTchoMldAZQCZV4FhgAOJDWXg6wZ+BuvHGY0DIUALCEVv9gUZtWORG0TAUAzJUYACssB5qPNWIVQFsRCAQeYgHYsAQWQMCkwmH/bBAAVwJdsAEQS0yhgwIBMNCkQGhoJlCMWDZmn0EKINmlTjrw05iabAZQQkstiYBbQfak1GKfBZl40ID98HPGEkdwYY1B/6T0qVpcLFGEkmkJFBAAIfkEBQUAAQAs8QACAFQAEQAACP8AAwgcSLCgwYMIEyoMoKoMmnELDS5Dc6YRQTlF0ETcuLBRkRcRAATgclCOCJEBCtRQt/DfPzkmBAx0sCZAvyMBgPTjyNPglIJY/hX0oyDABiBAIgQosTPhv5oALuTQoQIBGIE4dfbcKhCNEDLWRAQIWnBFABP8BI6jMFahOgcAihC0ty2AHB0BZgxcxpWrWLID+RUIUHMglgAdhCKUawLhBoOA+3L8q1hgIwAF0g6UA0CAvcoFLwS4evBMjQAvBqpCaHFh4YiUCaoSaY/gGpFrQA9UN9jjhggdirDEmrNpQpwLZ+hGGHtgPwQByFRGTsb4RQAIOgBQoDTABWvEtSr/fJ2QzOSxuk9fWG2XgUCSB28DADClXz8/SvUGyGpdMs/meymlgAklFKCAA9EhxBkAMRCkUQEs8bcQeAuxBxt6EuUAFwIq+AGdHAjNBsBhA/2DAAA1SagQcgoptxGABQkl1GUI9EfQidWVGFIZASyRU0Q8LjTFcgfBiBAQATSYkAkAsBiAPQUA4MdoSfpXIpFFYjheAQWAKFA/QgQwjmJcACCBZv+EGYFQqghQgA1yeWklQuoo6V4HAiGxGQVATDFFDYPJFZhIfjT1z0kbYEGGDgIAQFqP7r03Z0LWoFSQCgP5IdNACgxJED+EGmpNY5z+VNA4IEI06UH9yClbieOAFYEEEmTUZhCItgrkkhxLFAFGXQIFBAAh+QQFBQABACzxAAIAVAARAAAI/wADCBxIsKDBgwgTKgwwDk0ZVQsN/pv4j+CyI2D6RdyoUN2SGRsKBLBRseC4GQIEAijRaKEIADABDITJ79+aACJKctxJ0E9BGwbtbQjgIICQDkSXKdTRoalTBwAuCLyZk6dVgct0gGkEZKTBI0StaewXI0ANhRR1dgAAthGWABvOCPR5lWM/jV2BEvyHFAnBlgjUJaQ40A+AAtYC5DCot+7OvAX/QS2zFwEAMoMnDtQBwIVAOX6lftZJcFxEyhsh740QAPPAfyLBHkw7sR+DywOpkj54cyHr1F4LlgjQNbfA4hJpgyGqOYDuhcuEFJFOfbr1JRxVE3yLoLc1pIoR0u3+ZwIAkObPHV/VPrCfigAFRKhQIKACcY3JNasqAKAR4fQJ2RMRXRGx114REhRQwAZliBCAX7MRJsRK/fyH024G9abQbwUGd9BdGkkGgIb5/RMBAFxUqJkcAXSAYUEtLYScjB4qRFkE+EX4zxkAKGBPWgwFgKN669WI0DInLlHSP2/JgR9FMwAAFGEBmNiZEAGgRqR4OswQgH2/LSZQRTYsgQUQCgSwgk7/SKXka+pYtgaQAfRzhgQDkbSleBwSxMCSRQ1UgA45Vukmm9htoCKG9vgE0Z6zEdgTQfyUscQRXCRmkE+aDgSRKlQGEBAAIfkEBQUAAQAs8QACAFQAEQAACP8AAwgcSLCgwYMIEyoMsKwMmm0LC1pbs8ZaQTkBzkTcuFDVkRcSAARY0s9goxIiAxSIMW7hvzIXCFYo8+9fgCkBcnDceZBLQZIFVTkIEBNIhAAdSiZcU0CkECEiABRAIxCnTp5YBa4REsCaipFKB84IIMKeTXUbwCZUAeAFwRgBVPSTAySAC6oBVGXdWTOuWoIKApQhCIaoTYQVAIBR+o8MAAlkDQLdu/PrZIHqRLYc2EjksoQosQz8xwWAiABrdPgV2Ahh64VrOFoOG8CeSL0D/YgcjLB0hc//ll0A4PNmzog4F37dOJvgv6HFqwrkcvjgEgUIRIhAoGCy1YgYFxb/Zv53oOoIr/0MvUm7IJgOAOIH2DDe+FXKWZsTHEchAAITJSCAAHTVFYQFAA5wMc44YDgAQHLfLQTRQq9FpN9+OjggQAAmyDEUXgb1owAAg/3TTz9nAKBASREqlJxCy1lYXkE12WSNVOogpFsBAtX4DwIAYCSaDRGBmNBlMM6IUBGrHbSjWTX20xRGg8WIH08XIiQHAqgRxKQqNvUD5BT99HUgAvx0VUABNTApR3tXFhQDXEOlFUARSjUSgQ442cCjELTxGJtAQEilAxhk6NBUXQH8g8V6SsZJUEoFnSaQKjwOhMASBgk6UD9A8BifoQapg9GEkh4UXkEVBqAOGUggEQGGParW9mk/y4BRxBFcoBoQACH5BAUFAAEALPEAAgBVABEAAAj/AAMIHEiwoMGDCBMqJGhtYcFGZQKoQ1jmn8OLDmNQEBAAiUWDJgo2XIiGIAIg/QhiCVADo8uDYAoe+WiwgkAKAvldLBFAB4MANmiubPmyaMFlLQLMLNiyw0B7Tpci3AB0oCoFAdZ8FBJAhdGvA5NKHfiTDEGzOBE2AiBgG00gAWYI5CmTJliHYu3aE7iMoCqBfw+WAeDAbkwHBUMuDHyXYF6COgM0Ijg5gNmDZwj/+/iPSwAA4wQOdbhyoWK8Su0GiCAwpejXB5cBANBo8+Ycs/2kHO2wiBDfwH8Ld/l4oGvKrAMsSSgCQAl1m88UmL3mNdHGL4sPVHdhYMgCrEsfuvSjgLAKEQIiTPdj3WFo7GFTI4wAoGDEg5sbzWAAQEEMOZ/tFQBvComX0GkLaUdQP8dtI5CD+G1WEBkAUPCRZzUch1B1C3l0kYIIIRFACaoNZJtdMQAAxEclkQgfcfIthNUZBB1B0IkfgdGfKh+9J9eLCv1YkBAfMRZADgKtaFBJAoGxARBYLPFCfVzY5dlAYwE5EEcGOcWXQR6aFACTls02kANklKglkEvYOBFCbwbwzzJcILFERXYFBAAh+QQFBQABACzxAAIAVAARAAAI/wADCBxIsKDBgwgN2pNTRk6/hPbWlFGV8KA1NGi2HTxTsaPHgUc6CAAAIIACIQ8J/hOCQCAAExQ7qqtRQGABG+oGLgmg46PPhDU31NBRgmSNlAFWmtRRZEMACuMq/jMRIEIAIVZX6OT5s2vBGWv+if3HhaRDgY0KFDjbT0QAIBXBBHCgsd8yBwHICIQbw6vfgmM3ADgyEO4MpGjmJuxXFAnBIgFUBOhgcOffrmNVDH74jzIXgv0UBPCDFHQBAI0I+jHZD02OyB5TXzYoVp0CAImTil6j8kIAMKUHpi5QOiXFnT07Wq7owqfYGQAoDxQQoNG/gf/cLgkuMLGC69hFy/8JgPyjkCLn06Nf//PfFAAIVgvkV9IaeLFai4AvWAZAhH73/YMXR+XN5hcYaulFEEnWjfVPCQE4dhAaADDgoFi7kcdVR9Z4pAp3BiFYgFwFIQBAWA469dlBcgBQwIX/1JRagRUtl1BzHZGhFnAGCQbGfgKeiBA/py1D0HACTRFADvshxJFyHZVRgABcAGhQDgC8NtB4CoAoUAcAVDmQkm7lFYBWBn4kZQFYjGXQGgAoENM/MwRQw2MBGCkQEgBswM98FwCgZJ4C3SlQk2kONM5pVsXgqEBYYBcDABRwQcadciJV0lkB8FMBACWQAYYIAPg2EBYMbJWoQcuQdJCWSdky88JA/uVGawCc/tOIUy51EBNBUQUQ7KqgjXeQnof+I8cSR5BhD0LPYvfPGUgsYWsAAQEAIfkEBQUAAQAs8QACAFUAEQAACP8AAwgcSLCgwYMIDfbzE2CNuoT/5ASQmNDgv4v/DI4LwKVfxY8gBZJZgWBggRjWDJKJMJDCmY/8lgTYUCBAjIsEGwW4ELJnwhIBHMywWZPCw4FlCgCYceRFgAJrKi4DEACA0psZB+rk6bMrQSBgPAr0oyBAkYH9KABAkvGfkAAdKqrTwaVREQBYszYCE4DlWLFeAwcAEsDEQDRBswawpwAARYsYzeKNPNigU8GCkRTOSnjowH8qAhxRTBBjxrt5M/qZ0ndg1IP2QJLp+s8wYYEuArwlqCNADdKfI6M2LXArSJ0fy/rkEgCBqoEiAiwBrDvACuACKaMOQNz4x40fNffwlIMAAJbPcTsSlAn0IPHtlL1jDuzHAQAh1KPLJHg2tHucksXAHYDyJcQPSAwdZx8Q1AUQ2m4D9eYZZFnBR+BOx4GkXEWNRABAbwb1lkNBAkJY0HuTARjAcxWAlNJHICakioe/HTRbi2jZ99p/Fw2nYj8FKNDgfAkto1YNQwrEDwMAkCHWeX4JxNyOpvmo2D8bAGDCW7MRidA/0dVUEIMDsYbAEWUUoRQYikUnRFb/ABFDDFlGMCeSrnEVwGVeWkQBQn9+pqZJU+RnFkFZEgSAVQbZw9BzfVqEnEGTDrTMeViAl1MAy+Qkx6egyuGHRwEBACH5BAUFAAEALPEAAgBUABEAAAj/AAMIHEiwoMGDCA3+ayRwXMIAfh4e7NeozBqHBPsFmPJPokePZWIUVKFKI0E0FAZGIGMSYZkXCAAACFBghaqB/AI4+Mgz4QuBP2cg0GmN4JqhQQWWedhCZwwdMWJGWCYw586eWAkWwZJToKqdOjoG+CciAJCBSwJIaGlQCJd+/+J+BQCkn6ozARgMlCM2q98ARwJ0GBgRgb2B/Xbi9Rj3XxEAg5EYLMH2b08uATYMlKyCbQ2zlQ82xgI5QCMwARRkFO0RNdYZAWwMlJ2joJAATRnHjQGgdgCrHrs+LBA6IRmaEQW6CHCb4JQAIooXjEsGQAGGv3V6lD5QSJGejfQG5h5oAnDfAJg1M26kAIDkqtot/1UVIUBYgiuYF3w+2CN9ADoQBJxE5yHEl38SBPBZQZ8FqFUAnUlEn4IFDfiQcAkRJ9EyFQQAm0HfLUdQbQ4mtAwFAMxQmUZXPcTdQDW8OI5mLhS3hk4t/XNBAK4htMwFALwA13QMFKCOfDzNGEB5CP1THxZiHcfAYQKhdoZJMwJQY1yTQVfli/Ll9tOIfaFWgBBnHDHUcwM1VaIK1r0Qw5wC3QeRegFQhmRCZR3kAFtTDDVQEee5KVYHMxnUYlUMYbcnVskRtA1mAVB10E0CNSJHkwEBACH5BAUFAAEALPAAAgBVABEAAAj/AAMIHEiwoMGDCA/y8yOQX8J+awI0SmhwnJwActQZVBUADMWPIAdyMVFgIIIc6v4VxOJgYAc5KhOCoQBgIAATfvoNLBNAhc6QQA9GCBChRk8BAUTEFIgFQIEcRUwEUDAxoZACImYEmKFgatUAPH0GHUswR5mla0pyGaiuK5mfWmMsNbjM3tJxFQLoEOgHSYAOA7+SHRwgRoAcA7H8XapKQIFxY48EKCFQa0EdcwkH3WtjoFYhBTd0zEwRtGU5oEUHIAPz4DKQZ8b2yztloGjFBFsEAA30jAIBEfv1C/szIc+PqoGCduBQ4FAyc41iplimAgUGADZA39mzOMJGRYSE/x8vXnwA3CHLOD5TvCWaywE6UySDAAEAABTWcherefAaBOd591xBne0F0j/qLGEfesR9pNFHgiX0XwBLzNXPBQHoN9ALux34z4dcABBBcw1SB1JyCcnR1RGkuRBAEQUBpiFCH9aozn0PvifVRwx9JARpBKn4IpB+mXBXSa8lVOOHAfhx30+NAHABkP0d5EdLQFCpSgEFyPETaCUstUSTgS0pUA0AdPBTPwwUJhAaVFZJ1FSGEXREcUAE4MASZQDhVEQDDaWhAx0AsQQWQtBUwHECkTGUQNPJaVA/AB5k5ED96FCTQAp4hKmgA4lgUAVnGaQOQ0lKalCPG3kXgCpTFBQBxoOYMrTNQP+oAsYSRdTWD5MBAQAh+QQFBQABACzwAAIAVgARAAAI/wADCBxIsKDBgwgPqlsTQM6/hOoEWkto8J9FiwcZMqTIsWMAe0I2ABjoYEm/gvx0FBAoIMZEihctiggAYM3DgUACHPHIE6GqkR1sBOgwMifBGgEcABFSYejJhDGRABgp56nAnEVu9twaYFkNOQSPACigauAaAAgaPVTXdAnMh40QiHBQE2OANTMC5Bj4kqtfgQ4CgHmaF4hVLgA2aE1YokAjujYHRjBI5q/lDQG4SA5wRus4AQEiUlwC4Eg/yFrLvAiAVPAyhH46gu2pamUjgfZGliXI4C5FVQo2nEQt0CLWxQeNUtSBPGG/EgFe3PwZwKpACoIpmihg8x/kgsc5ov8RUoS8+fLoy/QUAsDBspt+xiLvkDkhYsMWvxMMb9kvaQSzCdTISMhhBwZCyygQgWje1bVfAFlx9BpHu3E0BVprWKfOSH0BxllzAcwAwBRylCgHAwCAIcc4OEEI4oMcMccRFmidcVBgGwnEz0odElTCVEACKRAWAwkBoXUHHciRZhSBIUABlR20wpEDkQGABC8WEcOWXBYAgAkxZCjQFHr11xMYY0WZJAARjHMTdEYKpI6R/NyEHGpayYFWDkUEcJuZsIHWVEFqBjDTBmCQoUIAEfRFXV8x5XcXckUoUCWgCJ2FUJwCLQPdQBUEGMCjA0XaYI4FWQOWaJgWZI+oA/kVYQ1yayxxRBlI8gOWdZH6IQc/AwUEACH5BAUFAAEALPEAAgBVABEAAAj/AAMIHEiwoMGDCA3y8xNgjb2E/eQE8NMvoUWDywJwuciR4z8wKgoMLFDDWsGPDgQCuLDmohwAMGEKZEBQYod/HXMe/LchQIQZAVyI3PBwIJkAJIusCIBAYsKXCDpIlaoCp0CbOrMS/AcETMWrCAAs+covAgAsAv/pCFDC4sub/+LGHdho44WBDLV27PeVYI4AL6welWA1wLgCAFQ9BQBXbuG1BWv01atVSNCBa/8O/Nd2yuLGcgfKWRKAgujJA8dxLJP1n4gARdKaCHAkcgDIB18y6BDhQo01hQNgdckxAuqE/0gr2Ja2J1qCQAIARfgSQIGwAAJYFh2gA8dlRYSE/x8vvjzpnGsQg9lcAcB6grFbJGx0RBVOVTYCuOfunbJ/OQoAcERhPGk0WXQxIOTYZjkA8NpV3XFUlEV5ucQAAEIE51oASBSUn2YGOeYYGgAgYNVwbhV3XEF+OABAdAblB0Rf/6jAoYIixtUIUl8x1J9Fil00o0WNmDWkQRttUBg/AToVYo4fAeDAXOoEkJJ/A/FFpFk6rBiAOgGeMRBpd6WFlhxf7UjQMu1JlpZZK1jGGpbI9YSAQdsJ1KECSJQhBGJzBlBghwJdsAEQS0yhgwIBMKCmQGiYJpCbdO50pUE9bfbnQAhwQWNPhLIVU0wiOEmQPQwFWWmIFdb0qED9qBPiGReqbcWQSXRxsUQRaM0lUEAAACH5BAUFAAEALPEAAgBUABEAAAj/AAMIHEiwoMGDCA2qkxNATr+E6tYEWPYv4cFlaM40IiinCBqLIEMOLNIBwEAGRR4S7CcEwUAVqkD++yfHhICBDiT2OxIAiEqRQAv2M7nBRoASJnNUHAgkgAIgQjYEuKDO4j+JAC7k0KECARiBPH0GHTuwXwyGA7GY9DNQjoACaPl1CCDEojoHAIoQtLetoY4AMwYuIwt0psELAZYM/FuDIBkAEZYe1GsCodSCWCQTJlsisUrEX8sWCKDqZ0HQCM80fjEw5sGNICUGHedSdgCXaAdSCEAGobrRjYpsiNChSFWwPU0f5AlyhmaQrEss5WfS9cC5WBDKAYCgpIIIAi9Y/0Mu1qLthL2BLgGgAHYAayb5FayMBOEaAPin9OvnB3zgAGEpt1lQXHB3xl4mUUTQXFNoh18MBH1UQFUBgjQeSNZZxEUBBZSh3Gi5CbRbaAapgl92A/2DAAASVWgRcxY5BxIYHJIh4G5kaKZAAH4IKNCKNqYYAQBlJNZTSEWCNMVzBZHBIRdMBtBYeQHcx0CUApkAAIwB2FMAAGx9BeGAKWIpUBkFCABlauxdGIALAfwlEEsBjLNUgRLIF8A/dUVG2ls26BUimQYtMxp4Ba0p0ApTcUHGDAAwYB11PKr0jwgAbIAFGToIAACJSzAwEBeEJtSISQfJKZA6K6AaQARrSCxGaY8C/WNNZQMp0GBB4zA0TqkI8TOoQH4MRhBNigVZEEP2HItsEWD0JVBAAAAh+QQFBQABACzxAAIAVAARAAAI/wADCBxIsKDBgwgN8vMTYI29hP3kBGCY8OC/i/8ILjsCpl/FjyAFgjFRYGABG9sK/uPiYOCFNR9FAJgJYOBMfv9gisgYsufBCwEizAjgouQGfgTBBChQo8iKAAj8eESoo4PVqw4AAG0YYKfPrwP/6SDDM4CcklN42svKRaDYACYqYizbAcCRAI2wBNhwRiBFsIAF2ggwY6rSCgS3FQCwLCHGgX4AFLAWIIfBwYEDCwkQg6dlHQT/iQiApazKiwN1AHAhUA6SAFvNmh44DmSZr/86BLgrsESA1wSHApl6em4/BgDIDNQ52yDMjxG+vmZQO8A/oG0Jgh5qce4/pQ5Qc//1WnGZkCLn06Nfv8TnmsXK3UaPP3DzC4Te/5kAAEQ888yByaEAAMC5hV1B2+H3mCqLNfLYfxU99NFfFQkIQBEGjdYeQTUEAFp3qAkBQAn9PNhVcwU9V1F0EyInRHMdAlFQXEugaB1GEQDARYmoSdSBjQM1ApKMFfmR1XAH6fXjQPYgAACFxZ0BgAL2zBVAbREQB+BHjeSI5EHjOLnGVK9tEJZeckyF0QwADPaYdTm6sNltW+IHFAIGbTbQXQosUQYQBQjQl4EB1BiWOmJaGUA/Z0gwkA1AAvhPSwfpFhagAyGQHaGGutXeBjw2Zw9DqtSJH5StCUlQP6pMEQAX6hgLxBBlBJWqypsBBAQAIfkEBQUAAQAs8QACAFQAEQAACP8AAwgcSLCgwYMIDdqTE0AOv4T21gRQlfCgtTVrrBVkeKaix48DkYgQMFCBkIcFiyAYaKKRx39lLhCsUObfvwBTAuQAyRPhvwIBLtQIYAJAgBk3BwoJgEBHgA4BIoxLenBNAaNChIgAUACNwJw7e4olOEPiQDBGzQZoVKCA2X4lAgDpl1AFgBcEYwRQ0U8OkAAuvE4cS5gg1CJJl+IduAaAA7oIKwAAA/kfGQASAogwuARy4bErAhSBvBlLQQYNE5YAYFrgPy4ANq9xqmKgy4O3K6oFqQ51mYEOAggeuCEAF6oFYVdYFuDfsgsAuHzV+TGnx9o9h26gCtSP5wBxkVT/XKIAgQgRCBR0nh62IkOPYHpiAYDgvUCjFAniXZoQTAcAAAawQXzsffYZGG2RUVB3BZkQwBEJzecAF+OMA4YDAFgH1kfbfJRbRWS0BQZyASgQwG5PBdCaQf0oAMBv//TTzxkAKEDXhh5ZVxF2FZVRgADSGQRVkMCdiJAfXLlm0z8IAMCQaTZ8NFxC6yXkYwHHHeRUlAMhiQBKBiFZgD1LxngVQ7/xaKCUK01B4kBy0KdKUkPNQFARE93UT5NT9GOTivQ9ZE1bNeApx3drEqTOSg7YSVBrMtoZgXQ11PghUGoBwZUOYJChw1V/NYdFcAJVmWhB1hh1EJcC2RODqgE4LoAipgP1AwRQAG5qkDoMdXgqi/YVlN9A//ixRABkIJqaPbX2swwYRRzBha8BBAQAIfkEBQUAAQAs8QACAFUAEQAACP8AAwgcSLCgwYMIEyoMwG8hwkZlAqhDWOafw4sKlxgEcvCIgoElLqIhiABIP4JYAtTAyPIggoMxChY5aO1iSB0MAtiwKDDlypZABa48KZCMwJECVRk0EUAHz4MbdA5U9XENTyEBVATdalBEAKwEVxCUE0DB04KNAAjY9pTjDIEhCx45yxXji688Q2oU2K+fgwBrKAJwcBZMgL8EmS5UWvegvb9GCUYk2CFAyoNnBv/j+Y9LAADjeqp0eFmhYow2+A58Kees1pkHlwEA0Gjz5hyz/Zz0ebGIEN/Afwtv6blAQeONCsYMQLQrgBLqNp8pMDuw5dGNgUZmPpAoWYKvmxfJ9KNgsAoRAiJQ9yP6p8LQ2QkCOPj3TEGvU8QP3NxoBgMACsRAFgD2tEeaQ6ctZJx+A5UmUAQBIGWQbQWRAQAFPHlWA4MFWacQEnQVhAYCAEyBEEcbDpRcAAUeZNtZMQAABE8jlRBifB0u1NyKUi0n0BEEvcgTGACqwhN8b+GIUEMC+SiQiQFs9lNKqSHAnogDgbEBEFgs8cJ8XJzl2UBzKUnQRAilKBA/SQ4koUAvSWjhfAI5QMaNZuYJBpMGoRnlMlwgsURFZwUEACH5BAUFAAEALPEAAgBUABEAAAj/AAMIHEiwoMGDCBMG6Jfwn8N/Cg1aQ4Nm28EzETNqPNKhoBCGA9UtmbGhQAAbDjOqq2EyQAEb6gYuCaBDo82EJjcILCGwBsgAfgAEAFAAAMqUDU0EiBBACNMVMmnenFpwRgCIArkIlANymQ4wjYAYfagQTAAHFvstcxCAjEAgAWJQnYtQ55GB//oxFHsU68F+JQAgIVgkgIoAHQvOpEv38BGQZPk+9FuwX9FGBP0EUNAPTQ7DGTEzRqhOQQA0eFPyvYrUIOYCPxcKVBVgZs2IixW6mGq1g9/IRllTJohaAeV/puXUlppRSBHn0J9LnzolAALNqSGunnywDIAI/bA64mSL0fZoumYF/gZuQ/hwgWgAMJjs0PSa5bcVWsuoKjZCsy0VxJ57B8lBFH3/mISZebhltFtEbgWQnoCqBUfWQfwUtQxBrwlUXQ7vFYRRgwqVUYAAXPin3kOSXXhQBwCkOFB1IgjkFlTnaWRiAVggRF+LlBW2oUBIALABPwLxcwEA1QUwZA145XjQOCYxVVCPA+kwQwwVfBdDDJ8NJBRXSXZZAhlgiADABQRhwUBUUho05EEgDhSBUGLKR9CYkDWik0AAdEBbQeMIVGicN80JlByMNioHdgTZQ5BDZyCxBGoDBQQAIfkEBQUAAQAs8QACAFUAEQAACP8AAwgcSLCgwYMIDfbzE2CNuoQQIf6b+M/guABc+kXcuJHMCgQDC8SwRvAfGB0dQEbgyG9JgA0FAsSYSLBRgAsccyYsEcDBDJkxKTwU+G/lQKMRlwEIAKAAgJkVB9rEqbMqQSBgNAr0oyBAkYH9hCyRUyYAUojqdHBpVOQpRYGNwJgd6Eer1bsBgAQwUbLimbkRKVZsCzWq3oIv8CpGsjcqwb9nEQr26vatnymAGyK017HqP76HC0LeOJnw5ABTN9qM2FUnlwAIVB0cHZgm5RgBJqeOeDEi45xyEADAgpC2xLeEc9verfiuHwcAhNgVnTnh29vKozJPyG8jQ9XQgUyspx754PXk17cjXA2xNcRGEQDoiGjcOvLKjmVX2Egy4nyIqsRXg2PFVWffRKbZFkA/BSgwXnMJLUMBADU8aFB9A722xkCCJejYPxsAYIIQAZABoXUiBBBTQeINhAVuPIEkE3spChHVP0DEEEOIEehY4UBrUBVAYieaRwFCRw5kw0EAyKFVil8NFCJBADRlkD0MyVakQf+wV5CXWhYkB2dwBbBMTXKkqaYcdQUQEAAh+QQFBQABACzxAAIAVAARAAAI/wADCBxIsKDBgwgN/mskcFzChwn7NSqzxiHBfgGm/IPIkWOZGAVVqMI4kEyAEgoCpPT4AgEAAAEKrFA1kF8ABx1zJnwhkOcMBDetEdxAcCXEFjdj6IjhMsIygTZx6pxKsAgWmwJV4dSxMcC/IgHWyFHZUQiXfv/SagUApJ+qMwEYDJTTlardAEcCdDg41mjOtF8B7EVisATJu1S5BCBqsC9VwFgEB2gEhuzAwwTrJqw8dUYAG3wt6wQcA0AOqDc5Yn1YADNEkwX8hPbbMS0ZAAUYBojK0bVBIWBzNpKbd/bjRgoAEEYtFbFdVRECcEXoeCp0ADoI8oaomXr3g6okBKCo8bB6TujjC25/uDpha4jLKgTwXF40x2UUAMxwjbF5RI41+EbQOES5ICBB5sF3AQAvoFXQPwwUoI5zOREYgAkdJThQZWeQRCAABqZVWAAiCATGgRQGgFQAPBGUQ12cqRDTXAMhlZ1AKuD2Qgw8CjRdAH4wdhKKFJZ4kAOHAYEQGV3Z2FUHMBnk324M6ZbiVLIN9NRBExJEk0CNjHXQPwEBACH5BAUFAAEALPAAAgBVABEAAAj/AAMIHEiwoMGDCA/y8yOQX8KHCcfJCSBHnUFVAcBA3MiRi4kCAxHkUPePIBYbHUCW4AiGAoCBAEz46TewTAAVNDnqPBghQIQaNwUEEFFyIMiBKzcKKSBiRoAZCgIoaFTzZs6dWAXmKFM0wBqQXAb204HFz5QASSEus9d1XIUAOgT6QRKgw0CqWfMOjBEgx8GzabMeQSvQaUEdXfVijWvjL2G9Qp4KlBN5g0AychIPXLbxDNZ+b88aBKz3jAIBawL062cTJ0SbEC3vjOzA4ejHHMtUoMAAwAYyXVtfRdioiBDjyI8fD4BlZxkBBc4MH0haJxkECAAAoBC2qmvFedcg1mA+nTpunf/ULcneXKBwiBYh4oUoPsASzQSro//HnwuACLa99xBsD8n2kBxRHYFffudBxN+D6mgXHxoBmLARQxAJseBACAZQxIbmBfbQg/wF4Id2OTUCwAUggleQHw4EAESLAulH0BIm3kWiQDUA0EFO/TAQAF8BoEGjYj0pQORAR1xVhEB2xSiQPQP11F0ADnQAxBJYCOFSAQQGQEZPAiHmIkL9jHeQCV1ZeFB8/Vg5kAgGVcCVQeowxNmZCGF40VXzFVRUPwxtM9A/qoCxRBFn9VNiQAAAIfkEBQUAAQAs8AACAFYAEQAACP8AAwgcSLCgwYMID6pbE0DOv4QQE/6bOPEgQ4YRM0a0J2QDgIEOlvQjuAzJDAoCAgjRSHGiiAAA1jwcCCTAEY04Ear62MFGgA4faw4s83HgyowtkQD4KGckzQBFZuacGmBZDTkEjwAooGqgHCBgVM1QyfJhIwQiHMSsGGDN2BwDrVGdS9BBADBOCY49irNEgUZqZQ6MYJAM3cMbAnA5uDfnEgBH+gWWWuZFgBoCwSxD6Ccj1pyqCgRoxJisRlUKNoycLHBizagRhULUITVivxIBXtQe2FijiQIy/wUu+Hq3QTRCiiRfrrx5mZxCADhYZjxA74hcAADpN3E4weKH6T7SRvC5NN+EyxREUNea9VPYEDdH7JpxCgAEa/IavJ5wBoApcgQoBwMAgCHHOO9V911GtEWExX1nRMQfQiUsZaGFAmFhFFT6HQRGRotBBIYABRgmoWkQFRHDiiwWAIAJMeQn0BQBwBUeTmBsZeKJ5wmkzkr8zLTbZFLJcV8ORYx2Y0J+pFRBYQRhFgBhFwgExEw7BSBXay0J19ZuRSgw0I5LFrRGUQadh8BBF2D50ZYBdClcTAhZgxV7ZRpkT3kE+WGNVJ0ZRJpA/GClX5d+yMHPQAEBACH5BAUFAAEALPEAAgBVABEAAAj/AAMIHEiwoMGDCA3y8xNgjb2EECMmXBaAi8SLEP+BUVFgYIEa1gj+45KjA4IAG/pJlAOgZUuBDAjKCdDhH8abBf9tCBBhRgAXHTc8FPhPAcGUKwEg6MCUqQqbAmd2wEmVKBAwKqMiALAkq80pcsCgzAqRZc1/aNEObGTxwkCGVSX2IzswR4AXUAmKRRrRbNq0A3UYrEE37k0hPw/uLXzQ79+8cpYEoDBQDuMA4ySWwflPRIAiiscmZdAhwoUaa/IGkLpSYoTLB/9JVrAtNN+yLQtsBRAAcWWaEpcVETK8OPHjkjGuKQBArG3YBBsdUWVTlY0AzX9PNRxXjgIAR1TrzxWdETDRHAA8RwUecShEuH0ZABAifvxthI/TolEKlXVf19AJ5IcDAAAR0WIR5YdWIwEUkBVD20GkikRABNhIBAUGGACC5eUHBgAOqKVOAA5wN9BcEF0IgA4abkjeQP9gsVpWDBK0TAUAEEYUhisgtpmJ+O10UkG+CZScZ0YFEANFAegUABIDXbABEEtMoYNRDNQoEBqUCaQjkAb9U+JBOw0Uw0EA1OgklAKV4JJLIsxkkD0MTQhmmPDJpGUAdhYkBz9EMRTSWlwsUYSMagkUEAAh+QQFBQABACzxAAIAVAARAAAI/wADCBxIsKDBgwgNqpMTQE6/hBAjLkNzphFBOUXQRNzIsUgHAAMZFHk4cBySGRcKBNDxb+O/f3JMCBjoYE2AfkcCACHJsWfBfiA32AhQAmSOlgLlgBzI0qVNABdy6FCBAIzAnDt9ah3YLwbDgVhA+hlokYsqHSuRQlTnAEARgva2NUQ7Y+CyrT1fGrwQYMlBtE0jvjWBcINBLGrxbi3RlyfTtBv5Wj14pkaAFwNVIbQY0abPcQgCeC4IOPFBdSobFdkQoUMRdQOxOj6YM+IM0xAxl8C9EjJEpQg+Kogg8IK1qzpnGxydkIzPJQAUcDZYujOA61P69fNDvG4A2YrDc+MBgOBMwuq/r8cgqLEAbPAQj0fUvJFLgQJllD8OnFDVdSwE/YMAADbBl1BtEN0WERj3kaHffrwVNKCDA/0TAQBl9KXTRhlGNEWEApFxHxcgCoQeRCYAgGAA9hQAwFhWrRdehSWWUYAAJG50okD9CBHAOEiNJwE/Av3jYwQtqSJAATa89dWMCC2jEnEF5WiiQBQEkKVv/IhF0j8iALABFmToIAAAk/XFwEBcQJlQI0tRR5ADBzmAVJcB+PGlNYQNpMAUBo3D0DhuIsTPkwT5cddAYxXkhx9qMWRPgDAtUQQYcgkUEAAh+QQFBQABACzxAAIAVAARAAAI/wADCBxIsKDBgwgN8vMTYI29hBAj/pv4j+CyI2D6Rdy4EYyJAgML2NhG8B+XHB0QBOigMaIIADABDITJ79+aACIqctx58EKACDMCuAC5gd/AfyoHstyoo4PTpw4A+GyIUyfPqwH+6SBjVQ7IKTorTpEDZmVLiBStdgBwJEAjLAE2nBHIEKvdgTYCzDg7sOxSiRMH+gFQwFqAHAbz3r0rJEAMq33NbqQ4UAcAFwLlIAkwNYAcyAPHbSxz9V+HAG0N+uV7MO3EfgwAkBl4M2fEmxEjXN3MQLRqyWhdl3UQmKptiMuEFFHOfLnzJTzXFJCNcDXgtCYAACleG/TinXIUAMfYXB14wrQBVE1vRLl7xIcR60YMD6AIROvBAwsBUKJf+6q3baRbfLEJ4R1B+OX3TwQAcOFfYHKsdCBBjWwERHxRAcHab3/ldwYACtiDnmgRbPgdQo0wqGFH5gn0D1xytETRDADkRVlWDLrQGGknIvSPT0kR1NhA0OEUgAICxWBYVj4tYdU/6iAAwBroBdDPGRLgNeGJ/ziA0GkDvXAQAKpo9GMATh4F3QYPemcPQ6r06KN8BMlR4UBxFiRHjIIFsCSe6d0YQEAAACH5BAUFAAEALPEAAgBUABEAAAj/AAMIHEiwoMGDCA3akxNADr+EECFaW7PGWkGGZyJq3IhEhICBCoQ8HGhvSY0LBQLU2PivzAWCFcr8+xdgSoAcG3Mi/JfywkoTAALMoCmwUdCBKzWuKRBUiBARAAqgEWgTp86rBGesIQgm6FaB1nRwaQREJVGIKgC8IBgjgIp+csq6mBpAFda7BDsEKHJ2YNkafRFWAACmn8B/ZABICCDC4BLDeO+u2AuZ4N/AB0sAwDLwHxcAjdfocDuwEULTEb/mVMcgQJmDlzV+rrAswL9lFwBwoXpTo82IKq6u3IA5QGyNSxQgECECgYLHvK1CZBgRjE4sABBQN3i8egcA4ANs57AePXJkMAUKkEnYPSF2B1zGjQPjAMDvqhq3aUQdkUx6MMUJ1N5B/SgAwGv/9NPPGQAoYBh+Ef2GlkZlFCDAbhANaJAfUR020z8IAMAQZzZoRBdE0CVUYQFcBOiXWRFxWIA9HybIFEOvBWdeTmggUJOLLwJmUBF10dRPiFP0M1MA2CHwkDXp1UCkHJXtWJA6PjowQ0GcvRjASxEIZMNZKakGRFQ6gEGGDkyVZRsWDgyUopUFWXOUQSUORMFBDhJV5kD9AJESeGgapA5D+tFpEFwI2VXaQX6cxZA9gPazDBhFHMFFogEEBAAh+QQFBQABACzxAAIAVQARAAAI/wADCBxIsKDBgwgTKlyosFGZAOoQlvnHsKLCJQaBINwgcAZFhmgIIgDSjyCWADUsqjyI4GAMgqoKelRZIoAOBgFsfAxwMuXKnwJTlhRIRmBIgeMGCgkwoyJHGwNVKQiw5uNSFUCzGhQRYKnBpU0XNgIgYNtOjWFrFjyyU6vKF13bCgTLsAwAB23BBHBQ0ATDmG4P2uNb9CtThmfu/vv4j0sAAEl5omR4cqFflVADDC1Id+EyAAAaLV6cA7Sfkj0rFhGyujXr1ysdF0jYeaEIACXULT5TAPQagakD/yysGWFthX4U3FUhQkCE3n6AT14YWfhAAAuPI1zcaAYDAApiyI15bE+6T4WVFV5mOHvzQe0HRxckA4DCR8c13B/8vRCJ3IJoIADAFAzBZ9BobcUAABAfhVTCf9YVxJ9FBh5BEIIfgQGeKh9FFlaEB/Ez0EsEEbjQeQMdFQAYGwCBxRIvYMdFW44NxBaIBEWEUH4DXcDSTi2pSB92AjlABoQ4JkmQfjoG8M8yXCCxxERtBQQAIfkEBQUAAQAs8QACAFQAEQAACP8AAwgcSLCgwYMIEwboh5CfnzJr7Ck0aA0Nmm0Hz0zcyPFIh4JCGA4EY6IAAAABCtjAOFFdjQICVaobuCSADo44E8LcILCEwBoi+10IEGGGDhcmN/BT+M8E0QBCIgRYQdNmzqsFZwT4N5CLQDkidZD5R/afHJNTFIIJ4ABjv2UOApARCCRADKx4EfI8crCsDQBaEfYrAQAJwSIBVAT4WLBm3ryKj4gkWBYIgLuCTTYi6CeAgn5ociTeuPkxQnUKAqDpS7YDAL4INxeYvFCgqgA1b050rNDFVa0duBokiwQAg3EJVysQLvBfajm4rW4UUoS69erYr6ZF0LnvGpNzE5bnARChn3CycTXmNp13bXOEchQUnojGeNmyqddE163Q2kZVtCG0FkwJxRcAYhPJAUAB95EF02br7baRbxOF595BfjAAgBDMJcSPScsQJJtAaeXQYUYb8YZQGQUIwEWAA/nhAABAkMWRay8OlJYIAs1FFXscsVgAFgk1MiMQ5p0oEGIhClScUgLxcwEAaQXQZA0DKQlkAOPAJFVBRAo0JQJ2xYCZEAShBFaUFQBQAhlgiADAUANhwUBVWxrU5EEmCjTjQYwJpKZI/zTCk6Ad3FYQclzmedWefkBnUCMnSpTlP2cgscRqAwUEACH5BAUFAAEALPEAAgBVABEAAAj/AAMIHEiwoMGDCA328xNgjTqE/1QFQGMt4cF/GP8ZHBeASz+LIEMKJLMCwcACMSoOXFNDwUAAJeSA5LckwIYCAWJgJNgowAWRQBOWCOBgRk6cFB4G+KcjgIIWAWYwcOrnI8JlAAIAKABAp8aBPX8GHUsQCBirAfy4LDJwyRKlAcb9fGFRnQ4ujYp0zSiwEZgAEQZWJUt4IJAAJiz+dZAwo0a9Xr8eLki3cGEkiL8eXEO0MV/IjtNOAbwSob2QZMb+SzwZ4WEVaAuGBs03QNiQPUG6DMolAAKJCNdwReP5K+SlfG+D5AgSM1A5CABgSbgtcNPij7si/6rcMmE/DgAI0YlNcNyGACvIy94Z4Hjt7gn5hWSIOzwQ9QLVdUAs32Jt9+zBh1BuFu1mUSMRAHDdQeqIEEAJp4E0217sBSBRBSGpZNGCCKmSYA2aFWTPUCLAJWFGtGnWTwEK4OfdQctQAEANLvKjQgAdmFhQb5wJ5FiKA/2zAQAmCBFAai9C5CBOBd0nUFMAQEVQDAQ5KMRX/wARQwxDRrAljSuJFUBlSRr0DwUIoSkQlQdlNZCDbA00JEEAbGWQPQwBV6ZsBBZEoJ4FyQRWAMvwJMehiMoxWEAAACH5BAUFAAEALPEAAgBUABEAAAj/AAMIHEiwoMGDCA3+ayRwXMIAZ84se1iwX6MyaxwS7Bdgyj+KIEGWiVFQhSqOAuXYcECwwxqKZV4gAAAgQIEVqgbyC8AypE+ELwQGnYGAp7WBRQIgUBGgBksEaz4ibMEzho4YMyNMDLCz58+vSLHsFKiKpQ6pXIpoDKBORIASKA8K4dLvn92yAID0U3UmAIOBcqSCHRzgSIAOD9HY9Gn3XxEAiJEYhEuYMJcAGx4yLMDYLhbIARqBCaBg40HBCUd/nRHAxkPDHVAnbBwDQA6BXUGOfVggLkgyNv0k9FNUNUi7ZAAUYMiVJ0jfcpP6bPTXMEJ1mWdAn91IAQDJuJ1XxyasKkKAswjtlXhr72d5ADoI5qYo+2BgkKokNE3Iz8Rhde6ZV0NB8z20W0K9UbRMBQGwhhA/TG2wFkjLUACAdhWJ99B2BtXA4UDjZObCh/2QdME2Py1zAQAv1FXQPwwUAOB4IYUYgH8IlRgABVsdNNoZKIUIwIh2TRaAWwGA8SGNAVAVQFAE5SCVEALhSNBaVMUnkArKvRDDlwKhF4AfmQlEGZMHIWmQAyhpeVBOAmUpVQc1rUkgQ8yh+ZNwzxUEZ2hyIPRPQAAAIfkEBQUAAQAs8AACAFUAEQAACP8AAwgcSLCgwYMID/LzI5Afwn6NyqwZl9DgODkB5KgzqCoAmIogQw7kYqLAQAQ51P0bWOYFgoEFVnSsCIYCgIEATPjpxzKACp4igx6MECBCDZ8CAohYKdBFAAcxAsR4GWFZRSEFRMwIMENBAAWNev4USpZgjjJMA6wxyWWgEC5AA6hyEABIxWX20o6rEECHQD9IAnQYGLas4YFRc1QsIrjskQAlBG4tqCPtYbJ+bVTEIjiuSCFcBcoBvUEgGTmWB1oFeYZsP75TKiYme0aBgDUB+vUr49PzQd4gSwsF7cAhQjIACjAEWaYCBQYANpBJy3tsxUZFhGTfrl17AM5Bywj3KHDGN2GvSFIfJIMAAQAAFNqKNX9Z5JqXWOjLJVpZ6D91S7gHXgDV6TfQRiAVBtJ9ASyhnkCqEFXDgwj9Y+E/XAAQgXEFMheScBXJ4dURFC5DAVcGGnShheq8hyAaAZgQ0nJXUSiaV0VQaM0FAbyQYkErruTHe0A1AsAFNtZXkB90AUHhOKW5YOASAdDYyIoC1QBAB0D1w4BUAqGRZH1EKRAVQUcApUIABbxAWVxEyfdUB0AsgYUQNhUAnGlECdSfkgf189JBJjA12EEOMNVPnAOJYFAFaBmkDkOrAXoQjQWpUiRCfijK0DYD/aMKGEsUEVs/FgYQEAAh+QQFBQABACzwAAIAVgARAAAI/wADCBxIsKDBgwgPqlsTQM4/hPbkCOyX0OC/ixcPMmRYsaPHAPaEbAAw0MESigOnlCgwEAEQdR0xXhQRAMCahwOBBDjysSdCVSQ72AjQgaTOkgEo1AiggqQKlAhlIgFAUg7UADqL4PTJNcCyGhIHHgFQQNVAG2e2lmFJZqvFh40QiHBgM2OANTMC5Bhoratfgg4CgLlKsJ8JrIQPrmxE9+bACAbJ/J28IQCXikt1uD24BMCRfo3VvgiwVPAyhH48hu2pimWjhPwgD66oSsEGiqEFXsy62eDRipp79isR4EXvnAEk8OtoosDNf40L8u6IRkgR69ivay/jUwgAB8uOC/YmyzEhFwBA+l2MTnD6ZL+dEaw2uLbA5YrLFESAGQB63fYBaNXRaR2Z5dEUACCwRmICocESFh7NAMAUclQoBwMAgCHHOMgJWNFvCQVXERYJnpHQGggEMIV4BJVA1YsvCgShQEIEyCBBYHh0X0JgCFCAZAjJkSISLBJURAxIJlkAACbEsKBAU+j1nk9gkAXkQXIosFNC6tTID06bhbaVHAnmUEQAr02JmgABVBDZRFo6EENBSwwEVAB96SYTdHdtVoSWAl2pZkFrkHRQjQKxedBoAt2ZZ397smeQNRLxN2hBER3khzU4zUeQgQHwI9FVe/ohx3ICBQQAIfkEBQUAAQAs8QACAFUAEQAACP8AAwgcSLCgwYMIDfLzE2CNPYT/GgnclrDiwWUBuFjcuPEfGBUFBhaoYY3gmhkKBgJQwbCiHAAwYQpkQFBOgA7/OOo8+G9DgAgzArgIueGhwBoBFLwIgDIAA4kJXyLoQJWqipwCbXbYyZXgPyBg+g2UgwDAErEBkEwxGsBahABIowLA+a9u3YGNNF4Y2LLrxn5oCeYI8AKrwX9YAlBwOdeu3YE6DNYI7LerEKEVyfxkTNfx2CWKx1IeOG5jGa7/RAQokvBf5BiGDb5k0CHChRprYmvdaNNihNGtQSugiBBNAQBrGAMoUBZAgMtjb25cVkRI9evWs4PWueY4mISqHAD2EAKcYKMjqnKqshEAwPes0ivLl6MAwJHYBK1dABC0omeB/+QAgGrwbWURWwn15RID4+E30DZ7uVCeV47ZhQYACGC1m0W9VfSbRX6IB0RC42ylAj8dVViXRAWgxZCBFamyERATCtRIBADQiJA6qpmAYooqggGAA3epE4AD8hEEWEU3AqDDhPaoVgKCXiUmB1pQDbRMBQBMBiCOK1x2WpKt+YSAQdD9gxQASxEUVwA9pTXQBRsAscQUOqT0FEFoLHZUjUn+g+RBPgmkAkIhAegTEgOVEFNMInRIkD0MyUgmRAqOlaWlBvmB1j8MlYQXF0sUkdhdAgUEACH5BAUFAAEALPEAAgBUABEAAAj/AAMIHEiwoMGDCA2qkxNATj+E/PwI5JcQ4TI0ZxoRlFMETcWPIAcW6QBgIIMiDwdyMVFgYIEc6j7++yfHhICBDtYE6HckAJCUIYMW7Fdyg40AJUrm+DeQQoAIMwK4aCkC6MF/OgFcyKFDBQIwAnv+FEp2YL8YDAdiKSlRoA4yTAWuacmlojoHAIoQtLetoY4AUQUuKxt0psELAZZUjFoj7kG9JhBuMIjFMeGyJRJbLfi3RkXEYA+e8fxioCqEGj/qFDoOQYDVkhMnVNeyUZENEToUiRnW52aDPT/OsPyxdAniBIsAcGAvoRwACEgqiCDwgrXeYyvCTkhG6BIAClKL/25ZBvnANQDST+nXzw/1wGJ/Xw7KBfqZhGtcT/n4HEAMgh4VEFN8H1330WkgcVFAAWXI15BrSJhHkCrpYUHQPwgAoBOBFQW3mIQDgbEgGQ7KoUAARYBIUIYkDvRPBACUIRsQIMn40RQqkrEgFxL64YBPKhJkAgAeBmBPAQBIBNZ/87moYhkFCMAjQj4CiVA/QgQwTlz1SUBRAP9kGQFTqghQgA16pdWkRS1RV9CUTwWgAJMixcUPWyn9IwIAG2BBhg4CABBaYgyotGZCjZR00F8CnXhQZhPhKdA/1kQ2kAL7FTQOQ+McCpGaBPkxmEBtGdSIYww156QcSxQBRl8CBQEEACH5BAUFAAEALPEAAgBUABEAAAj/AAMIHEiwoMGDCA3y8xNgjT2E/xoFQDMuIcR/GAkuOwKmn8WPIAWCMVFgYAEb2wiimaFgoAAVEi2KAEATwECa/P6tCSDiX8ifCC8EiDAjgIuSG/gNLMrgRYAZCAI4UGVRR4erWB0AENqQp0+gYAX+00HmawA5Jad8PTJFqcBlEQLYsIgxo8AOAI4EaIQlwIYzAhmGHTxw7gyPCJcE4HrRrB8ABawFyGFwLmHCQgLEMGuQTAAKdO0G0AHAhUA5SBYPlMN5YMWPZcD+6xBAb0LDCevW7ccAgGeBO3t+3PkxLtDUDF4fPCOggBzEBnVjBCPVbvDWBpcJKbK9O/fvin+u7CngO6EqBwEy55ZuAgAQ614vE5ajAEBqhMsqPP2oO4Aq8o3U1ZVwFj30kWAf0QdAEQlZI1QM0DXmkxAAlNCPgNcNB5JxFvnRmxDYCbTNBgG0EOF6GEUAABcXZiRHAB2ESFBMFgFxoFZAnOgabSa4BVJdZwCggD39VRSBjvIh1IiKOSKkDo8+FvRPX8+JhdEMAMwlYAD/qOhCZrElCZFQURWk3n4COEVQDQP9I9QSZv2jDgIArNFfAP2cIUFhMib5D3oH0SaQCQiVyeWbcSq2QYvY2cMQVWIe9A+CBMlBI40FUcqQZARRpcqWAQQEACH5BAUFAAEALPEAAgBUABEAAAj/AAMIHEiwoMGDCA3akxNADj+E/PwEWGMv4UFra9ZYK8jwjMWPIAciESFgoAIhDweCUVFgYIEaGy3+K3OBYIUy//4FmBIgR8ifCP+1vFAjgAkAAWboFLghQIQZAVy03FAx4ZoCSIUIEQGgABqBPH0CHUtwxhqCYJCeFQgETL+BchAEWPIWoQoALwjGCKCinxwgUb8GUEW2MMEOAYro7FeXoM+8CSsAcCvwHxkAEgKIMEjXsOEViRsbFBLVYgkAWAb+4wJg8xodfAc2Qjj749qf6hgEKGNxcxGLrCssC/Bv2QUAXMD2BMnzo4qxRTcsPbgEgIJt06krQCBCBAIFnXcu///I8CMYoFgAICh/8GqA8+Y7AJgfYAN88WI9FwZToACZhHIoEMARIKXnABfjjAOGAwA0FxZI24BU20dk9AdGdgTJoZsQGBrUjwIA8PYPY2dY99aDHzVn0XMflVGAAMkh5IcDAQDRoUF+dFVZTv8gAABDqdkAkmAWhYeQiwVwcWMAjURQo2gJ5ViAPTyOiBVDvLGoX0hoyDXFkk0GoAOUBP2mymI+TtFPTgGkh8BD1vRXw29ykLmlQOrI5QBUBKXGVAAI7EUQaS5NNBAQXekABhk6YAUYcVjQKJCRdxJkDVIHCSmQpAZ10FhLt/UDREvzJWqQOgxFWKmH7BVEmEASHRM0YUMBVBUAY8uAUcQRXKgaQEAAACH5BAUFAAEALPEAAgBVABEAAAj/AAMIHEiwoMGDCBMq7KdQYaMyAdQhLPOvoUWLSwwCsThjm0U0BBEAYTgQS4AaF1MmRHAwBsEOAl2+EHghZYkAOhgEsFFRoEmUKoMSREkyABmBIAnyM4ik58ENOweqUhBgTU8hAVQI3YpQRACsAf45HagjQIuEjQAI2OZ04wyBNwseGctV5UwhdAkWyZqwDAAHY8EEcFDQhEVVdRPaI3y0IdiDZ/6KFfiPSwAA43yetGiyoWGVNgQWNThF4LKEywAAaCRWbA7Vfhj+vFhESO3btnMHtVxAoZyBow2KAFBCndgzBVSv0Qw0sdDGAYIP9KOziPSCfhT8VSFCQITkfphbpMzsvCAAheFFNxTbaAYDAApi/AZgT3zDzgo/W+x9vWB/gq0VRAYAFPRkWQ3/CbRcQ00phAYCAJTWkA55HdTaWDEAAERPIJVQYXkFLagQYid9GMARAF4oEBjwqdITeW+BmNBSMRUkYQAwHbRRQUkFAMYGQGCxxAvncTGWZQPNJWNBEiGEoEARIATVQCz1OOB5AjlAholLdqlQk2EtwwUSS1A0VkAAACH5BAUFAAEALPEAAgBUABEAAAj/AAMIHEiwoMGDCBMG6IdQnZwAcsYpNGgNDZptB89M3MjxSIeCQhgOLFNBwEAAIuSITKiuRgGBBWyoG7gkgA6OOBO+3CCwhMAaK5cU6DAjQA0GARA8TPjPRIAIAYRAXUHTZs6rBYv+G8hFoEqBy9RtFWjv44yVBsEEcICx3zIHAcgIBBIgBta7CHkeUYglAE+E/UoAQEKwSAAVAT4WrIkXL+IjaAsSVtivAIBGBP0EUNAPTY7DGzE3bqggAJqEa+CWSYi5AFqRqgLUvDmRsUIXV4t2GDtwTQUKDgBQAMPb4GkFxf+Vfjibo5Aiz6NDn351SlLNBdcgQAAAQIQlxQuW//Heb+y/f3A1Nh99V63A8AP/qcPCAMBehGgAMDjPX3mANbJZNZE1G6kS2UFqvcQUf2QAwBlCcgBQQH/nvYTZegrZlhBuE8kVgHsHUVjZZQjxY9kyBLUmkHU5wFeQRrVNVEYBAnBx4Hv8CWRNdygi1AEANg5knQgCyUUVexzNWEBfCDWSo0A6eFdYAD0GgAQAG/AjED8XAGAdlT/Fh+RB47wEVUFMBiDBBkAsgYUQGwAgAIgBAACRSPxUAEAJZIAhAgAXEERfVWMaVKVBLQqEWEEREMebnV8F8E8jf9XZQWwFSRSApoXiVOU/1oCxRBFTrPEkQfYQdN4ZSCxx2kABAQAh+QQFBQABACzxAAIAVQARAAAI/wADCBxIsKDBgwgN9vMTYI06hPz8nEGzLOHBfxj/GRwXgEs/iyBDCiSzAsHAAjGsEbTWoQDBCFw0JuS3JMAGlzEwEmwU4ILInwlLBHAwI0AMlxQeCmwEoMKLADZ8AphicRmAAAAKAMgpc2lPoGALAgHzUaAfBQGKDLSniuA/HUO7GlSng0ujIlszLgUTIMJAP2XDCg4AJICJqljtIcyoES9XmYULPh08GIlhuQUZmlys1zHjAH6o+hW4BqFikGTA/jsc+aAqoUACF/zsWW8Anj5B8gSJFiiXAAjauu3QNwADIfwS2nYc4DPukBxBWv4pBwEALAb/ORioIMfpi523Nt3Xefsr5cF+HAAQIrtgvzMbDCsnz9z2c5DJQTIM2Uh97JDLKABAaeDJVB9591m0m0W9KRgBAHCJ9I9QNRXYWF7kBdBWBSGpBFKECanyYA2YKecTdpxhVFtX/RSgQHvnJbQMBQDUAGNCZAgAwIK/ETieihh29c8GAJggRACpxbiYCAG4JFZZNjiQwxEBHKECViAGwKQQMv0DRAwxEBkBmDYOtEZuAUymZHYUINSmQEU4yR17BDGp1kBEEgRAVgbZw5Bwa862YEGD2lMGVUiU8d1APFXEqByQRioHYAEEBAAh+QQFBQABACzxAAIAVAARAAAI/wADCBxIsKDBgwgN/mskcBzCfgHQBFCV0GC/RmXWOCQIccq/iiBDCiwTo6AKVRAF9hOBgKCDJSDLvEAAAECAAisoCuQXwIHInwlfCBQ6o6UDawMhRnAhsIPAIhVb9IyhIwbNCMt29gTKtWARLDwFqvKp42OAhV4DIAh7UAiXfv/ijgUApJ+qMwEYDJRjtqvfAEcCOE3Ir0AAhiHj/isCwCkSgyVS/u3KJcCGig4LqBOpGEvjw2ACKOB4sG/C0FxnBLCRcJnUGj8VxwCQQ6tPkGwTFpAcksxNP5AFFkCgg3fFuGQAFEDM83ZF4waFQP3ZSG9ggxUCCFBbY2PiRgoAPMq2PXmyqggByib8t0aEYOgHzwPQQbB54pB8Q6qSEAB2SHU+oVbRef0VZB9uIe0G0jLZqfZTSUIsSAEAMxgHkXMJwVdQDRo2dJkLHQY3HULLXADAC3AV9A8DmpX30ziXmfBcQWsYtsZAoZ2REowAgBhXcO4FAEaI5UkVgFAE5WAWEAzYMN0LhpU0kFT0CaSCci/EoKVA6gXgx2UCReZiQkEa5EBKU7REUAFA2EMQlWZ1YJOZBjKE2JhcATcQP2dgMdBm8Q3UiBwI/RMQACH5BAUFAAEALPAAAgBVABEAAAj/AAMIHEiwoMGDCA/y8yOQH0J7csqsGZfQ4Dg5AeSoM6gqAJiKIEMO5GKiwEAEOdT9Gyhng8mBF8qABEMBwEAAJvz0GyhTxU6RQA9GCBChRgAVAgKIWCmwjIANMQLUGFqATEUhBUTMCDBDQQAFjXge/Rm0rMAcZZgGWGOSy8Bx2wj2exGgg1qDy+ypHVchgA6BfpDUHRjWrOGBUXNUXANAwd2QRwKUELi1oI7Hh4H+tVHRagXMV7kKlCMkwAaBZOSAXhbyTNl+fack9HMhwBLQCM8oELAmQL9+PckilAnydNDSDhwS3EYhgAMADm6HLFOBAgMAG8ioDQ6yUREh38OD/wcfAEtQpwXOCA9gDUEAmw6ErD9IBgECAAAouBXrM/PhNe5hMd9A/JAxlA24FfSPOkvcZ15TY4G0UXciAWhbggP5IUABqgxI0D8g/sMFABEox11FxFVkXEVyeHUEhgQNZVVFIYKoDn4TohGACSExBJIQGLYYQBEwEuSVawnVuJIf+P3UCAAXFOkfYA4EAESCjy0BAAIT2haAjwE0UqNANQDQwU/9MBBAVAGgIaVhQynA5kBH/GRCBDogwYUQItgU2UBD7edcB0AsgYUQNRWQYgAGDnTZlAj1495BJjClw0sDRadWP4EOJIJBFaRlkDoMsQYpQmAW1KFA/YxDxhJHLBWBxnr9MBSXQP+oAsYSRcjWD4gBBAQAIfkEBQUAAQAs8AACAFYAEQAACP8AAwgcSLCgwYMID6pbE0DOP4TjBMqxl9Dgv4sXDzJkWLGjxwD2hGwAMNDBkn4EuUQgKVCACT8dMV4UEQDAmocDgQQ48rEnQlUkO9gI0IGkzpwFRNQIMENBAAaqKspEAoCkHJQ5AxTB6bNrgGU15BA8AqBAVIGq+BG0FiEAEKwHMzZCIMKBzYwB1swIkGOgNa+ACToIAAauQSEBVHwsUaCR3ZsD2xYkE7jyhgBcKuoc2nEJgCP9HnMt8yLAUsLLEMLsKNanqgIBGiUsg6DA1YqqFGxAKVrgRZ1bOx6tqINrx34lArwwHoByAKcbzhg+aKLAzX+PCwJnbhCNkCLfw4P/H1/GpxAADpYxBwNbYAUu3FMCeHsxO8HtlQN7RtCaIFx1SCCAWULLKBCBOr71llVwFaXW0VkdTQEAAmtMd5CEFPQT3wwATCHHh3IwAAAYckQkEH6aeVRcR1hMeEZPywAggIUClVDVjTcKhMVAiBVBI0FgeJRZRWAIUIBzH8lRVnxaxeDkkwUAYEIMFQo0BV/5+QRGWUh61E8MAYiAkzqI8YMTc6JxpSQCORQRW5YJ+SFAABUYhKQCIgCxxBRAtGXdQEAF8JdvMmGXF3NFOCVQl3AStAZLhw1UVEEXoEFQoIMGUCh2NiFkjVgINmqQPf0R5Ic1Z6oCBhIBeMgcP2IZCVaoH3KoJVBAAAAh+QQFBQABACzxAAIAVQARAAAI/wADCBxIsKDBgwgN8vMTYI09hAsbWktI8eCyAFwqatT4D4yKAgML1Jg4UNUGkAIBSABTUQ6Aly8FMiAoJ0CHfxtzHvy3IUCEGQFcgNzwUKDLCzEC1KAQAEDGhC4RdJg6VQVOozZ1aiX4DwiYfgPlIACwBGwAdRcH/rMRgMLVgy5v/ps7d2CjjBcGMty6sZ9ZgjkCvHhrkGGBvwbj0qU7UIfBGoj5ahUSlOKaAA4oKl78Vs6StmEjCxynsYzWfyICFEnYqAMAIYQLumTQIcKFGmsI1+ygsWbFCKIR/vusYFvBf3kjYC4SW/bLAmMBBKAcNmvFZUWEZN+uvfvnnGsKAP9geVxBAQEBFOgIbveIKpyq2I6vzluyfTkKAByJ/ZZfmbwvJLSYWjkAkBpW9VFUFEV7tcTAa80ZpMpYvhnEGV1oAIDAVbv1phFwFfnhAABA5PSPa1wEd+FcjQRwmEAMJZiQKhoBwZ5AjURA4o3H6fjVTiuCAYADdamDmX0E+UVRjgCsZyJLBaT1DxYByGFWiwQtUwEAkAn0j44rUGYakgL2hIBB1AUwQwQ5HIFFESY0VaKXPSEx0AUbALHEFDooEAADWAqEBlMCdUnmTpkd1JNAQKA0kAJH/MVTAHYKVAJMMIlQIUH2METjoTs1SFOgAdhTxhRFLFEGP8cxRBKOXCwHUQSVdQkUEAAh+QQFBQABACzxAAIAVAASAAAI/wADCBxIsKDBgwgNqpMTQE4/hAsbqkuIcBmaM40IyimChqLHjwOLdAAwkEGRhwPJUCA5sARDiv/+yTEhYKCDNQH6HQkABCXInwX7kdxgI0AJkjn+DTxSQMSMADMYBEDgByZOABdy6FCBAIzAnT2Bih3YL8ZLgVhIVhW4bOJAdRsC1KCozgGAIgTtbWuoA+rAZWN/xjR4IcASiodFUMRrAmHcgliUBp5cwrBPg3hfUCzs9eCZuZoFqkKY0SNOoOMQBDh9cI0CAR0hFgjQqMiGCB2KuA0A9vLBnR5nSAapucRwgWsoBJB6gQxFOQAQjFQQQeAFa195+jbIOqHzn0sAKP8oTbAMAgQkI0ROuAaA+yn9+vmp/pS39sn4uUQ/Q3eKAsMJQQdADAR1VMBEvXmEnUejfcRFAQWUsZ1BYADgwIQBqOIeFgT9gx5OCVIEHEXCeQQGhGRgWBA/NVlzHEHopTjQPxEAUAaAQHx0o0dTvFgQGRBy4SNCGgagzpABmADAiAHYUwAAVXlFIH4zIilQGQUIICRQOQRwgWT9CBHAOJLpJwE/Av0jZgRKqSJAATbgdRaVBy0zW3UFbRlABBsAcZgQhRXwXQD8qIXSPyIAsAEWZOggAACdGSaVQFzQmVAjLBnUV05HFRQBGcMVGoAfh1rT2EAKTGHQOAyNYylC/MweOZAfgP0FxmFTOGQQQ/Z0KNMSRYCx16vEehTfqwEBACH5BAUFAAEALPEAAgBUABIAAAj/AAMIHEiwoMGDCA3y8xNgjT2ECxtaS4jwn8V/BJcdAdOPosePAsGYKDCwgI1tBBttIDmQApmOCUUAmAlg4Ex+/9YEEIERpM+DFwJEmBHABckN/AauEXAhRoAaFAIAAENRR4erWB0ACNpwZ8+fYAP800HmqxySU3raW0bwX40AXCteHNgBwJEAjbAE2HBGIMOwgAfaCDAD5kE5AQp8NTjXL4ACE3MYHBw4sJAAMRYX1BkhqdyvOgC4ECgHCdyBcjQLHPexDNh/HQLcRdiobhHDBS9e7McAABmlXj3q9BgBrGkGrAnCdCDAwezPF6k6sChQJ0+Py4QU0c59u/clP9cU9PBtEDcDIA+hWzQBAAj1rtcrA5ajAIDphP3KRHUKPYCq8Y3MZZ1qBaVH0V8e0QdAESA1Mh6Cuc0lBAAl9CNgcBQNR1FxHvnRmxAEMrZBAFwkpFsEAHBhIXWIdRDiQI18BESHWgGBG0X/FEfVZ2cAoIA9ugXAWgQ3ypdQIyja+FOJkAn0j15ywHTRDAAM1liOol3mmpEVBYWAQZcJ9EIEOZhWRAlShSlWUEt89Y86CACwRpAB9HOGBIK9KN8/DiAUm1hAsDSQAvc5yaab4G2womr2MKQKlxVBiFqMA6nj2hFInOEZQQxNRNCjqjQG6ag46ulTQAAAIfkEBQUAAQAs8QACAFQAEQAACP8AAwgcSLCgwYMIDdqTE0AOP4TqGAawl/CgtTVrrBVkeKaix48DkYgQMFCBkIcDy1wgOVDEmn8V/6kkWKHMP5hTAuQAyRPhvwIBLtQIYAJAgBkwBU4p0GGGQAYBEMjpl3BNAaNChIgAUACNUp09wxacsYYgGKNlBS5TR9CeiAAvKqoAEHdgjAAq+skBEsCF1wCqxAom2CFAkaQHuQStWAEAGKoB/pEBICHA24JLIA8Wu8KwZoNLiCI2WAIAloH/uAB4u0YH3oGNEMb2mJanOqhlqjoQQGZ0QdUVlkVedgGA4gA5d3rM6VFF2KEbfEsMAIDCY49LFCAQIQKBgsxflVf/nJ4QTE8sAKQarB0gAhLfBsF0AEA/wAbz4TdvBlOgAJmK6nChgGcJoecAF+OMA4YDADCX3EfbfDSbR2T0BwZ8BpWR3mcE9aMAALn9008/ZwCgAFUPLveRcx6VUYAAx4GEQAB+IOQHVwLddBMCADB0mg0f/VUReAm5WAAXGB40jlGBHXRjAfboKOJVDOXGon4goTHjFEkexFcEmhUBGEz98DhFPzcFgB4CD1nTXw1iToUlRDM64BRBpwlUwQY6hCbEBgLhJxBQtQHBlQ5gkKHDVXxFhoUDAxE5Z0HWGHUQkAK5wNJAEQg6aAC19QMEUPQdalBEAUQ4qUF6IdSkQNaYFVfEFC8ZxBBFAo24DBhFHMGFqgEEBAAh+QQFBQABACzxAAIAVQARAAAI/wADCBxIsKDBgwgTKrQ3UJ1Cg43KBHB4sMy/hxgxLjEIpCCaAAUIdsj4cSACIP0IYglQI6PLhAgOxlAZYMNAByBdlgigg0EAGxcFrmz5sijBlikFkhFYMoC1cQT5CVyh0KaNgaoUBFgTVEgAFUbDIhQRwOvDCgkbARCwLWiAjjME7ix4xK3Yoi/K2i24cm5FAA7sggmAk6AJjKruJrSHcylCOQEADEZ4BvC/oP+4RIYaYCjGlQ8Pv7waIClBtAO57CW4DACARpcv53DtJ6VnjEWE5N6tu3dRzSENQiZ45KEIACXUXT5TwPUaoSwVi3VcejFhvQn9KACsQoSACM39QKwnqpCzdIIAXH4MfvByoxkMACiIARkAw87RH4JWKBpjSNMPaTWcQbEVRAYAFASlWQ0AHvTcQ0isRhAaCAAwxUvqhNQIQrHZFQMAQAT1UQkSnlfQg2IFNlBxA3UYFBjyqRIUZ3GZmJBUAs1E0IUCXYCQZh4NBMYGQGCxxAvpqUYQkALVZWNBFB3EoEAvsJdaQTE1dWB6AjlARolPSpeSYxslFOU/y3CBxBIW2RUQACH5BAUFAAEALPEAAgBUABEAAAj/AAMIHEiwoMGDCBMG6Ifwn0OHCg1aQ4Nm28EzETNqPNKhoBCGAx86LBIAABCQCdXVKCCwgA11A5cE0KGxZkKWGwSWEFgDpUg/BQAEOPkv4T8TASIEEKJ0RcyZNqMWnBGgqEAuAuWAhBhABIIVJlEeBBPAgcV+yxwEICMQSIAYUuMizHnEIBIAS2qETdivBAAkBEmqCNCxoEy5cgcfEdsIgYh+ek/yDdqIoJ8ACvqhyRFgcMTKiBGqUxAATUETBeQEiCy2YOUCYkGqCiCTZsTDCl1EpdrBqsApAIQ4ZJ3QtALfVUmrrq1RSBHn0J9LjzolAILLA1UpqMBv+F6EZQBE9+hn1aFajMxDxyUrELkKAGsY/iOOEA0ABiIdkl5DG2pEaxmp0tpYAbBUEBkAuCDHgnK8AIANcsx2kBwAFJDfPyxVlp5CuCWkW0RsBcAeQXcBYOKJJgbg1EH8BLUMQa/9FkAOyF2UUYcHlVGAAFwMWEYMQAYZAQAVxAAYQh0A0ONA1YkgEFsrqpeRjgVgYVRB9AlE0osC3bUBPwLxcwEA1QXAZQ0hSXnQOCwpVZCV7eWHpmQDCaVVmBUAUAIZYIgAwAUEYcHAU2oaxOVBNMYpUpYlBXBnVY3kJBAAHUhI0DgCYVqoTYdeqIochxJkD0EOnYHEEqYNFBAAIfkEBQUAAQAs8QACAFUAEQAACP8AAwgcSLCgwYMIDfbzE2CNuoQQIf6b+M/guABc+kXcuJHMCgQDC8SwllCOgAAdIvJbEmBDgQAxJhJsFOACx5sJSwRwMAPmSwoPDfKziTLiMgABABQAELPiQJpEcUodCASMRoF+FAQoclAIgBotnSJUp4NLoyJMKQpsBCZAhIF+rk6dGwBIABMG5RRw0XaDWIMUK6Jt6tRuwRd0EyO5+7ffBgSquIRNGHhrWrV+prgduAahvY5S/+E1PBDtlH59/xasPLhyAKgbaUbUilMyZIJ+CogI0E9ySsoyLccIUBl2xIsRF9+UgwAAFoL9RBSQIzA1cJmDiQc3nniuHwcAhMjFDXAkgBCn1hGqFa7dKfeE/DYyjA0eyHhrCBwQXGxzPuDg2a33HkKyQUQbRI1EAIAOBvl30IGrqdVacAGoEkAFG5EUEYMQqaJgDaoFsIxBu2llw3X/TChWPwUoMF53EC1DwVcvJpSeQJJ1JlBgKg70zwYAmCBEAGTASNluLxVk30G9FUXQbuftCEQMMQAZAZU1yLVGVIgZedA/FCAUJkI3BrAbVwMBSRAAShlkD0MWeglYgQXRWdBFdtI04lNy9OmnHHEFEBAAIfkEBQUAAQAs8QACAFQAEQAACP8AAwgcSLCgwYMIDf5rJHBcwocJ+zUqs8YhwX4BpvyDyJFjmRgFVajCeLARggARIJZ5gQAAgAAFVqgayC+Ag444E74QuHPGSQfWDv4TITDlwxY2Y+iI0TLCMoE1b+acSrAIlpoCVd3UsbHgkoERSCIUwqXfv7NaAQDpp+pMAAYD5XSlSjfAkQAdDJoU4TYszrP/igDIi8RgCbF1p3IJsKHgPxMF5KBBifghYCyDAzQCE0DBRaEcOU+dEcBGwSkBhPzrWzkh4BgAckC1yRHrwwKtE5KB6YegKgUV+K1GmfMsGQAFGAaIyjE3QSFFcjaCe3fgPxUA1ghk/beRAgCFZ0vETUxXVUquBBfrGMi9o3kA62nShjg3oVyOqiQEqFGQnwIFa/QWwGIO+CEHfinxRxBzENmWEG4QLVNBAKQVpM5DLz20DAUAzFAZRuNFxFENzjXUmAut2WNYACd5mNAyFwDwglmOMVDAheR1NE5jJuTUnkCcnUHSjgCgeNaKRAUARok5IhXATgTlUJ91fRWEVHwBYFfACzF0KRB6AfjRmECH5ZhQkgY54NyPAVzZVQcZFhTicgwpZ+ZUAh6E40EzCdTIgUIFBAAh+QQFBQABACzwAAIAVQARAAAI/wADCBxIsKDBgwgP8vMjkF/ChwnHyQkgR51BVQHAQNzIkYuJAgMR5FD3DyEZAAFclEwIhgJKgQBM+Ok3sEwAFTQ56jwYIUCEGjcFBBCxsuA2BwJVPhRSQMSMADMUBFDQqObNnDuzCsxRpugakFwOzigQI2XRg8vsFR1XIYAOgX6QBOgwsKrWuwPL5jBYBoCOIma1HglQQuDTgjrO4t351kZBdREc2AOsNKsQqALlXN4gkIwcxQKXbTyTtV/bKQUd26QM+uEZBQLWBOjXzyZOiDYhct552YHDgWcAzCjJemOZChQYANhApqhtrAgbFREyvTp16gGw7CwjoMAZrPYiKPsQHaA4RDIIEAAAQCGs1duL765BkB36W/flA3P8p26Jeu0CPQeRRRDZBdF8ASxxlhwCdCDHRAEAEYAJchiY0D8Y/sMFABH8JuBDuT2020NySHWEYmQ8dAFEGWKoznoEojHhRgxBJERrA5VYHmgQEsSZAzMAgWMALZbkx3o5NQLABUPGV5AfSAmpE2AvnLVEADUG0EiLAtUAQAc59cNAAGUFgEaT8fWkQJkDHQEdQeYJ1BN+DnQAxBJYCOFSASEGQEZPAiXmJEL90HeQCTjG2c+cA4lgUAVdGaQOQ+QNelCWBany5kDWBIDRQP0wtM1A/6gCxhJFoNYPhgEEBAAh+QQFBQABACzwAAIAVgARAAAI/wADCBxIsKDBgwgPqlsTQM6/hBAT/ps48SBDhhEzRrQnZAOAgQ6W9EuoQyCSiBQniggAYM3DgUACHNFIE6Gqjx1sBOjwMabFjwFEQkyJBMBHOSNhBijysqbTAMtqyCF4BEABVQb5VXBQIsDJoQ8bIRDhoGXFAGtmBMgx0NrTtwQdBACTVCkYFV5plijQqKzLgREMkoFLeEMALgXXFHjxD+/XiEsAHOnnt2mZFwFqCASzDKGfjFNrqioQoBHBfhsUYHWcUZWCDSMrC5wYk2lEnxB1NI3YrytjgkICTBHIOqKJAi7/+S1Ye/dBNEKKRJ8uvXqZmkIAOFjWVE4BES+LJ+vkAgBIv4nLCTYnDDcygtACURf4TDxvwmUKIqibLVupbYidRYRVRlMAgMAadQUFAFsDrRRTgAbNAMAUclQoBwMAgCHHOP45ZxBuJHlYEBYGnvEhRAwaVIJRLLIoEBYDBVdEggeBkRFiEIEhQAGDFdQPjnEFsEEMXNAoUBExJKlkAQCYEAOCAg2XInsZgWFVjxqJF4A6wfHzknOVdWdgDkWURmVCfggQQAWCJaTlTQG4NVtKyqHlXBEKDITlmYkBZVBwCL35kZwB0KlcSwhZM9V+fBpkD3wE+WGNiAFgRWgA/EyVIJ1+yMHPQAEBACH5BAUFAAEALPEAAgBVABEAAAj/AAMIHEiwoMGDCA3y8xNgjb2EECMmXBaAi8SLEP+BUVFgYIEa1hKiERCgRD+IcgCoVCmQAUE5ATr8w0iz4L8NASLMCOCi44aHBu1FEFgiYkoEHZImVTFTIMwONaMK/AcEzEmnCAAsuTrwnw4ANUpyPZhS5r+zZwc2snhhIEOpEvuNFZgjwIumA9cUmDFFLEoAZtHi1WGwxly4GIXwLMiPgoJlfU3+DYx2oJwlAShYPhxgnMQyNf+JCFCEIFUAFiNztgyAQYcIF2qswRvgqUSYESOsNvgPs4JtLwuYEKj6L4ACWQEEUGw5psRlRYREny69OmaMegGAIdhvQ4FGxP0m7Wx0RNVMVTYCaG8OFTFcOQoAHMH7TwgAJAOLIxTcNQeA0U45FxFQEL1lFAMACEGbKgUMNVBpUBlok2BooQEAAk3ZZpREukXkhwMAAGHQGhA5sB+FZ4FXwFUMtQeRKhIBsVsAjUQQ4lz/gFcQVCbqQFtXKGoEgANpqROAie4JJBdENQKgw4wE6RfAP1jUdpWOAy1TAVhX/WPjCoqBluR+OCFgEHMHSXlTAPgJdMEGQCwxhQ4KBMAAlgGgoZlAho150D9IGoQTQmri1GZJK60kAm4F2cMQjH7yJqFleBbkGZ7/MBSSWlwsUUSVaQkUEAAh+QQFBQABACzxAAIAVAARAAAI/wADCBxIsKDBgwgNqpMTQE6/hBAjLkNzphFBOUXQRNzIsUgHAAMZFHmIUAhIIf8g/vsnx4SAgQ7WBOh3JAAQkhxzFuwHcoONACVA5khpUE4BgShVygRwIYcOFQjACKx5U6fVgf1iMByIBaQfg/06KFARIGlCdQ4AFCFob1tDHQFmDFx2NedKgxcCLDFYBAAWuWYRrjWBcINBLETr1i2hF2eARghE/AOc+GBeqQfP1AjwYqAqhBYjytQ5DkGA0QNFFPhK+ezRRkU2ROhQRN1Aqo4P1ow4o3LEziUqI1ErsDVCOQAQfFQQQeAFa1Nt5jaIOiEZnUsAKAgtEPIFksYPrvUBQH5Kv35+mssNgFuxey7JzxQsUQB1+KLkYxDUWMB2e4jQRfTZRlwUUEAZjsGn30ArBADXgAapQh4WBP2DAAAy/ZfQbhD1FhEYBpKR21oJLXjQhSIO9E8EAJShl00buRjRFL4VRIaBXNR4XUHN5bUXQiYAwGEA9hQAwFdSmeheAHclVEYBAuSYU3j9CBHAOETBJwE/Av1jZQQpqSJAATastdWSCC1zVHMFSXlQePx4RdI/IgCwARZk6CAAAJjpxcBAXKCZUCMgHQQXQnDK2aU1hA2kwBQGjcPQOIIixM+ZBPlBF0KfBTgQQ/ZUyNISRYDhlkABAQAh+QQFBQABACzxAAIAVAARAAAI/wADCBxIsKDBgwgN8vMTYI29hBAj/pv4j+CyI2D6Rdy4EYyJAgML2NiWsIxAExFFAFgJYOBKfv/WBBBRkaPNgxcCRJgRwAXIDfwOqotwMqKODkiTOgCQs+HMmjejBvingwxUOSCnQBVIFQBPlBApQu0A4EiARlgCbDgjkKHUtwNtBJihkeAaATWWBACbkOJAPwAKWAuQw6BcuHCFBIixlR8FBtv08kXoV6AOAC4EykESoGkAOVsHjtto8ua/DgHMErzMJYDksGL/9WMAgMxAmTQjyoxI9CZnBqMHYlUh8HXf2GACOJgoEHdog8uEFJFOfbp1vTbXFKhN0DECVRqNU9uObQIAEOZOcyN+K0cBAM4EgQDA7novbOaqtjfy6zziw4huRdQeAEUU1EgBFRCkmAgBBFiQWAEIAUAJ/fD3lG4b9QaRH7QJEdpuCEVQl0FiRQAAFxUyJ0cAHTxn4EZAALgUECP+ZRBqDgSgw3H/nAGAAvZAOJqI69nUiIk02iTeVGnJURdFMwAgV2X/mOiCYqUVedA/OSFgkGIILcmla1D9ow4CAKwBYQD9nCFBXC5q+U+OB6EWpn0DjblEmXptkOJz9jCkipaUOShcIwmRBB5BDA1G0KCqVBZAQAAAIfkEBQUAAQAs8QACAFQAEQAACP8AAwgcSLCgwYMIDdqTE0AOv4QQIVpbs8ZaQYZnImrciESEgIEKhDxEiESgjoj/ylwgWKHMv38BpgTIsbEmwn8FAlyoEcAEgAAzYBpshMBkxDUFfgoRIgJAATQCZdK0SZXgjDUEwfzEarAEAhcBTkJUAeAFwRgBVPSTAySAC6gBVFWdS7BDgCJCBy4BgISm2IQVAIDpJ/AfGQASAogwuIQw3bkr7joWqErBhn5+I5YAgGXgPy4AFq85qWJgI4Snj1JVxyBAmYImCjDMDBF0hWUB/i27AIBL1JkaZUYsbZPnhrwBQLcF/jfhEgUIRIhAoKDx76kQGUYEYxMLAATaKSv/iMAPJm2IYDoAWB9gA/frjx+DKVCATMHIcJlH9O6Ay7hxYDgAgHBSabSNRqlFRAZ9YCB3WGQDzRAAT6pMRlA/CgDw2j/99HMGAAoQVmBEwo2lURkFCOBbQUuYeJAfThX20j8IAMBQZzZolJ9zFhqEYgFcICfQawUlRkEARyAEYwH2zMhhUgy9Rlx8G6FR1BRCJnSeQEXEBVM/NU7Rz0sBeIfAQ9bQV0OXcvRI5UDqFOWAhAR1htCWAeTEVQBAOKUDGGTokNRy/2DhgF5uvhmANT8dlOOdYRWk50D9AJHTen4apA5DBypq0FoIyRVqAMsgx5A9lPazDBhFHMFFpwEEAQQAIfkEBQUAAQAs8QACAFUAEQAACP8AAwgcSLCgwYMIEypcqLBRmQDqEJb5x7CiwiUGgVwc2G8hGoIIgHQciCVADYsoDyI4GKPiyIUlAuhgEMAGRYElT6bcKfDkSzICPxo0UeCFwJcHN9QcqEpBgDU3hQRQwbOqQREBpBacEuCIjqMJGwEQsO1mAI0zBMYseMSsVZRGhbgl+DUA0oJlADhwCyaAg4ImGKp6i9DeX6AEqa6RCRbhGb3/bv7jEgDAOJwmGZZcGBiljcYFO9a9S3AZAACNIkfOcdpPx5wViwiRTXu27ZSUCxRcRtOewNEKRQAooS7ymQKnFweATXgnYrsEjT78DfqgHwV6VYgQEAG5H8w6FV6nbk4QgMGHVAumTRi50QwGABTEkFPZ9/LMCzcr7MxQ912uCZkwl0CqFUQGABTcRFkNpBWknEJIDEgQGggAAGBBZxhEwUBFIKSaWzEAAMRNH5UgIXkEPYgScAMdQdCHN4ERnyo3jbceigfxM1BLBF1oEIsTDgTGBkBgscQL5nHhFmUtnkhYRAgxiBCQAawkVAAHmieQA2Q4ieOXCkEZwD/LcIHEEhO5FRAAIfkEBQUAAQAs8QACAFQAEQAACP8AAwgcSLCgwYMIEwbop7AhQmto0Gw7eMahxYZHOhQUwnCgHAAgQQp08K+huhoFBBawoW7gkgA6Lso8mHKDwBICa3TstwYAgg5AgaoomfCfiQARAghJusIlzJlQB84IQDQAF4FyOn4U0e+f168KwQRwMLHfMgcByAgEEiBG1LcGbR7xCIDrV7AI+5UAgIRgkQAqAmgs+BJu1MBHGPKsexfvwX4FADQi6CeAgn5ocgB2ONnwQXUKAqChy6BDhAs11nhNOLlAR4EdVQV4GbNhYYUuZk7tUPVjgAIIRP5NOFpBVaqh5cx+6lBIEefQn0ufOSUAgsqwGx1RVVKVjQAAyLz3LlgGQISuAr2irUjbc1Sx6Qk6/pejLnEADBr/C71meW2F1jikyngIiZVSQfp5hYZPqxn0UQH6pTRZe7Y5lFtDagUAn3wJVuYaQvxEtgxBrQlUXQ7HUeTQbQiVUYAAXBBIVYJcAEBSQh0AEONA1YkgkFpNueeQiwVgwVpB1lQAQA1+BTCiQEgAsAE/AvFzAQDVOZnTQCkKGcA4KSVVkJECVbABEEtMoUNoDAw4EAABZFWlkiWQAYYIAFxAEBYMOOVlQU8ehKJAeIYEkgjYvRlnR/80YpNAAHQgW0HjCFTpnxcFGkAjXCxRBBZ+NFiQPRyegcQSow0UEAAh+QQFBQABACzxAAIAVQARAAAI/wADCBxIsKDBgwgN9vMTYI26hBAh/pv4z+C4AFz6Rdy4kcwKBAMLxLBG8B8DgwDkQOS3JMCGAgFiTCTYKMAFjjgTlgjgYEZMmBQeBpjIAEDBDjUTLjMKoAAAmRUH1ryZsypBIGA0CvSjIECRgSYBRMWpTgeXRkWeUhTYCEyACAP9aLVKNwCQACbAFh27kWLFtFCj3i34oq5hJHgrEjWa069XtWv9THk7cA1Cex2r/ss7eGjRvBRWcInoGLDjAFM3JoXYNedoBKr0CmyNl1/CtY9jDF2bOuLFiIhxykEAAAvYf0XkaFR3BGQOviXXAt4dtbdhun4cABAyF6HbApgP4s6ejtt6QtsRGarWDqQ7wn/E17gXOP4pdbY2VW+knbBRBAA64PTPf2XMR91fkI0VWwUbkRRRgBCp8l8N0CW0TQAAqCceRabNJFA/BShg4HUHLUMBADWMqEp3/fgE10CjWUYfhwmCtQEAJggRABkk3iZCADAV1J5AOjiQAxJYCEFBAAKQMdaPQkT1DxAxxHBjBFWmWBlVARTWo3hLHhRmADoWFAEYfP341UA3EgRAUwbZw1BsXxr0z2oF4bkNjwEsIZ9BNS1DkxyEFiqHXAEEBAAh+QQFBQABACzxAAIAVAARAAAI/wADCBxIsKDBgwgN/mskcFzChwn7NSqzxiHBfgGm/IPIkWOZGAVVqMI4kMLBMg/LvEAAAECAAitUDeQXwEHHmwlfCNQ5A0FNawRNbii45mGLmjF0xGAZYZlAmjZxSiVYBAtNgaps6tgo0KRTnEK49PtHNisAIP1UnQnAYKAcrlPjBjgSoEPQAF/jkv1XBIBdJAZLkJQ7lUuAoSXxEt6LxW+ARmACKLh4EG7CyFJnBLBxt4RAE1gGc9wbA0COpzU5Xn1YQDREMi/93BVAsIO6m2TJACjAMABUjq4NCimCs1FbugSRrNlob8pkkB0XKgAAGHVUwnFVRQiwFSKaAADyPsDUDkAHwd8QLSN8y1GVhAA1btoEo96gdvgF0T9cnbA1xGUVBKDZTUMZ9tAyFAAwg2sYXRcRRzUER9A4Q7kg4UH8+LRWQstcAMALYxX0DwMF3IZdRxQGYMJ+BZmnwGCRnUEShQBYSFZgAYggEBgXnhjAUQHoRFAOXAnBgA3IDQUAFgQdZZ5AKuz2QgxUCtRdAH4gFoBgPiKk40EOkLSEQQ6I1SR3XHXgEpn5MdRblzjJNpBFRyDxHUIyCdSIHAj9ExAAIfkEBQUAAQAs8AACAFUAEgAACP8AAwgcSLCgwYMID/LzI5BfwocJx8kJIEedQVUBwEDcyJGLiQIDEeRQ928gPwAH7T0EQwGlQAAm/PQbWCaAipkccx6MECBCDZsCAogo2RBAgQ4FHSYUUkDEjAAzFARQ0IimTZw6swrMUYZogDUguZgE4MArx2X2vI6rEECHQD9IAiAVWFWr3YExAuQYW/YuwSMBSgh8WlCHWb853drge9iuEKgC5TzeIJCMnMYBlm08k7Uf2yljEYgIUCEGGcwPzygQsCZAv341b0KsCZGyzscOlAY4GQDkwBqoCZapQIEBgA2nrcp+2KiIEOfQnz8PgEVnGQEFzmDtJ4RhAGtAQAL/hkgGAQIAACiIVY4Vsc41CKi3Pwi478Z/6pacry4w9nyDFkFUF0TwBbBEcAMtg5JmEP3j4D9cABCBUv7NtpFtD8kh1REIDtQPSI0g+KCD6qAXIBoBmLCRdw8JgaCGARTR4UByGBUgQiOW5Ad6ODUCwAUzuheAHw4EAARqIRJkj2BDDbTEkAOF+KBANQDQAU79MBBAXgGgEaRdPCnA5UBH4KRCBDo8CUSRBbQ2EE/rBeBAB0AsgYUQLRVAW2U8CWSYkAf1E99BJhD1U0EXrOFVP3AONFpBFXQFIEMMAmoQiwWpgpUqGhUxxUQF9cPQNgP9w+kSnrrmoKWsJvQaoAEBACH5BAUFAAEALPAAAgBWABIAAAj/AAMIHEiwoMGDCA+qWxNAzr+EEBP+mzjxIEOGETNGtCdkA4CBDpb0Iwjm4IaREin+ExEAwJqHA4EEOKKxJkJVHzvYCNDho8yBJRUUrIESoUokAD7KKRpAZhGYNqMGWFZDDsEjAAqoAhrghdSKjRCIcOCyYoA1MwLkGGhNqluCDgKAQVnS69sSBRqRfTkwgkEybwNvCMCFq12pSwAc6bcXahmvNQSCWYbQT0arNlUVCNCIa4TBG2xgjqhKwckAjQVOdAoV4U+IOlpD7FeiK9SSARAgEFhgCtODJgq8/Le3IOuIaIQUUc58ufMyNoUAcLAMqpwllAP4eQFAAEaEXAAA9+k3sTjB44HdJkYwOqGKADESLlMQQZ3q1DEDPI2YHeLWjFMAgMAavx1UWASyDTQDAFPI4aAcDAAAhhzj5LcfRK8lFFtEWAh4Rk1nTJegQCUkZaKJAmExkBD6FVgQbhAVBhEYAhQAWE00deCifjH06GMBAJgQA4ECTaFWejaBkdWNGukVgBAoqcMiPzDJ1ph1AuZQBGdIJuSHAAFU8NdADIgAxBRL5LBZBBUKhFMAbammEnFnyVaEUAIx2WVBa3x0EIsCUWCQCv+5+VGcAcxJnEsIWWOVfXsaZE97A/lhDVR+cIEEYY3Ixo9VTM3phxz8RGpqRGZ1GRAAIfkEBQUAAQAs8QACAFUAEQAACP8AAwgcSLCgwYMIDfLzE2CNvYQQIyZcFoCLxIsQ/4FRUWBggRrWCP5DYBBAI4hyAKhUKZABQTkBOvzDSLPgvw0BIswI4KLjhocCRwIo2IFiwpQIOihVqmKmQJgdakoNCgRMv4FyEABYcjXAyI41U8r8R5bswEYWLwxkOFViv64EcwR44XQkArgXxZYtO1CHwRp429IUwnPgV6l69zoNIGdJAApYAwscJ7FMzX8iAhQxjKBA5gouwEhMyaBDhAs11ixmHHO0xAiSEf5zrGCb4Y4FFAgE4CJiSgAFtA4ljLV1xGVFhCRfrry5Y4xrCgAQbVgIzADjikgHArHREVUzVdntCDC9eFTBbeUoAHBk9UEsAe7K5hs0B4DMT41DBAqRrW8GAAjh3kH8SHedQYqVhQYACDgFlWsRwRaRHw4AwN1F/wC4xnwJnlRAVwydB5EqEgER21kRWHiiQSQCQOJBCZIFBgAOmKVOAA6gN9Bb3aWow4oF8dPbBXXBJ0dXJxG0TAUAABZUiisQZpmOsuFEUkHEBTBDBDkggYUQEQRQwJRe4YTEQBdsAMQSU+igGwNJCoQGZAI5SSWCOR6Ek0B+FRRBGXDdFMCZApWw0koiHEiQPQy9eKdN/r0UZwDWgOHYEhtCSilBaC1RBHxmCRQQACH5BAUFAAEALPEAAgBUABEAAAj/AAMIHEiwoMGDCA2qkxNATr+EECMuQ3OmEUE5RdBE3MixSAcAAxkUeTgQDciCEUgi/PdPjgkBAx2sCdDvSAAgKjnqJNgP5AYbAUqAzPGvJAAFBV8UTfhvJoALOXSoQABGoE2cO7MO7BeD4UAsIP0YLaFVnQMARQja29ZQR4AZA5dp1cnS4IUAS8Yu1ZnWBMINBrHsnauV7BKSJslmvVv14JkaAV4MVIXQYsSZO8chCIA5gEkHHQJcqOEQoroCARoV2RChQxF1A6/mPGgz4ozBESWX2GtS4GaruC8CQPBRQQSBF6xZvTnbYOeEZHYuOWpZoB8klFPXAFkm4RoA4Kf0/+vn5zjcALIJq+cy/MxGuCaCC5QDPgZBjQVgp4eoPGL2iFwUUEAZzRlEBgAMyBeAKuBhQdA/CAAw034J1QbRbRGBISAZBRpEHwIKBhAhhwP9EwEA3eUFxEbdRTRFiAGQISAXMBLkYAQhmgCAhQHYUwAAYlVln3olwlhGAQLQqNMyx+lAUj9CBDDOUuxJwI9A/0SJ44ICFGBDWl4RidAyqB1XkJIBtAbEElPosJkDcgnET1gk/SMCABtgQYYOAgDQGF4MDMSFmAk1cpJBbgkUWkEl+LHXnAH4Uac1fg2kwBQGjcPQOIQixE+YBPkRp0CNcIHEEViI5WGPD7a0RBFgsAQlUEAAACH5BAUFAAEALPEAAgBUABEAAAj/AAMIHEiwoMGDCA3y8xNgjb2EECP+m/iP4LIjYPpF3LgRjIkCAwvY2EbwH8iCAFRBFAGgJYCBLfn9WxNAREWOOA9eCBBhRgAXIDfwG2hSQMEO1iDq6MC0qQMAOxvWvJmzaoB/OshQlQNyyk2TCKxSpNoBwJEAjbAE2HBGIEOrcAfaCDBD49UCYatSHOgHQIGkOQzOjRtXSIAYX/GKnThQBwAXAuUgCRA1gByqBMdtLKO3Q4CzAk0WKBGgggsyEsf+68cAAGqBNG1GpBkxQtXJDDSHPqlgYAy7B1X/AxPAAWOpsiEuE1KEufPm0JfkXFPAdUkhcgSOEwJSCPCCwk0A5QByPDZmwjnlKAAwOeKUAAq+l9yrqnqjveYjPoz4NqJ6AEVwZI8AAPQH3l5CAFBCP/hNNdtGtvHXmhDnIfTPerQFR1EEAHDBIGPZdVBhQY1sBAR/TwEhX0IlApCUhROdAYAC9owVgGYRrIgeQo1wqCJO/Kyw1ldqyWEXRTMAMNdeV3HogmGc7WjhTnkRZJhAM0SgAxJYCGFbAW2FttMSVP2jDgIArGFjAP2cIYFcI0r5jwMIeSaQDgZJEKWYAZBJlHQbfFihPQypJGVwBg4kR4kDLQPGEkUskSFBDL04kEqqMBlAQAAAIfkEBQUAAQAs8QACAFQAEQAACP8AAwgcSLCgwYMIDdqTE0AOv4QQIVpbs8ZaQYZnImrciESEgIEKhDwcKAeAQQX/IP4rc4FghTL/Uk4JkGOjTYT/CgS4UCOACZMzUgosiaCgin4Q1xQwKUSICAAF0AicWfOmVYIz1hAEY1LrUAAdrqoA8IJgjABH5QAJ4EJqAFVX4xIMW0RoybBWKwAAgzTAPzIAJAQQYXBJX7lXVwQo0vfu1RIAsAz8xwUA4TU60A5shJBzRK821TEIUIYkAAZhea4RmrByhWV+l10AwGUqTY0zI6qw2nMD65ICiwoUwhrhEgUIRIhAoMCw7aoQGUYEcxMLAATSBao6ogqpKhsmwRT/NwimA4DzATZQf44YMZgCBchozNxhPEHrDriMGwfGAYDcVGm0jUaeRUQGfOJptAZU9gnUjwIAlPZPP/2cAYACSAUYUW4Q7RZRGQUIUNtGjZjUYAB+QCVQTDEhAABDktmgkVsQOZcQiAVwcSJ5AThwYooF2MPihEsxVJqH7W2ERlFT7FiQNS3NQFARb6XUj4tT9BNTANYh8JA18NVApRyHJVmQOkU5IOV9A21wARBLTKGDAgEoUGAAOoEGBFQ6gEGGDkut5RcWDgxko5lPmnSQjAKVYFAH2QmU50D9AKHTeXwapA5DAyJqUD+REgTXZiNi4UeZQwVgD6X9LANGEUdwBdFpAAEBACH5BAUFAAEALPEAAgBVABEAAAj/AAMIHEiwoMGDCBMqXKiwUZkA6hCW+cewosIlBoEU9HMQAUM0BBEA6UcQS4AaFlN2PBiDIEeDJigyLBFAB4MANmQGMIlSpU+BKEkKJCMQpECOG3wmtTFQlYIAa2QKCaDip1WDIgJMPRogacpGAARs06lxhkCaBY/ovJryhVaZSFWWAeBgLZgADgqaYKiKLUJ7eYlyfSrQrFCEZ+j+k/mPSwAA4wTyZGhy4d6UTAMcfllQY8JlAAA0Wrw4R2g/JCczLCKEtevWsFU6LlBwWZHRAnMIdJxQBIAS6hafKRB6jeSTfn8K1mzxsEE/CuiqECEgAvGXqhVGTk4QgEU5Cxc3oprBAICCGOAB2DveU2FlhZcZ0naOsF/fAPwQki5IBgAFmY7VQJ9Bxi2ExFoGoYEAAFOkRBRhB5G2VgwAACETSCUgyB2BP22TVEsDHUGQhDKBYZ4qMm1n1oYI5ScQiAM1ONAGOgjkGUJGBQDGBkBgscQL3nGxFm8CqcUiQREhJKBA8SnkUY79eSeQA2RoeOSGYCAhkBxWQjTQP8twgcQSE60VEAAh+QQFBQABACzxAAIAVAARAAAI/wADCBxIsKDBgwgTBuinUN2aMnIYKhxoDQ2abQfPTNzI8UiHgkIkCvz3z1oNBASXTFRXo4DAAjbUDVSpg6PNhC43CCwhsIbIf8soAGAwQ0cMBzUT/jMRIEIAIU5XzAyQ9KbVgTMC/BvIRWDEkSoArLBHcJlCMAEcYOy3zEEAMgKBBIhxtS5CnUcGrkkr02a/EgCQECwSQEWAjwVV2rVr+IjEHFSt9isAoBFBPwEU9EMD2fBEy4sRqlMQAM1AnVjAlIhwQQdohJYLiFwoUFUAmhsVK3RhNWuHrQLdmgBQIIJLBXsRmlYAfCRpObcjbxRShLr16titTgmAAPNABAAA1P+w92+c4Qj8EJYBEKEfcJJuNeIOXRftSIIK2KcXOC4/3INoDEXSgP+Qttd8ClmzkSqzIYSWSwZFAEBWAy0FgBAIyUEcgSS5ZBmCCemWEG8T/WdfQcNVRRJdch3ED2VmDRSbQNvl0BxCGk0k4kFlFCAAFw0KJIRYBP3TAQA7EnQkkANtJ4JAcElFH0c9FoCFQgUU4N0/e2k5EGExBoAEABvsx88FAGwXQIw1VDjlQeO45FRBV44ExFBIlFEEeJANBEAAXwXATwUAlEAGGCIAcAFBWDAw1ZsGhWmQjSP1owOEARSQw2x/BvpPIzoJBEAHthU0Dn+QWiXpP/2oMkURU7wOVhBZFf5zBhJLmDZQQAAAIfkEBQUAAQAs8QACAFUAEQAACP8AAwgcSLCgwYMIDfbzE2CNuoQB+slpaA8iwX8Y/xkcF4BLP4sgQZJZgWBggRjWFB5xYHLGR4T8lgTYUCBADIwEGwW4ELJnwhIBHMywWZPCw4H/hhZwEaDGBZ4JlwEIAKAAgJsaB+qE6rPrQCBgXgbwoyBAEYJIAkTQ2VOdDi6NilzNKLARGLUD/Yj1yhdIABMD+SkAsMZnRo1ysWb1W/AF38cC05rIepdryMNm59L1MwWvwMIHK1ok0/UfYMYB/M5YEyNAhRdoIGJOjDnAVpBsIZb1ySUAAlUC+zkuYdU3VZkI6WZujfm2RY4W0/aUgwAAFoIqBG5Q1e/f2QITD87svhpAuXPIfP04ACBk74oAAsKXB6wjOc7l5e+fT8gPJEPc6wGxV1Nq7XVEACLYl1Vi+WW1H0K5JbQbRI1EAEB9Bp1lWQDXdaAgYpplFQBwFYCUkkUYJqSKhTWISFBhCuzl13sf0nZfRAXEiF5Py1AAQA0DInUBAJ0JpM56RXbUEFIZ2SjiPxsAYIIQAZC2Y3IJ1lSQgAOVIUABQJAxBQU7iZWgEFn9A0QMMUQZAZtADrQGV45dKR6ZB+Ep0D9cTAhACcANlOBZA0VJEABVGWQPQ4HaWdA/Eeb0qDp3LSHHgDotk5McnHYqh14BBAQAIfkEBQUAAQAs8QACAFQAEQAACP8AAwgcSLCgwYMIDf5rJHBcwgD/Bjp8KLBfozJrJg7sF2BKRIogKZaJUVCFKo4E/00hKEDFx4NlXiAAACBAgRWqBvIL4CCkz4QvBAadgYCntYI6BKoQuKFnwhY8Y+iIMTPCMoE7nf7cOrAIlp0CVfXU8ZILTzk/hXDp96+tWABA+qk6E4DBQDkvueo9EqDDwH8RAoDRK7DtvyIA/CIxWAIlYa5mNwxcw/MxxLZYEgdoNFgBQccpQQ7eOiOAjYF8TfiZQSGCizI/DccAkANrZYpgHxYATZGMTT+Fa4sY6DmAEJ9tyQAowDBAVpC8DQop8rORXb4DSweg4CfiEgEA0IToXKgAwGLbWi1vVRWYLMEaAcITJKmdInsASXXefpgXIV6QqkgQAHwFAREAAnlhEcAFAAZGoH7pIZRbQrtRtEwFAdRHkIIR+hbYQ8tQAMAMvHEU4UHRGVRDihJJ5kKKjQhQgD0E8SUCiwEscwEAL7BV0D8MFKCOeiGNI5kJDw1XBEr8CHicQIOdgZKRALzYFmMBDCcYjupBFUBQBOXw0hoFCJAUFpJFoBFU+QWgwnIvxCCnQO4F4IdkAjVGJEJaGuQAaGTYNVAHwA3E5kcd1ORnQfww1NyePxVK0E5HILFGf2EN1AhaB/0TEAAh+QQFBQABACzwAAIAVQARAAAI/wADCBxIsKDBgwgP8vMjkF/CAA4DyLH3cOA4ORLVGVQVAEzFjyC5mCgwEEEOdf8K2gOCYGABIP0SgqEAYCAAE35iCiwTQIVOkEANRggQoUZPAQFEpBxor0QABDECzJDgM6GQAiJmSFUQQEGjgTyrBh07MEeZpQHWkORCUEeADdaCLrOHdlyFAG4D+EESoMPAr2QDD4yaY+CyAgUACxZ4JIBTqQZ1oF0c1K2NgY1VUB4oBLLEzhsEkpEz2fDHM2P73Z0y8EUAIGVURLhQA+PYMwoErAnQr1/Ynwh5VgwdtLODiH0DmABAsrnHimUqUGAAYAMZtL8rNioihLv37t0DYP8JWkZAgTM/Lwg0sY13DgAI4j4kgwABAAAU2ILtCXwzyDUtYQFcaAgsM1A/FATA10f/qLOEfePtxF9FGmn3X0tLlOaUCMAVplVF/4T4DxcARBBRdg8J9xBxD8nB1RGlBVCYZgQBEYBrD4kYojr3VYiGch8xVJEQMRLkYgBFFAkGABdMFpVkCemYkh/36dQIk0X6V5AfDrxWZD/qMBDAWQKpQpKKS+j1l44C1QBABzr1I2ZUAaCRpX9DKUAnZj9hAZ8QZSzRpQloDaVfAA50AMQSWAhBUwEqBkDGUAJBqWVB/bR0EKEEIUFSaxXyZuhAIhhUAZkFqcOQgZcaJORG/W0Zw0URS7wqUD8MtSfQP6qAsUQRrPUTYgABAQAh+QQFBQABACzwAAIAVgARAAAI/wADCBxIsKDBgwgPqlsTQM6/hAHGMfTTD+LAfxgxHmTI0KJHi/aEbAAw0MGSigVVvSgwkAEYiBkxiggAYM3DgUACHPnIE6Eqkh1sBOhAMifBRg4CRKgRwAWDIjcPxkQCgKQclAJzQu3JdeCyGnIIHgFQQNXAfh0C1OB31qLGRghEOKipMcCaGQFyDLTWtS/BpGBQggFQASvXEgWQ0h0YwSAZv5A3BOAyUIVOwzyXADjSb67NgWVeqBUIZhlCPx7D9lTFslHJAGWmzNwAxLRFVQo2VPR8E6PWqAiNQtQBHGK/EgFeRBUQwDKCkqghmihg85/ngr8tohFShLv37uDL9P8UAsDBspvqSAYA0q+fqpkdihPkAoA9xusEs0PuqxmBaoH8ABVVIyz9V9AyCkSgjkDWLYZTAFtBZBtEZnk0BQAIrIEZS0AAd0EAWCA0AwBTyGGiHAwAAIYc4zwYYULCJUScRVhgeMZBH+5E0EwnHVRCVUACKVCIAgkBIWYGvWQRZRCBIUABjx2kl14ENUYGkhDGoOWWBQBgQgwaCjRFXvv1NBiUCP2zBgAK8EUahi0GoI6R/PRWEG9RyYFhDkUE4FqZpzFXgWME4RXBEuux1KdAPwXgZgAx3WdXcUUoMFCUgBq0JkJGDsTPiAMVIERUjT4aaYMdGWRNWAtmapA9Bg4V5Ic1xTUyJhcTAhiWYZH6IQdbAgUEACH5BAUFAAEALPEAAgBVABEAAAj/AAMIHEiwoMGDCA3y8xNgjb2EAfrJafgQokWBywJwucgR4j8wKgoMLFDDmkIhDEba+JdQDoCXLwWmHDixA8uOOAn+2xAgwowALkRuqCiw34oACF4EmHGhA0SXCDpIlariZoCaObMK/AcETD+aCAAs+RrgX5EAFFQNtIrQpc1/cOEObLTxwkCGWi/2I0swR4AXN9WFnYjTbdy4A3UYrME3b04hQAdiCWAzp+HDVuUsQUuz8cBxF8vk/CciwFmBfnOscRGgQow1Fl0y6BDhQo01bLHGvhjBc8J/mxVsG6giQAkBIhEEKDC55csCYQEEgEyT8sVlRYRk3669++aOawoA/wCztjTlZf/6AVneKGGjI6pYqrIRYHx1p47zylEA4IjVfyWwt5ZT6x102Fo5AGDeVdZZRFRCeMXGAABCsPVXawVBVpyBmMGFBgAI3KTbU7z5VpAfDgBQYEHr4TcQEsZZuFWH/7RXAFkMuZiQWhYBYeJcEaho4hkBOFCQYjPIWBaNYADggFzqFJnfQHtB1EiQOvzYT5AbCWQNf13+M5kcZLVH0DIVAMDYVkGuAJloUyK0E1IGUScQGMitN0UElJE1J4wCXbABEEtMoYMCATBgpkBoUDDQmnEa9I+RB/G0FhbKCQSACSZtxROgxsEEkwiEFWQPQzxGWtA/ERIkx6IDqRTDxRFLlLoVQ50KRNcSRUwml0ABAQAh+QQFBQABACzxAAIAVAARAAAI/wADCBxIsKDBgwgNqpMTQE6/hAHUrWn4D2LBZWjONCIopwgaiyBDFukAYCCDIg8vzigwUMEUiP/+yTEhYKCDif2OBACSMqTPgv1KbrARoETJHBUHqooQwEGNADEc8Ez4byKACzl0qEAARqDOqT/DCuwXg+FALCX9EDQR4IW9gT0RqnMAoAhBe9sa6ggwY+AysT5jGrwQYMnAMwAc8Atrl+3BDQaxJAUMuEThlH2BiCXc9eCZpy+UItxoceLPcQgCmA5QIQAYLJY36FAFUR3LRkU2ROhQRN3Ar3EP6rQ4YzLI0CUmKwhgomQAlgocIpQDAAFJBUwDXLDmdWdwg6sTkv/5uQSAAtICWQbI8XAb2wrfBa4BQH9Kv35+mPYNAJyyfy7VnVEQSxT0tExqAh5EHQAxEPRRAb71BxF3FtEGEhcFFFBGcA6sV5AI/CGkCn1YEPQPAgBMJGFCw0FUnEVgZEjGdyBqRtAKAQiREIozDvRPBACUUdhOIAlp0RTGGURGhlwkKZBmDRJEWIkINddiAPYUAIBaXUXpn0CCJVRGAQI0iZAfGaJXBgAFWNiPjuMkBaAEiwXwj44RVKSKAAXYYJdZXyK0DEvZEWRmAP3okJhhQqRmYwD8pJXSPyIAsAEWZOggAACdFcbAQFwEmlAjzhm0F1yKDlSADpNFGoAfk1on45hALhk0DkPjiIoQP4AS5MdfBakyRRFYWMgRlibKtEQRYOQlUEAAACH5BAUFAAEALPEAAgBUABEAAAj/AAMIHEiwoMGDCA3y8xNgjb2EAfrJEagOYsF/GP8RXHYETD+LIEGCMVFgYAEb2xQKUWAyB0QRAGICGBiT3781AURoDMnz4IUAEWYEcFFyAz+C/FQEQPAiwIwLOhPq6EC1qgMAPxvm3Nmza4B/OshwlVNyClchAS6oGsgVYUauHQAcCdAIS4ANZwQy9Mp3oA2nHwOMK1BgYs+MA/0AKGAtgMuCf/v2RRtjp10RXhEL1AHAhUA5SNIOlNN24DiQZbr+6xBgrsAaAXSg8VxhBs6EbzH2YwCAzECcUSHehhiha2gGpwWaEChAIIIABbjgzg0mgAOMAoGXNrhMSBHv4L+L/1/Sc02B3gRZ51wWEQj0tQdz/zMBAAh2rcEle5WjAEBogpgVoEpg/2wQAFrxIabKeY0gpp1FD1m0l0X8AVCEQSuIRpB7LbiFmBAAlNCPg1tZNFxCxUnImxDbuYcZQXMt5yFGEQDAxYjYTdTBdgU1ApJ7EPlxFRCBFZRaBEUG8FcNSRKU0RkAKGDPW4IB1aR+CTVSI5EI9XNVdQItgwAAYP5jlxwEYjQDAH9p9k+NLqCVGpZu/fRcQQh+VV0BQpAxRXEvfvXTElz9o86Ya1AZ0RkS+MUjnf84gJB6Av0zxZ0BAKBCY5UOWih5G+C4nT0MwUenQf9MSJAcPhY0DhdHLA5hGEEMcTrQWqpoFkBAAAAh+QQFBQABACzxAAIAVAARAAAI/wADCBxIsKDBgwgN2pMTQA6/hAHsrRHYDyJBa2vWWCvI8IzFjyCRiBAwUIGQhwW32UAwEAESiP/KXCBYocy/fwGmBMgBsifCfwUCXKgRwASAADNwDrQ2k8GMADEi2IC4psBRIUJEACiARqBOnj7DEpwxcSCYo2UFugigQh3FihBVAHhBMAbbfnKABHDRNYAqsYAJdghQRKkcAAzGha0AAAzcf2QASAggwuASuIHFriBcsZ+OnWJLAMAy8B8XAJXXfFYxsBFC1xbTglTHIECZgYOngCkhVAfshKcrLAvwb9kFAFy8grao0yJrn0Q3KA3gQODRAEERrJl+cIkCBCJEIP9QcFk5WIgMLYLxiQUAgvQCFQicYS+AuhYBItRPCKYDgP8BbLCeeZllBkYBBZBRUG0O9KOUOvKRgVlB7TnAxTjjgOEAAM199dE2H/0GERkIgsFdfkgVxJoQEw7UjwIA3PZPP/2cAYACFXnI3EfPQVRGAQIkZxBr580XABAtCuTHVgLddBMCADBE2lQW9QVReQn9WAAXJwpURFHcVYZElwEsWYA9Ts5oFUO39VjgR2iwNAWZfiEI3xoACODHQF+qglM/UE7hIE7tIfCQNQjW8KUcSb4pkDosOfAUQaQNJEQADCBRRhHy2TBdUGkBsZUOYJChg1V6EYdFdQJh6WhB1lw4ZxCVAwFBkkAC5ICSQKC6CERQ/41qkDoMgfiqQXgh9FdBqmBRxBTLEsTQfgHQuAwYRRzBhbEBBAQAIfkEBQUAAQAs8QACAFUAEQAACP8AAwgcSLCgwYMIEypcqLBRmQDqEJb5x7CiwiUGgRwcl6PgkYVoCCIA0o8glgA1LKo8iOBgjILbDqZkWCKADgYBbFAUeHLmyp8oA5QUSEZgyIEvTazckHOgKgUB1uwUEkAF0KsGRQSgSlBBTIuNAAjYtjOAxhkCa3osi1Xli60Ud9pYWQaAA7ZgAjgoqHShqrYI7e0tKlArxoEdFZ6x+2/nPy4BAIzjGXThyYV9Lc4VOjBCVYNHDy4DAKBR48Y5SPsp2bNiESGvY8OevRJygYI4A7wU+NYBv4QiAJRQ1/hMAdJrKPsErJIw54F7A9gjiDMvQj8K7KoQISDCcT/KGU66Zk4QwMEKAd4SbGGW7cDGjWYwAKAghpzI0wO0tsww88LbQxG0QlMEpaSDewKdVhAZAFCwE2Q1BIhQcgshgSBBaCAAwBQIIRGAWgUVgdBpbMUAABA7hVTCheQRROFP9wFwn0AfvUeiQGDQp8pO46HVIkK/CbTbQBwOJKICH9W4nFEDgbEBEFgs8YJ5XLAF2UBHsAhYRAhFWNBtA202UEuhMWieQA6QoeWPbAbQCEJcBvDPMlwgscREbAUEACH5BAUFAAEALPEAAgBUABEAAAj/AAMIHEiwoMGDCBMG6Kfwn0OHCglaQ4Nm28EzETNqPNKhoBCGA0sAGAlg4Eh1CtXVKCCwgA2UApcE0KGxZkKWGwSWEFgD5MwOQIM6AFChoYkAEQIISbpioEyaNqMSnBHg30AuAuX4fGg1gAgARRSCCeDAYr9lDgKQEQgkQAypcBHmPDKQq0A/AAosS9hPJBKCYVUE6FhQZty4go+AfDhQB4CmfAsAaETQTwAF/dDkCCA4IuXDCNUpCICmLtd/Q8n4NEi5wGqQqgI8zWhYoYuoVDt0rcoVDAAH/XYbLK1A+L/RcmTP1CikSPPnzqNHnRIAgWXTD1UAABJcOMEyACIE8hfoMC3G2aDhjiVPkOsyyX66exeIBgCD08cDrFEOVaG1jKqshtBYLBnEWBEAiMDbfFnlhR9LlKGnUG0J3RbRWgGsVxBjFACAxYII8SPZXgO1JhB1OTBIEEYRUXhQGQUIwIWA5Dm0BgAIoMQYQh0AMONA1CmoVgCQpZcRjAV8iNBDMwBQw4K7hUViAEgAsAE/AvFzAQDUBUDik+wZadA4LCVVkJLkqYMAAGvYZVIAWmVZAQAlkAHGVxcQhAUDTol50JQGpUjQFABccBpBJcVZVSM5CQRAB7EVNI5Ak/ppE6ABqCKHKjsaZE97/5yBxBKlDRQQACH5BAUFAAEALPEAAgBVABEAAAj/AAMIHEiwoMGDCA328xNgjbqEECH+m/jP4LgAXPpF3LiRzAoEAwvEsEawSEIuCfktCbChQIAYEwk2CnCBo82EJQI4mPHSJYWHAlEWrClAVcJlAAIAKAAAZsWBM2venEoQCBiNAv0oCGAyoZAAJiCq08GlUZGmFAU2AhMgwkA/WKnKDQAEbMJ/EQAIPUix4lmnT+sWfDG3MBKwTw2WCaCA3920f/sG8DOl7cA1CO11nPovrOCDhHVIhIw2bYCoG2dG3HoTJQKjB8cxlTP66d8AklFHvBjxsE05CABgSXh4Q2K+pGPgjnmaZuHCfhwAEBK34L8NAVbWFnjbtG6IjiMys0wtHUj1grQLAH1su+nyp98TqobIGmKjvKIh5ni5UXJk5gEYVcFGJEWUX0Kq5FXDcQbxowAAZ5yH3ET/JdZPAQpI+BxCy1AAQA0aEoSSWwehhJlAfVU40HUAmPAVGRveJUIALhVkHkH/5PTVQTMK8dQ/QMQQwwYARCAkiJdJFQBhMfJFAUJPyiRAAapoOGNXAhFJEABLGWQPQ7A1ad18BZEZwEPjHTTTMjLJ4eabcsAVQEAAACH5BAUFAAEALPEAAgBUABEAAAj/AAMIHEiwoMGDCA3+ayRwXMKHCfs1KrPGIcF+Aab8g8iRY5kYBVWowihwSkIkCcu8QAAAQIACK1QN5BfAQcebCV8I1DkDQU1rA8kY3BAAgBySBlvUjKEjBssIywTStImzKsEiWGgKVGVTx0aEKIkmFMKl37+zXAEA6afqTAAGA+V8tUo3wJEAHR4SXYL04dl/RQDkRVmwRN+6OLkEEHtQzsttN/9iERygEZgACi4enJvwctUZAWwkzBEgBme/Z2MAIB1gKketDwscfii0gB+E/DKXwXmWDIACDFvX5Di7oJAiOBvBvYtQcYTiCBcqAEBYOFXEdFVFCOA1YYkAQqpqrgegg6BriKcbpzeoSkKAGg8bCQAg86b29wXPP4SdUDbEZRUEANpD4ZmA0zIUADDDYRhdFxFHNUDXEFEuSBjAP9txsZ5By1wAwAtmFfQPAwWog91N4xBlIES7KVDcZWeQlCIAFZ5l0HciCASGhdgpFYBOBOVwmk46FKdUeQKp8NsLMTQpUHcB+MGYYScmlONBDvQ1TgFGrXfkVx24ZJCDrTEUXJVV3ZbdQI04tllAAAAh+QQFBQABACzwAAIAVQARAAAI/wADCBxIsKDBgwgP8vMjkF/ChwnHyQkgR51BVQHAQNzIkYuJAgMR5FD3b6CNhGsSgqEAYCAAE376DSwTQIVMjjgPRggQoUZNAQFElBR4xOBOBPaGGhRSQMSMADMUBFDQaGbNmzmzCsxRRukakFwePvWZcFnSgeMqBNAh0A+SAB0GVtVKd2CMADkSqkMQYI1SjkVLCHxaUMffujnZnkS4JMCFwxuFQBUoR/IGgWTkQA6wbOOZrP3UTkkYt2jWMwoEpOzXj6ZNiDQhXs4p2YHDg34AFOi8sUwFCgwAbCCj1DVWhI2KCFHOfPnyAFhylhFQ4MxxgmxdbDZIBgECAAAohN21+hox3TV8sVwf2I9BAOI5/6lb8j26QOMQLUKcCxF9gCXbZQSAAwEa9M+B/3ABQAS34fdQbA/N9pAcUh1RoAkBABEfgvKBpx8aAWAIEUMQCVEghQEUUaAqIPEHEYcl5QbATY0A8Jh5OPnhQIYFBiCZUAc1RmIAjXAoUA0AdHBTewHcFQAaPSK2kwJODnTEdTuNZ1QAWjrQARBLYCEESwVA+N5OAhmGI0L98HWQCX+dAYAC9hzUT5YDiWBQBV0ZpA5DvK2JG0KqHGcNkWwytM1A/6gCxhJFjNbPgQEEBAAh+QQFBQABACzwAAIAVgARAAAI/wADCBxIsKDBgwgPqlsTQM6/hBAT/ps48SBDhhEzRrQnZAOAgQ6W9CNYASGChwgpThQRAMAalAKBBDiisSZCVR872AjQ4aPMgTMMMghQYmRKikgAfJRjNGaAIjBtSl1WQw7BIwAKqIIYIQAXiBUbIRDhwGXFAGuC5hhoTapbgw4CgGla8AwABfY0lijQqOzLgV0LknlLWOAGrwljBFibcQmAI/38wizzIkANgWCWIfST0apNVQUCNEKoDkFDugdVKdgwUrLAiTKhRvwJUUdUiP1KBHhxe+CSAKwzmijw8p/fgrF7F0QjpEjz586jl7EpBICDZcqBB0CSkQsAIP0mHuAnmLwwYccIPB+Uk3VbxGUKIqh77XpgeYiaI27NOAUAgjWoEbSWYhHNAMAUciQoBwMAgCHHOPY9lV2EEdkWERb+nQERPwoEMF1EJSgloogCYTGQEE8FWBAY3UUEhgAFDAaRdxHwk1ERMeSoYwEAmBADgAJNsZh5NoGRlYwQ6SZEgOqgyA9Kt0kGE3sI5FCEaEQm5IcAAZQkWEE4CdBIbzgF0NZrKhmH1m1FdCgQklkWtMZHB6FIEIomKFfmmQGkaZxLCFlj1XxxGmSPegT5YU1Uo/FZED9W0ZWmH3LYKFBAAAAh+QQFBQABACzxAAIAVQARAAAI/wADCBxIsKDBgwgN8vMTYI29hBAjJlwWgIvEixD/gVFRYGCBGtYIAkEIgExCOQBSphTIgKCcAB3+YZxZ8N+GABFmBHDRccNDgVMMUghQICRClAg6KFWqQqbAlx1oShX4DwiYfgPlIACwBCtCHTshooz5r2zZgY0sXhjIcKrEfl4J5gjwwqnBfg5KigVA1qxdsAVrxHVLU0hYhGACOBhscKzfs0+XBBj6lLHAcRLL0PwnIkARhP9MBABi9yBKBh0iXKixpjRUiS8jRrAMWrKCbQhVFQDQKCJKAAW2AghgOCtMicuKCFHOfLlzyRjX7E6M0HDniI2OqJKpykYAANQDvOAm7FaOAgBHShP8JwEAloh+B/7LAeC6+OMRf0Js65sBACHqEXRGAAroB9pjZaEBAAJOjSeWRLNF5EdeIyX0j07ewYfgP70V4BVDUUWkikRA0IZWBACUCJE6W60h0YYaAeDAWeooRt5AcEHUCIo6mDiQZBcE+M97cnjVG0HLVACAYFShuIJhmt0I2k0IGFScfB0AgMRBNgWwpUAXbADEElPooEAADBwpEBqUBcCklAb94wBCN7lElFE13fRlACWopJIIsRVkD0Mjwhknfy6pKRBuiq7HEJ4BpLVEEe9BFkBAAAAh+QQFBQABACzxAAIAVAARAAAI/wADCBxIsKDBgwgNqpMTQE6/hBAjLkNzphFBOUXQRNzIsUgHAAMZFHk4sEPCfyf/yTEhYKCDNQH6HQkAhCTHmwX7gdxgI0AJkDlQCsxh0EGADTYN/oMJ4EIOHSoQgBE4sybOqwP7xWA4EAtIPxA3BEACUZ0DAEUI2tvWUEeAGQOXYb35TyjBCwGWJJQDoADbhGlNIBRbEIvduVhL5E1KkGiMwwbxTj14pkaAFwNVIbQYESbOcQgCeDbIT0GAMmULBGhUZEOEDkXUDazK2ODMiDMgQ8RcQrdALgAi8IPIF8FHBREEXrBGlWbtgqMTksG5BIACzgcVC3k+cA2A71P69fHzkxxuANqI0wNHcCahKgACsCPkCyAGQY0FZKOHyDyi5o1cFFBAGdwFIEQAJvhG0HsAYEHQPwgAANN+Cd0GUW4RgSEgGQUGkBwXHEXI4UD/RAAAanoBsRFqEU2hoEBkCMjFi6dZN9xGJgBgYQD2FAAAWFPZlx6JNJZRgAAzRoQZUQb1c+A4QgEnwY3/HBgBSqoIUIANaXE1JELLqJZcQUkONI5qXhLEz1ck/SMCABtgQYYOAgAwWV4MDATil5uBdJBbBJG1gW9rBuBHm9YINpACUxg0DkPj8IkQP2kO5IdcCwaA6UEM2fOgSksUAcZfAQQEACH5BAUFAAEALPEAAgBUABEAAAj/AAMIHEiwoMGDCA3y8xNgjb2EECP+m/iP4LIjYPpF3LgRjIkCAwvY2EZQR8IyCUUAWAlg4Ep+/9YEEFGRo82DFwJEmBHABcgN/AYuMUghQIFxCXV0WMrUAYCcDWfWvEk1wD8dZKbKATllqsEcAWJApDi1A4AjARphCbDhjECGVeMOtBFghsaD/BQAQJmQ4kA/AApYCwC2IF25coWE9UqQi86gfScO1AHAhUA5SAJADSCHsUCkEfna/NchANqD/0oEEHIXNdl//RgAIDNQJs2IMiNGoJqZAWiDqgIIaDT2NZgADiRHvQ1xmZAiz6NDnz7U5poCsxMqNuGZ4Ot/JgAA0VFuuzvijXL0Zkb4LwIAx8Ulq8LeyG/5iA8jwo2YHkARiCgpAFlkkgkBQAn92CcVbhvtpp9sQpgn0AuEcUSWe1wkKJkcAXQgoUDERQSEfk4B0dpB42Anx4nsTXQGAArYQ1YASEXA4nkJNeKeiRFltsGN/6y1okAUzQAAXX5Z5Z4LiomGo0H/5ISAQYp5t0EASwCZ0xJT/aMOAgCsMWMA/ZwhwVwfIvaPAwiVRhCHBaiD2pZdDvVjkgTZw1BwT6K235shDjRYoAYxNBhBwamCZ0AAACH5BAUFAAEALPEAAgBUABEAAAj/AAMIHEiwoMGDCA3akxNADr+EECFaW7PGWkGGZyJq3IhEhICBCoQ8HGgi4baE/8pcIFihzL9/AaYEyLGxJsJ/BQJcqBHABIAAM2AK1GHQQYAIQg+uKfBTiBARAAqgESiTps2rBGesIQjm59aEJQIIgagCwAuCMQKo6CcHSAAXUwOowkqXYIcARZIWbBR1bsIKAMD0E/iPDAAJAUQYXDK4Lt0VeBsbdLsWYgkAWAb+4wJA8RqiKgY2Qjg64tea6hgEKJMwQgAweg1yrrAswL9lFwBwoTpTo8yIoW3y3BB7IJkADEZCXKIAgQgRCBQw5m0VIsOIYGxiAYDg+sEWAYhq9QTTAYD5ABuyU3fsGEyBAscRWsvpPeF2B1zGjQPjAMDvqhqdFFFpEZHxHmwJHRFAB8UV1I8CALD2Tz/9nAGAAoMBGNFvZGlURgEC7AbRSlNIhpAfURH20j8IAMBQZjZoFNdyJhr0YQFcNDjQGlGpo+NAKBZgz4oTMsUQa8GxtxEaCMT0o0A8BXVQEXLB1E+LJb4UwHYIPDRfATVQKUeNSg6kTpMOzFBQZgTZ0yQaDeZ0GhBR6QAGGTow5ZZtWBgl0HRlGmTNTwfFSFBmSCEk50D9AJGTeXUapA5DAgbqYH0E+TXQXJoaxJA9jPazDBhFHMFFpQEBACH5BAUFAAEALPEAAgBVABEAAAj/AAMIHEiwoMGDCBMqXKiwUZkA6hCW+cewosIlBoEUVJFwmUI0BBEA6UcQS4AaFlMeRHAwBkGNCEkuLBFAB4MANigKNIlSpU+BKGUGICMQZEITAoUa3IBzoCoFAdboFBKA48+rBUUEoIpQVQABjRI2AiBgm84AGmcIpFnwyFmsKV9sfUuQqgm6BMsAcPAWTAAHBZEu9Ar3oD3ARBVyUXhm7z+d/xYDGLfzJEOTCwVbtJFUYgCoCpcBANDo8eMco/2Q5FmxiBDXsF/LVrm4gEK5ORiKAFBC3eMzBUavqdyzsMrEAZQSpGzRj4K9KkQIiBDcD3GGzI0PBLAQSQCmCx83l5rBAICCGHICALB3fSFmhZoX2lZekCnG8I8LkgFAQefiGvQVNFx3eBGEBgIATLFQehaZ9lYMAAChE0glFKgdQQNWlJtLBx1BkIM6gWGeKjoxp9aFCPEzEIcDKUgQP1CdEWBRA4GxARBYLPECd1y8tdhAbqFIUEQIAUjQjzOyZNRQow3kABkWCillQkQG8M8yXCCxxERvBQQAIfkEBQUAAQAs8QACAFQAEQAACP8AAwgcSLCgwYMIEwbol1DdGjSqFBq0hgbNtoNnJGrceKRDQSEMB/7zI4Kggyn//ilUV6OAwAI21A1cEkDHxpsJXW4QWEJgjZABljEAEAFIkRUAAkxR+M9EgAgBhEBdMbMmzqsFZwRQKZCLQDkhhQCowG9gkadlEYIJ4OBiv2UOApARCCRADKx4Ee48MjAGgLoC/y0DAABowX4lACAheFZFAI8FaebN6/hISB0AbAb2A0BBwn4FADQi6CeAgn5ocgRwLHH0ZITqPKMZKKcAAjkC7bX4a5jg6AKGQ0akqVmhZIUurmrtwFUgmQgFNpRQUEBHb4KzFTTf6hk38Y1CioT/Hy++/NWlCEoTXKOCcNIIixOWIdqPa8q4Gb+/xrs28PoCBSCxjD1nXACAagihAQADKTX4j2drBKCfQtZopMp1Bq3lkkEiAHBWg6ogAIB6BskBQAEOpuTSaBMmdFxCyUk0VwD9FSQibg52AAAWCPET2jK+BbDhUjlsh5FGLx5URgECcIGhiGs4GMAGOyako5MDLVWSXAFQtd9GSxbAI0I62tBgAGuEhptAZwEpEBIAbJAWPwYuFZRPIn150DguQVXQmDQS9gIYZAihAAAqAJUUWALxUwEAJZABRocXEIQFA1XpaZCbBxWZpWfuAfDCOAQtGtI/jewkEAAdRFQQqQHAGqrpTZwKpA4ZRxSBhWsG2UNQSmcgscRsAwUEACH5BAUFAAEALPEAAgBVABEAAAj/AAMIHEiwoMGDCA328xNgjbqE/PyU8dMvocF/GP8ZHBeAS0WLIEMGILMCwcACMawVVFejwEkd9izyWxJgg8sYGAk2CnBBpM+EJQI4mBEghksKDwX+C4pARwAbJl9oRLgMQAAABQDgnCpwZ8+fYAkCAfMxgB8FAYoMXBOgAEWBa7IyRKhOB5dGRbRm7AomQISBb8MKFggkgImBUwJ0INiPQoC+BzNqzLt1auGCLwZrRmJ4KhmeBP9FAMA28l7Kks0m/gsXYUyQn3/+O3w5AL/RWJQeqcm1YGrUewN4DbkTJNqfXAIgUKVTBIAKfgGYWJYwOOUAqYeD5AiSs085CADk+Sa4rIZJgQhyJDWd83pw7ZoF+3EAQEjZAOpG16DoJ/MFfghZpxV2OQkHGkgAgjQXSI3QB8R9AQgRQFAD9bPYEhAqVaB7BcKXUHEWHWdRI6M5ZZAKaRVUGFHsTaZXgQEwBx1IKoFkYkKq6NfbQIdJSJBTMVSXEXBc9VOAAhnGRxUFANSQZACFVZAgfn/tJlBypRGIEZED/bOBdBLGpmRkIrRl0IMCqWLSBlOUMYVjDtQYQJlCTPUPEDHE8GUEeTq51lcBZDZmZI4dVChchwq0gRxllanWQF8SBABWBtnDEHODXgRiQZtitwZNS2Q50E7UjSrHqajK8VZAAAAh+QQFBQABACzxAAIAVAARAAAI/wADCBxIsKDBgwgN/mskcFzCfgPtJSzYr1GZNQ4JQpzyb6LHjwLLxCioQhXEiDoQEKyREWGZFwgAAAhQYIWqgfwCOADJM+ELgT9nqHRgjeDIAjkC5FAQQMTEFjpj6IgRM8IygTl39txKsAiWnAJV7dTRMQBDAWvK+hGIJqEQLv3+yRULAEg/VWcCMBgopyzXvwGOBOgwkEyACAT/OZ1ycqLcf0UAEEZisERjwFu5BNjAV2dBzoY/PsYi2SyYAEwHXh7oN+HprTMC2GBNWLBAzRHAenwcA0DSAFk/6k5YYPVEwwXWDlxmIoCEABSaMgQplwyAAtODezReUEiRno322u8eqE5Hapo1rlJvpAAAZayeMQNWhZgsQX6cX/SVfXgbSPoA6HBffI59tJ9HqjxXg0FLbNbYP80J8RF9ASw4oFYTDYdQcR4tU0EAsRkUm10EUdbcRMtQAMAMq0GE4UMf1cDdQONw5gJ3sf020HcnIrTMBQC8EFdB/zBQgDry8VRjAD0aJJgDSGJ1QQAkBnDaGSfVCMCNclXWlEBgzJhkAFAF8BNBOZQ1zk4UNIgFZwiYJBBUAgqkwnUvxKCnQPYF4AdnAlk2JkJOHeRAY3IAOpAEaQ1EZ1kdzGTQi8AxNN2gPSnn5HsH3SRQI3Ig9E9AAAAh+QQFBQABACzwAAIAVQARAAAI/wADCBxIsKDBgwgP8vMjkF9Ce3ICNPqXsOC4iHLUGVQVAEzFjyAHcjFRYCCCHOooDlTlQsBABUL6VQRDAcBAACb8yBRYJoCKnSGDGowQIEINny5FqAzAr0IABzoCzCgJBKhBIQVEzJCqIICCRgN7/hRKlmCOMkvXlOQi0qu1gWAAFNCIcJm9peOcRg3gB0mADgPBlh08MEaAHAOBBHhREEEAOUtBHglQQuDWgjoiExYa1cbAJT6B8iu5jawQqQLlnN4gkAzkg8tAniHbz+mUgdYUFOgZoF/UFpornlEgYE3vfmKtHuRdkbXQ0w4cDpRzIQBrBwVi0K1YpgIFBgA2kP9ZmvxjoyJC0KtPnz4AFqFlBBQ4A7SfnxglBTKoCpIMAgQAAEABW2GFthlhaziGhVWNMBAAEKrws0ZlJgR30D/qLAHgezwZWNF2CQn2UYIBLKHZUTUsZQ9R4330z4v/cAFABNKVxx1IzlUkR1dHBFedRwP1s5ViFcH4ojoB0oVGACaAxNBHQlg4XVdFWOgUF1a58GCRRvIV4E6NAHCBlAca5IcDD0ppWAlLqeIYGCqB9qREXQZQAwAd7NSPg4YFgAaZZRKlQJ8DHbGTWpS9hwSaF/SjElEEPtUBEEtgIURNuxFEBlECZVYmQv04dlCFA5GBJkEliNgPpAOJYFAFaBkjpA5DsX2K0JwFqWIVcn5NERFB9gVQmkD/qALGEkXc5ihFAQEAIfkEBQUAAQAs8AACAFYAEQAACP8AAwgcSLCgwYMID6pbE0DOv4Tj1qBZltDgv4sXDzJkWLGjxwD2hGwAMNDBkn4F13QgKTACmIcJMV4UEQDAGpgCgQQ48rEnQlUkO9gIsDKAzoF+CgTYoLMESTI4LWJEAoCkHJQDdRaJ6tPnshpyCB4BUEDVwBoBRODUQZQrwYyNEIhwYDNjgDUzAuQYaK2rX4MOAoDBSnMJwTUAFLg1WKJAI7o3B0YwSOavZYEbAnAZGCPA1oFlAFRYTHAJgCP9IOMs8yIAWsEUD/rxGNanKqWNBp4B4MBsgHE0kXRUpWADStUCL2olndWjDuYF+5UI8CIqFwcFOohQgEAI9AAmCtz//Ae54PKOaIQUUc9+vfsyPoXwXobzXxkRLANUwAKdCwAg/VxUHkHnXfaXaQjUNhAYBSCAhTXqkDFZEVgZtIwCEaiTHHLNfVZRbBX51tEUACCwRoUtaUaQHGRtg9AMAEwhx4xyMAAAGHKM0+F3R1X0XEdYlHiGQeqQNE59k8F3kFNVNVmVQFgMJIRnKB4EhkebVQSGAAVUZtA4JNFHUGBKGlREDGimWQAAJsRwokBT6GWgT2CQ5eVBk005EBkACOBiAOpMyQ9MXKmGE4sI5FBEALnNiZAfAuhHmUD9UCVADWCQAQQCAdgAE1AB9JWcTOTdxVURCuzpKEKIIaSnQEUoMjVQATXwMxCoogZAKnk2IWRNWBquapA9ChLkhzVRjQPGEUVwIaJA/ISFIql+yGGrQAEBACH5BAUFAAEALPEAAgBVABEAAAj/AAMIHEiwoMGDCA3y8xNgjb2E/OSc8dMvoUWDywJwuciR4z8wKgoMLFDDWsFtM0QKRADkYUI5AGLGFMiAoJwAHf513Hnw34YAEWYEcCFyg8sA/ToEUKAjQA2RNSoihImgg1WrKnQKvKmUp9eB/4CAkRpADgIAS6SSCYCg0cAzAQCoegkg57+7dwc22nhhIMOvHfuRHZgjwAutSAKUIPgvAoAydO3i1RqgacGogDMHEDJ0IBicBPspAPD3IEzJeAfKWRKAgurBA8dxhMzzn4gARQT2U+dAwOcA/zjfpsugQ4QLNdZQLgv64s2LEWAn/MdawTaCfjoAuFDC8QqTdAEU/zgLYLPN5haXFRGyvj3796x3rikA4PdAVSkHMj16sNERVTqpYkNc9nGlmWZyjHbEctY4AIAOjfQjhwroGTQZWDkAMBxzXVnEH0KlWSQHAwAIsVwAQASwQmgXAIAFQpNNhgYACGhloHMcRXeRHw6mWFA/t8U3UFMD9hTjXW4VIBVDHSY010VASEdQI45FaeFtRxQ0YJEWHvkRAA7kpU4ADhw4kGAWUfmglJUFsAFZDQIwRUX/vCiHVG4RtEwFAGAGnHec0WZmTz8hYBBnwPlxVgdYlLFEBEDJBtxPiQl0wQZALDGFDgoEwECeAqHhmkB+DlrQP2Ue9NNbkA5U13OTBilQqWIyySQCrATZw9CTpp4aomqg6oYGEkcscSdjDIEn0F5LFPFiXgIFBAAh+QQFBQABACzxAAIAVAARAAAI/wADCBxIsKDBgwgNqpMTQE6/hOrWoFH1L+HBZWjONCIopwgaiyBDDizSAcBABkUechRhUqADLioR/vsnx4SAgQ7WBOh3JACQmCKDEuxncoONACVM5qgoUJWCABWABFBhEgvTg/90AriQQ4cKBGAE9vwptOzAfjEYDsRi0s9AqRv4DRQSQMJVhQ4AFCFob1tDHQFmDFxmNuhMgxcCLBHYb0UAugMbASgAtOBeEwg3GLRauDNSxSpz+IwpB4CDuwUThz14pkaAFwNVIdwIUqfQcQgC2KYpgIHbAOowC6k8UF2BAI2KbIjQoYi6gWOJF+wJcgZqi7BL3CXjoECHAAoQAP+Ri7A0gpIKIgi8YE3s6NohyQhdAkAB7YFrTLQMEGGJdIFrACDgFP3044d6ggUQnWedcQEAAmcUdEYBCCCxjD1lVBCADtcJVBoAMRD0UQHPLWhReyDJFhIXBRRQRmXfIUFQIy3eV5AqAmJB0D8IAKCTiQlRZ5F1IIHRIhnEHWdjAJpxkVCPSA70TwQAlKGYTyFZCdIUHQ5ERotcdHicWgNREICTCOknZAD2FACAW2GFyKBAhyVURgEChIlQYhwOhMZNjVTUD13jMOWgBOT9Q1cEFakiQAE27EXmnAYtc5x6Bel5pkkzgEGGELm9wBQ/ban0D0sbYEGGDgIAsJpiDAxBhCalBkmGEGADLZEbQTM8JxCpAfhhqjWYDaTAFAaNw9A4tB7Ez6QD+UEYQeqQcUQRXARaEEP27EjTEkWA4ZdAAQEAIfkEBQUAAQAs8QACAFQAEQAACP8AAwgcSLCgwYMIDfLzE2CNvYT25JxhmPDgv4v/CC47AqZfxY8gBYIxUWBgARvbClqLUVIgAiD8KooAQBPAQJr8/q0JICJjyJ8HLwSIMCOAi5IbYgrstyGAAh0BapS0UVFHh6tYHQAQ2pCnT6BgA/zTQearnJJTfJIJgECVxwBlAghYlhDj1w4AjgRohCXAhjMCKYYdLJDqDI//igQwQfCfVjR1Lw70A6CAtQA5DFIlTFhIgBg+uXgd+E8BgEaRv+oA4EKgHCQBuAaQ85XgOJBxgf7rEECvQHVayXjs57lE7cZ2//VjAGCtwJ09P+78GAEsbAa3B8rBe8FEBAAtUiL/TP4PTAAHkrtGr7hMSBH38N/LXwJ0TYHmBVXNaOkUiLrUGJkAABDpQXccZz/JYRpsGmmlQyP9yKFCALyNh1EAqtzXyIUGfvTQR4JVpCAAihUE1QsE8UMBAKJZdKEQAJTQD4ejVTRdRdWByJwQx+0WwBQFZQaVhRd9x8WMkslB4YEFofYRECBqBcRbBfG2BJVRYZbaGQAoYI9dAdwWAZYIVtTId1MiRFUHVC7DQAB9idWXHG9hNAMAVF0o1ncueJZbmRYJhYBBngVWUgdYlLFEdRF8+I9QS3z1jzoIALAGmAH0c4YEA9nAJKCOIVShQGXkOFAHTooFqaT0bYDkgfYwG6QKoOOFqF2qmWqKxBFL0FkQQ5cRNKsqegYQEAAh+QQFBQABACzxAAIAVAARAAAI/wADCBxIsKDBgwgN2pMTQA6/hOoClFGV8KC1NWusFWR4pqLHjwORiBAwUIGQhwT9lAAw0MGSfxX/lblAsEKZfzCnBMgBsifCfwUCXKgRwATLGTAFLnMQIAKQAC1YLumXcE0BlkKEiABQAI1AnTx9iiU4Yw1BMCzNChQSQIK9pEgCOEh6UAWAFwRjBFDRT85TF14DUBxLeGCHAEWSzggAhKrAbSztJawAAIzjf2QASAggwuDUwoVXIHb81AbBRgAQ0DW4EsvAf1wAdF6jY+/ARghxe1TbUx0DiQP9FEDAMIA9vLUTxq6wLMC/ZRcAcPm686NOjyrEEt2wukwEAR1KMP8ooANlwiUKEIgQgUDB5wBgPxavCMYnltTzBcqxOzDCEccJgdEBAAQGsEF91IUFGmFgFFAAGQVZVcARqvBzxgYBmJbQfQ5wMc44YDgAwHXxebTNR7p5RIaDYKwWQAkBsDXQMgg0hFA/CgBQhnP99HMGAApQVWJF11WUnUdlFCDAdAYp0BCAnMGHkB9cCYQTTggAwJBrGlYUWEXvIZRkAVy4KFCNaKx22BJTcvXWlf1cxdCORy4IEho1TmGmQJ3VQJccQcnhWBGCwdRPllP0g1MA9yHwkDUO1kCooHYipE6NDixGkGsCZRaAC9MJ4aQJdAXFGxBc6QAGGTpc9ZRzWDA+JVCYlRJkDUsHdcmokwS5cOJApg7UDxBBEZiqQeow9GutBfWF0GBW2kPGEUVg0YiLDEkmUI/LgFHEEVwsGxAAIfkEBQUAAQAs8QACAFUAEQAACP8AAwgcSLCgwYMIEyoceKbRwoKNygRQh7DMv4cYFS4xCOSgCYIMAvRbiIYgAiAjB2IJUCOjy4MIDsYguK2gC4FILi4sEUBHSBs6A6xs+bKowJYpA5ARWFJgkQARKArcGDLhhgA2BqpSEGCNTiEBVBgda1BEALBHewaVOg5hIwACtgXtOEMgz4JHgpJ1+eKsXqICVQlMWrAMAAd6wQRwUPDjQsF7D9pjvFSgw64X+c3MkfDM4X86/3EJAKCtUJYPVy50nDGrSIJnAhS4KpBzwmUAADQCDTpHbj8jh2IsIoS48eLIX44u8JDxQhEASqgDfaZA7jUChUcuWvn1QDkxn9rIw86ScEE/Cg6rECEggnU/2VEvNL19IACD/T52JMjVe0HQjczAAAAKxCAHafbEB1hCqinE2kLMmRdASF4RxNNGB/FWEBkAUKDTaDVIWBB5CuWkEBoIADAFQlxJdJCIvOkVAwBA6FRSCXrVdxCJC9VlUIUBHEFQjDqBQaAqOpnmo44H8TPQTAStWNAKTtllXlMBgLEBEFgs8cJ9XOg12kB5MUmQVAeFONCYBK1gjUkBYMnhfQI5QEaOZuaJxEJo/rMMF0gsYZFeAQEAIfkEBQUAAQAs8QACAFQAEQAACP8AAwgcSLCgwYMIEwbol1DVGTTbFBq0hgbiwTMSM2o80qGgEIYFSwwsMGPcP4nqahQQWMCGuoFLAujQSDPhyg0CRQaoATJAIwYBLggBEiGAiJ4H/5kIUFRI0RUwZdacWnBGgJMCuQiUAzKGUX4C1V0IEDMhmAAOIvZb5iAAGYFAAnilSvcgziMC+yEIgIag1g1YDfYrAQAJwSIBVAToWLBsXbqKjzC0BiDAy4F+AgCIeLBfAQCNCGZW0A9NjsQZQz9GqE4BX4HjAACwhvWfHM0YD4YugBSkKrJSJTpO6GKq1Q6BGQAA86/5vyWytR7sqyDwVde3Y87MKKRI9+/ew0//nRIAQeaBOQBQUNXvX2bZWBCWARChvcDmbTFqX1337H2C20gAAAImlFAAAg4sh9RAaADAgHPOubYGcNspZE1G7GV01koFNWeNDg4IUIAKcgC1hnUDyQFAARA2t1Jo+wmXUXESvRWAfx02R5AqK9qDED+fLUPQbgKRlwOKBuWm0HAHlVGAAFwseJ+OAwkBwApUGtQBAFEORJ4IAr0FFX8aOVlAfAg5lyICAJw4EGJCCoQEABuAFQA/FwBAXgBx1jAQkmQGMM5KRRWEZgB+RADEElioBIAQWVbGlUD8VABACWSAIQIAYw2EBVACMRmoQHEedKRAjXw2kAJLZKlZAJNeJNUITgIB0MFvBY0D26hTlWoZGYaBwQ+gAfj45z9nILFEXwMFBAAh+QQFBQABACzxAAIAVQARAAAI/wADCBxIsKDBgwgN9vMTYI26hOrWlGmU8OC/i/8MjgvApV/FjyAFklmBYGCBGNYKqrNRQCAAEXI+8lsSYEPLGBcJUrwQsmfCEgEczAgQoyWFhwL7iQigQIcQoAwoJlwGIACAAgBwZhy406fXgkDAeBToR0GAIgOxMFUl8J+NAC4qqtPBpVGRrBgFNgITIMJAP2O/Cg4AJICJtioIE9xWQMAyhBgz3tW6tXDBF4MzIzGc8R9PLgT7+QVtMe/kyAH8TOk7cA1CeyDJeP132LLnAGoH9nOguHTO03kDdP0otaJZn6ARsBWI+S1XgTUg5zybNQDq4RU3ftzcUw4CALlFBvIocCajOqBEpf+uHhx75q9+HAAQEtj6UAEiVMjnWWNrweCTWTedewjxAxJDIDUiHxD1JYVEBY1tAEZc9PkmUIDtBcATcSAdV1EjEQCgA0ge/UMBALL5Jhle0wXAVgUgpfTRiBWpEmJ/PbnGgIHq/QOcf/0UoECD7011Yg1EIjTOBmcFBpprbWH040D/bACACUIEkGKRFi3VElhj/dNBDUhwAQRvJfAo0FJCbPUPEDHEYGUEcSLZ2oYBYMalRRQg1GdbMA4kQA6wEbQUWgNZSRAAVxlkD0PL7flfcQVR2g8aSxzBxWMGUcSpXnKEKqocgAUQEAAh+QQFBQABACzxAAIAVAARAAAI/wADCBxIsKDBgwgN/mskcFxCewkT9mtUZo1Dgv0CTPkXsaNHgWViFFShKuNAfjoQDNywpmOZFwgAAAhQYIWqkwEcfNyZ8IVAnzNUOrA28J+LAAhyFDGBVE7EFjlj6IgRM8Iygfxy8txasAiWrAJV6dTBMQAZmn4GAgkgIqIQLv3+yRULAEg/VWcCMBgopyzXvwGOBOgwcEYAGwTtxUzrUe6/IgAIIzFYwiRgrlwCbBjYdnLRzZ47OsYSOUAjMAEUYDzoNyHqrYYRCywR2PK/CgFqfHQcA0AOrFo7go1YwLLHswUYB/jtc+CyAgFW7P5HBkABhgGy6uxo/KCQIjwb7eAVPLClgLPZm9Nu3EgBgNDaL19WFSEA2YI6AkSGOlC6R/oA5IfTdhG1hlBf/0mQG2tYbBZABVwgloOBBtG3IEHxCedRcR0tg5thognUFhYdUgDADN1lRKBEHtXQXUHjbObCiwg1IkABFyG0zAUAvBBXQf8wUIA68u0UYwBM7WRPW/cJhNoZJsUIwIxyUcaWkzQWKRB/zQ004UAlgChEfRtANBBUAgaggnUvxOCmQE364WAAlWmJUFsHOWAZngKduE1BaJbVwUwGrZgdQ9jZyZNyAfzTUgBY3ISQpKY5xVpAAAAh+QQFBQABACzwAAIAVQARAAAI/wADCBxIsKDBgwgP8vMjkF/CbWcCLEtocJycAHLUGVQVAAzFjyAHcjFRYCCCHOr+EVzmQsBAFRwpgqEAYCAAE376DSwTQIXOkEAPRggQoUZPlyJUClRHgSgQIBuIjqMopICIGQFmKAigoNHOnj+DihWYo4zSAGtKchkohOg2nf1UBNBBcZm9s+MqzBXoB0mADgO9jh08MEaAHAMvBJhCUA4ABmFDHglQQiDWgjrOEhZL14ZJtAT7lVwjtu1lOW2jBiAjR/PAiR8jBu2nl7HArWjO8nNpO+QZBQJI9+vH0+dHnh9VA23rwKFAwEUIlqnZlmKZChQYANhA5mzxyAcbFf8RMr48efIBsAQtI6DAmbB+FVyUqDgAkI9kECAAAIDC2q/GbTbYGgikFxk/IgRQQAkmKFDAUNV99I86S+ynnkDffaTRR4J9RGAAS7gWAD9CRNBeB2hEdSFF/7T4DxcAROBchtaBpFxCcmx1hIgH9VNgTiy6OCF/G6IRgAkgMfSREDwOlGMARTRpEBgAXCBlAEKq5Ad/PzVS5ZUCEuSHA/aBGRiZ/wm0RABKBtCIkALVAEAHP/XDQACGBZBbmAkNpUCeAx0RVgQ5rKnDVjNoNlSaDnQAxBJYCEFTAcgJRMZQAmXGZ48FHmTCWZ0KVAAQmvWz6EAJFlSBWQapwxBsmxod1GZBqoTFD3JcbBgaQ9sM9I8qYCxRBGP9tBhAQAAAIfkEBQUAAQAs8AACAFYAEQAACP8AAwgcSLCgwYMID6pbE0DOv4SNyqxRl9Dgv4sXDzJkWLGjxwD2hGwAMNDBkn4F13QgGaCADnsdMV4UEQDAmocDgQQ48rEnQlUkO9gIsDKAzoFyEBAVosNBgBc4EcpEAoCkHJQ5AxSJ6rPrshpyCB4BUEDVQJox+j1c5pRMxYyNEIhwYDNjgDUzAuQYaK2rX4NOwaDcRrKR2AAqPpYo0IjuzYERDLr9SznAhgBcBMoBgIBrGc5cDy4BcKSf46hlXgSoIRDMMoR+PIb1qapAAMP9NhfgSqZwRVUKNqA8LfCizq0dj1bUETphvxJPcaqzzVHg0eoHTRS4+c9xwePNC6L/EVKEvPny6Mv4FALAwbKoK4j2vas0gHqEXAAAUdvd5net4VXm0WgIzDZQYwEooIIIBTigwF0ILaNABBQF0N9jWSFX0WsdmeXRFJytgRVBqtTAAGcv+CFAAB4aNAMAU8ghoxwngiHHOBkGmFVHzHWEBWdn9LRGe3YVVEJVSCIpEBYDCaHViAiB4VFmFYEhQAGTfbTXXggVEcOXYBYAgAkxiCjQFHoJ6BMYZGXpURkFMDaQOk7yg1Nop0W1GQI5FHGbmgmpGEAFkg1UxgVAYDHFDCsyORBQAcxnoUzd3RVaEQ8K5CagBA2JkJMCeVoSlY+SJCmlFyJkTVgVclqQPQYSGeSHNVFtA8YRSJABpUD8hAUlpX7Iwc9AAQEAIfkEBQUAAQAs8QACAFUAEQAACP8AAwgcSLCgwYMIDfLzE2CNvYTq0JRRlbDiwWUBuFjcuPEfGBUFBhaoYa3guBkhAwAowbCiHAAwYQpkQFBOgA7/OOo8+G9DgAgzArgIueGhQH4dAjjQIUSEUooJXyLoQJWqipwCbSbdyXXgPyBg+g2UgwDAErEBkCjFGKBf0KBRAeD8R5fuwEYaLwxs2XVjP7QEcwR4kfOf0yIEKRZQF3duXawBdBisAbhvVyFCBf6LAIAMwX8KOleuKfex3axLAlAYO1rguI1luBoOgPhfP85gPiOg3TorAAYdIlyosQZyAK0bbVqM0JtnagXbNJsIAASwcskIXwIoUBZAAMxjb27/XFZESPnz5tOn1rmmAIDcAzUiWCNw21YbCRsdUZVTFf734W1lmWVyhHaEcf+sEEABIqgQWgWRIfSYVzkA4FRW4llkVEV8ucQAAEIYJ1A/RVBQgAAdkDHdERKaRhcaACCAFXIWKVcRcxb54QAAQFQkllj/7IhGiy42siBaDAmYEFQVVVdRI5w5ydEZSiXkIl1gAOCAXYw5MCBBfz3JmQ7NGbQMBWah9Q8Wx6FlJEHLVAAAZZpxtgJmsX1ppU+7FQReADnZsAQWQNCkAmA9pTXQBRsAscQUOigQAANvCoTGagLRqSdPXh7kU50EFaADP5/5pJZAJcQUkwg2EmQPQ0xuHlrQPx2OVWk//JyxxBFclDQrQ74KhNcSRbB5WgABAQAh+QQFBQABACzxAAIAVAARAAAI/wADCBxIsKDBgwgNqpMTQE6/hKrKoBmXEOEyNGcaEZRTBE3FjyAHFukAYCCDIg83iigZoEANdR///ZNjQsBAB2sC9DsSAEjKkEAL9iu5wUaAEiVz/BvoR0GADUCARDj68+C/nAAu5NChAgEYgTx9Bh07sF8MhgOxlPQzcEUAE/wEjqMQAEtFdQ4AFCFob1tDHQFmDFxGFqhMgxcCLBHIr0CAnGkDdFiKcK8JhBsMYqFcuHAJxQ8bASgQd6AcAALscS6Y+OvBMzUCvBioCqHGj5CBjkPwWKCqkvYIrim5ZvVAdY4bFdkQoUMRmGB7Vj3I8+MM4xVnl6DcjzcZztXJTP8XeBoBSQVTA1ywFl1sxdwJyQRdAkDBbYGxL9RuyEAgF4TDAQDAFP3048dUggUQ1nidAcUFAAicUdAyUylgQgkFKOBAAPIddBoAMRDkUQEwLfgRex/t9xEXBRRQxnjL5JAXAir4wRtaBv0GgF0D/YMAADmZWFF1FV33ERgtipfQUkuJhgCDAv2opED/RABAGYr1BBKWH02BHUFktMjFlwcBEUCICZkAAJEB2FMAAGx9hWaDVJIpUBkFCDAmUGu0iGM/QgQwDmUPSlDaP4FGsJQqAhRgw1440nnQMo6lR9CeDVEAxBRT1ODYXgPxs1ZK/6y0ARZk6CAAAK4p1p9/kiY7JBpCgAnkh00DKeAlQaIG4Aep1lyW6xQGjcMQRbEexE+kTBFG5ThgIIEEGcEZxFC1dcqxRBFg+CVQQAAAIfkEBQUAAQAs8QACAFQAEQAACP8AAwgcSLCgwYMIDfLzE2CNvYTj0JRRlRDhv4v/CC47AqZfxY8gBYIxUWBgARvbCo6bIUAggBKNPooAQBPAQJr8/q0JICJjyJ8HLwSIMCOAi5Ib+A20tyGAgwBCOjhdVlFHh6tYHQAQ2pCnT6BgA/zTQearnJJTfB5xas1jvxgBalTE+LUDgLWNsATYcEYgw7CAB9oIMMPjP6lICMZEoC4hxoF+ABSwFiCHwcGBAwsJECPjP61lCP5DAICM44sDdQBwIVBOYq4B5HwlOA5kaKCHA6wVGyGA6YH/Su42SPdiPwalB+7s+XHnx95AEzOoLbBEACAEnWM/WPwfGKeouzL/r7hMSBHz6M+rXwJ0TYHkA/UicG5NamWLxU0AABJ++ezMQMmhAACJEdSPCgEUIIIKCghQwXUeEfeYKu818ph/Hz300V8fCQhAEQf1U4QEBRSwQRkiBFCghKgJ8VI/F3rVHEjQVeQHckL8Z2A/hmnlHHcYRQAAFzCiJkcAHehYUEwfbZeQH1oBEaFtQ03J4hkAKGAPXQHUFoGVAFbUiJBS/rSMkEv49I9eckSI0QwADPYYb6ttdluY3AmFgEGbCZSRDUtgAYQCAazw1T9CpQmcOqStwWUA/ZwhgWBK4vkZQvaJ9ZRJOliJaACK+sneBkXqaA9DFOHJHYcEycGkQPyUEbHEEVxQZhBDtg5EkSpzBhAQACH5BAUFAAEALPEAAgBUABEAAAj/AAMIHEiwoMGDCA3akxNADr+Ey8qg2ZbwoLU1a6wVZHimosePA5GIEDBQgZCHBBuVACCwQIxxHv+VuUCwQpl//wJMCZADpE+E/woEuFAjgAmWM3IKVOVgaAAgEQJ06FdxTQGWQoSIAFAAjcCdPX+KJThjDUEwLM0KnBFAhL2c6jYEWEIVoQoALwjGCKCinxwgAVx4DaBqrGGCHQIUUaogQJmzQ5UerAAATN1/ZABIaGuQ7uHDKxRTVccS5sBGLJclXIll4D8uAEQEWKOD72mEjT6q9amOgWOB9lgWHuiH5WOEsCuo/rfsAgAuX3l+3OlRhdiiG5T+awp9IHUukjsr/0AgQgQCBZ51SvfI0COYn1gAIGgvsHaE3AH8NNVZ9yCYDgAEGMAG70UX1meGgVFAAWQUNA4FASBgQgkIIMBdeATF5wAX44wDhgMAUAfWRxR5hJ9HZCwIBoYBjKODAySZIEdTgxnUjwIAPPZPP/2cAYACVI3oEXUVWedRGQUI0B1QOAVgDVfqIFScUAHghBMCADDUmg0f1ZhQegghWQB4PhVhm5RcvWVlP1cx9JiRCIKEBgI6sYiQHHTuphhhOfWD5RT9NBkfAg9Zs2ANZsrRX5wFqUOnA2xleFoEOuxkg1BCLCrUbkBwpQMYZOhwFWBVYrHfXIsyOtCTCHG5FJUCIS+whEGbDtQPEEIF6KlB6jBUoqoF+YXQcAKpQwYSSIBhz0EMLSsQj8uAUcQRXPwaEAAh+QQFBQABACzxAAIAVQARAAAI/wADCBxIsKDBgwgTKiRobWHBRmUCqENY5p/DiwqXGARy0ETBhgvREEQApB9BLAFqYFx5EMHBGAcrCKQgkN/FEgF0MAhgw6JAlCpZChWo0qRAMgJFEg3QYaC9pkd8HtzAc6AqBQHW+BQSQMXQrwZFBOAqcCfSgUhpImwEQMA2qRxnCMRZMCrYoS/GWrQncBlBVQIBHywDwIHUAGACOCjocaHguwbtLT5rM0AjgpcDnDV4pvA/n/+4BAAw7mdKhygXNsZoQ6DRABFcD0yd2uAyAAAaff6cA7cfk0AvFhEyvDjx4yxFFyD4emCj2AE0IhQBoIS6z2cK4F5jOihklpubq8e7MNBjgdi1DfpRUFiFCAERtPvp7rD0d4IAFEbITzDiwc+NzMAAAArEIMdofAUQ3ELpIbTaQss1x9xr2whU4X+fFUQGABT4JFoNEhrE3UJIHGYQGggAMMVKSARQgokD7XZYDAAA4ZNIL9630IhCYXUGQUcQJKNPYBCoik/2yaUjQpUFABNBKwZGUA4C2XjiQGBsAAQWS7yQHxeHiTaQXUsONBFCIPZlUIkFuaSUZrgN5AAZMJa55BJBnnmQnv8swwUSS1R0WEAAACH5BAUFAAEALPEAAgBUABIAAAj/AAMIHEiwoMGDCA1aWxPAj72E9taUUZXwoDU0aLYdPFOxo0eCEQAMLOCCIsF/QhAIBGDCZEV1NQoILGBD3cAlAXR83JmwBoISAmOojDBuIMoACnQU2RCAQtGE/0wEiBBACNUVN3Py3FpQFb9/A1U5CHBkYKMCBeT0C9BPRAAgFcEEcKCx37KxZATCjcG1L8IcAWoMhDtjrUA0cxP2KwEACcEiAVQE6GAQp1+/MwSu/UeZC8F+ChoaLtivAIBGBP0g7YcGsOSOqC8jBFMAQex/oRkavRAAzGiCqAv8NkwRp86Oliu68MiFAgUFAESsAStQQIBG1AP8c7vk90DECrJr/w8tJ4Dxj0KKpF+vvv3HJQhMB9iQVyA/kdao//uHtYj4gWUAEEE/+v0zFkfnydbXP9sUYVoZAwFw2n4UAuXYQWgAwACFFOZmnlYdWeORKt4dxKEQ0Q2EAADTcciUZwfJAUABHO4nE2oJVpRcQst1VKOMoQm0AQBgZGcgiwjxY9oywAUgUwBTBJDDfwZxhJyPFApEBgBjCZQDAIANVJ4CJQ7UAQBcjBalWwHkhZWCHvWD3X72mQDACwOtAYACJv2TmWADQcakQEgAsAE/9l0AQJQBDAqodnAe1A9LQEwxBRAOAICAH4b9EwMAFHBBhmB8jiaSWvZVAEAJZIAhAgC8DUyEBQNZRWrQP1QV1EGLAv1jD54rRYAYQad22ghTK3Xg0kBPPWXrSf80AgYSRWDhR5ZG/SPHEkeQ8dBB3/b6zxlILDHss1z1Uya6BwUEACH5BAUFAAEALPEAAgBVABIAAAj/AAMIHEiwoMGDCA3akxNgjbqE/xgyTGjwn8V/BscF4NKPosePAtdcKDAQwIY1HQmSiTCQwhmP/JYE2EAyhkWCjQJcAMkzIRgAHWYEqOEgQIE1BMsUADDjyAujSBMuAxAAwFKbGAfm3Nmz68B+1jR+NRGArMB+FAAgwfhPSIAOFNXp4NKoCACsWRuBCcBSoJ+UXgMHIMN3IJoADrIGsKcAwMSKFwPYxSsQiMGnggVzCSBioGWhA/+pCHBEMcGLGCejDuBnSuGQCO19JNxTTgQAmwW6COCWoI6hpkNHVh05wNaPOT0qQC6waAQsBDsvAcw7wIrgAotPDrD6uEexFJF8/vQTAEHzI6HhciQoswTC1duLe8/staM9MEUtC5ResEiA0Qdpdxd3Nxmn00f8jOcVUgU89F91vgUAGmRZxVfgfAklR9FyXf3DAABR/ZZDQTFASGFqdxUXgCoBVPCRNR/91hU/S01EmItfOQAiRBcRp1g/BShAHX0QVeQfAynx8yEZKUHXl0CbRUWgRT6GtgEAJrhFG5EBdnCBDktgIQRcAGChmGsIHFFGEUuBoVhnQmT1DxAxxHBlBHXWAJhIA2HG5UEzCFCQA7mFxuZABUxBXWf+DXQlQQBYpRB5LP6J0DhkyLSElAYtAx0W4GkVwDI4yWHqqXL8ZalXBa7KU0AAACH5BAUFAAEALPEAAgBUABEAAAj/AAMIHEiwoMGDCA3yGzguYQA/Dg/2a1RmTUOC/QJM+RexY0c/GwpeIMORIBoKAyOQyZiwzAsEAAAEKLBC1cCFDjzqTHgmwIYYAiMEEECG4BoEAV4EmCGwjMMWARzE0BEDZoRlAnHu3Erw37htBYF2GPhPRAAgA5cEkMDyoBAu/f7JVeUAAJB+qnoyGCinJNe/AdYEUMASIgJ7A/vl7NlR7r8iAMYiMViiLeCtTimUnKzCco2zlhE6xhI5QCMwgzEe9JsQ9U4/FwIsYWkjQI6CQgJAbSw3BoDbAbRGXBixQGiDF4c6UDvQRYDcBKcEEHHcoFwyAAo0yhq1Y3WCQop09kwuUEhbEwGOsObi0+O/RgoATOae8/JfjvzICP0scMXzgtKN1ZEqEQCgA0HCOcQaQn1t5UcBANgUwGcHEiReZxEROGFBCSZEnEPGcYVSUQGI5xxBt1WY0DIUADBDaBnV59B3BNVA42p7ORVYVG39E5trCC1zAQAvxFXQPwwUoI599klXAGIB/CMUFiUVxQCUAaB2BkvjbACAC3EtGEAJ0wkExo32qSAUEuyRmR5BqBUgxBlHICXdQFCpqEJ2L8Tgp0A6lATSQJUxmZAOBRTEAHPRITVQEazlWVIHMhkkY1bbbWdoQku+uSVC27AXAFYHSWiaHKIFBAAh+QQFBQABACzwAAIAVQARAAAI/wADCBxIsKDBgwgPqhMoZyHCfmsCNEpocJycAA0NqgoAhqLHjwPBUABAsMTFglgcDOwg5x9FkSQFAjDhp9/AMgFU2ATJ82CRAiJmBJihIICCiQOxACiQo4gJo0gRCgEqlCjUmzl39twqUJU9guouBMgxUF1RMjuFxnCJcJk9tgHGVQigQ6AfJAE6DIzKtW8AvCLYYskLV5WAAuO2HglQQqDQgjrg+t0qJECMgUIrE9zAUbLHyo/lVOYcgEzLg8s+ntmKRoGANWw5DybYIoBmkGdcR+zXD6dOjzg9kqa4OgADABfIEIxQWnINup4LlqlA4fgGMnB9a0XYqIgQ7+C/f/8PMJui8oESsMBViQZyABseySBAAAAABS4EtU+erG4JggBTDMTceQPBV9dH//RHX3n6UeQQRXyBxAUADrjUj1j4EfSCbQj+4+GEEfAjUIMJBUfRcDzZQ9I2ArkQQBEF6ZVhQh7WqE59DrX3lEd+fCREdBCS9NVfAZgA1zgFBJAajTW65Ed9OzWCHJD78QTfBjupUkABcuxUWQlwLRFAjwI10qRANQDQwU79MGCZQGhQWWUADnQAxBKDURBAAWVoBQSdS5QBxFIRCRjAjHXeiYUQI/FJEBnMCRTZnAiVENNAFPRJUD86XKpARwP1w9yMIhhUQRnRqdPjkpSi1lERU5wbdJAqUxQBxoMC9dMjiwL9owoYS8AaQD8eBhAQACH5BAUFAAEALPAAAgBWABEAAAj/AAMIHEiwoMGDCA+qWhPAD7+E6gRaS2jwn0WLBxkypMixo0AhDggWqLGtID8dBQQKiDGR4kWLIgIAWPOPIJAARzzqTKhCgYkaAVqk3NCPIFAHQIRUCNChaMKXSAAACCDHqcCbRWru3DqwkVaBchAEAON0DQAEXgOoW7rEZc1GCEQ4mIkxwJoZAXIMbMm1r8AWAYQ4xQvEKhcAG74mLFGg0VyaAyMYJOO3cokAUyIHOPN1nAC1HJcAONLv8dcyLwIAHbsMoZ+Ocnb2E+1gnEB7U1UVZGCXoioFRAOYFmgRq+KDNznqOG4wpwSxJl4LVDXVqkAKYymaKEDz3+OCxjmi/xFShLz58ujLdLyZMoCIjQ0BFDjeIQCXhIcLW/xuM0DWypUtA4R8sQXQyFTHYQcGQssoEEFEAXhHV3//UdQaR7ptpVdqak3Fl0AhcXbQDABMIceJcjAAABhy2HaVf8yB19FyW1FWgVYhwRcAPyl9SFAJUgUZpEBYDCSEf9YdtCBH922VWXABrIDkQGQAIEGM/sWg5ZYFAGBCDGs4lZleAHqkToYDqbNBADSOBUAE42h12ZECqXMkP1odZ9pXcpyVQxEGlpmQHwWoIAQWS+jAmwOqfBXTBmCQoUIAEfBFXQB8vbSfXccVoQCVgiKkSkgFRafYMpcNVEGB03k4kKYS6iJIkDWxQRjqQX5wgcQRXKSV0RJHlJEkP7FZp6kfcjwkUEAAACH5BAUFAAEALPEAAgBVABEAAAj/AAMIHEiwoMGDCA2qkxNgjb2E/Rj66ZewosFlAbhY3MixzAUBAwGIWFPwHxgHAgFcIFlRDoCXLwUyIMiwwz+OOBFOKdBhRoAaMxHIoSiQTIACNYqsCCC0JQAEHaJGVXFTYM2cWAsuU0eQn4gAL6ryiwAAi8B/OgKUcGrzn1u3AxtpvDDQT9a7BOdWNSqhaoBxBQCoSuiy7Vu/aQvWIIo365IAJgamzUHw39ophAEYfjtQzmMKnRkTHLexTM5/axwIMBrgX+QjigMkPuiSQYcIF2qs8RvgqkWGFiOIph2AAkoKGs9uCGCWIJAAPhG6BFAAQUwhNAN02LisiBDv4L+L/39skSQCgRGQDPxXAQCYgkUCtEjY6Iiqm6psBHDfWXvj//ZwwQAARVD0z3JciPZcDAgdtl4OIvW3nUUPWWQXVmcwZeBX6hGkH2UHHXYYGk9V5VtLGwmH1T/WXagfEIz9o0IAHRok4luNHEWUXRNWNJhFMGJFmmACabSBX/woAABwNt5oEgAOwMUVSv8J1M9wleVY2XMqBqCOkhkK9BhdZ5k1lEBaDrRMe4udRdYK2JlWZYMXbKDDElgIsRx/A6mnABJlCBGYnK0tV2OdQCwxhQ4KBMBAmgGgAZpAbc5powsGRfBeZYIOhECC6xk6UAkwwSQCkwTZY9ePlh60DRhLFBixBEsG9aMKZlyQVpld1hAkV6xmwSVQQAAAIfkEBQUAAQAs8QACAFQAEQAACP8AAwgcSLCgwYMIDS5bE8BPwgDqGC7791AhmjONCMopgqaix49HIgAYWCDGsoL9hCAYqEJVxX//5JgQMNABw35HAgDp97EnwhkIStQI8KJAAArqKAoEEkABECEbAlxQ9/AfQwAXcuhQgQCMwJw7fYolqIrnwEYMAiwZKEdAATkC+XUIIOShOgcAihC0ty2AHB0BZgw8ObbwwKE6zAIeOpAMgAhKD+o1gTBqQSyRDYuNEUCvwAsBvA7sZ7QsQtCiDZ4Z+mKgy4MZKzLs2Y9LAQSEA6yES5BCADII1RltVGRDhA5FqH7VaTZhzoozMh+cInClCN4B+I18PXAuFoRyACD/6ABAQYTP1paHfTj7IfCKOY0G6FBmoLWR/ApSRoJwDYD/U/TTjx/nCRYAWM1pNpY1Qrh1BkX2jDQRQXNRd1B4AHA2UEcFUIVgRelVxF1PTJWglFHYCeRbagWp8t93A/2DAAAMffjQcw9FJ5Z/DijlGxmZKdBQggTNSEZz/4hU31pMVVRfRVNIV5FXEZg11HoB+MeAlAOZAACOAdhTAAAOeaWhggHAlFB+BfEjQmBKnVFeiAG4EABgAqUUwDhKcQGABGz+UxdkAajilg16pYhmQeMIYIIQUywBhANNOTTQClJxQcYMADDAnXZDCvSPCABsgAUZOggAQGpLpCUQF4siPmTPeQVdV5A6K4wkUARrRAaqH2b9Yw1lAylgIUHjwDVOrAk1wgUSR3BhqUExrXWkQXDZQxBMcixRBBh9CRQQACH5BAUFAAEALPEAAgBUABEAAAj/AAMIHEiwoMGDCA2qkxNAzriE/Rj6SYjwn8V/BJcdAdOPosePAstUEDAQgAg5HQf+4+Jg4IU1HkUAmAmgJAB+/2CKwAiy58ElBTrMCFCDQQAEDAeCCVCgRpEVR/2kPKijg9WrDgBcEKiTp8+vApepI2ivQ4AZKe1l5SLwn44AJihe9NoBwJEAjbAE2HBG4ESwgAfq3cBzaQWC2woAWJbw4kA/AApYC5DDoI3AmJEEUDGw8luVIgJg8VrQsUAdAFwIlKN562rSAx96LOMzZ1baAksE0ExwKJCpBOda7McAAJmBXT3C9Bjh45rDLSksbbuVLcG3Qw8K/7fUgUWuAXZ6/1wmpEj58+bTL3F+VGCE9W2bHycoJMCLisJNAADyPUByzIGpg0VxdwXwT3UFYYffd6oo1ohj/yVkz0d/+USbAimFBt9ANQTwmUFzBSAEACX0A2F4sBm0HEXNfdWPgwJ1CERBcS2RYlsXRQAAFyZ+x1AHNxLUyEczfjXZYgLpBeRA9iAAQIUgWnQGAArYE+JDEQAHYGMgvtViAOM4uUZKmm2gkl4o4fjPDABcZto/OrpQH25baifBBkAsgYUQZgownUB3KbBEGUAUIEBf1AVgo0rqiBliAP2cIcFANgS55T+cFRTBn20VOhAC1iW6aFvrbdBjivZMpEqdFFkDxhJFTBaxYkH9qDJFAFyMVdBEkxG0qiqmBRAQACH5BAUFAAEALPEAAgBUABEAAAj/AAMIHEiwoMGDCA1aWyOQX0J7DFUlPLhwjbWCcgKcmcix48ApEQAMLLBCYsEiCAaaaMTxX5kLBCuU+fcvwJQAOTzqTJgDQYkaAWKkjHBxoJAACHQE6BAgwriaCNcUEClEiAgABdAIvJlzp1eCqhwOVOUgQBGojQoUYBigX4kAQPolVAHgBcEYAVT0kwMkgAutAUx+HSxQ6QyjAewOXAPAgVyEFQCAefyPDAAJAUQYXPKY8FegfQVqxlKQQYCMCEsAIC3wHxcAmtcoVTGQ5UHbE9nqBKMWd1nAAzcE4ALV4OsKywL8W3YBAJetODve5EibIxcKARQs1R2gQAA/nQO8/0UycYkCBCJEIFDAGXrXiagngpHeXeAGMp1FChZo92hCMB0AIGAAG8znnmcIblOEd2SM9F1BJgRwREJYNMbFOOOA4QAA03HV0TYd4aZTEUtBpR13SwXAmkH9KABAGcr1088ZACggl4ccTTdRdTvJAQACUDH1HEFloTiQH1i1RtM/CACQEWk2dARcQu3tBCMDUCkV5ZE/imUQkgXYs+Q//UyVEYw8IjhYP7StMJCPCKgCFVCHDUSinG01OUU/NKnYZQDWqFUDiXKEp2ZBBbw1xRRARIAUajIeFsFzNdQoone6AYGVDmCQocNUof2DRVkCVXloQf04WlAHKNoTg0gCOS+AIqYD9QOEdwJuapA6GYF4KkIskYeFHwj948cSAeBnUEb21NrPMmAUcQQXvgYQEAAh+QQFBQABACzxAAIAVQARAAAI/wADCBxIsKDBgwgTKgzAbyHCRmUCqENY5p/DixgFCgjQyCLBIwoGlriIhiACIP0IYglQI6PLgjoCiCjoYBvBIgetXRypg0EAGx4DrGz5sqjBZQKFDFRl0EQAHUENbvi5NOQaj0pVGN1KEEiAGAVXEJQTQEFUgo0ACNgW1OsMgSMLHjnL1WGOpyIDLBnYr5+DAGsoAnAQFUyAvwSdLmRa1yAZgX4KRiTYQSjCM4P/efzHJQCAcQKHOly5ULFCwwkRBJATVSvOg8sAAOio+V8O2X5SinZYREjv376DO0xJ8ELBAhwLgg1A3KAIACXUaT5TQHZgy0Qbuxx3pCBxsgRdN80v6EfBYBUiBESoHhm7Q9DaCyIJMFXg3zMFZ04ZP1BzoxkMAKBADGQBYE9oLI3mkGkYRYacSgVFEEBJB9VWEBkAUOBRZzXwZ9B1CiFBl0IlhSSQVx0O1IhAB1Zo4UAxAACERyWVMGJ8CwrU3IoC2fDVRwTVpplAYAioikfwvYWjSw8GoBlRK/mIQHsEURgAGBsAgcUSLwAQABdRdTbQXEv2V4FUBvGj5EBWCqSalRh6aR8ZN5aJkCpc7KXjQmA0dNBEAv2zDBdILFFRVAEBACH5BAUFAAEALPEAAgBUABIAAAj/AAMIHEiwoMGDCBP6sZfwn8N/CQ9aQ4Nm28EzETNqHLikYAEXqgiqWzJjQ4EANhxqVFfjZIACNtRxDKBjo82ENQKUKBhh3EA/AAIAKAAgpcqGJgJECCBk6YqZNW9KjRgywJGBy3SAaQSk6MOIYAI4sNhvmYMAZAQCCRBjqluEOQLkFPivX78AXY1CRNivBAAkBIsEUBGgg8GOb9/OYHo3wNe8D/ca7Ee0EUE/ART0QxOXcEbLiRGGRQDascq8piUXtFygscDGITtGjYg4oguNXAiKKPi4aGqEaDKr/qcggJwAsjcKKbK8OfPnGv/VDrDB8cDeNlKrHlgGQIR+ex2e7cWYPPTbbYIDlKGLXftBNAAYRHZYfA1ymhqtaVTlWnmA3exBhFpkB8kx1Hz/nGRZebRpdJtUxxUXIF6+fXUQP0QtQxBrAk0RQA7bGYRRRtNtlNZZAf4DmYUHdQAAF655CGBaT5mnUX8C8ZPUCymq6NVRAgmmoUBIALABPzleAICHAQw5l3U2TgZAUgOdhYAfrukwQwwVeBdDDHENFJQcjfHTZQlkgCECABcQhAUDM0V50FIFGcZTUGLGR9CYjf3TSHUCAdBBVQT5FIChchrUCBiA0WWQH3JEKqkcmBXE0HX/nIHEEsEl6pZdntoUEAAh+QQFBQABACzxAAIAVQASAAAI/wADCBxIsKDBgwgN2pMTYI26hBAh/pv4z+C4AFz6Rdy4cc2FAgMBbFijUeA/MDo6IAgQgSO/JQE2gIwxkWCjABc46kwIBkCHGQFqOAhQYM3Afy0HJo24DEAAAAUA0Kw48GbOnVgH9rN2UauJAF8F9hOyRE4ZlhzV6eDSqIhUigIbgUEr0E/JrHgDkKFrsuIZvgkpVnQ7lSoQgy/yKuYSQMTBv0sDwyUsOICfKXyNHrS3ce9OOREAMDYIeWNlynADWN14M6IC1gKHRsCCsHTE1IQDVF4dsStEJBv9BFgZwMGR2oARnpaqu6ZqnIrzarQHZuhh0skP4maemjdEfsGzGrot8LCgbYnOc3eHHrE1xNdY/zEAoJngeck1UVMNoCpAhY3WbKRDVvxExZB52WlHkX5aFaDAXdFJZNA/RQTAAIQC3TcQY/UJxqBJGwBgghB6RRhYBxfosAQWQnTwFBb7YRFDACUMJ1AM7jkmBFX/ABFDDCFG8GMNd3k0UGImIjSDAAU5MNpANhwEgBwlOVbhQCESBABUCgnXX5IIjUMGTEvUR9CXBcnBWVwBLGOTHHDGKYddYGblXJ06BQQAIfkEBQUAAQAs8QACAFQAEQAACP8AAwgcSLCgwYMIDfIbOC6hw4T9GpVZ05BgvwBT/j3cuNHPhoIXyGgcSCZACQUBUG4s8wIBAAABCqxQNXChA444E54JsCGGwAgBBJQc+HGgyoctAjiIoSOGywjLBNrMSZXgv3HbCvrsMPBfkQBr5KTkKIRLv39oVTkAAKSfqp0MBsoZWbUu2JQXC4o9ihOtVwBckRgskddu1TIBKNCVO5aqXyyAAzQC01hgYasbKef0cyHAkssC91b1GwNADqlKNy58WAC0wYpBHSxBKNrxPzIACjRCffOh64JCvj6ELVDI79o5/zVSAEAwb8N2NfIjA7TGQeQ4VUUAoIPg1IeLaYeuf+inAACaeitz1B7AuvfUD1c7bF2VQoChBLE/XEYBwAzQF/Xm0G8F1UAgQv/EhVh6fDm0zAUAvHBWQQkWoA500E0Rkz0G6ScQZWfkNc4GALhw1nglBCDChwdiqAJQSHBhkkBHEKSZCjExJlBS3QmkQm4vxCCkQDqM5NFAhGGYkA4FFMTAbAQBgZBIOwZQpEAdwGSQgFLttpuSCV0YQI0hGhTVQWIOhJ5kYh30T0AAACH5BAUFAAEALPAAAgBVABEAAAj/AAMIHEiwoMGDCA+qEyhnYcKHCMfJCdDQoKoAYCBq3AiGAgCCJSYSxGKjQ4EAJTh6HAjAhJ9+A8sEUAFzo82DRQqImBFghoIAChoRPDkwpUYhOnn6BCpUoEyaN6MSVGWPoLoLAXIM7KcDi58pKDcus/dv4LgKAXQI9IMkQIeBTaXKFdhWRNmCYI3KPRK2p0Edd+dKFRIgxsG8ggnzpEh4g0AycgITXKbxTFQ0CgSskSwQsdwzmdcE6Nfvac2EMiE6hmg5AAMAF8gg9LyxTAUKrzeQCWwaYqMiQoALDx48ABaNsgdKwMK5c9+NZBAgAACAAheCvQXPVbcEQQCwBmnb0fzHffpxpzNPI3T4MK5NLgAcNBev8Z/9f/Aj8EMP9WHqh6vdZM9H24T3XH33kUedQ2gEYIJGfhzVXHsfVYXXgQ8lWJYf1NXUCGwTameTDQFsoJ5zehG0RAARCtRIggLVAEAHNfXDQGECoRGiiAE40AEQSxxHQQAFlHFaEQK95cBAFgYQQQDXCeQjkFgI4VGRBJHxpECA8YhQCR8RRIGRBD2okED9PBllACIYVEEZzakTIWVeIrRMRkVMIVJB7hF0Vz8RFijQP6qAsUSeo9kXQEAAACH5BAUFAAEALPAAAgBWABEAAAj/AAMIHEiwoMGDCA+qWhPAD7+EEBP+mzjxIEOGETNmFOKAYIEa2wguQzKDgoAAQjRSnCgiAIA1/wgCCXBEo82EKhSYqBGgRYEAG/oNLAOAYMqMK5EAKCpH6MCZRWLenDqwkVSBchAEAONUDhAwqmagVBmzEQIRDl5WDLBGbI6B1qjKJdgCpVOCYo/aLFGgUVqYAyMYJDO3cIkAUw7mvbkEwJF+f6+WeRGA59ZlCP1klHOzX2MH4xSP1ahKQdAAkQVOhHoV4cyIOlofrClBqwnNovVGNFEA5r+/BVlHRCOkSPHjxpOXyTjzZwARGA0uzsgFAJB+E4HLDBC1cOFlQAAU1uAsfTTEZQoiqFOd+il32QYxR1RF9S3l8roRzgAwRY5/OQwAAIYcoQkkHESvQRTbVIRVAN90EJWw1IQTCoTFQCkVcRdCYFBHVWKnFQRhQkXEYOKJBQBgQgxrOJXYW95ppA59BKmzQQALimjeQOqkxI9UskV2lRwAIJBDEQE0EmNCfhSgghBYLKEDA6ipcpVlgl1goFSqFBWXaiv9xpZsRSgwEGFLKtRRQbe1ppVBF3Dp5UBh/vYSQtZwtl6amXGBxBFcWGUQbgUpKRA/nG0Yph9yPCRQQAAAIfkEBQUAAQAs8QACAFUAEQAACP8AAwgcSLCgwYMIDaqTE2CNvYQQIyZcFoCLxIsRy1wQMBCAiDUE/3HJ0QFBgA39JMoBwJKlQAYEGXb4h7GmwSkFOswIUAMmAjkpA/xTQBClSgAIOihVqoKmQJk2ow5cpo4gPxEBXjilOUUOmJNBIa6c+a9s2YGNLF4Y6EeqW4FqnRL8ajTiWLNmB+owWCPs25pLApg4SNcvwrt45coJTGEg0IPjJJap+W+NAwFkCIM9yqBDhAs11sgNANWuxAiGDTKk4CAABYua64plWQCBSyExA3SQuKyIEN/AfwsPHBGkyQARkCAsLLHREVU0VdkIAODrU91/39rjwgBAkdTMIeLPHfgvh0fH2CM+jNjW5pkACMBvFp+4LBqkTkuLPZ1avO32c82XUH1lNRJAAUG1tVtEqkgERH8JRQZAgwWFNyCBYADgwFlVtZZdAP1AKJSBIQGBnHyyCfQPFqQFReJUFQDQl4oRALACbpN9eNA/F2ygwxJYCLEBddYJRBxWRAUQA0VCDamcQD0CscQUOhDFwIsBoNGYQDPqWNA/LhgUQZECxXAQACT+4+RAJbTUkggMGWRPWxR6adA2YCxRxBIgGVRnTPyo2JY1BKWlJ4tnCRQQACH5BAUFAAEALPEAAgBUABEAAAj/AAMIHEiwoMGDCA0uWxPAT8KHEAMsQ3OmEUE5RdBE3AjxSAQAAwvEWEZwHJIZFwoE0PEv4r9/ckwIGOiAYb8jAYD048jT4AwEJWoEeKGSgrqWAeSAHMjSJUMAF3LoUIEAjECcOntqFahq58BGDAIs+RqAiyodK5E+VOcAQBGC9rYlRTtjIMmteAMI1eGVINqmEN+aQLjBIBa1eXnGCPDW4F/ECC8EsHrwjNAXA1UhtAiRIcd+XAoguFvwMUR1KhsV2RChQxF1A7H2RYgT4gzIBqcIRBBAhByEph8qRdABgIIIAi9Yu5pz9kHPD8lExKkyQIcywNN2BsB9Sr9+fpDX8g0gOzFea0IEFDiDO3hCpQAWD9RYAHb5h8shau4JJECJ9to9pAp3WBD0DwIAMHRfQrU9dFtPawDgAICAPYQgGX398xF2Y/UHEXYQTYHbQ1ZF4NxKAT5kAgANBmBPAQA4ZJV85r2UED8G8SNCAA+WlqJA/QgRwDhIcQGABDgG8I+QEbSkino2vPWbeQiNI4AJQkyxBBAOBKCAQ0wJREEAYwbID0h+ePWPCABsgAUZOggAAGVihSUQF1QiZA9yBflWUJcGTSjQmQ2pac1gAymgW0Hj/DZOngk1wgUSR3ABZkGXDuSHH2r9Zo+BMC1RBBhyCRQQACH5BAUFAAEALPEAAgBUABEAAAj/AAMIHEiwoMGDCA2qkxNAzriEECP+m/iP4LIjYPpF3LixTAUBAwGIkKNR4D8uOTogCNChJEQRAGICCAmA3781AURU5Mjz4JICHWYEqMEgAAKGJlcObLlRR4enUB0AuCAQp86eWC2qI2ivQ4AZJStOkQOGpcuEFHeyBHAkQCMsATacEegnq12CcDeoHViWqcSJA/0AKGAtQA6DNu4qRhJAxcG+ZxFSHKgDgAuBchhTxbx34MOIZXrelBraIOS/afsxAEBmoNXOBnFGjLBxTYUADgJQKPvYLGqKZR0ADvA64jIhRZArT858SW2jAiM47+0Xbdp/JgAAGV5c8V11WFa32zXtG2LaAKoKAGg0uXtCexvrYg2tIHKA0+YnCwFQol/7nLAVJBtEtGHVj3qNkFeddRNFAAAX/gHGUAcBEpRgREBkVRgAyyhon0EUnQGAAvac91AEH3oHIog6BFBgQfgN9A9cJJk00QwAJDZZAP846IIQAZSm4kH/SLABEEtgIcQGAQjAm0DTiRCAAgLFUBiPVC2h1j/qIADAGucF0M8ZEgxkQ4Uq/uNYQRE8KdALBwGgikb/ZLmlcxtECJs9dakyJETWgLFEEVMMSJCfBclRI10BXDmQn6rsGEBAAAAh+QQFBQABACzxAAIAVAARAAAI/wADCBxIsKDBgwgNWlsjkF/Chw8XrrFWUE6AMxAzapwSAcDAAitUEbS3pMaFAgFqaPxX5gLBCmX+/QswJUAOjTgT5kBQQmUMBAEiUBTYyONAlRnXFPAoRIgIAAXQCKx5M6dVgqocDlTlIECRmQGs6eDSCEhKsA9VAHhBMEYAFf3kmHUhNYDIq3gH6ggw46DZGmgTVgAApp/Af2QASAggwuASw3nxqjRr8G9ghCUAYBn4jwuAxmv2qhjYCGFpiAxzgilQ4HRByxk9V1gW4N+yCwC4TLWZsSbE0RC5UAigIECH1JXPalyiAIEIEQgUPN5d9aFFiGB6B0AZYAMZyK+VZ/AE0wGA+e7ZqUdev60ISjJ+xT/EAsABl3HjwDgA4Jtqxm0ZuYZTEcZdFgBsD/WjAABl1NZPP2cAoIBh/kHkW1pXyQEAAgYimJAfUB0m0z8IAGDRZjZkVNdD0+XUIAMdyocQiAXYM+I//SxlUYPArZdXP6OtEB9gBhGoykz9lDhFPzIFQB8CDlnDWg0EygGejwYVUAJNUwARQQAIXCcQZS59GYANaKGEHBBQ6QAGGTosRdk/WHQlUItYFtSPmQQdV9BwBk0IlpoD9QMESua1aZA6FgGYp2kBIOGkHwcJOJAfaFlkT6H9LANGEUdw4WgAAQEAIfkEBQUAAQAs8QACAFUAEQAACP8AAwgcSLCgwYMIEypcqLBRmQDqEJb5x7CiRYECAjSiWHCDwBkcF6IhiABIP4JYAtS4yLKgjgAiCjrYNlBVQZAXSwTQwSCAjZApV7YcanCZQCEDxw1EOqOiRxs1FQRYwxGpCqJYCQIJEOMgU4aNAAjYFnJr0wA6Cx4JmdVijp1eA5xVWAaAA7ZgAjgoaIKhzbYGyQj0E3duwjN2/3H8xyUAAKUBgjJMubDvwrwVvy5cBgDARsX/cnT2c1IywyJCUKtOzZrhSYIXEmpeKAJACXWKzxTovEagacAsxx1ROFuhHwV2VYgQEGE34cgqGUIGThBJAI8GiyNU3GgGAwAKYsiQcWzPd/SFlBVavki4QGGGoAuSAUCBY+MarxP2XoiELcORUmUnF3zxDRQDAEBwNFIJ/lFn0XoEaSfQcAOBpphAYICnCkeQGeZgRe4xJBRBI2G4ARBYLPECAAFwwVZjA631YYUVGIQdbAchEBICAZQYwHwsCuQAGQ3OqJAqXCwxUH6uFRSRQP8swwUSS0zEVkAAACH5BAUFAAEALPEAAgBUABIAAAj/AAMIHEiwoMGDCBP6sYeQn58yaxgmNGgNDZptB89M3Mhx4JKCBVyoIgjGRAEAAAIUsIFxo7oaBQSuVOcxgI6OOBPWCFCiYIRxAvtdCBBhhg4XJzfwm/jPBNEAQiIEWFHzZs6rE0cGODJQB5l/YP/JOTllIpgADjD2W+YgABmBQALEwEoXYY4AOw2GtQFgRsJ+JQAgIVgkgIoAHQx+rFvXr5B+esECATAXYb+TjQj6CaCgH5q7hzdmZozwLILRBcN2AMAVYeYCkAfGHvnR6sTFE11w5EJQREKwSAAwAIoQDed/BP8pCCAnQO2OQopEny69Osd/uANsCIBc75qTbxOW9QEQoV93sG01Piddd1vhAGUOylEgeCMa4WHDLl/j3CZHaxypEhtOQgTgW0HzBfDeRHIAUEB+YMWU2Xq3caTbVc0tpxkDAAjR3UT8nLQMQa8JVFYOHyKk0UbZdfRWWwP54QAAQIDV0WpcDFjWgW9RxR5HAw7Ej1MvDNTIjECYl+JAhY0oUHBKCcTPBQCUFYCTeXH340H9AODUQG0h4EdsVCIgVwyVFThQSnLExk8FAJRABhgiADDUQFgwUNOWB0lVUGIEzXgQoAKxGds/jWxXaAdaEUQccXwa1AgYgwm0pB/NSbqkRJb+cwYSSxgXKV39BDnqRAEBACH5BAUFAAEALPEAAgBVABIAAAj/AAMIHEiwoMGDCA3akxNgjTqE/1QFQGMt4cF/GP8ZHBeASz+LIEMKXHOhwEAAG9Z8HFlDwckSDC3yWxJgg8kYGAk2CnBBpM+EYAB0mBGghoMABdYI/KcjgIIWAWYwcOpn5cFlAAIAKAAAp8aBO3v+HDuwnzWOZU0EUCtwyZKHAsf1fGFRnQ4ujYp0zSiwEZgAEQZWJUt4IBnAFv8ehchXr9evQAzSLVyYSwARFpUuvth4L18/UxCPRGgv5OGfciIAsJwwsgqrBTNqdCy7L8+QO0G6BJn7aAQsmbmiScg3gOMAtcOGRGsRSUg/ARAIdHAk4bbATYl3joE8ZwDllAl/3LQH5mjkjRsCrIBtsPjx4uBlPiertADcgeo6rOUH0n3X7l/Fl1BuFu320z8MAKAUfpiVUFp/2xUXgEQVhFQRSNn9xA9XMQVgTwmX3QchRrR5F0A/BSjAXngQtVdEAAysxI8KAXQgYkGWLQjgPyV+hdwGAJggRACnsXhRBxfosAQWQugHABZfNQUAVARxNxBmQnz1DxAxxABkBF3WYBVJA01m5EEzCFCQA6wJZKVBWV1pHEFAEgTAVgpBJ9GZCI1DBk1L6DjQngZ1+F0Ay+gkx6KMyjEYn2OZCKlIAQEAIfkEBQUAAQAs8QACAFQAEQAACP8AAwgcSLCgwYMIDfIbOC5hgDNnljks2K9RmTUNCfYLMOXfxI8f/WwoeIGMR4FybDgg2GHNxDIvEAAAEKDAClUDF64EyRPhmQAbYgiMEEAAmYFFAiBQEaDGSgRrTh5sEcBBDB0xZEaQGEBnz68E/43bVlBoh4FcimQMoE5EgBIbEQrh0u+fXVUOAADpp+ong4FypIId7FJB3INoavK0+68IgLNIDMIdTDlAmQAUBBdspBgkYyyPAzQCE0CBxoOaD5Lu6edCgCWHDR4J0CE1arsxAOQQ6HXiwokFYh9cK8DBEod+EARY/dEuGQAFOHet+lG4QSFJJ64VKMS6QHUjZ3jSR91IAYDIvKlXHuyRHxmiNQ7aK/HWXk9VEQDoINjboe2CgX3lRwEA4MSfCbSpcx98BfWX0G8OBQcWBQEclRNTG2w30TIUACAeReo5NB5BNYyI2l+XCdSPUBeQxdMyFwDwQl0F/cNAAQquV9kUNdkXwIqYcaXaQ3GNswEALtSVGn1uLWfieioQhQQXbwk0G3cCIVjQWlTtJ5AK0L0Qw5gC6XCSSANNpiNCOhRQEAPHDeTlQQYG0OVJHdBk0E45cSbdmgjlONsZT55GUJ2NyIHQPwEBACH5BAUFAAEALPAAAgBVABEAAAj/AAMIHEiwoMGDCA+qEyhn4cF+jcqsGZfQ4Dg5ARoaVBUATMWPIAeCoQCAYAmMA8u8QDCwwAqOFUeWFAjAhJ9+KQOowBmy58EiBUTMCDBDQQAFjQa6COAgRoAYLCMsqygk6NCiR5MKLKOTp8+vAlXZI6juQoAcA4Vw8arKQQAgFZfZ+zdwXIUAOgT6QRKgw0CtYAML5CuCLsIifcEeCVBC4NCCOgwLBivkaUUsfb2GrPxYTuUNAsnIkUxw6sczX9EoELCGdEGnaH2eWb0mQL9+XHd+5PoR9GmBDABcIFORDIACfkCWqUAh+AYyknNrPtioiBDr2K9fD4D5I/GBErC4+v5rFMl4g2QQIAAAgAIXgtInT1a3hOWUg6oi4D2P8B/99d0FEF9FDlUEWE9cAOCAa/kFUAN/B/0j4T8JRsDPVl3tBpJvPtlT0jalUUDUdBVNKKE67DmERgAmgJTcR0JASF1JYwlkjVkvkJiQiXT5wR5PjQgno3wf2RDABjyNA5oLOgq0RAAvBtCIiQLVAEAHPPXDgGUBoDHkZA50AMQSmIlYQBk8qRBAAS9A5pV+7wkU5phYCEHSmQSRoZ9AkRGZUAkzDUQBmgP5ddCCAvUD50AiGFRBGeOpk5xpfiK0jEdFTIESQQcS5Idh/SQHokD/qALGEpnaJmEAAQEAIfkEBQUAAQAs8AACAFYAEQAACP8AAwgcSLCgwYMID6paE8APP4T25Ajsl9Dgv4sXDzJkWLGjR4FCHBAsUGMbwSklCgxEAERdR4wXRQQAsOYfQSABjnzcmVCFAhM1ArRQuYGiQJEUgqoAEECFUYQwkQBgKudpAJxFbPLcOrCRVoFyEAQAY9TGma9lVJL5atFmIwQiHNDMGGDNjAA5BlrjypdgiwBCrBLsZ+Kq4IMpG8mtOTCCQTJ9I5cIMKViUB1sDy4BcKTfYrQvAgQduwyhH48Sd/bb7GBcQn6OyVZUpaBogM8CL2LNbBBnR8wddUoQa+J0QpwSHlY0UaDmv8UFd3dEI6RI9evWs5fxiFNlABEcD4L8AdC8IxcAQPpdhH4zQNbIkZcBIZ+6YNoCXDouUxDBZYDnc7X3XkWldaQKV3mFVhAaKmHh0QwATCHHhHIwAAAYcrgmkHQV+VYRcDxBVgFba4g1BW8GlTDViisK5CBI7h1WEBge5bdVZbaBJRYSKBpURAxABlkAACbEsIZRleUF30fqHEiQOhsEAKIcCuSUkDpCBMCPVpl99pUcACCQQxEBNLJkQn4UoIIQWCyhAwO3qWJTP1U6EENBSwykClN75QbTc3VlVkSVAkF2pkIiFVTcVwIgpGAAewbQ539/smeQNRL5d+hBfnCBxBFceFVQfQU5qaVEVv3phxzKBRAQACH5BAUFAAEALPEAAgBVABEAAAj/AAMIHEiwoMGDCA2qkxNgjT2E/xoJ3Jaw4sFlAbhY3MixzAUBAwGIWENwzQwFIVX4sSgHgEuXAhkQZNjhH8ebCKcU6DAjQA2ZCOT0E1gjgIIXAU4GYCAxYUsEHaJGVWFTIE2cWAsuU0eQn4gAL6oimfJQoLUIPiu2rPmvbduBjTReGLgyq92Bcqsa/IclAAW1ANi61avDYI2hd+0uCWCiIpkAaJ0GHvzW6uK/VhEXHLexDM5/axwIeAyxcAy9Blsy6BDhQo01qK+y3BhBM0KGFBz41ZgQTQEAJCUDKIAAppCZATpsXFZESPPnzqMvtkgSgcAISBKqcgBAiG2DjY6o+bKpykYAAGAGyk581x4XBgCKfA9g7QKAnhUHD/yXQ6T65BuVVVFdOJ0RAALfbTOXC/MVRJlbaACAQFXrOUVbgwn9UxyBAYyjnAr8bPRgWxIVgNhKylmkykZAYIgQZwCsKJA6X5kQoogjggGAA29xpRt7AvXjYkQOAgEZYvZ8VYKADvYllEBNDbRMBQAcJtA/EQCwwnGeAQnRBRvosAQWQmxwXnoB/FMUAEgRVNSVZmYnEJhALDGFDigxRRAamPnkInv/uGBQBGgKpAJCBewX50AlvPSSCAwZZM9KMnqJ0DZgLFHEEsERVGlBfiD2z0rWEBSXpn1VFkBAAAAh+QQFBQABACzxAAIAVAARAAAI/wADCBxIsKDBgwgNLlsTwE9Cfg4D8EuIcBmaM40IyimChqLHjwOPRAAwsECMZQS5mChQMoc6j//+yTEhYKADhv2OBADSD6RPhDMQlKgR4AVLCur+CaQQIMKMAC5YiuiZ8B9DABdy6FCBAIxAnTx/iiWoiqrARgwCLBmog4xSgWtYcqGozgGAIgTtbQsgR0eApwJRjh08kKgOswaf1nh7EK8JhBsMYmFMWGyMAHgT+iWa8EIArwfPEH0xUBXCjB4Z+uzHpQACwZDVJlTHslGRDRE6FHn5dSfigzo9zqB8cIpABAFEyKFYBIADewnlAEDQAYCCCAIvWOsdlqJqimQ+6v9kGaBDmYRnWJYhTnANgPdT+vXzgx0w2N+Vf1oTIqDAGfZrIGccRdIBcNlAHRXw0n0ebeeRaWIBEUAJxMmBHBLsFaTKe1gQ9A8CADDEIEXBUTScWO45QJkcCmCWoUEgkmHWPyOdt5aEHp3n0RQvIuRVBGb54cBOPRZkAgAlBmBPAQA45NWB+QUQ00MG8SPCX28JSSRC/QgRwDhvcQGABBNJ6WUESqnSnw14LRclQuMIYIIQUywBxJAKRNRUAApAKVARb/FDkh9U/SMCABtgQYYOAgAAmlppCTTXmwfZg11ByhHU4kElDCRoQ4Va89hACgxI0DjLjUNpQo1wgcQRXOgVOZCsBDXC2HLQDRSTHEsUAcZeAgUEACH5BAUFAAEALPEAAgBUABEAAAj/AAMIHEiwoMGDCA2qkxNAzjiE/xoFQPMw4cF/GP8RXHYETD+LIEMKLFNBwEAAIuR8FIhmhoKBAlRItCgCgE0AJwHw+7cmgAiNIoMeXFKgw4wANRgEQMBQ4FEGLwLMQBDAgSqLOjpo3eoAwAWBPX8KHbtRHUF7HaSuPDKF38BlEQLYsJgRaIAOAI4EaIQlwIYzAv2QHUyw7wa7BpcE+Jow40A/AApYC5DD4FzChJEEUGGRTAAKdDEO1AHAhUA5mhk3RDywosUyQnl2hZ1w7lGIdf/1YwDAM1ifrA32BBkX5JoKVT+DsXhGQAGVuOsudyA6QNjgBZcJKbK9O/fvio0v+RUYIfxBVQ4CCAld1wQAINWvY8asDgtvvQaXIb/d2LGqAgA04ph8FtkTkmBjwabASgNZ81UMDEankRAAlNDPgMCJRxxZ/QA4k0DbbBBACxH2h1EEAHBxoWgMdYAdQR8mBARZkwGwTGtpmeCWSBmdAYAC9tQVwEMRlDgfRAb9o0MAxQWgTo47JtkXdAFkNAMAczlWJYourEfbkRdJsAEQS2AhhIgCLOdUAAJERVANA/3z1RJ2/aMOAgCsIWQA/ZwhwUA2vHjkP5wVFIGaApmAEFUCyRkAnXEqtsGKwdkj2FVgJmQNGEsUMcVwMCKEYGABTEbQVapoGUBAAAAh+QQFBQABACzxAAIAVAARAAAI/wADCBxIsKDBgwgNWlsjkB9Cfn4CrLGX8ODCNdYKyglwpqLHjwOnRAAwsMAKVQTBqChQskbGiv/KXCBYocy/fwGmBMgBsmfCHAhK1AgQA0GACC8DbDg6I4ALlhsoJlxTgKQQISIAFEAjUCdPn2AJqnI4UJWDAEVwBgACpt9AOUaXuEWoAsALgjECqOgnB4hTrgFQhh08UEeApgH6zSXI827CCgDaCvxHBoCEACIMyiVMeKjfhEKcViwBAMvAf1wAZF5jWMXARghhe2ToE0yBArIRZi5SMXWFZQH+LbsAgEvXnR91enTtkQuFAAoCdKCNcAkABdvUVleAQIQIBAo25/9E7nGjRzDJA7BUSmZxQaoB0J/vAKC+Uvnjv3ImvK0ISzIHyRHdER9hAYADXIwzDhgOAKCcVx9t81FuPfHWgXYCycFAAEJgeFA/CgBQRnCKnXGdWxB6pFxFzPkkBwAIYOjHWUB4eJAfWk120z8IALCRaTZ8BFhF4vU0IgPaNRLBWu4lhGMB9uz4Tz9VbTRii/sN1o9rK7y2pA5NEsSbKjj10+MU/dwUgIEIOGTNbTXwJkeYWZZUQk5TALEkAuYpFQACeREUWkkSDQSEVjqAQYYOVX32DxZnCVRknQT1s2RB0xEUqUEdLMYSdf0AwVJ9iBqkzkYSUhpbAEisGVFBrxoRROFGUiXWzzJgFHEEF6kGEBAAIfkEBQUAAQAs8QACAFUAEQAACP8AAwgcSLCgwYMIEyrsp1BhozIB1CEs86+hxYsFBQRoVDHhjG0W0RBEAIThQCwBamBceVBHABEFHYAU2EFgjAAvBF7AWCKADgYBbHQMgFIly6MIlwkUUpCfQSRDDW4IOlCVggBrOjJVgbSrQSABbgb4F1WgyxYJGwEQsG0o2BkCexY8UtbrxRw+FRYJwHUiAAdRwQRwUNCERVV2EZIR6MciU4Rn/pIV+I9LAADjBBa1iLKh4YaCV04RqDQpAAAcyf7LcdoPw80WiwiRTXu2bYsmB+5MKGdg7oMiAJRQR/ZMgdNrNKdM3HXcEYV+gBb5fdCPgr8qRAiIcLwx0eUNMzOmfxpgakHvAagbJNtoBgMACmL0BmBPuVGFnRV+Xtm4QEL1601GEBkAUNCRZTUASFByDUHFkkhXGaRDXQepFlUMAADRkUglUDjeRfshlpKHATw3kIUdgQGfKh2JB9eHR/k3UE0HgVWQSAKBsQEQWCzxAgABcBGVZQPRBSNB/1QgVUERIGSeQAgEgGMABAIpkANkkHgkQqpwsYRvdklE2TJcILEERVEFBAAh+QQFBQABACzxAAIAVAASAAAI/wADCBxIsKDBgwgT+rGHUJ2cAHLGJTxoDQ2abQfPTNzIceCSggVcqCJYpoKAgQBEyOm3UV2NAgIL2FDnMYCOjjgT1ghQomAEiQKXFOgwI0ANBgEQPEz4z0SACAGEQF1R82bOqxNHBjgycJm6fwPtdQgwgyVCMAEcYOy3zEEAMgKBBIiBtS7CHEYnYgmwIWG/EgCQECwSQEWAsQU/2rVbVIjZg4In9isAoBFBPwEU9EOD1/BGy4vPJgV9cI3bMgktF3gcwOzIj1YnKp7ogiMXgiJKV6DgAAAFMGARoskcXOA/BRADwO4opEjz586jc/w3m2+A4gLXIEAAAECEJdgLlv/x3i/4v39uNS4PbXcb4QCoDf5Th4UBAK7CATA4z/94gDXK2cSRNRypwhpHQgSQW0H9kQGAZgjJAUAB/Z0Hk2XrycZRbVc9hBxBFU5WGUL8ULYMQaoJNEUAOYRnkEYbVdcRXG4N1J9A1nR3IkIdAMDFYysuCBdV7HF0YAD8OPXCQI3wN5AO3g0WwI4BIAHABvwIxM8FAKw4pUA7GVfkQf0A4NRAbiHgh1kSbADEElgIsQEAAqCFEkRm8VMBACWQAYYIAFxAUH01jXkQVAUhNpBnBEUAXHEA4GlcI30JBEAHWhEEFFCGGtQIGJFdx6A1YCxRxBRrOFkQQzb+cwYSSwwK12ld/Rw5K0IBAQAh+QQFBQABACzxAAIAVQASAAAI/wADCBxIsKDBgwgN2pMTYI06hPz8nEGzLOHBfxj/GRwXgEs/iyBDClxzocBAABvWfBRorYPJgRG4aEzIb0mADSZjYCTYKMAFkUATggHQYUaAGg4CFFgzsBGACi8C2PgJYIrFZQACACgAQOdMgT1/Bh07sJ81jmVNBFAr0J4qgv90BHDw1aA6HVwaFemaESyYABEG+llJtnAAMoCvarWHMKPGvV5nAjEY1bBhLgFEWPQTAEFCxwEgg/ZjNfBIhIxBIg4qJwIAzAhVlQgAhHBB0KL7BggbsidIBb0FJo2AxeC/DokZCOH3eWforgFA8waJ1iKSkJw9zz1iPKlABTlSX+XsCzm68+mWyX60Bybp5IP9zmxY23xmed3oaWIny7TAQ4TLKAAAU+PZBx1+PgX3G1n/MDDgZ7PZVOBjfDkXwFsVhGRNSHKNxQ9XDDX2U3GNZZTbV/0UoIBt6X1mXBEBMMAiQWQIAIBvHTU0kGMn7rgBACYIcViLn3VwgQ5LYCEEcgBgMZMNDuTA3REqaNWhQJoJMdM/QMQQw48ReFkDYSQNVBmRB80gQEEOwCZQES8NpIAQtmkG40A/EgTAVgpx9haaCI1Dhk1LEFiQPWVYhUQZ4jUVQEVNySHppHIMBiiDdV0aUkAAACH5BAUFAAEALPEAAgBUABEAAAj/AAMIHEiwoMGDCA3yGzgOYb8AaAKoSmiwX6MyaxoSfDjlH8WPIAX62VDwAhmPAvuJQEDQwZKPZV4gAAAgQIEVEwUudBCyZ8IzATbEEBghgAAyAx9GcCGwg8AiFFsEcBBDR4yZEZbpnOqzK8F/47YVHOpU4L9GBaEiWIhQCJd+/+KqcgAASD9VQBkMlIPSq98AawIoeIiQX4EAaEHG/VcEgFMkBksQ/uu1TAAKfQ02LKAu5GIsjhGDEbzxYGaEo336uRBgyeSCy6TW6Lk4BoAcW3l+ZEuxwOuDGo26PFhCYAEEOn4njEsGQIHEO0EqLygE6sfgAoUor2A0AIIa2Cme4VUAAHJuyn898iNTdLbpNSICdJhuUFUEADoIRv94+iDfrn4UAEBOB6nDU2oU2ReAewPtRxFvCfnmFQUBIJXQUEJ8tAwFAMzw20O6UUQfQTWMaJpeliVUnHUILXMBAC/AVdA/DHCGHnpT2GRPUgWtcVhgAo12BmHjbACAC3D1V1x8AYBhInoqFIUEFwEUF8ARAwHBgA3WvXDYUANJlZ9AKjj3QgxoCqQDSiMNJNmNCelwGEEMvDTQFCwRVAAQO4YZwJpN1WRQiDqhlRicCHV2ZQBDKnQGFgMpWt9AjciB0D8BAQAh+QQFBQABACzwAAIAVQARAAAI/wADCBxIsKDBgwgPqhMoZ+FBe3LKrBmX0OA4OQEaGlQVAEzFjyAHgqEAgGAJjAPlbChA8EKZjyNLCgRgwk+/gS9V3AzJ82CRAiJmBJihIICCRjgFbIgRoEaEAAXIVBQCVChRo0gF5tzZs6tAVfYIqrsQIMfAcdsI9nsRoMO/hMvsvRU4rkIAHQL9IGk7MKvXvwL3iph7cA0ABYRDHglQQqDQgjoSA+4pJADThFIrSP5Y+bGcyhsEkpGzOcAykGe6olEgYE3pAH7ILnl98AzrNQH69dv68eXH0B9TB2AA4ILUgtsoBHAAwMFskGUqUCC+gQxh3hUbFRGyvTt37gGwgP88LlACFsnWEAQo6UAIV8wIEAAAQIELQeyT/6pbon4KQn5kPGUDbQT9s5984mkVgE4fOZSdV1w0R5sfAhSgynsH/aPhPxFGwI+CDFbkW0XA9WRPSWkl9BR5CG2ooTrzOYRGACaA5AdIQhBoUCMlhZVQUcK16CJs8+3E4wU65leRDQFswJVkSwCAgINLwNbXkE0B0MFO/TBgmUBoJAmYAx0AsYR4yhVQxk4mRKADElwIIUJJiw30lH0CkWkmFkKQpCZBAQ4UmZIJlSDTQBSsKShLBDlHWD93DiSCQRWUsZk6N55GKFweFTEFSmqNQ8YSRyyBBob93JhiAP+oAsYSnuYFpmEAAQEAIfkEBQUAAQAs8AACAFYAEQAACP8AAwgcSLCgwYMID6paE8APP4TjBMqxl9Dgv4sXDzJkWLGjR4FCHBAsUGMbQS4RAAwUYMJPR4wXRQQAsOYfQSABjnzcmVCFAhM1ArQoEGBDv4FACogIOkNBAAaqKsJEAkClnKNIAxSxybPrwEZcJSIIAAarqocDrUUIAATrwYyNEIhwQDNjgDUzAuRI67UvwRYBhLg1KCSAio8lCjSiW3Pg2oJk/EouEWBKRZw2PC4BcKQf47BlXgQISnYZQpcd5fDst9lBRIRlEBS4WlGVAqMBPgu8iHNrR5wddYRFqFPC2JYGIwdwuuHM4IMmCtT8x7hg7+EH0Qgpsr079+9lPOL/JBpABEeCYMgHqMAFe0EuANperH5Tq3vJO5cBATCboFt1SIzFRULLKBCBOrvplpVvFZnWUVRd7SVaQlMAQEE/980AwBRydCgHAwCAIcdrbNn3m0fCdRVZBfcJtAwAAjw3UAlV1VijQFgMVFgRMhYEhkcDdmUZbgjJwV+LRcSg5JIFAGBCDGtgZdle+H2kDoQDqbNBACke1E8M5XGlTmH8cIXdZ2EZiUAORQTQSJUJ+VGACkJgsYQODOSmClcKiADEElMAsZZ0A6mikjUDwTTfXdgV4ZRAysFpkCoiFdRSWB2oRNAFaBBkaACI7qYofQZZoxqCkp7GBRJHcAFWQf+oEwIGEpXJgR0/qg2mqB9yoBVAQAAAIfkEBQUAAQAs8QACAFUAEQAACP8AAwgcSLCgwYMIDaqTE2CNPYT8/DS0lrDiwWUBuFjcyLHMBQEDAYhYQ1DVhgIhJYCxKAeAS5cCGRBk2OEfx5sIpxToMCNADZkI5PQT2PJCDJ8UAgDQmLAlgg5QoaqwSTRAB5xYCy5TR5CfiAAvqKrDOPCfjQAUqB5sWfOfW7cDG2m8MFBi1rsD56o1KLHAUIRs374dqMNgjb94sy4JYKIiSQcVAwtWK2dxUqKICY7bWAbnvzUOBJBJ2KgDACF7C7Zk0CHChRpr9tLcyNBihMxr0UKmwJTgP7oRAjgoklq1ywIIYAqZaXXjsiJCoEuPTn2xRZIIBEZAYvCfggIgFej/wF2w0RFVNlWdBbCy6tXEie1xYQCgCGK1/DyCTSi4bA6RA81m0UMW2YXTGQEgQN5AqiRXW3eTuYUGAAhQJWBkG92G1T/JGdidaVwsGKFbjQTgl0ASvVeRKhsBsWBCmwHAIkL/RMCeiCOCAYADcHEFGXwC9fNiAP+U6BsQAWh40D8rFUDWP1gEIJRARg60TAUAHCZQjQCssFxnQNJ4wQY6LIGFEBso1V4AM0SQwxFYFNEYAEhumSZ3Ao0JxBJT6KBAAAxUGQAal/k0JHz/uGBQBGsGAARKBClwxH13DlTCSy+J8CBB9kg0Y5gIbQPGEkUsQZJB9pQxRall8FPQPxJRChQXF6RGCZdAAQEAIfkEBQUAAQAs8QACAFQAEgAACP8AAwgcSLCgwYMIDS5bE8BPQnVyAshRlxDhMjRnGhGUUwRNxY8gBx6JAGBggRjLCJKhUHJgiYgV//2TY0LAQAcM+x0JAKRfyJ8IZyAoUSPAiwIBKKj7J/BIAREzAsxgEACBw4T/GAK4kEOHCgRgmvL0CbTsQFVkBTaiumTgMooD1W0IUPShAwBFCNrbJlGHVLdmAxMsqiOtwbYiKuY1gXBuQSxMBQeOESBvwrwvKl4IEPbgmaKZBapCqPEjw5/9uBRAkBLhGgUCPCJUh7RRkQ0ROhSBG2Bnz487P86InHCKQAQBRMAkuIZCAKoXyFSUAwBBBwAKIgi8YE3s74qnK0r/Bx4AaYAOZQyWQYCgZATICdcAmD+lXz8/2qP2HitZsjUhAhRwBnEEqTOFAgG0hRB1AFA2kEcFUOSbYQd199FoZQERQAkEFgQGAA5QeNZ8WBD0T3sMTUiecB2aBmKLA/FjkzUwVgUAGWn9Q1J6bWn4UXofTVEjQmFFIOKIASyFkAkABCeQPQUA4FBYDvYXgEwJ8WMQP4kNl1AOAVwQWT9CBDBOZFwAIIGWV5YZAVOqBGhDXstZadA4ApggxBRLAOFAAApcFUAEGwDRlhCbFTBeAPyU5AdZ/4gAwAZYkKGDAAB0liBVAnFhJ0L2aFeQcgP1U0JLA0VABnGNNgSpNYwNLaSAcQWNE9E4nybUCBdIHMGFoAQtA0ZbU8ghYkT2mDjTEkWAwVeu0CZk36cBAQAh+QQFBQABACzxAAIAVAASAAAI/wADCBxIsKDBgwgNqpMTQM44hPz8BFhjLSHCfxj/EVx2BEw/iyBDCixTQcBAACLkfBTYaEMBghTIrEQoAoBNACcB8Pu3JoAIjSKDHlxSoMOMADUYBEDAUOAaARdiIKUQAAAYizo6aN3qAMAFpz6BCh0rcJk6gvY6BJix0t4ygv9qBPiaMKPYDgCOBGiEJcCGMwIlkh08sO8GsQYZFkBcMONAPwAKVMxh0Abhy0gCqLDYMwK/uhgH6gDgQqCczHQbMhb4EGQZoTy7vkbYCG+RmY3t/uvHAACZgT1/guwJMkLINRUCOAhA4WrBlQ4EONAL2u5VB6EnhgW5TEgR7+C/i/9fcnypwAjknxNkAMRe9YwmAADJHnz15aDqsPSmbrBfGapSXeSYKgUA0Ihj9YHkHkiCCfWaArgV1EiBDeYWmhAAlNAPgttxFpJxY/VTYCN1bRAAF+9FAAAXG4bGUAf2EUQiSECQVREAb11knHMHZXQGAArYY1cAD0UQ4X0XGfSPDgGAiBCKkgn0T18qSYnRDABY5lgA/6joghABzIZkjxJsAMQSWAhhogA8vhBBDpkVUUJVYEr51RJi/aMOAgCsMWQA/ZwhwUA2xIjkP5sVFAGP/wDxEkEKZDbQP3fmSd4GLa5mj0SqjGmRNWAsUcQUxBWkzmtHIHHGZwVJVBFBnaoKsqWntFqUHZIBAQAh+QQFBQABACzxAAIAVAARAAAI/wADCBxIsKDBgwgNWlsjkB9CdXIE2kt4cOEaawUjnqHIsePAKREADCywQhXBMhcEEBSx5h/FfygJVijzz+WUADk86kyYA0GJGgFiIAgQAaPAKQU6zBDIIAACOf0SrikgUogQEQAKoDmKc6fXgqocDlTlIEARlwGWqSNoT0SAFxRVAIA7MEYAFf3kAAngYmsAk18DD9QRYGlCLgEuUKwAAEzUAP/IAJAQwG3BJY8FfwW6N+GSACbQHiwBAMvAf1wAuF1DWMXARghhc2S4E0yBArIPrnEggIxog6krLIO87AIAxAFu5uR4k6NrjlwoBFAQoANtghEFAqDgmOMSBQhEiP9AoAAz1+UUs1ME0/FmAYEbyGQWeJ0okt8HwXQAwD/ABvbnaSbgNkW8R8ZDXFBXxHwFYQGAA1yMMw4YDgDQnHIdbdNRbjoVUR1+JwGAAIMD9aMAAGVA1k8/ZwCgQFQYMtfRczvJISKIBA3lB0J+ZCVQTTUhAEBEptnQkV8UmbdTigzgKNA4IgFmUI8F2APkP/1QFVGKNAoYWD+urUDRXhFk5qEqLvUj5BT91BSAgwg4ZM1tNXgIlZcJFVBCclMAEYFT6lWwgQ6fCbGBQAAK9N51QGSlAxhk6EBVZ/9gUZZASuJZUD9/FmQdQS6oRFAEiSoawHX9APEef44aBFEAGmoeGlsASLy5o0LsFTFFSwZFNJFAKy4DRhFHcBFrAAEBACH5BAUFAAEALPEAAgBVABEAAAj/AAMIHEiwoMGDCBMqtDdQnUKDjcoEcHiwzL+HGDMWFBCg0UWBaAIUINghY8iBCID0I4glQA2NMA/qCCCioINtA1tuGOhApMYSAXQwCGDjY4CWL2MqRbhMoJCB1sYR5CdwhcKdNgaqUhBgzcenKpaKNQgkQAyMFRI2AiBgm9GyMwQCLXjE6FiYOYIqbDm3IgAHdsEE6EnQBEZVdxGSEegnoZwAAAQjPPP338d/XCBLPeoSY8uHhh9Kfph2IBe7BZcBAODR8r8cq/2sRJqxiBDbuG/rxriS4IWDjwkeeSgCQAl1ls8UWL1GIO3ES8cNXzg4gBDUBP0o+KtChIAIyxtztU6qcDP0gkgC7EwYciRCy41mMACgIMZjAAzHe8YYGmZj9wlxFZxBrhVEBgAUfJRZDb0l1NxDSGCnUEhcJaTOSI28V+BAMQAAxEchlSDheRn1lxBgA00nkGuWCQQGfap8tFlcJCoFYAC/HZRZQScFAMYGQGCxxAsABHAaQTsKVFeNBP1TGkHrDfTCjQIlKRACAfR4YJECOUDGiEwmpAoXSwzUoEArLRZAmRYO9M8yXCCxhEV2BQQAIfkEBQUAAQAs8QACAFQAEgAACP8AAwgcSLCgwYMIE/qxh/CfQ4cJD1pDg2bbwTMRM2ocuKRgAReqCD50WCQAACD9MqqrUUBgARvqOAbQsbFmwhoBShSMMG7gSD8FAARA+S/hPxMBIgQQonSFTJo2o0YMGeCIz6IBRCBYcTJlQjABHFjst8xBADICgQSIIbUtwhwBcBZEAmBJja4J+5UAgIRgSRUBOhjs6NbtjKVeBTZCIKLfXZR5gzYi6CeAgn5o4ALOOLkwQrAIOg80UUBOXLwIJxdIHMBryI5QIxKO6EIjF4IiDE4BIMThY9YF0VjGKvCfggCmYW8UUoS58+bQNf6bHWBDAOKqFFTg5xv1wTIAIvT/w+rQLEblnt1uKxmgzEAVANak/Pc7IRoADEY6PL4mAPqI1mikCnAZCZGVQGQA4IIcDMrxAgA2yEGVQXIAUIB+/7Q02X8JUYdQbVGZdlwAdAFg4okmBuDUQfwEtQxBqgk0RQA5EIcQRhl5qBFaZrUXw49ARgBABTH0hVAHAHCR2Iy5naViehsRyA9SL/hUUH0DlfSiQHRtwI9A/FwAwIwBbCnXdVAe1A8ASA1kFgJ+eIUhTpANJJQcXvFTAQAlkAGGCABcQBAWDMiU5kFKFSSYSPphKdCdcjZi3aMdTDhQTwFgeqhBjYBhJJqMjqSKHFsWxNBVZyCxhHCbttUPga0iAhQQACH5BAUFAAEALPEAAgBVABIAAAj/AAMIHEiwoMGDCA3akxNgjbqEECH+m/jP4LgAXPpF3LhxzYUCAwFsWKPxoBwBATpE5LckwAaQMSYSbBTgAsebCcEA6DAjQA0HAQqsOcjPZsqIywAEAFAAQMyKA2kaxUlVYD9rFwf2MxGAq0EhAGq4hIpQnQ4ujYo4pSiwEZgAEQb6KVm1bgAycA3KKeDi7QayBilWVPsUKhCDL+wq5hJARMF+GxCoYvw3oeAAhC/7mZJX4NCD9jbixSknAgDGBNVO6ecXcMHLmdkGkLqRZkQFtQUCjYCloJ8CjvsxVmlZJmanAS7TjpgVIpKNfgIg0H2EYD8RBRgGaF1cJuHkxpcrzq6q0R4YoIcFVhcClTtC2d9li0/ID3rVoQUeWkMAdOBzm9EdBB9y8tWU221V/cMAAEMFiBBuArIVG1mqBFDBRtZspENV/DTF0DIGOYabDd39M6FWBShA13gSBVZEAAysSJB7AjH2GXgTnSjQPxsAYIIQd7FoWQcX6LAEFkKoBAAWrlk1XEGOsbcjEDHE0GMEVdZAl0cDJSYkQjOgRJADqCFEY2OYEdQjQQAwpVB0FX6J0DhktLTEjQldZFtUAYAYlRyABirHXHIm2GShEAUEACH5BAUFAAEALPEAAgBUABEAAAj/AAMIHEiwoMGDCA3yGzguocOE/RqVWdOQYL8AU/493LjRz4aCF8hoPNgIQYAID8u8QAAAQIACK1QNXOiAo82EZwJsiCEQpQAyB/+J6PmwRQAHMXTEYBlhmUCaN6MS/DduW0GeHQ4uGRjhYkIhXPr9G6vKAQAg/VTlZDBQzkipcAOsCaDA68CSInJ2tTn2XxEAWZEYLGE3btQyASi8DfDPRAE5aE4WdtgXC+AAjcDQtRh0o+abfi4EWFJ4SgAh//ROTtg3BoAcT49uXPiwwOqCFQMIcLCVoCoFFfilPnlzLBkABRrFrvnwNkEhRTbmFijE7j8VAOYGUM23kQIAgpcb0o6rkR8ZlDUGcgmgYyB3jqoiAGg/U/bDxQjdRvVTAIBMfgoosIYfAq3ngB9ybBRfAOkRBNVDtDlkm1QUBACUOg655NAyFAAww2QXMeeQcwTVQGJQbCFmz2ABmPRhQstcAMALYhX0DwMFYDieYaYVsOJB7wmk2RlejbMBAC6IhV8AJQQwVABgnDieCighsV6TARyB0HAoEWQUfQFgV8ALMZQpkA4jeTQQYTsmpEMBBTHQG0JBBvDlSB1oWJCITymnXJsJ6aglkQ/peJBMAjWSYFABAQAh+QQFBQABACzwAAIAVQARAAAI/wADCBxIsKDBgwgPqhMoZ2HChwjHyQnQ0KCqAGAgatwIhgIAgiUmIiTz0cW/hx0/CgRgwk+/gWUCqHi5sebBIgVEzAgwQ0EABY0ObnMg0ORDITl39vwZVGDMmTajElRlj6C6CwFyHJxRIEYAowmX2TspcFyFADoE+kESoMPAplLjCmQrgixMADqKfLVb80iAEgJ3FtTBV65NIQG8Wo3gwJ5esId5MkS8QSAZOYUFLtN4JioaBQLW8LURIObjzA/PgF4ToF+/pzQTxoRYGWLnAAwAXCBT8AyAGSdPayxTgULuDWTswobYqIgQ59CfPw+ARSPvgRKw2LUXQcHmAMIhkvlBgAAAAApcCC43LFfdEgQBpgxMm15geI3/3Jev7lRmbIQOPQRXTVwA4MBJcgjQgRwiARGACXIMiNA/FP5TYAT89AfVQ7M9VJtN9ny0TQDXIYTVQxVSqI55DqHxoEZ+aCQEagk18lFVIhFUmQMzAEFjACme5Id5NNl4wY/saUTaBv8RpNcLfC0RQIwCNZKiQDUA0AFN/TCQmEBoIMmeAx0AsUR1FARQQBlNDnRfABEEUF8AZJqJhRAerUkQGXEKRFiSCZWg0kAUsJnQff3EOacIBlVQRmbqxPgdoAgtk1ERU+SYkDUBXDRQPzGOKNA/qoCxBKatURhAQAAAIfkEBQUAAQAs8AACAFYAEQAACP8AAwgcSLCgwYMID6paE8APv4QQE/6bOPEgQ4YRM2YU4oBggRrbEuoQiCQixYkiAgBY848gkABHNMpMqEKBiRoBWhQIsKGfRQACl/iUSBEJAKByhgp8WaTlzKcDGzkVKAdBADBKBfKr4KBEgJIQKzZCIMLByooB1swIkGOgNahwCbYIICRrgJdgVHyVWaJAI7MsB0YwSCauYa9TCq4p8OKfXrARlwA40g/w1DIvAuC8ugyhn4xyZvaT7GAcwX4bFKgK8DijKgU9A1gWOJHpVIQvI+q4fTCmBKsmPhMUEiAx670RTRRg+Q9wQdsR0QgpMr069etlMr7cGUAERqoFRDj8bQ2RCwAg/SY6dxmgqWHDy4AAKBA6AOoCwo9DPrhMQQR1tM02EHQQdRbRak+1lVkAkrU1UEovGWjQDABMIceFcjAAABhymLZUe7wZlBtEuz1VWAUtjXiQgwaVcNSLLwqExUDEFWGXQWBkxAVUifXUz44FdbRBDFzc2F4MSCZZAAAmxLDGUImx+F5E6iA4kDobBFDiQeQJpA5x/DjFm2VTyQEAAjkUEUAjUybkRwEqCIHFEjowIJsqIQrUZQCqAPUWbSc1lxZvRSgwUGFtKtRRQcHlqSdyAvUZwJ8BBNrcSghZExqAiXrGBRJHcCHVgZMSxE9oWQXqhxwPCRQQACH5BAUFAAEALPEAAgBVABEAAAj/AAMIHEiwoMGDCA2qkxNgjb2EECMmXBaAi8SLEctcEDAQgIg1CdFwLNEPohwAKFEKZECQYYd/GGManFKgw4wANVgikFOyoL0IAktEPImgg1GjKmAKdCmz6cBl6gjyExHghdKB/3QAqBGApEkAL/+JFTuwkcULA/04XSvw7FWBawrMmNK1J8KTYcde1WGwhl22MZcEMFGQHwUFy+h6TYhXL9mlgikM5HlwnMQyMf+tcSCADMF/QABYVPzX4EkGHSJcqLHmLdOhEiOUNh2AgoPaFlsWIByA9FcABRCoFNIyQAeJy4oIUc58uXPBEUEiEBgBCcF+Gwo0Eug7YaMjqmCq8LIRAACYycYBs7XHhQGAIiX/CQFgnXvdhHqx5vCI/njEhxGpJdMZASBQkioFADVQEekJaJBjY6EBAAJKvWZSbLNB9I9waoGU0G0HQSjWdgX0pJZ/EKkiERAZJmQZAOFtV9Bxt+nwFlYiggGAA2RFBaJ6/bQYwD8yYgVEALIh1N2QWARAWQBFCrRMBVv19E8EAKxAHGbqIfTPBRvosAQWQmxQ3nlK3ifQP2bWFwCYQCwxhQ4KBMBAlGhIJpBfXYbogkERoJnmYkO2OVAJKaUkAkMG2aOWin0itA0YSxSxhIcQWRblP2pZQ5BZlTb5WAABAQAh+QQFBQABACzxAAIAVAARAAAI/wADCBxIsKDBgwgNLlsTwE/ChxADLENzphFBOUXQRNwI8UgEAAMLxFiWUAhIIf8e/vsnx4SAgQ4Y9jsSAEg/jjgNzkBQokaAFwUCUFCXsqCcoAFQqmQI4EIOHSoQgBFI02bOqwJV3RzYiEGAJQb7dVCgImlRhOocAChC0N62AHJ0BJgxkCTWuwF86tg6sAgALHSVJmRrAuEGg1jO4sUZIwBbgo0QiPgXWLHBCwGmHjzj88VAVQgtQmTIsR+XAgjsDhRRwGHlhOqCNiqyIUKHIuoGVuWLkCbEGZYNThGIIIAIOQWRrBX4GqEcAAg6AFAQQeAFa1Rr8j5I+iGZiDSRdv8oAxnBha3NuQNYP6VfPz/V6QbYvfiuNSECCpwpWqJA9/QGPQdAYwNpVEBu9D2EHUSg5QREACWkxMWABK0QgFwNGqTKelgQ9A8CADCUYEK+PQRcTmsA4EBKjyFE4EEgksHXPx+RB9aDEJEH0RTBPTRVBDd9V1B1mIGFkAkAlBiAPQUA4NBULy62UkL8GMSPCHP1OJdZA/UjRADjFDWhBFUG8M+XEaSkSn42sIVcfQiNI4AJQkyxBBAOBKCAQwilxw9Ifmz1jwgAbIAFGToIAIBmX3klEBdwImRPdQUdZyKXAv3ZkKDWFDaQAsMVNA5y40SaUCNcIHEEF3w+BNqCAyEMZ4+HLC1RBBhvCRQQACH5BAUFAAEALPEAAgBUABEAAAj/AAMIHEiwoMGDCA2qkxNAzriEECP+m/iP4LIjYPpF3LixTAUBAwGIkKPxYBmBJiKKAMASQEgA/P6tCSCiIsebB5cU6DAjQA0GARAwVBgBZUQdHZIqdQDggsCZNXFKtaiOoL0OAWaUHPhPB4CeKSFStBmgA4AjARphCbDhjEA/U+MSXLuB7FMBNZYECJuQ4kA/AApYC5DDoA25iJEEUFGQHwUG2/TyRehXoFcXAuUodprZ7sCHEU/elMlU9ECvXAJIFjv2Xz8GAMgMhOrZ4MyIRSOuqRDAQQAKYArKKcBY9V7WY4M7mPiUZu2Cy4QUkU59unW9uoMKjIBdoGMEqjSu5+7b2gQAIMwD0EaMWB0W2GgFAgHQfTxlv6oKAGjkdz1EexvBJdVJCmjUSAG8DSQETQEIaNBYAQgBQAn99OdcdrhN1Y9+jagHUQRbFTRWBABwUSFzDHXwHEEdRgTEVIMBsEyDBmHlmw7k/XMGAArYA+FDILLHUW1dBZBbTsdxtRZJAlE0AwCHVfYPiS4saJqQD0qwARBLYCHEBgEIEBxC9gXwj1NLkPWPOggAsAaEAfRzhgQD2bCikP8UR1AEY5KZZJNoqqnXBifWZg9cqmAJkTVgLFHEFLdBtE0A4REE12AEJapKZQEEBAAh+QQFBQABACzxAAIAVAARAAAI/wADCBxIsKDBgwgNWlsjkF/Chw8XrrFWUE6AMxAzapwSAcDAAitUJUQiUAfEf2UuEKxQ5t+/AFMC5NBIM2EOBCVqBIiBIEAEigYb9Qxg8uGaAh6FCBEBoAAagTFn1pxKUJXDgaocBCjysmAJBC6IQlQB4AXBGAFU9JMDJICLpwFEUp070OQMg0sAIJlZNGEFAGD6CfxHBoCEACLwCqY7V2fbqgo29OMLsQQALAP/cQGQeI1JFQMbIRQNkWFNMAUKkB5oooBFyg83V1gW4N+yCwC4QJWZMebYjFwoBFAQoIPpgZsfw364RAECESIQKFiyOGpGixDB9A5QQOAGMovjKv+IwO/l8oRgOgBYH2CD9t1SGdPdVqQ7mYErAsDl3RchFgAOcDHOOGA4AIBv1kG0TUar0VREcS8Vlt9Ad+mkSngE9aMAAGXU1k8/ZwCggGAJPuTbQ6BNJQcACLy0BIoI+dHUYC79gwAAFmFmQ0b7JUTdVB0y8FKHBR0m3BExNmVPjf/0g5RFHaYoH139gDbhQedtFddL/dw4RT8uBfAfAg5Zk1oND8qB4ZQFFVACTFMAEUEACGCHpVgEdXccEE3pAAYZOiD12D9YaCXQj2wa1M+cBRn3UJZ6DtQPEN2t16dB6li0YKKjBUASFn5kJNIyXQlkkT2S9rMMGEUcwcWmAQQBBAAh+QQFBQABACzxAAIAVQARAAAI/wADCBxIsKDBgwgTKlyosFGZAOoQlvnHsKJFgQICNKJ4cMnAfgvREEQABORALAFqXFxZUEcAEQUdbGNocmGJADoYBLDBMQBKlSyDGlwmUMhBEwVeCKx5cMPOgaoUBFjD0agKoVgJAgkQw+CUAEdcBmBasBEAAdt6bp0h8GbBIz2zWsyBM6FYsgTLAHAQF0wABwVNMFQl9yAZgX4KXl1Td2zCM3v/cfzHJQCAcQJ/MkS5UPBCvxVB3k24DACAjZL/5TDtB6RmhkWExJ4tuzbNghcKLtNpT+DohCIAlFAn+UwB04x9piwcdNwRg0of+l6q0I+CvSpECIhwPLFyoAoxM6kviCSA0wAPrxZkm1ByoxkMACiIIcdy7++bGXq+mLiAwK8JmRDXQKkVRAYAFHBUWQ14FZScQkgMGFIAUgVwhkEUDFQEQqnFFQMAQHAkUgkSjlfRfgb9JtBzBHYoEBjyqcKReOyZeJF/dlFXkEgvbgAEFku8AEAAXMRV2UBw2UhgBQadl6NjAyEQAI8BHDikQA6QUaKSCanChUc6ChWRQP8swwUSS0wUV0AAACH5BAUFAAEALPEAAgBUABIAAAj/AAMIHEiwoMGDCBP6sZewYUNraNBsO3jGocWLSwoWcKGKoBwAIEEKdPDPoboaBQQWsKFuYEYdF2MmrBGgRMEI4wT2WwMAQYefP1WUTPjPRIAIAYQgXeEyAEyZUBt2DHBk4EcR/f5p3doQTAAHE/stcxCAjEAgAWJEXYswRwCaAq9m3ao1Yb8SAJAQLBJARYAOBjOyZTsjab8AOwGIoMsVYb8CABoR9BNAQT80bv06lDwYoVcEnAN8ZNAhwoUaa+oilFzg8EDXHV9aFNzQhUUuBEUU/BigAAKRfBOiqTxU4D8FogPItiikSPPnzqNb/Ec7wIYAQ/s1OqKqpCobAQCQ/3FtsAyACFmN/yNbcXnntduClxnYGHsOxcIBMGB8PMAa5U5ZZI1FqpB3kRAB6IYdf/+g0ZNquwFQAH8pSeZeQtUhZBtUclSmHn+UtYYQP5AtQxBrAk0RQA7FIVSRQxlaZBZZC/LHBQAkJdQBAFyQp6KCZjH1nkUGCsSPUS8MFJpA1lQAAFwC8WWiQEgAsAE/Rl4AgIoBTAlli0O+BoBRA5GFgB+uVbABEEtMoQNyDBQ4EACiucaPkyWQAYYIAFxAEBYMNBXmQUgVBFhuIYUkAmUE0SmHa/80cp1AAHQwFUE5BZDpoAY1AoZexnXKxRJFYOEHhAQxRN8/ZyCxxHCcrgfVT5GxJhQQACH5BAUFAAEALPEAAgBVABIAAAj/AAMIHEiwoMGDCA3akxNgjbqEECH+m/jP4LgAXPpF3LhxzYUCAwFsWKNR4D8GBgEwTMhvSYANIGNMJNgowAWOOBOCAdBhRoAaDgIUWGPyJICCHWomXHYUQAEAMisOrHkzp9WB/axdxGoiQFeTDABIxalOB5dGRaBSFNgITIAIA/2UvEo3AJm3A42O3UixYtqoUoEYfFG3MJcAIoqGtdo3wN/GfqbgFUj0oL2Nd3PKiQDgMFgAXSms8Jyw8eO1AahuVApRwWqBQSNgIXhSoGuBJviVnukYaoDGqiNuhYhko58ACGAfyfuviByN6o4kz7GX9tq/v3kHL3xVoz0wQQXr0RR6+SBq7Ki3szR+lWiBhwj/IQBA0jxv9Nptvo54O6fRyuZxVsZc1s102liqBFDBRtZspMNV/Dy10kHbBADAcfFRdCBWBShAIHelGdRcAAyUpAqB/fgE10CHAdjXhiZtAJoQdoFYWgcX6LAEFkJ0YCEWUungQA5I8EhBAAKQMVZiQkj1DxAxxCBjBFHWMJdHAxFmI0IzCFCQA6QFQGNBEYCxV2JFECQjQQA4pdBxCW6J0DhkuLQEgARtk9mdH6YWwDI0ySHooHLIJedVvB2KU0AAACH5BAUFAAEALPEAAgBUABEAAAj/AAMIHEiwoMGDCA3yGzguocOE/RqVWdOQYL8AU/493LjRz4aCF8hoHEjhYBmHZV4gAAAgQIEVqgYudMCxZsIzATbEEBghgAAyBEt+JLjGYYsADmLoiLEywjKBM21KJfhv3LaCOzsEDfDUphAu/f6JVeUAAJB+qnAyGChn5NS3AYoquCiwZNe3Yv8VAaAVicESdOFOPUnBrV3BebHwDdAITAAFFg+6TejYpp8LAZYELllCoAksgTfmjQEgB1SkGxc+LBD6YEWfDpYULCmAYAd1NcWSAVCg0WmaD1sbFFJk42uBQkIjWaPR3hTIOzn+a6QAgN/fguFq5EemZw2HaAIAzLjrUFUEADoIRn04GWFbqX4KAIiZkCaY9gbNB/iuHvVD1Q6xNlVJQCX0ERcPLUMBADO0dhFwDglnUA0SJvTPWichxA8CAeCU0DIXAPBCWAVdWABu2Qk2hUv2yFRQenMN5NgZdI2zAQAuhIVfZyIIBEaFKQagQk9IINhZAEcMJAQDNiSZk3hYEHRUegKpwNsLMWQpkA4jeTQQYEEipEMBBTEg20BnEuQAWFIGwKVAHbRkEIRQ+eZbmAihmCSNBlV0BBLhIUQfY3Ig9E9AAAAh+QQFBQABACzwAAIAVQASAAAI/wADCBxIsKDBgwgPqhMoZ2HChwjHyQnQ0KCqAGAgatwIhgIAgiUmDuT30aC9hx1LBgBgwk+/gWUCqHi5sebBIgVEzAgwQ0EABY1GAijQoSC/h0Jy7uz5M6jAmDNtSiWo6uRAdRcC5BDq4J/UZfa8ChxXIYAOgX6QBCgq0OnUtwLVihBLsitcgkcClBC4s6AOsXelCgkQgyvgu4P7yhm8QSAZOYcHLtN4RioaBQLW0AWAQESACjHIRKaMeU2Afv2g0kwYE2JjiJUDMABwgQxBkgEKEKwx2mCZChRmbxANU+ZqhI2KCFHOfPnyAFg02h4oAQvgfkL8CLQGRHdeiGQQIPoAAIACF4KqA8NVtwRBgCkP89rV+I/9+OhPjUN0+NBtTS4AzHfQMh9NBtE/CP4DYARHBZDeQ6099JpN9ny0TUL96NZIbwMliKA65DmERgAmaKQdREJwiNxHVh0kx1D8HeShV36QR1MjtKmoHkQ2BLDBjYfZs9dcAy0RwIkBbJigQDUA0AFN/TBAmEBo6BiYAx0AsUR0FORWBk0qRKCDkUA4kJtpA0UQwHkCYaklFkJ4VECEAZChpkB/7YhQCSoJRMGXA9Vg0AWaDdSPmmwG4FlBFZQxmjraGajngBkVMYVIBalS6aUG9aPdhQL9o+kSlp6G4KSoYnjcXQEBACH5BAUFAAEALPAAAgBWABIAAAj/AAMIHEiwoMGDCA+qWhPAD7+EEBP+mzjxIEOGETNmFOKAYIEa2wiCObihH0SKE0UEALDmH0EgAY5onJlQhQITNQK0KBCg5MCRCgrWMCmRIhIAAALIISoQZhGXNKMObARVoBwEAcAQHflCasVGCEQ4YFkxwJoZAXIMtCa1LcEWAYRsDdDVbYkCjca2HBjBIBm3gEsEmPKTrtslAI7001u1TNecWZch9JNRDs1+iB2MKxxhQ08bljOqUuCTscCJTqsihBlRh+qDMiVgNUG5cAAEWAMUmMIUoYkCLf/pLZg6IhohRZArT868TEaYPAOIwGh1ieSGLwAIoH6QCwAg/SYO/38Z4ClgwMuAACgQGqGKADESLlMQQd1p0wOLQ7wOUZVUtXUhxEUAEbw20AwATCHHgnIwAAAYcmzWVHkGEpeRa1H9VUGFAp0BgAMcloDUiCMKhMVAQpTX20EjRTRgVIT5hJBMHaw4UBEx5KhjAQCYEMMaRBGm1nkaqeMfQep4huFBecVFlDop8gPVa4xVJQcACORQRACNEJmQHwWoIAQWS+jAQAAOqAIVAyIAMcUSOfAUgYQBqJIUW6ehJJxZrxURlEB/ealQRwXRVhUFBqlwpEB2BoBnAHoKxxJC1lhmn6CTcYHEEVxQZZAfmgbQ6Wv8WNabnn7I8RCmrJ7EoVQBAQAh+QQFBQABACzxAAIAVQARAAAI/wADCBxIsKDBgwgNqpMTYI29hBAjJlwWgIvEixHLXBAwEICINQT/ITAIoBFEOQBSphTIgCDDDv8wyjQ4pUCHGQFqtEQgp59AkQAKdqCYECWCDkiRqogp8OXMpwOXqSPIT0SAF0xFFniKEua/r18HNrJ4YaAfqGgFks2KAIFPmV3Bgh2ow2CNt2lnLglgYqBWrgC8yh0oZy8FwngJjpNYRua/NQ4EkPGLoIDVCi7ASETJoEOECzXWMG0aoMNmiRESH2RIwUEAChb9bi2gQCAAFxFRAiiAYKUQl6UlLisihLjx4sj3RgQ5MkAEJCGFMAwwrkgBAEAgNjqiKqYqGwEAaPEmbTovWntcGAAoopoglgBuEQ7+mcMj4eARH0Y8O/MM/PYD8XPddAbJJRcaACDAlFO5oQZgQkDxd9A/6oE0oYFfmVTAW2eVB5EqEgHxIEKLAQAiQiCaKB+G/4ABgANhTeWaeQH0M+I/JoWUXWoI8YPbBVm915NAOUZVAQB3/RQBACv81hiNE16wgQ5LYCHEBuGNF8AMEeSAhJURBFDAkwH8gyV0AkkJxBJT6FAbA0UGgMZhAiUJZUH/4FZQBFoGUNeeZeBlZgBoBlCCSiqJQCBB9px14p0GbQPGEkUsYWFB1kwagKUFnmUNQWNR+l5YAgUEACH5BAUFAAEALPEAAgBUABEAAAj/AAMIHEiwoMGDCA0uWxPAT8KHEAMsQ3OmEUE5RdBE3AjxSAQAAwvEWEYQDciCEfo9/PdPjgkBAx0w7HckABCVHHMWnIGgRI0ALwoEoKDun0CTCgq+MJrwH0MAF3LoUIEAjMCaN3VqFagKp8BGDAIsGWiyhFZ1DgAUIWhvWwA5OgLMGEhyq90AP3XgLMuU41oTCDcYxNL3bs4YAdYeBWBW54UAVg+e+flioCqEFiEy5NiPSwEEdQOYdNAhwIUacrweVCe0UZENEToUUTcQq+qDNSHOKHxwikAEAUTIKXkS+FXeFwEg6ABAQQSBF6xdtXnb4OaHZCLWFBqgQxmCfpBc/w7QqAbI7wjXAFg/pV8/P8/nBrBt2K41IQIKnEE+cK4J/m+thxhZARRAG30PSQfReDkBEUAJAAZABgAMAKjKelgQ9A8CADCEYEK5PbSbTuo5EKEcykXIIRle/fPRd2M5CBF6D00R4UFWpZRQhhFEaAIAIQZgTwEAOGTVgPWxlBA/BvEjglwALvOcXgL1I0QA4zDFBQASMBnAP1f2GIAq+dmw1nD1ITSOACYIMcUSQDgQgAIOCRQbEEtMoQNwDoTGD0h+4PSPCABsgAUZOggAQGRihSUQF2kiZM9zBQlHUGkFleBHX382JKg1gA2kgG8FjTPcOJEm1AgXSBzBRZ0FrRHaKhawXiSkhi0tUQQYbgkUEAAh+QQFBQABACzxAAIAVAARAAAI/wADCBxIsKDBgwgNqpMTQM64hBAj/pv4j+CyI2D6Rdy4sUwFAQMBiJCjUeC/AgYBqIIoAoBLACEB8Pu3JoCIihxzHlxSoMOMADUYBEDA0GQBkAQ7WIOoo4PTpw4AXBBY86bOqxbVEbTXIcCMkicRYKWIM0AHAEcCNMISYMMZgX6wyiXIdgPOsGMnDvQDoMDSHAZtzB2MJICKgXivUhyoA4ALgXIKT4VcluDDiGV00oya2WiBEgEquCAjkey/fgwAkKZqs/LBmhEjbFxTIYCDABTAEDwpUMHAGCUPmv6n24HeAFVdG1wmpEjz586jL5k9VGCE6YiFFB0nBKWQ4AWHm/IAAOR48sGD1WFJnTbhlAAKwO9erKoAgEaLz0O0tzHu1czxJWSPAAD4ZxBZAQgBQAn95NdaRLBBJNtV/djXSEL/KABAhAdSFAEAXDSoF0MdKFfQhREBgdVSACyT0IUALIUQRWcAoIA9CD4UgXzozXigDgFMeBA/K7R1F1skmTTRDAAItlgA/3zoghABdNajcBJsAMQSWAixQQAC6CbQDBHogESXshXwlklTLVHWP+ogsCGCAfRzhgQD2WDilf8cVlAEYgoEZEESWAllm29Ot4GIytkT10pXJmQNGEsUMQWHAy1DaRFLYApXADIOtJIqTwYQEAAh+QQFBQABACzxAAIAVAARAAAI/wADCBxIsKDBgwgNWlsjkF/Chw8XrrFWUE6AMxAzapwSAcDAAitUEZTjsaCCfw//lblAsEKZfyinBMihsWbCHAhK1AgQA0GACBQFkvRJUEW/h2sKeBQiRASAAmgEyqRpsypBVQ4HqnIQoAjKACQ7WFUB4AXBGAGMygESwEXUACKtyh2oI8CMgWGtVgAA5miAf2QASAggwuASv3Ot7mQrFIDYqiUAYBn4jwuAwmvqqhjYCGFniAxtgilQ4DNYAAzEXqix5mtCyxWW/V12AQAXqTMzyoS4GSIXCgEUBOgQurFAogGEuEa4RAECESIQKDiMm+pDixDB6A5QQOAGMohVHf9RdVSVDY9glhsE0wGA+wAbtFdPTH9bke5kHtbtoJ4gFgAOcDHOOGA4AMBuU2W0TUam1VTEcP0NtMZTEQbQjwIAlPFXP/2cAYACRyUI0W4P9WbTUBUG0IhHFfrxlEAwwYQAABZNZkNGbz1EnU0aMpCidg60+JQ9Mf7Tj1IWaWgifXL1s9kKCVnD0l0DPagKSv3MOEU/MAXwHwIOWUNaDQ/KgRiTBhVQQgBTTAFEBAEggB18FwCxxBQ6CKdAg90VB8RTOoBBhg5KMfYPFlwJtCOaBfUDZ0HEEbQmpHMK1OdA/QDRnXuAGqSORQsy6lkASHjpx0GN3GbqmUIFYA+m/SwKA0YRR3ARagABAQAh+QQFBQABACzxAAIAVQARAAAI/wADCBxIsKDBgwgTKlyosFGZAOoQlvnHsKJFgQICNKIo0M9BBAzREEQApB9BLAFqXFxZUEcAEQUdbBvo0aAJjgtLBNDBIIANnChVshxqcJlAITQDbGC51MZAVQoCrOGIVAXRqwSBBIiRdOnFRgAEbMOpdYZAnQWP4MRqMcfOrivLAHCwFkwABwVNMFTF9iCZjkmjCjRrMuGZuf84/uMSAMA4gUEZolyod6HdhDULak24DACAjYn/5fDsx2RkhkWEpF6tujXDwgMvFFxWZKNAtwEYJxQBoIS6xGcKeF4DOWXfoeOOrIRt0I+CuSpECIggvOZphY+PF0SiVKGchYkbzaFgAEBBjO8A7BUXqnCywsoXPRZI2I9vAH4IQxckA4ACR8Y1MHcQcQshsVZIAQiG0F8KGhTaWjEAAARHIpVwoHYWwWfQNktxNZByAz3IERjlqcJRdmZhuNJ8BG3gUgCbISSSQGBsAAQWS7wAQG5r6SaQWiqGWIFBXg2kYUIgzRgAfzsK5AAZFwapkCpcLDGQgDRyF4AcUUIU4jJcILHERGsFBAAh+QQFBQABACzxAAIAVAASAAAI/wADCBxIsKDBgwgT+rGXMIC6NWXk9GtI0BoaNNsOnqHIseOSggVcqCL475+1GggIfmyorkYBgQVsqBv4UUfHmwlrBChRMMK4gf+WUQDAYIaOGA5sJvxnIkCEAEKerqAZQCnOqwlHBjgCVAWAFQwHLmsIJoCDjP2WOQhARiCQADGwykWYI4BOgWvMzrzZrwQAJASLBFARoIPBlXPlzoA6MUBdqx37FQDQiKCfAAr6oalLmGLlxAjLIvgcYEMALGBKRLigg/TBygUaC2w8siZHxAldcORCUETBtSYAFIjwUkFehGgw/yOpIICcALY5CikyvTr16xz/4Ta9XCACAABq2P/7N45wBH4IywCI0K97ybUbo4OWu01wgDIDFaxHL3Cc/rYHoUFUSQT+01xe8iVkDUeqyNaREAH4JlAEACwGVHAQHiSHcAWW9FJlCSKEG0K6XfVccwIFZ1VJcb11ED+TjTUQbAJN4Vh3CW1E0YgctbWWQEJ8RVIHAPA4EJFcyGajhG1NNR9HDgrET1MvEFRAAZcF8E9eWA4kmIwBIAHABvzxcwEANgYg411aPnlQPwA0NdBaCPjR2D9AEIVEGUV8V9dAADjXGD8VAFACGWCIAMAFBGHBAFVuHvRUQYaR1I8OL8GUg4OBSiTQP42YJhAAHWhF0E8BoBqpQY2AAdinBv0b048qUxQxhWsEhfXpP2cgsURyq8rVT5TBJhQQACH5BAUFAAEALPEAAgBVABIAAAj/AAMIHEiwoMGDCA3akxNgjbqEAfoxXGMPIsF/GP8ZHBeASz+LIEGuuVBgIIANaz4S7HfEwcACM1Qe5LckwIaSMTASbBTgQsifCcEA6DAjQA2XBdZcLFrAhdELPhMuAxAAQAEAOTUO5BkVqFeB/axxHNjPRACzA5EEiMDzpzodXBoVwZpRYCMwawf6kfm1L5m8AvkpAKD0Z0aNc7NqBWLwRd/HArkEEDEQb9eQhwMkzuxnCuCGCCta/AtUTgQAkgUynrEmRoAKL9BAzLy5bgCuINtCVJBboMsIWMg6LnE1AIKqNRHaThwgM26LYyGqtejHuO8jBFUI3KCq378iAQow+zxIG2tznbd7Qn780R4Yl4wFrgggYHxzszqUo2du+zlEfiBV55VSBTxk1Fp8YUcZefuZ1596FumWEG9e/cMAYQKBd1kAwXWgn061aRWAKq+BZA1I+XnFz1XjKaUAX4zN9+F3dKEXUQEvroeZQd8FwIBK/1wAgGcCqePAkANJVth5GIU40D8bAGCCEAGQpiN5HVygwxJYCOEhAFiIWIYABQBBxhQU9CQTZUJo9Q8QMcQQZQRx1iDTSAM5diVCMwhQkAOpPckFhVWVQOJAlIE3UJQEAWCVQtUduudB45BR0xJLFvSPOngtIQdf6S2zkxyklirHXpN+ZWOqIQUEACH5BAUFAAEALPEAAgBUABEAAAj/AAMIHEiwoMGDCA3yGzguYYB/DB0O7NeozJqGBPsFmAJRokeJfjYUvECm48B/UwgKUGHSYJkXCAAACFBghaqBCx183JnwTIANMQRGCCCATEEdAlUI3KAzYYsADmLoiBEzwjKBOXlqJfhv3LaCQTsQ5AJVDk8hXPr9W6vKAQAg/VT5ZDBQTsutW9cEUKDx4VAweAWu/VcEgFgkBkv0Dby1TAAKHfU2DTwYi+EAjQAryHjw7kHAPP1cCLCk75EAJvzMoBDBheOdg2MAyIEVqseFEgssRoiRqIMlJ2mLGLg5gBDY/8gAKNCo9uSEuw8KKeKxt0Ahi2cIpOAH4hIBANB88vzXSAEAxM4ZUw7Aj8zQGgPhhycYVLtHVREAIMVpW6Jng3Zp5UcBANwUABABINASFgGMJhF+AcBHUFYS4eaQbltREIBRATD43IYBDOXQMhQAMEN0Gn14UHQH1cCiQ//Q9VojAhRgD0GnifCiQMtcAMALahUUYwHqqKdeSjYONFwRffEjgXEDAXZGX+NsAIALanlWQgDDBQDGjkYGoMJQSJC1ZQCnDbRGAQIghYVIEfT21H5iLvdCDHgKpENHIQ2kWJgI6VBAQQwAVxAZdA3UgR8EzdlRBzMZ9CE/zTUHKEJFohnAlAgtdAQSa/xnIGZmdRYQACH5BAUFAAEALPAAAgBVABEAAAj/AAMIHEiwoMGDCA+qEyhnYUJ+DO0lJDhOToCGBlUFADOxo8eBYCgAIFjCYkF7QBAMLACkX8KQIwUCMOHHpcAyAVTY/MjTYJECImYEmKEggIJGBO2VCIAgxlAJOhMKASqUqFGkN3Pu7Mk1gCqJA9VdCJCDoI4AG6z1XGbv38BxFQKcDeAHSYAOA7F23SvQrgi3AZYVKKCXb4AjAZYONagDsGGuQgI4FYhYxeOBkYVejLxBIBk5jgku83iGKxoFAtYAfhEASBkVES7UMNnzDOo1Afr1wxl1Is6OnTuWDsAAwAUyBPGaAFAgQPMCHDuWqUCh+AYyjnlvPdioiBDv4L9//w+AxSPygRKwOB4bwMS23DkAIFA7kQwCBAAAUOBCUPvlveosodIUA3WGwGgC9UNBAHZ59E+A+JWXVW8JOTRRYR9xAYADgC0lwlZlaTbRPyT+o2EEEAXgn28eBdeTPSO9R1ZOBQERAGsjlvhgfg6h0Z5HfngkRGgeNTISWGAYF5pTjSWko1t+5GeTkRcQ+R9PNqDlUj/qMKAiYKo091sAS9CVl44C1QBABzb14+VkaFh5ZQAOdADEEuUtWEAZO2EhnxBlLOFAe45FEAB/AtV5JxZCiLQnQWQYKlCTcxZUQkwDUcBnQUg0N9ALFvZjKKIBiGBQBWVYqU6QCFZa0DIcFR0xBW0GbcNFEUsESVA/QcoYwD+qgLGErLmRGEBAAAAh+QQFBQABACzwAAIAVgARAAAI/wADCBxIsKDBgwgPqloTwA+/hAHGMfTTD+LAfxgxHmTI0KJHj0IcECxQY5tBVS8KDGQABmJGjCICAFjzjyCQAEc+6kyoQoGJGgFaqNxQcWAjkRGAumBQpCbCl0gAAAggp6jAm013aiXYyKlAOQgCgCnar0OAGg8FWn1asxECEQ5magywZkaAHAOtbd1LsEUAIUXBAKiwdmeJAkflDoxgkAzfxyUCTBmoAmfhj0sAHOkXl+bAMi/OCgSzDKEfj3J29svsYNxAkWWmxNwApLRFVQqIBujsFCNWrwhvWtQB/GBOCWFNnB4oIEDlsAIdLE9oogDNf50L/raIRkgR7+C/i/8v4/GmygAiOgZQNzUAkH79VMXsUJwgFwDvMWa3GSDrY77LAAFAAakFwM9U9BmlUoEGLaNABOoIhJ1iA20HkW0QqbIVXqEJpBIQwF0QABYIzQDAFHKkKAcDAIAhh2tX9Vefdh4Rp5VjFTglYk4ExbTEZQGUINWQQwpEokBC9AckQS1ZxMVWk+l215QEMUYGkEXEoOWWBQBgQgxrFDUZXv99pI6GBKmzQQA2/rMGAAroNRoACMCoTpL89FYQb17JQWcORQTQSJkJ+VGACkJgsYQODOymild2RbCEeyoFKpAqU8kZwEv60VVcEQoM5BihColUkHLA8WPiQAUI4RWmAWglyumE6hVkTWoRkmoaF0gcwUVXCDUyGRcYCsRPamtx6occaQUQEAAh+QQFBQABACzxAAIAVQARAAAI/wADCBxIsKDBgwgNqpMTYI29hAH6MXQIseLAZQG4WNxYscwFAQMBiFhjkJ8QBgML2PiXUA6Aly8FohzIsANLjjgLTinQYUaAGigRyOk3sN+KAAheBJhxoQNElwg6SJWq4maAmjmzXlRHkJ+IAC9u/isSgIKqgVYRurT5r23bgY00XhjoR6tdgXJvqkMAgCHOtW7dDtRhsAbRu1mXBDAxEEsAmzkBB7YqRzEFmocLjrNYBue/NQ4EkBmYI0CONS4CVIhB8ikABh0iXKixJi3Win4hRsistqyDshoHqghQQkABpAEKOG75sgBfAAGEELwNcVkRIdezY9+uuCJJBAIjIP9B+/Xxsn/9gCRvlLDREVUsVdkIAAAMzceI79rjwgBAEaL/lLAeWk6pd1BgaOUg0n1OVfRQRXXldAZShylVQUHSDXfgZG2hAQACN1HXkkW75fQPXxGq1+BA45WQFloc/sNeAYfVtWJCZ1UEBG8WbQZAjhP+RhBhM7woUIz/gAGAA29xJWR+/fBIkIwF/aNeiRFFAEBwAVijwJZHOjaUQOwRtEwFABh2pJYrSNdZfgj9c8EGOiyBhRAb0GffQGAYp94UETx22D95jifQnEAsMYUOCgTAQJkCoXGZQGrCadA/qRUUwZ5oYQGeQACYYA1ahQ5UAkwwiZAbQfbUlaOlB20dA8YSRSzR2kHqcHHEEqsG8E9do8LFBa2OvSVQQAAAIfkEBQUAAQAs8QACAFQAEQAACP8AAwgcSLCgwYMIDS5bE8BPQoHqGMr597DgMjRnGhGUUwRNxY8gj0QAMLBAjGUKZxQYqGDKw3//5JgQMNABw35HAgDpB7InwhkIStQI8GIlBXUUBaqKEMDB0BgOdib8xxDAhRw6VCAAIzCnVJ9gB6riObARgwBLCJogam8g2YTqHAAoQtDetgBydASYMRBl2L8Dh+ogewaAA35g6a49uMEglqSAw8YIQFcgXyBhLwTgevDM0BdiEWqsyLBnPy4FEPgNUGEzlhIBNuhQ9VDdykZFNkToUETdQK9vEeasOAMyQpcBEAQQIYegggAmSAZYqUBO8I0AEHQAoIBpgAvWuur/vG6w9EMyH3OuDNChDMH1OXhuW1uBvMA1APJP6dfPD1O+AQAXWWTWCCFAAWckZdRbyyh3BkJy5DfZQB4V4JuAD4VXEW1gYVZCUg4EkENBIgSIkCr5YUHQPwgAwBCGCQ33UHFg4edAUiViRtAKAQiRUItkvPXPSO6lpeND7lU0hXEfcRUBWZhNOJBmKiIUnYwB2FMAAA5xJeWAMCWEWEH8lEhjQwUUMFoAZQBQAIf9+DhOUlwAIMGY//gYAUWqHGgDXc0NmNA4ApggxBRLABGiAg4J1I8OhqUlhHJH8kOSH2T9IwIAG2BBhg4CAMAZWmcJxIWgCdnjHUHMFfSodNPpLgCZpQ1las1iArVk0DjNjYPqQ41wgcQRXDR6kCpTFIEFhxtluWJMSxQBxl0CBQQAIfkEBQUAAQAs8QACAFQAEQAACP8AAwgcSLCgwYMIDaqTE0DOuIQB+jEMoA5iwX8Y/xFcdgRMP4sgQZapIGAgABFyPhLkJ0TBwAI5IIoAQBOASQD8/q0JIEJjyJ8HlxToMCNADQYBEEwUyE9F0hcBZlzomVBHh6tYHQC4IHAnVaBgBy6rONBeh6gqAwgJcEHVQJ8JM8LtAOBIgEZYAmw4I9BP2L8E827wOa5AgaUhMw70A6CAtQAxC9oATBlJAKcC84oIq1igDgAuBMqxzFU0XIIPLZYBqlPraoE1AuhAE7rCjJ1x5f7rxwAAmYFeTx/EDTECyDUVAjgIQAEMQRMCSyYNUIBLbrnOHWDsylO4wWVCioT/Hy++/JLj0wNEOD/wLM9lEYFQd3tQ9z8TAIBsDxCcMmV1WPRml0CbFaCKSv9soBZCcgWgSgEANKJYfxDZA5JfYK2mgEorsFWQfC0wqJgQAJTQz4TdWURcQsaB1Q+EjQgk32YE2QWdiBhFAAAXJ27HUAfeFRSjRfKB9RgA8AWwWgRpBTBZDU0SlNEZAChgT4MPMelfYgb9o4N6A/WjlXMCLYMAAGT+k1dKAmU0AwCTdfaPji6s9dqW9UmwARBLYCGEggKQGcA/zhUgBBlTGEfjoFwtAdc/6py5RoMRnSHBQDYEiec/mBEUgaBtToGASSo81majj563QY/e2eMXfXgiG2QNGEsUMcWKBY3DxRFLINZXAKYO5JYqnQUQEAAh+QQFBQABACzxAAIAVAARAAAI/wADCBxIsKDBgwgNWlsjkF/CAPYYBuj3kODCNdYKyglwpqLHj1MiABhYYIUqg9tsIBiIAMnDf2UuEKxQ5t+/AFMC5PjIM2EOBCVqBIixMkLGgdZkMpgxNIKNh2sKjBQiRASAAmgE5tzZsytBVQ4HqnIQoMhNgS4CqFAnsB/FhyoAvCAYQ20/OUACuMga4KTXvwN1BGAqUA4ABuO6VgAA5u0/MgAkBBBhcMlbwF6F5p0omGvPEgCwDPzHBQDlNYJVDGyEkHVFiTzBFCjgOkAHnGBKBLigozbC0hWWBfi37AIALlp1esxZUXVFLhQCKLANOwDZACMDFAiAYM1ZhEsUIP8QIQKBAsvJPSfcWBHMcu0CN5C5PH2wvQDqWgSIcD8hmA4ABBjABu6lh9mB2xSxHRkDMWBdP2epM918CGEBgANcjDMOGA4AwNxWHm3jkW8fFWHbWREMVpBqQlxGUD8KAFDGcG6dAYACFIFYEXNweWUYAmeppp6KQLg4kB9XCWSTTQgAsJFoT1XE10Po9TQjA2eZaMJ3kwWABJdHXmXPkv/0I9VGMzp3IGD9qLaCWLOxF8AaAAjgx0AmqnJTP01OAeFNFiLgkDWz1WCiHEauSVABuk0xBRApIiBnAEIEwAASZRQxnQ3fbQcbEFfpAAYZOki12T9YXBdAlYoW1E+KBXU5UJ1AQAgwkAA5hCWQpwP1A8R2AYZqkDobidhqa14GgMWdCKmCRRFT+EXQRv1N1M8yYBRxBBfGBhAQACH5BAUFAAEALPEAAgBVABEAAAj/AAMIHEiwoMGDCBMqXKiwUZkA6hCW+cewokWBAgI0okhwXI6CRxaiIYgASD+CWALUuMiyoI4AIgo62EaQpsGVDEsE0MEggA2OAVLibEm04DKBQgjGCGCC5QafA1UpCLCGY1IVRbMSBBJgKUEFNis2AiBgG1CuMwTqBAlUq8WPLwNwtMGyDAAHbcEEcFCw6UJVbg+SEehnYMwlBD8qPHP3H8d/XAIAGCdQKMOUC/0q1JswQgCsBUciXAYAwEbH/3KU9nPSMsMiQmDLjk2b4UmCFwr27DrwxV5+CUUAKKHO8ZkCpddUVhmY6LiQMgXaI9iT80E/Cu6qECEgAvLCQZkvwKTcvCCSAE8FVgjgm2CLAEDaDnTcaAYDAApiyJE8PfzQhJgppJlFhRUw0ApQEbSSDvIJhFpBZABAAUeR1XBbQsothESDCo00lUDnrVVQEQih1lYMAMQn0EglcFgeQwMatB8A+wkEnYMmCgQGfqpwRF5aL7JkIEEkKhASdP+tOBAYGwCBxRIvABAAF21FNtARLrr1z3oFpWfQkALRRVIAogUQoZQCOUBGlkEipAoXiAl0YUKNIBSRg8twgcQSE7UVEAAh+QQFBQABACzxAAIAVAASAAAI/wADCBxIsKDBgwgT+rGXMMC/hw8bErSGBs22g2ckaty4pGABF6oIlgBAEsBAkuoaqqtRQGABGykFdtSxsWbCGgFKFIwwbqCODkCDOgBQoeE/EwEiBBCidMXAmTajSgwZ4AhBiP8EigBQpCGYAA4u9lvmIAAZgUACxJDKFmGOADgFYhXoB0CBZQn7jURCsKuKAB0MdmzbdsbSfnIjCtQBwGneAgAaEfQTQEE/NG//SpRMGOFXBJwdYv03lAxihJILnBZ4OiRUiYMbutDIhaCIgqPBAHDQLytCNJV9y1UQQE6A1xKFFFHOfLlzjf9iB9jgcOBoFQCA9BZesAyACL0Tl/rNiLyz1G1dA5SxDnEZZD/buQ9EA4DB6H/E1xwPQFOiNY2qrLaREAHcllhWRQBwG0QIyWHXfS1JVh5C0iE0W1TGEXdgABQAgIVo8g3ED2R4DZSaQFMEkEOIBWUEm1RnlXXgGgAgkBKDCHUAABerpWjgWY6ZJ5GAAvGD1Avs/TMDADjNJVBXJQaABAAb8FPkBQCkGECJcVUnpEH9AIDUQGUhAJ916iAAwBpOCmSSHKfxUwEAJZABxlYXEIQFA099iZBSBQVm0BQAXDAaQW+e9k8j1LnZAVUE9RSApH4a1AgYfMl1kCpyqIKjQQyxdwYSSwBXKVv9EHlqQgEBACH5BAUFAAEALPEAAgBVABIAAAj/AAMIHEiwoMGDCA3akxNgjbqEECH+m/jP4LgAXPpF3LhxzYUCAwFsWKNRYJGEXBLyWxJgA8gYEwk2CnCBo82EYAB0mBGghoMABdYMTFmwpgBVCZcBCACgAACYFQfOrHmz6sB+1i5eNRGAa0IhXSGq08GlUZGnFAU2AhMgwkA/Ja3KDUCmbcJ/EQAQPUix4lmoUYEYfDG3cEoRCcsEUMDvbtq/fQP4mWJXoNCD9jbWvSkn797BAXRIfIw2bYCpG2dGVJBa4M8IWBKOc8rQcdS/ASKjjqgVIpKNfgIgcH0k4e8NURFGxm16d2GrGu2B+SnY4L8NAViOvv00d8zTNDc2v44YvKrQAg8LMkQf0TTz784TqobIuuo/BgAuE8wRIMbG5aUlh1QFG1mzkWhV8UNbQfwoAMAZcdn2D2TfBdBPAQpE+Nxd1p3EgIYpuXVQSvr1RWFy1wFgAlibbchXBxfosAQWQnTAFBbJ5VZCAGAdhJgQUf0DRAwxbABABETWEJdHAxHmIkIzCFCQA5+pJUABqmgoEGInDWQkQQA0pVBwSD2J0DhksLSEfgU9VN5BMy0jkxx01ikHXGZaVWGeHAUEACH5BAUFAAEALPEAAgBUABEAAAj/AAMIHEiwoMGDCA3yGzguocOE/RqVWdOQYL8AU/493LjRz4aCF8hoFDglIZKEZV4gAAAgQIEVqgYudMCxZsIzATbEEBghgAAyA4EW/AhAzsWDLQI4iKEjxsoIywTOtEmV4L9x2wru7ODw5MeEQrj0+0dWlQMAQPqpwslgoJyRVeMGWBNAwdGDH5fcdUj2XxEAXE8WLLFXrs0yASjALSjHZVaOfbEADtAITF2LBxcjtGzTz4UAehHmCBBDc8K+MQCMDjD14cKHBQobrOjTwZKE/BQEQFyTLBkABRpJVbpRdkEhRTbSFijEeAAuASI4z9xIAQDBrIkbjquRH5meNRCWvQgghKqqCAB0EGzNd+Nbqn4KAIhZsJGA+TbPBwi/XrvD1w7FVhUFAQhFUHkm2LQMBQDMUNhFND003UA1TGjQP23xNtA/PXFh2kHLXADAC2MVhGEB6my3XUkF2FMQYnYdZNkZR42zAQAujGXaeCIIBIaFhqnQExLQjRfAEQa9EIAOxiWlnkAqAPdCDFQKpMNIHg1EmIoJ6VBAQQzcVtA48r1nkJMjddCSQRHKJJxwXCaU4pEB0LgdfZQ1lllAAAAh+QQFBQABACzwAAIAVQARAAAI/wADCBxIsKDBgwgPqhMoZ2HChwjHyQnQ0KCqAGAgatwIhgIAgiUmDrSRcE3Cjh8FAjDhp9/AMgFUuNxI82CRAiJmBJihIICCRgOPGIwQAIG9fwiF4NTJ0ydQgTBl1pxKUJU9guouBMjxUGeNh8uODhxXIYAOgX6QBOgw8CnVtwLVikCqEEGANXRpCi0hUGdBHXnhThUSIEbCJQEuBN5I2K8cwhsEkpGzWOAyjWemolEgAC9CtkKnnuFssl+/qDMTwoQYGWLmAAwAXCCT0A+AApc1lqlAIfYGMnlRQ2xUREjx48aNB8CikfZACVgqCzzrQrpBMggQAABAgQtB4YLhqttbYnfKwX4MAgCv+W+8duZQY6ZG6PChW5pcADioDEa/9YP/BPhPfhHwE59UD632UGs12fPRNgaZEAAQ7AnY3nYOoRGAhBD5oZEQ/x3UyEdXVVVAAPc9ZCFStgEw04iKhRceSRvMFwBhcx2EmIcCNWKhQDUA0MFM6BUmEBohhudAB0AswRwFARRQho1EeXdQlQMt2SQWQngkJUFkEDVdkoKVkNJAFExZ0BkAKFBiQf1gKZAIBlVQRmXqeJibjAktk1ERU4hkkDUoItSPhxAK9I8qYCwBaAD9BBhAQAAAIfkEBQUAAQAs8AACAFYAEQAACP8AAwgcSLCgwYMID6paE8APv4QQE/6bOPEgQ4YRM2YU4oBggRrbCFZAiOCfRIr/RAQAsMbkQCABjmicmVCFAhM1ArQoEGBDv4EzDDIIUOInQpRIAAAIIMeoQJhFXNKcKrCRVKYIAoBxajBCAC4QKzZCIMIBy4oB1gTNMdAa1bcEWwQQwpXgGQAK7GksUaCR2ZYDvRYkA7dwiQBTEsYIwDbjEgBH+v2VWuZFgJxalyH0k1EOzX6PHYxDqC5r04iqFPgMMFngRKhXD8KMqCO2QZkSsprgjHBJz7oHTRRo+e9vQdgR0Qgpsrw58+dlMsLkGUAExoMbAiDJyAUAkH4TjRPlRF4Y7jIgAAp4NignfUiIyxREUOe69csAUSNqRk2VrWWDbC0W0QwATCHHgXIwAAAYcoz2FH62HZdRbVMRVkFs/CgQQHQRlaDUhx8KhMVAQuAHXEFgcEdVYqsR1F0ED0VURAw01lgAACbEsIZRiTVWXkbqqFKQOtlRSNBhdBmkTon8uBTbZFK1h0AORQTQyI8J+VGACkJgsYQOQzmgylWqACCAVQaVGYBbrqFUXFqxFaGhQIRhqVBHBe0WW4kmRKgmmwG4WRxLCFnjGX12bsYFEkdwgaZBVwJaED+eceWmH3LEGEBAAAAh+QQFBQABACzxAAIAVQARAAAI/wADCBxIsKDBgwgNqpMTYI29hBAjJlwWgIvEixHLXBAwEICINQSBIARAJqEcAChRCmRAkGGHfxhjGpxSoMOMADVYIpDTT+AUgxQCFLBmEgCCDkiRqoAp0KXMpwOXqSPIT0SAF0wP6gjgAuLJl//Chh3YyOKFgX6gqhVoNmvBfg5IegUAVmzWrQVr9Fz7dEkAEwnBBHCwF+FXu2Ob+g3atDDBcRLLxPy3xoGAkgf/AQbi1uBJBh0iXKixxq3TiAwjRnB8kCEFBwEoWESoqgCARqhRFkCgUkjLAB0kLisihLjx4sj9RgSJQGAEJAl9W43Y6IgqmKpsBAAguClwvmvtceFhAKAI6wD/JADAEtHuwH85PA48DfFhxLQyzwRAcF6/AvsJISYWGkYxRZ9JEq0m0z+84ffeTdq1J+A/uBWwV1rBRaSKRECcBxFkAGxIkDq8gSShgGAA4MBYU8EGXgD9eCgQhQX9I5KCBPl1QWfosceTQLgRtEwFAOg1YwQArOCbZC9mdsEGOiyBhRAbbNfdex0AAJ1B/1S5ZQBPArHEFDooEAADQQqEBmM4yQjeP10VFMGV8wlFFJdeDlRCSimJkFpB9qQlYpMHbQPGEkUsYaJB2wSQZo1p3QkkF4iyl1gAAQEAIfkEBQUAAQAs8QACAFQAEQAACP8AAwgcSLCgwYMIDS5bE8BPwocQAyxDc6YRQTlF0ETcCPFIBAADC8RYRrBDwn8n/8kxIWCgA4b9jgQA0o+jTYMzEJSoEeBFgQAU1KEMkMOggwAbaiL8xxDAhRw6VCAAI1AmzZtYBapSKrARgwBLHm4IgOShOgcAihC0ty2AHB0BZgwkmbVuAJ46uBaUA6BA24RqTSAcWxDLULs3YwRQi7BojMMHLwSgevAMzxcDVSG0CJEhx35cCiCga5CfggBlzP5sVGRDhA5F1A20qvegTIgzIB+cIhBBABFyEnIBEIHfQ74IOgBQEEHgBWtVZ9Y26PkhmYgyfwbokBphiQBCphP/XAOg/JR+/fw0lxuANuK61oQIKHBGdwBVAARwTsgXgOKBGhUgm3sPQQeRZjcBEUAJ9gkRgAn2FYQfAFgQ9A8CADBEYEK3PZTbTeQ5YF9zXGyEIRlc/fNRamEpCFF3D00RYUJURVBbGcsZF5EJAHQYgD0FAOAQVf+998+MAehIED8ixKUbZkUZ1I+D4ww1nAQ6/uNgBCipMp8NagX3HkLjCGCCEFMsAcRRCjhE0Dg/iVkQPyD5odQ/IgCwARZk6CAAAJSB9ZVAJY55kD3NFQScQWVtECGdDd1pjWADKcBbQeMEN46hCTXCBRJHcOGmQZqRZlBw9lio0hJFgPFXAAEBACH5BAUFAAEALPEAAgBUABEAAAj/AAMIHEiwoMGDCA2qkxNAzriEECP+m/iP4LIjYPpF3LixTAUBAwGIkKNRoI6EZRKKAMASQEgA/P6tCSCiIsebB5cU6DAjQA0GARAwFLjEIIUABR4i1NGhqVMHAC4InFkTp1WL6gja6xBgRsmDOQLEgEjRZoAOAI4EaIQlwIYzAv1cnUuw7QazBfkpAJAyIcWBfgAUsBYgbEEbdBMjCaAiIZcAEfiRnThQBwAXAuUslpoZ70ClEPtylAlVdMF/JQII+Wqw7MR+DACQGUjVs8GZESNsXFMhgIMAFMAkVBVAQKPJZYU7oBygdsRlQopEny69etGIMxEIjHD9oJAAJmwT3nT9zwQAIMydJ6arDktsta0jAHiMvKKqAgAa/VWf0N5GuValpABrAgkoWX2qAVBCP/vRJB5BuEGkm1X94HdcQS8UNhpF8nHBIGUMdfDgQBdCBMRVhAGwTEHj4EfSRhSdAYAC9pQVwEMRELgeQrb9c9KEBC22gY7/tPViABTNAABifyEpnwvfmbbjaRJsAMQSWAixQXHCjbflEkRKtYRZ/6iDAABr2BhAP2dIMJANI673T2MFRdAlQQwVkFVrYpJZ1JBNaiUXcVMmZA0YSxQxRYQFEVaiQXIRRhBxqgQaEAAh+QQFBQABACzxAAIAVAARAAAI/wADCBxIsKDBgwgNWlsjkF/Chw8XrrFWUE6AMxAzapwSAcDAAitUETSRcFvCf2UuEKxQ5t+/AFMC5NBIM2EOBCVqBIiBIEAEigJ1GHTg8yXCNQU8ChEiAkABNAJjzqxJlaAqhwNVES1i9GCJAEIeqgDwgmCMACr6yQESwAXUACKryh0odEbCRk7jIqwAAEw/gf/IAJAQQITBJX/nytXJFiHbtA9LAMAy8B8XAIbXCFUxsBFCzxAZ1gRToADogxECgOl68HKFZQH+LbsAgEtUmRljQuQMkQuFAAoCdBB9kEwABlgfLlGAQIQIBAoQ35760CJEMLkDFBC4gUxigy0CCPbNCKYDgPMBNmCfrrj9tiLbjSvcbv0hFgAOuIwbB8YBAN1SZWQSRKfRVIRwrAl0BIIQ9aMAAGXE1k8/ZwCgwF8BQqSbWFXJAQACCQag0hTfIeSHU4C59A8CAFhEmQ0ZvaVciRlFyECCazilTogFnViAPSr+009SFkXIW3tz9cPZCgbpNAOPB6ryUj8skuhSAPch4JA1pdVwoBw0IklQAV9NMQUQqSFQn0D29IQGj9sRB4RTOoBBhg5JNfYPFkQJJJ2YBvWTWkHDGURZBDxqFwBx/QCx3Xl0GqSORQMCepBnSGDpB0Ii6WWQRfYMNOEyYBRxBBeVBgQAIfkEBQUAAQAs8QACAFUAEQAACP8AAwgcSLCgwYMIEypcqLBRmQDqEJb5x7CiRYECAjSiKFBFwmUK0RBEAKQfQSwBalxcWVBHABEFHWwbCCShyYUlAuhgEMAGxwAoVbIcahBkACEKTQi8eXBDz4GqFARYwxGpR6JYaQaIkVBVAAGNEjYCIGDbz5ozBOYseORnVos5dCZEasJtwTIAHLgFE8BBQaULvb41SEagn4VcFJ7J+4/jv8QAxgkMyhDlQsAK+Vp8KFXhMgAANjb+lwO0H5OUGRYRsro169cMmQq8oPBFgLgLRQAooa7xmQKg10xOOXjouCMKJVv0oyCvChECIgA/DJT4QuXFCSIJ4NTg9u4KGzebmsEAgIIYcgIAsDdcqELLSVkeLtA0wBKGowuSAUCBY+Iash0k3EJI2LWQSJ0RlJ5Fo7kVAwBAcCRSCQZmVxFmA8XF1UHIDdQgR2CYpwpHyqVl4Ur0FcSPVGcESJBIAoGxARBYLPECAAFw4VZiA7V1oocVGAQeQTy6KBACAcAYwH44CuQAGRX+2BUX9y2VVUQC/bMMF0gsMZFbAQEAIfkEBQUAAQAs8QACAFQAEgAACP8AAwgcSLCgwYMIE/qxl1DdGjSqEh60hgbNtoNnJGrcOHBJwQIuIg7850cEQQdT/v2TqK5GAYEFbKjrGEAHx5sJawQoUTDCuIHLGACIAKTICgABpkj8ZyJAhABCnq6gaROnVYkijwwUAqACv4FFnH5FCCaAg4v9ljkIQEYgkAAxrspFmCOAToExALwV+G8ZAAD9EPYrAQAJwbAqAnQw6HHu3BlQA9cEUDUASQAKEvYrAKARQT8BFPRDUzexRs+OyQZAgDqAnAII5Ai010KvZIOeC9wOIDmix8oJG0t0sZELQZMFyUQosKGEggI6dhdEE3rlyMyyf3MUUoS79+7gN/7/Ex5gg2WCa1T8RRrBcMIyQ/tZV7k2o/bUc7eFDVBm4JoCBSCxjD1nXABAXQihAQADKjX4T2ZrBHCfRNZspIp0GgkRAHIbAhBWg6ogAABoB8kBQAEOqvSSZxMGtxFxVsmWmUAiyuZgBwBggRA/nC1DUG4CKZWDdQllpBF5HLW1Fo0ArOFgeTkmhCMXtymFXFtT4bcRhvw09cJAONrQYAD/ASCbQGH5KBASAGwwFj8GKhWAmnedp6VB/QDQ1EBrIeCHZGD89QIYZAihAAAq3IaUHJLxUwEAJZABhggAXEAQFgzQdOdBTxW0WEFTZLYeAC/8NNCikv3TiHkCAdCBSASZJGrqpriB4Z6dBalDxhFFYNFaQQyN9M8ZSCxBHa1y9YMhsggFBAAh+QQFBQABACzxAAIAVQASAAAI/wADCBxIsKDBgwgN2pMTYI26hPz8lPHTL6HBfxj/GRwXgEtFiyBDNrxQYCCADWs+ClRXo6TAAjrsWeS3JMCGkjEwEmwU4ILInwnBAOgwI0ANBwEKrBn4r0QABDoC2EAQ4IVGhMsABABQAEDOqwJ5+gRKdmA/axzNmgiwVuDSAhTddvWTUJ0OLo2KeM0YFkyACAPjlh0skMzfgVMCdCDYj0IAvwczatT79SoQgy8Ia+YSQMRAw2MF/osAYGlkvpQlB/CTGLBbhDJBGgYqhzRngfxIYxF9xCbYgqpT8w0gNiRPkAqMC0QaYfdOEQAq/AVgYlnC4ZQDqC4OMq1FJCHpUv8N4KA3wWU1xj/N8RBhcK/adRLvqZlwRXtgkF5eSboGRT+ZXcCPe/JlNxx3M4VX1lvtCRGAU2YttoRKBGEH34H0gXScRcmR9Q8DpQmkQgBFFHRZUafpJBxYqgQgHUjWhBQVWfx0xRBbAThIUFQxXJfRimYVoACF9V13UYkMfHRZBQPyF4B5HTXE1I97yafdBtQ5OFuRkXVwgQ5LYCHEYgBgcZUqVG0wRRlTOOZAjAJ5JsRV/wARQwxYRnBnDSqtEVpmXCI0gwAFOXDbQGs4RtAGcqjkWYkDYUkQAFwpRFeLgSI0Dhk1LWHaRWt0+ulAPFlHqhyopiqHYJkCZWWrIgUBBAAh+QQFBQABACzxAAIAVAARAAAI/wADCBxIsKDBgwgN8hs4LmG/gfYSFuzXqMyahgQfTvknsaNHgX42FLxAhiNEHQgI1sCIsMwLBAAABCiwQtXAhQ4+6kx4JsCGGAIjBBBAhiDQAjkC5FAQQITEFgEcxNARA2aEZQJx7txK8N+4bQWBdhjYaOgak34EokkohEu/f3BVOQAApJ+qngwGyjHJtW+ANQEUPAxQVOjAf06nDJYI918RAGORGCyx2O/WMgEomJQTtaDIoh4bY4EcoBGYwBkP8k14eqefCwGWDP439shALgEiLAwNNwaApAG0dtwtsUDlgywFOFhScJmJABIyNy37ES4ZAAWoC5d43KCQIh5ZCvYUUlmdDqYCC9TAWr2RAgCSs3a23JcjPzJCa9wU+WJvABu5geWRKhEAoANB2yW0GkL+uVYAADbF5tNi/zwnxID5FZQgQsQlZBxXFBAm0AwB1EWQZM9JtAwFAMxw3EM5ddSdQTXMqGBemAVAInADgZciQstcAMALbxX0DwMFqEMffVPMFFEAtjmgZFawmRjAaWcMNs4GALjw1oIBlNCUQGDYuGQAKgiFBG5iQslQThQwh4VICKgyGFQHCqQCdi/E4KdAOqAlkkCUnYmQDgUUxABzBMkx6EASnDUQniZ1IJNBMd5UFnWGHjSlbVlKdER8B0VYGmeqBQQAIfkEBQUAAQAs8AACAFUAEQAACP8AAwgcSLCgwYMID6oTKGchQntyAjT6l7DguIgNDaoKAKaix48DwVAAQLBERIKqXAgYqEBIv4oiSQoEYMLPS4FlAqi4CbKnwSIFRMwIMENBAAWNBvKrEMCBDqIFAgDhaVBI0KFFjybFqZOqz6+q7BFUdyFAjoFcjloLCaCAw4PL7FEUOI7p0wB+kAToMHDr178E9YqYCyTAi4IIAsiZC/JIgBIChxbUwRjwXyEBYgxc0lVp1G1fMUuWg3mDQDKL4X488xWNAgFr5lpTUCBngH5PW1T2eOb1mtv9cu70aLuiad4CGQC4QKagnLKmHRSI8TZhmQoUlG8gw1i4V4ONigj/EU9+/PgAWD42HygBC+N+fmJETT5VPQIEAABQSDvQu+X/AaizRGJT9MWAVKrwswZkJuyG0D8C4pceV8NVVB1CfvXEBQAOzFVDADUwZk8EAXDn0T8o/rNhBPxQ+F1BxSV0nE/2kARaAGV1NFA/QxVWUYooqpOfQ2gEYMJHfnwkhIMVNUKSWAEwxQVVLkj1I5B45XeTkxcwCWBPNgSwwU2alcCYKomBMRdnSQo0UYoC1QBABzf1c6BmAaDh5ZdNdQDEEulREEBtN60RVQnpIeEAjv3MRSJ/ff6JhRAj1UYQGSQKRBmfCJUg00AUlEEVGYuW5Fc/jw4kgkEVlOGgOkkuIMNpQst0VMQUJxkUnF64FgRfADcG8I8qYCxx620oBhAQACH5BAUFAAEALPAAAgBWABEAAAj/AAMIHEiwoMGDCA+qWhPAD7+E49agWZbQ4L+LFw8yZFixo0eBQhwQLFBjW8E1HQAMjADmX0WMF0UEALDG5UAgAY583JlQhQITNQK0KBBgQ7+BfohuwFlCJRmbB2EiAaBSztGbAYpA5ck1QKOtchAEAHM1qAioOgJ02FowYyMEIhzQzBhgzYwAOQZa68qXYIsAQq7KXEJwDQAFbA+WKNBIbs2VBsn0nVwiwJSBMbJCLQOgQuKCSwAc6ed484sAQcdSPOjHoxye/UI7GDfwDAAHqgSOk4mkoyoFRgOUFngRp9aOODvq+ExQpwSxJloT5OKgQAcRChAIYT7QRIGa/xwX/zTOXSAaIUXQq0/PvoxHnEQDiOBIvIwIlQIrYCnPBQCQfheJRxB5k022DBAAFPCaQGAUgAAW1qhDRgRZXWXQMgpEoA5xw2F1XEWrVZQbV3mdJhCFXBAkR4ImHTQDAFPIIaMcDAAAhhy0CURgRclVtBxXknkWgDoqjQPVPxS6pxhVTDIpEBYDCVFhR2B4lCJXlwU3jkrLbCWSkgYVEcOYZBYAgAkxrHHVZXkV+JE6Iw6kzgYB/BgAhVIORAYAArSojpT82MRWaVCtiEAORXjlZkJJqSAEFkvowIBwqrjUz1QC1AAGGUCIZYNNqqi0F3EwhVcXW0UooOeiCKkiUkHRbTdVRHwCkfSQQKEGMGoApYZHE0LWvLYhqwj5wQUSR3Dx1UHjgHFEEVzEKRA/r1nIK0x+yHFrAAEBACH5BAUFAAEALPEAAgBVABEAAAj/AAMIHEiwoMGDCA2qkxNgjb2E/OSc8dMvoUWDywJwucixY5kLAgYCELGm4LYZBQYiAPIwoRwAMGEKZECQYYd/HXMinFKgw4wANWgikFMxQL8OARToAJqyRtGDLxF0mDpVBU6BNnVqLbhMHUF+IgK8uEomAIJGA88EAKDKJYCb/+LGHdho44WBfrbqJWj3KpIAJQj+iwCgjFu4cq8GWFrQ6d69SwKYGAgmANKB/RQAyIvwJWK5A+VEphD6KcFxHA3n/LfGgYCyRtW5rhzgn5AAYd0y6BDhQo01igNkvcjwYgTTUANQcKB8I0E/HQBcKEF4hTWLLwEUQCDzdmjLHJcV/xEyvjz585EvlkQgMMJfgqpQDlTaEmGjI6pwqrKxlrZw8I89Zg8XDABQRFHWOACADo30I4cKAB6U2ED/5DDSd5dZVF9CnOmkFgJFARHACgT1cwEAWCCUWGJoAIDAVcNhx9FxWv3DXV79hJXeQEvxJ+GKcaFVQFF5ZZhQWxcBgdxFqLFVW1hHFMSfjwYBGRcYADgwl1fMBShQP0tSiJZgItK4WAAbPJUgAFNU9E+KRAk05kDLVACAY7VVd5tqXkp4wQY6LIGFEBv0J9A/fnDXARZlLBFBABGgVluh7wXwJxBLTKGDAgEwMGcAaJAmEJ59FvSPCwZF4J9AZzwqUgfFTS4aQKUlxBSTCLESZE9eSJZ60DZgLFHEEiUd1A8aSByxRJwU5nUdXVwIm+JcAgUEACH5BAUFAAEALPEAAgBUABEAAAj/AAMIHEiwoMGDCA0uWxPAT8IA6tagUfXvoUI0ZxoRlFMEjcWPII9EADCwQIxlBeWIICnQAZd+D//9k2NCwEAHDPsdCQAEJsifB2cgKFEjwIsCASioqxhAlYIAFYAEUEESC9OD/xgCuJBDhwoEYATu7Am0LEFVPgU2YhBgyUCpG/gNFBJAwlWD6hwAKELQ3rYAcnQEmDEQpdnDA4vqgNlvRQC6AxsBKJDWIF8TCDcYtIoYcYwAfAXm4JlWDgAHdwteCBD24JmiLwaqQqjRIsOf/bgUQGB4pgAGDiFiFlKZoDqkjYpsiNChiLqBY4sb3GlxRmqDUwQiCCBCTkEyDgp0/wigAAEQuQhNI+gAQEEEgResiSVt+yOZjzuRBuhQpuAaEywFEMES0g20BgAITtFPP368R1gA0XXWmTVCCFDAGUydsRsSy9hTRgUB6HCdQKYB8NlAHhXwXIQPyWfRbGVJVQJT4yFBUCMFFFCbQaogiAVB/yAAAEMsJkTdQ9aVdSBqAiFXkGZcJCQkGWn9M1J/bkllUX8WTTFiQmFF4BNS3hFEQQBRIgTgkQHYUwAADoV1ooQByJQQegTxI8JgTK0mIoo2NVJRP3SNwxQXAEiA3j90RVCRKhbawFeZdB40jgAmCDHFEkA4QF5waJI0AxhkCLHdC0zxQ5IfPv2z0gZYkEqhgwAAtNYWWwKlWalB9rxXUHcFLbEdQTM8J5CqDbVqDWYDKZBdQeN4N86uCTXCBRJHcAFqQeqQcUQRXAiaUptAzrREEWD8JVBAAAAh+QQFBQABACzxAAIAVAARAAAI/wADCBxIsKDBgwgNqpMTQM64hPbknPGTEOG/i/8ILjsCpl/FjyAFlqkgYCAAEXI8DrQWo8BABED4VRQBoCYAkwD4/VsTQETGkEAPLinQYUaAGgwCIGAosN+GAAp0HHVpo6KODlizOgBwQSBPn0HDalRH0F6HADNUklGqSmWZAAKWJcT4M0AHAEcCNMISYMMZgRTFCh7Id0PGf0UCmCD4byuauRcH+gFQwFqAHAarDh6MJICKgVx61v2nAEAjyHV1AHAhUE7nrq3rEnz48S3QnVttB1C3lYzHfkIClJDNmO6/fgwArPUq+iPPjxFArqkQwEEACmAKyrl7wUQEAC22of/GmN1B5ABfiRtcJqRI+/fu4y+RrlRghPkEVc1wKVABELIWGWcCAECcl95mm6mDRXJ5CbTMVjo00o8cn50VYGSqFGAaRug1V5E9IAUW1FsKqCTVCwTxQwEAoR1EVwBCAFBCPxweWNFzFUUXVj8anvbPWVMUhJlUF/7zHRc0RsZQB+oVdNpHQIhlGQBy2RXAEioJVMNlqJ0BgAL2vPhQBFkiWJF6/0ilYwBVdZDlMknxFcA/fKUkEEYzAFAVh3N+50Jwuplp0D8SbADEElgI8ZQA2QHmUgdYlLFEdBGAOGdXS4ymDgIArPFiAP2cIcFANjQp6D+fFRRBowOVsaZAHTwseemVo823QZLq2UORKoJWZA0YSxQxBY4E9RMqEkcsYSdBFFmWXwCq8BlAQAAAIfkEBQUAAQAs8QACAFQAEQAACP8AAwgcSLCgwYMIDVpbI5BfQnUByqhKeHDhGmsF5QQ4Q7Gjx4FTIgAYWGDFRIJ+SowU6GDJP4r/ylwgWKHMv5dTAuT4yDNhDgQlagSIgSBABIwClzkwCiRAi5FL+iVcU2CkECEiABRAIzDnzp5gCapyOFDV0iIvAwgJIMFeWiQBHKQ9qALAC4IxAqjoJ6epC64BToYdLFBHgBkDEQORKnDbSHsJKwAAw/gfGQASAogwGJUwYaFNBTa1QbARAARzDarEMvAfFwCb1xhWMbARQtsdGfYEU6AA7gB+CiDQGMDeXcMJX1dYFuDfsgsAuHTV6TFnR9oduVAIoCBAB90Dy0T/ENChBIMCOsgmXKIAgQgRCBR0DuDVI3GKYKoHKCBwAxnGAslR10ARHAEgQmB0AMCCAWyQ33RfeUbYNkXwR8ZAVBVwxFhnbBAAaQlhAYADXIwzDhgOAGBdfR1t49FvPBXhXVolqEXQMkXdV1A/CgBQRnP99HMGAApIxSJF1lGEXU9ynJZWd3IcuFmSBfmhlUA33YQAABqxBiJFgFE0H08/MpBWUWik1kEASyBkZQFuZdlPVRr9uKSEg/VD2woDbVbDXHLwF6VAMqryUj9bTtHPTQGIiIBD1vRWg4yD4olQATVOMQUQEQQw3ECXBeCCdEJ0Z8Jc/IEHhFY6gEGGDlWFR/YPFksJNKalBPXTaUHfFYRFdwS54CJJAYDXDxD8LciqQepoNCyuB9kGFxZ+HPSPPWQcUQQWjaQWgEaQCRTkMmAUcQQXzwYEACH5BAUFAAEALPEAAgBVABEAAAj/AAMIHEiwoMGDCBMqHHim0cKCjcoEUIewzL+HGDMKFBCg0UWCJggyCNBvIRqCCICUHIglQA2NMAvqCCCioINtA3ESdCEQyUeFJQLoGGnjZ8uXMZMaXCZQyMAiASJQFLgkwMiEGwLYGKhKQYA1H52qUEqWIJAAMQa+1PFz6jiEjQAI2Pbz7AyBQQse+Vk2Yw6hBZEKVCVwpcEyABzwBRPAQcGQCwn3NUhGoJ+BDr9e5Jf2L8Izif99/MclAIC3AY4+bLkQskLGCs8EKJBVoGeEywAA8Cj6Xw7dfkqqflhESPHjxpM/NCzwwkPHC0UAKKFO9JkCutcIHD4Z5rgjBuUgzwgA1Z52l8wL+lGQWIUIARGwX07t8iHq7gSRBKjdL+RZgl6RdJBojczAAAAKxCCHafZsV99CrCnkWkaXFTDQSGARFFRVA4pWEBkAUPBRaTWkZ9B5CvkE00kBBuCVRAeZGEBvfMUAABAfnVQCX/hpNGEAd534EXgD0fgRGAiq8hFqQfaokYUGrSAQVAGUkN5JAoGxARBYLPECAAFwwVdpA+3lZJEVGFQbQWQStII1KAWAZQAggimQA2TweGZkXHAoIEL6KTTVjMtwgcQSFvEVEAAh+QQFBQABACzxAAIAVAASAAAI/wADCBxIsKDBgwgT+rGXUNUZNNsSHrSGBuLBMxIzahy4pGABF6oMlhhYYMa4fxnV1SggsIANdRwD6NhIM2GNACMJRhg3sBGDABeEAIkQQEQ/if9MBCAqhOiKmDNrSpUYMsCRgTGK8hOo7kKAjgnBBHAQsd8yBwHICAQSIOvUtwdzBLgZoB+CAGgIcgmwAeXBfiUAICFYJICKAB0MgoX7dkYAIUetAQgAc6CfAAAi/i0AoBHBywr6oZF7OKNnxgjFIjg9DgAAa37/ycGM8aDnAkcH5g7ZMarExQldaNw7UERBBgDA/Fv+b4lr4gbzKvAr8J+CALN7bxRShLv37uA1Nv8nuCEA9RwAKKjq9++yaywIywCIwL76P7QYtaOGu61wgDIDbSMBAAiYUEIBCDiQXG4FoQEAA8wxd90aX8mkkTUarSeVEEXZZ40ODghQgApy/LQGdQTJAUABES7Hkmf6/aaRcFLNdp19KKqyIkMH8cPZMgTdJtAUAeSA4kUaAbeRWmjhSJAQAKywHEIdAMAFg0Qal1YAT+2nEYMD8aPUCwMxN5AcCABw4kCFASkQEgBssFUA/FwAAJEBuEmXeV7+BYBSA6GFgB+5+REBEEtgsRIAQkwp0GRy5MZPBQCUQAYYIgDg1UBY/CSQkn0ORFRBiQXJ2UAKLOHoo9jl9k8j5T0q2kFVBPEUgK2hGtQIGINVZ5A6ZAwGBj9HDsSjfWcgsUReub7VD5jNShQQACH5BAUFAAEALPEAAgBVABIAAAj/AAMIHEiwoMGDCA3akxNgjbqE6taUaZTw4L+L/wyOC8ClX8WPIAWuuVBgIIANazwOVGejZAAAIhhW5LckwIaSMS4SpHghpM+EYAB0mBGghoMABdYM7CcigAIdQkoEYEAx4TIALwsAyJlxIM+fYAn2s7ZxqYkAZwVicapK4D8bAVxUVKeDS6MiWzEKbAQmQISBflSGHRyAjF+3KgIAIbitgIBlCDFmxMu16+KCLwhr5hKgaYB/PTkv/SvaoOQAlE/7mXJYJEJ7IA3/lBMBgGjQAdYuPXrZtN7UegN8/Vi1ogKQVY9G0C0wM1yvAmtE1ol662e9wyuWrYgEpJ8ACAQ6/zhC0HCBMxnVSQ0QY7pOyte7ZtcM1qM9MLwH/iMqQIQKBwD0VENXBQUHX3DzIcSPd2EpVcBDAvWDRAWObQCGXEIIRpCB1iEYQE/EgXQcWP8wAIBSBnn0DwUAyObbe3lRF0BbFYBkDUg6hMWPVjIdpBQDC7r3D3AE9lOAAhrSlxCB+hUxVZIDjbMBaoJxhmJ8Q8ZI4D8bAGCCEIUpuWQHF+iwBBZCdPASFl3900ENSHABxFElBClQU0K0CUQMMXQZAZ81CDbSQJmJidAMAhTkQGmf1TiQADnARlBTTg7UJUEAAOASQfZ815ahCI1DRk1LXCkWGkscwQVkBlHE6l5yxAwqqxyBgRqWjLaGFBAAIfkEBQUAAQAs8QACAFQAEQAACP8AAwgcSLCgwYMIDfIbOC6hvYQJ+zUqs6YhwX4BpvyDyLGjQD8bCl4gs3EgPx0IBm5Yw7HMCwQAAAQosEKVyQAOPOpMeCbAhhgCIwQQQGbgPxcBEOQoYiKpHIgtcMbQEQNmhGUCF+bcydXouG0FgXYYWLSAn4FAAoiAKIRLv39wVTkAAKSfqp4MBsop2bVvAJYKMAaYEcAGQXswz3aE+68IgLFIDJYQ7LdrmQAUSq6NbDQkZ46MsTwO0AhMAAUXD/JNaHqnnwsBlgguEeAI5X8VAtTwyDgGgBxZcXZcyLEAZYQWhzpYQhD4C4LLCgRYwfsfGQAFGgXfCvH4QSFFOib0FyiEMkuiWZ8HoL24kQIAn7VW9ruRHxmhuwfqCPA46kDqHakSAQD73cRdQqshtBdXfhQAgE0C/YNFSAFUwIVhOSRokIC6FSQfR8RBZFxXFARQlEGaBYAFR8tQAMAM3mF0IELeHVRDjRD9k9dlCDUiQAHjGbTMBQC88FZBOhagznzzTTHTQwfZs5YOfJl2hmDjbACAC29pSNtaAYCBI5MCqSAUElysJ9ARBJVAWABCCLUBlAJFVWAAKmD3Qgx8CkTlRxSuNyaZOkhHEAPMEQSmQC+CRZCdJXUgk0Ez8qOddmQmtGRtAVyJIksqQniQqI08pVpAAAAh+QQFBQABACzwAAIAVQARAAAI/wADCBxIsKDBgwgPqhMoZyHCbWcCLEtocJycAA0NqgoAhqLHjwPBUABAsMRFgstcCBioYiNFkSQFAjDhp9/AMgFU2ATJ82CRAiJmBJihIICCRgPVUQgQAQiQDUzHURQCVChRo0gF4tTZsytBVfYIqrsQIMdAIUy32eynIoAOisvs/Rs4roJbgX6QBOgwMKvXvwL1ipgbgOwUgnIAMNjJ80iAEgKFFtRBGLBXtDEGIgiwhmC/Apy7opUsBy3UAGTkVEb5MWJPNAoErCFcFE1lfisP8zwTu3O/flsZI8Tp8TRF1wwAXCBDkG8RgmVIoqVYpgKF5BvIVA7usVERId/Dg/8HHwDLR+YDJWCprFfByWVkAwDxSAYBAgAAKHCBnlO45a7qLLGZbgHwI0IABZRgggIFRBDAdB79E+B95mnVn0cOUeQXT1wA4MBtQkQgQAEdoAFVhRT9o+I/HUbAj4VcUfeRcTzZQ9I2CfWzWU0prighfg6hEYAJH/nxkRCrfdQISWEhBIZySRbk41x+4LfTkhdE+V9PNgSwgX99ORDAfgMtEYCRAjXio0A1ANDBTv0wEEBmAdi2ZUIOdADEEuYtVUAZjEWQg5k6FDXDag6SGUCee2IhxEh/EkSGgwJRdidCJcQ0EAWAErTZQAUAsVo/iQ50YEEVlBGlOkZOdClCy3QeVMQUJxXED3FcZDhQP0biKNA/qoCxxKwB9KNiAAEBACH5BAUFAAEALPAAAgBWABEAAAj/AAMIHEiwoMGDCA+qWhPAD7+EjcqsUZfQ4L+LFw8yZFixo0eBQhwQLFBjW8E1HQAILKDDXkeMF0UEALDmH0EgAY583JlQhQITNQK0KBBgQ7+BchAE6CBEh8gXNhPCRAJApZyjA3EWicqzq8BGXAMkDQAGq8wY/WwuE0mmYsZGCEQ4oJkxwJoZAXIMtOa1L8EWAYQc3aayEUGdKj6WKNBobs2BEQy29eu3RIApAuUAQBC2zOawB5cAONLPMdcyLwIEJbsMoR+Pcnj2E+1gXIB+mguEJVO4oioFRgOYFnhRK2iDODvqOF5QpwSlJl4LVEeUo8Dk1g+aKFDzn+OCxjui/xFShLz58ujLeMRJNICI7CuW8rWrNIB6hFwAAEnrnSb4AFtRRtkyQABQQGxfiaSACiIU4IACdiG0jAIRUBRAf49lBSBzBLXWkSpe6ZXaQKrUwMBmL/ghQAAgHjQDAFPIIaMcJ4Ihh23XbdhRchUt11VbFXBoFwAO1FVQCVUlmaRAWAwkBIBYJQSGR1x4hVlwCOmlF0JFxODllwUAYEIMa2CF2ZYCeqROiwOps0EAPh5URgGMtfkkP1GBZhpXmiGQQxEBGJamawWoIAQWS+jAgHCqRFXGBUBgMcUMKzZJokrzXQiTd3aBVgSEAk02qEGqiFRQdFytodJADlRJkCqYDii0KYYIWRObhaMe5AcXSBzBBVgGbQPGEUiQEeVA/MR27KZ+yPGQQAEBACH5BAUFAAEALPEAAgBVABEAAAj/AAMIHEiwoMGDCA2qkxNgjb2E6tCUUZWw4sFlAbhY3MixzAUBAwGIWFNw3IwCAgGU8GNRDoCXLwUyIMiwwz+OOBFOKdBhRoAaMxHI6SeQX4cADnQIEYGUYkKXCDpIlaripsCaObMWXKaOID+mL6wiQYoxQD+fPp8CsPmvbduBjTReGMhSq92Bcm/+Y1qEIMUCXRG6ZOvWagAdBmsQvWt3SQATAv9FAECG4D8FlBcbHFz47VXHFAYOPThuY5mc/9Y4EFD5X7/JYCwjCFBEc0GXDDpEuFBjjeEAWFtujGD7IEMKDgJQ0BgZMhDNDA+rBVAAQUwhNAMctbisiBDv4L+L/3dskeTsABHG4g2AgGSAbdttJGx0RNVNVfIBxL6qnbF/e1wwAEBtka0QQAEiqIBZBdIdVNhA/+Qgkmj9WfSQRXXldAZ7mvVTBAUFCNABGZAdgVBnbqEBAAJWBVdRdBURl9U/1mUoEFFE/eMAAGiciOI/jRy4GEvbVeRURc9lVRoARxq0YXI+oggGAA681RWU/plVnGVBWgYEelsKtAwFACyx2D9YALdYlwMtUwEAikU22QrYnZbliRdsoMMSWAixQQD6QRiADXwCMZMKmv3zp3oB5AnEElPooEAADLAZABqhCRTnnQb944JBEewnJ0EF6MCPZYsOVAJMMIkAI0H2sCPUJKcFbQPGEkUs4R5B/fBzxhJHcGFNpywNCxcXuKbpWQABAQAh+QQFBQABACzxAAIAVAARAAAI/wADCBxIsKDBgwgNLlsTwE/CAKrKoBn38OAyNGcaEZRTBE3FjyCPRAAwsECMZQXliCAZoEANdRX//ZNjQsBABwz7HQkApB/InwhnIChRI8CLAgEoqPsn0I+CABuAAIkQoITPhP8YAriQQ4cKBGAE7uwJtCxBVVcFNmIQYMnAFQFM8BM4jkIALA/VOQBQhKC9bQHk6AgwYyBKs4gHFtXhkx9ShgPxdmCKsK8JhBsMYqGc2GyMAH0DNAJQYO5AOQAE2ONc8EKAsAfPFH0xUBVCjRUhg+zHpQCCw6pI2iO4huQa1gPVIW1UZEOEDkVgiuWZFuHOijOQG5wiEEEAEXIG9v/zTobzdTLVTwNA0AGAAqoBLlibTvah7oRkPu5EGqBDGYJFXWBbYGwFwAVCxQEAwBT99OMHVYUFMFZ6nQFljRACFHAGZctQpYAJJRSggAMB5HcQagB8NpBHBcA0YUXzVTQgUEBUxdkyOeyFgAp+eBfeQcEBgNdA/yAAAEMvPnTdQ9mVVZwDyDHF1GgIUDiQkegROdJ/btVY0X8VTaHdQ2FFYKVANaqIkAkALBmAPQUA4FBYalYoU0KmEcSPCISNGcAaBRTwYwD9CBHAOJRxAYAEpv1jaARMqZKhDX0NWuFB4whgghBTLAEEiQo4JJAcFAAxxRQ1IBWaQPyQ5MdV/6xNtAEWZOggAACwtVWggZcmZA98BIFHkB82DaSAmHq6Cqs1lxnLXUHjhEdRrwk1wgUSR3AhKkH/jAMGEkiQMZxB4Y0rkExyLFEEGIAJFBAAIfkEBQUAAQAs8QACAFQAEQAACP8AAwgcSLCgwYMIDaqTE0DOuITj0JRRlRDhv4v/CC47AqZfxY8gBZapIGAgABFyPA4cN6NkAAAlGn0UAaAmAJMA+P1bE0BExpBADy4p0GFGgBoMAiBgKNDehgAOAgjpAHVZRR0dsmp1AOCCQJ4+g4rVqI6gPaozVB6Bas1jvxhHK2L8GaADgLWNsATYcEagn7GACerdkPEfVSQEZSIoa/HiQD8AClgLkMOgjcCYEasQ+I9rGYL/EAAgkxDjQB0AXAiUg9jraroEH378DHSnZ84RApAe+K9AgLUH517sx2D0QLCwD/L8mPvjmgpQA1AAQ7BEACAEl2MPLpy6A8cBkH//XCakSPnz5tMvAckTgcAI6wfqRbDcGlXKjeeaAAAEvHjMgamDRXHABdDPZgWIoIICAkAHhEoFzRWAKgUA0Ihp/yVkD0h/ifWZAhD2U4QEBRSwQRkiBIAYd44JAVM/GPaUnEHLVdRcUP1UKBNB/fQYQGcA1GjQXBEAwAWMjjHUwYwF7VjRdkFNBoBVCH0WAYRDXnQGAArYI+FDVwIY0oz/6BDAjQYtU+QSP/2jV0qcXTQDAJeZ9mORLggRAG1iBifBBkAsgYUQTwlAHWcB2CAoEAoEsAJd/3jFJm/qiLaGhAaeIcFANjDZ5z+bFRTBoZxFNVABOmAZaQCTcrbeBkjOI2jPXxT1mZA1YCxRxBRCDsRPGUscwcVkBv1F7EAUqWJnAAEBACH5BAUFAAEALPEAAgBUABEAAAj/AAMIHEiwoMGDCA1aWyOQX8JlZdBsS3hw4RprBeUEOEOxo8eBUyIAGFhghaqCjUqMDFAgxriO/8pcIFihzL9/AaYEyPGxZ8IcCErUCBADQYAIGAWqchBgJpAIATr0o7imwEghQkQAKIBGoE6ePsMSVOVw4NIARXAGmBFAhD2c6jYEWDIVoQoALwjGCKCinxwgAVx0DXBSrOGBOtYOVBCgDEEwTdUerAAATN1/ZABIaGuQ7uHDQwEHUDfy5cBGI5clVIll4D8uAEQEWJNYxWmEjTwy9AmmQIHcAeyNLCzQz0jHCGFXUP1v2QUAXLzu9Kizo+2OXCgEYNxhd4B/TKOD/xTIRXJnBQhEiECgwHPO6R01doTcUWcBgRvI1A2QOAJwP0zltJ9BYHQAwIEBbEDfe2B9dtg2RdxHxkDjaIeACSUggEB45hGEBQAOcDHOOGA4AEB1X3k0UUfA+VREVJKNo4MDAgRgghxMDWZQPwoA4Ng//fRzBgAKTJVifR5d55McACDQ4U04WbOVOggZd993UCIAgEat2eCRjgm515NjDHRI0ItKGmTlW1D2Y5VGjqXpoFj92LZCQnIY5R1ahOHUj5ZT9HNTAB8i4JA1vtXwohwDzllQASXkNMVTASAgXwCNRKCDTjbcJ8SA93kHxFY6gEGGDlaJ9g8WAc7VqKMC9TkDVUHdjXWlQAgsYVCoA/UDxH0HkmqQOhqtCOtBuSFBqB8HqUMGEkiAYc9BGk0baz/LgFHEEVwYGxAAIfkEBQUAAQAs8QACAFUAEQAACP8AAwgcSLCgwYMIEyokaG1hwUZlAqhDWOafw4sYBQoI0MgiQRMFGy5EQxABkH4EsQSokbFlQR0BRBR0sM1gBYEUBPK7WCKADgYBbHgMoJKly6MGlwkUMpBlh4H2nh4ZanBD0IGqFARY45GpCqRgCQIJEGMgUDIE0eZE2AiAgG1Dx84Q2LPg1LAuc/gUaE+gUqwCVVEE4IAqmAAOCoJcKBivQbQB/OgU2Ihg5QCQDZ4h/M/jPy4BAIwTWNShyoWLFR5OGEEgStKwDy4DAKBj5385aPtBWdphESG/gwMf7vD1wAsEjQ9s1DrAkoQiAJRQ1/lMAdprYBt13HLcEYPqkAvMBFmg9emDfhQQViFCQITrkomudDiae0EkAawWjACgYMSDnTUyAwMAKBCDHKH1Jd92CZ2XUGoYSVZAQf0YV1MAFxp0W0FkAECBR6DVoNxB2S2EBFUOkaRVQviVgOJAt1EVAwBAeESSi/YhBaFBWp1B0HcwxigQGAWq4lF9c+XY0oSADaRXADUaRNKQGwCBxRIv9McFVaANdJeSAv1zU0H6DfQXQScWhEAAU2JG20AOkPEimAqpwsVzriG0xHcTIdRnAP8swwUSS1REVUAAACH5BAUFAAEALPEAAgBUABEAAAj/AAMIHEiwoMGDCA3+W7gwob01ZVQlPGgNDZptB89M3MhxIMOFMQAAANOP4D8hCAQCMCFxo7oaBQQWsKFu4JIAOjrqTPiRjMgAXP55FBJAgY4iGwJQGDfxn4kAEQIIibrCJs6dWAs2HOfgwoaRJQU2KlBATsl+IgIAmQgmgAOM/ZY5CEBG4NoYWfMSrAFgzVeSA9fOCBsAjduE/UoAQEKwSAAVAToYvKlXZxkAOb8GFfhPMheC/RQE8EMYdAEAjQj6KdoPTY7HHFNXHqgugoOaf8P+E73G5IUAgA2mLlA6rMSbOTdSnuhiY46RC3MPFBCgkVDOaZeUHmhYwXXOouUE/0DeUUgR8+jPq9+IRkAMhpqv8wMQwNr1hVWLfCd4OUK/+//MpRF5s3VkTwQKLMOZdCqh9tE/JQTA2EFoAMDAg7sF0BuBE1nDkSrbDSQEAELIYaIcFywmh4cBINDXg0l9dpAcABSAYUypcZjQcgk1h9AMIgUZZAAkCvTXdwH2hRA/pyk40HACTRFADvtlxBGPBU0Rw5ZcKgCACDG0NSUArw0kngIhDtQBAFwQJmVadAVQVYEdVcmghgAo0NI/MwRQQ2MBOCkhABvwIxA/KUoZqEB/ckYnQhjGiGRIFHBBxp96EkafWYdWAEAJZIAhAgC/DYQFA1Y9elCkYHlkzwsDAS8QgWEEbapbI0mp1EFLBDEVgK+qKvRRI3IAy9k/cixxBBn2INSsR/+cgcQStAoUEAAh+QQFBQABACzxAAIAVQARAAAI/wADCBxIsKDBgwgTKgzwT04AhwsJ/pv4z+C4AFz6RdzIMcAUgTUqEiQTYSCFMwv5LQmwoUCAGBMJNgpwoaPNhKoUgCxYpgCAGUdeBCiwRuEyAAEA+IQpUuDMmjejDvynooDQkAP7UQCApOI/IQE6KFSng0ujIgCYimwEJkBJgX40SuXIJYAQIAGwCkQTwEFTewoAQDRIsSJatQLxFhQ6d+MyBhf44a1BEO8MiSoCHGkqkWKAw4UD+Pn4NkDRg/Yikln47wWAopOburBbUEdezlM9g/Yc4GnEmQt1KlxtO0DsgSICLJErEOwK3AJ5H2bo2ffCiwuRKBznwEFq43mniujNSHBlCYShp/O23jjivxkAysg9LjD5SoJFAmQ+KD0t9bU0RcRPRH4kxNd5A9kQgFDAZQYWQbZdxl9Mn/m3XoALAaeQcAfVlVByAdiWQ0Ex0DZhTLs1pUoAFURkTUTFHXQaQS2W9OBqLWblwGsJFZZiVgUowFx7NtEXAD8MAECGXFi4RVBdM/qYFm8MbQCACWCtRiRHkxX0EQJHlFGET2A0lZwQIv0DRAwxWBkBmzUwtwZUC27J5W0SjTlQAVMMmVx+A1lJEABKGWRPgSvaGdEyASRa0DJNYoGdTAEwOlAjcmSqqRxxBRAQACH5BAUFAAEALPEAAgBUABEAAAj/AAMIHEiwoMGDCBMqFOhnocF+jcqsGVewX4Ap/xxq3BiAjMAVBtFQGBiBjMWEZV4gAAAgQIEVqgbyC+CAo82E42oGaFFwDYIALwLMEFhGIU8HMXTEWBlhmcCZOm9KHVgDwFCQA/+JCABk4JIAEk4eFMKl37+zqhwAANJP1ZkADAbKyTh1Y1EdRwJgZRgAgb2B/Wq+dXj2XxEAHQIgMVhCbF2F6iI4sJd3r+IAKhzX4OoYYWEsiAM0AhNAAcHOAukqJL0wR4Ay/SoTtBHANUEhOzUWjgHANlSHMxcWQE0QjYChAWQPdBEAN8EpAUQQL3iWDIACjZ7SdDh9oJAiCvlR7VDgNLlegiaSqw7AJcAG3Y0UAFisPepjhzoCYKGr/GPzgtAl5pAqEQCQn0zbLbQeQnMxWMB7A3VVAkGbHTgQeJktRGAAmxH020LBKTQcQkUlVIFA4DFHkGsWIrQMBVZ1ZpF9CHVH1XRyGPSeAzOwFcAaNIn1zwUBsObiBQC8YBZ1DBSgzn1T5cVTVhHoR5dHDPwlEGlnnDTOBgC4YNaCAUy4VZE2QklQf1u6JMQZR/wE3UA8WajCdS/EoKdAOtDlB4RlpqmmQGwKNMVPF65XJ10dtGQQjfxkl92gDlmT0DbtBVCeQTEJ1EiOB/0TEAAh+QQFBQABACzwAAIAVQARAAAI/wADCBxIsKDBgwgTKhTYb02ARgsJjpMTQI46g6oCgInIsaNAIAKFGMTiYGAHOf8UgqEAYCAAE376DSwTQIVMjzgPyikgsMhNgVgAFMhRxEQABRATCikgYkaAGQqOJg1A02bOqwP7bVBgVORAdVHJ3HQaIyXCZfbMBhhXIYAOgX6QBOgwcCpWjiK5vAjgcyCWuWpVCSgwDueRACUEOi2oQ+1dhX4KmPgXI4BXxZYLbtDoeKHIxXJEbg5ABuXBZRHPLOzXAUEjynx/bv5LsEXmjmcUCHDYr1/VnwhpLhyd8AgAuQEqXw4QgbTjGm47FyxTgQIDABvIqP29sFERId/Dg/8HH4A2wkYINtys3FdgSTSMA9hYSAYBAgAAKHAhyP0xxxICyLHebQI1R0ZB870V0T/qLHGfef0ldFF3CXEBwGICqeCWHxn1c0EA+xG013II/WPiPxZGwI9AEQYXEXEGkVjQYi7wVRBdISZ0oonq4DchfEYt5EdEQkgn0IEFNbdBDEukJNdkA43DE2o67hiAH/jd1AgAFxjp32ojEqRKAQUIGBJiai1xZV1WBlADAB3c1A8DyQmEhpdfGsQecCA5sEQZQAjl0EDN5ehAB0AsgYUQLBUg3JHNCdRYnhwpV1A/OrQkkAIbZVXoQCIYVEEZ0qkzJJWULpTRNgepMkURYEwUmNWQrAr0jypgLFHEFAH0Y2IAAQEAIfkEBQUAAQAs8AACAFYAEQAACP8AAwgcSLCgwYMIEyoUqE6gtYUE/0mUeHBNAIsQM2oMUEIgxoH8dBQQKCDGQ4UTJYoIAGDNP4JAAhzZSDPhEgAeXw6sEcABECEVAnToh3IiEgA45RAdGLOIzppQAzRCIMLBRYJrACBo9FJd0CVFpVJ10JLixRkBcgw8GVWjiQJ+rLociBbI0gBcAGx4mrBEgUZk5wqMYJBMW41TABTpJ5cg4TNPxwkI0FDhzSOMyw4s8yIAzwBgliH0A1HOQlUKLhCVq9MeTlUFGVxNiHrDas0BJDblezDmQh28C6oQgLGxQFU47wqkAFrhW5f/AhfcvRCNkCLXs2PfXkZhXuACWQv+9AOgAO8OeBPmtStROswATg9nXMYgwjidxqXi5M0cDMJlCkRQWXS4CUSdQqKdlhBPYI1nFRcBbEMZTmyFFwBkB80AwBRydCgHAwCAIcc4TMEX3HQQgXdQRwlNYeFHAfAzUoUElYDUjTcKhMVAQsCn3EH+LQQhQkUYNJIJAaAh0Ao+DkQGABKcCF8MVFZZAAAmxLDGUi6qJR9U0c0mEBgA2KdTRz0y1CM/OvEWmFkByKFVDkU28uVG4g200gZgkKFCABGwhVwAbKXU3kW8FaGAk3dqlJ9Ay7AoUAWmDTRooYa6Z5A1plXW6EKk2VPREkeU8SM/pilnqB9y8DNQQAAAIfkEBQUAAQAs8QACAFUAEQAACP8AAwgcSLCgwYMIEyoM0E9OAD/9FkoUuCwAl4kYMSIRqKPgPzAOBAK4sGahHAAoUQpkQNBhh38ZYyJshIBjQTIBCtQosiIAAocJTyLoQJSoCpgCXcpcSvBfiQItAnQcyC8CACwC/3UsofDky39gwQ5sdPHCQD9MYy4BgCSHVII4JSANMK4AAFVBAXwNO3cqwRoR00pUpWBDALd+37od6DTAlLx7ww6UsyQAhcmBC46TWGbhPxMFHCJmbCLAkYI13iI8yaBDhAs11swNoNSkxAiZD3IBAETg6KyGsRLsPSMvgAIIVAppGaCDxGVFhESfLr165YSEI9jzrTrAvwoAwBT/LBIg6swjqmCqshEg/OTmgjH+WwEAzcDf3g1zyd07BkK+jOUAgAjvObfQdguhhRBOKkxWXA1yqNLPPwRuRBB7ixnEF19oAIAAUrV1dVtuBF2HkAoRsQdEZv80aKGGG4LVSE6BoWWgQngttCJCnRV02WWnWRTABnPxowAAQMEYIxgAOCCWOgGEFB9DJC6EXwDqHHnGQJWZlRVWcgQ2I0HLgAdYVlatsFyPU050ZQAbKYBEGULYxeY/hr14wQZALDGFDgoEwMCYAqFxmUBntinRm//UORAC+zGW50AlpJSSCEkSZA9aOSq6EF4VFdSPKo9xsVlTaFlDEFlLFIGVWAIFAQQAIfkEBQUAAQAs8QACAFQAEQAACP8AAwgcSLCgwYMIEyoMoG5NgGX/FhZchuZMI4JyiqCRyLGjwBUCyRTsJwTBQBWqFv77J8eEgIEOHPY7EgBIP484EXIBELIgkAAKgAjZEOCCOoX/HAK4kEOHCgRgBNK0mbPqQGsMLlQIIHKgHAEF5Ajk1yGAEIXqHAAoQtDetgBydASYMXCZVZwxCqy5wJWg3BoEyQCIEBEhWxMIiRbEUvjuQsE6/vHtKpBv1IH9CgRQdfOgZYRnAL8YmPLgxYUOFY5zEOHoZIImxRKk0PegOs2NimyI0KHIUak1OyekuXBG44N0y1SuHYAfz9IDy2JBKAcAgg4AFESobA04VYWpFVL/PlgGQI3OrwVa48mvIGIkCNcAmD+lXz8/2+kGmCrcMdoIDHS3HGX28AQRQWVNQd18MRC0UQFH8beQgApBZ9BPbA0kQQAKWhORZrINRNtlBqky33QD/YMAAA5JqBBxChl3UD+jJVRERLSRcZwCAfjRH2wAkCHcPxEAoNwSNUmk3EJTHEcQkgXxKEJtgH0XgHwMOEmQCQDAGIA9BQDgRwBRNehfACvhlJ5AZ2RHoQsByCUQSQGMU9hOErSH5lmEbQaWDWyFeKZEa35UFBdkzAAAA9A512Nn/4gAwAZYkKGDAACQuAQDA3ExaEeFMrQCTwJFsEZjjvoo0D/WIDaQAgoWGzSOWON8ytFFvxHEEpJCGiSWPbruWgQYbwkUEAAh+QQFBQABACzxAAIAVAARAAAI/wADCBxIsKDBgwgTKgzQT04APwsN/pv4j+CyI2D6RdzIMUARgUA0DvzHxcHAC2sWigDAEsBAlvz+pRRRsaPNg34KgBQpEEyAAjWKrAiAwA9Pgzo6KF3qAMAFgTNr3pwa4J8IBC0ChBxorykXgf90BDChkKLUDgCOBGiEJcCGMwIhUu2IBMASG1p5+qxAcFsBAMsSUhzoB0ABawFyGMQ7d2MjBB364d0qULHYkSICYJFacLBAHQBcCJSDJMDT0ZwHjotYZuE/EwUcTuZZIkBpgjPyHjQ7sR8DAGQGRl2YcmGEhVMCCBE4G+zTrwTF5t7N26eDiVAD0Fy4TEgR7+C/i/5folCVggr8mOuuejw4weUvEPJ+DQAI9gDDG0f8pwLAGpHNVfVcQdLJN5gqfzUyWH4J2RORXAcFJ9pAMQRQQwCqCJQZeQRdeJlEgwkBQAn9LKhdagYVp9Bxu92G0FAWalUQWUugCBZFEQDARYnYOdSBjQQ1EhEQCbVW0HF83dbWj1whAACEIP5zBgAK2GNWAKtFcJR+HQWIpZP/CVTaBiO1JYdIFM0AAF6e/ZOjC8sZyeVGXgaglgJLlAFEAQLA5VwANY6kDphXMnSGBAPZAOScBdX5z54DIQDdn4GCRd4GPKJoD0QZMhpRhoEV1I8qyXGhjkEQIUZQhqp4FkBAAAAh+QQFBQABACzxAAIAVAARAAAI/wADCBxIsKDBgwgTKgxgb00AVQsLWluzxlpBOQHORNzIUeAMgVz+FSyCYKCJRgv/lblAsEKZfyKnBMjRsWZCMgBAihwoJAACHQE6BIgwbufBNQVyChEiAkABNAJl0rRJdaA6BxQ2BAg5sFGBAg4D9CsRAEi/hCoAvCAYI4CKfnKABHAB9WHVmjYCoBHKVWDPtQPXAHBwFmEFAGAK/8MpIYAIg0sK311YBkCOf3yNPsZSkEEAjAhLAOAs8B8XAI/XAFXRFSHKhWETqovgYFzQrUYd6C2ota/B0xWWBfi37AIALlFnRpS5kLVCoGAEZh5YIIAfyQHIIlG4RAECESIQKP+InHyqQtAKoydcI+DFzukCc0IkuLZnQjAdAOgPsEF9AKmTccQPBQio8h5u1FlXkAkBHJEQFoNxMc44YDgAAHMALrRNRK8d1JNcA2nloHABKBBAbNIFQJpB/SgAQBnD9dPPGQAocFaGCjGnkHMH1aAQiHwVpBuKBPnhVGkw/YMAABhxltdCdXGHHUErDmTiY4kFANSTAhmJAD8IGVmAPUn+009SGMHIY4A2wfcZAAXu5ONHAxXxkEj9LDlFPzCpCCeY1nxVg51yTMlmQvDJ+FEEyNVQY4cBVBcbEE7pAAYZOiQF4j9Y6CYQeYdG5CZDMeQkkANESjpQP0BUp1+lBqkgg9GGoXIYgDoG/ePHEgGQYShG9qzazzJgFHEEF7QGEBAAIfkEBQUAAQAs8QACAFUAEQAACP8AAwgcSLCgwYMIEyoMwG8hwkZlAqhDWOafw4sYA9QQiMXgEQUDS1xEQxABkH4EO27MyJLiwI4Eixy0dlGkDgYBbFjkqLGlz4IRInQIAFOgKoMmAujYeXBDzoGqQK7ZKSSAip9YcwQoI4KowRUE5QRQwLRgIwACtjEFEmCGQJEFj5TFmnBNz65FA4hcMrBfPwcB7B4sA8BBWTABABNMuvAoXYH8KDDYFgCvwYgEh+YleKbwv53/uAQAMI7nSoWbDzJeKLqy14EIAsgpe1XmwWUAADT6/DlHbj8oVV4sIoS48eLIL4IVaHlggQCNCsYQiPKgCAAl1H0+UyC3YOGPL1bSKNg8QHWxBGtXN+hHQWEVIgRE6O7HtMPSdG1nDqA/cYAz5AUwxXoEfdbIDAwAoEAMYgFgj30LpYZUQloptN5mEQRA0kG8FUQGABTsJFoNBB4kmEJIzKUQTkNxYRFbJA4UXQAPctjhQDEAAMROJJWgYngOlbfejE9NN9ARBfK2ExgKqrITfm4ByVJ5n63UkQ0BIFBfQRsGAMYGQGCxxAsABOAiQa0JJJeUQb42ED9RDtSlQLF1+WGZAjlAxo9s+oQfQmA0dNBEAv2zDBdILFFRWQEBACH5BAUFAAEALPEAAgBUABEAAAj/AAMIHEiwoMGDCBMqDPCv4b+FBa2hQbPt4BmIGDMKjCEQTL+B6pbM2FAggI2GENXVKBmggA11A5cE0KGxZkIyA7kQ9AMgAIACAE6iTPjPRIAIAYQgXRFzps2nBMc5uLAhgMeBy3SAaQQkqEOFYAI4qNhvmYMAOAMACcARKtQaAdZUvSrwX7+PXYU+RNivBAAkBIsEUBGgg0GZbjGWcVpV58CveR3uNdgPaKOdART0Q5NjMMTLiQWqi+AA5tyPdVHmZTjU4OUCqAWiVhVAJs2FiBW6WNg5bIDTj1UHZT25IJrMxf8pCCCntlOIQopEny69+sLjbX8HcJz64WrJB8sA54jQb2/Dsxdth8ZoL4KCZQOBE/c+HLxBNAAYSG64fI3z2wpZA5EqsRUkRFIEXRAAYAISp1Z9Xxkkx0/7/VPSZerhBtFuCM2gkBAPQQZhcQTxAxR8A70m0BQB5ECiQRdpiBCLBS0nglXd/RNZhAd1AAAXsbF4I1oBMLXeU/Ltt2NxgqG4IAAb8CMQPxcAQCOKcNV1JEaNFaTDDDFUMF4MMXQ2UE9yoMaPmCWQAYYIACg4EBYMNLUlRPIJFEFPZ+ZHEJqo/dNIVQIB0AFtBY0jkKJ3QuWHHJBGKocfBtlDUENnILHEcQMFBAAh+QQFBQABACzxAAIAVQARAAAI/wADCBxIsKDBgwgTKlyo8J/DfwbHBeDSj6HFiwGmCKwBUeA/MDo6IAgQwSK/JQE2FAgQwyHBRgEuYJyZUJWCjQT/lRy4c+EyAAEAFADQsqNAmDJpKh34T0WBFwE4DuwnZImcMiQtqtPBpVERog+Pgskq0E/FpRe5BBACJKrRAC7PkG0Y9mvRjm0LQkVrcRmDC/za1kAot2fChxDtIg7gR2PPNQjtMSSz8N8LAJAFvx1YmOFixWEDIGUIc+FNhZR1CNR8sHNllwHswg07eqHEhUgUjnPgQHIAwYTnHq5LdHbH2nw9zwBQ5ixrg67pdpQdGnlCfgz9JEQToARBGwGglp0mGH349OLVY5JmePqg2oQioAtH+Bks7ACqAlRgaI2haoSQFbRfSULIZ5h5/4BmVD8FKHBWcjQ9V1B5A6kVoHEJ2mfUPxsAYEKBlEF4EXAEYRFDdwGMxNJ48QnR0T9AxBBDhxHIWMODayQVnogjuvXdQQDIcVZ8RRDUIUEACGWQPdrlxyNDy+BXkJMFyeGbaAFEOVAjcnTppRxmBRAQACH5BAUFAAEALPEAAgBUABEAAAj/AAMIHEiwoMGDCBMqXJiwX6Mya8YV7Bdgyj+GGDMGICNwRUGOJRQEEMmwzAsEAAAEKLBC1UB+ARxonJlwnMwALQpuIEhyYU4HMXTEQBlhmUCYN2kqHVgDwIwAHgf+KxJgjZyRGIVw6fevqyoHAID0U3UmAIOBci4uzVgmgI4jUBFe7Zmx61QAHQIgMViC4lqG6iI4sAc3qsG5NO1iwRugERisA/0WVKvw8cIcAcr0KywXska7MQBgDoCUIcyFBSQfRCPgaQDOBxHP7EoGQIFGR2MyVH1QCNWE/CgoMPo6bmzPdRspALA3d9K/DHUEwKIW9mHkGFVFACD9pe6FlBOmpJVbYOdAIAFKdKbLUHuAGgVLLzytMDXCtgkrXGevcBkFp7xR9BxCvB1UQ4ECXaVTTDOIVZBsDC1zAQAvcDUZAwWoA91ScOV0HH8BPHaGX+NsAIALXIUnkHoiCAQGghseZJ2LAqmwEloD5dRdACrY9kIMQAqkg1p+mJcejDEWNGMA6B1Ehlo6qtWBSgYNyA9uuCXJkDUHEWeQhgS5JFAjChr0T0AAACH5BAUFAAEALPAAAgBVABEAAAj/AAMIHEiwoMGDCBMqXKhwnJwActQZVBUADMOLGAUCESikIBYbHQoEKHERDAUAAwGY8NNvYJkAKlpmnHlQjsgARWQKvCmQJEMhBUTMCDBDQQAFjVzC1Emzab8NCkwE6Diwnw4sfqaMvLjM3r+B4yoE0CHQD5IAHQYmbTqzI5cXOJkO1Oqz6ZGtRA3q+Mr2op8CJv7FmIqQbt+OQyF23CCQjBy+BZcxPLOwXwcEjQTHPWi46RkFAtYE6NfvZcyFLxcyVngEwNkAg6ka7HyxTAUKDABsIAPZtFyDjYoIEU58+PAAWBQ2QrBB5uCcnPFeJIMAAQAAFLgQ9N03YwkBcpwT0Y5eF+M/dUusJxfIXaHEhWsPcgGQWKCKsX4oFqR98Z//f/NFwA97S6HG0GoHyXZQfXNJx9B//qlz3XtoBCDVQn78BFlBZBgUQQAbxLDEhgHwpxCEX/lxnUyNAHABid1h1A9cChJkokBLBJChQJn9J1ANAHQgUz8MwCYQGjDGmNBzTBUhUFoODGTPQB9qJ5ADHQCxBBZCnFRAao19KNBeSmIUW0EXGvReP1UOJIJBFZQBozoZSlbmRRRtU1B8BfHVT4Z6CvSPKmAsUYRW/fgXQEAAACH5BAUFAAEALPAAAgBWABEAAAj/AAMIHEiwoMGDCBMqXKjwn0OHB9cEkMiwosUAJQRSFLgMyQwKAgIIqfjQoYgAANb8IwgkwJGLMBMuAaBxpcAyNAeOZFgSCQCacvqxDFDEZsyjARohEOFgIkE5QMComiGS5EqlTFNCnEg1x0BrSGGaKOCnqcqDVHdaLFGgkQOtAyMYJBPW4hQARfqZRZj24swjeuHefBGghkAwyxD6YShnoSoFF4SaNUqwb8XHGyQLdtiy6MKWC3VQNqhCAMW9aKtWHKvy39uNAjuPNohGSBHbuG/rLqOQCwDRAienVtsbAJB+Dl8XlF234jIGEcbZRG3QssJlCiKoE+hacGyiswsmuXac0PCSgWUDcAmwrbpqhTMATJFDXw4DAGDkjBvIXCFohcAdlFFCU7hHHEIl/KSgggJhoRNRQikEBkPrIVSEQQUEYEIAaBjIUBExhChiAQCYEMMaERboVXNHuebUcAapMxI/No322lYByAEAAjlc2AiLFwk3kGEByHVBbDapQhNY3JXk4lkEFaHAQHQBWRF1AiFw0AVJLjmQk93BRpA1jW1nJUOL2VPQYgb9KBA/jUXY5EN+yMHPQAEBACH5BAUFAAEALPEAAwBVABAAAAj/AAMsC8AlgMGDCBMqXMgwIRKDOhD+45KjA4IAG/o1PCgHgEePBhkglBOgw7+NKFMqbHQxQMSD/xQgzJiyI4IOOHGqOGmQZAeVQFP+K1GghUuJAabIAYNRI8qOJv9JlXqwUcELB/0E3YpwCQAkOY4uZErzKYCoU3mKRVjDKVegqhRsCBD2pUKybhtCTUu155IAFDjmPTguZRmU/0wUIFmXId6aABh0iHChxhq1AXzWTBlhcEIuAIAYbDy2KWQABRCAFDKyZMplRYTEni279t+GcSPYG7024WOUjY6oOqnKRgAATHu6frv13woAaA6Svmt6Y1qYOQCI4Lh8426UWhmSuwmgguOMADXkqBr8uyHfqWgAIOCp+SlnzwZvM1TBvrr79/80EkABTmn1E0qqpAQEfgEcllBggR1BXVn/vQcGAA5QpU4ADjCXUD8MMjSdb/4Z9A8WmTklIELLVABAWyZGAMAKrDno4VYjBnDbdjIFEMNAAfwz10MGXbABEEtMoYNMDKxoEBqBGQTjjUHlGMNCAKwoZABEBlDCRx+JQJJC9miVIJVBJQjkQWcmJAc/JmplDUJWLVEEin0FEBAAIfkEBQUAAQAs8QACAFQAEQAACP8AAwgcSLCgwYMIEypcuHAZmjONCMopgoahxYsCVwgkQ3AckhkXCgTQ8Y/hv39yTAgY6GBNgH5HAgDph7EmQi4ANkrMOZCkSZcALuTQoQIBGIExZ9pcOtAagwsVAnAcGJGLKh0jSy5U5wBAEYL2tgWQg3XGwGVMa8YosOaCVIRYfS78agLhBoNYtKZdSAYASbdTDcbVm9Dt0YNnagR4MVAVwogLXSoc5yCCugCA4WbdKrJRkQ0ROhS5jFQmTYUxF84gbNBsGYGZDw5eKAcAgg4AFESAba20UoWSFQY+WAZAjdOxBW8GDqD5lH79/Ow2GyDp6b1bIzDoDfut7OUJawPUiEGwYoHL1hdyV+gYIZAAXwdKCDAlgDXWs9k3x0LwHwIALqWHGkOrHdQPYwkVgR94Cf1HxnX/RADAa0vIxNBrC03B2kAVFqRAACJ4R1B+CpkAQGoC2VMAAH4EcBR52AVwUk3JFUSiQP0IEcA4WuEkAT8C/aNjBCWpIkABNnwlR4wY1TiSQBQEEOVy/OTkx2n/iADABliQoYMAABwWwBIMDMQFkxc56cBBDmhVZQBXBmlNXQMpUF9B4yw5DpoWRUTaQC0W5Icfei1pT38oLVEEGGIJFBAAIfkEBQUAAQAs8QACAFQAEQAACP8AAwgcSLCgwYMIEypcuPCfw38Elx0B04+hxYsBiggEUlHgPy45OiAI0KGjQhEAUgIYmJLfvzUBREDESPOgnwIbTf4bObAkQx0dggp1AOCCQJgyayod+E8EghYBODINMEUOGJImEz6cSRLAkQCNsATYcEagn6U0kQBYYiNq1oFXfTZ0ONAPgALWAuQw2BatxUYISraVajDu24MPB+oA4EKgHCQBjDrmSnAcwzINTRSQE2Dw4QCG527txwAAmYFIKR+EuTDCwikBhAj0fDC0wq0OrzqgGyD1wmVCigQfLrz4EoWqFFTgN9ttbayiH5oAAIS3b78M/6kAsKYj7cLQbyfDVlUAQKPE1xPaY3gW4enGA2MEqBFAFXi5WhMLAVCiH/qYqhnEmkKuIQZZQivc91lBW0UAABf+0cVZBwEW1AhDQCSEWUGuVRDAgQTZJt4/ZwCggD1bBWBZBAtit9B3BYnokVhydPTQDAC0lVgA/zjogmwbumgRjAEcF1MACggUQ148GrUEV/+ogwB3KQbQzxkSDGRDhULy5dxALxwEgCoV/eMklMdtEGGA9pxlX5cM2bdMQW8SJEeNdQXA5ED2qbJjAAEBACH5BAUFAAEALPEAAgBUABEAAAj/AAMIHEiwoMGDCBMqXKjQ2po11grKCXCGocWLAmcI5PJvoL0lNS4UCFDD4r8yFwhWKPOv45QAOTDKTEgGwMaOAhvZHFiS4ZoCNoUIEQGgABqBL2POXDpQnQMKGwJwHGhNB5dGQEjiVKgCwAuCMQKo6Ccnq4ujAVQxlWkjAJoOUrcSzFpDLsIKAMD0E/ivpoQAIgwu2buWYRkAOf7BnWqQrt2DJQBgGfiPC4DAa3SIHdgIYeeFaxaqi+BgXIDFjwM4Zmi5wrIA/5ZdAMAFKUyGLxeqWKgZjEDUB1czXKIAgQgRCBQMtq1U4cSFvhOuEfACJ/DGWi2C6QCge4AN0QMk4i18kR8FBKqsxw2efSEWAA64jBsHxgGA3OMXbmP4+aAQ1QRFdUQArxUkXEL9KABAGbD1088ZACiwV34K5cZVQj0hlJWB7SXkR1F8tfQPAgBMNFlbC6Gl0HIHTVaQAoAFoBeHdS30YQH2iPhPP0BNxOBu5DF1HY2PFZFWR/2QOEU/LQXwHgL8BGBNAQXUYKQchAXJ0JAABpBSBALZsNVIoQkERFE6gEGGDkBt+A8WDgzEopYLcUnBQRLiROZA/QAxUndoGqTORPvRyV8A6hTUH0F+bDWRPXz2swwYRRzBRaEBBAQAIfkEBQUAAQAs8QACAFUAEQAACP8AAwgcSLCgwYMIEypcqLBRmQDqEJb5x7CixQA1BGI5uEHgDIoM0RBEAKQfwY0ZL6qUOHDjQFUFP14sEUAHgwA2QAZAubJnwQgROuwkOG6gkAAzKna08VJBgDUgj6rwSTVHgDIihh48mnRhIwACtukEglQgzYJHdFJVuAZjgKwuDXJlWAaAA7VgAjgoaIIhzLUC+VFgsO2tVrllF56x+w/kPy4BABQdmlJh3IR9GUI2fJng3IXLAABo1LhxDtF+TPJkWERI69euY1dcMRAuws8LRQAooa7xmQKi21IGbLFCQdtbEy/0o8CuChECIgD3o9HtwslUixgUqj15V4WNG82VYABAQQw5ke1Vr5yw88HMB60qNOlZecLSBckAoAAScg36CQmnEBJqLXSTUFwUiNt9+A0UAwBAgCRSCQUSVxFyiH1H0BEEldaYQGCUpwpIk2lo4YWHKcSeQCKBuAEQWCzxAgABJEjQZgKldSJDGAp0wUEI6IRAAC0GoB+NAjlARoU7+oTdQgAKFJFA/yzDBRJLTKRWQAAAIfkEBQUAAQAs8QACAFQAEQAACP8AAwgcSLCgwYMIEyrk56fMGnsKDVpDg2bbwTMRM2osGEMgmH4DwZgoAABAgAI2LEZUV6OAQJTqBi4JoGOjzYhkBnIZ2O9CgAgzdLgguYGfwn8mfgYQEiHACpk0b0o1OM7BhQ0BPg7UQeaf139ySE5RCCaAA4v9ljkIkDMAkAAdp8oNUCPAGqxaDX61AWBGwn4lACAhWCSAigAdDM6cq7FMVKw7D34FAiDuwX4kGxH0E0BBPzQ5DGfUzFiguggOYuIFqddrBwBHEmouwFoga1UBZtaMuFihi4ihywZYLfkfEgAMxiVE0/kfwX8KAsjJHTWjkCLXs2PfHpG5ZcgI/63sIdkWYRkAEfo5D+B1LUbdpTXai6Bg2UDiBuUoENwd+dev0a1B3W4KWZORKrUVJMRSBPk0mIEE6RdAYRHJAUAB/3nlkmbw8ZbRbwj5lZAQ6wXgBwMAkJgRPyTZN9BsAo2VQ4kIYeQhQmMVFJ0IWQ3khwMAAOGVRq9xUdtYPLLlVHxy4RdAI0ACoR6NAxXmYgDHFSUQPxcAkKOLdQlEJZMIgTdQlwjAFUNcCw5kkhys8VMBACWQAYYIAPg0EBYMQEVmRk4CeVBibkrH2j+NYCUQAB3gVpByAUD6p1R+TGdQI1RCNJBXZyCxBHMDBQQAIfkEBQUAAQAs8QACAFUAEQAACP8AAwgcSLCgwYMIEyr8pyoAGmsKDf6b+M/guABc+kXcyJHgFIE1KgpcU0PBQAAl5ETktyTAhgIBYkwk2CjAhY44I6oyGaDGwH86AihoEWAGA6F+NCJcBiAAgAIAZIoUWPNmzqsF/6ko8KLn1CVL1A0cd7NrQnU6uDQqEpUiVTABIgxMijUnlwBCgHhVCNdBQooV2UoVqbeg2boclzG4wE+vT4VrAvhFCDiA4Mp+PsodidDeRjIR/70AENnx1IN6VSiV6Pay2wBVN9aMyDMh6KABTCdcAxXN35mWowaoHDvixYhIFI5z4MBz7p4Jt8nFTbm18NfFEXP8NwNAGaW6LW7CCLBi9cHXgocDz56Q30Y/CX2XIGgjQNfZA9V1CGDC/ULg6WFnk2wb1WbQXQmJQJA6Cpbg3H8zuTZVQxVsBFFE1BkUWUEVyiXEQPbMJ4JY21Ek4UD9FKCAedrlFF4A/KgQQAckHnTXhupNdKJA/2wAgAkfgtYiTo4RFBQARBEUA0EKCiHSP0DEEIOPEUhZw2prWGXfkETuJdCSBzU1kIJFEOQjQQA8ZZA98DXEZWIBuCmQnAWpNFBNy9Akx558ykFXQAAAIfkEBQUAAQAs8QACAFQAEQAACP8AAwgcSLCgwYMIEyoUeObMsoUE+zUqs2ZcwX4BpvyDyLFjADICVxCUY8MBwQ5rFpZ5gQAAgAAFVqgayC+ASY84EY672YJgkQAIVASoYRLBmo0IezqIoSNGywgPA9S8mbPqwBoAZgQQOZBLEYsC1YkIUAIjQiFc+v1bq8oBACD9VJ0JwGCgHKRWOZYJoOPI1oVoYHZc+68IgA4BkBgsm5ejuggO7PnlmrCRYI6EsRwO0AhMAAURD+JN6HlhjgBl+k1e6LfD6ISEYwA4LdUmxJoLC5hFiEaA1gCrE/pBEKA0xLVkABSwXJtqwt1nfybkR0FB1OAH1W0IMAO6wn+NFADMUCxwamOPOgJgQYq9oL0SZO15VBUBQHqathe+PngXoZwC2w0EBFkH8WNCAB2oM18EQxVk3kK4KaQbQnslVAFB/Ai1AVgcLUNBVt5h5BxC3h1UQ4kCyWHQdg7MAJdA/cQQwAXbeLTMBQC8oFZB/zBQgILnVeVXTwPFGAAFUR3k2RlmjbMBAC6otR98YxWHYpAHtSeEQAcWxGFP9wWggnIvxGCmQDog5UeAZF2JZUHthWnQTAKBiVQHLxk0Ij+WMffmQtbg5B2dnKkoWkAAACH5BAUFAAEALPAAAgBVABEAAAj/AAMIHEiwoMGDCBMqDNCvUZk14xYSHCcngBx1BlUFACOxo0eBQAQKIVjmBYKBBVZoVAiGAoCBAEz46TewTAAVND/qPCingMAiOQO4COAgRoAYJyMsUyikgIgZAWYoCKCgUc2bQXdq7bdBgYkAIwcK4RJUlYMAIRMus/dv4LgKAXQI9IMkQIeBVrXqHMnlRQCgCovY3XkkQAmBUAvqaKu3o58CJv4ZDZsQi92sEkcmljNyg0AychgXXLrwzMJ+HRA0kvwXc0GjOXSeUSBgDcN+NnEutLnQs8IjAOoeBauQDIACfiSWqUCBAYANZETndl2wUREh17Njxx7AcsJGCDbk/zQK+GCjqUhEJySDAAEAABS4kMTa+GMJAXLGEz+oKkJc9Qv9o84S7nkXwHQLYbRQXgdxAUBiAqkQlx8rDdRfADUAqNA/HP7jYAT8CISgQrwp5NtBlB0EYQDLUBAVdQh1yKE67ymIRgBfLZTcQkJo+JlB/m0QwxKMWXNBAC/AeJCMbfnxXk6NAHCBj/VJ1I9fKY7jmQtKLhHAjgGs1qFANQDQQU79MDBcAGhQWeVB5AUlYQF+EaRDUP7JJ5ADHQCxBBZCuFRAiQGQ4Z9Ai73p0WQE3XWQA4z1k+dAIhhUQRkaqpMcaYpKpNE2BDFYkB+RJgeqQP+oAsYSRUzBEIcBBAEEACH5BAUFAAEALPAAAgBWABEAAAj/AAMIHEiwoMGDCBMqDGBPjsB+Cwn+mzjx4JoAFyNq3BighMCMAqeUKDAQARB1CylOFBEAwJp/BIEEOMKxZsIlAD7CFOggAIUaAVTkVAExoUokAHLKKSpQZpGdNqMGaIRARE+QAWycgVqGJBmoBitSteqyIsYZAXIMtCa1pokCfq6CLdjPRAAgTBOObOSg7MAIBsm03TgFQJF+VxcC1THXIM4jiP0KLPMiANAAYJYh9BPRoUJVCi5AlJuQH2AweQ2C3jBa8kSnjQvKXMhYoQoBGRMnlCmB38K3L//1xXo3wNOFaIQUUc58ufMyCrkAqB2A9EEwAAoQNygd78Thso3H4h5scBmDCON26jbYtQCXhcsUREAZQLjkpuLhR1SVEOiSgXEF8N42BaFBEhYRzQDAFHI0KAcDAIAhxzgDwbbQbApRZ5BHCU1B0BoIBDDFeASVkNSJJwqEoEBCGJeaQWBE9B5CRRhEkl1oDCRHiEiQSFARMQQpZAEAmBDDGkV5qBZ5UQmHEUFyKDBTQuq0yM9Ocw1nVgByAIBADjU2wiRH1vUjpQMxFPSfQKrkxJZAKn2H0VxFSCmQYGNqtF4AAiBUGZtuDhSnfdsJZI1D9OW5EGf2QIkQfwLx41Becfohh28CBQQAIfkEBQUAAQAs8QACAFUAEQAACP8AAwgcSLCgwYMIEyr810jgNoUQCy4LwCWixYsCkQjUQXDNDAUDAajwA1EOgJMnBTIgKCdAh38YYyJshGAjwRoBFLwI8DEAg4YJTSLoQJSoCpgCW3aQyZTgvxIFWgTgOBDJFHsDrUUIgDMogJf/woYd2KjihYEkm2JcAgBJjqkLsQSgoNAkWLFI4Ras0U+tRVUKNgR4SzUhmQBbvd4VO1DOkrmN+xocF7EMxH8mCrQkvJBjjLwGTTLoEOFCjTWglUZsCTGCZIRcAAARyDkhmgIA1tQ9WQBBSiEsXUZcVkRI8ePGkz9OCDgC1sF6D6pyAEDI64ONjqiCqcpGAABgGgvl92vx3woAaAbWNmjtAoAZlxkL/JcDgAjxSyE+V5j24GEVjcFXgxyqXLfNWS5cdxBeeKEBAAJIqVZSRK4htBxCKrw2zlIq8BMRg2I1VIBkJOWnkCoRAaHgQJYVRBddRwykzn0mePghiP+AAYADY6kTgAPkCdTPigqtF4A995WwX0H/yCWHZEANtEwFAPA1XwQArABci0FatN4/OAGw000D/SOYRgJdsAEQS0yhA0g/EYQGXQJZ2WVERgJ4UAFlnjlQCSihJAJrBdlDEop3RoTiRAMhapAfkv1DkjUElbVEEXKNJVBAAAAh+QQFBQABACzxAAIAVAARAAAI/wADCBxIsKDBgwgTKuTnRyA/hQeXoTnTiKCcImggatxYcIVAMgS5mCgwsEAOdRD//ZNjQsBAB2sC9DsSAEg/jjgVcgHwkSCFABFmBHBBUsTNhP9iAriQQ4cKBGAE0rSZs2pBawwuVAgAcqAOMv8GriHJRaE6BwCKELS3LYAcHQGEClxmtWqMAmsucIUotEZYhGpNINxgEMvfuhrJANDxT2/XhHBrKNQb9eAZyS8GqkJYEWJMheMcREDpGCLhJQnVkWxUZEOEDkVQSq15NCFNvocPCi0jsHTCIgAc2EsoBwCCDgAUROhtbTZVhZ8VPj5YBkCNo74tkyyTu+AaAOCn9Pbr52e53Km1EUNUF4FB8957D65BEGAKxOIAYhDMWAAleojvKbQZQkAEoNZAEtQXgDW5yUEfEt0ZpAp4WBD0DwIAxPSfQrcpNEOEMmX222FyKGAgiAZhSEZt/0QAAG+oFQgRbxBNgSJqBZkoQnwB+OFATSgaZAIAHQZgTwEANBSVfuoJpFJO2fX4IxAo9iNEAOP8tZMEDwXwz5URhKWKAAXYoJYcTULJI1ABKMDkQEX8xQ9Pfhz1jwgAbIAFGToIAEBlASzBwEBlpclRlCYeVMJAc/ZopzWCDaSAfQWNg+Y4hnJUkWwCNXRQIyQaaeFKSxQBRlsCBQQAIfkEBQUAAQAs8QACAFQAEQAACP8AAwgcSLCgwYMIEyr81ygAmnEKD/6b+I/gsiNg+kXcyJFgEYFANApEM0PBQAEqGioUAaAlgIEt+f1bE0BExY44E/opAFJkgBkBGLz4iSCAA1UKdXRYytQBgAsCadrMSbXgPxEIWgQIOfDIFH4Dl0UIYGMhxYEdABwJ0AhLgA1nBPqpShUJgCVluSZcEgBqwrNyARSwFiCHwbJ0OzZC0KFfXp8HyQSgYPZmAB0AXAiUg6TvQDmWCUKMWCbiPxMF5JDdCvnwz78UJ/ZjAEBy1JqhD9KMOFbhlABCBD5OeEZA6tYDY08EY3Ti7akKlwkpMr069et8E6pSUAHsar0GVTnmAF6ZogkAQJwHkJo78V8VANaIHG5wWYXX5QOoKgCg0Vn2Edmz0VwISabZQDEEUIN+BVkDVQzIWXWWEACU0M9/uEW0m0K9GfRPZwmtQNA2GwTQQoQeUhQBAFxc6JxqHbRXkEoKAZFQaQWNdR+IAYzTQQAmeLcRRWcAoIA9sfUYQAQourcRfQGo82OQCP3jlhwiUTQDAGUB9s+KLgSHo5MdQQmUAEMRtKBA/0C1hGX/qINAfEkG0M8ZEgxkg4xkHgSlCQgVxaabcPK1gYvt2TMXUn1yhNQyBNFYEIFyBUAYQUipAlgAAQEAIfkEBQUAAQAs8QACAFQAEQAACP8AAwgcSLCgwYMIEyrk5yfAGnsKDVpbs8ZaQTkBzkTcyLHgDIFc/g0Eo6LAwAI1LCr8V+YCwQpl/omcEiBHx5sRyQAAKVLghgARProwuQFiwjUFdgoRIgJAATQCadrESbWgOgcUfoYcCARMv4FyEARY8hWhCgAvCMYIoKKfHCABXEANoKoqVRsB0HQIsDVAv7IEbaZNWAGAV4H/dEoIIMIgWbsdywDI8W9vX4RC4iosAQDLwH9cADReo4PtwEYIUUdcE1FdBAfjAljuibBxEYWhKywL8G/ZBQBcotbcSDOiioilwQicnXAJAAXbaB9cogCBCBEIFDwOIHUjxojKjwr/eNGT+UGkAcIrBNMBgPsAG9R3h9yRHwUEqsrzlQ5WQYAjG2EBgANcjDMOGA4AUNx8Cm2zkWoHZQbXQD8BuBtBcjAQgBD8GdSPAgCUwdtfZzz3FYMJFafQcQjVoNCEAvnhQABAdGiQH04hJtM/CACAkWd4RTSXQtsZ5FlB/jV2WACNREAjYArhWIA9O/7TT1IYicgifXaZx6STOkBZ0G35+dXjFP3IFICACPATgDUFoHSbHGJyqZCXPyGwFkGZneQQV07pAAYZOiQ14T9YzChQkXZG5KWiBnUAmEmsCdQPECa5F6hB6mDkYKMcoaYOQQ0dBGEAGBnlVz/LgFHEEVx8BBpAQAAAIfkEBQUAAQAs8QACAFUAEQAACP8AAwgcSLCgwYMIEyrsp1BhozIB1CEs86+hxYsEawjE0nDGNotoCCIAwnAgR40YUyqEuJFgB4ExArwQeAFjiQA6GASwUbElSpVAC0aI8JJjQX4GkfQ8uGHnQFUKAqzpKSSAiqBYBeYIUEZEAKMB/i0dqCNAi4SNAAjYthRIgBkCbxY8MjZrwjUBNHoFi7CI1YRlADgYCyaAg4ImLKqyO5AfBQYf916sivCMYLEC/3EJAGCcT4t8ESa2uDmA5IRTBC5LuAwAgEZixeZw7YfhyYtFhOTerbv3xRUDTx+UM7AkQhEASqgTe6aAa7xf8zLGWKGg8IJ+dBYxjtCPAsEqRAimiODcz+eGnu36LfhyPfbiDcU2msEAgIIYxAHYO68w9MHRB2210EHcIRRbQWQAQEFPm9VQoEHQKaRUSjq9xEVdOtRl4IEDxQAAED2FVIKG01l03WJ5kSjQEQTFhlkAYNinSk/pwVWiSte9dJBbBYUkEBgbAIHFEi8AEMCFBJW2ooo3EnRdBAg1NRACAfgYQIJGCuQAGUw2qVJ6QUmU2TJcILEERWMFBAAh+QQFBQABACzxAAIAVAARAAAI/wADCBxIsKDBgwgTKlQnJ4CccQoNWkODZtvBMxEzaiwYQyCYfgPLVBAwEIAIOSAX1iggsIANdQOXBNCxsWZEMgO5EFxSoMOMADUYBEDQMOE/EwEiBBCidEXMmTajGhzn4MKGAB8HLlP3b6C9DgFmpDwIJoADi/2WOQiAMwCQAB2lygUaYM3VrAmxBLiKsF8JAEgIFgmgIgDYgjLnaiwD9apOhYEV9isAoBFBPwEU9EOTg3BGy4oFqovgAObdsQbXrGWM0HIB1ClVBZBJM2JihS4idi67FyvquhUoOABAAUxXhGgyHxf4T4HD2VAzCikyvTr16xGTx+39mOAaBAgAAP+IsGS5wTLj+x3/928tRtqhNdqLoGDZwNMH/6nDwgDAkYRoAMAAewQ2Vxd0tSlkTUaq/DaQEEsRdEEAgS1IUIFkAKAZQnIAUECB7LFkGXy2ZZQbQj8lJMRyIE5WGUL8UGbfQK4JNEUAOZh3UUa3GXRjQc6JgNVABQpkjXgzHtQBAFyMdaOQbAXgVHxS4SdQIwQOpMN4ggWQJBIAbMCPQPxcAMCPM9ZAJJUaOUaQBBsAsQQWQmwAgAC8CQSAQynxUwEAJZABhggATDgQf0+xmZGVnhUUgXHL7YkSc43wFQAAHchWEEQBcKpoVP9YA8YSRUyxRpYF2XPhP2cgsURyAwUBBAAh+QQFBQABACzxAAIAVQARAAAI/wADCBxIsKDBgwgTKuTn5wyaZQoN/pv4z+C4AFz6RdzIkeAUgTUqCrTWoQDBCFxEIuS3JMAGkzEmEmwU4ELHmxFVKQA5E0CFFwFs2ATwMeEyAAEAFAAQU2UAmjZxSi34T0UBoCEH2lNF8J+OAA6cFlSng0ujIkwpCmwEJkCEgX40Tr3JJYAQIAGyGk1qDyHFimibisRbEOjcjssYXOCHt0ZEPwEQJPwbIDBlPx/fClyDsG9EMhH/vQDAubFYgqpKBAAiV6Jay2qf1txIM+JOhaC/rs4r9l8HtwEYCOE3WWZlpgEoQ914MSISheMcOPDcWKKDgQpyeD5IOXBy48sPd878NwNAGbmmEfY7syGAieIivccOv3AjZIRoAqgeaCMA0NoHLaMAaX4ZJx94s0UEYEK3HVRXQiJMplpL3L2WlnEBcFXBRtZspNtBnBW04VtCTGYTFvD9A5tK/RSgQGviSZVeQmQIAACAdYX43UQrDvTPBgCYUCJoMd5UHX8O5HBEAEeokNSHAUQohEj/ABFDDEBGcGUNra0RlX9FGsnbQEWYRJACQsAYYREEAUkQAEoZZA9kXIXJEUR1alXGR0iUsd1ANEEEqByEFipHXAEEBAAh+QQFBQABACzxAAIAVAARAAAI/wADCBxIsKDBgwgTKuwXAE0AVQoL9mtUZs04iQGm/IvIsSNBMgJXEOwnAgFBB0silnmBAACAAAVWQBTIL4ADjzgjjrsZoMXIABFcCOwgsIhCnw5i6IjRMsIymjZzSj1YA8CMACIH/mtU0CiCmgiFcOn3r6wqBwCA9FN1JgCDgXI2TsVZJoCOI1gj8isQgCvHsv+KACCKxGAJhnM7qovgwB7erAkvFlDXETCWwX3BBFDw06BchZoj5ghQpt9jhct81vAIOAaA0QFq8lQIVmEBxAjRCLga4LRhgQUQ6MAdsSwZAAX8yuZI/KAQown5UVDwtHdegxUCCAiAoMbFyo0UANcoDHV24o46AmCR6/vgvzUiAnRojlBVBADpBy4vzjEuQjkFbEAQEAGUEJE6N4WmkH0BrEbQfrRxdBtCdSWUXUIxBCBERMtQYFVzDJmHEH0G1UBiAHIYJKADM6iVkIHQIbTMBQC8QFZB/zAw2XmJ4eVTZwOtwdcaA2l2BmLjbACAC2R9NpCB8QUAxok8HtReAEAwYAN0L/CV4UA+5ReACsi9EMOZAukglx8CCnRYlR5dOYVJBBUAhD0EhSlXBy8ZJCI/XPkFJ0fWHMTPGVgMRNlBM/WVonsBAQAh+QQFBQABACzwAAIAVQARAAAI/wADCBxIsKDBgwgTKgxgT06ZNeMWEhwnJ4AcdQZVBQAjsaNHgUAECiEoZ0MBghfKLARDAcBAACb89BuoUsXMjzgPyjkZoMjNAGUEbIgRoEaEAAXIKBRSQMSMADMUBFDQiGYAmzmzDuy3QYGJACMHjttGsN+LAB3+JVxmT63AcRUC6BDoBwnagVW1fhzJ5axPhWsAKHDr8UiAEgKfFtRBWK9CPwVM/CMaNqHSCo0ljlQsZ+QGgWTkZBa4TOKZhf06IGg0uedPg34uBFgyOuEZBQLWBOjXr+brgyoXflZ4BIDdAJQNbqMQwAEAB7QllqlAgQGADWQI+17YqIgQ7+C/f/8PgEVhIwQbbhL9S9AaggAuHQj5fZAMAgQAAFDgQnC7444lCCCHemAlxA8ZR9lQm0H/qLMEfuUJ5F9CGHGXEBcAKCaQCnL5oRFCfghQgCr0FfTPif9gGAE/El5VYn8SDXdQZQdpeNBRSimE4onq5FchGgF8tZAfmi2YI0FHDRUdQlKdltCOavmR302NAHDBgv8pZFaBBGW2BAAIVDhbAEQKxBqKAtUAQAc39cMAcgKhgWWWBa33kwkR6IAEF0KI4JJhAx3Fn0AOdADEElgI0VIBwYF2lECM0dlRcgPpwNNA0BHWj6ADiWBQBWWMpg6RpUkqkUZkbTUOGUscsQQav/URQ2SqAfyjChhLFDHFbicGEBAAIfkEBQUAAQAs8AACAFYAEQAACP8AAwgcSLCgwYMIEyoMME6gHHsLCf6bOPHgmgAXI2rcGKCEwIwCuUQAMFCACT8LKU4UEQDAmn8EgQQ4wrFmwiUkMcIUCKSAiBoBZigIwECVQpVIAJCU0y9mgCI7bUoN0AiBCAcYCariR9BahABAmiKsWPWqy4oYZwTIMdDa1JomCvjB+lKhkAAqNJYo0MjB2YFfC5J5u3EKgCL96C6UaSMiziOJ/wos8yIA0ABgliFEuVDOQlUKLjSlG9VgGQQFmCoEvWG05IkyoS6OqKO0QRUCMioWLHDohjNiE8Z9+c8vSJ5PbRtEI6RI8+fOo5dRyAVAbYGkC4IpMLACF+UEq4fynWi8YGzwhA0uYxBh3M7dA4OrQ4IgAJeEyxREUCewuGTksimk2WcJAbXEQHPZF8A2CRlGQT/gzQDAFHJUKAcDAIAhR0MAojeQTAtdd5BHDeIHgADBFVSCUiyyKBAWA92F2EJgRHQfQkUYxJ0JAaCRkBwAFIBeETEUaWQBAJgQwxpiTbFWelMVl1VC/cQQgAg7qXMXPzvZZhxaAQCJQA45NgIlR9n1JgIQS0wBxFcFgKQKSW71p5KUdRFUxFACDXamRvAF0EFOA13g40BzBlBnAHf6d1xXnvH3Z0QoQTTQP6qAgUQAFNrGj2cp3umHHFwJFBAAIfkEBQUAAQAs8QACAFUAEQAACP8AAwgcSLCgwYMIEyrk5yfAGmsKIxZcFoCLxIsYBSIRqIOgqg0FBgKQACaiHAAoUQpkQFBOgA7/MspE2AgBx5YALsQIUINCAAAWE55E0KFoURUxBbrsMLMpwX8lCrQI0HGgOooD/9kIQCHpwZMw/4kVO7CRxQsDGzrNuAQAkhxUIzYs0E8ogLBjvVYlWKPuWomqFGwIAHcvwjUBHCgEm5es0iVcB8rxW3CcxDIR/5ko4LKwwkYdAAjxavAkgw4RLtRYQ3qpRJcRI1A+yAUAEIGeC/5DGyFxEdKlURZAoFJIy5cSlxURsrw58+eQEwaOYA93XN0KCggIoEDHbIONjqj2iqlqK4CSSpH/vfhvBQA0A3NnHcivDNoXCfNmzQFAhGT1ClUnV0JkBKCCZDPwJIcq3w2kCnGwGdTYWGgAgEBSrpkkkWwIRYeQCg0K9E9oXIQ4oViNBECXQA0xFZEqEgERYgCYFeSTT0fkF8F5Jp4IBgAOkKVOYusJ1M+MCMl30D8lFYDVP1gEMJlAKRK0TAUA9CXijisYV2ORFyk5QwQ5HIFFESb8dJuIg20k0AUbALHEFDooEAADVQqEhk8CaQmmREoCERJBChxB2T9tDlRCSimJECFB9jQE45+ABYDVQPaUMUURS5TBj24NQVQWF0sUEaVjAQQEACH5BAUFAAEALPEAAgBUABIAAAj/AAMIHEiwoMGDCBMqVCcngBx1Cg8uQ3OmEUE5RdBE3Mix4AqBZAiSoQCAYImGCv/9k2NCwEAHawL0OxIASL+OOBVyKRkg5MAjBUTMCDCDQQAEflLGBHAhhw4VCMAIpGkzp9WC1hhcqNCT4DKIA9VtCFBjoQMARQja2+ZQB9GBy65ajVFgzYWuCpcEEKEwrQmEYwti+Se3IxkAOv7d9Zkw7QuFd6UePFP2sUBVCC1GjKlwnIMIEBcrXKNAgEaE6goEaFRkQ4QORcAGoHpTIc2IMwgnHFpGoOiCaygEMHqB8UE5ABB0AKAggm9rU2vWTshZoXGDZQDUqP2bYBkECEpG/xhMHYD5Kf36+XE+dLb0wh3VRWAA3Tfeg+qmKAigFyFyADEQpFEBENEWUX0KYYYQEAGkNZAEAUwRgDW6GQQGAA5MV5Aq5mFB0D/hxWSgbRvldlA/liFURIUF8eMShQiFR8Z0/0QAQG96MRhRbxFNwSJB/RG0H1/XEcRhAOr8OJAJANwmkD0FAJCUVAHCJ5BKOXWHUA4BXKBbP0IEMI5uO0nAz5VhRkCYKgIUYENaKFnZkZYRbACEXkLcVQBj/JTkR23/iADABliQoYMAAEjGn1ECcSEnTt31UwJPA0VARoV9BvDnldb8NZACEhY0TkPjPNqRRbIJtAwYek0hh4YCNRFkz4crLVEEGGyZqmtC6T0aEAAh+QQFBQABACzxAAIAVAASAAAI/wADCBxIsKDBgwgTKuTnJ8AaawoP/pv4j+CyI2D6RdzIkWARgUA0Cmy0oQBBCmREIhQBoCWAgS35/VsTQETFjjgT+jEZIOTANQIuxAhQg0IAAGAU6ujAtKkDABcE0rSZs2rBfyIQtOip0t4ygv9qBIiakOLNAB0AHAnQCEuADWcENrSaEwmAJTa4KpQToMBZgxQH+gFQAGIOg3npdmyEoEO/vD4T0ozAr+zEgToAuBAoB8nYgXL+Dhy3sUzEfyYK8IWs0mCjtEVagzX7rx8DAGR+1hRtkGbECBGnBBAikHVBkQ4EOFhr2WxSB5cd7o64TEgR69iva1+iUJWCCpUDGPAn2JoBEHvNKZoAACT6VN6KEf5TAWCNyPEG+5UxOlR+YFUFANBIYO9FhF5Ecx2U22YDDSWWKgk1EmCCVwUmBAAl9EPgdAr5phBwEnmW0AplbRAAF+lFAAAXGl7GVwfwEdTIRkAkZFpBwFUQgIgSAZeUf/+cAYAC9pgVAGkRyBYfTvgdhGJhAv3jlhwiUTQDAHkFFsA/KrpA3I1LdoTfCxHk4FkRJRxFXJRRLXHWP+ogUJ+RAfRzhgQD2RBjmIjptSUQPA2kAI9btvkmdxu0yJs9DUHIJ0cQfkWQOqYdgcQZ4RHUEEQEQaiKlo+G6h+fAQEAIfkEBQUAAQAs8QACAFQAEQAACP8AAwgcSLCgwYMIEypUJ0egPYUGra1ZY61gwzMQM2osOEMgl38Dy1wQQFDEGpAJ/4kkWKHMP5BTAuTYSBMiGQAeUQaYUqBDxwAMAiCQ0y/hmgI4hQgRAaAAGoExZ9acWlCdAwobAnwcuEwdQXsiArxQqALA2IExAqjoJwdIABdPA6iiOtVGADQdtOo8yCXABYUVAIApGuDfTQkBwhZcQphuxjIAcvzLuzXhkgAm9hYsAQDLwH9cAIRdo0PtwEYIUUNcA1FdBAfjAlDWTHCNAwFkaA8MXWFZ4WUXAPTdKTNjTIgqIJYGI3C2xYEAKAyGuEQBAhEiEChgDLU4xIYQmRv/FfACpfPaBCMg0U0QTAcA8ANsEE9cqmON/CggUGVeL0J1XCgQQBGNGYQFAA5wMc44YDgAwHFRZbRNRqodJEQAbg2U1REB+IYQZAgUSFA/CgBQRmH99HMGAAoUFSFEx5GVUA0KZYgQAgH4gZAfTQn00ksIANCQZ3ZBFJdC3B3kWUEChjXdQePgNNdBPBZgz4//9INUQycmd59j5yHkVgSNFSEXSP0EOUU/LwVwIAL8BGBNAQXUYCZRX9IUZgUb6HCZEFkFQF8ABQTAmkBANKUDGGTogFSG/2DhwEBJ5plRmC6QlN6ghBo6UD9AFAqfogYxFMCElmqEmlcEWcNcEVOcEWRQQw8JlOIyYBRxBBeoBhAQACH5BAUFAAEALPEAAgBVABEAAAj/AAMIHEiwoMGDCBMqtDdQnUKDjcoEcHiwzL+HGDMSrCEQC0E0AQoQ7JAR5EAEQPoR9MhRo0uFEjuuDLBhoIOQGksE0MEggI2LMlu+HFowQgSSHgdaG0eQn8AVCmvaGKhKQYA1QIUEUEG0q8AcAcqICJD0YYWEjQAI2AY0AJAAMwTqLHikrVeFawJwHFsWoce5FQE4sAsmwE2CJjCqujuQHwUG2wLwVSgnAIDCCM8I/gf0HxfLTMnqxdgXYWKMnyWLNnh2IBe7BZcBANCIM+ccs/2oZJmxiBDfwH8LzwhV4OSClQkeeSgCQAl1nM8UmJ1XtFDGZgseP8jwphDYBP0othCsQoSACNP9BMUY2msRgyTfKwQpEiHnRjMYAFAQozIAhtaRhtFpB4GlkEoIWZWcQbYVRAYAFAD1WQ0IJlSdQkiAl1BPJL2GkDoiNWJfgwPFAAAQQIFUgobYMbfaQ4MNtNxAtnEmEBj7qQJUaHG1+NJ2AVyAUGofDQTGBkBgscQLAATgoWvKsegjQUC+UB9BRAqEQAAmBfBgkwI5QIaUU77UXgAqkSHQEgpRFMA/y3CBxBIW2RUQACH5BAUFAAEALPEAAgBUABEAAAj/AAMIHEiwoMGDCBMq/MeQoUKD1tCg2XbwzMOLGAvGEAim38CGDIsEAADEo0J1NQoILGBD3cAlAXRknPmQzEAuBEH6KQAgQMl/Cf+ZCBAhgJCiK17GpMnU4DgHFzYE6PgRaAARCFaQNIkQTAAHFPstcxDAps8AG5uqDVAjwBqpVAsiAbCkxtaE/UoAQEJQpIoAHQzCXIuxzFKpOAs2QiCin92SeHk2IugngIJ+aHIE+PtwMmGB6iI4cAmXq0ATBeSwvYtwcgHTJlUFgCnz4WCFLh5q9hqgNMEpAIQwfGy6IBrLVgX+UxBANW2MQopEny69+sPjaXsHSCxQlYIK/Iaz+T5YBkCEflYZkrX4/PNFexEULBvoW6AKAGs8/iOeEA0ABiAxxNwasy31kDUXqVLcQEIYRdAFAfCFIBkAuCDHhXK8AIANcsh2kBwAFBDgPypN1p5CtyWUG0IzKCTcXADEKGOMASR1ED88zTeQawJNEUAOySFkkW0J+VgQcyJMFUAZMTTpZAQAVBADXwh1AAAXXPmYZFk1uqdWfQEEuRpkA4mkY4QAbMCPQPxcAICROralnJcYIZZTgG2RKVBPcpjETwUAlEAGGCIAAOFAWDCgFJ0XgTkifwPxadI/jUi1ZwceEjSOQJsy2tSIqshxJkH23HkGEkscN1BAAAAh+QQFBQABACzxAAIAVQARAAAI/wADCBxIsKDBgwgTKlyo8J/DfwbHBeDSj6HFiwGmCKwB8aAcAQE6LOS3JMCGAgFiOCTYKMAFjDATqlKwESG/lyEXLgMQAEABACo7CmyJM6ZRgf9UFHgRgONBIQBqmBR6UJ0OLo2KAH04FEyACAP9VDx6kUsAIUCaUhUop4ALrxvWEnwIUWvQjmkLMiVrcRmDC/zSSi3YbwMCVWbjJqQbwC5jPxrBClyD0B5DMgv/vQBAWfBarVP6wZU7kLFjrgGIMmy5kKZCzDoEeibop4CIAP3Mily8sjHQAIxVL5S4EInCcQ4cWA4gmGA/EQXkCBzNe6Vd4L2F82X4bwaAMmNnC7k8crYjdYSor6PWnpAfQz8J0QQoQdBGAKYtrSFwQND4S/gHpffbei6txpBrB5mV0G0AIoRgQaZt1VsAqgRQAUPWMBQbQpQVdCFYQgSwjEG30WQfeg+dJlQ/BSgw1nYxiXfQeQKZ1SF2DqlY2gYAmBAiZjBe1BxCueVE0G1CdPQPEDHEwGMETdbw4hpF7RUkQzIaRGMAtxVBEI8EAeCTQfbAV+GVDI14JkISsTZQSyO+KcecdMohVgABAQAh+QQFBQABACzxAAIAVAARAAAI/wADCBxIsKDBgwgTKlyYsF+jMmvGFewXYMo/hhgzBiAjcEXCRggCRFhY5gUCAAACFFihaiC/AA40ykw4LmaAFgj/iRA4UiFOBzF0xDgZYZnAlzZnKh1YA8CMAB4PLhkYgWJCIVz6/duqygEAIP1UnQnAYKCci0szlgmg4wjUgyBFjK2aceu/IgA6BEBisITVtAvVRXBgz21Ugv9MFJCDRuTfhXax5A3QCEwABQQfD0Sr0PLCHAHK9DNscEoAIf/mak5oNwYA0AGQMny5sMBqgmgEPA1AmqAqBRX4pRapcSsZAAUaHYXJ8DZBIUUU8qOgwCjvt5tVAFgjUHXdRgoA8MpdnhQwQx0BsKDtLZAL24HeMaqKAAC9S+aQGZ5FKKfABoJABFCCSwoosIYf7cHkhxwMzRdADQXJthBtCtmG0FoJVRCAOgqlpNAyFDilGUXlIeQcQTU4x2BB/zkwA1j29BVASDOcuMwFALygVUH/MFAAh+Yp5RZOCcUnkGVnWDXOBgC4oBVnAw24UwBgnBhkQewZNFxPA+FkXwDaFfBCDGQKpANafvwnkF9XYpSlQUbexBZaHXhYUIn8KKdcmwxZwxCQB7UkUCMrahkQACH5BAUFAAEALPAAAgBVABEAAAj/AAMIHEiwoMGDCBMqXKhwnJwActQZVBUADMOLGAUCESgkIRkAAVz8UwiGAkiBAEz46TewTAAVLDPKPCingMAiMQtucyBQpEIhBUTMCDBDQQAFjVq+zDmzab8NCkwE6HhwRoEYIUcmXGZPa4BxFQLoEOgHSYAOA5M2ldmRy4sAOA2WAaCjSNaZRwKUEDi0oA6vaxf6KWDiH1aqBNVFcGDPrk+2RAXK6bhBIBk5gAcuY3hmYb8OCBoZhss0gI0ALh1nXnhGgYA1Afr1cwlzocuFlRUeAWA2wOGCZwDMGKmaYZkKFBgA2EDGK+3SBhsVETK9OnXqAbAobIRgQ0yscQXa9ougYDPcuwvJIEAAAAAFLgSfB85YQoCc71MJjoV/Ez3Df+oswZ52AsmnkEQLqXUQF8IRpIJYflAkhwAdyPFQABuZIIeCCf3j4T8MRsBPgUvZxlBuByFWVQBkKHTBQh96qE57CKIRgFSCMSTEapYZFEEAG8SwxD8XElSZAzMAwaNAMY7kR3sxNQLABUvO59lbKhpk1wuALRGAH2nFKFANAHQQUz8M+CYQGlVaaRB40A1U3EA/8heAAx0AsQQWQphUwG2W/SjQX25i9FtCc8ZW50AiGFRBGaupA6Z5hTJE0TYKWRMARQP1AyamTKoCxhJFTBGbhwEEBAAh+QQFBQABACzwAAIAVgARAAAI/wADCBxIsKDBgwgTKlyo8J9DhwfXBJDIsKLFACUEUjyoQyCShQ8diggAYM0/gkACHLnIMuESABpPGlwDM8CSfg0fIgEAUw7OgSmLyGxJNEAjBCIcTDzIr4KDjB9zGkXqoCTEiTMC5BhorShLEwX8KDVpMCUYFQGiMixRoFFVsgIjGCTj1eIUAEX6jZ1Z4MU/tGoVvjyi1+rAMi8C1BAIZhlCPwzlLFSl4ALOsUMD9NugQFUAwAwpb7hsOIDDoJkPplyoI3VBFQIo7iUoJMAUgaAXgjX5721B1AvRCCkyvDjx42UUcgHQWiDmgXIKiJCZO+FyIP0c+kYZQGjdissYRNcYJ3O25g1hB1Y/uExBBHUCe5cWCFyh48kJFy8ZKDYAlwDb2ATAVgONlNJ9Bs0AwBRyNCgHAwCAIcc4QHXn2m8MNXdQRgndthpCBBpUAk8kkigQFgPVltdCYDD0H0JFGFRAACYEgEY/LxKk1AYxcPFTQUXEIOSQBQBgQgxr/HRbiN+x1NtSCa2nTm38yJTaW1cFIAcACOQQYyNNXvQcQuupAlNX8YX0JFwDFaHAQHSFWZF5B5V55kBqyrdRQdZIBp+cDEFmj0KeoSkQP5L9aFpIfsjBz0ABAQAh+QQFBQABACzxAAMAVQAQAAAI/wADLAvAJYDBgwgTKlzIMCESgzoaohEQoES/hgHkANi40SADhHICdPiHsaRJhY0QQGRoL4LBEiU1IuhAk6YKkgZDdjjJ0+S/EgVaBIio8J8OADUqXmyoceS/p08PNip44aCfnlgRLgGAJMfQhWsKzJiiFGNTqFAPEkVYY2lWnqoUbAjgde1BfhQULCNr0SwAp2gPylkSgIJgtwjHmSxT8p+JAiHrJvwHBEBBvogVamTQIcKFGmtw5hRpMmTJCJkTcgEAxKBkkAVMGMTsF0ABBB2FgCRdclkRIb+DAx9OuGHcCPZcfz3Yb0OBRrPLNmx0RBVJVTYCAAAjmPfbnv9WANtAc/B1gH9CuB6kzTCwwX85AIjovrNk8pJXGZIJoELwjAA1yKFKP6oU4NJBRZCWX1FoQYUGAAjgpFNpJqHGUHEMqdDPGhg50F6DT0FXwFJX1YeRKiYBkZpBjCVkmGFH/ANdQjt5qINoCIH4FBgAOBCVOgF4+B1C/azYkHkLsXceFhktNeNBy1SA1FL/RADACrq1OCRWSCqk5D9zPWTQBRsAscQUOigQAANPBoCGYQa1tSWXyzH0ZZgHlcARRyKYlpA9V6E4Z08oDtSQYm3+c5U1CE21RBFMRmVQQAAAIfkEBQUAAQAs8QACAFQAEQAACP8AAwgcSLCgwYMIEypcuHAZmjONCMopgoahxYsCVwgkk1AIgABC/in890+OCQEDHawJ0O9IACD9MMpEyOVjAI4H5RQQGHLkSgAXcuhQgQCMQJcwZyodaI3BhQo3D/broEAFSJEJ1TkAUISgvW0B5OgIMGPgsqUyYxRYcyGqwSIAsJTtmbCrCYQbDGLBinYhGQA6/rXFSbARAhH/5vI92NbowTM1ArwYqAphxIUrFY5zEEFdgMEGRRTwQ/Zq1p2NimyI0KGI56MvYyp0uXDGYoNlywgETRAJV4GKE8oBgKADAAURdluDnVRhZoWED5YBUEM2b4GGL8gOjnANgO9T+vXv85O8bACksvsuVBeBwfLdbgWWWDuQe87vMQhWLOAZ/cL3ClWGEBABdDWQBAFMEYA1/9SU30AajSWgQap8hwVB/yAAwEr+zcaQbVJNVtc/BiL04EEakpHePxEAoNsSLzGk20JT3DYQjAUpEIAIUUUnUHJt4XiQCQDQJpA9BQBAmlEn9kWSTNcdZF8/QgQwDlY1ScCPQP9UGYFIqghQgA1dyaEelPFJaZpA/Hzkh2z/iADABliQoYMAADgWwBIMDMTFmRhFiduaAbQZwJtcWnPXQAooWNA4Zo4D6EURvYZQZQAKZKY9GJa0RBFggCVQQAAAIfkEBQUAAQAs8QACAFQAEQAACP8AAwgcSLCgwYMIEypcuPCfw38Elx0B04+hxYsBiggEUvFgGYEmFooAQBLAQJL8/q0JIAIixpcH/RTY2LGgugggF+rowLOnAwAXBK5sCbPowH8iELQIwNHgPx0AZgQIqfChywAdABwJ0AhLgA1nBPox+hIJgCU2mNYcuEZAjSVTGzoc6AdAAWsBchhMS9ZiIwQd+qVtSpAfBQbb4FJN+HAgVBcC5SAJEDTyVYLjGH6saqKAnACD1waAyiWA4qpW//VjAIAMW5aXD65ciFPhlABCBIYmKKeACoGnGacGE8DB3ABDYxtcJqRI8+fOo8NNqEpBBX661Q40jEBVxeAIU//SMwEAyPHkfS3+UwFgTcfdG88OBH/QagBVBQA0aoxeoT2GYyHkGmQDxRBADfdxVUAFBOUmQgABOtWYEACU0A9/sC00m0K1OTVZQisgx6FoRz0UAQBcXDjXZx0oV1AjDAGR0GYE4cTgZBEO1EFxown3zxkAKGCPfZlFQGJ6FsF3EH3/eCVHRw/NAEBajQXwz4ku5EYjkgwpaRCTQS1x1T/qINCefQH0c4YEA9ngIpd7aYcQmKaNCdcGKipnz1iqwGlRn8sotM19a42FF0F9qlJlAAEBACH5BAUFAAEALPEAAgBUABEAAAj/AAMIHEiwoMGDCBMqXKjQ2po11grKCXCGocWLAmcI5PIPIRKBOhb+K3OBYIUy/zpOCZADo8uEZABs7GiwEQKQC9cUkClEiAgABdAIXNnypdGB6hxQ2BCA48ESCFwECKlQBYAXBGMEUNFPDpAALoQGUHXUpY0AaDo0pUlwCQAkLakmrAAATD+B/2JKCCDC4JK7ZRmWAZDjn1qnBFUp2NAv7sISALAM/McFQN81IVUMbISQc86F6iI4GBfgMFuBJgpMdKywcoVlAf4tuwCAy1CWDFcu1KwwJBiBpglW/opbbsIlChCIEIFAwd/bRRVOXPg74RoBL2gGF6g4Ar+OrBWC9OkAoHyADdUDEA18kR8FBKq0rx24Au3A8AixAHDAZdw4MA4AoNt6C23DkGcHCREAcQIxdUQAsMVU30Aa1TAWYAX1owAAZcTWTz9nAKDAXQQqpFtVCVmY0FdLoHiQH0DhldI/CAAwkWRnLSSWQs8dJFlBCvAVgF0dFrQXBQE8+CJQ9sz4Tz87TdQhb+wZtd1B+AVQxFgd9VPjFP2kFIB+CPATgDUFFFDDlnJgWOVCVxqUZQEBrDEQEEDpAAYZOuxE3D9YODBQj2/COR9Cc9Y5UD9A0FlengapM5GBhR4YgDoKkbXMaRPZs2g/y4BRxBFcUBpAQAAAIfkEBQUAAQAs8QACAFUAEQAACP8AAwgcSLCgwYMIEypcqLBRmQDqEJb5x7CixQA1BGJJuGRgv4VoCCIA8nHgxowXU0o0WbHkwhIBdDAIYIOiRowqcxaMEKFDgI0HTRR4IdDlwQ00B6pSEGCNTSEBVOicmiNAGRE/D04JcERH0YSNAAjYZjMAkAAzBMIseKTsVIVrcGIFitBrAKMFywBw4BZMAAcFTTBU9XYgPwoMtgWYa1BqXLt4CZ7Z+8/mPy4BAIy7iVIh3YSCGWJenPXgR8gJlwEA0Khy5Ryr/Xw8WbGIENu4b+uuuGIg44HLZtoTiDqhCAAl1FU+U2B13KydCy+sUPC3QKIPiX9N6EfBXhUiBESsaO6HM8PNb4sY9Kle4EOpBdMmrNxoBgMACmLIyTwcOsPPCIV2UFUK9bMVaG4N5FpBZABAgU2Y1RBZQc8phESCCs3kExf/nGEQBQO1Z5BrbsUAABA2hVQChtIxZN1BxQl0BEEk2gQGfqrYhJ58LV70okExDhSSQGBsAAQWS7wAQAAcEjSajCz2WF1pdW0nEAIBDBlAg0sK5AAZUUqpEno5RSTQP8twgcQSE7kVEAAh+QQFBQABACzxAAIAVAARAAAI/wADCBxIsKDBgwgTKlyo0BoaNNsOnmFIsaLAGALB9BsoB4BHjwId/FuorkYBgQVsqBu4JIAOizATkhnIZWC/NQAQdNi5U8XIhP9MBIgQQAjRFSxdxlxKcJyDCxsCaOQIQES/f1izKgQTwEHEfsscBJgZAEgAjEyZ1giwJupUgR2tZtWKsF8JAEgIFgmgIkAHgy3TUiyjNGpNgTerzqV7sF8BAI0I+gmgoB+aHHwZRhYsUF0EByvdboQLgEGHCBdqrMGaMHKB0YgFqgrQ8uXCwApdLMTMNYBoqgEKIAC5NyEayj8F/lMQQA5tpQyFFJFOfbr1hcfR+g5wOEC/RkdUjftUZSMAADKwC5YBEOGq8n9iJ9bmTNFeBAXLBv5+n/xfjqrGlbbYcmw9Z1tDDKmSHkFCFEXQBQHkZU0AA2KFRk6sGdRRAQOeFNl8tzGkG0IzKCREhVhN9hpC/DyW30CuCTRFADkkh9BEISI0Y0HMiSAVhRVyAYBICXUAABewzejjWAEgRd9S+wWw2UDWVADAWgPt9WKEAGzAj0D8XADAji9iSeGTFBlGUAUbALHEFDowx4CCAwHQ3Gj8WFkCGWCIAACEA2HBQFJoMhSlnx95JMJkBNkpx2j/NBKVQAB0MFtB4wiUaaFMNcLFEkVg4UeGBdlDEFZnILHEcQMFBAAh+QQFBQABACzxAAIAVQARAAAI/wADCBxIsKDBgwgTKlyo8J/DfwbHBeDSj6HFiwGmCKwBUeA/BgYByFHIb0mADQUCxHBIsFGACxhjJlSlYONAhwwAFOzgMuEynQAKAFjZUaBLmDKT3lRR4EUAjjdzFrWoTgeXRkWGPjQKJkCEgX4qKr3IJYAQIE+LfgQwdeFDiFmJdkRb0OlYi8sYXOCHtsbNtTHfBogr2I/GrwLXILTHkIzbFwAU91Wb00QACivKNtxKeGuAowx7Kqyp0LEOgZOjCiQdwAS/hJ7jBhAMeqHEhUgUjnPggHGAvn+LyKmo7giCADna/mUp23Ptuwz/zQBQRmzqhF0L+DYYe+hslp9fMsB8vdBPQjQBShC0EcCpaO4IIost2D3G947PE75HyNqgZoQiwBYBdfMRJFhnRakSQAUMWcPQaQgpVhCDXwmR0DYBAGAeQm8hOFA/BShQIHQYXReAKgX2M4NXBJUl4X3/eOjRBgCYYKFjJF4E3EA6OJADElgIQUEAApBRVIBCdPQPEDHEQGMETdYw3xpItZejjmkNZGFBEYAxVYBFEEQjQQAEZZA95il4JUPLnFjQNjguscaI4bU5UCNy5KmnHGEFEBAAIfkEBQUAAQAs8QACAFQAEQAACP8AAwgcSLCgwYMIEypcmLBfozJrxhXsF2DKP4YYMwYgI3BFQQoHyygs8wIBAAABCqxQNZBfAAcaYyYcBzNAi48BNhRco/Cmgxg6YpiMsEygy5oykw6sAWBGAI8EQRbVKIRLv39YVTkAAKSfqjMBGAyUc1FpRpE6jjzFOTUp1n9FAHQIgMRgCYpmGaqL4MCeWqgDpZp9i0VugEZgAiggiLdgWYWJF+YIUKbfX5wlBJrA0pjh2xgAJgc4ytDlwgKdDaIR4DTA5agBBBDsoC4jVjIACjQy+pJhaoNCiijkR0HB1NcDkay5aG/K4hi2GykAUJc30rwMdQTAUhY5QjQBALTCVagqAgDtLXsvfJyQLEI5BXQOBBIg80KYYNgfLB+gRkHSC5mmEGoIiZRQBQrpxMVCy1DQVGoUXYfQbwbVQGEAchikkwMzdIUQPwgEAFZCy1wAwAtXOcZAAbVhl5RaNxEkoEDaKdBYYmfgNc4GALhwlX71BSCCQGBc6KJB3gnBgA1q5RQeFgTdhF4AKuT2QgxY0liWH/LVZ+SRBHm3hEEOWBVlADqU1QFKZP63225gMmTNQRK5hgR4CLEkUCMZHvRPQAAAIfkEBQUAAQAs8AACAFUAEgAACP8AAwgcSLCgwYMIEypcqHCcnABy1BlUFQAMw4sYBQIRKIQgPwAH7SkEQwGkQAAm/PQbWCaAipUZYx6UU0BgEZgBPhboUJCfQiEFRMwIMENBAAWNWLrEKbNpvw0KTAToOPCjg38xl9nDKnBchQA6BPpBEoCnwKRNY3bk8iLAzaoArqYleCRACYFDC+rgOnehnwIm/sWY6jEu37kd88rpuEEgGTmHBy5jeGZhvw4IGgl2i/MjAhEBKsQgE5myAgFrAvTr1/LlwpYLGys8AoBsgMFUBX4MUHNgjdIGy1SgwADABtJKXStsVERI8+fOnQfAshzBBpiD3wrsJ8SPQGtAatb/XUgGAQIAAChwIdiaaV+FJQTIwU54dgC5DP+pW3KeusD2C0m0EFoHcQFAXgKpAJYfFCG0DEiTLfTPhP8YGIFPAQCoEGwKyXZQbgchaFA/NWmmEIUTqoOegGgEIJVfDAkBXABkGBRBABvEsMSMcgBQgIAIoYiVH+jB1AgAF8z4nkL9tAWiiQPZc5cIfC0RgHdnoShQDQB0AFM/DNwmEBpKLllQdjipEIEOVgLhAG+pDXTjegI50AEQS2AhREkFcEjjjQLtZeZFuBFUg0EXrMFXP3MOBFpBFZRRmjreRTjoQhRtU5AqFhUxxUMF9eOdpgL9w+kSnqo24aWsHrSamQEBACH5BAUFAAEALPAAAgBWABIAAAj/AAMIHEiwoMGDCBMqXKjwn0OHB9cEkMiwosUAJQRSFAjm4IZ+DR/+ExEAwJp/BIEEOHKxZcIlADSi5BhAQcEaIBOKRAIgppycAlUWmemyaIBGCEQ4mEiw4wuXEJEqNQlx4owAOQZaM9rSRAE/S08OdMq1RIFGDqgOjGCQDFeLUwAU6Re2aYCnRWEeoatWYJmnNTguQ+iHoZyFqhRcABmWaMcIGwJssHGYYeKPAdKKDeBQKFGEKhfq+GxQhQCKdccKRIBAYIEpQBF6PflPc0HPC9EIKbK7N+/fZRRyATBaYOOBcpYMDuDnBYDTwgEA6efQdsoAQ99WXMYgwriZqROq4wgQI+EyBRHUCazdNyh20gaXK1SVMPCSgWADcAmwLeH+CPAJNAMAU8hhoBwMAACGHOMMhJtCoSlU3EEZJTRFQmcA4ECAGPXkoYcCYTGQENjFdlBHC+2HUBEGFRCACQGgkRBLHZg4UBEx5KhjAQCYEMMaOV2YlXZF1cZUQmgFIERO6pDIz0ykaVZVAHIAgEAOLDZC5EXHCcSACEBMsUQOLno3kCoxbbWeSEZudqNNArm1ZUXhBUBBafSdmeZAbLK3UUHWHKbenAwVZk9BfnCBhH6NkMbPYbGx6Ycc/BBqqU4cuhQQACH5BAUFAAEALPEAAwBVABAAAAj/AAMsC8AlgMGDCBMqXMgwIRKDOhD+Q6AQQKOGAeQA2LjRIAOEcgJ0+IexpEmFjSgGiHhwIoCEHQY21Iigg02bKkgaDNnhpE+T/0oUaLFSIoICP3cCGPmvadODjQpeOOgnqVWDSwAgyVG0JQIE/ZJqZOpUZ1eENcJe9alKwYYAXFkanIhU7NKyT3cuCUDhoBy1CceZLFPyn4kCIeMaLSAiQAUXYExqZNAhwoUaa8xmFCnZZATAC7kAAGJQcUukBRQYBOCipEYABRB0FAKSc8llRYTk3q27996GbSPYK302wD8hIQOMK1JgNMZGR1SRVGUjAIDIO22v9flvBQA0B0034sQSACzDsi1zAGicvWfJ4SWrMiQTQIXfGQFqyFEFGiG/5skphJdTaACAgE48dVbSZwz9xpAK/bXEAABrnDfgPxcVoFZV7mGkiklARGgQYQn11dcRwFn34UIX/gMGAA48pU4ADmyHUD8iNiTeQvy0doFO/5D3l0EXIbRMBQCkNVcEAKxAG4k2/rTjDBHkgAQWQkQQQAFQ/vPWQwZdsAEQS0yhg2oMFGkQGn0ZpGSUPu0o10ERlAGYlwGAGUAJHHEkQoAI2VPVinCe9KFMB1kDxl5LVJjQP1VZg1BUSxRBXl4BBAQAIfkEBQUAAQAs8QACAFQAEQAACP8AAwgcSLCgwYMIEypcuHAZmjONCMopgoahxYsCVwgkQxANAIMR+in890+OCQEDHawJ0O9IACAiMco8yOVjAI4DPSoo+OLfyJUALuTQoQIBGIEuYc5cOtAagwsVbnYEUGKmOgcAihC0ty2AHB0BZgxcxlRmjAJrLkjNSdUnRq0mEG4wiMVt2YVkAOj4pxanQI9VZao9evBMjQAvBqpCGHHhSoXjHERQF6DvVAcdKteQExOhugIBGhXZEKFDEcpIX3ZG6HLhDLsHxZYRaJmtQAQDj8AuKAcAgg4AFESgbS21UoWPFfo9WAZAjZi1BfpBsjh0jY+zEa4BwH1Kv35+hov8DZB09d2E6iIwKE57bUKxJnYP7A0gRscABSiXX8heYfWDQASg1UASBDBFANbItxEADCgYgCrcYUHQPwgAsNJ+CrWm0GsH9ZNYQkU42BsCDgZQIRmd/RMBALMt8RJD2Sk0hYMuFrSTCO7RFUAEJZoAgIYB2FMAAH4EcJR95wVAkmA5GrTMcDrE1I8QAYzjVk0S8CPQP1Ty+KAABdiglRxJYhTdjh0AscQUOuDmAFkC8fORHzH9IwIAG2BBhg4CAEBYAEswMBAXZV50ZmYFleCHXXIGQOeW1sQ1kAIHFjQOmeMUalFEqA3UCBdIHIFFkQaRac+EJS1RBBhdCRQQACH5BAUFAAEALPEAAgBUABEAAAj/AAMIHEiwoMGDCBMqXLjwn8N/BJcdAdOPocWLAYoIBFJR4L8CBgGoUigCgEkAA03y+7cmgAiIGGMe9AMyAMeBHwUU7GBNoY4OQIM6AHBBYMuXMpPiFIGghc2OAT4ikPkQZoAOAI4EaIQlwIYzAv0ojYkEwBIbT3EWmBrz4UA/AAr0zGEQ7ViLjRB06If2pse1VB0O1AHAhUA5SAIUPWyV4DiGZRqaKCAnQF+oHwuUCFDBBZmGVf/1YwDgs1GXjQ+2XBhh4ZQAQgReVitQwcAYUA2G/gcmgAPBAY6mNrhMSBHjyI8rX6JQlYIK/GSn9SikcoBxQkAKyU1wtwkAQIAL4b9r8Z8KAGs6zk74WgF3nG5VFQDQyO14hfYYikX42fDtADUEMBJC9ggAwH66uSUEACX0Yx9qC62mUGsH/ZNYQisk9I8C6Gn4UAQAcOGgYJV1MFxBjTAEREKRFdRaBQFceFCKAPSE0ENnAKCAPVVdF0AE75Fn0XoH8ZPhBjD905UcHT00AwBouRUViC7E1qKQQ04XwAwR6IAEFkK0VgBYHhW1hFX/qIMAej0G0M8ZEgxkw4lY1qWlDgZJcGVUZqLJ3AYjDmePWAPWudBIyxS0DBhLFLGEhASJZeNAI6kiZQABAQAh+QQFBQABACzxAAIAVAARAAAI/wADCBxIsKDBgwgTKlyo0NqaNdYKyglwhqHFiwJnCOTyb6AcAAYVdEz4r8wFghXK/Os4JUAOjDATkgEZgKNHAAgKquincE0BkEKEiABQAI3Ali9jKh2ozgGFDTVHBvjYIaYKAC8IxgiwUw6QAC6MBlC1FKaNAGiq2hRINWYFAGB4Bvg3U0IAEQaXyC27sAyAHP/USm0LswQALAP/cQGAd40OrgMbIZS8cM1CdREcjAsg+CaDqhdqrJGKcHGFZXOXXQDA5ahLhi0Xqlj4GIzAzmxp5hQohPTBJQoQiBCBQIFe10kVTlxoO+EaAS9G4h57RBVPVTZAgvFdEEwHAOADbPxoHgAp34v8KCBQJT2qwscduA/EAsABl3HjwDgAENv8wm0MUXaQEAF8NRBURwSAGkJrECVfAP0oAEAZc/XTzxkAKMCTfwrFptBsCNWgkIEHNQLSg34QJdBKKyEAwESInbWQWAoddxBiBSlwVwBxIWSbAygSZQ+L//Tz00QUgnieUtMZZM1JGg1UxFgd9ePiFP2sFAB9CPATgDUFFFDDlHLsteRC021wARBLTKGDjgoIGEABAVgmEBBE6QAGGTr8ZOA/WDgwkI1noumeQCUY1MFyA9FpJ4RA0AlengapMxGAhQYYgDoFNdLaln6YyVYA9gxk4TJgFHEEF5gGEBAAIfkEBQUAAQAs8QACAFUAEQAACP8AAwgcSLCgwYMIEypcqLBRmQDqEJb5x7CixQA1BGIh6OcgAoZoCCIA0o/gxowXU0ocuHFgR4MmKDIsEUAHgwA2ZAY4qbJnwQgROuzkGGCDSqM2BqpSEGCNTCEBVPicmiNAGRFDXRZN2QiAgG06gQSYIZBmwSM6pypcgzEA1pYCOxq9WAaAg7RgAjgoaIKhKrUD+VFgsM1t1rgBmAokWzLhGbv/ZP7jEgDAOI1tF8JN2JchZcObXxYUm3AZAACNIkfOcdpPSZ4MiwiRTXu27YorBr4luKxIaoFVA3xGKAJACXWRzxQ4zXYoSsAMKxTcXbHxQT8K7KoQISDC8pewFV6uVlvEoNDyCuUsjNxoBgMACmKoB2AP8/OEmxF2Phg8oXWC/fwVAD8IqVYQGQBQIBNlNfx3UHMKIZHWQjcJxcWEA5GRWEKqpRUDAEDIFFIJGELHEHUIbWNUDAQdQVCHMoEBnyoyjUeWiSmhKNAGOghEGkIhCQTGBkBgscQLAAiX1nABoIXjiYcFsJ9CHwUZAIJJCuQAGSU+2dN4BIGBhEBydBmRQP8swwUSS0yUVkAAACH5BAUFAAEALPEAAgBUABEAAAj/AAMIHEiwoMGDCBMqFKhuTRk5/RYOtIYGzbaDZyRq3CgwhkAwEQX++2etBgKCSxaqq1FAYAEb6gam1MGxZkIyA7kQ/LeMAgAGM3TEcEAz4T8TASIEEKJ0hcwARW1KFTjOwYUNAUAO/KcCwAp7BJcpBBPAwcV+yxwEwBkASACPU6fWCLAGq1aBa8rG3NivBAAkBIsEUBGgg8GUcTWWgRoAq86BORhz7FcAQCOCfgIo6IcmMuGFlxMzjOAgpt2QjQNgAVMiwgUdoRFeLoA6QEhVAWZKRKzQxcLIZFPfLRvABIACEVoqyIsQjeZ/OxUEkJNb8kIhRbBrz859oXO4qR8L/0QAAEANe//GEY7AD2EZABH6QQ8wUm1G3aIl2ougQKzA0wMpAF97VAnIlkFo/DTSgv9Ilxd+ClkjkSq1ESTEUgRdEABgEiYFwAw7GXfhQXIcx+BILV0GYUK8JeQbQiAmJAR0xkU1kkduHcRPZf4JNJtAUwSQw3wJZbRQiwUFWZB0ImQlkBBe7dQBAEgSNCUXqAXZ5FoBOJWfVAAOVEABmdGXF5kDCdYjEgBsQCA/FwCgpH9zifSlRo7tBMRPSJRRBHmRDQTAdCHxUwEAJZABhggAaDgQFgw8dadEYdLXjw4tuZRDbYNCJFIjWAkEQAe4FTQOVZPG9U8/qkxRxBSxFQwE1lb/nIHEEs4NFBAAIfkEBQUAAQAs8QACAFUAEQAACP8AAwgcSLCgwYMIEyoU2E9OgDX2Fg78R/GfwXEBuPSTyLFjgCkCa1gk2O+Ig4EFZmxEyG9JgA0FAsSgSLBRgAsecyZUpSBkwX8zAhRwEaDGBZwJlwEIAKAAgJkjBdpEqrOqwH8qCrwoGjUAkgARbHZUp4NLoyJPK0oFA3agn5VWOXIJIAQI14H8FABY47GiRbRQR9otuDUux2UMLvCzW4MgW6oc/QYALNkPyAgD+R6MuJDMwn8v9gZgHNXujDUxAlR4gUahZMpqA0yVKFZhT4WedQgkzXBrCacBEDB1iTA24ACSZy/EuPBrwnEOHHBmTFCFwA2q+v0rItThwddPkdPjlH3TcEegAMqs5C1wRQAB3pGbCKD7+/jjsZUr5CfRT8LWJRBkQwBbidVYBHAFcEQAIhR3X3j5lbdQbQnddtBcCTU4mYQDYRFABw7SBFtUqqgmkTUS1XeQZgRV0JYQAvGlQIJ2uRfidmmNF0A/BcxonlXsIXcBACAJpI4DRA40F4t+jTjRBgCYAKNnP3ZEHUFlCFAAEGRMQcFNcDUoxEj/ABFDDFBGcGYNcK1BVWFVShQkclxYCEAJJQ7UIHcDQUkQAE0ZZI9/eca50DIBFDqROmwtIUeC5CE6UCNyVGqpHG8FEBAAIfkEBQUAAQAs8QACAFQAEQAACP8AAwgcSLCgwYMIEyoU+G/guIUC+zUqs+YhwX4BpjSEyLEjGYErDP6bQlCAio0Hy7xAAABAgAIrVA3kF8BBx5sLx9kM0MKgDoEqBG7YibCngxg6YrCMsEwgTaI4oxKsAWBGgJAEudSUc1MIl37/wqpyAABIP1VnAjAYKAelVI5lAug4cpXgvwgBwLwNEPZfEQAdAiAxWALjXojqIjiwRxerwDU1D/fFAjhAI70KLh50i1DvwhwByvRrTJCuCT8zKERwEbdj3xgAQAd4CpHmwgKGEaIRYDUAaYagRQzMHECI639kABRo5DTywtwIhRRRyI+Cgqa+6w7sTcFPwyUCAKDt4fivkQIAg5tDPbzwJ5aNvwXWCCCeYIwAvReqigDg50znCnF2UFsIyVHABgQBEUAJCQaAgFtYBHABRPsFMB9BtC1km0K4IdQaQhUIFOF6H+Gl0DIUVAVdABitd9CKB9UAo0BcFYSgAzOYZZkABdhTWgAizCjQMhcA8AJYBf3DQAHqsPcWXT0RJFwRhvEjQXED6XWGYeNsAIALYAnIoHB5CemkQfE9VoAA7iEYgUU8yTWQCsq9EMOdAumwkR8IClTYmRylKRAZaw3UgR8E9aSnQB24ZNB6/DDHHKAQWZMQTUcgsYaAAcgkUCM1ihQQACH5BAUFAAEALPAAAgBVABEAAAj/AAMIHEiwoMGDCBMqHMhPoBx7CwWOkxNAjjqDqgKAicixo0AgAoUYtAcEwcACQPolBEMBwEAAJvyoFFgmgIqZHnMalFNAYBGcAeyVCIAgRoAZEm4mFFJAxIyjCgIoaDSwplKdWAX226DARACRBHUE2GDN4zJ7/waOqxBAbAA/SAJ0GEg1q0eRXF4E+DlwWYECde0GOBJg6FGDOtIKXuingIl/RsEKJKxiccjDFUVuEEhGjuKCyyKeWdivA4JGkPfi1AukjIoIF2pQzHlGgYA1Afr1swr0YM2FmxUeARA3QGSCc00A6Ml848IyFSgwALCBzGfeCxsVEbK9O3fuAbAo/2yEYMNMo3wFXhBoYlvuHAAQlFVIBgECAAAocCGI3fLCEgLIcd5XBG2GQGhaURBAcQv9o84S94lHk029GXRRdglxAcBTA1Wmgx8ZFRaACEDlgJlC/6T4j4YRNBRAfwn9plBwB0l2EIcmVkYQSHqhqKKD+F2IRgBeMRaREJ8VRIZBEYwVwxJpgQHABUkalVhCP6blB34zNTJlkv5F1I9ekvWjDgMvKqZKTzIu8RZdPwpUAwAdzNQPmkYFgAaYYR6EHlBYxCdEGUs4QORnTe4nkAMdALEEFkK0VICMAZDRpEBX9qnQcQUh0dNAL1yYW6IDiWBQBWXwqY4fASCoaUIZuRtn0DZcFLEEqwT1w6qsAfyjChhLFDFFbikGEBAAIfkEBQUAAQAs8AACAFYAEQAACP8AAwgcSLCgwYMIEyocOG5NAD/9Fgr8R5HiQYcOJWrcGKCEwIwEVb0oMJABGIUVKYoIAGDNP4JAAhzhSDPhEgAfXw5s5CBAhBoBXDAoovNgSiQAcMqJODAm0ZpQdyIQ0RNkgH4dAtTgN5BpQouNpjpoaTHAmhkBcgy0FpWmiQJ+qhYFA6CCV5olCvAkOzCCQTJtN04BUKRfVYIqZN7dePOIYb4Cy7zQKhDMMoR+JMpZqErBhYhyB/YsM2XlBiCXOSvYABoyRadFEcZcqCO2QRUCMh4eKCBAYgSiMyt86/LfWKsBYC9EI6RI8+fOo5dRyAVAbYGhA6jDmbxfP1UrO9j/JlgdSD+KxwsqDyxxGYMI43TuDsAPp/idJDcfXKYggrqJx8W2XkKpKaRKQkAtMVBcAXARwDYCkQREbBcEgAVCMwAwhRwcysEAAGDIMU5TATyl0GwKXXeQRwlNIVCFMxG00hKLCVRCUjjiKNCFAglRYo0FnbSQgwgVYRBJJgSAhkBqqUWQX2QAWUQMVFZZAAAmxLAGUy46yV5Nxpk10D9rAKAAW5UBgMCI2vnIj062BViUHGrmYGQjX3KUnUBoRaAgECQZKZAqOKEZQEromWVbEQoMBFieGs0nED8ZDlSAEEURGoChiBrXEkLWbPYfpBJlZs9BjbjIRYGTbnYXon7IBcGVQAEBACH5BAUFAAEALPEAAgBVABEAAAj/AAMIHEiwoMGDCBMqFNhPToA19hZKDLAsAJeJGDEiEajDID8hDAYWsPEvoRwAKFEKDDnQYYeSGWMebISAY8F+KwIgeBFgxoUOCk8i6ECUqAqYAVzKXErwX4kCLQJ0HPivSAAKqqguPPnyn1evAxtdvDDQD9OYSwAgySGVoDoEABxm5Pr168CpBGv0OztRlYINAdjiDYAlwMuYdOsilbPkasu9BsdJLLPwn4kCDgUTZJtjjYsAFWKs2QqAQYcIF2qsQZrUsES5CiNARsgFABCBmgeqCFBCQAGdAQoUNomyAFwAAYQQVLpwWREhz6NDn944od8IEQO3FfhPhMAOy/71/7tdoFHCRkdUlVRlIwAAMC1d8534bwUANANzB3Aa3Dx3oLcdVBdVOQDgnUDMKZSdQmYhREYAuyE4QwA1yKHKXjxVUJByERqk2FdoAIAATAmaJJFsCFWHkAp73QYUQRuVwBpVH/5jXgGQmfWiQlktBMRsBVFWEAWOHSHQGQE4UFBHM8zIXY1gAOAAWOokOR9DQEqkXwD9RADARQJZo8CX3BUmB2T+DbRMBQDoxZ2XKygn5JUTbRkAGL7dNkUEhkH2D2AbCXTBBkAsMYUOCgTAQJoBoEGkQG7SqeV2VGFRk0AAmGANVYAOVEJKKYkAG0H2mNWjpAtlVZFB6nBxxBKj7g5n1qZhcbFEEYWBJVBAAAAh+QQFBQABACzxAAIAVAARAAAI/wADCBxIsKDBgwgTKhSobk0AOf8WElyG5kwjgnKKoJHIsaPAFQLJGFw2o8BABVMU/vsnx4SAgQ4c9jsSAEg/jzgRcgEQsqCqCAEc1AgQw4HNhP8cAriQQ4cKBGAE0jyas6pAawwuVAggkqCJAC/sDbypUJ0DAEUI2tv2UEeAGQOXWcUZo8CaC1wJngHggB/OtF8PbjCIJeJciWQA6PiHt6tAuEBy4o168MzQFwNVIby40KHCcQ4iqAvQmOBWMFhKBNigQ3NCdSYbFdkQoUOR0VJrkk1Ic+EMwwjhlhFY+mQAEzwDmFQgZ3dBOQAQdACgAChpa7mpJvSs0PHBMgBqkP8tLtBkgBw3t32t4JzgGgDwp/Tr5wco3ABT2x9GqC4CA+zE5TWQSRTstgwCAZyBEHQAxEDQRgWMlt9CACrk2kGRpTWQBAGkZE1EDpxXkAj4IaQKfFgQ9A8CADg0oUK9KfTbQf1gllAREZEYGUEgCZEQi2Ts9k8EAAy3RE0SDbfQFMAVdGRBCgRAYleROUgQXikihFyMAdhTAAB+BBCVlfuthBN5AfhRQAGcBQBeAa714+M4hu0kgV8B/ONjBBGpIkABNqQlx35nCihQPzrwdaQQCO4YAD88+UHWPyIAsAEWZOggAACUBbAEAwNxQahHaAaAaHLKLTYQpGlOak1gAqEgZNA4g44zakcX4ebTFEVgceFAg4o10EpyLFEEGGwJFBAAIfkEBQUAAQAs8QACAFQAEQAACP8AAwgcSLCgwYMIEyoU2E+OQHULCf6b+I/gsiNg+kXcyDFAEYFANBLkJ0TBwAI5FIoAwBLAQJb8/q0JIKJix5sH/RQAKVIgPxUBELwIMONCzYQ6Oihd6gDABYEzj+KcKvCfCAQtAoQkKCTABVUDbSakKLYDgCMBGmEJsOGMQD9UbyIBsMSG1p7jChRw2JHiQD8AClgLkLKg3bgbGyHo0M/uVoFrReD0K1AHABcC5SDxOlCOWILjIpZZ+M/E3gCOe9YIoAMN5gozZo4l+68fAwBkBkb9fFC2wggLpwToivruQBMCBQhEEKAAl9lkwQRwMBEqTd4Glwkpsr079+9LFKr/UlCBn8DUAzsIFLEsQD8gzcEepF0aAJDqAXYj3vhPBYA1IqG3Xnwi/bPBcAiRFYAqBQDQiF/6KWRPRHAhlBtmA8UQwGryrcAZQfBlNZ9fQgBQQj8QXreQbwkBN99mCXmoFU0FoYVcghRFAAAXKFbnUAfYFdRIRPAhNFpBwFUQAIyjRdBTcTU8KdFEZwCggD0KhubkflQJ6F5T0gm0DAIAhPnPWnIUONEMANhF2T86utDVkVxu5OU/0hUgBBlTACdZVU8tIdY/6pC5hoLunSHBQDYEWadBXgbwzxTMCQSACoMBGoCgYYW3QY/Y2QOXfI8uBFZ7Bo3DxRFL8EUQXJkOBwSWKpQFEBAAIfkEBQUAAQAs8QACAFQAEQAACP8AAwgcSLCgwYMIEyoUaG+NwH4LB1pbs8ZaQTkBzkTcyFHgDIFc/hXcZgPBQARIFP4rc4FghTL/RE4JkKOjzYRkAIAUKbElg48xIthQuKaATiFCRAAogEbgzJo3ow5U54DChgAhCboIoELdQ4gKVQB4QTAG135ygARw0TSAKqk2h6LpgJVnADkAGIyzWQEAGLD/ckoIIMLgErBwF5YBkOMf3awB+umgebMEACwD/3EBUHjNZBUDGyEUvdChQnURHOx9bJfuFDAlAlzQQTrh5grLAvxbdgEAF6eUF85cCFrhZDACWQ90IFBngAIBEKyxe3CJAgQiRCBQcBg4VIUYFyL/T7hGwAueygUq8GgvgLoWASK0TwimA4D7ATaMD/A0MUd+FCCgCnp1DcRAAA70w5M665GBWEFYAOAAF+OMA4YDAAzX30LbRFSbQUIEoNZAVx0RQG7xBfARQaAJ8eBA/SgAQBm69dPPGQAoANGGCg0XVkI1KDQiaN95JOKLAvmxlEAxxYQAABhhNtRCbSnU3UGYFbReYX8FUEQAJlBXGBLUDaRkAfY0+U8/RmFEY3H+RZWeWwUUEF4AawAggB8DfTlgZE9OoaBIESLATwDW1FnDl3IgGSdCcwYQIgNIlFHEejbYBZ1pIi6lAxhk6GDUiP9gwZxAVz66UKQiCjCQADkcKjrQpjACAd19nhqkDkYdquqhewepgkURU7x1UQDzRdbPMmAUcQQXvQYQEAAh+QQFBQABACzxAAIAVQARAAAI/wADCBxIsKDBgwgTKlyosFGZAOoQlvnHsKLFADUEYjE4LkfBIwvREEQApB/BjRkvqpQ4cCPBbQdTLiwRQAeDADYoasS4smfBCBE6BHA5MEYAEyo34ByoSkGANTqFBFDhs6rHMiKGGlQA02IjAAK26QwAJMAMgTQ/jq2qcA3PrER12lBZBoCDtWACOCiIdKEqtgP5UWAAEy7BrEsIelR4xu4/nf+4BAAwbqfMhEQT9l0oOYDhgRGmGhSJcBkAAI0eP85x2o9JlBWLCJFNe7btiisGfhZ4M4BRgS/08ksoAkAJdY/PFDjtVutlwAorFNytV6A9gjfzIvSjwK4KEQIiLLn3Y5lhZbZFDApNP1B6cIItyK4d+LjRDAYAFMSQM/m6c4aZIbSZQYslZFJucxGUkQ7zCaRaQWQAQIFOktVgUlsMIdFgQjcJxQVFSASQVkHsGaTaWjEAAIROIpWwIXQLUXcQfwDwJxBI9J0oEBj5qaLTeWfBqJKM6SkAEo7PBUBaAGBsAAQWS7wAQAAfEtTZjS8KeZhWBhVAUIIDIaDkQBFOKZADZGSppUrnJdQIQhE5uAwXSCwx0VoBAQAh+QQFBQABACzxAAIAVAARAAAI/wADCBxIsKDBgwgTKhT4r2HDhQOtoUGz7eAZiBgzCowhEEy/gSUAiAQwUKQ6hepqFBBYwMZJgUsC6NBIMyGZgVwI6ujAs6cDABUU/jMRIEIAIUZXDIw5s6bTgeMcXNgQwCNBh/8EigBQRCGYAA4q9lvmIMDNAEACcHz6tEaANVStMnQo0A+AAssS9guJhGBXFQE6GIzJFmMZmQGo5hxIV6AOAEr1FgDQiKCfAAr6ockRAPDCyoUFqovg4GTcj3Ox/iSD+mDlAq0DoFYVgClEwgpdLOT8NXHV1lj/gQHgoF9WhGgwH2eoIICc2oghCikyvTr16wuTr/W9OHVDFQCAGPdfXrAMgAjG55a9aDs0RHsRFOQVeJqxw2WT/YwnPxANAAbB/dPcGtA1pZA1EKkSG0FCHEXQBQH0hWAAdBUBgAgUPnSQHHcFuFJl7SmEW0K6ITSDQkJkRRcFAGCRIX8D8TPZfAK9JtAUAeQAY0EXLTRiQTgW1ByGvTm0BgAInNTYQR0AwEVrOGJoVgCRuVdTfanNAIBbWA3UFY1IALABPwLxcwEAQc7nFkNWYqRYQf+ogwAAa3RZknOo8VMBACWQAcZWEA6EBQNLtenmb0ACcEFwBJEkB2r/NEKVQAB0QFtB4wiUqaFsqSKHKksWZM9V/5yBxBLJDRQQACH5BAUFAAEALPEAAgBVABEAAAj/AAMIHEiwoMGDCBMqXKjwn8N/BscF4NKPocWLAaYIrAFRYJGEXBLyWxJgQ4EAMRwSbBTgAsaXCVUp2EgwZEGXAlQlXAYgAIACAFJ2FMjSJcyjA/+pKPAiAEeFQgKYUKhOB5dGRYI+JAomQISBfioivRhSCBCnQw3+iwDA5sGHELMK7Xi2YNOxFpcxuMDvbA2FZQIo4JcQbgC5hv1o/CpwDUJ7DMks/PcCgGO/ae0G0NFwK+KtAYoyZLlwpkLJnANgRjgOqJzOHeUGMCx6ocSFSBSOc+AAsmqnCXNvyFzQsGzQtfEy/DcDQBmxq9VuCEAStsegs1WGbsmQ8EI/CdEEpyhB0EaApqQJvi6gbrL249qTJ0yf0PRBtwdFGMyBcrlnrdoFoFMFDFnDUGoHOVYQgV9FRRA/CgBwhliw/fPZUP0UoACFyr0UXU1eIRSSgtk5dGFSGwBgQlSSdXiRX2qR56BB+gnR0T9AxBBDihHoWAOFaxh1nosvolVQIwIUoAqHA+n30UApEgTATwbZA55ORDK0jIAGtQceQixtOVAjcpRpphxhBRAQACH5BAUFAAEALPEAAgBUABEAAAj/AAMIHEiwoMGDCBMqXJiwX6Mya8YV7Bdgyj+GGDMGICNwBcEpCZEkLPMCAQAAAQqsUDWQXwAHGmMmHAczQAuCHAtuCABADsWDNx3E0BHDZIRlAl3WlMl0YA0AMwJ4VChyZ0IhXPr926rKAQAg/VSdCcBgoJyLTTOWCaDjiNSFO5f8XLj1XxEAHQKILFhiblqF6iI4sOd2KkI5KbdlrIsFb4BGYAIoIOh3IFqFkRfmCFCmX2GFm2Ncprs1BoDNAZQydLmwQOWCaAREDfAZIb/Jaxf/IwOgQKOkLxm+LiikiEJ+FBQgpf0WIZcAEYYj/NdIAYC9qYP/zagjABa0tQ+WswggJKaqCAC6t9SucPRh92YLWBUIJMD4g40EAGCZ8XyAGgWpthBrCrmGUG4IVWBQeSZotAwFUFVG0VINMVSDdIjp9NIMYBH0TwQBcAHfQctcAMALWhX0DwMFqLNdU27dZNBaCgwX2Rk/jbMBAC5oBd94IggEhnQvGhQeQS+wNdxN6gWgQm8vxCClQDqg5cd8fRWJ0ZECjVNATyMyiVYHKBlEYWq//aYlQ9Zsx99jGRr0T0AAACH5BAUFAAEALPAAAgBVABEAAAj/AAMIHEiwoMGDCBMqXKhwnJwActQZVBUADMOLGAUCESiEoI2EaxKCoQBgIAATfvoNLBNAhcqMMA/KKSCwyMsARwxGCIDA3j+EQgqImBFghoIAChqtbHkzptN+GxSYCNBRIdEaCpf5HDiuQgAdAv0gCdBhoFKnMDtyeRHAZkJ1CAKs+ZkxZwmBRAvqoIuWoZ8CJv7FoKpwSYALfDF2zCun4waBZOQkHriM4ZmF/TogaCS4bdOCZXPCPKNAQMh+/Vi6XMhy4WOFRwCMDTC46kE/AApUZlimAgUGADaQ4av6s8FGRYQkX65ceQAsChsh2PBysNuDYF1MRkgGAQIAAChw4CFYvG/GEgLkVCd8sB+DAMMz/lO35Dt0geUVSlx49iAXAHkJpMJXflBUEBgAOLBdQv80+M9/EfCDH1OsMfTaQbYdFOBAU22EkYMNqgPefmgEMNVCfjAkxILw6RTABjEskZgqNPW3EIg/4QbAS40AgJh5aPXDVoYDdSTCgoalKBBnDgpUAwAdvOQebQKhwSKQB1ln3E7jHcTlQA50AMQSWAhBUgGtQbaTQHthiVFtBp0BgAL2tPelQCIYVEEZ26mT4m5uMkTRNgZZE4CNBPWTIqEC/aMKGEsUMUUA/TQYQEAAACH5BAUFAAEALPAAAgBWABEAAAj/AAMIHEiwoMGDCBMqXKjwn0OHB9cEkMiwosUAJQRSFFgBIYJ/CR86FBEAwBqQA4EEOHKxZcIlADSiDDDDIAOM/UI+RAIgppycKQMUmemyaCMEIhxMXBghAJeGII8mNQlxYs0cA60VdWmigB+lJxOeAaDAXsUSBRo5oDqwaUEyWy9OAVCkH1iFMQJgZQjziF22Asu8CFBDIJhlCP0wlLNQlYILOcESJagOQYCfjRVsiAzYocqhC1Uu1DG5oAoBFO8iXBJgM8OuJ/+t3Sjwc+mCaIQU0c17t+8yCrkAIC1QMsINAZAwFA6kn8PZBW3HtbiMQYRxKFUblAOgwLaFyxREyFAnUDbg2kJvE0TcOGFh1gK/Og3wvSDWvAtnAJgip78cBgCAIcc4QYGmkGgKEXdQRglNURA/CgQA3EIl9GShhQJhMZAQQgGVEBjLJVSEQQUEYEIAaBQkXAT8MFREDDDGWAAAJsSwBlAO7jVdUbItZVBGQng4kDoc8oPSZLNVdRkACOQwYiM7tmQcQaoAIEAjpVUZgFblidRjWAQVEaFAcEVpkXYbmnibllwG4KV5tBFkDWPkmVmRYmYVBGWbDzImpJd+yNGiQAEBACH5BAUFAAEALPEAAwBVABAAAAj/AAMsC8AlgMGDCBMqXMgwIRKDOhACYQiATEM5ADJmNMgAoZwAHf41HEmyYSMEEBFOUUghQAFrFwEg6ECTpgqRBj92KMmz578SBVoEiDgyoouRGEP+W7r0YKOCFw766UlV4RIASHIMHdnPQUWkAJQyxbk1YY1+VdOqUrAhgFaiDMEEcIA2plimB+UsCdAyZ92E40qWIfnPRIGPbxsWDgCE7EKMDDpEuFBjjWOdJT+SjPB3IRcAE92WXaiqAIBGJDECKIBgoxCPIEsuKyKEtu3auPc2XBvBnsHEDF+LKNnoiCqRqmwEACA3Z+y0af+tAIDmIHCF/yQAwEIYr8F/OQAMx3e+k6RvklMZWlSRd0aAGnJUdQ5wJoCC84rHMkUjEyfm1CVxxpBuDKnQ2T/uKdedfv+gVkBdU5U3kiolATHfQYMl1FJLRySkTmtrlMTgUmAA4EBT6swFnUL9XDjSdQjtdYFj33EnR12oIbRMBQCc9V0EAKzwWoYrpgXjdx1gtdA/bT1k0AUbALHEFDooEAADORqERl/vuVjki6Pl5RJM2DV5UAkaaSSCZgnZMxWFX1ZF4UAJbRNAlgn9MxWZBj21RBHcNWVQQAAAIfkEBQUAAQAs8QACAFQAEQAACP8AAwgcSLCgwYMIEypcuHAZmjONCMopgoahxYsCVwgkQ7BDwn8f/8kxIWCggzUB+h0JAKQfxpcIuQDYSDCHQQcBNrhE+A8lgAs5dKhAAEbgypYwkw60xuBChQAcFW4IgEShOgcAihC0ty2AHB0BZgxcpvRljAJrLkBVKAdAga4JtZpAOLUgFpBlGZIBoOOf2qgIbcbAi1Bt0YNnagR4MVAVwogLUSoc5yCCugB/E/JTEKCM1QIBGhXZEKFDkctGWe5MuHLhDMIHxXrGvDYmgAj82AJA0AGAgggCL1hLjVShZIWAD5YBUGNnZoQlAghZfXANgOtT+vXzA1xsgKPU8ybrVBeBwfDgtQ2qAiAAcsK2AGIQrFjgMviF5xU6RggkgNaBEgQwRQDWwCZdACYYqN51WBD0DwIAoHSfQq0p9NpB/TAWl4HAcWERhGSs9k8EAHi2BEsMzabQFAoKdGJBnImQnkDLKZAbQyYAUGEA9hQAgB8BFCWfeAH802JCzxXEmE0G9SNEAOPgJZMEN/7zZAQgqSJAATZoJQeRGCU50DigfWkQPzP5sdM/IgCwARZk6CAAAIcFsAQDA3kIpkViClTVBi2iGYCaAv1jzVwDKTBgQeN8Oc6eFkWEGkGOkYXQl/Y4KNISRYABVwABAQAh+QQFBQABACzxAAIAVAARAAAI/wADCBxIsKDBgwgTKly48J/DfwSXHQHTj6HFiwGKCARSUaCOhGUSigBAEsBAkvz+rQkgAiLGlwf9FNjYMcASgxQCFBiXUEeHn0AdALggcGVLmEgH/hOBoEUAjgpzBIih8KHLAB0AHAnQCEuADWcE+kn6EgmAJTae1jTITwGAkAkfDvQDoIC1AFILpiVrsRGCDv3SQkXIJUAEflUdDtQBwIVAOUgCEH18lSDPhXDjmiggJ4DgtQT/lQggBHRoq//6MQBAZqDRygdXLoywcAppgZ8RqgogoFFiq2ACOFAc4PXCZUKKJF+uvPnNhKoUVEDsWS1CIQFMwC6I+p8JAECIG8/ny/CfCgBrOuY2+C8CgMK/IaoqAKCR3PEJ7TEci7C144FU1RDAbgWFpAB1ccklBAAl9HMfS9sVJJtCtB30T2QJrWDQC3hZZJV7XDioWGcdREiQbwsBAZJBtFUQAIYDjUOfHKax59AZAChgj1UB8BRBjeQxtB5BkW1g2j9e0SjQQzMAkJZcAbTXGHaZBSmkdaFtYNORRC1x1T/qIIAejwH0c4YEA9lgopV6YTlQZwWoY2GXX95kJJQE2TMWgWwutNsyBt2FYkwB3EXQbqrgGRAAIfkEBQUAAQAs8QACAFQAEQAACP8AAwgcSLCgwYMIEypcqNDamjXWCsoJcIahxYsCZwjk8m+giYTbEv4rc4FghTL/Ok4JkAOjy4RkAGzsKFCHQQcBItA8uKaATCFCRAAogEbgypYvkw5U54DChgAcFZYIIEShCgAvCMYIoKKfHCABXBQNoEqpSxsB0HSAutNgo6FlE1YAAKafwH8xJQQQYXCJXbMMywDI8W9tVIRgu0oFgGXgPy4A+K6xqWJgI4SXF65ZqC6Cg3EBDLctGCEAmNEFIVdYFuDfsgsAuBhlyXDlwsoKbYIRKBohmQAM+DFcogCBCBEIFPidjVThxIW7E64R8IJm74MtAthkCKYDgO8BNkTqD3AU8EV+FBCoss72oLUCAZ4rxALAAZdx48A4AGC7/MKQC2V2UFVgDfTUEQGwVhCCHaBWUD8KAFBGa/30cwYACtjln0K2WZVQDQoVSFBJU/yVkB9D3ZXSPwgAMFFjaC00lkLLHdRYQQrsZZqJAawxlDoOEoRiAfas+E8/Pk00IW7mJXUdQSDO4GARZHXUT4slphQAfQgI914BNVApB49NKvSkQPYgkJaD8G0mEBBD6QAGGTr4VOA/WOAkUI1lLnTmljkF2eZA/QAB33dxGqTORAD2GWAA6hhUVlwHTWQPof0sA0YRR3DRaEAAACH5BAUFAAEALPEAAgBVABEAAAj/AAMIHEiwoMGDCBMqXKiwUZkA6hCW+cewosUANQRiIagi4TKFaAgiANKP4MaMF1NKHLhxIJCEJReWCKCDQQAbFDViVMmzYIQIHQK0TGhCYMyDG24OVKUgwJqcQgJ07NkzR4AyIoQqVBVAQKOEjQAI2JYzwMsZAmcWPFKWqsI1O7MOPRjVRNuCZQA4aAsmgIOCRRdydSuQHwUG2wLIZchF4Rm9/3L+awxgnE6UCuciDLywsWKtK5sqXAYAQKPIkXOU9lPyZMUiQmDLjk274oqBixG+CGB1oQgAJdRFPlOgNFytmAkvrFAwt0HLFv0o0KtChIAIxf1cZgidahGDQb8fnEQSIOnCyI1mMACgIIacAADsbV+o+SBng71hFky6hCHqgmQAQEFOjdVwFELHKYTEXQrZFBQXbb1nEWptxQAAEDmFVAKDyjHkHEFWxYDQEQRRmBMY7KmSE3RodZjSh4U1dcaBBYUkEBgbAIHFEi8AEACEBHkmEFsueghakEYhhEAANgYQoI8COUAGh0Xy1J1KEQn0zzJcILHERG0FBAAh+QQFBQABACzxAAIAVAARAAAI/wADCBxIsKDBgwgTKgygbg0aVQsLWkODZtvBMxEzahQYQyCYfgP/+RFB0MGUf/8UqqtRQGABG+oGLgmgY6PNhGQGciG4jAGACECKrAAQYIrCfyYCRAggZOkKmTRvSiU4zsGFDQE+DhQCoAK/gUWUfkUIJoADi/2WOQiQMwCQAB2nTq0RYA1WrRwBvBX4bxkAACAP9isBAAnBsCoCdDA4U27GMlGx7hyoA0BNvn4AKEjYrwCARgT9BFDQD02OAIkXgnYsUF0EBzHvBg4gpwACOQLttdA7uyDoAr0DQ5x5WWFjhS4Wni4bQDZBMhEKbCihoICO3gXRjE4ZcjNu4hmFFP8RT368+YXa4zYPMHngGhV/iUYwnLDMz37cUa7FCJ51RHsRKLDMQM4JtEYBBSCxjD1nXADAaQihAQADKFX4z2ZrBNCfQtZEpAp2WzFF0AUBGNZhACIAEFaFqiAAgGgHyQFAARai1BJoGyZ0XELJITSDQkKk5CJuFnYAABYI8ePZgAP9JpBROXCXEEYL7ViQUQVtRhJzLq5hYXNHJmQkF7MZRRJbATzln1QFKgaADRXW5RluAoXFZIkAbDAWPw5iySRdfK2ZkWQEgfHXC2CQIYQCAKgwG1FyBMZPBQCUQAYYKZI4EBYMQCVoRG0WtVl8ALwwDkGQBvZPI1gJBEAHEBUbdGoAs346lTpkHFEEFqsZZA9BKJ2BxBLaDRQQACH5BAUFAAEALPEAAgBVABEAAAj/AAMIHEiwoMGDCBMqDMDPTxk//RYS/Efxn8FxAbhElMix4xSBNSwOVFejwMACOuwp5LckwAaTMSgSbBTgQsebC1UpADmxRAAEOgLYQBDghciDywAEAFAAQMyjAWjaxEm14D8VBV4ECDlwTYACEAWuaeonoTodXBoVcVpRYCMwASIMDFv1JpcAQoBsPfqxA8F+FALAPVjR4tqnIvUW1Fq34zIGF/jprUGQTM2JEQB4Jdz2cOEAfj7KFYtQ5ULLCv+90Bxg8lF+mbEI/HfEJdSJndm2jXp5Ic2FOxVaDtp670wRACrEBWBiWcLdhwN8lioR40IkCsc5cGB6csFlNYgK7ESQQ93z3DGky+Q9tTHHfzMAlNnoemTmGhD9aI2MELpT9SJRtxA/EpWFEBoB+DSQDUXxhleCf/m1xEZWrRfdbgIq9JtCwR10V0IiCKRCAEUUpNcM/aG3WwCqBKDcQtZIRNxBmxGknFxCCGTCgwQFlV6KFHm2XgD9FKAAhe5RVZ9AelVAoEDqyFWbQHfVWJiQR/2zAXM5opZkR94NpApRG0xRxhSBORCjQCEKIdI/QMQQw5YRyFkDhWu0x9iXHC0pVmAEbSAHhSGWONCWBAHAlEH2lNUinxw59+hEa7S0RI0D0eRcpnJ06qkcYQUEACH5BAUFAAEALPEAAgBUABEAAAj/AAMIHEiwoMGDCBMqDNBvoL2FA/s1KrNmXMGGU/5B3MgxABmBKwra04GAYA2LCcu8QAAAQIACK1QN5BfAQcebCcfZDNCiYIyXOQLkUBBAhMKeDmLoiMEywjKBNHfinDqwBoAZAUIObBRAwBqNAfwIRJNQCJd+/9KqcgAASD9VZwIwGCgHLNWNZQLoOJKV4McIBP8ZndJwYdp/RQB0CIDEYInCdxeqi+DAHl+tAuXULLjB48bDWBQHaAQmANGIB+0mLL0waJl+lwMv5iuQS4AINCEejgEgaICoEHMrLAD5IBoBWAPEJrjMRAAJASgU5fr5HxkABagDX1j8oJAiCvlR9lDwVHlfgup0nH5Zo7zuRgoANIa6OTJHHQGwgF0OtfOLugHYcNs2G6kSAQD4zVSfQqohBOBBchTQ2UBABFACQUsEsAFk/zgnBEQGBlBDQduFBxFxCOWVUAUCYeUWQY05p9AyFFzVXUNSJdTdQTXsmJlBnTkww4tY+TYQeDIitMwFALyAVkH/MFCAOvZRxVdPA/HlAJVQXRDAiwGUdkZh42wAgAtoNWhhUQKB4WOVB/EXgE7RZYhFZwioUlhPCQagAnYvxCCoQDqA5ceEFr4JZ0FyBiAHogJJ8NVAfILVgUsG5fgbV9QtupA1Cx0x30EyCdSIZqkFBAAh+QQFBQABACzwAAIAVQARAAAI/wADCBxIsKDBgwgTKhRoT06ARv8WDhznUI46g6oCgJHIsaNAIAKFFFTlQsBABUL6KQRDAcBAACb8qBRYJoCKmR5zGpRTQGARnPwqBHCgI8CMnkBwGhRSQMQMowoCKGg0sOZNnVgH9tugwEQAkQO5SLU2EAyAAhcRLrMXUeA4oUUD+EESoMNAqlk9iuTyIsDPgSD7EkQQQE5bjkcClBD4tKCOw3kV+ilg4l+MrwSX2ATac1tOkY3liNwgkIzhg8sknlnYrwMCiJf/CrSmoEDNAP2KtoC88IwCAWtw97Oq9OBthaQVHgFAN8BlsAPlXAhA2kGBGGkVlqlAgQGADWQOE/9f2KiIEPPoz58PgEVhIwQbZsbG2c9PjJ4CGSSVSAYBAgAAUCBWVZtF1lEJAsghH2Z3MRAAEKrws8ZilXH0jzpL/NceTQUqlF1CeB3EBQCNCaRCADr4kVEANbB4mD0RBBDeQv/U+M+IEfDD4VXaSZTcQdAd1Nh0G2n1FEgK2VijOgCmhUYAXi3kh0RC8DYQGQbFuEEMS0QkFBdKufBgkkrKBeBMjQBwgZUGStRPX0FeVsJhqhAGRluaTSkQRDYKVAMAHczUj4OXBYAGm20eNN9Aa/RUQntIOBDABf20FeOAQ3UAxBJYCNGSbQSREaNAjyXK0XMFkSEpQSWE2M+lA4koYFAFZVipzpSpmSpRRp4VNBxdUzhEUH0B9BrAP6qAsUQRU+BWYwABAQAh+QQFBQABACzwAAIAVgARAAAI/wADCBxIsKDBgwgTKhQ4bg2aZQsJ/ps48eCaABcjatwYoITAjAPXdAAwMAKYfwopThQRAMAalAOBBDjCsWbCJSQxwgzgp0CADTJLkCSz06BKJABIyulHUGaRojZtNkIgwgFGgjUCiNipI0AHqBJRTq3qsiLGGQFyDLQW1aaJAn6svhzIcgnBNQAUgDVYokAjB2VLGiTTluMUAEX6ySUYI8DTgWUAVNhLEOcRxYEFlnkRIGsAMBAP+okoZ6EqBReYyt15BoADVQxZIjGtYIPqzBOdUo4ZUcfuACoEZFxMkIuDAh1EKEAg5HeAty//AQYpUPdCNEKKZN+uvXsZhVwA+P8WuHrgvzIicgaogOV3eCD9Jk4vaL2wxmUMIoyDSVwgmAIIYGGNOmRE4BhTBy2jQATqCCRdZtU55lxoCsGGUFZ2CRRXAFwEsI1ABnY4kBwAFPDhQTMAMIUcLMrBAABgyDEOb48pJNNC4x3kUUJTBKAOSfuZZ+B3OiZlpJECYTGQEAcuBEZEIh5UhEE+mRAAGgGMQ9IyRVlFpEFFxCDmmAUAYEIMayDYo1r2tSXdVYIxORAZAAhwojpM8gMTVNOZFQCJCOQwZSNt1lReAP0gJUANYJABBAIB2ACTKiSx5aBKb85FUBEKzFkoR/0JVIRPAxVQAz8DURqApQFg+iB1BFkfU1qDn2o0mj0GjQPGEUVwYeFA/JSG4KUU+SEHqgIFBAAh+QQFBQABACzxAAIAVQARAAAI/wADCBxIsKDBgwgTKgzAT84ZP/0WShS4LACXiRgxIhGoo+C2GQUGIgBiT6EcAChRCmRAUE6ADv8yykTYCAFHgv06BFDQsUbIGhERnkTQoWhRFTEFutQ5s+nAfyUKtAjQcSCZAAgaDTwTAICqhCdh/hs7dmCjixcG+nEqcwkAJDmoEtxYguC/CADKgAUglmxSuQWBsp2oSsGGAHGrCgTzEqcCAGuF8vVbVumSABQGyglacJxEvQr/mSjgMvHAfuocCGAc4J+QACJMAmDQIcKFGmv+Blgq0eXCCJwPcgEARKBpgn46ALhQAu8Ka7IBFECg8rXmxguXFRGyvTv375cTFv+OUBIx4IGqQA7kWZ7mEVUxVdnoyno39sES/60AgGbgcYHWOACADo30I4cK9xnk11M5ABCbUgki1F5CkR10FYJKzRBADXKoElFxK+B0AQBYIEQZWWgAgEBSvC3km0LAIRQeQir0009sM94030EnjqVVAUGtxZRCXy0ERHAEgUZQZpkd0VpsThI0344K9ggGAA6UpU4ADuAnkI0y/SfXBpwFCMAUEf1T4mYCaUXQMhUAIFhrzr2mpJcS/fePH9R1gEUZS0QQQASetXbYRgJdsAEQS0yhgwIBMOCmQGhkJtCceC4kZgBnCDoQXy/+c+hAJaSUkggvEmTPWkVmutBXFRUW1A8aSByxBJtPrQWdWVwsUUSJlQUQEAAh+QQFBQABACzxAAIAVAARAAAI/wADCBxIsKDBgwgTKgygbg0aVf8WFlyG5kwjgnKKoJHIsaPAFQLJFJQjAsBAB1z6Kfz3T44JASfXBOh3JAAQlR5zHuRiMoDIgaoUBKgAJIAKk1giIvwnE8CFHDpUIAAjsOZNnVgHWmNwoYJPgkU38BsoJIAEpQfVOQBQhKC9bQHk6AgwY+CyrDljFFhz4avAfiDLDmwEoADOg21NINxgMClejmQA6PjX96fAHDYPywHgAK3BvlQPnqkR4AVQhBcXylQ4zkEEdQEqD2wpgIEfgeoUCzlcUF2BAI2KbIjQoQjsqpkX1lw4w7PBumUEyiZIxkGBDgEUIAAyFuFmBB0AKP+IIN0a8qsKVyu0fLAMgBo4pw9cY6JngAhLeBdcA6D/lH79+EFeXQFYpd9jCKkTAQPmSeeXQGcUgAASy9hThleTeddfDARtVABsBi7UoEKqJFRUWwNJEMAUAVgTEXZIENRIAQWkZpAq/WFB0D8IACBTiAotp1BzB/VjWkJFRPSbjQIxxkVCPZJx2D8RABDdEjZJFN1CUzg3EJYFCSWCX7/JURAFATyJUH1CBmBPAQDcRhWHCAbAUk7yxRZAhgKhAVMjEfVT1jhK8SRBd/+UFUFEqghQgA1tmVlnR3nyRBcYZAiBQGlK8WOSHzj9U9IGWJChgwAAhBbAEgwMpOakEuU0ueqmBM1wXACeBgCqQP9Yo9hACrBY0DhmjgMrRxfdOpA6ZBxRBBeAjuTmji0tUQQYcAkUEAAh+QQFBQABACzxAAIAVAARAAAI/wADCBxIsKDBgwgTKgxgT84ZPwsN/pv4j+CyI2D6RdzIMUARgUA0DrQWo8BABED4KRQBoCWAgS35/VsTQETFjjgP+jEZIOTAfhsCKNARoIZJGwp1dFjK1AGACwJp2sxJdeA/EQha9BQZgEwABKpElgkgYFlCijcDdABwJEAjLAE2nBEIsWpHJACWIPUZ4N9HEwT/OUVzduJAPwAKWAuQwyBSuxsbIejQby9XLjXT/lMAoFHhtDoAuBAoB0kAqKTTEhwXcazCfyYKyAlgeaA6p2Q09hMSoITqwGj/9WMAwGvUzAtpLoywcEoA3rS3EpSz9oKJCABabPtMEUwAB4YDSP/9bXCZkCLn06Nfv0ShKgUVVEbnK1DVDJ5CgajjPtEEACDhjQfZRv+oAMAaItUm0DJO6dBIP3KooBZ3AahSQGcUiYecQvZEVNdBXo02UAxFVSgQUS8QxA8FAGB2EFrPAVBCPxkKqJByCjH3omkJrdBXBwE4R1BjRCGEFnZc0GjYbB2QV5BnCwGRkGsEMVdBADwCuQRXJTZm5ERnAKCAPTCyFgGXA3akYHSUDbQMAwHA1RdccohE0QwAIJVhX9i5wBuVaUa05k5qYVHGEsxF0GFfUC2hmToIHAhjAP2cIcFANjgZqGPSDVSGjgN1ACWjAThqVXsbKEmePRCpsulGrpoVRVA/lSJxxBJ1FgTRYgS5qsqeAQQEACH5BAUFAAEALPEAAgBUABEAAAj/AAMIHEiwoMGDCBMqDKAuQBlVCwtaW7PGWkE5Ac5E3MhR4AyBXP4R9FMCwEAHS0Qm/FfmAsEKZf6JnBIgR8ebCcmYDBBy4DIHASIACdDC5JJ+CdcUMClEiAgABdAIpGkTp9WB6hxQ2MBTZQAhASTYU4kkgAOvBlUAeEEwRgAV/eQMdSE1AMSrHW0EQNOh68CPQJAK3GbSXsIKAMAI/qdTQgARBo/i3VgGQI5/fXsKHKp3YCMACNAWLIll4D8uACCv0fHWM8JGEdcsVBfBwbgAmb36KYAAYwB7bFknRF1hWYB/yy4A4DK1ZkSaC1UsZA1GYG6CZSII6FCCQQEd/BYu/1GAQIQIBAokB6Aa0bfC6kkFvFB5faActQMjHBGcEEwHAAAGsAF86zk32Ub8UICAKvT5JZBSBRyhCj9ncNUZQlgA4AAX44wDhgMAQMfeQttEBBtCYA01EFdHBGBcACV8RdAyCATgXkH9KABAGcf1088ZACiA1IgKQaeQdAjVoJCKCtjI32MFHuQHVALJJBMCAGBU2oUJ1aWQegaVVlCTkCkWQI1ooNXXEghNWcBYVvazFEY8InmgVfVBWYNXchTgpEBF2CVSP1hO0Y9MAWSIQHjWFFBADYHK8eSdCuWpUwAuMCdEkyZ45adsm0GlAxhk6LCUiv9gAZRAYFJaqYMCYTPRJEEulDjQpwP1A4SfAIpqkDoY2erqQrA1RNA/9pBxRBFYNCIaRoYJ5OMyYBRxBBfCBgQAIfkEBQUAAQAs8QACAFUAEQAACP8AAwgcSLCgwYMIEyoceKbRwoKNygRQh7DMv4cYMwaoIRCLQRMEGQTotxANQQRASA70yFGjy4orCW4r6EIgkosLSwTQIdIGzgAsXwotGCFCB6AEiwSIQFHgkgAiE24IYGOgKgUB1uAUEkDF0K85ApQRgXQgRx0/m45D2AiAgG0/gQSYIVBnwSM/vypcszEAWY8FWwpUJVClwTIAHOQFE8BBQZALCesVyI8Cg5l/CTrMepFfjABhEZ5J/A/nPy4BAKxFKjghYIWQF6L2W5ZhgAJTBYZGuAwAgEalS+fw7Ydk0IdFhCRfrrw5xhUDMyt0vFAEgBLqSp8p4Jsv68kZKxTNlC5QDoIASu15r2HYoB8FiVWIEBCBu5+OfReu/qq04NH+I4EkF0FYjXRQaY3MwAAACsQgR2r24NcaQq8lFJtBuyFEkkhaEaTTUweWVhAZAFCAE2rsLeSdQjdpJNJRXFyElUQHtTdQcHnFAAAQOJlUQl7gZUTeQHQZ1GEARxCEI05gMKgKTqsVGaRGQw4EHXp12WiSQGBsAAQWS7wAQAAxEjSbQHhN+VCVZ1ppzUkBbBkAiWMK5AAZQKr51X4FIbFQUwH8swwXSCxhUV4BAQAh+QQFBQABACzxAAIAVAARAAAI/wADCBxIsKDBgwgTKgyg6gyabQsLWkPz8OCZiBgzCowhEEy/giUGFpgx7t9CdTUKCCxgQ93AJQF0aJyZkMxALgQbMQhwQQiQCAFEfEz4z0QAoEKArngZk6ZTguMcXNgQwONAjiL4CVR3IQDMhGACOIDYb5mDADYDAAnA8enTGgHWULUaoB+CAGgI4txg8mC/EgCQECwSQEWADga/uo1YpilVnAKtAQjgcqCfAAAg+i0AoBHBywr6oclROKLnxVsjOHA5d+g4AACs9f0nB/PFg54LDBU4VJXXpgsVJ3SxkHTYAK0HMgAA5p/zf0tgQzaYV0Ffgf8UBKgNU2ZEIUXAi/8PT35h3rbIA0wPkAMABVX9/l2GjQVhGQAR4mP/d/Zid9QY2ROBAssMlJxA20gAAAImlFAAAg4wtxtBaADAwHPPabfGb94pZE1E8CEkRAAjDtSVYB86Z40ODghQgApy7LTGdQTJAUABGDqnkmf/BRcRcQjNoJAQJj1HkCo32oMQP5wVOFBuAk3BHo0WRSRcQVIWpJ0IVe1HoxAArOAcQh0AwMVuUnKJVgBLAejUgQEYKZAcCAAw40CEORkAEgBsoFUA/FwAQJZOwoWdmxg99lkEQCyBRUoAEHndZHIMxU8FAJRABhgiANDVQFjsJNCViCIEZyOcDaTAEmMOROlQ/zQjQpVAAHTgW0HjCJRrqU+pQ4ZgYPBD5UBKDuTcGUgskddAAQEAIfkEBQUAAQAs8QACAFUAEQAACP8AAwgcSLCgwYMIEyoMoG5NmUYLC/6b+M/guABc+kXcyDHAFIE1Kg5UZ6OAQAAi5CzktyTABpMxJhKEeKGjzYSqFIAk2E9EAAU6hJQIwABiwmUAAgAoACCmSIE0b0ol+E9FgRcBQg7E8lOVwH82ArhQqE4Hl0ZFmlKECiZAhIF+NE7lyCWAECBZRVYNgHfgtgICliGkWDGtU5F9CWKdu3EZgwv88NYY+K9m3YH93l42SDiA4c5+Pr4VuAahvYhkFv57AaC0ZL01uWJ2wHfw2s9rA0RdaFShToWpdQh8PRBr2IFGJx/MbThA590KLy5EEt2Bg9O1lQtMXeBMRXVDA8TnsC2zeW7ojFXPAFBGLvGvMwIIEKHCAYCaWjnL9NzU+X70CPETkR8JoRFAeAKFhVVv/SBRAWAbgDGWEHJJtJ95/wVQE28R/XbQZgf5ZJBG/1AAQGrL3abWfgF4VUFE1kQkHEKlFfTiW0IkVBoDApL3D25P9VOAAhWmZ9N7B42zgWcV1lWjfxMBSdkGAJiQI4pGbiQZVR3UgAQXQNBWQo8C+SSEXkDEEAOVEahZQ4VrbBjAYllGhOQ/Lw4kQA7YDeRTEQRRSRAASxlkD4Fe1RmRYIlihsYSR3AhmEEQTQqVHJhmKkdcAQQEACH5BAUFAAEALPEAAgBUABEAAAj/AAMIHEiwoMGDCBMqDGBv4cF+jcqsGVewX4Ap/xxq3BiAjMAVBfnpQDBww5qFZV4gAAAgQIEVqgbyC+CAo82E42oGaEHwn4sACHIUMQFUjkKeDmLoiLEywjKBM3XenDqwBoAZAUAO9FjAz0AgAUQoFMKl37+zqhwAANJP1ZkADAbKyUh1Y5kAOo5kJYjVBkF7K706PPuvCIAOAZAYLGGxrkN1ERzY06tVoFjFA/9tSKyRMJbDARqBCaCAYOOCdBWOXpgjQJl+lAmWCHDk9L8KAWp0PhsDQOsAUR3OXFjg9EE0ArDS3juw9QuCywowX3iWDIACjaDSdGj8oJAiCvlR6lDwdHnlACcFeAT+PMDswY0UAMAMfLvjjToCYKEbm2D+wzwNdF5CqkQAQH4y2adQagnNhZAcBWz2lXuoYSFhBVz4lQODBxWYW0gKJjScQsUhdFdCuBlEl1hYLLQMBVd1Z5FUCXV3UA02CmRUQZs5MANbCDUiQAEUJbTMBQC8YBZqDBSgzn1U6RUgQvaIpUNqo53R2DgbAOCCWRxSKFYAYOQI5UH9DVSCckJEEMAGDQ3EE4IBqHDdCzHkKdCVAvkhoXtmnllQmpYRdNU2Bc1JVwctGUQjcNllJ6hD1hz0z0n6xYSQpqHtqGJAAAAh+QQFBQABACzwAAIAVQARAAAI/wADCBxIsKDBgwgTKhS47UyAZQsJjpMTQI46g6oCgInIsaNAIAKFFFzmQsBAFRkVgqEAYCAAE376DSwTQIVMjzgPyikgsMjNAOooBIgABMiGoeMUCikgYkaAGQoCKGg0s+bPnFj7bVBgIoDIgSIjbJPZT0UAHQqX2fs3cFyFswL9IAnQYSBVrDhFcnkRwOfACwGmEJQDgMHViEcClBDotKAOtng5+ilg4l8MrwQRBFhDsB9Pzh5FNpYj8mgAMnIgj4zoUGG/DggaWe77Myoa1fxMCu54RoEAzv360bS5kOZC0wmPAJgb4PJXgXWLECzT8jnCMhUoMACwgYzq4YcNNv8qIoS8+fLlA2BR2AjBhpuX/Qqcq4DiQ8ABQCokgwABAAAUcDGdVZF5VIIAcsCH2UD8iBBAASWYoEABESy40D/qLOHfegKBt9BFC911EBcANCaQWTr4kVIA/AgRgQAFdIDGURwq9M+N/5AYAT8dEqiQcQohZ5B1BploUD+axWQjjhj+ByIaAXS1kB8RCaFaQWQYVOEGMSxxJUFgAHDBlwUxyZYf/93UiJhkFshRP3wRWVAjDgQg4EBLBEClQLLhKFANAHRwUz8MNCfQbW56FN9VEeSQpw5RzXBlhXcG4EAHQCyBhRAsFQDkaRUK9FiiHTlXkGYDFQDElf1QOpCDBVUkUAaZ6lAJEakcZbRNQfwYxwWInVG5q0D/qALGEkUI1s+NAQQEACH5BAUFAAEALPAAAgBWABEAAAj/AAMIHEiwoMGDCBMqFNiozBp1Cwn+mzjx4JoAFyNq3BighMCMA9d0ACCwgA57CylOFBEAwJp/BIEEOMKxZsIlJDHCFCgHQYAOQnQ4CPBiJ0KVSACQlNMvZoAiRm1KbYRAxFCQAVjG6Adz2VAyCitSteqyIsYZAXIMtCbVpokCfq7u3EayEUGaKjSWKNDIQdmBEQyCbbtxCoAi/a4OlAMAQdQyjaMexHkk8V+BZV4EqCEQzDKEfiLKWahKwYWmcgP0Y1wgKpm6CktvQH15okyoC2Uu1CG5oAoBGRULVFcAo1PjCd++/OcXa4DbvQuiEVKEuvXq2Mso5AKAt8DUAlf8/2SL0WcA7Qi5A+HK3GVB6IQ3LmMQYdxO4QyHKlAhooADBcgZtIwCEUAUQHsvOYWbQp+RlhBnSwwUVwBcBLDNQKrUwEBjL/ghQACqIDQDAFPIYaIcG4IhxzgDwaeQbgp5d5BHCU2R0BoAOGBWQSUo5aOPAmExkBBPNaUQGBFViFARBhVnQgBoJKSWWkvGYOWVBQBgQgxrGGkjlfFJxVyAB5VRAF8DqUMkPztJ1tyOjCGQA5N2hckReOddAAQWU8zwoZAYkkTegSqNmSBBRQAo0GB2aoQfRjl9p2SgAQxaKIIIWTOagY1GFBpKBG0DxhFIkGEkQfyMdiqhFPkhBz8DBQEEACH5BAUFAAEALPEAAgBVABEAAAj/AAMIHEiwoMGDCBMqDKAOTRlVCyMOXBaAi8SLF5EI1FFw3IwCAgGU8LNQDoCTJwUyICgnQId/GGMibIRgI0F+HQI40CFEhE6ICU0i6ECUqAqYAlvmlMl04L8SBVoE4DhQowOKAfrNCLA1KICX/8KGHdjI4oWBJJtiXAIASY6pTn0WIQixgDqvYMUihVuwRj+1ElUp2BDgLdUA/yIAIEPwn4LFfw+azCt2oJwlAShYjtwxYpmF/0wUaGlY4L9+isE0rlmEc0GTDDpEuFBjzd4ASiO2XBjBtUEuAIAILG3aRAAgnHcfNmgSQAEEKYWwdBlxWREh17Nj3445oeAI9obz/xVoEcEagduW2kjY6IgqmKrWA1CdlDpgif9WAEAzkLjpFQEUIIIKj1UwXkF6OZUDAD7Vt5RC4S2U1kGMqWDZVjXIoUpk/RRBQQECdECGcUcgpJdeaACAAFK5lRRRbwh1h5AKrv311z8O7GfiiWE1EmBkJD3oXUTIIfRZQZppViJCZ+iUEI9hgQGAA2Pd5cB9AvXj20L+HbQMBQAsEdk/WOAWmY8ELVMBAH6ZptgK0h2JpURdwmTDElgAsRKNThGmkUAXbADEElPooEAADKApEBqaCdTmnBHVGQFBBejAT2N+DlQCSiiJsFtB9pAEFKQLQYRVlvycscQRXFhj0D8kuQtKFhdLFFHmWAIFBAAh+QQFBQABACzxAAIAVAARAAAI/wADCBxIsKDBgwgTKgygqgyacQsNLkNzphFBOUXQRNzIUeAKgWQKyhEBQGCBGuoW/vsnx4SAgQ7WBOh3JACQfh1zIuRSMkDIgX4UBNgABEiEACVwJvwnE8CFHDpUIAAjsOZNnVgHWmNwoYJPgh9N8BM4jkIALArVOQBQhKC9bQHk6AgwY+CyrDljFFhz4atAfgUCyByItsO/hG1NINxgEMthvBHJANDxr+/PAI0AFBg7UA4AAfYeG+xL9eCZGgFeDFSF0OLCwQnHOYiQ0vLqkvYIrim5RjRBdYEbFdkQoUORlFVtKk1Yc+EM3wbrlhFoW2A/BD5FNyez/CIABB0AKP84GuCCteRXFcJOePlgGQA1lFYXiPoC67gMBHJBuBsAgCn99OPHUXUFYFV3kCWkTgQMnEedXwItc5QCJpRQgAIOQCiSfzEQpFEBKR24kIMK3XcQEAG0NZAEAUwRgDWPLZPDWgio4Ad2ciCkin9oDfQPAgDIJKJCzSn03EH9qIaYb4cdlhkCCBIEJHc+RgDAdEvYFNF0C00B3UBZFiSUCBoWhGKHCZkAQJEB2FMAAH4EQBWaCa6U03wHrVFAATlaJ0QA4zzGkwSc/fNnBIepIkABNrTVZ4Ic4SkHBUBMMUUNgan4V0l+KPUPSRtgQYYOAgBQWgBL5KcfpB3h6cdLAyku4CVB/HDqqTWKxepiQePkCBGrG1mEnED/jAMGEkiQkZtBOS5LLEtLFAEGXAIFBAAh+QQFBQABACzxAAIAVAARAAAI/wADCBxIsKDBgwgTKgwwDk0ZVQsN/pv4j+CyI2D6RdzIMUARgUA0Dhw3Q4BAACUaLRQBoCWAgS35/VsTQETFjjgP+ikAUmQAexsCOAggpIPQZQp1dFjK1AGACwJp2sxJdeA/EQhaBAg58IhQaxr7xQhQQyHFmwE6APDaCEuADWcE+qmKEwmAJTa2ivxnFAlBlQjUJaQ40A+AAtYC5DCYl+7GRgg69MvLNcA/p2UI/kMAgMzgiQN1AHAhUI5fqKXREhwXMbNZEwXkBKC8N0IAz1Z5ej14dmI/Bp0HSlV9kOZC2wqnEBVIe2CJrQSNA0HY+x8YoaADDF+4TEgR7+C/i/9folCVggr8mOsd6BaBcWtGFVPvbQIAkOzbHUf8pwLAGpHNCdSPCgEUIIIKCghQwXoSEaZKAQA0Qlh+CdkT0VwIeUbaQGOVBZGARUhQQAEblCFCAH7xRpgQKPUzYU3EGWScQshJlCJCKxTUz46WOTVjgxNFAAAXLoImWwcxFqTSQtMh5BpBti14o0GZReATkGcAoIA9ZzEUgJX6VRXgQcsIucRN/7glx14TzQBAXoRZJqQLQgTwZJgRjVmRDUtgAYQCAayA1j9QnWmVOpyt0WUA/ZwhwUA2JIknYwz2SFABOlxJaACGCvQPeRsUGaM9c3046UIQIUUQP2UscQQXiRkLNFesA0GkSpwBBAQAIfkEBQUAAQAs8QACAFQAEQAACP8AAwgcSLCgwYMIEyoMsKwMmm0LC1pbs8ZaQTkBzkTcyFHgDIFc/hFsVAKAwAIxxi38V+YCwQpl/omcEiBHx5sJyZgMEHKgKgcBXAKJEKBDP4VrCpgUIkQEgAJoBNK0ibPqQHUOKGzgKdJjABH2RKrbuuQoQhUAXhCMEUBFPzlAAriIGkCV1Zs2AqDpwHWgggBlCIIJ2vVgBQBgzP7TKeGrwbJ3N5YBkOMf354B1JlUObCRyWUJS2IZ+I8LABEB1uho2xlho4hrFqqL4EDl5a72TNod6MdkYISmK4D+t+wCAC5Sa0akuVDFwtWDi/YN8A8o8oHMMR9cogCBCBEIFED/DjA1IsaF0RGuEfCi6+2BqyO8DuAHKHmzB8F0AMA/wIb05UW2ET8UIKCKe9MFMA4FASBgQgkIIGBdYQVhAYADXIwzDhgOAMBcgApBtNB8BwkRQFwDbXUEQwONo4MDAgRgghxA0WVQPwoAENg//fRzBgAKHAViQswp5BxCNSiEImkyBWDNU+og1FsBAskkEwIAYDRaXgvZmNB4Bo1W0F+oJYZQEaxJ+VRYVvajFEaBHSlgVe8hJAcCqRGE5oEB9IPlFP00aSEC/DhZQAE1oCkHfnMuVGcAjUSgA002UCkEo1TGJhAQT+kABhk6KIXiP1jYFwCYjSr0qCpUDoTAEgZlKTpQP0BQyV+nBqmDkYipjphZQeqQgQQSYNhzEEbGCtTjMmAUcQQXvAYEACH5BAUFAAEALPEAAgBVABEAAAj/AAMIHEiwoMGDCBMqJGhtYcFGZQKoQ1jmn8OLGAPUEIjFoImCDReiIYgASD+CHTdmXElxYEeDFQRSEMjvYokAOhgEsGGRo0aWQAtGiNAhwEuBG4sKtFf0SM+DG3YOVKUgwJqeQgKoCMo1R4AyIowS1EmGYNmZCBsBELDtKZAAMwTeLOiU68U1P8MetSdwGUFVAgEfLAPAwdMAYAI4KPhxoWC7AfhRYLAtgN6BNQM0Irg5QNmDZwr/6/mPSwAA43yqVHg0YeOFpi2LHRhB4Emfsw0uAwCg0ejROXj7OZnyYhEhx5MjX35xxcDLtg02qh1gSUIRAEqoG32mAG+8YldDz14YkyB0geouDPxYoHbrgn4UFFYhQkAE735UO0xtt4jBov4ZFAEABUV00GiNzMAAAArEIMdpfIXn0HsHvWaQVwrdFkA/GlYWgIcG/VYQGQBQ0JNpNWiIEHgKIXHYQjoVxcWLAyERQAk0CvTbYTEAAERPI+E4HlDnIVTVGQQdQdCOPYHBoCo98RfXkCsV+VgAGP5o0EgCgbEBEFgs8QKBMxIUm0B1UblQkX4V5GJBCATApWe8DeQAGTmqCRR/BS2h5EQIARrAP8twgcQSFR0WEAAh+QQFBQABACzxAAIAVAARAAAI/wADCBxIsKDBgwgTKgxgb00ZVQsLWkODZtvBMxEzLlwCoGNHgSYK/hOCQCAAExAXqqtRQGABG+oGLgmgQ6PNgxwddNi5s+bAkQEU6CiyIQCFcQr/hYwQQAjTFTJp3pwqE4COfv+yZiXYqEABOf0C9BMRAIhCMAEcWOy3zEEAMgLNxqBKleNVrVsHmp0RViCatAn7lQCAhGCRACoCdDA4k25Eu1gDaP25mAvBfgoC+OlbsF8BAI0I+gnaD00OxBFDOxbIUcKGCBt0NPr3M/Magv8uBADDmWuAAr37QpzpU2FjhS6MAwiA4DOAAmgHCggw+yfZJb0H/lVAu3YAOQGIZ/8UUoS8+fLoF6LBgvR7yAKq+S231j0r1CLdC5YBECGy5H9uYSTeahnhNVA/HVg1UEez4VVCAIUdhAYADOCVlW3hSbWQNRGpkt1PFmZ1BAAddIcAAGtYWJRlB8nxXIgthTagcRElh1CIWVm2QWQbAABGfgCiiBA/ny3jW0sBTBFADvkhhNFGCeH4DxAAqNBXDgCcNhB4Cnw4UIJccKYkWW8FABWBGam25YnHrQGAAin9M0MANRgWgJECIQHABvwIxM8FACh5p0B1CtQkmgQVUIIQUyzBUgB8/hQDABRwQUadcHK2HFh+VgBACWSAIQIAug2EBQNRIXqQAh51JEAMHP40ZM8LC0bwF0Gb9vVPI0WZ1EFKBLXXnqoGyYHFEUdwsUxeIMqxxBFk2IOQtCCegcQStwoUEAAh+QQFBQABACzxAAIAVQARAAAI/wADCBxIsKDBgwgTKgzwT04AhwsJ/pv4z+C4AFz6RdyoUNXBAgbJRBhI4cxCfksCbAAZYyLBRgEucJx50CNIgiU0DixTAMCMIy8CFFijcBmAAAB6tqw4EKZMmlAFeqzA9GA/CgCQVPwnJEAHhep0cGlUBMBSpo3ABBgp0I/OqAunVjWIJoCDqvYUAIBokGLFsmcFAjEYFG5EuQkHz5CoIsCRuQP9BgAs2c+UtQOJHrQXkUzHAApExJxRl6CLAF0J6ghQA7JAyZQpCnQaEeZCBZ+F4ka6eqDoJW9RB1jhmqHLyWaNu6S98OJCJAqtFbG9TIcAAFhef81IMGUJhLCTy+YOwNyw4X+Dnwb4XbBIgMYHxwNWPjtmRH4R/UB1eFRg49QDrbZYfMfNN155Cdmm0G4zXQSAOgKtlkNBMQhHoEuxVTVVRNZE1NtMZQSAAFOeVUBQPw4AoNmF/2Q4UD8FKBCceTSN81ULA/HDAABk6JQdWwJxEcCKfrn42gYAmNCVZzQmJEIFOiyBBRAMiKjfQJchcEQZRfQERlWiCcEUejHEgGQEZdbw1hrqFdbkQacRBMAGcgTX4k1CTRGcaO4NhKScSRlkj34evYmQKlwsUcQUfBm0THZYOPdSAMu8JMelmMrhVgABAQAh+QQFBQABACzxAAIAVAARAAAI/wADCBxIsKDBgwgTKhToZ6HBfo3KrBlXsF+AKf8calSY0SAAdQXRUBgYgYzFhGVeIAAAIECBFaoG8gvgYKPNgx0LdrBHcA2CAC8CzBBYRmELmjF0xFgZYZnAmTVvShWYMSrCfyICABm4JICEkweFcOn3r6wqBwCA9FN1JgCDgXJyTuVIU2FDBDwF9qvZ1mHZf0UAdAiAxGAJsHMTVlVYWAXiGloRXy2LRXCARmACKCAomarDzIpdlghQ4QWZgjYC5CgoJMBRv2VjAFgdAKrDmQsLdB4od2ANsC4CtCY4JYCI3QXLkgFQoNHTuguRDxRShKOQhgG2ASkQoLpAEwGOyOflEmCDxn+NFAAo/Nxq4sSFra4QXrD4YIeqIgDQQdD2wt4HxXWTNQLFFABk/BFUnWML5XdgQf4phJtCut3UD3fYVRccQaslmNAyFAAwg2QWuYeQdL6haJAcAQgAUgBr0ATWPxcEABpCy1wAwAtkJcdAAS++N5U94GVFVQQBYNHRaQzkZWMAZ5w0zgYAuEAWgKMZCYaKia2AJHs1FRDjQJkVIMQZR/xU3EBHeagCcy/EIKdAOnTkh3kCHSZkQpAVVAEavU3x00BFyNVmRx20ZJCJ/Djn3J4f3jjmQduQF4BTBxl4GYs4BQQAIfkEBQUAAQAs8AACAFUAEQAACP8AAwgcSLCgwYMIEyoU2G9NgEYLCY6TE0COOoOqAoCJyHHhmYMR/hXE4mBgBzkiE4KhAGAgABN++g0sE0CFzI44C35UUDBGSoFYABTIUcREAAUQEwopIGJGgBk8kc6seTOn1Y9GE6rjSeamU58Jl9n7Oa5CAB0C/SAJ0GFgUqscsSrEwvanKgEFxuU8EqCEQKcFdfyEq1BuQqdCCm7QOHhhYsByEi8OQAblwWURPyb86KDtBRtyqgZYTJdgiwCJO55RIMBhv340bS6kuXAyQs0IEAgUgORnBMqDa5xtXLBMBQoMAGwg8zO26IONigiRTn369AClEarF/HBGS80BSqL/CRzAxkIyuQEAoMCFoHPC8Ac6lR3gN5mC5tFG/KduCQIA2b2n0EULvdXRfQ6I1M8FAbRH0Auo7ffPhFwAEAE/AgmYEG0K2dbRGgAokJILARRRUFsOJjThiuqoR+B4WSnkR0RCEKfQFAFQkNJaJpBVQADcIbTihAH4od5NjQBwgY3xcaTKb/oFoEoBBYQmUGIl/LREkW4NKVANAHRwUz8MBBCDQGgw2WR9HQCxxBQ66OaANQQBEd4SZQAhlEMD/ZZiZ25iIQRLBXBI2W8CCbbmQf14KJAJBgbQjw4tCaTARgP14+dAIhhUQRnEqTNjkIsa5AcXSByBRaQEqTJFEWAQEZjpjNsM9I8qYCxRBI79EBkQACH5BAUFAAEALPAAAgBWABEAAAj/AAMIHEiwoMGDCBMqFKhOoLWFBP9JlHhwTQCLEDMqBHJwRkF+OgoIFBDjocKJEkUEALDmH0GORzTKPMgxQsEi/QjWCOAAiJAKATrkTIgSCQAAAeQMFcixiMuZUAM0XWpwDQAEjVyqA7rkpMtGCEQ4YEnxosccA01GhTg1oUcgS7kA2PBUYYkCjca2HGizIJm1GdsitHmm7jgBARoqXALgSD+9dcu8CLAzAJhlCP1AlLMxwIULQYGoqmsPqaqCDC4qVKVgQ07IAiU2rYuQ40IdtAvaViAygIIzA1UhpRqAgmWFJgq0/KdXdwCnC9EIKTK9OvXrZRSS4WIvQL81HXyb//QDoEDu8FwSyoUrsfnL57kBz7RnM2aARkhzGweDcJmCCIoxR9Z70CmE2UKnzaRDAJMlhpRaAjkQQGEdATCFHBjKwQAAYMgxzkCzLWSbQrjNVEQAJgwkIUYC8SMShASVcNSMMwqExUBCPEecQfwtlN5MMVA20Ao6DkQGABLEJ1ARMTTpZAEAmBDDGkNNEQBa8mVkz4EDoSESGUOBAUAE4zxVQgA5MpQjP0/lBlldclyVw4mNZJlQIwWoIAQWSMSAmAm0qbQBGGSoEEAEagkXgFootXdRbkUoYKSdCKmCQEEF2KDYQMucOVAFnAX34ECNCshiQdZwtimlBX33nGUwEhO0xhJHlEEcP5xR1agfcvAzUEAAACH5BAUFAAEALPEAAgBVABIAAAj/AAMIHEiwoMGDCBMqDNBPTgA//RZKFLgsAJeJGBM6NKig4D8wDgQCuLBmoRwAKFEKZEDQYYd/GWO2DICgoIqCZAIUqFFkBc2NCE8i6ECUqAqYAl3KXBrAJdKD/CIAwCLwn44AJRSefPmva9eBjS5eGOiH6USnCXNKeDquAABVGgFw9fr0asEaEc1qDfAy4dUcBP9lnRJ3rteBcpYEoIA4b8FxEsvsZdAhwIUaJQf+MxHgyN0Adg+epBzh8pqnTflKBJowgmODGwvUDABAiOYNAagSBBJgRlwAslXaRqx64bIiQpArT85ccUJVR1T1+6cKMAAwEf9VuF6wSIAWCRtF/4epygZtMMQr6zVrlS/Mf7i5vOYdAyFdzTkAiEgv0Z7EsjGVVEBV+yFRkHmAHUQXXWgAgABSSpkkkWsxNULbQOYB4dg/Nxmo4IJdWVhAXmWppxBcC2kYE3ohCXTRBk/xowAArAUG4kcAOPCVOgG0uF4/r3lkIUHWjDUDUurMeMZAio1VFVVy5DXkQMtsh1dVUq1gm2Tr2bfBBUAsMYUOHSkwZQAGKoBEGUK4xWUA8KE50AUbhDlmRwyciQZjAl3ZpUGbFSRXjf+0ORAC8t0mp0AlpJSSCDUKZE9ZKP4JaCNgIFEEFhAd1I8qhHEBWWBlWUNQWEtsCidqlmYEZKsxBQEEACH5BAUFAAEALPEAAgBUABIAAAj/AAMIHEiwoMGDCBMqDKBuTYBl/xYWXIbmTCOCcoqgkchxIZKDKgr2E4JgoApVC//9k2NCwEAHDvsdCQCkX8ebBj86KAgk4kAgARQAEbIhwAV1Cv85BHAhhw4VCMAInFkTp1WBH6silCOggByB/DoEEKJQnQMARQja2xZAjo4AMwYuu9rx49uEb2sQJAMggs+DaU0gLFoQy1+6CbPaRHghgNSB/QoEULXYYOPHBs/ofTEQ5cGLCx0mDkCh6AYdngeW/EqQQgAyCNVJblRkQ4QORZBOpVkZ4cyFMw4X/BhUcgAEZBbzAzC5oFgsWwEg6ABAQQSBF6zt1ppQtELYCctw/xkXcU2J440iWmPOr6Bg4gbXAJg/pV8/P9fjBqDaG7HVfkUBFYA9zEFEkFhTRAdADARtVABS/C2k3UKpdUTWeQJJxtpArmFWkCrzQTfQPwgA4FCECv2mUHA4QSeWQK6RcZgCAfjRn2oAJDdiBACUEcASNEnk40JTCLfQWy4MpBd38jFg5EAmAKDigAUA4IdjATDon0AqJdRPhW2VJGIAZ1Q3YQBJ3hXASAGQJxAXAEjQXgD/kOXXZF3ZkNaGWxpkjwAmCIHFEjNI1kFvKxjFBRkzAMBAasvVuNg/IgCwARZk6CAAAJgtwcBAXPSJkD00EiTADOMUpM4KzAkUwRp/RTFqI5fWCDaQAgkWNM5XqYq6FRZHHAGGKk+uBKSOBX1lD0EqybFEEWCw5et/dE57U0AAACH5BAUFAAEALPEAAgBUABIAAAj/AAMIHEiwoMGDCBMqDNBPTgA/Cw3+m/iP4LIjYPpF3KjQoUEHGgf+4+Jg4IU1C0UAWAlg4Ep+/1CKqMixZkGHCAqqKAgmQIEaRVYEQOAn5EEdHZIqdQDggkCZNG1KdShCoT2mXAT+0xHAhEKKUTsAOBKgEZYAG84IhCiVI1WjBntWILitAIBlCSkO9AOggLUAOQzaaOs2QNWEgbmKrIolakG9AnUAcCFQDpIATis7HjguYpmOARh0wFwDJcESAS4TnBEACFyRYP/1YwCAzECoC00rjADaZ84AAIqIdJqVIFfWB2P/6+lg4lPDmw0uE1KEuvXq2JcobHRElUBVg2tr//zH2zZBIQFeIFRuAgAQ5wFwE54f4F/gw/+IFzy+Xq8qu43oJV9C9kTEVk1oDDVQVdoRVEMAikmklxAAlNCPgNDlFhFvNkFUQEgPAlGQV0tEpxVFEQDAxYXOOdSBiQQ1EpGINmVVkkBnvTiQPQgAcKCE/5wBgAL2gBVAZxG8Rt96MhJkzVwPCjROj2uEdNkGIp0lR0gUzQDAYJCRNxl6ny253gUbALHEFDooEJoqRpGlwBJlAFGAAGpp5VSJIqlDpZEMnSHBQDbAuOQ/qBEEgAhFEfSPnQMhUJyeAfCplXYbsBidPRB5Z2ZCjXCxRBFY/EhQP6pMEQAX6hgE0V8EeQunCmSfSgVfrTUFBAAh+QQFBQABACzxAAIAVAARAAAI/wADCBxIsKDBgwgTKgxgb00AVQsLWluzxlpBOQHORNy4EMvBEgaLIBhootHCf2UuEKxQ5t+/AFMC5OBI86BHBwV1FBQSAIHODgEijHuJcE0BAAGECBEBoAAagTFn1pwq0KMNogcbFSjgMEA/kED6JVQB4AXBGAFU9JMDJICLpw+pcrSK1SBPswPXAHAgFmEFAGD6/iMDQEIAEQaX9JWrkG5CxB4JMgiAEWEJAJED/OMCAPEanSoGmswasStCjxE2BNigw09BnHAHquZSlyDnCss0L7sAgAtUmRFjLgydMDKCAgILgCGI3M/iACCRKFyiAIEIEQgUKP4tVWFlhcsTrv+Zsk2gHBMBCrgWiBQiQbM8E4LpAKD+6vAwgTPe3w9x9+YFoXdEcXtxMc44YDgAgHBRRVTeQqPRtMRqAykQgGkCAZVZQf0oAEAZmvXTzxkAKCBWgwsJpxBxNC1XAVFA+UYQThgS5EdTArnkEgIAYGRVRLEltB1NbYEkkE422AgAAvwgdGMB9uj4Tz9HYQQii/tR5YeF0pm3pCpE1RDADAQV8dBL/fA4RT8uBYDFkk1as1UNZsrxXJYFFQDSFEvUgNwFUXrVD5kR+FZDiRGmd+FAQDSlAxhk6HBUW5phgZNAQ+Jp0KUDCfDCMnXZEwNSAjlQI3Km9QMEcvU5apA6GD0eqOlBGB1xBBfuGfSPHxOScSdlDA0k4jJgFHGrrAEBACH5BAUFAAEALPEAAgBVABEAAAj/AAMIHEiwoMGDCBMqDMBvIcJGZQKoQ1jmn8OLCrkcFGHwiIKBJS6iIYgASD+CWALUwMjyoEYGBXMULHLQ2sWQOmDasCgw5cqWQAVq/IlQlUETAXTwPLghgI2Bqj6u4SkkgIqgQYc6XEFQTgAFSws2AiBg21IgAWYIDFnwSFisCLUmDLlkYL9+DgKsoQjAQVgwAfISRLrQKFyhMSkW7BAg5cEzff/x/KcRwLieKh06Vkg4rsulCALICXuV5sFlAAA0kiw5R2o/J31eLCKEtu3auIFeFc2zQIBGBWMIPLkRQAl1ks8USL23cebDcP+F/EncK8HSxA36UdBXhQgBEZb7vsFMNOFl6AqJ5z1TkOOU7AQlN5rBAICCGF4B2COv2WHnlhIUtJlAEQQw0kGsFUQGABTwNBR8BzWnEBJvLVQVRwKhVUN2wAWwH4IJDhQDAEDwNFIJFaLH0hEncTjQU8INdER8rPEEhn2q8HSeWioqhIAIVTklUAUDSfZTSk8hMF5BBwYAxgZAYLHECwAEwEVYGsmYYo8FVWkQPzwO1KRAoTW5oJeBkbEllw4hYZpDYDR00EQC/bMMF0gsUVFYAQEAIfkEBQUAAQAs8QACAFQAEQAACP8AAwgcSLCgwYMIEyoM8K/hv4UFraFBs+3gGYgYFy45aOKhQHVLZmwoEMBGQ4jqapAMUMCGuoEbdWSceXCjg4IyB/oBEABAAQAmTyb8ZyJAhABCjq6AGSAnzacBYvZLuEwHmEZAgDpUCCaAg4r9lt0kIxBIgBhQoUod2m9q1qAeD/YrAQAJwSIBVAToYHBjWohrEW596zBuwX4/GxH0E0BBPzQ58kJU/FfgRgkDdVAeOBgoQ6EGFReYOpC0qqhNAUN0odBvwa6cT779bJggmsaG/ykIIAe1U4VCigQfLrz4QjRYxg0sGmBzZxu0awssAyBCP48Nb16MWblyP745CwfYmC3eIBoADAo33L3GN0RrEFWRznhkL3bZnssXlONT/T+SinGn0WpPcRHABqQ9RxtC/Py0DEGiCTRFADlIV9BFA9JklgoJOkTYVgh1AAAX800ogkBkLdVdWnIgENVD6n1oGF4PCoQEABvwIxA/FwAwYQA11sDZiggVUMJAQh6oY2YzxFBBdTHEENlAPMlBGj9PlkAGGCIAcAFBWDDAFJEH7UaQADHAR1AEPFGJHkFVJtjIBlR2cFpBygWQJ5kHYXFEfTUW5IcchBYqB2MF2UNQQ2cgscRtAwUEACH5BAUFAAEALPEAAgBVABEAAAj/AAMIHEiwoMGDCBMqXKjwn8N/BscF4NKPoUWFqg4WIPgPjI4OCAJEsMhvSYANG2M4JNgowIWLMA9m3EiwREWB/0YO1LlwGYAAAAoAUAlxYMuXMZMKzFih6MF+QpbIKSPSojodXBoVGfpQYCMwVQX6ual0IVOnB1eeCduw61aiRYEYfFHW4lmLa3kmfAjxLd8AfqawXYPQHkMyGAMoEOFyBpqEeRn+9ds1wFGGLRcqSBygwGagOhBGXlj5bYC/lxdKXIhEobUimZfpEAAAy8HRbVearpy6bt1/cpEWxL13ZYDdxnsn5MfQT1I5QG+zLV4UeVHlCDMr/AxTIgB1BokjnZzM1XgApgytMQwdkyoCtALFj39I2Wk/z2R9Jx3XIUAL6XoNxEUAhOFEX3lO/bMBACYIEQBi+iUkQgU6LIEFEAwEgIBzA2ERQwAlaChQDNoxJkRRwMUQw4IRqFgDWWsIR1eECLlQEAAbyJGfDQcBoKNAjBVB0IIEARCUQfY4lxGNCKnCxRJFTAGdQUsWJIdhXgWwDEtydOmlHGMFEBAAIfkEBQUAAQAs8QACAFQAEQAACP8AAwgcSLCgwYMIEypcmLBfozJrxhXsF2DKP4YYFV40CEAdQTIBSigIMJJhmRcIAAAIUGCFqoH8AjjISPPgxoId7BHcQLDkwhYyY+iIkTLCMoExZ9ZcKvCiUoT/igRYI4ckRiFc+v3bqsoBACD9VJ0JwGCgnJtMNcrMWNVnxq1RAXQIgMRgCYppFzpla7UmXCxyAzQC01cg3oJoERJOeLFAiQAVXoBE2HYp3BgAciBduzDmwgKHDSYWWCO02cJv/5EBUKDR5qcNFwqRyliIH4HbgBQIQLtgZb+NFACo+zqvcYF1YZ92i1FVBAA6CCZlONrg2ZrWBL70jZqh8wA1Ck6W78wQdM1+u29zZ65wGQUAM0xTVH7Q9MHSNasK8Lg+47ILALygFWIMFMDfcUvZY0IAIhz0W0GEnYHXOBsA4IJWoz3WYABg2IegQCtEQJdAMxWwBkGLqcDSaQIBFZ1AKrD2Qgw0CqTDRn7wJNBdH95nUAVooAUEQmRs5OJGHaxkkHL8uOZajwcts9hUUSJ0oHYDNVKVTQEBACH5BAUFAAEALPAAAgBVABEAAAj/AAMIHEiwoMGDCBMqXKhwnJwActQZVBUADMOLC88cjPCPIBYbHQoEKHERDAUAAwGY8NNvYJkAKlpinFlQo4KCMToOFDmQJEMhBUTMCDDjpoJGLmHKpMlUowmF/XRg8TNl5MVl9nQGGFchgA6BfpAE6DAQKVOMTjFW9Xn2iFWiBnVoPasw7cW1dAMIgQtx7waBZOTMHbiMocaEGh2QvWBDztKCeM+eUSBgTYB+/V7GXPhy4V/EAhEgECgAyWCBkS+WqUCBAYANZLRqfnywUREht3Pjxh0Ai8KwhQM0moHyMOS3F8mIBgCAAheCs/NKh7v5OFuM/9QtQQDAt8DoCiUuxDQ7k0wAB6dTX/zH/h8XABH4fVfKmeHnmWsAKEiPnGF79uowJx4aATy1kB8/naZQVRTwd51C/3XkB3MyNQLABQpOx5AqEXh1kHoDLREAggI18p9ANQDQgUz9MBBADAKhkaGGEXQAxBJT6DCaA9YQVIRAZDkwkD0DdficQIrdiIUQJxXQGWAdCiSXhgf1c99AJpAnkIEGidePkQOJYFAFZZymDoLBUXmQH1wgcQQWWpaFkE79ILjNQP+oAsYSRVTVD3sBBAQAIfkEBQUAAQAs8AACAFYAEQAACP8AAwgcSLCgwYMIEypcqPCfQ4cH1wSQyLCiQiAHZxBchmQGBQEBhFR86FBEAABr/hHEeMSiy4MYIxQs0m9gGQAERTIkiQQATjk1B2IsovKl0QBDgx6UAwSMKo06F0JshECEA5QQJ2rMMdDaUYtJK0J9WaJAo6spB8osSOZrxbAMx1pcAuBIP7RFA5R5EaCGQDDLEPphKOdigAsXAnQAoipvQbkMVSnYUBOvQIdDHcNkqEPzSoEKCoA+gxDyQhMFUv5DWzDzQjRCisSeLbt2GYVkuNgL0G9NhwAKvBo0nZALACD9HLL+TNStc3syWw4PyXCZggjqLlsWGqC5wsALVRnF1RGA7/SoCWcAmCKnvRwGAMDIGcfde0KMCzu/LBLAREbqC5Xg04ADCoTFQCLRtBAYDHFhVAx9/YceQkXEYOGFBQBgQgxrBDVFAFw5V5E94A2EhmhkKDUQcQGoIxI/RWmGV15yAIBADvw1ImJCjRSgghBYIBEDSCY45lcAMiWGVFGq4CRcACQpN5FmRSgwUFs7HqQKAgUVYEN2BHFp0AVMOjlQlKuhhJA1hYGZpUG9dRcAGE8SNJhBOgrET2EqRumHHPwMFBAAIfkEBQUAAQAs8QADAFUAEQAACP8AAywLwCWAwYMIEypcyFDOQgUI/3HJ0QFBgA39GCKUA6BjR4MMNgbo8E+jyZMJHVpEqCIixIMYUXJE0KFmTRUlDTrsgLLnyZ05F5acIgfMxYw/AZD8x5TpwUYFLxz047PqQaA9jcZMurRpUB0KayC12hMrSq1jNXLs2vTqkgAUrqY9OA5lGZMOGfC8UGONRrQyAeiNwHdN0AA7ZaKMMFdkgAIrAQhhCDgpAMgfJ18diXJZESGfQ4Me/VajqiOq+v1TlSMAADCNK5tshLqkKhuujerkTLa3wn9gSSqUzdDrwX85AIjYzPOkPZRUrfotsJC4UK9N0QBAkDPxz8WNZ7uxrn70JPamjR4jpdrcpCqUQML/DeCA/FaN55mCAeDAqTr6viXUj3wB/JMeQtZINcNhBln3DxaIIXXgQctUAIBYBv0TAQArTHZXgCb9s8EFQCwxhQ4QKTBhAKUt91IMAxW4QQBIHHTBBiWeCBEDK6IRl0EYglicCQkp5RBCMSwEwIEi0nhQCR55JMKRCdlD1XtC4tcIGEgUgYUfjWGZEj8ZUmUNQlAt4WWBDGZp1YBu9hYQACH5BAUFAAEALPEAAgBUABIAAAj/AAMIHEiwoMGDCBMqXLhwGZozjQjKKYKGocWFSA6qIDgOyYwLBQLo+Mfw3z85JgQMdLAmQL8jAYD0u0jTYEYHBYGQFCgHAMGRJVsCuJBDhwoEYATClFmzqcCMTBFG5KJKh8idCtU5AFCEoL1tAeRYnTFwmdOLGa1atAp0YVcTCDcYxIL1bEKoMxmyrYvwQoCkB8/UCPBioCqpDFveDUBB7gYdhxHuXaguZKMiGyJ0KKJu4NK8CWEunMGXYMYACkIGQEAG9M+rC3si6ABAQQSBF6wpjen6oGKFZBSW4TKO5JoSqxuVnqxwDYDnU/r183ObbIDPdrP3kwvkIPOEPQHE5yBYsUBn7Ap1L4xMU0gA5Aa/I1T1HAvBfwgAtEQfmiHpmvZ14B1sC+XX2kD/RABAGQEsERNDDC40RWkKWeXCgG0pZAIAoglkTwEA+PFXAONlJ5BJCfXDHk8IBGBffAQO1I97xQnEBQAS8HOiexGQpIoABdjQlRwmJmSPACYIgcUSM4TUgWtqUcCYQG3x45Mfef0jAgAbYEGGDgIAAFiDDAzERZEI2aNAQQLMME5BOBnkwE5WBoDlidbANZACUxg0DpFvoomQHFgccQQYqpQmYkF++IEVkfbcd9ISRYABlqBNzUQhpggFBAAh+QQFBQABACzxAAIAVAASAAAI/wADCBxIsKDBgwgTKly48J/DfwSXHQHTj6FFhXIOOqgo8B+XHB0QBOjAUaEIACgBDETJ79+aACIgXpxZMKNIgioI/rspkCRDHR2CCnUA4ILAlzFpKhWYUYRCiFPkgBlZMuFDmSMBHAnQCEuADWcE+ll6sWnVhFN9NnQ40A+AAtYC5DBog6zFphfTnj34cKAOAC6YIglglClWguMYlsEYgEEHwjVeItS79mo/BgDIDER6+KBkhREYByhwE0CRyVQrP5zqgG0AzguXCSkyuzbt20sUNjqiSqCqupn3Un569Z8JAEBcw7Zr999cpwaHW+2rqgCARn2XJ7THcCxNNAF4EseUjvBqACEASvTLDrOzwc8JQ9McW0B4atURAHBZzzZjB/cFNcIQEEpxEYADB5FXnkNnAKCAPeYlFsFezPElIEHWVBBADQneN9A/XsnB0UMzAFBXXwH8k58LQgSwWIXlXbABEEtMoYMCjalSUm4wBYBjADHElaJRS2D1jzoIALCGeQH0c4YEA9kAIIz/lFAQACL4UdULBwGg45ABFPlhbhvw5549Y/UGY0KNcLFEEVh4V5CaBMkhYlsBCDlQb6qguKZSrv05U0AAACH5BAUFAAEALPEAAgBUABEAAAj/AAMIHEiwoMGDCBMqXKjQ2po11grKCXCGocWFWA6WIGhvSY0LBQLUsPivzAWCFcr8+xdgSoAcF2MezOigoA6CjQAQHMlwTQGdQoSIAFAAjUCXMGUqFZjRBkuE1nRwaQRE5FOFKgC8IBgjgIp+cqq6MBpA1dKLTa8qrFpDLcIKAMD0E/iPDAAJAUQYXDL3LMYATi2ydasRQEa6XADoXXNTxcBGCCEvXKMwY4QNATbo8JNwMMPEFZYF+LfsAgAuR18ydLnQccLDCEIGKAAGoWeGSxQgECECgQK+qZMqnLiwdsI1U7YJlGNiNmeDt4t3AEA9s/GWqv1q76dXOMHorwE42eAybhwYBwBYI2WofKHkmEsyHwR/sJ8CAGVG9+t3BoCCuestxBpWStVWAWH0GeQHUXSt9A8CAEzUFENkKQRcTFVtBJ1VCy1YgD0O/tPPTxPl55p2Z/mhQABIzMdhQUWUxVI/EE7Rz0oBYAEAAvwEYE0BBdQQoxx9oXhQARtN4VFIF4A4UFUBnBSBQIEJFBJlAgFBlA5gkKHDT1D+g0VNAl1opEFkDiTAC8uoRcFB/z115UD9ABESdVsapM5E7Z150ERHHMGFWQa9R5AfV01kD539LANGEYL2GRAAIfkEBQUAAQAs8QACAFUAEQAACP8AAwgcSLCgwYMIEypcqLBRmQDqEJb5x7CiQi4HRRzcIHAGRYZoCCIA0o8glgA1LKo8iJFBwRwEVRX0qLJEAB0ubXwMcDLlyp8CMfpEOG6gkAAzKnK0MVCVggBrPh5VARSoUItHky5sBEDAtp1AkAq0WfDIzqoJr1bMyrAMAAdnwQRwUNAEQ5log75UyHbhmbf/Pv7DCKAoT5QMTy60m5blWaNiFy4DAKBR4MA5KPsp2bNiESGfQ4Me/ZNqADmPA/RdKAJACXWBzxSgvEZg57xo/9kcSnC1Qj8K3qoQISDCbD+2ES80jDthyYK+EQZuNIMBAAUx5AQAYC85b4SKFTKE/inhYPSDlwuSAUDho9DnCWsvRJKabwCNBs8bvHw2BgAgH4VUQn3NWXQEfJBpVRZB/H0ExnWqfGSYggUihIAIRwXAVAAVVPRdACEJBMYGQGCxxAsABMDFWRgNZFaFDKVo0AUHIbATAiAOtJ6Mc5FBIIwMIVEEUAhCNNA/y3CBxBITnRUQACH5BAUFAAEALPEAAgBUABEAAAj/AAMIHEiwoMGDCBMq5OenzBp7Cg1aQ4Nm28EzETNqXHLQxL+BYEwUAAAgQAEbFiOqq1FA4El1Aznq0EgzIUcHBWcK7HchQIQZOlyM3MBP4T8TPgMIiRBgRcwAOmtKfaqjX0IdZP5p/Sdn5BSFYAI4sNhvGU4yAoEEiDG1bQCZVjNutQFgRsJ+JQAgIVgkgIoAHQxydJsRrsatQACwRdhvZCOCfgIo6Icmh9+MjwkL5ChhoI7MB7d2AHAk4eMCcXcKVPUWauGMLhQOLhg29D8kABiMS4hG8seB/xQEkNM6qkIhRZArT848IhosuwUiDQCa4L81I9EmLAMgQr/fWnFi4pSpWXO/wMYHylGg13nurVuFryme0VpGVak1lu7wW73wvhHJAUAB8GnV0mPkRTRbQrFJxUUAG+TnBwMACNFfQvyMtAxBpwn0VQ4XXvSaVGqpkJofDgAAhFYajcZFal+JIBBaTpXnlhwIvPVbIykC8V2IAvW1oUC4ESUQPxcA8FUAQ9YAnI0IFVDCQE5CWJRASeYYw5YCCUFQSXLExU8FAJRABhgiANDTQFgw8BSUBwlHkAAx2DdQigcFNhCYcf3TyAZ7dsBaQdFFB+dBWBxR2pCQEWdQIyFCBNw/ZyCxRG8DBQQAIfkEBQUAAQAs8QACAFUAEQAACP8AAwgcSLCgwYMIEyr8pyoAGmsKDf6b+M/guABc+kXcuLGhwQIE19RQMBBACTkR+S0JsAFkjIkEGwW4wLFmwoYgCZbQGOCfjgAKWgSYwQCoH54HlwEIAKAAgJcVB8qkabMqwYYVoh5cskTdwHE0XyhUp4NLoyJPKQpsBCZAhIFHrdbEqpVjWwcJKVZECzUqEINi5XKkW3VNALwI9Qbgq9jPFLcDDR+0t5GMwoYKRMycgWbjXxVICypmrDbA1I0yI5K8KbDAagA/E65x2jkxzMVPe6o9HfFiRCQKrRVJvUyHAABYEG57G9s2TL66o/IWTL3nX6oFx20IsCK0xNvQS0/FT8hvox+rKJcWVNchgInyC8HnFj8T9cbVNi8C8DpQneYSlEU0Wlq3BYDVRhBF1FxNZQSAgFb2lBCACPxtpBdpWvXjmnfV5deeUALxo0IAHVRoEBcBSBbdPxgO9M8GAJggRACWdZiQCBXosAQWQBSFwHkC/QQAiAPFQJBmQkT1DxAxxABjBE3WgNQa2AVm40EuFATABnIgZeRB6gmkWREEwUgQAE0ZZM95Hl15kCpcLFHEFCgV1GZBda4VwDIxyeHnn3LEFRAAIfkEBQUAAQAs8QACAFQAEQAACP8AAwgcSLCgwYMIEyoUeObMsoUE+zUqs2ZcwX4BpvyDyFHhRoMA1A2UY8MBwQ5rFpZ5gQAAgAAFVqgayC+AyY44DX4s2MHewCIBEKgIUMMkgjU7DbawGUNHjJYRHgaoeTOn1QAbqx7kUsSiQHUiApTAiFAIl37/0qpyAABIP1VnAjAYmfRqwqxW0cDsmPZfEQAdAiAxONYuRLw5G+3l2BcL4ACNwARQEPFg3YOS78IsEaDCCzIQjwTocNly2hgAcgikCrHmwgJkLR+sEdugHwQBMh/+RwZAAcVTbUKsfVAI0LtC/AjcBqRAgOMG1W0IMIP43UYKAAxeLdywd8HdC9rC41zCZ0dVEQDoIMh6YemCct4jtCZwJnsTo0Wej0C0YHuFrikEW079OKccTUNt4BVHy1AAQHUXhZeQdQbRlpMcAQigXwD9xBDABdvgtMwFALyAVkH/MFDAht/lZA9+YQnUYQAUSIVZAGeQNc4GALiA1mWcxQgGhS0GsAJ/25lUQEoCCSEQfgUtuNR6Aqng2wsxZCmQDh/5MZ1AhRVZoUEVoLETlQfZF8CUH3XwkkFaTaUYcGIatIxuTHZEnJqNYGhZQAAAIfkEBQUAAQAs8AACAFUAEQAACP8AAwgcSLCgwYMIEyoM0K9RmTXjFhIcJyeAHHUGVQUAI7HjwjMHI/wbWOYFgoEFVmhUCIYCgIEATPjpRzKACpoecxYEqaBgjJECXQRwECNAjJMRlikUUkDEjAAzeipoVPOmzqsCQZpYygVnAFUOAgBRuMwe0ADjKgTQIdAPkgAdBlLF2lHr1SJwrx4JUELg04I6ztJNaFcnFrheOwqBKlDO4g0CycgRPFDpR4UgHcS9YENO4oNFc+g8o0DAGob9ytj8bFD1QsiEBSI4GUAAEsoEyQAo4EdimQoUGADYQOasaqsKGxURsrw5c+YBDid0a7nRjJcgDzbqeVsimdkAAFDy4ELwOOvBOp8iJ6gqwlrcCf+pW4IAgPQA5hdiXDg3J5mhlLUXQA3wIfTPgf9wAUAE/AiUn0KuKQRbTmsAoIBgy1AA1XkGIihfePuhEcBWC/W2kBAFIjRFABScZc0FAbzA4UEejuRHeDg1AsAFKaK3kIBsCTQOZC7MuEQAJgbQiIcC1QBABzj1w4BRAqHRI3oRdADEElPocJID1gykQgAFvACYV+6RJ5BmW2IhhEsFRBgAGe4JFJiPCPUz4UAm9JfXQQ4A1U+aA4lgUAVl4KZOb5bhiZAfXCBxBBZ+ClTpQH4I2ts2A/2jChhLFLFiPwcGEBAAIfkEBQUAAQAs8AACAFYAEQAACP8AAwgcSLCgwYMIEyoMYE+OwH4LCf6bOPHgmgAXI2pUCOTgDIJTShQYiACIuoUUJ4oIAGDNP4Idj2ycebBjhIJFIAp0EIBCjQAqAADViTAlEgBC5RAN0LHIS5pQmQbImdDGmacByowkg9VgxUYIRDhoWRHjxxwDrUXd2HTpwn4mmLo9KLLRWJcDbxYks1ZjW5o/dXQ9uATAkX53sZZ5EeBnADDLEPqJ6DBhxwsXAnQAompwQX43wcwlqErBBoiJBU5s6rlgx4WCLQtUMDKAgjMcA0jgt9BEAZf/7rqe2pogGiFFkCtPzryMQjJc7AXot6aDbbUHwQD4vZALACD9Jgryh0m8r3l7N2Ua1FqAy8JlCiKcDBCcLHmn7yOqgqojAOOCaIyERUQzADCFHAjKwQAAYMgxzkCsLfSaQrHNVEQAcRG0BgIBTFEcQSUgJaKIAg0okBBTjUYQGBG5R1MMjREkB4dIfEhQETHkqGMBAJgQwxo6TREAWuZpZE9kxm2lkxwKBKDeQeqgyM9TgyWGlRwAIJDDhY0UmVAjBaggBBZIxCAAhk/106QDMBK0xECqCIUdfSkFh9FgRTQpEF9eHqQKhwQVYMN8Ap150H8BxBnAnHXWl5FB1jhEaJ8FUTfVY3MOVJlB+wnEj0NL1emHHLwJFBAAIfkEBQUAAQAs8QACAFUAEgAACP8AAwgcSLCgwYMIEyr810jgNoUQCy4LwCWiRYhyDioguGbGRoEAVPjBCKBkSYEMCGbs8O+iS4MZERRUQbBGAAUvAngMwKBhQjkAEHQYOlRFS4ErXyoduPLoQSRT7A20FiGAzZ8AWP7bunVgo4oXBo5carGpy39YAlBQCFQrV6c6DNboRzaiWZdkAlTF6pYr0yVqmdI1OC5iGbY8OwS4UGMNxH9xYziFCYBBhwiM10xOijFihMEHMwYoIDMAACEK0RQA4BgrANInUTMNoBjisiJCcOvOzRtwQlVHVPX7pyqHaTCgCapycDq5wUbBW6qycXx27bp1IdOeLNDaBQAzHvvdFfgvBwAR1iNKhTjWpeMCBreFdeHc4Nu3aIIe5YwY4ueXDQFQ0DiKqcBPRPdx1VABg4103W8RAVGfQmAE4ABB6qBnwoEIJvgPGAA40JU6FmI3UD8TkufTVGHNcJQ96JWwnn1pyTHYigItUwEAc5EXAQAroHaYiQj9s8EFQCwxhQ4bKeDTPzYBkFNNAxkZABIDXbBBkktu1BNBaKwlUI9E2mdCQVmJJhBNB8FH3gZXDlSCSSaJoCZB9oykSplFNgIGEkVg4Ydzex40KHkjWUPQV0sEGkBXfC6FYqQvBQQAIfkEBQUAAQAs8QACAFQAEgAACP8AAwgcSLCgwYMIEyrk50cgP4UHl6E504ignCJoIGrciOSgCoJcTBQYWCCHOoj//skxIWCggzUB+h0JAKTfxpsIOzooCOTfQAoBIswI4GKkCJsJ/8EEcCGHDhUIwAicWROnVYIdqyLUQcanwDUjuShU5wBAEYL2tgWQoyPAUIHLruLs2Nbq0BpeD541gXCDQSx55SrMivRm2xoKLwSQevAM4hcDVSGsCBFmwo4U/G7QIRmi3yUJ1Y1sVGRDhA5FTk6lWRjhTIgzAhfsGEDByAAIyLQuWASAA3sJ5QBA0AGAgggCL1hbrTWhZYVkFJbhMs7nmhK4G8kWeGZkme0D1wD/GD+lXz8/yN9S3S34aj+/QA6uQRBgCkThAGIQzFjg5HqIy0HUGU5CBIBdQXLQhwR4BKkyHhYE/YMAADD9p9BrCsVmFYQdIKhAAEUwWNCEug30TwQAlBEAaPFBpCJEU4h4UFsuEOTHTj3dZAIAGAZgTwEANCSVfu2ZKGI/AwqUYAAQCnQjTQz2U2B1AnEBgAQPBfBPgRH4pIoABdhwlhxFKmSPACYIgcUSM4zUQWHIKUDkQCE6BEAAfiD1jwgAbIAFGToIAABjKzIwkFhlImTPhwQJMMM4BDFq0IEB8HNnngL9Yw1fAylgX0HjkAlposFhccQRYKgiW0MHaTcQmcAZECnHEkWAoRapctkkI64GBQQAIfkEBQUAAQAs8QACAFQAEgAACP8AAwgcSLCgwYMIEyr81ygAmnEKD/6b+I/gsiNg+kXcuFHOQQcaBaKZoWCgABUNFYoAwBLAQJb8/q0JIKIix5sHPSIoqILgjAAMXgSYsdOBKoU6Oihd6gDABYEza+KcStCjCIVHpvAbuCxCABsLKQ7sAOBIgEZYAmw4I9APVZxWQ95cEuBpQrFtARSwFiCHQbBvOVqlSiYAhbA2A+gA4EKgHCR1B8pJTBBixDIKPTLoULfGzIhgfyKkSLEfAwCFodKkfPCzQq8JPQYosDMAgCIKzwgoIEduQdITwQRwMFG1VIXLhBRRzny5c7oJGx05GkAVWNS+B6pyEEAIYoomAADtKR4gKuvAVP/5vWpwWYWhEUlXLwCgkVjzEe1tdDsVTYDaBFnzVAzZGSSfEACU0M99q0XkWkKw4eRWAb5ts0EALRQoEUURAMDFgsV51MF5BaWkEBBUcTFcZZyZsBVHFJ0BgAL2yAdRBBqiJ5GJAlnzXg0DqdPiiwam1ZtAFM0AAFh4/dOhC95hpuNdF2wAxBJT6FASA6qE9JMAQhEEJJJPLZHYP+ogAMAa8gXQzxkSDGQDiVMG8E8JBQEggh9ymYAQgP+UeSZdG4B4nj1uUVcnQo1wsUQRWPBHEI8ESRqAW3wRdJQqeC2aHp2eJhQQACH5BAUFAAEALPEAAgBUABEAAAj/AAMIHEiwoMGDCBMq5OcnwBp7Cg1aW7PGWkE5Ac5E3MgRy8ESBMGoKDCwQA2LCv+VuUCwQpl//wJMCZCDo82EHh0U1EFwQ4AIMwK4ILkBYsI1BQAEECJEBIACaATOrHmzKkGPNmIiBAKm30A5CAIs8YpQBYAXBGMEUNFPDhChUQOosnoTq1aD/cgSrIk2YQUAXQX+IwNAQgARBsfS7Rgga1UhQhWWAOBRMBcAiNfwVDGwEULPEdco9BjB5wYdDSMiLqLwcoVlAf4tuwCAi1SaG2dG5IxTIAKSAQqAUbgEgIJtdw8uUYBAhAgEChTLxB0RY8ThR6dsEyjHRPDUBpEG/8CuEEwHAOgDbCA/dbH7gf0QU72oIMCRjVgAOOAybhwYBwDo1l5E20UE2k1LqGeQHAwsldxB/SgAQBmx5XWGcV4NqJBuCvF203AVJOeHTkA8eJAfTwkG0z8IAIARVhvFRZxeHL0FUmcRBAAEjQmhWIA9K/7TT1IYUejhe3T5UR8SOAagA48EsaZKTP20OEU/MAWQHwL8BGBNASaxJgeUSJYE0hRL1EDSBUAK5BMCahEEWUkODQTEUzqAQYYOSb0VGxY6CSRdmQYFOpAALyxzl6EFdaAXSaIJ1A8QJKGHp0HqYFQgoQdhdMQRXMxVEHgFHRgARkYFkNcyYBQB6qYBAQAh+QQFBQABACzxAAIAVQARAAAI/wADCBxIsKDBgwgTKuynUGGjMgHUISzzr6FFi1wOimg4Y5tFNAQRAGE4EEuAGhdTJszIoGAOgh0ExgjwQuCFlCUC6Ghpo6JAkyhVCiWYMahCfgaR+Dy4IYCNgaoUBFjjU0gAFUOzBiia8N/SgToCtEjYCICAbUuBBJghMGfBI1+1IuQqtMjVhGUAOPgKJoCDgiYsqpI7MCPBlymtIjyj16vAfxkBjPt50qLJhoFXHuQSl+AUgcsSLgMAoJFXrzlI+2EI9GIRIa9jw549FGsAOZ1vDySJUASAEuq8nilAeg1lo4Sz/suJfKCflkV4I/SjQK8KEQIiEPdz3OLk5AsLcpoXKP2g10YzGABQEENOAAD2uje8rDDzUAkJy5t3TJAMAAo+FaVfQcY1pJRQVm1kkA65GXTaVzEAAIRPIJXQIHgXHUHSYCddeARBD/oExnqq+PQdWxgqhIAIij0VQAUwIaRWQSAJBMYGQGCxxAsAbPWVYQLBlaJFPRYUAUJNDYRAADUG4F+RfpFx4ZAG2gWeRI8twwUSS1D0VUAAACH5BAUFAAEALPEAAgBUABEAAAj/AAMIHEiwoMGDCBMqVCcngJxxCg1aQ4Nm28EzETNqXHLQxL+BZSoIGAhAhJx+EdXVKCCwgA11Aznq0EgzIUcHBWfGLNBhRoAaDAIgaJjwn4kAEQIISboiZgCdNaM61YES4TJ1HwXa6xBgRtWDYAI4sNhvGU4yAoEEiCG1bQCZXzViCbAhYb8SAJAQLBJARQCuBTm6zQg3ql6F/QoAaETQTwAF/dDk6JuR8WCBHCUM1GE54RqcZRIyLhC3qqq3TwlndKFQcMGwBddUoOAAAAUwWQ+ieZw7wD8FDlFDVSikSPHjxpNHRIMFosCjAToLXIMAAQAAEZb0LlgGe7+s//7h+cQo8/LlflyHD/ynDgsDAEcSogHAILz93wHWCM9oLaOquBnF18F295EBAGQIyQFAAfeFxxJj5UXkWkKsRcUFXXE1mNhiCPGj2DIEjSbQFAHksJ1BGEkolVoqfHWfQNZcByJCHQDAxVckiiAQWk2Z55YcCLyVVSP2bYbdXgHMGAASAGzAj0D8XAAAiUkKVMN6PiJUQAkDXUnXkwJJsAEQS2AhxAYACACbQAA4VBU/FQBQAhlgiADABQS551SWBwFHkAAx9DeQXwVFgFtubZ4k0D+N1MVmB6cV5JxzfB6ExRHxKbmeNWAsUcQUaxRZkD0EhXcGEkvsNlBAAAAh+QQFBQABACzxAAIAVQARAAAI/wADCBxIsKDBgwgTKuTn5wyaZQoN/pv4z+C4AFz6Rdy4UdXBAgStdQA5MAKXign5LQmwAWSMiQQbBbjAsWZCjyQHltAosBGACi8C2KAJYIrCZQACACgA4CXKnjNtSi3oscJTg/Y8DvynI4CDqwXV6eDSqEhTij3BBIgw0A/PqR0DWJUKEYA9hBQrmnWKEojBoHA5VgUb0U8ABAnzBtir2I9RtgLXILwbkYxCjwpEzJyBJqKqEgGAvC2omDHaADJpRpQZUcFlgQVcK+1KusPaAAyE8EsMc3HTAIpTb7wYEYlCa0VYL9MhAAAW0g4GKshB+WDp36eFB94u8J9f1Qb7ncjZEMAEb5R7gffWvnCjYalylB5VAECy9d7ps0ddvVG2zYsAqJMYaCvdB5NpT1W1kTUb0WZTGYcRthVNz+FFEYID9RPbaNxJNY5tLShERnOsYRSAfepNhGF3GwBgghABWNZhQiJUoMMSWADBwGHvCeVADkcEcIQKsxGkmRAoeRdDDC1GsGQNb60BHmAzHuRCQQBsIMdbReQkkAJCjKZZEQS1SBAAS2FlmFZVHqQKF0sUMUV8WJVhFBJlVDeQTBDtKcefgMrhVgABAQAh+QQFBQABACzxAAIAVAARAAAI/wADCBxIsKDBgwgTKuwXAE0AVQoL9mtUZs04iQGm/IvIkeNGgwDUDewnAgFBB0silnmBAACAAAVWQBTIL4CDjjgTfizYwd7IABFcCOwgsIjCFjZj6IjRMsIymjZzSi248abORgWNIqiJUAiXfv/CqnIAAEg/VWcCMBgoZ+fUiFWn8isQAKvHsEUAEEVisATDtx6jSr1YQOTdf1j01gUTQAHBv1Q5MtYJs0SACi/IRFyGtAbOsP9iAMgB1apCrgoLQDbodmCN1QItw0SgA7bOf2QAFLBb03RC2wWFGNUpxI/AbUDoDidYIYCAAAhqXOz4r5ECAHxLA95OkK9vgv/WiMkI0AG4QVURAOgg2DtwxLZSrQmceVDdzckK0QfwzF7waY6qSdUPXcYlFEMAQmxGAQAzwMbQdweZR9BrUsnhnGEIWbbcQctcAMALYFHFQGHcbWePCQGM9xNBa9C1xkCMnfHXOBsA4AJYrQVgmYpgSFjiChEEkN1NBbwoEBAM2DDcC3QdOBBS6wmkgm4vxGClQDp85McGA/lVYkL8MYfGTlOYRFABQPj0ZABZDvWSQd/xg5VdXyK0DH5GFsTPGVgMhGFB9DVi4UH/BAQAIfkEBQUAAQAs8AACAFUAEQAACP8AAwgcSLCgwYMIEyoMYE9OmTXjFhIcJyeAHHUGVQUAI7HjwjMHI/wbKGdDAYIXyiwEQwHAQAAm/PQbqFLFTI84C4JUUDDGSIFlBGyIEaBGhAAFyCgUUkDEjAAzeCpoRDOAzZxYBYI0oXDcNoL9XgTo8PPgMntlx1UIoEOgHyRjB1LN2nEr1jUAFJTteCRACYFPC+rYSxeh3ZxKKxBeKASqQDmNNwgkI2dxgGUSQSYE6aBDgAs25NxE6OdCgCWWDSsQsCZAv341RyNUuVDyZoEIEAgUgITwNgoBHABwgFpimQoUGADYQKZs7IWNigiRTn369ABYFL7FHKDRDJeaB1r/0+3SgRDZCMnkBgCAAheCzwvLf3rVID8yR22kLvhP3RIEAGQHlFXoGYQRdFgp5cB+fghQgCoF8vfPhFwAEAE/A9aXEG0K2YYTXnopdJRSCk1oojrsHYhGAFwt5IdEQux30BQBUCAjT+EdZOKEAfjB3k2NAHCBjPIppMpRbQ1E2BIAIHDgaT3KtaNANQDQwU39MBAAUQGgQWRhEXQAxBJT6KCbA9YMZEIEOiDBhRAiuNTXQEe9J1BnY2IhREsFcBgAfgMNViRC/Xio5lwC6XASQcSV1U+dA4lgUAVlLKbOi9wNShoXSByBBaID9TMOGUscsQQa6PXz4lcC/aMKGEsUBkFjPzwGBAAh+QQFBQABACzwAAIAVgARAAAI/wADCBxIsKDBgwgTKgwwTqAcewsJ/ps48eCaABcjalQI5OAMglwiABgowISfhRQniggAYM0/gh2PbJx5sGOEgkX6DQRSQESNADMUBGCgSmFKJABGytG5M0CRlzSjBuiYM6EqfgSt3QTC9GDFRghEOGhZEePHHAOtSd1ItatGIQFUaCxRoNFYlwNvFiSzVmNbmh1tRFwC4Ei/u1ADlHkR4GcAMMsQnlwoh2OACxcCdACiKvHBMggKLFWoSsEGnYgFTqTquWZEHa1hClRQYPYZg3wDCN1wxu1BEwVc/rtbkPVCNEKKJF+uvHkZhWS4QOy3poNutQTB1BZYgUtskAC4TvwkLvtp3/P2bsoc2FUdEgQBuCRcpiCCOtWpm5pXGHlhUZo6BMBYQlMAQEE/380AwBRyNCgHAwCAIUdDAhln2UKw0VREACbwB4AAvg1UQlIkkigQFgPBVZVCYEQkH00xNKaQHAAU8J1TMeSoYwEAmBDDGkxNEQBa52lkT38DoVEbGSEK1E+MIkClDlz8QNUaYonRiEAOGzZSZEKNFKCCEFggEYMAHCamgAhALDEFEDcFN5AqI2EXQErjYdRaEUIJlNuXBqkCH0EF2HDfQB2MRNAFaBBEZwB24jlcSwhZU9mhgBpEnVOP2TnQP6qAgUQADLbGT2Vu4emHHFgJFBAAIfkEBQUAAQAs8QACAFUAEgAACP8AAwgcSLCgwYMIEyrk5yfAGmsKIxZcFoCLxIsR5RxUQFDVhgIDAUgAkxGASZMCGRDU2OEfxpcGNSIoqGIlgAsxAtSgEACAxYRyACDoQJSoCpcCWcJcOpAl0oPqKA78ZyMAhacxAbT8x5XrwEYWLwxsyPSiU5gNC/QDqrVr14E6DNZYWzZjgJYw1wRwoDDoVrdNl1htSrfgOIll+gZg0CHAhRp6FTbqAEAI1oJBGUd4vAarUrsRIxSOKbDAzJ5CDP4TG2FvkcuYTZpGmbrpXYnLigjRzXu3b8EJVR1R1e+fqhw9wYz+p6CAgAAKdIw22Gi4S1VVAZBMeruu939x8QryfMqvjNgXCQGPzwFAhO3GEe1JJPtSL8jgCABoPOjWLRqhSH2mWGjTRdRITwr9QxkXBQbQX1cHqiVQQ/AppIpEQDSYEEl8pReBdg0+yBUYADjglTp7eTdQPxo6eCBB1og1A2zjkVSAVP9gEYAcdL040DIVADDXeB+ukFpiKiL0zwYXALHEFDpwpICPM0SQwxFYFGFCT0BMtUEASAx0wQZOQskRAz4GgAZPAg2ZpGpbEqTVfgIBcd9AChxR2JJgDlTCSSeJQCdB9jR04Zv8NQIGEkVg4UeB9pQxRRFLlMFPQf80BNFXXCzRqIM0IioRi6LCFBAAIfkEBQUAAQAs8QACAFQAEgAACP8AAwgcSLCgwYMIEypUJyeAHHUKDy5Dc6YRQTlF0ETcyBHJQRUEyVAAQLBEQ4X//skxIWCggzUB+h0JAKQfx5sIPTooCOTfwCMFRMwIMINBAAR+UMIEcCGHDhUIwAicWROnVYIeqyJcBnGgug0Baix0AKAIQXvbHOogOnDZVZwe11pdEkCEQrMmEIItiMXn241ZbeI0+0LhhQBSD54RW1igKoQWI8JM6JEC2A06Hitco0CARoTqCgRoVGRDhA5FugagKjjhzIgz/B70GECB6KNkWgtcQyGA0QtkFMoBgKADAAURBF6wNpWm7oOTFQZPWIbLOJ9rShxtJDtAGQQISEb/6JtwDYDzU/r185N86Grnf+ML7AcWCOgpCgLQRTgcQAyCGhUAEWsRMReRZjgJEYB2CYEBgAPPDaTKeVgQ9E94MBGo0GsKxWZVhR0oxE9L1nRHUHi5DfRPBACUoR9NG7kY0RQmRrSWCwpNGIA6NQpkAgAcBmBPAQAkJdV/8gmUUkL9ICiQHAgEUGFCOQRwgV/9KHidQFwAIAE/SioYgU+qCFCADWadlORB9ghgghBYLDGDaB20FsEGQNAlxGEFTBcAPyT5Idg/IgCwARZk6CAAAInpZxSXayJkT34ECTDDOAP1UwJJBEVAhmyABiCoktbkNZACUxg0TkOYRsofFkccIAGGKjUuAwZdU8gRYUP2WKjSEkWAkZarV9nUI0LqRRoQACH5BAUFAAEALPEAAgBUABIAAAj/AAMIHEiwoMGDCBMq5OcnwBprCg/+m/iP4LIjYPpF3LhRzkEHGgU22lCAIAUyIRGKAMASwECW/P6tCSCiIsebBz0iKKiC4BoBF2IEqEEhAAAwCnV0WMrUAYALAmfWxEmVoEcRCu0tI/ivRgCoCSnaDNABwJEAjbAE2HBGYMOqN6+m5OixwFiDFAf6AVAAYg6DNuDGpVl1ZgR+YScO1AHAhUA5SL4OlHN34LiNZRR6ZNDha42ZChuVLTKXq9h//RgAIDNQamWDoBVG0CywwE6jRQyGdCDAwdnEYpE6UOyQ5uuCy4QUUc58ufMloY+oEqgq8Oq5cxkAsQecogkAQIi79BZMXuC/v1gP9itTVChCsQFUFQDQKO/4rBvf4kQT4DbCRvPpVxB8QgBQQj/2GRdRbAnNRlVDBZTG1QYBcNFdBABwgaBiHnVwHEGNbAREVRY6oNA/syH13kRnAKCAPfBdFoGE5UkUIkHWVDCUQhb2ZZ5acoRE0QwABJZXACg2JkQAmdX43gUbALHEFDooEAADqoT0QgQ5RFZECUYtaR5US4z1jzoIALAGfAH0c4YEA9nwYY3/gEkQACL4ISQQJRGkQGQD/UOmmdBtsOFr9jQ0nZMJNcLFEkVgIeBA6mR2BBJnIFZQQxARNJ0qRzJaFXE3kVpeQAAAIfkEBQUAAQAs8QACAFQAEQAACP8AAwgcSLCgwYMIEypUJ0egPYUGra1ZY61gwzMQM2rEcrAEwTIXBBAUseafwn8gCVYo88/klAA5NMpMyNFBQR0EpxToMEMggwAI5PRLuKYAgABChIgAUACNwJcxZ0olyNGGSYTL1BG0JyLAC4UqAHwdGCOAin5ygARw4TSAqqkzq16VySXABYUVAIAZGuAfGQASAnQtuIQvXIhypS4JYGKuwRIAOAr8xwVA1zU4VQxshJAzxDUKOUbYEGCDDj+fHQgg47hg5QrL+i67AKBuAKgZX0LUTFMgggICC4Ax2FAgAAp7IS5RgECECAQKCj+FmbG4wuFEp2wTKMdEgAKoCYL/HhgBSWuDYDoAWF8a+23qh+ML7Nc1qkF1XBQEKGLYIBYADnAxzjhgOACAbrhBtB1Ens20GGkJlQEAAv0R1I8CAJTRVz/9nAGAAkMlqJBuYE01XAXnEYRAAOEZ5AdTk7X0DwIANFRVRm0pJN1ManmU0DhHvXXQiwXYI+M//RjVkIa8yXeYH/ohoZBaERhWhFsm9UPjFP20FMB/CPATgDUFFFDDlUI5mVABHk2xRA3AXWCkQBWYtpgQELr3XQDjBQAEUzqAQYYORqnVFxY2CbSjmgYlOpAALywzlwsiERSBnnv22Q8QwK0H6H0NLcjoQQ0dcQQXQhZkzXBFTFEScQE8CzRfP8uAUcSpogYEACH5BAUFAAEALPEAAgBVABEAAAj/AAMIHEiwoMGDCBMqtDdQnUKDjcoEcHiwzL+HGDFyOSiCIJoABQh2yPhxIAIg/QhiCVAjo8uEGxkUzKEywIaBDkC6LBFAh0wbFwWubPmyKMGNRBFaG0eQn8AVCm/aGKhKQYA1QYUEUGG0awCkXiskbARAwLagAYAEmCGQZ8EjaL3CZGl0pduKABzEBRMgJ0ETGFXJHbiRIM2HcgIA4IvwTN5/Qf9tBMA0wFCMKx8CnmuQS1yBYgl/JrgMAIBGkCHnMO0n5WWMRYTEni27tlGuAeTETUzwyEMRAEqog3ymgOk1QukOlvuPZ9KCDHMKGT3Qj4K8KkQIiGDcT/LnCCsvq0+YEuHHkAghN5rBAICCGIkBMLSsXGFmhZuNSnholbfB1AWRAQAFQSFVXkLIPYQEdQlp1VFC6oTUSHoADhQDAEAE9VEJDI6X0REHIqTXQL4NlBpkAoHhnipBVcaWhwohIIJWAUwVQGgCXYBQYR4NBMYGQGCxxAsAfBUXjwHABSNGRRb0AnpHFYRAACUFIGCTfZHR4ZIKFoFQSmQItIRCFAXwzzJcILGERXEFBAAh+QQFBQABACzxAAIAVAARAAAI/wADCBxIsKDBgwgTKvzHkKFCg9bQoNl28MzDixiXHDTxb2BDhkUCAADS76G6GgUEFrChbqBGHRhjJtTooCBMjw39FAAQgGRHhP9MBIgQQAjRFS4D3JTJNKmOkkB/ikCwYiRUhGACOKDYb1lNMgKBBIjRtGyAl1cTIgGwpIbVhP1KAEBCMKSKAB0MajR7Ee3DRghE9HNLEu7ORgT9BFDQD02OAHf/8k0qYaAOxAZNFJATgHDagogLpIWq6qzSvhddKNxbMCvBKQCEMPScEM3inwL/KQjA+SVGIUWACw9O/CEaLOMGCg2AOYAqBRX4zX6LsAyACP1+Mqxp0fdkvv3yLvBVAWBNyX+0EaIBwOAjw91rTC9NaO2iqs8Pj+DtSAaACzkAyvECADbIUdpBcgBQgHv/pISYd6ul1hQXAWxQ0loAZKhhhgEgdRA/Oy1DUGgCTRFADrghZNFDrMUklgollRHDjDRGAEAFMdCFUAcAcHGViSIIBJaH35UlBwJnaVdQegKFJKJAa23Aj0D8XACAiQE8WYNHRSJUQAkDbVnhlLm5t2VhA/EkB1T8VABACWSAIQIAFxCEBQNJdXnQbgQJEEN9OH3EpEi8QfVPIxuk2cGBBCUXgKN6HoTFEfo9SRCDqshhKUH2XPrPGUgsYdtAAQEAIfkEBQUAAQAs8QACAFUAEQAACP8AAwgcSLCgwYMIEypcqPCfw38GxwXg0o+hRYWqDhZIKEdAgA4L+S0JsGFjDIcEGwW4cLHlwYwbCZaoaJAfy48LlwEIAKAAgJMQB6q86bJogIwVgi4UAqAGSaUH1eng0qjIz4cCG4EJEGGgH5pGFyKFilBOARdbN5Al+BCiVaBBgRh8Edbi2IX9NiBQxeVpwrYB3gL2M4XrwDUI7TEkgzGAAhErZ6A5aHVKv7RrBwIWjDXAUIYqFypoHKDAaJ46CvopALlfX5B/UQb+GQDw54USFyJRaK1I6GU6BADAMrCfiAJyBGKOjfJtbdm369b9J5fokQBCgi5H2Nl55+gJ+TG19FM0+c4A1hA4ILibJfmD3Wl/Xwma4emWEgGoC/Ae4f2Cm10l21EBVMCQNQyl5lIZASAA0TIGQTaaDcz9w5lS/ZgGlnRFjQNSCwltJ1BfiAnU1oWabQCACUIEwBiHCYlQgQ5LYAEEAw32V5BrOBEEWXYmAhFDDCpGMGQNYK1BFF0wIuRCQQBsIMeGBYkYAGRFEKQiQQD0ZJA95GXUJEJ8LVHEFMnh5llBKkEolBxwxinHVwEEBAAh+QQFBQABACzxAAIAVAARAAAI/wADCBxIsKDBgwgTKlyYsF+jMmvGFewXYMo/hhgVXjQIQB3CRggCRFhY5gUCAAACFFihaiC/AA4yyjy4sWAHezRFCBypsAXMGDpinIywTODLmDOTCryIlOGSgREoJhTCpd+/q6ocAADST9WZAAwGyqmpVCNMjCBFfI2a8eq/IgA6BEBisITUsmabJvxnooAcNCLvLnSLJW6ARmACKCAoeCBZhIn3qiwRoMILMgenBBDyb23jvVdjAMhh9OzClwsLfHZ8sIZgVQoq8OssUuZVMgAKNCqtF+FqgkKKaBTiR+A2IAUCCF+qAsAagZ7bNlIAgC5vvNgF0m3KJYCOgdExqr2KAOC7S9NmF46daU1gS34KFKwpHqC7Az9yGI4PUKPgUYaoKaTaTP0kV5xHCaWk0DIUADBDYxT1dtBvBLk2U34CeIRTQZSF9GBCy1wAwAtWFfQPAwUgmF1S9pgQgE4IhSdQYmdINc4GALhg1WMBUAYjGBRmt8JI1sVUwHM0rVWQT+YF0FwBL8QgpUA6bOTHBgPZtSJC/RVUARo8ghcYQUxu1IGCBfXGz267bYnQMpEFgKRCKhrUkkCN5EdTQAAAIfkEBQUAAQAs8AACAFUAEQAACP8AAwgcSLCgwYMIEypcqHCcnABy1BlUFQAMw4sLzxyM8A8hGQABXHRMCIYCSIEATPjpN7BMABUsMcosqFFBwRgjC25zIFCkQiEFRMwIMMOmgkYtX8acyVSjCYwzCsQImfPgMns5x1UIoEOgHyQBOgxEyhSj04tlAOgoQpXpkQAlBA4tqKNq2YRnF6qL4MAeW58zhRAVKEfwBoFk5NgVuIyhRrwBHIi9YEPO0oE2Arj8u1jhGQUC1gTo188lzIUuFx6GHAABAoECkFQ9A2BGR84My1SgwADABjI5TV8+2KiIEOPIjx8PgEXh18YBGs0A+TiAvQgKoONeSMY1AAAUuBDwFH63/MChp7kGEC9wO8N/6pYgANBcIHmFEheSlUkmckc5AnQgx0MBABGACXLsl9A/DP7DBQAR8GOfUqgxtJpMawCgQEf9JXTBQg0yqM53+aFxIEN+MCREZwlNEQAF/xl0mAMzAMFiACF25Md3MTUCwAU3mreQKhGohxBbL1S1RAApCtRIiALVAEAHMfXDQABTBYBGkOZF0AEQS0yhw2sOWJOQewEUyV5kXy6BhRAmFZAaYkUKVJeQCPVz4UAmKGiQe/2oOZAIBlVQxmLqpAgdngj5wQUSR2Dh50FmUjRQPyluM9A/qoCxRBEu9sNgAAEBACH5BAUFAAEALPAAAgBWABEAAAj/AAMIHEiwoMGDCBMqXKjwn0OHB9cEkMiwokIgB2ck1CEQycKHDkUEALDmH0GMRyyqPIgxQsEi/SICELgkZkKQSADMlGNTIMYiJlcKDfCzZ0J+FRyUCOCxoclGCEQ4IAlxosYcA60NtViUIUYwKphaLFGg0dSSA10WJLO1YleFawq8+Be26cIlAI70Oxs0QJkXAWoIBLMMoR+Gci4GuHAhQAcgqvoK7LdBgaoAdRmqUrAhJl+BDn9KZslQx+iTAhUUSH2moJAAUwRmXmiiQMl/ZwuKXohGSBHfwH8LL6OQDBd7Afqt6RBAgVaBcgqICDo7IRcAQPo5zI0aaNvv9lym40y+ocBh2WITLlMQQR3ozwN3Kyy88PJKjoAD4MU6UCRG+gbNAMAUchQoBwMAgCHHOPEF4J1iC5m2UhEBmOCTQvwZVIJOHHIoEBYDvQbTQmAwxIVQMQSW3IkFORDABjFwYdRARcRg440FAGBCDGvYFFuG3y1kD4ACobEaGTMOVF0A6rzGT1Cj8dWXHAAgkAOFjQSZUCMFqCAEFkjEIECFpymZnkCqzPRcACBtN9FoRSgwEFtaHqQKAgUVYIN7CS2ZZgBrtokbSQhZkxifdRqknIMBgLFmQpc9yk9iRrXphxz8DBQQACH5BAUFAAEALPEAAwBVABEAAAj/AAMsC8AlgMGDCBMqXMhQzkIFDAOgERCgRL+IAeQA2LjRIAOEDjv8w0iypEGHCBKqYGgvgsESJDUi6ECTpoqRJwN0MMkzYkicGP/pAFCj4kWfAET+W7r0YKOCFw766Uk1o06gEdcUmDHFKEaNSpkC1aGwxtGqJX+S5EdBwbKuFr8mFdv05JIAFA7KOYtwXMkyXwMw2HmhxhqF/4AAKAiXr0KNgyMUXoM1ZNqSERyDNFggZQAAQhLKKWDCYGO5ADp3DK1XZ8llRYTEni279t2Iqo6o6vdPVY7PYI7221CgkWmvERvpHqnKBvDWO9FKRyj0aoB/QgAgOXiaodiD/3IA1BABvaS9klOpHi5gUFUBlweLuE6PmO5SNAAQ4LQcE7NmjMYBYNBhETngnX3/GFfAUVNFh5EqJQHxX0RgBGBgggrtZKAOWIGHIBgAONCUOhZOh1A/E15nHELWRDVDh9whdx0WGR214kHLVEDUUf9EAMAKoQFmYkT/bHABEEtMoQNECtyoUHfXbRDAdgZdsAGSSkLEgJNo5GWQWUN6VxpCSTkUEZRFTnlQCRxxJIKZCdkzFYRhetcIGEgUgYUfKRrkl5P/TGUNQk8toed1MNbJE4qKVhUQACH5BAUFAAEALPEAAgBUABIAAAj/AAMIHEiwoMGDCBMqXLhwGZozjQjKKYKGocWFSA6qSCgEQAAh/xT++yfHhICBDtYE6HckAJB+F2MazOigIJCQBuUUEAhSpEoAF3LoUIEAjMCWL2UqFZgx6cJ+HRRs7JlQnQMARQja2xZAjo4AMwYuW3ox41eGRQBgCUsVYVYTCDcYxIKTrMKmMBU2QiDiH9u6By8EMHrwTI0ALwaqQhhxocqEGSnI3aBjsUERBfyA/Qi4oLqdjYpsiNChiLqBSPMmbLlwRmeCGQMo2BkAARnVAZBgFfg3oRwACDoAUBBB4AVrR13iPvhYIRmFZbiMC7mmRO1GOPdeyNsb4RoA4Kf0/+vnp3jYAKntqu8nF8jAEgWadz/4G0AMghULnE6vEPlCyzEJEYB1AXBhH0ErBPAVgAWpAh4WBP2DAAAq8bcaQ67JBGEHAmWV0H0ITXjbQP9EAEAZASzhEkMoLjTFawp95YJAzxVUnGAqImQCAKwJZE8BAGhmFIjqBTBSQv0w2BUCAUCI0Hz9CDidQAZKwI9A/wgYQUiqCFCADVnJUWRC9ghgghBYLDHDTh0sR9B8/HjkR17/iADABliQoYMAABCWIgMDcTEmQvYoUJAAM4yjEJxy0mkNXAMpMIVB44ip6KAIyYHFEUeAoQqMBC3m30Bi2hMhSUsUAQZXmCoFE6itHgIUEAAh+QQFBQABACzxAAIAVAASAAAI/wADCBxIsKDBgwgTKly48J/DfwSXHQHTj6FFhXIOOqh4sIxAEwtFABgJYOBIfv/WBBAB8aLLghkRFFSBUF2Ejwt1dNjJ0wGACwJVsnxJVGBGERb/6QAwIwBIhQ9bBugA4EiARlgCbDgj0E/Ri0c5KlwjoMYSpw0dDvQDoIC1ADkM2vhq8ShDfhQYbDv7NOHDgUtdGEUSAKhRqQTHMfSYMCODDoVrqDS4lEsAvlCj/uvHAACZgUIRH5ys8GZjgQVkBgBQBGYBmpfR+tUMJoADtQFCL1wmpEjv376Dn03Y6IgqgarmeuaIF4GqiphnRzUBAAhu3XTp/ouLVCAQAMNj99g9GDWAqgIAGv3FntAeQ68v0QRQ3ahABYJCVgaAb7C8EAAl9LPeSqIZRFpCprnkVQEVHWhQBGIVFFUEAHAhoFoZdVBgQY0wBARRljnQlUGQiaiDdGcAoIA95SkGYXZJdUiQNffVkFB0Av2TlRwcPTQDAHP9FcA/FLqQH2MwknfBBkAsMYUOCgTAwHMI4TgkUEtI9Y86CACwRnkB9HOGBAPZsGGS/5RQEAAi+BFhQVb+g6WWZ21wYYH2eHVcksRxsUQRWPCX0DbmRejVWwQdp4qQfBKFW6MuBQQAIfkEBQUAAQAs8QACAFQAEQAACP8AAwgcSLCgwYMIEypcqNDamjXWCsoJcIahxYVYDpZIiESgjoX/ylwgWKHMv38BpgTIcbHlwYwOCn482AiBx4VrCgAIIESICAAF0AhUydKlUYEZbaBkWAKBiwAzE6oA8IJgjAAq+skBEsCF0ACqjl5MulThEgBIWEZFWAEAmH4C/5EBICGACINL4IrFGEDpQlUKNvRTu7AEgIxxuQC4u+ajioGNEEbGqTBjhA0BNujwc9BEgYmEFSqusCzAv2UXAHAZupKhyoWPEyJGUEBgATAFFXNtvRbhEgUIRIhAoCAv66IKJy7EnXDNlG0C5ZgIUICzQMAR+KEMrRBMBwDgMzP1T9l6r/l+d5GvCPCVN0YADriMGwfGAYDXRBlCXzi55ZLMAs213kAzBFADWHoV1I8CAJRhWj/9nAGAAnDlt9BrCsXWEm4VoPSfVAj5AVRcJ/2DAAATJcVQewkZ1xJXGwXgYEF1URDAESECZU+J//Sj00QOamjeUX4oEEBHCHEnUBFgodTPiVP0c1IAWACAAD8BWFNAATUwKUeCQxpUwEZTLFFDbRfsmCRUBdW2xkBAAKUDGGTooNNu/2ARk0AuhmnQngMJ8MIyZRmkJHUBvClQP0DUBp6cBqkz0X5+HjTREUdwEdZfARBK0ET2DAThMmAUkSmlAQEAIfkEBQUAAQAs8QACAFUAEQAACP8AAwgcSLCgwYMIEypcqLBRmQDqEJb5x7CiQi4HRSRcMrDfQjQEEQDxOBBLgBoWUx7EyKBgjookF5YIoKOlDYoCTaJUyVMgxp0MTRR4ITDmwQ0BbAxUpSDAGpxCAqjo2fNnxSkBjugomrARAAHbcAYAEmCGwJkFj4ilmtBqyq0BjBYsA8DBWjABHBQ0wVAV24EYCb48OHUNTa4Iz9T9h/MfRgDjcp5kaHIh37Yr13Y8HDfhMgAAGjFmnAO0H486KxYRsro169c8pwaQg3NZS3sC4cotKAJACXWMzxQAbThA6r9s/80ESvRhbsQI/Sioq0KEgAjD/UgGmjAycoUeH8qhJmg2IeNGMxgAUBBDTgAAuI1PXlhZ4WWeEgRiTWhCs8DRBZEBAAU4/bRbQcUphIR/CkWlUQBnGETBQEUgNNpaMQAABE4glcDgdxYdcSBnRh1B0IU4gbGeKjh5Vx6ICSEgQlRJCVSBQroZBJJAYGwABBZLvABAAFysFZhAasHI0JAL5TgQAgHsGICATOZFxodKMoREhd9F9N8yXCCxxERrBQQAIfkEBQUAAQAs8QACAFQAEQAACP8AAwgcSLCgwYMIEypcqNAaGjTbDp5hSHHhkoMm/g2UA6BjR4EONCpUV6OAwAI21A28qKOiy4MXHRRsKbDfGgAIOujUqUIkwn8mAkQIIGToipUBaL5cGoBlv4QcRfT7R7WqQjABHETst0wmGYFAAsRgytQpVABSq1pF2K8EACQEiwRQEaCDwYtkGZo9aBOt2rV8CwBoRNBPAAX90OSYy5BwXoEXJQzU4XgjAAYdIlyosYZqQsIFng4UrappUr0MXSjEWxCr5QAFEHyUmxDNYZ8B/ikIIMe0UoVCigQfLrz4QjRYxg0MGsBxv0ZHVGlUZSMAADKiDZYBEGGqQKoyJ7LtfPy4n12lgP/lQFv78l/dAdb4ZmiNoarsFI/U1fieKhqcnhnEUQHvmUTYeBalthQXAWzwVH//GBYaQvwItgxBoAk0RQA54CYRai+FpcKD/XEBQEgJdQAAF9ltKIJAXx1FHllyINCUSJUJZE0FANQQVwAXCoQEABvwIxA/FwCwIZAC+fjdjAgVUMJAThY5UAUbALHEFDrsxsB9AwHAm2j88FgCGWCIAMAFBGHBAFJQHrQbQQLEUN9AanrUkQiGESSmHKL908gGYXZQWkHKBZBonAdhcYR+QRbUCBdLFIGFHwEWZA9BVJ2BxBK2DRQQACH5BAUFAAEALPEAAgBVABEAAAj/AAMIHEiwoMGDCBMqXKjwn8N/BscF4NKPoUWFqg4WIPiPgUEAchTyWxJgw8YYDgk2CnDhosuDGTcSLFExgEMGAAp2WJlwWU4ABQCghDhwZcuXSAVmrED0YEcATS2q08GlURGhDwU2AhMgwkA/NZMuXBq14NOyDbNeHUoUiMEXYi2SRXgzp8uHENfiDeBnSteBaxDaY0gGYwAFIljOQGMWp4kAFFZwWbhXb9YARhnyVKjAcIACnQMA0MHR4+GBJvglvLzWZtbMCyUuRKLQWhGey3QIAIBFoMMiciqqO4IgQA60vtUKdU0Udty4/9weRci1wGCnKQO0vuw8oeqFfpCGxbRLFwGANWE5Zt+evTvCzQlDu5QIQN3qCADKpB9YGWv2AEsxZA1DpL1URgAIICfQNqKFR9dDljXVD2j7PTdfBwG0MJAq6fUzw18DTRZYcr/519Q/GwBgghABFGZhQiJUoMMSWADhEQIOBqCDAzkggYUQFAQgABlNJSYEUdHFEEOKEShZQ1hrTAfXiwi5UBAAGwQ3EIsFRQBGVIkVQVCKBAEAlEH2hJcRlQipwsUSRUwRkkHbuLgEegattIxKcvTppxxgBRAQACH5BAUFAAEALPEAAgBUABEAAAj/AAMIHEiwoMGDCBMqXJiwX6Mya8YV7Bdgyj+GGBVeNAhAHUEKB8soLPMCAQAAAQqsUDWQXwAHGWMe3Fiwg72PATYUXKOwxcsYOmKYjLBMoEuYMpMKvIg0IciiMYVw6fevqioHAID0U3UmAIOBcmgq1fhy4dOxAar+KwKgQwAkBktQREu2KcKzY9ViaRugEZgACgjOLSgW4d+EFwuUCFDhBRmDIBcHMIFlMEO1MQDkMFp2ocuFBSwTPljDMkgBBDt4xFiVDIACjTjbRSjaoJAiGoX4EbgNSIEAuAciWXPR3pTAMTL+a6QAAFzZdKPDnV0QTQAAUBeqigBAB8GjlxmGvZVpTSDLhDDBFDa4PUCNguA9Mwwts9/v3Ql1clm4jAKAGaJRRJ1BtRlUmkxyBCDAagfxg0AAXSW0zAUAvEAVYQwUwGB0MtljQgAifFeQdwoM9tcZc42zAQAuULXeYiEGAEaBHAawQgRvCQRTATwJJAQDNhwhkE4AYEGQT94JpMJrL8TgpEA6bOSHTgLJVSNpBlWABk1LGOTAVEcGEKVAHaDkJXyxxXblQcscFkCPBUkUwBFIWIfQeX0lOFNAAAAh+QQFBQABACzwAAIAVQASAAAI/wADCBxIsKDBgwgTKlyocJycAHLUGVQVAAzDiwvPHIzwbyA/AAftKQRDAaRAACb89BtYJoCKlRhjFtSooGCMjgI/FuhQkJ9CIQVEzAgwo6aCRixdwpTJVKMJhR8d4MS4zN7UcRUC6BDoB0kAngKRMsXoFCoAqWMLHglQQuDQgjqmpk1YNmFUuWmFEBUoR+8GgWTk4BW4jKFGugEc8LxgQ87SAB8RiAhQIQaZwRkVCFgToF+/li8Xtlz4F3EABAgECkAy9WOAAgRrYC5YpgIFBgA2XE4aWmGjIkKACw8ePAAWhV0LB2g0A+ThzkL8CLQGBPbahWRQAwBAgQtB0I/njvkd2vvgWrQM/6lbggDAcYHgF0pcKDYmmcSzAywDqVzhv///cAFABD4FEJ9CoylUWkxrAKBAfv3A1kh+AQD4nzrbzYdGAE8tJN1CQlBo0BQBUJCfHAAUMB9CFnbkx3YwNQLABSKKl5AqEWg10IQE2dOWCFMtEcCHy1koUA0AdABTPwwEEINAaNSYVgQdALHEFDqk5oA1A6kQgQ5CAuHAa5wNlKN3AilmJRZClFRAggGQkaNAcdmIUD8LDmRCfQHUYNAFa0zVz5kDTVZQBWUMpo50/dl5kB9cIHEEFnwOpIpFRUzxUEH9SLfNQP9cukSmnf3n6KkLeeZoQAAAIfkEBQUAAQAs8AACAFYAEgAACP8AAwgcSLCgwYMIEypcqPCfQ4cH1wSQyLCiQiAHZxAEc3BDv4YP/4kIAGDNP4IYj1hceRBjhIJFPgrkqKBgDZkIQyIBACCAHJwBMBY5ybJo0AAxE3J8URRiIwQiHJSEOFFjjoHWjFoUCrTgUq0BShRoJNXkwJcFyYBlyFVpAKZGlwA40q8s0QBlmNaYuQyhH4ZyLga4cCFAByCq7gbgGGFDgA02AjNUpcBjALsCHQpV3JKhDs4oBSooIPrMRoEIEAgsMKWrQRMFTP4rW3DzQjRCiuTerbt3GYVkuNgL0G9NhwAKsgqUs6RvAD8vAAigiJALACD9HNIOPXQtWHsvVSbxVBEgRsJlCiKoy4x5oG2FzhWqKqrjrUIuASKAFjgDwBQ5AMrBAABgyDGOe0jtF9pCn7FURAAmKHQGAA4oWAJPGGIoEBYDCYGUa14xhB9L5u2VkEodgIhUDCy2WAAAJsSwhkxTBHCVdwzZE59AaJBGhopkBSCETOp4yA9RnNl1lxwAIJDDg43giFAjBaggBBZIxCAAhHcxIAIQUyyRA2kRHCiQKj0pF0BI2k3EWRE1CaSWlAapohpBBdiw3kAUGKTCfAOhGYCabM5WEkLWBLYnnQUVh9RiahLkBxdIBMBFI5zxExhQbPohBz+MhpoQVTgGBAAh+QQFBQABACzxAAMAVQARAAAI/wADLAvAJYDBgwgTKlzIUM5CBQj/IVAIoBFDg3IAaNRokAFChx3+XRxJMqHDiQhVREQAIGGHgRczIuhAk6YKkRgDdCjJkyRInAslFuh5MGPIf0iRHmxU8MJBP0SjBvh5USKCflGNJk16UIfCGlil8qTKUKhUrVuBylkSgELRsAnHlSwz0iGDnRdqrEkoVESACi7AlMx4N0LeNUCn6hxcMgJchQ4DFEAJQEjEoQUgBgDgwqfGyRwtF11MclkRIadTo17N9qKqI6r6/VOVYzOYsP+ERB5XpAAAICMbwRapyobt0TvFKo/oNeRFLAGuluVq8F8OAH5zJh9pryTUqHuHXtbk5zuywrRJ0QBAgBMkY5KOo1psWZUBgL1B0f+zWCAs1O2ulQTEYyUJ5sBIqmyWYH7ogQGAA0qpE8CByx3UD4ERWYSQNU7NkBhC/HR2AU7/QCdHWBoetEwFAIBVXQQArGAZXRVWtcEFQCwxhQ4QKZDiDBHkgAQWQkQgGY0B/LNBAEgcdMEGOe4IEQMpBoCGWwa5WGNQJiQEQAfmBeBVQhGUAZeSTB5UwkYbiRDmQfZAteCWQTUCBhJFYOEHhtaAwdYS+EUElTUIMbVEnkl+SCdRFy4qVUAAACH5BAUFAAEALPEAAgBUABIAAAj/AAMIHEiwoMGDCBMqXLhwGZozjQjKKYKGocWFSA6qIIgGgMEI/RT++yfHhICBDtYE6HckAJCQF2MWzOigIJB/AzsqKPgCZ8J/KgFcyKFDBQIwAlu+lMlUYMalCDuWYKrOAYAiBO1tCyBHR4AZA5c1vZjRa0KpPi9iNYFwg0EsaccmfArzoFSmFwIgPXimRoAXA1UhjLhQ5dwAFNxu0CGYIwAHHQJcqCGn7kF1BQI0KrIhQoci6gYqtXyw5cIZcWcKVJA5AAIydTsKRCA6tUQACDoAUBBB4AVrSV2SNmhYIRmFZbiMw7lmKoJGPv0gadyohscyCdcA2D6lXz8/vcEG/xgtt3w/t0AUgjVhW6Cc7TE4BigQmrxC4AsbxxQSYGpCMgAw0F4AqmyHBUH/IACASvYlZJp6AyJ0YGQJvYdAhArCNtA/EQCA3RIuMYTdQlNEeJBXLih0YAQRmgDAgwHYUwAAfugVQHzlCTRSQv3o5x5tByK0TG86wNQPf8sJxAUAEvCjI38sEihAATZgJUeOCdkjgAlCYLHEDJl1UJdnQCwxhQ60OSCWQPx45AdM/4gAwAZYkKGDAADsFcASDAzEBZYI2bMTQQLMMA5BFBJUgh9ptRnAmzpaw9ZACkxh0DhXHgooQnJgccQRYKhiWyNcIHEEFjUadKU9CJK0RBFgbAq1KVMhmThrQQEBACH5BAUFAAEALPEAAgBUABIAAAj/AAMIHEiwoMGDCBMqXLjwn8N/BJcdAdOPoUWFcg46qCjwXwGDAFQpFAGgJICBJfn9WxNABMSLMAtmRFBQBUGPAgp2sKZQR4efQB0AuCCQpcuYSAVmFKHQI82YD18G6ADgSIBGWAJsOCPQT9KLSzkedIr04UA/AArwzGHQxleLS5sWeArTrEAdAFwoRRKAqFKpBMcxLIMxAIMOfWuwvFmgQIkAFVyQaRj1Xz8GACYXbQn44GKFEQoHmCsQQBHGAhUMjCHWYOV/YAI4cLj5qMJlQork3q279xKFjY6IDKDKbWaO/4RkDDBOyEchrW9WNgEACO0ARju/hcqWacIpARRE5h8YlXgBAI3MZl9oj6HXmGgC0D1oTwCA967NCgFQop96zgt9llBoMXlVwHjkKQCAgAVFFQEAXPhHW0YdaFdQIwwBgRQXsgEXAAA8IfTQGQAoYE95gkWA4HauYUiQNRUEUENC/Kyg1Uv/ZCUHcg7NAIBbdv3zoAtCBEAYiyJesAEQS0yhg2oMqMLRDBHogAQWQoRWAFcdEbWEVP+og8CC5QXQzxkSDGSDhUj+8xhBAIjgh1g6GCTBkV0G8CV5v20goXb2eDUckgg1wsUSRWCBX0RgILoEg10FEOJAIqliF6FlsYlpQgEBACH5BAUFAAEALPEAAgBUABEAAAj/AAMIHEiwoMGDCBMqXKjQ2po11grKCXCGocWFWA6WICgHgEEF/xT+K3OBYIUy/0JOCZDjosuDGR0U1MERAIKCKvopXFPAoxAhIgAUQCNwZcuXSAVmtBESYccOSFUAeEEwRoCccoAEcEE0gKqkF5c2PfgUaQUAYHQG+EcGgIQAIgwuUQtWodiEZV+WAJBR4D8uAOKuoaliYCOEhxeusRsgwoYAG3T4kQiAAdQLNdaMRQi4wrK1yy4A4FKUJcOVCwsn7IuggMACYGoKvClQyOaDSxQgECECgYK5pY8qnLgwdsI1U7YJlGMiQIHJAlUdUaVTlQ2PYG4XBNMBgHfIxgMY+a1LPkC/uMIP0uygfSAWAA64jBsHxgEA1OMXKl+Y2OUSyDsJ1Z55CgBQxlr99HMGAArolJ9CqCmkmkuxVTBgAI14NKAfQvmV0j8IADDRUgx1pRBwLmm1UUKxObChUPZ8+E8/PU104ITlIeWHAgEgkZA1Jc1AUBFehdRPiFP0k1IA7yHATwDWFFBADUTKQVeOBRWw0RRL1ODaBTEKtMEFQCwxhQ48KtCfcwEsJhAQQukABhk69KTVWljIJBCKWBak50ACvLDMWCsS1AFxA7nmpnlAuOZdnAapM9F+fRo00RFHcPGVQY2QxqQfVy4XgD0DJbgMGEVkSmlAAAAh+QQFBQABACzxAAIAVQARAAAI/wADCBxIsKDBgwgTKlyosFGZAOoQlvnHsKJCLgdFEPRzEAFDNAQRAOlHEEuAGhZTHsTIoGCOjQdNUGRYIoCOljZmBjCJUqVPgRh7IuS4wWdRGwNVKQiwZqaQACp+/gyqkKjKRgAEbNMJJMAMgTULHtEpNSHVhFZTlgHggCyYAA4KmmCoquxAjARfFuS4VOBXkgnPsP038x9GAOME8mRocuFcsyt1cjTYNeEyAAAaESacA7MfkosZFhEyujTp0z6jBpAzc1kRzQL14kUoAkAJdYTPFMC8RvFJu3b/1RSqEPBBPwrYqhAhIMLuyaEVJgZePKGchYQbzWAAQEGM6wDs+ZomjrCxwsc+JSTsVzcAP4SbC5IBQGFmUOMIey9EQpbhU40JkRFAXwdtRlYMAAAxE0gl9EedSkfgR9A2RcVA0BEEGTgTGN2pMtN0Xz2oEAIiPBUAUgFUUNAGOghUGUIgCQTGBkBgscQLAATABVmzBTCWiAzlKFdFHsUYwHxCwkWGg0BahEQRCoGBhECsIRSRQP8swwUSS0xEVkAAACH5BAUFAAEALPEAAgBUABEAAAj/AAMIHEiwoMGDCBMqFKhuTRk5/RYOtIYGzbaDZyRqXLjkoIl/A//9s1YDAcGOCtXVKCCwgA11Azvq2EjzYEcHBWeGXEYBAIMZOmI40Inwn4kAEQIISboiZgCiNaPKjFhUBYAV9gguUwgmgIOL/ZbhJCMQSIAYUdMGmJpwjVeYG/uVAICEYJEAKgJ0MIhSLcenVA/meFqzXwEAjQj6CaCgH5rBeRcm9iuwo4SBOiYP3BAAC5gSES5kVpi4QOAAVFWtJfx3oQuFfQl2HYjTBIACEVgqcIsQDWOQIRUEkLMaakIhRZArT858IRos4wYeDaAZAQAANez9G5c3Aj+EZQBE/+gHXCTOjDIpU+63l6gC8d8FjntP9iAanyLz/xPuNv1CaxKpcppER+gFXAQAzECQUQAIgZAct+knEkuJ+QebRK/VxEUAG1BlG1EioWXWQfwcttVApQk0RQA5AJdQRq3RZJYKVAlx1YIdABBbQTlyEdiKIghEVlPqqSWHSUu4WEABiwXwj1tMDnTXiQEgAcAG8fFzAQArBnBiDSEViVABJQwEJofxOQmET0iUUYR1gw0EwHBU8VMBACWQAYYIAFxAEBYMOCXmQcIRJEAMAIbUjw4stZTDaXNCJNA/jXAmEAAdqFZQdAFwOuhBWBxRIJUL9qPKFEVMoVlBWYX0zxlILAXh20ABAQAh+QQFBQABACzxAAIAVQARAAAI/wADCBxIsKDBgwgTKhTYT06ANfYWDvxH8Z/BcQG49JPIUaGqgwUM9jviYGCBGRsR8lsSYEPIGBQJNgpwoaPNgx9DEiyRUuC/GQEKuAhQ40LNhMsABABQAABMiwNnHr1JNcDHClARIgkQYWZHdTq4NCritKLARmC4DvTTs6rHAFgT8lMAYI3NihbJPoUKxOALtxyvZjWYdipHvAH0IvYzRa1AuwcjLiTzVoEImjPQFOw7Y00MuC80J0Ss2GwAqRK9KlTwNijrpToG9vtbomkABEtZIjStNwBi1AsxLtya0FoRr8t0CACAZaAKgRtU9ftXJKjDg6Sd+o55mibg7777TuFdEUDAdd8mAsTGzr23aeAK+Un0Q9WhUoE1uLY9EuAye6jucQdfQqol9JpNGAGgjkDVGRZAcx3sZlZpWV0lkTUSrWdTGbdBZZcCbfVFnoQUUShbASCC59Y4EbYw0QUANCaQOg7EOBAXD01UkYk+bQCACUIEQJmKCIlQgQ5LYAEEA7fRN1AZAhQABBlTUEBTT5cJAdU/QMQQg48ReFlDT2tM9ReRBw1FEAAbyNHWP1wcCEAJHw10WXUD+bgmUwbZQ1+daBqkChdLFDHFeQX9o05aS7hZ0EzLyCTHpJTKwVYAAQEAIfkEBQUAAQAs8QACAFQAEQAACP8AAwgcSLCgwYMIEyoU+G/guIUC+zUqs+YhwX4BpjSEyDHhxoIA1BX8N4WgABUfDZZ5gQAAgAAFVqgayC+Ag444D6Yc2MFeQR0CVQjccDNhC5sxdMRoGWGZwJpFc0oN0DAqQi425eAUwqXfv6+qHAAA0k/VmQAMBsrZORVhVYX/IgQA05bq1yIAOgRAYrAExrpwbSpcI7ju139Y8gZoRFfBRZ0Q6XqEWSJAhRdkCh4JYMLPDAoRXJTBeTgGgBxPCyusubDAX8gGa/z9h1rEQMcBhHT8SgZAgUaprSJ8jVBIEbhC/AjcBqRAgOMCZwik4KfhEgEA0HD810gBAL7BAYvi5xu1RoDsBGMEkA5RVQQAQGmqnrxwbU5rAmcGABIAQUosAVzQnlzmEQQVRKwp5FpO/TinXAAACpeZXAotQwEAMxAXAEbCHaThQbLlpJUAIi0mQAE+DbSZCB8OtMwFALzg1UgMFFCieFLZY0IAtg1kWxF/8SNBbgPRdcZf42wAgAtesVVZj2C0iGMAK8gF3k0FEDbQGgUIABQWGwQQgUUBHBVfACr49kIMbAqkw0Z+hCmQX1OCaFAFaOxERlo8PSiQmRt18JJBwvEDHHB1HrSMZAFoeVBNRyCxBlsB6LeYVjoFBAAh+QQFBQABACzwAAIAVQARAAAI/wADCBxIsKDBgwgTKhzIT6AcewsFjpMTQI46g6oCgInIceGZgxH+FbQHBMHAAkD6JQRDAcBAACb8qBRYJoCKmR1zEvyooGAMkQPtlQiAIEaAGRJuJhRSQMSMoz0VNBpYU6nOqwE+mlioI8AGazmX2QMaYFyFAF0D+EESoMPAqVg5alW4rEABuHEFHgkw9KhBHWTzIpybcK8KwQOF+K2oeINAMnICD1wW8WPCjw7cXrAhB2eAFwGAlFER4UINijrPKBCwJkC/flU9H6y50PFlgQhMBhCAhKxbEwAKBBBeYOPCMhUoMACwgQzZ2AsbFREyvTp16gGwKFxLOUCjGS4tB/+4INDENtc5ACAAq5BMbgAAKHAhCB1x3KdWHSPo7ppCALYR/aPOEggAoB1NNslm0EXRXUVGAA4ANZQInuWwmEL/ZPgPFwBE0FAA9SVEm0K25bQGAAoAZeFhBAHx2UIaZqgOfAyiEcBWC/kRkRCSLTRFABQABQYAFwRmFGAJxSiSH/DN1AiRPdoXkSoRoCVQP+owACJQqgg34hJqvRWjQDUA0MFM/WhpVABoRCllBB0AscQUOpjkAHsCYaGeEGUs4cCNZFU5n0CZyYmFEC0VMGIAZFQpEJJSFtRPiQOZgNdASAg30AsMuiboQCIYVEEZPaqjI3+RFuQHF0gcgcWlBW0Zw0URS+hIUD86nifQP6qAsUQRP/aTYQABAQAh+QQFBQABACzwAAIAVgARAAAI/wADCBxIsKDBgwgTKhw4bk0AP/0WCvxHkeJBhw4lalQI5OAMg6peFBjIAIzCihRFBACw5h/Bjkc2yjzYMULBIhEHNnIQIEKNAC4YFHGJECUSAAACyMkpsOPQmVCbBsCZsF+HADX4DWRa1GUjBCIcsLQYYM3HHAOtRd3olGtBMAAquN1YosDOsQNtFiSzVmPbhCoCHJkrcQmAwWJbDizzAqtAMMsQ+pEoh2OACxcCdACiiqhAnmWmqNwAJPJCVQo2RExMlKJTzwg7LtQBu6BsBSMDKDhDUECAwAgGOpis0ESBlv8S255a2yAaIUWgS49OvYxCMlzsBei35qoCtQHUJf8NAKRfP1UqOzQfyAVAeYrKXzLvS9+ezZgB+CVVr3Nk5YPLKBCBOhOxJt9TCpmmkCpQ6RBAYwKNBARsmWGB0AwATCHHhnIwAAAYcowz0GsLyaYQbTMVEYAJA2WG30AqLUFYCUjVWKNAFgokxFSEEWTSQlxAFYNjAqGFFkE2kUFYETE06WQBAJgQwxo5TRHAkfRJZI+CAqExkpIB/LMGAN8NBBcCIoa3Iz+tFcSaZ3IAgEAOKjaSZUKNFKCCEFggEYNvJsD2UQRLkDeSigKpkhR4YaKUXFm1FaHAQHzdeZAqwRFUgA0EEsQPhgMVIIRnigbAqKPJsYSQNZV1aqlB3E0WFQAYjBrUiJVccJlfZVw56occWgkUEAAh+QQFBQABACzxAAIAVQASAAAI/wADCBxIsKDBgwgTKhTYT06ANfYWSgywLACXiRgTOjSowCA/IQwGFrDxTyOAkycFhhzosEPJjDBZBkBQUEXBfitmvggw40IHhXIAIOhAlKiKlwFaxlyaNIDLhP+KBKCgaiBShEFd/tu6dWCjixcG+mE6seXVguoQANiIMStXrgN1GKzRj+xCswmxOD17F4DWtyyXTGVZ1+A4iWWABmDw80KNNQVzBMixxkWACjEgAwXAOILjNVeV3pUYofDBjQVoBgAghKDNEgIKzAxQQK9JAKlTtpb5c+GyIkKACw9OXHBCVUdU9funSjIAMHX/iRDYYdm/fkBoN0rYKHlJVTZWg//hbdfuP7lP/5XQbvVn9oOABf7LAWC6QNEKIy4cCxOybIE7VVBQazbB9xZXaAj1En4akWbaRNsBMFB2vQ2ERAAl8BXAgVxtV0BhY1V4nERAPCjReA4MdEYAKRIk1wwacrgVGAA40JU6LJbHkIkE/bMdQdaEBSNDEQBwkUDWKGCkfHrJUdiPAy1TAQB0yVfkCq0lpiN8G1wAxBJT6NCRAlAGAEZs2U0RgVOF/bNBABcKdMEGX4bZEQNlokHBQFVuWdA/JhTkF1tMqraaCdZY9WacGKKEkgiEDmTPWFX5aZCPYCBRBBZ+8CiQOlwcsUSk/4yVqFdcLLHphhpaulA/nroEilBAAAAh+QQFBQABACzxAAIAVAASAAAI/wADCBxIsKDBgwgTKhSobk0AOf8WElyG5kwjgnKKoJHIcSGSgyoMLptRYKCCKQr//ZNjQsBABw77HQkApF/HmwY/OigIJOJAVRECOKgRIIaDmgn/OQRwIYcOFQjACJyJFKfVAB+rIjQR4IW9gTYVqnMAoAhBe9se6ggwY+Cyqx0/rk14BoADfjjNcj24wSAWn3AVZg17sC0QqxcCSD14huiLnwgvLnSY8COFvht0qCpYQTGWEgEyb06ormSjIhsidCiibiBVwghnLpwBOKdABSUDICBDWEEAEwAEllQgBzZGAAg6AFAQNMAFa1NpGjdIWSEZhWW4jIu4BjSCRj5z5/+wuY1rhekC1wBYP6VfPz9B2wZ4Hbh+v76HhQegQHgZggBnICTHejEQtFEBrdGnEHQLjXaTEAGAJtBOORQkwnwIqbIeFgT9gwAADimYkGwK0YYThx0MdGF+A60QAIQIfcjbQP9EAEAZASxBk0Q4LjRFbRKt5cJAhxVIUGIcbgUAiQHYUwAAfihWVH00AklQPw4KJMd/SQbgRwEFSBZAGQAUMFo/EG4nEBcASIBXAP9AGEFEqghQgA1myUFlQvYIYIIQWCxBUgAdENaPDnbpKMR/LPITnB9h/SMCABtgQYYOAgCwWI4MDMTFngjZ4xtBAswwTkGHBiecDoA56mWk1uwtdRtKBY2j56mgCojFEUeAoYqVAqkyRRFYZKllkx2utEQRYKSVq1U2AfssQgEBACH5BAUFAAEALPEAAgBUABIAAAj/AAMIHEiwoMGDCBMqFNhPjkB1Cwn+m/iP4LIjYPpF3KjQoUEHGgnyE6JgYIEcCkUAWAlg4Ep+/9YEEFGRo82CDhEUVFGQH08ELwLMuEAzoY4OSJM6AHBBoMyiN6MGcChioZAAF1QNrJmQItcOAI4EaIQlwIYzAv1I5Ug15MFxBQp45EhxoB8ABawFQFnQxtqNVBWWrXqzrkAdAFwIlIME60A5XAmOi1imYwAGHbDWkEmwRgAdaBRXmMEZodeJ/RgAIDPwaeSDpRNGsByggM4AAIoQNCFQgECdBbh0PQ0mgIOJTme+NrhMSBHn0J9LX6Kw0RGtAVT5XR0y88xlAfoB/6mN3eDpfyYAAEEewPXf9/9QEp5JPuS/DQGuHvSavQCARnW5p5A9Eal1ExoB3BbACo4RNF4LptUlBAAl9BOgcgvFhtBsN6lVQEjjzSeQWLxFOFEEAHBhIXIOdbBcQY1ENN5NwjkwUGURuBWAXzXoKNFEZwCggD38TZbjexv9EyNB1lQQgGcMLVWcQMsgAMCU/5Qlh30TzQCAX4b9g6ILV1WGpGkXbADEElPoUBIDqthXXAFCkDHFbPP909QSXP2jjpVr8BfeGRIMZMOLZ/5TQkEAiOCHjv9MoSAAKuglkJ4B8LkVdRusuJw9apV35kGNcLFEEVgY+BYXRywxl10BWA46kFaqGDZqVOzdalNAAAAh+QQFBQABACzxAAIAVAARAAAI/wADCBxIsKDBgwgTKhRob43AfgsHWluzxlpBOQHORNy4EMvBEga32UAwEAEShf/KXCBYocy/fwGmBMjBseZBjw4K6ihobSWDGQFiRLChcE0BAAGECBEBoAAagTJp2pwq0KMNmAldBFCh7iFEhSoAvCAYY2s/OUACuHgaQBVVjlaxHpQDgME4mxUAgPn6jwwACQFEGFzy9a3CuAj77ZRaswQAjwL/cQEgeM1OFQMbIdS80GFCjxE2BNigw0/BDjHBgLygg3PCyRWWBfi37AIALlBnRpS5EPNngQgKCCwAhmDOAEgDCEewRu7BJQoQiBCBQAHh3IwTYlxYPOGaKdsEyv8xody0QAUCZ9gLoK5FgAjrE4LpAKD+6O4xdRve308wYwYBONAPVuqgR0ZhBWEBgANcjDMOGA4AwFtUEYW3kGscLTHaQBEEABRBmAmB4ED9KABAGbP1088ZACgAEYUL8QbWVMVVgBVm2XkYABAjCuRHU5G99A8CAGBkVURsKXRdTWmBJFARAZjgnGBIODfQjwXYI+Q//RyFEYq+7feWH+idJJAqBRSwXQBrACCAeQFAqQpM/RA5xYAwKYgAPwFYk2YNUMrRo5gDFQDSFEvUINwFWg4kRAAMIFFGEehdVSibAwHRlA5gkKHDUWnNhsVxASxJqEGkCiTAC8tYCYQAAwkxkAOfl3oWQD9ACFffpgapg5GFp84VwBFHcOEWQqpgUcQUxxKEUXy39rMMGEUUC2xAAAAh+QQFBQABACzxAAIAVQARAAAI/wADCBxIsKDBgwgTKlyosFGZAOoQlvnHsKJCLgdFGByXo+CRhWgIIgDSjyCWADUsqjyIkUHBjgS3HUzJsEQAHS5tUBR4kubKnwEw+kQYI4CJlRsC2BioSkGANTuFBFABFKhQhgpkWmwEQMC2nQGABJgh0KZHsFUTXkW4c6nKMgAcoAUTwEHBowtVpR2IkSBMghqX+F14Ju6/nf8wAhjHEyXDkwvxIuxbkAvYCFMNhkS4DACARocP5/Dsp2TPikWEpF6tuvVPqgHk7HQZoKjAF3X5JRQBoIS6w2cKeF7TeOjen/9s+rQbwB5Bl3QR+lEQV4UIARGE+ynOkPFxhSUDVLEIgJtgi7BoBx5uNIMBAAUx5AQA4DzA6YWQFUpeKWHgCqUFpaRDegKFVhAZAFCwk1DhJUTcQkgQqJBUGgmERABmFVQEWwYOFAMAQOwUUgkSfmfREQ0aJB8A8gn0kXqh7QTGe6rs5B1ZJiqEgAhSASiehgEo8NGLxgWwWQBgbAAEFku8AEBQaFEWwBEl5kjQkwgVQJBbAyFg5EAIYlkXGVVaCeGGWyEUUYHLcIHEEhOhFRAAIfkEBQUAAQAs8QACAFQAEQAACP8AAwgcSLCgwYMIEyoU+K9hw4UDraFBs+3gGYgYFy45aOLfwBIAQgIYGFKdQnU1CggsYMOkwI06Mso8uNFBwZgDdXTYydMBgAoK/5kIECGAkKIrBsKcyVRpAB39gjoUKAJAEYVgAjio2G+ZTTICgQSI0bQpzKgIHXoM4AdAgWUJ+4FEQvCqigAdDG4sC/FswqkCdQBIGrcAgEYE/QRQ0A9NjgB3FyLm+zKAhJyTB6pt6JMM2oOIC3wOgFZVgKUaIbpQuLdgVs1qwQBw0G/tQTSLbQf4pyCAnNNPMQopMrw48eML0WAZN3BogMybVQAAUls3wTIAItRm+M/mRdSUy/bty4tzt8Nlhv1Uty4QDQAGm3kHWAO8fEJrEFWNhngE79qpRQAggnnsCSSHW/GphBh4CbWW0GozcRHABmhNRQEAWBCIED+GwTVQaAJNEUAOBRJ0UWoziaVChQ2tAQACJgF2UAcAcPGZiAMGABZh4TUlBwKn/dfQDADUQKBtV3kYABIAbMCPQPxcAICIAXhoJEM9IlRACQNd6SRB/6iDAABrqEXQSHKgxU8FAJRABhhVXUAQFgw4leVBvREkQAz4FTQFABdsdqZvFTayAUkdmFYQcwEweudBWBzRn5IFqSKHKjIWZA+Y/5yBxBK4DRQQACH5BAUFAAEALPEAAgBVABEAAAj/AAMIHEiwoMGDCBMqXKjwn8N/BscF4NKPoUWFqg4WIFgkIZeE/JYE2LAxhkOCjQJcuMjyYMaNBEtUFPix4EoBGREuAxAAQAEAJiEOTLmypVGBGSsIvSgkgAmF6nRwaVQE6EOBjcAEiDDQz8yjC5MuZfgvAoCaBx9CrBpUKBCDL8BaFMuyTAAF/BKqDcB2r58pWweuQWiPIRmMd0WonIFmYVwdDa/2vRqAKMOUCxUgDlBAc0/ICMf9lBNZKNsAey0vlLgQiUJrRTAv0yEAABaErjeMNbj3NGXVcuX+e1u04L8NAUSWFuj7ZGWVDPMu9GOUNE+DpAuoW0i5uVDgCTErpfTMUiKA7QVzBIhBVrJV5wGSMrTGEHTdAAh281MA4MxXvQ9NtlQ/nf0XXEvjdBBACwZ9xNVBHw0mkFoCDnQcACY0ddiBCYlQgQ5LYAEEA/hRR9A/JQTQ1EGKCSHUcDHEsAEAEcRYw1drFBcXhwi5UBAAG8hhYCMCFKCKgQIp1tFAMxIEgE8G2UNdTjy6xMUSRUxB2kHbmXhQSsugJMeYZMrhVQABAQAh+QQFBQABACzxAAIAVAARAAAI/wADCBxIsKDBgwgTKlyYsF+jMmvGFewXYMo/hhgVXjQIQN3AKQmRJCzzAgEAAAEKrFA1kF8ABxljHtxYsIO9gWQMbggAQA7Fgy1extARw2SEZQJdwpTJVODFpTFF7kwohEu/f1hVOQAApJ+qMwEYDJRDs6nGl0x3Lvm5EOu/IgA6BBBZsARbswmfypSTcltGt1jiBmgEJoACgncHlkVYOG/KEgEqvMipMEeAGIvzYo0BwHIApQxdLiyQmGDmADVKJz1cJiZWMgAKNEqKdqFqgkKKaBTiR+A2IAUC6D7IJUCE2zMbKQBA93NtvNBFQq0bQIhMVREA6CAIui1DsjKtCadkWbCRAADkMWJHXbC7QtEKScvsF7x3QesmYi6jAGBGYorTIYTcQKntFYAAHpkWQQBcnGbQMhcA8MJVBf3DQAEJQteUPfmJYFBrCqhW2Bk/jbMBAC5clRlkHgYAxoDQrbAgXTAVsIZBLwSgg2pBbSeQCrG9EMOQAumwkR9TBWCXhgnVYFAFaCw2TgE9ndbjRh2gZFCA/Mw2G5MJLdNYADdCl14jfM0UEAAh+QQFBQABACzwAAIAVQARAAAI/wADCBxIsKDBgwgTKlyocJycAHLUGVQVAAzDiwvPHIzwb6CNhGsSgqEAYCAAE376DSwTQIVKjDALalRQMEZHgUcMRgiAwN5Ng0IKiJgRYAZNBY1WtnwZs6lGE02J1lC4zOfAcRUC6BDoB0mADgOTNsX4NKY6BAHW/LyYs4RAogV1rB2bsCzMJQEuzGUopKhAOX03CCQjZ2+AZQw11g3gAOwFG3KYHgSbM+YZBQJC9uvH0uVClgsFL+aJNoAAJIYD+AFQADHDMhUoMACwgczPzpIPNioihLfv3r0DYFHY1XWjGSUVG9zqInVBMggQAABAgQtB3HSzDyTquWA/BgFsw9P8p26J9OECsSuUuFAsTDKM94IB4MC5wX/4/3EBEIFf+qWfMSQaTGsAoMBeUAExXn7kTcceGgFAtZAffNln0BQBUDCXKgUE4N5CDHa0GgAvNQKAXtplp8pOWxXUlwiG4UWhQI0wKFANAHTw0ncBxCAQGhZmF0EHQCwxhQ5oOWCNTgFYt1GTAzVWJBZCkFQAaIPtJJBcKSLUz4ADmfChQGcYaM9B/ezkZAAiGFRBGXupQ6FrXSLkBxdIHIHFmAMtyadA/VC4zUD/qALGEkVg2A9+AQQEACH5BAUFAAEALPAAAgBWABEAAAj/AAMIHEiwoMGDCBMqXKjwn0OHB9cEkMiwokIgB2cQrIAQwb+EDx2KCABgzceBGI9YXHkQY4SCRfoN1FiQQYASMhGGRAIAQAA5OQViLHKSpdGhQSu+5NLwYyMEIhyUhDhRY46B1oyuRLryDAAF9iqWKNBIqsmBLwuS0WqRq8UYAa4yXALgSD+zRcu8CFBDIJhlCP0wlHMxwIULAToAUVXUoDoEP5MeVKVgg0y8Ah0ObdySoQ7OBDEGUFBAoIIzCZcEsMzQRAGT/8wW3LwQjZAit3Pj3l1GIRkuYfut6TA668ENAZAw5AIASD+HskMHIMq2ukB7L1UalAOgwLaFyxRE01CXGTPK6aALAl6oyqiOAHsNXoW7cAaAKXLyy2EAAIyccedRV9hCn7FURAAmGMSPAgH0tlAJPUUYoUBYDCTEdJIZBMZyRsHVV0HMRcAPQ0XEYOKJBQBgQgxr5DRFXNZZZM96A6FRGhmSlRCAEBmqcyE/J3GGV1HcIZDDgY3EmFAjBaggBBZIxCAAgpypAoAAjYBmZQDGBRASdBNxVgSDAq2l5GSQEVSADeQVdKEJ6W3Z5ZexlYSQNYS1eaZBwk0XABhdFpRkoATxQ1hSX/ohx4gCBQQAIfkEBQUAAQAs8QADAFUAEQAACP8AAywLwCWAwYMIEypcyFDOQgUIgTAEQIZhADkAMmY0yAChww7/LIocmdAhgoQqEE5RSCFAAWsWMSLoQJOmipAGP5LcOfIjTp46ArgQiRHkv6NHDzYqeOGgH55QD/qE2s8BRaIAjCL9GTRhjX5RoU7lCSaAA7Axs25NmnNJgJY50SYcR7IM0QAMOgS4UGONyH8mAgD5uRBj3gh81xDW2ZNkBLkKHbo8GQCAEIuqCgBo1DNjAQQbL0sNoHfksiJCUKtOzdot5iOq+v1TlaMyGMgHL4sg2Qh2SFU2bI8uHbZ4wn9BQSr8JwEAlpFbD/7LAWB3TtIk7ZF8GtVvgYVnAijH0P537VE0ABDgZHx35OOonAEsnxEgOHTz/zgXQPuUOGaSQOA2UlkOKKQOaH7dZx4YADiQlDpmGZdQPwJKxxlC1jQ1A2EBuHUBhwH885wcaF140DIVAPCVQf9EAMAKl9kl4V8bXADEElPoAJECJrLYAQBILPTPBgEEadAFG9yYI0QM9IgGXAGsOCNDgCWUlWQeuQTTckQaGUAJGmkkApYI2fOUKlP+1QgYSBSBhR8VbhNAjwj989SWBi21hJshgpgmVRX+OVJAAAAh+QQFBQABACzxAAIAVAASAAAI/wADCBxIsKDBgwgTKly4cBmaM40IyimChqHFhUgOqiDYIeE/j//kmBAw0MGaAP2OBADS76JLgxkdFATyUWAOgzI3tET47ySACzl0qEAARqBKli+TCsyI1OWGABkTqnMAoAhBe9sCyNERYMbAZUovZuTqUg6AAlkTWjWB8GlBLDXDKmS60+LNGHEPXghQ9OCZGgFeDFSFMOLCkwkzUni6QQfhhPwUBCijUF2BAI2KbIjQoYi6gUfrIlS5cEbeglEVXA6AgIxoglwAROCn0CyCDgAURBB4wZrRla8NIlZIRmEZLuM+rinButFpgcyFBCe4BoD1Kf36+dntNUBoueD7PfYFclAVAAGGE5oFEINgxQKfvyv0vfCxSyEBmBvEb+J5QfMAYEHQPwgAcJJ8CZGmkGkvCdiRQbtxYVGBrg30TwQAULbESgxRttAU/iXElQsGlZEbbQyZAICCAdhTAAB+8BVAe+AJ9E+IKNknkBwIBCBgQYLdZFA/+CUnUGwSoPgPfhF8pIoABdhglRw1JmSPACYIgcUSM1zWwWvjXEalQfwAEIAfO/0jAgAbYEGGDgIA0FcASzAwkIRVHmSPZAQJMMM4MAWwgX9lnpmmNWwNpMAUBo1DJaB5IiQHFkccAYYq/hEGlqQtDhjSEkWAkVakL7WEI6kGBQQAIfkEBQUAAQAs8QACAFQAEgAACP8AAwgcSLCgwYMIEypcuPCfw38Elx0B04+hRYVyDjqoKFBHwjIJRQAYCWDgSH7/1gQQAfGiy4IZERRUQXCJQQoBCoxLqKODz58OAFwQqJLly6MCM4o4miNADIUPWwboAOBIgEZYAmw4I9AP0otKOVrkpwAAyIQPB/oBUMBagKYFbXy1qPQllwAR+EF1OFAHABdJkQQYmlQqwZ0LzyLMyKDD4Boq0ZYIIESswagO+zEAQGZgUcMHIyuMgFFgAZkBABRJqCqAgEZ7o4IJ4IBvgM8Llwkpsrs37982EzY60jqAKrmcLQ8UEsAE6IKY/5kAAMQ27rlz/zVdejkCgLuxIarYKgCgUdrrCe0x9PoSTQDUBUEq0BueMoAS/c6vfF5QdELSL3lVgHIBvPCWRVF5x0V+fGXUAX8EwbYQEEfd5YBB45AnB4GXOXQGAArYE1UAO0XAIXaXSTiQNRUEUINBgm1A4D9ZbSjQQzMAIFdaAfzjnQvMKYbiZRdsAMQSU+igQAAMqGLZPxsEsMSMQy0h1T/qIADAGiMG0M8ZEgxkA4Qo/jMZQQCI4IdyGRWgzkH/VHmlTTLySJA9XhU3JEKNcLFEEViwZ5BbKhrklVsEtaaKnXu+ZFujLgUEACH5BAUFAAEALPEAAgBUABEAAAj/AAMIHEiwoMGDCBMqXKjQ2po11grKCXCGocWFWA6WIGgi4baE/8pcIFihzL9/AaYEyHGx5cGMDgrqIDizYMwIKBGuKQAggBAhIgAUQCNQJUuXSAVmtJHz4kYhClUAeEEwRgAV/eQACeCCaABVSS8ubcqwkVCwCSsAANNP4D8yACQEEGFwSduwGAMwbbkVq8ISADK65QKA7pqZKgY2Qrh44RqFGSNsCLBBh5+FEQKAIWuQcIVlAf4tuwCAS9GVDFUuTJxQMIICAguASUgmAAN+DJcoQCBCBAIFdk8fVThx4eyEa6Z8DCCnY4HLB1sEqGm8A4DrlI+nRI23ez+6wwla5YNdHDIAB1zGjQPjAIBqowyXK2zccgnlg0cCdOBssJ8CAGWE1k8/ZwCgQFvwLaRaVEjNVgF/I01xV0J+COXWSf8gAMBESzHklULB8RXARgWtIZQ6/BVUYQH2YPhPPzxNFCBr3YXlhwIBIGFQDQHMkGIRX6HUj4YSnhQAFgAggNt4BdQApBwT1mhQARtNsUQNsF3QIkH2IBAAGinC9phAQAilAxhk6MDTVqFhEZNAIUpp0JsDCfDCMpxFlmIAYg7UDxCwXWemQepMJJ+cBk10xBFcoGUQWI4mGoA9fvazDBhFMCpfQAAAIfkEBQUAAQAs8QACAFUAEQAACP8AAwgcSLCgwYMIEypcqLBRmQDqEJb5x7CiQi4HRRBUkXCZQjQEEQDpRxBLgBoWUx7EyKBgDoJAEpJcWCKAjpY2KAo0iVKlT4EYe6Y0IXDmwQ0BbAxUpSDAGp1CAnD86TOoSlUBBDRK2AiAgG06A8ScIbBmwSNhqSa0mjKqibQFywBwkBZMAAcFiS7EqhaoS4sYE56Z+0/nP4wAxu08ydDkQr0IAxfkAnfgw6YKlwEA0Khw4Ryb/ZDkWbGIENOoT6v2OVVO5QAvArxcKAJACXWFzxTYvGax0L4//9X8PVCxRT8K5qoQISDCbj++GRoHLtMgkgBIFxZuNIMBAAUx5ASQAGAv+kLHCiGrlHA0wBKGnguSAUBBZ1CjCHsvRPI6YVSNBYlnkWdpxQAAEDqBVEJ/1FV0BH6yBRADQkcQRKBOYHynik7GkdWgQgiIEFVSAlVgED9NnQEhQSAJBMYGQGCxxAsABEAZQZIFgNaHDNW4UlEIIRBAiwHM5+NdZDDI435FNBiRQP8swwUSS0yUVkAAACH5BAUFAAEALPEAAgBUABEAAAj/AAMIHEiwoMGDCBMqDKBuDRpVCwtaQ4Nm28EzETMuXHLQxL+B//yIIOhgyr+PCdXVKCCwgA11Aznq0EjzIEcHBWcOXMYAQAQgRVYACDBF4T8TASIEEKJ0RcwAOmtKDSCzX0IhACrwG1gk6VaEYAI4sNhvGU4yAoEEiDF1atWEMQCoFfhvGQAAVg/2KwEACcGuKgJ0MMixbcS3CHUAiBoSgIKE/QoAaETQTwAF/dDkCBB4IWXDAjlKGKjj80A5BRDIEWivhdy8BikXgB0gL0SZhyO6UFi4YFiCZCIU2FBCQQEdtAuiuYyS7uPVuCMKKTK9OvXrC9FgGTcQaQDTAdao/7g7NILfhGV89kN5EifG6KDb9hscdU2BAkiW2TtzAcBmhGgAwMBJBP7z2BpUQRWRNRGpktxCRwiGkggAdEWgKggAYNlBcgBQQIEnsUQZfAn1ltBuNXERwAZ5ZbhagR0AgAVC/Ei2DEGyCVRUDs0hhNFGUqmlQosArFHgijImFCMXsBU1UgBoORVfW3IgQBVKMdpAYHiSrSZQVzcKhAQAG3zFT39FBRBmDSBNiVABJQzE5opfBQDGXS+AQYYQCgAw5EBDyZEXPxUAUAIZYFB4AUFYMPCUmwc9RpAAMTBI0BSPkQfAC9wBGoCgdDWyAaAdQFRQp51CehAWR0QYpkHqkBNxRBFYgEeQPQSddAYSSyw3UEAAACH5BAUFAAEALPEAAgBVABEAAAj/AAMIHEiwoMGDCBMqDMDPTxk//RYS/Efxn8FxAbhElMgxoaqDBQqqqxFSYAEd9hTyWxJgQ8gYFAk2CnCho82DH0sOLLExwL8SARDoCGADQYAXFhEuAxAAQAEAMJMKnFnzplWBHytINbgmQAGIAtc89ZNQnQ4ujYpArTgVTIAIA8FelZh1a8EpAToQ7EchgNuDFS2qjZoUiMEXcznWTUiG5sQIALoCZjs4cAA/eOGGRZhyYWOPARSIoDkDTUF+kLEI/Hekpd2BliuzDUBV4syFChR+9Jq76VCZIgBUeAvAxLKEswf7ZFt7IcaFSBRaK3J7mQ4BAFQPXFbDqEAEOdQh76cMdXnS5okT/zNcNYA6yDUg+kF8gR/C5OVno09ofyHZm3I0NZAQAQA1UD96LdHTRDEFoJx+ji10m0K92YQRAOIFoIKDBRk2w33kETZQVhJZI9FvNpURVFImBEAgQUPFMB5FsknVTwEKLJjeTePo1cJAhlXQn3twtSYQFwFIZt4/NcK2QXEEfrYjQiJUoMMSWADBQFD/BaCKURtMUcYUfTlgokCjCZHUejHE8GQEbdbQ0xrtITYlQi4UBMAGciy4Rl8E8dnTaEUEytRAADhlkD1k7XYnTlwsUcQUAQK2BktLKDnQTMdtKsenoMoBVkAAACH5BAUFAAEALPEAAgBUABEAAAj/AAMIHEiwoMGDCBMqDNBvoL2FA/s1KrNmXMGGU/5B3KhQo0EA6gja04GAYA2LCcu8QAAAQIACK1QN5BfAAcebBz0W7PBwYIyXOQLkUBBAhMIWNWPoiMEywjKBNG3inCpQo1SEjQIIWOPRj0A0CYVw6fevrCoHAID0U3UmAIOBcnRS7VhTIZkAEQj+Mzql4cKy/4oA6BAAicESfufSvXpQTl2CGwLchQgYy+AAjcAEIBoxJ0TNCTUWKBGgwovJA/8RPjKQC16alMvGABA0QFSIsBUWSGxQ7sAavJeZCCAhAIWiWTeWJQOgQPLbC3kfFFKkoxCvAbYBKRCg+kB1Oji/7azxVHkjBQAMQ32suL3hq/wiv4gbwAbebRtVRQCggyB0ugvRd5M1AskUwBIBbJDYP8MJAZF+AdRQ0H8J5ZbQbjj1wx12MwSgFkGGDafQMhQAMIN0DTGGkHQHAYeTYwKEFECHtQ1UnYgILXMBAC+QVdA/DBQgY3tU2TOcUQKx5sCQ/FzgoV+aneHXOBsA4AJZvgVAGpJgsEjkQCvkpZ5NBawx0Dg2UYAgFpEhoIpfSPUnkArNvRDDnQLp0FVkAiH2JUISFlQBGnLJwedAEnA1UJwedeCSQSryk1Vyfx60DGgBmKnQEeodZCBmjuUUEAAh+QQFBQABACzwAAIAVQARAAAI/wADCBxIsKDBgwgTKhRoT06ARv8WDhznUI46g6oCgJHIceGZgxEiDlTlQsBABUL6KQRDAcBAACb8qBRYJoCKmR1zEvyooGAMkQH4VQjgQEeAGQUCAMFpUEgBETOO9lTQaGDNmzqzCvxoQiGXAAqsDQQDoMBFhMvsAR031GgAP0gCdBhYVStHrgqBBHhREEEAOUAlHglQQmDUgjoC20WIN+ESmzj5Jd2mU8hRgXIsbxBIBvDBZRI/JvzoYO4FG3KYWlNQoGaAfkZbKFZ4RoGANa/7XWV60LXCzaMFIvAbQACSwHIuBNjsoECMswrLVKDAAMAGMkB3L2xUREj37969B//AohAu6IczXIp+7SdGUoEMlkokMxwAAApfrUJezP8y1ocMKKUKP2sUZsJsB/2jzhIIAEAeTfspBF1CdeVEBlEi1RBADUDZE0EA2C30z4j/cAFABPxA+F9CviUEXE5rAKCASMptNFA/UemlEIkjqmPfWWgE0NVCfkgkBIIJTREABSINxQVTLii1I49v2TdTIwBcgGR/C6nyoVsBxEAYUKr4BYZIjxUpEEQkClQDAB3M1E+AYgaAxpb9RdABEEtMoYNfDogl0BpJlUAeEg4EcEE/In2YH1F7LoGFEC21RhAZHwqUGJcH9fPiQCZUyFmiBJVQYT+ODiSCQRWUMZs6RZ4ix+lBfnCBxBFYiEqQbnFN4dCuRVIm0D+qgLFEEUoyGlFAAAAh+QQFBQABACzwAAIAVgARAAAI/wADCBxIsKDBgwgTKhQ4bg2aZQsJ/ps48eCaABcjalQI5OCMgms6ABgYAcw/hRQniggAYM3JgR2PbJx5sGOEgkX6DfRTIMCGjiVGknl5MCUSACPl6IQZoAhRmjQ75kxYI4AIojoCdHhasGIjBCIctKyI8WOOgdagzpS69ODKJQTXAFDA9WCJAo3EuiRpkIzajWwTxmhKtAyACnULLgFwpJ/ewi8CVA0ABuJBPxHlcAxw4YJWIKqengHgQBXDlUgWqlKwQedjgROlJibYcaGO2QFqK+gZQMGZglwcFOggQgECIbgFmijg8p/egrIXohFShLr16tjLKCTDxV6AfiF7p/+FXUbESIEVsCTnAgBIv4nPaRP+S1+gvZsyBYIpgACLNXVk3DTVQcsoEIE6sL3GlFMLWaaQaTRlFZlAN3FBkBwAFLANQjMAMIUcIMrBAABgyDHOgsnlFtFtNBURgAkCqTPSOET9c5N2diGlo44CYTGQEE21hRAYEVlI02CTjTPSMk85EACOBhURw5RUFgCACTGssdQUAZxVn0b2OCgQGj2RsdRNQA5EBgACbBiAOkDy8xJXjxGFIQI5uNjIlwk1UoAKQmCBRAwCvPhSP0cJUAMYZACBQAA2vKTKSOMFkBJ8GHFVhAJq8omQKo8SVIANCBJUBG8CFVADPwNNGkCllzok1xJC1mhWqqcGgdcUZZUWNA4YRxTBBYQD8aOZkJf6IQerAgUEACH5BAUFAAEALPEAAgBVABIAAAj/AAMIHEiwoMGDCBMqDMBPzhk//RZKFLgsAJeJGBPKOaig4LYZBQYiAGJPoRwAKFEKZEBwY4d/GWO2DICgoAqC/ToEUKAjQI2QNSIiPImgg1GjKmAKdCmzaQCXSg+Sodlo4JkAAFRpBPDyn1evAxtdvDDQj9OJUBMiCVCC4L8IAMps7fo1as+CQc8uTIsQTACdA/spAGB2KNe6YJcuCUBhoByhBcdJlKsxAAOdF2qswanOgQC/Af4JCSDCJIDLETKvifr0r8SNCyNANgi7QE2sown66QDgQgm4K6yZBmBbZe6lrhcuKyKEufPm0BcnVHVEVb9/qnJgBQNZFciBPEsm/2xUHaYqG9sdJ9fr9F/PlwKtOQCgo1E/OTcBH6w78F8OAKUhp19C4ilUWEabhSQQEAGsgNMFAGCBEGJfoQEAAkoxtZdEssVUFQAC9VOadAP1hN5+FP5TVQFCmTUgQlotBMRsEvnlgED/lHZEQeidaFCK/4ABgANgqRPAjewF0A+NblVFkDVkzaBUTxtAJh8AU0T0j4SPCeTkQMtUAEBeoQE3GmVJ/rjBBUAsMYUOHSng5D9+IMAVFmUsEUEAEUgW2gYBrCXQBRu0+WZHDHwZABqNCURmmm6ZUBBXsFm150CU9geooGyllJIIlRJkj1kxQlqQimAgUQQWEB3UDxpIHBaxRJf9mSVcWFwssWporJmK0ZK+ZhQQACH5BAUFAAEALPEAAgBUABIAAAj/AAMIHEiwoMGDCBMqDKBuDRpV/xYWXIbmTCOCcoqgkchxIZKDKgrKEQFgoAMu/RT++yfHhACTawL0OxIASMqOOAt+dFAQSESBqhQEqAAkgIqSWH4e/BcTwIUcOlQgACOQps2cWAV+vIqw6AZ+A4UEkKDUoDoHAIoQtLctgBwdAWYMXJa140e4CPutCCB2YCMABW4eVGsC4QaDSetK3CrYYI6aguUAcFC24IUAVA+eqRHgxUBVCC8ujJnwI4XDG3SAHshSAAM/AtUVFtKYoLoCARoV2RChQxF1A63WNkhz4YzKBD8GUIA7AAIyjck4KNBhOQIgYBFKRtABgIIIAi9Y/6sKebREMgrLcBkXcU0J542UrjFRUmCEJcMHrgHAf0q/fn6AJ1cAwilmYD+HFSXQGQUggMQy9pRRQQA6ICeQZADEQNBGBQBXoELjLbQaTmK9J1B1ygnUSAEFiGaQKvxhQdA/CAAQ04cJFafQcTnJWJ1AuLko0GFcJFQjdKxFAEAZASxRk0RMLjSFhQnB5cJAuMlREAUBFIkQfToGYE8BAMBGlYYGCrRSQv2MeCECAcgYHoVKofFSfDKJxZ5AXAAgQXb/iBVBRKoIUIANammZJkL2CGCCEFgsMQNuHQjWZ1xgkCEEnC/8xE9Jftz0D0kbYEGGDgIAkFmTDAzk5aIG2UUjFEECzDBOQUvASdAMwAn0aQChqmlNYQMpMIVB42h5K6zaYXHEEWBAdJA6ZBxRBBd4YiTmjCwtUQQYbTGLVUpUintQQAAAIfkEBQUAAQAs8QACAFQAEgAACP8AAwgcSLCgwYMIEyoMYE/OGT8LDf6b+I/gsiNg+kXcqFDOQQcaB1qLUWAgAiD8FIoAwBLAQJb8/q0JIKIix5sFPSIoqIJgvw0BFOgIUKOkDYU6Oihd6gDABYEza+KcKtCjCIVkAiBQFbJMAAHLElK0GaADgCMBGmEJsOGMQIhUN1oNKbFIABME/zVFI3biQD8AClgLkMPg0bgRrSrkQpPsPwUAGvUlqwOAi6pIAjytSpbguIheE3pk0EFzjZkE1TUlo7GfkAAlOucd+68fAwBZoTZeiFphhI4CC+wMAMAuQTlmL5iIAKDFtskUwQRw4DdAVNkGlwkpsr079+9LFDb/OqJKoKqjuOmqmlFSoAIg6qBPNAEASPXriPP/K3xV4LKmOjTSjxw9lYbQWAGoUkBkFFm3m0L2RATXTXwNF8BQLxDEDwUAMHYQgkIAUEI/DeKnUG8J/YYTRAVo9E9pUxRU2FAHUsQcFyT65VEH2BUk2UJATMWYAwOVtgRdRBE22RkAKGAPgp9FgGR+Yv0oUgVJCnRUB3Qtw0AAawXwz1pyhETRDAAc1aCYzLnwWmhUfnjBBkAsMYUOCgTAAFdvldQBFmUs8VsEEYr51BKOqYMAAGsgGEA/Z0gwkA09xvlPCQUBIIIfSJahYpFW/nOoY+FtkCN29kBUXpwJNcLFEkVgGjGhT5AiccQSZRYE0WAElafKmqxOVV2wNwUEACH5BAUFAAEALPEAAgBUABEAAAj/AAMIHEiwoMGDCBMqDKAuQBlVCwtaW7PGWkE5Ac5E3LgQy8ESBf2UADDQwZJ/Cv+VuUCwQpl/KKcEyMGx5kGPDgrqILgsZwQgAVqQXNIv4ZoCJIUIEQGgABqBMmnanCrQow2UCIUEkGAPK5IADrAeVAHgBcEYAVT0kwPUxdMAEKlutCrW4IwAQIoK3EbSXsIKAMDo/UcGgIQAIgwSlRuRbkKgNgg2AoCgbsGRHgX+4wIg8ZqdKgY2Qjh64RqFHiNsCLBBh5+QBRBgDGDP7M6EnCssC/Bv2QUAXKDOjChzYeiEmREUEFgATMEyEQR0KMGggA5+C5coQCBCBAIFiwNE/404W6Fzo1O2CZRjIkCB1wPlkB0Y4YjehGA6ANjP+rz44YwF2E9iUgVwVAFHqMLPGatFhhwADnAxzjhgOABAceMtpN5CpdW0BGsDgaTVQMsgEEB5BfWjAABl8NZPP2cAoEBRGSpUnELH1eRcBVgpcOJ9iP13kB9NaQbTPwgAgJFVEb2lUHgcAQWSQCaiUVcHAXw4ZFNdHdkPUhi1mGOAVPnh41cCJVaDWHIsJ4deRcCFUj9JTtEPTAFgQRl21hRQQA1xvklmQgWANMUSNSx3QVcCFRaAC8EJ4aMJYi13mkBANKUDGGTogBRQvGGRk0BQDlrQqAMJ8MIydWHhI0EubDHInIED9QPEcvtpapA6GMlqqkEYHXEEF3EV9I89ZBxRBBaNWIaRXwK9uAwYRQwra0AAACH5BAUFAAEALPEAAgBVABEAAAj/AAMIHEiwoMGDCBMqHHim0cKCjcoEUIewzL+HGBVyOSjCoAmCDAL0W4iGIAIgIwdiCVAjo8uDG0MSzEFwW0EXApFcXFgigI6QNnYGWNnypVGBG4siLBIgAkWBSwLIRLghgI2BqhQEWLNTSAAVR48mVdhSh9Cn4xA2AiBgm1AgAWYI7FnwiNCwCccuVBpAlcCUBssAcHAXTAAHBT8u9IsXaUGaEAVyDcAvRgDIB88M/rfz30YAaYeyfLhyoWKEGw1yuXsmQIGqAjEfXAYAQCPOnHPU9jOSKMYiQoALD07cKNgAcu4WRLxQBIAS6jifKVB7jUDfjfH+66lUDoIATO1Zx2cJ2KAfBYNViBAQgbqf66MXhs6ecGS/j3AJahV5kHOjGQwAoEAMcgQAgD3w8YVQaQqd9pIEA4U02UA9RdUfZwWRAQAFOyVV3kHjKaTTS151JJBWEh30oUC43RUDAEDsVFIJytH30hHlyWXQhEcQ1OJOYAioyk6h6WhjQgiI4JVVAlVw0AoCMRVACR+WJBAYGwCBxRIvABDAagSlJpBdRz7kpWoGrWCNSQFYGYCGZx5GRo1lZoSElCIu9FQA/yzDBRJLWHRXQAAAIfkEBQUAAQAs8QACAFQAEQAACP8AAwgcSLCgwYMIEyoMoOoMmm0LC1pD8/DgmYgYFy45aOJfwRIDC8wY51GhuhoFBBawoW7gRh0ZYx7c6KAgzIGNGAS4IARIhAAi+in8ZyLATyE/V7gMcFOm0wAvhSKMAZSfQHUXoCoEE8ABxH7LapIRCCQA1adOoyLshyAAGoJcAmwoabBfCQBICBYJoCJAB4Mb0UZUe9AagAAtB/oJAADiwX4FADQiuFhBPzQ5+EacLFjgRgkDdXAWOA4AAGsl/8lhfPHg5AJSBUpVpbVpwsAKXSjETZDrQAYAwPwb/m+J6bgH3yqgG+CfggCrX2IUUoS69erYF6LBMm5g0QCjcwD/oKCq37/FprEgLAMggnmBw2telN5ZcL+/TbdJAIDARIkCCDgQXGwEoQEAA8QR99watUVkTUTlyXSEXx4NZ40ODghQgApy6LQGcwPJAUABCQ6X0mT07RaRbjLFtYFUxBGkyoj2IMRPZMsQ9JpAUwSQA4gGtaaiTGWpAONwBAkBwApIHtQBAFzE1qMIAo2lVH1oydHWEqk1CR0CAHw40F45CoQEABtYFQA/FwDQYwBl1jAQkFiqBJJAcsqlZgB+RADEEligBIAQXh4mh1T8VABACWSAIQIAWQ2EhU6e1YnQcwQJEMODOEU2kAJcMmcojI1sMBAAHdBWUHcBsGrpQVgcGTFhmQWpQ0ZeYPBDZwA1zvnPGUgs8dZAAQEAIfkEBQUAAQAs8QACAFUAEQAACP8AAwgcSLCgwYMIEyoMoG5NmUYLC/6b+M/guABc+kXcqFDVwQIF1dkAGQCACDkL+S0JsAFkjIkEIV7gSPOgR5IDS2gU2E9EAAU6hJQIwABiwmUAShYA8LLiQJk1ow70WMHpQSw/PQb4ZyOAC4XqdHBpVIQpRYGNwASIMNDPTqkLqVqVqCIAEILbCghYhpBixbJNnd4t+ALuRrl9Z3Ih2I/t4oN+AwCO7GfK2oFrENqLSKbjT58XZqAh+G8m1oH9HNjte3by2QBQFxpVqMBzgAK1S+ogWLjrU4E1WDsFvPVsbIUXFyJRaK2I0WU6BAA4HaBzgTMV1Q0NEEP4X6bFnR7tNwz3392ZAv/NCCBAhAoHAGbWmDvwNfHX4xHyi+gnKsqkqCFRgV4bgPGVEG+RBpNk4OEXAHoKzZZQbjRdBIA6B2n0DwUAdAZZa2YtGABVEVkT0W41lREAAvQRlBkD+3nnmlX94JYgeTWN00EALSQ0zgaSvbVYZulRNGN9GwBgghDV4aiQCBXosAQWQDCwYn/pdVADElwAoVoJMQrkkxBOmRdDDElGcGYNb60BYWFOIvQVQQBsIMdb/1RAkAA5bEaQT0UQlCSdAOA0kD39aRWnTVwsUcQUKBnUDxpLHMEFXwZBhClacnTqqRxuBRAQACH5BAUFAAEALPEAAgBUABEAAAj/AAMIHEiwoMGDCBMqDGBv4cF+jcqsGVewX4Ap/xxqVJjRIAB1BPnpQDBww5qFZV4gAAAgQIEVqgbyC+Bgo82DHQt2aCjwn4sACHIUMQFUjsIWNGPoiLEywjKBM2venNqTpkIyLv0MBBJAhEIhXPr9G6vKAQAg/VSdCcBgoJycVDlaTTgjgA2C9lZqdTj2XxEAHQIgMVjCYtyFGaUi9Dp44L8NgjX2xQI4QCMwARQQNFwQLkLMCTMWKBGgwgusBEkf4fyvQoAaksfGAJAD6lyFMxcW4GzQs8AanGu/ILisQIAVsckAKNDItuKEvA8KKcJRyN5tQIxTF3hSAGp+wwOQ3ebbSAGAxgGiHl4vcPBzHQEAIx2I3KGqCADgy7wd2uHbm9YIFFNPWEBWGhd35eBbQfe9VpB6C+Wm0G439WPcXp0J5BUWCy1DAQAzRGfRcwhFdxBwNxklAEgINSJAARQltMwFALwgVmcMFMAie1PZQ5RXCNnjlQ45YXaGYeNsAIALYvlGGpBgmMijQCtEEJlVBZw0UAl1BSCElRvwJBBS+gWgwnIvxKCmQEQK5IeB4kk5JWwFVYAGXEAKBOI2BZHZUQctGUQiP801NyVCy4AWgJadaYnFgAdB2ohROAUEACH5BAUFAAEALPAAAgBVABEAAAj/AAMIHEiwoMGDCBMqFLjtTIBlCwmOkxNAjjqDqgKAichxoUODEf4RXOZCwEAVGRWCoQBgIAATfvoNLBNAhcyOOAs6VFAwhkiB6igEiAAEyIah4xQKKSBiRoAZPBU0mlnzZs6rDk0oHbpNZj8VAXQoXGbvZ4BxFcIK9IMkQIeBU692zKrwQoApBOUAYGCV45EAJQQ6LajDrFyFdBMiCLCGYL8CjHMKeSpQzuSjAcjIMTwQokfEARy8vWBDTl+eaMzyM4l3rgIBjfv1o2lzIc2FmBF+RLA4gAAkZt8WIVim5WSFZSpQYABgAxmztPsebFRESPXr1q0HwKKQredGM1p+/wzQVgHFh3YDAFlIhjcAABS4EK96uP5Ap7UD8BMRoEAJEwoUEEEAxy30jzpLIAAAdwJFt9BFC8WFExmhqSZEBAIU0AEaRzGo0D8g/sMFABHw0yB9yEWUW0drAKAAZ44tFtOHIR74HoRoBKDVQn5EJASMCuFFAZACgQHABUQKVKNIfrx3UyNHJmnfQqoMKBZCjTgQgHwDLRFAjwI1UqNANQDQwU39MBBADAKlNmVCEXQAxBJT6LCYA9YQFEEOXurA0wyGDchlaHIugYUQLBVwm0BkDChQYW8e1M+KApkgoUC9CVQAEIb1I+hA/BVUQRkwqtOjZ5Ee5AcXSByBxaUD8RZzGxcQOtbjNgP9owoYSxSBVz8gBhAQACH5BAUFAAEALPAAAgBWABEAAAj/AAMIHEiwoMGDCBMqFNiozBp1Cwn+mzjx4JoAFyNqVAjk4IyCazoAEFhAh72FFCeKCABgzT+CHY9snHmwY4SCRfoNlIMgQAchOhwEePEyYUokAEbK0TmwY5GiNKM6ZXpwZYx+L5cJJaOwYiMEIhy0rIjxY46B1qLOnIpw28hGBGWq0FiiQCOxLgfeLMhVrUa2B+UAQAA1QJnBhQ8uAXCkH16oZV4EqCEQzDKEfiLK4RjgwgWfQFQV7Se4QGEybxWqUrBB52OBE50mNthxoY7ZTQUqKKD7zEB1vDMKrC38oIkCLv/hLSh7IRohRaBLj069jEIyXE72CxlAQVqBK3x+/1/T03BCLgCAYFXeknmAp37jC7R3UyZDoQpUiCjgQAFGhMsoEAFEAbCXV27wKXTZQqpEpcNQBKlSAwODveCHAAE06BEAU8jhoRwUgiHHOAjiBlNEt9FURAAmKLQGAA6QVVAJSdVYo0BYDCTEe1QhBEZEXEQVw2QKnXUWQkXEoOSSBQBgQgxrMDVFAEfKF5E9Cw6EBm9k9EhQGQXY9duO/BSV2GNQCYZADivCZSVCjRSgghBYIBEDhiZAdgEQWEwxA4Y5DqTKSN8VmJJyGCVWhH8C9fWmQaqUN1ABNhAo0IsEORBkhIQOdKiBCFmzmaWPFrTdewGAUShB24BxBBJdGgzEz2Y9HuqHHPwMFBAAIfkEBQUAAQAs8QACAFUAEgAACP8AAwgcSLCgwYMIEyoMoA5NGVULIw5cFoCLxIsJ5RxUUHDcjAICAZTws1AOgJMnBTIgqLHDP4wwWQZAUFAFQX4dAjjQIUSETogZASDoQJSoipcCW8ZcGqAl0oNIdFIM0G9GAKtBXf7bunVgI4sXBpJkGtEpwn8+ixCEWEBdVq5cB+owWKMf2ZIBXJ6NAIAMwX8K+to9aFIr3IFylgSggHhwx4hlFGpkkPNCjTUD//XjC+YvzSKOC5qkHMHymqdN85aNGCG0aIEFaAYAICSziQBAHGsMMBehSQCxU9ZGrHrhsiJCkCtPzlxxQlVHVPX7pyrHbDCDLSLAHGBbzgA2Ejb/iv5SVXgAnZMWv8v031y9Af6tCFBAhIrAFXifjSvwXw4APqn3nUL2RDQWRpiBNFA/RVBQgAAdkHHbEfvBtRUaQiGlFF4LtQZTI7MZZJdd/zgAABoVWghiAYORNOBzEeUGU2cOKHSGTglZyBUYADjQlVs1skeVa3+BSJA1Yc2AGkHLUADAEoP9g0VTgxk5UQUA1NUfXyvUFpmQB/2zwQVALDGFDhwpYOVLNiyBBRArqeCYmAFEJdAFG5R5JkcMWBkAGowJpCWYBf1zG0EAdLDblgQVoAM/f21Q50AloISSCIsSZA9JQBFaaCNgIFEEFn641g8/ZyxxBBfWGPQPSa16EMXFEqPGt6SnEvVDJK4JBQQAIfkEBQUAAQAs8QACAFQAEgAACP8AAwgcSLCgwYMIEyoMoKoMmnELDS5Dc6YRQTlF0ETcuBDJQRUF5YgAILBADXUL//2TY0LAQAdrAvQ7EgBIP444DXp0UBDIv4F+FATYAARIhAAlbib8FxPAhRw6VCAAI5CmzZxYBXq8inBFABP8BI6jEACLQnUOABQhaG9bADk6AswYuCwrR49xEfIrECDmQLMdfiJcawLhBoNYBNtVuFWpwUYACoQdKAeAAHuKC14IQPXgmRoBXgxUhdDiQr8IPVI4vEEH6dEk7RFcQ3JN5oHq+DYqsiFChyIoq9Z0jJDmwhm3CXoMoIBvAARklPZDEICMYuPRD1ZG0AGAgqMBLlj/E841IeqEZBSW4TLu55oSzxsJBn3htRwGArkgpA0AwJR+/fhx1FwBWEXcYlj1cxgQdB2lgAklFKAAT+lp118MBGlUAEoGLjTeQq/hJARSBC2TQ1oIqOAHdXIgpEp/Zg30DwIAxNShQsYphFxOgBn000+QIXAgQTRmJ9A/EQBQRgBL1BTRkgtNkZxCcbmgEIMYJmQCADkGYE8BAPjBWQBZIhiASgn1E6JAclAX40FrFFBAiwL1M2J7+QEgwWT/jBjBT6oIUIANa9Fp5kH2CGCCEFgsMQNfHTgmBwVATDFFDXytNRA/JPmh1D8jbYAFGToIAEBnTOKX36EI2SMUQQLMPgARUC4NpICUBHEagKdHWlOYrVMYNE6Ls7KqHRZHHAGGKrf9Mw4YSCBBhmwGtUjtkSstUQQYbhmb4Jne4hQQACH5BAUFAAEALPEAAgBUABIAAAj/AAMIHEiwoMGDCBMqDDAOTRlVCw3+m/iP4LIjYPpF3KhQzkEHGgeOmyFAIIASjRaKAMASwECW/P6tCSCiIsebBT0iKKiCoL0NARwEENIh6DKFOjooXeoAwAWBM2vinCrQowiFR4Ja09gvRoAaCinaDNABQNZGWAJsOCPQD1WOVkNKLIqEYEoE6hJSHOgHQAFrAXIYtPF2o1W9TcsQ/IcAABm9EwfqAOCiat2nVccSHBdRcUKPDIpeqDFz4L8IAR6bLhAg60GxE/sxcDwwquaDpRWi/iywwM4AAIoQLBEACMHSxl/DBhM0cgDbC5cJKTK9OvXrSxQ2OgIxgCrCjkOm/0VQ2lrRwAhh/zMBAIhz6IUL/xN8VWC/ngVEqFAgoEJxuYvtpUoBADSyF3wJ2RORWzihEcBv9hUhQQEFbFDGVXUpF5kQJ/VzIE23GZRbQrvd5FYBAAbQz4oB/NPUiAWJFQEAXHgYmUcdhFhQSgsldxMXQSmkWAQpBvjPGQAoYI9YDAVAZHwb/cPjQNb4BxZCy8y4hE3/pCVHSBTNAABhe7U4owtCBOAZlK9dsAEQS0yhgwIBMKAKmAHYsAQWQNC5wlj/PLWlaeo0tgaTKp4hwUA26MjmP8QRBIAIfsjlIkEF6ABgoAEMKtA/2W1gY4j2uNUdmwg1wsUSRWDBYEH8lBaxxBFcAGaQW7YOBJEqZaI6lXO+3hQQACH5BAUFAAEALPEAAgBUABEAAAj/AAMIHEiwoMGDCBMqDLCsDJptCwtaW7PGWkE5Ac5E3LgQy8ESBRuVACCwQIxxC/+VuUCwQpl//wJMCZCDo82DHh0U1EFQlU6WQCIE6NBP4ZoCJIUIEQGgABqBM2venCrQo42YCGcEEGEvproNAZYURagCwAuCMQKo6CcHSAAXTwOoosrRKtaDCgKUIQgmwIW7BisAADP2HxkAErYaFEs3ol2E6kiiHNiI5LKEIz0K/McFgIgAa3iqoIywUcQ1Cj1GALtBhx+C9kjOHeiH5F6EnStc/rfsAgAuUGlGnLlwdELNCAqU7LtZJ/CBxLkALrhEAQIRIhAoYCxT+EKMC5kj/1wzBWIAOSYCFHgtkGcE0wH86JQ59iCYDgDyB9ggPmrj/wH085lUAYxDQQAImFACAgg4N91AWADgABfjjAOGAwAQ599C5ikEn01L7EfQODo4IEAAJsihU1wG9aMAAHv9008/ZwCgQFEbKkScQsbZ1FcF08EUkzVNqYNQbcoFIOQ/CACAkVURsZgQdxy5BVJCRaiVEJJdCdkPUhjt1SOAU/mRFxIJyYEAaARlqUpM/TQ5RT8wBRAhAvwEYE0BBdSQpRz1kVlQASBNsUQNyl3QlUCNRKDDTDYoJ0SgyqEmEBBN6QAGGTog5ZaSWMwXVqCCDiSqQAK8sMxdqiQpEAIhDi7KpkD9AKFcfpkapA5GHZZ6UQBHHMHFbAWpQwYSSIBhz0EYLUtrP8uAUYSwHQYEACH5BAUFAAEALPEAAgBVABEAAAj/AAMIHEiwoMGDCBMqJGhtYcFGZQKoQ1jmn8OLCrkcFGHQRMGGC9EQRACkH0EsAWpgXHlQI4OCOQ5WEEhBIL+LJQLoeGnDokCUKlkKFagxKEKVHQbaS3rE58ENAWwMVKUgwBqfQgKoGDq0qMKXZAiGrYmwEQAB25wCCTBDYM6CTbk69IrQnsBlBFUJ1HuwDAAHTgOACeCgoMeFfOUG0EgwJsGbARoRlBwg7MEzf//5/KcRwLifKR2iXHgYIeOCXJxGEGgSdIDRBpcBANBIs+Ycs/2YBHqxiBDfwH8LF7o1gByLrSevDrAkoQgAJdRpPlNg9hrQRhUP/ZfTqLoLAz0Wx1gN26AfBX9ViBAQobof7A4/a1eYXGAEAAUjHtTcaAYDAArEIEcAANj1WmgLlYdQaSxJUFA/yW0jkIT7aVYQGQBQ4FNR9R103UJIBOZQVhwlhEQAJYg4kG2BxQAAED6JlOJ8ih3RIUFVnUHQEQSx6BMYAKrik3xt0agQAiJkFZVAM03VmEAwGiSSQGBsAAQWS7yAX2oEnRZAXEYuhF9BeBUUYkEIBDBlZbMN5AAZKoaJERJFLLQEjxMhlGcA/yzDBRJLVBRYQAAAIfkEBQUAAQAs8QACAFQAEQAACP8AAwgcSLCgwYMIEVpbU6YRQnsMVSU8aA0Nmm0Hz0zcyHHgv39+VAgY6KAMwX9CEAgEYELiRnU1CggsYEPdwCUBdHTcmfCfHAUAKNjQsUIBFo9CAijQUWRDAArjJv4zESBCACFWV9zMybNrQXsRAADpN5CftYGNChSQQ7afiABAJoIJ4ABjv2UOApARGDeG178BcL5NGHcGWYFo6CbsVwIAEoJFAqgI0MEgTsAcK3M5bPCfZoL9FATwwxl0AQAOB/pR2g9NDskcU2PuJ1MOkg4ROgiJKvCf6DUnLwQAUxptgAKlD0vEqXPj5YkuEqoCUKCxAqsAIiwbOLLRP49vlxT/R6z0u0fRcgJz5SikSPv37uNP9AOg/uN/jS4A0BqAH4AA1pj3kVZFmFdQGdn1I+A/eWnEHGY8NVLfZAOlB8BZAdTn3UcflRDAYwehAQADHHL4m3rNTYThRKqMJ5A69p3kAABlkIUAAGuU+I9TXCAkB3U6/iOTQw86x1F0Cc3Yo0cVAEBcABs4aSCDOCLEz2nbGSdTAFMEkIOBCGlkZEIuAJDUQP3cCJyXALxWIWsJdQDAZgN1Odhe/EHYERkAOMBPbzjlJdAaACjg0j8zBFADZAFk+SEAG/zZn35dNirQor3p2ZMJAFyABRk6nHZUbzEExQUZixrK2X9sCcRPkyWQRgGGCJ0ShAUDW2mK0D/j5BkAAuJ5ZM8LA2WXGEGsHoafUyt14BJBvPGm60EfybFEEVxI65FPSxxBhj0PnfTPGUgscaxAAQEAOw==\" />"
      ],
      "text/plain": [
       "Plots.AnimatedGif(\"c:\\\\Users\\\\Alexander\\\\Julia Projects\\\\LatticeModels\\\\lol.gif\")"
      ]
     },
     "metadata": {},
     "output_type": "display_data"
    }
   ],
   "source": [
    "gif(a, \"lol.gif\")"
   ]
  },
  {
   "cell_type": "code",
   "execution_count": 13,
   "metadata": {},
   "outputs": [],
   "source": [
    "using BenchmarkTools\n",
    "import ProfileVega as PV"
   ]
  },
  {
   "cell_type": "code",
   "execution_count": 6,
   "metadata": {},
   "outputs": [
    {
     "data": {
      "text/plain": [
       "BenchmarkTools.Trial: 238 samples with 1 evaluation.\n",
       " Range \u001b[90m(\u001b[39m\u001b[36m\u001b[1mmin\u001b[22m\u001b[39m … \u001b[35mmax\u001b[39m\u001b[90m):  \u001b[39m\u001b[36m\u001b[1m16.710 ms\u001b[22m\u001b[39m … \u001b[35m34.280 ms\u001b[39m  \u001b[90m┊\u001b[39m GC \u001b[90m(\u001b[39mmin … max\u001b[90m): \u001b[39m 0.00% … 18.00%\n",
       " Time  \u001b[90m(\u001b[39m\u001b[34m\u001b[1mmedian\u001b[22m\u001b[39m\u001b[90m):     \u001b[39m\u001b[34m\u001b[1m21.073 ms              \u001b[22m\u001b[39m\u001b[90m┊\u001b[39m GC \u001b[90m(\u001b[39mmedian\u001b[90m):    \u001b[39m15.18%\n",
       " Time  \u001b[90m(\u001b[39m\u001b[32m\u001b[1mmean\u001b[22m\u001b[39m ± \u001b[32mσ\u001b[39m\u001b[90m):   \u001b[39m\u001b[32m\u001b[1m21.047 ms\u001b[22m\u001b[39m ± \u001b[32m 2.544 ms\u001b[39m  \u001b[90m┊\u001b[39m GC \u001b[90m(\u001b[39mmean ± σ\u001b[90m):  \u001b[39m12.20% ±  8.67%\n",
       "\n",
       "  \u001b[39m \u001b[39m \u001b[39m \u001b[39m▁\u001b[39m▁\u001b[39m▆\u001b[39m▁\u001b[39m▃\u001b[39m▁\u001b[39m▁\u001b[39m \u001b[39m \u001b[39m \u001b[39m \u001b[39m \u001b[39m \u001b[39m▁\u001b[39m \u001b[39m█\u001b[39m▅\u001b[34m \u001b[39m\u001b[39m▄\u001b[39m▃\u001b[39m▅\u001b[39m▁\u001b[39m▁\u001b[39m▃\u001b[39m▁\u001b[39m▁\u001b[39m▄\u001b[39m \u001b[39m \u001b[39m \u001b[39m \u001b[39m \u001b[39m \u001b[39m \u001b[39m \u001b[39m \u001b[39m \u001b[39m \u001b[39m \u001b[39m \u001b[39m \u001b[39m \u001b[39m \u001b[39m \u001b[39m \u001b[39m \u001b[39m \u001b[39m \u001b[39m \u001b[39m \u001b[39m \u001b[39m \u001b[39m \u001b[39m \u001b[39m \u001b[39m \u001b[39m \u001b[39m \n",
       "  \u001b[39m▃\u001b[39m▄\u001b[39m▅\u001b[39m█\u001b[39m█\u001b[39m█\u001b[39m█\u001b[39m█\u001b[39m█\u001b[39m█\u001b[39m▁\u001b[39m▅\u001b[39m▃\u001b[39m▆\u001b[39m▃\u001b[39m▅\u001b[39m█\u001b[39m▇\u001b[39m█\u001b[39m█\u001b[34m█\u001b[39m\u001b[39m█\u001b[39m█\u001b[39m█\u001b[39m█\u001b[39m█\u001b[39m█\u001b[39m█\u001b[39m█\u001b[39m█\u001b[39m▇\u001b[39m▆\u001b[39m▆\u001b[39m▆\u001b[39m▅\u001b[39m▁\u001b[39m▅\u001b[39m▁\u001b[39m▃\u001b[39m▁\u001b[39m▃\u001b[39m▁\u001b[39m▃\u001b[39m▁\u001b[39m▁\u001b[39m▃\u001b[39m▁\u001b[39m▁\u001b[39m▁\u001b[39m▁\u001b[39m▁\u001b[39m▃\u001b[39m▃\u001b[39m▁\u001b[39m▁\u001b[39m▁\u001b[39m▁\u001b[39m▁\u001b[39m▄\u001b[39m \u001b[39m▄\n",
       "  16.7 ms\u001b[90m         Histogram: frequency by time\u001b[39m        29.5 ms \u001b[0m\u001b[1m<\u001b[22m\n",
       "\n",
       " Memory estimate\u001b[90m: \u001b[39m\u001b[33m29.25 MiB\u001b[39m, allocs estimate\u001b[90m: \u001b[39m\u001b[33m374255\u001b[39m."
      ]
     },
     "metadata": {},
     "output_type": "display_data"
    }
   ],
   "source": [
    "# Before\n",
    "@benchmark @hamiltonian begin \n",
    "    lattice := l\n",
    "    field := Landau(0.5)\n",
    "    @diag [1 0; 0 -1]\n",
    "    @hop axis=1 [1 -im; -im -1] / 2\n",
    "    @hop axis=2 [1 1; -1 -1] / 2\n",
    "end"
   ]
  },
  {
   "cell_type": "code",
   "execution_count": 11,
   "metadata": {},
   "outputs": [
    {
     "data": {
      "text/plain": [
       "BenchmarkTools.Trial: 4533 samples with 1 evaluation.\n",
       " Range \u001b[90m(\u001b[39m\u001b[36m\u001b[1mmin\u001b[22m\u001b[39m … \u001b[35mmax\u001b[39m\u001b[90m):  \u001b[39m\u001b[36m\u001b[1m628.800 μs\u001b[22m\u001b[39m … \u001b[35m  8.152 ms\u001b[39m  \u001b[90m┊\u001b[39m GC \u001b[90m(\u001b[39mmin … max\u001b[90m): \u001b[39m 0.00% … 83.62%\n",
       " Time  \u001b[90m(\u001b[39m\u001b[34m\u001b[1mmedian\u001b[22m\u001b[39m\u001b[90m):     \u001b[39m\u001b[34m\u001b[1m775.700 μs               \u001b[22m\u001b[39m\u001b[90m┊\u001b[39m GC \u001b[90m(\u001b[39mmedian\u001b[90m):    \u001b[39m 0.00%\n",
       " Time  \u001b[90m(\u001b[39m\u001b[32m\u001b[1mmean\u001b[22m\u001b[39m ± \u001b[32mσ\u001b[39m\u001b[90m):   \u001b[39m\u001b[32m\u001b[1m  1.097 ms\u001b[22m\u001b[39m ± \u001b[32m811.007 μs\u001b[39m  \u001b[90m┊\u001b[39m GC \u001b[90m(\u001b[39mmean ± σ\u001b[90m):  \u001b[39m15.70% ± 16.67%\n",
       "\n",
       "  \u001b[39m█\u001b[39m▇\u001b[34m▅\u001b[39m\u001b[39m▅\u001b[39m▄\u001b[39m▄\u001b[39m▄\u001b[32m▃\u001b[39m\u001b[39m▄\u001b[39m▄\u001b[39m▃\u001b[39m▃\u001b[39m▂\u001b[39m▁\u001b[39m▁\u001b[39m \u001b[39m \u001b[39m \u001b[39m \u001b[39m \u001b[39m \u001b[39m \u001b[39m \u001b[39m \u001b[39m \u001b[39m \u001b[39m \u001b[39m \u001b[39m \u001b[39m \u001b[39m \u001b[39m \u001b[39m \u001b[39m \u001b[39m \u001b[39m \u001b[39m \u001b[39m \u001b[39m \u001b[39m \u001b[39m \u001b[39m \u001b[39m \u001b[39m \u001b[39m \u001b[39m \u001b[39m \u001b[39m \u001b[39m \u001b[39m \u001b[39m \u001b[39m \u001b[39m \u001b[39m \u001b[39m \u001b[39m \u001b[39m \u001b[39m \u001b[39m \u001b[39m \u001b[39m \u001b[39m \u001b[39m▁\n",
       "  \u001b[39m█\u001b[39m█\u001b[34m█\u001b[39m\u001b[39m█\u001b[39m█\u001b[39m█\u001b[39m█\u001b[32m█\u001b[39m\u001b[39m█\u001b[39m█\u001b[39m█\u001b[39m█\u001b[39m█\u001b[39m█\u001b[39m█\u001b[39m█\u001b[39m█\u001b[39m▇\u001b[39m█\u001b[39m▇\u001b[39m▇\u001b[39m▅\u001b[39m▆\u001b[39m▅\u001b[39m▃\u001b[39m▅\u001b[39m▅\u001b[39m▁\u001b[39m▅\u001b[39m▃\u001b[39m▁\u001b[39m▅\u001b[39m▁\u001b[39m▆\u001b[39m▆\u001b[39m▆\u001b[39m▇\u001b[39m█\u001b[39m█\u001b[39m█\u001b[39m▇\u001b[39m█\u001b[39m█\u001b[39m▇\u001b[39m█\u001b[39m▆\u001b[39m█\u001b[39m▆\u001b[39m▇\u001b[39m▅\u001b[39m▅\u001b[39m▅\u001b[39m▅\u001b[39m▆\u001b[39m▅\u001b[39m▅\u001b[39m▄\u001b[39m▄\u001b[39m▆\u001b[39m▅\u001b[39m▅\u001b[39m \u001b[39m█\n",
       "  629 μs\u001b[90m        \u001b[39m\u001b[90mHistogram: \u001b[39m\u001b[90m\u001b[1mlog(\u001b[22m\u001b[39m\u001b[90mfrequency\u001b[39m\u001b[90m\u001b[1m)\u001b[22m\u001b[39m\u001b[90m by time\u001b[39m        4.6 ms \u001b[0m\u001b[1m<\u001b[22m\n",
       "\n",
       " Memory estimate\u001b[90m: \u001b[39m\u001b[33m4.57 MiB\u001b[39m, allocs estimate\u001b[90m: \u001b[39m\u001b[33m4543\u001b[39m."
      ]
     },
     "metadata": {},
     "output_type": "display_data"
    }
   ],
   "source": [
    "# optimize lattice iter\n",
    "# optimize hopping match checker\n",
    "# save propagate result\n",
    "# no function call if not defined\n",
    "# reduce field apply overhead\n",
    "@benchmark @hamiltonian begin\n",
    "    lattice := l\n",
    "    field := Landau(0.5)\n",
    "    @diag [1 0; 0 -1]\n",
    "    @hop axis=1 [1 -im; -im -1] / 2\n",
    "    @hop axis=2 [1 1; -1 -1] / 2\n",
    "end"
   ]
  },
  {
   "cell_type": "code",
   "execution_count": 6,
   "metadata": {},
   "outputs": [
    {
     "data": {
      "text/plain": [
       "Hopping\n",
       "Connects site #1 with site #1 translated by [1]\n",
       "Boundary conditions: open\n",
       "Hopping operator matrix: ComplexF64[0.5 + 0.0im 0.0 - 0.5im; 0.0 - 0.5im -0.5 + 0.0im]"
      ]
     },
     "metadata": {},
     "output_type": "display_data"
    }
   ],
   "source": [
    "hp = Hopping(axis=1, hop_operator = [1 -im; -im -1] / 2)"
   ]
  },
  {
   "cell_type": "code",
   "execution_count": 7,
   "metadata": {},
   "outputs": [
    {
     "data": {
      "text/plain": [
       "BenchmarkTools.Trial: 10000 samples with 1 evaluation.\n",
       " Range \u001b[90m(\u001b[39m\u001b[36m\u001b[1mmin\u001b[22m\u001b[39m … \u001b[35mmax\u001b[39m\u001b[90m):  \u001b[39m\u001b[36m\u001b[1m235.000 μs\u001b[22m\u001b[39m … \u001b[35m  5.072 ms\u001b[39m  \u001b[90m┊\u001b[39m GC \u001b[90m(\u001b[39mmin … max\u001b[90m): \u001b[39m 0.00% … 93.36%\n",
       " Time  \u001b[90m(\u001b[39m\u001b[34m\u001b[1mmedian\u001b[22m\u001b[39m\u001b[90m):     \u001b[39m\u001b[34m\u001b[1m264.850 μs               \u001b[22m\u001b[39m\u001b[90m┊\u001b[39m GC \u001b[90m(\u001b[39mmedian\u001b[90m):    \u001b[39m 0.00%\n",
       " Time  \u001b[90m(\u001b[39m\u001b[32m\u001b[1mmean\u001b[22m\u001b[39m ± \u001b[32mσ\u001b[39m\u001b[90m):   \u001b[39m\u001b[32m\u001b[1m337.559 μs\u001b[22m\u001b[39m ± \u001b[32m239.668 μs\u001b[39m  \u001b[90m┊\u001b[39m GC \u001b[90m(\u001b[39mmean ± σ\u001b[90m):  \u001b[39m10.59% ± 13.34%\n",
       "\n",
       "  \u001b[39m█\u001b[34m▆\u001b[39m\u001b[39m▆\u001b[39m▅\u001b[39m▄\u001b[32m▄\u001b[39m\u001b[39m▄\u001b[39m▄\u001b[39m▃\u001b[39m▃\u001b[39m▂\u001b[39m▂\u001b[39m▂\u001b[39m▁\u001b[39m▁\u001b[39m▁\u001b[39m \u001b[39m \u001b[39m \u001b[39m \u001b[39m \u001b[39m \u001b[39m \u001b[39m \u001b[39m \u001b[39m \u001b[39m \u001b[39m \u001b[39m \u001b[39m \u001b[39m \u001b[39m \u001b[39m \u001b[39m \u001b[39m \u001b[39m \u001b[39m \u001b[39m \u001b[39m \u001b[39m \u001b[39m \u001b[39m \u001b[39m \u001b[39m \u001b[39m \u001b[39m \u001b[39m \u001b[39m \u001b[39m \u001b[39m \u001b[39m \u001b[39m \u001b[39m \u001b[39m \u001b[39m \u001b[39m \u001b[39m \u001b[39m \u001b[39m \u001b[39m \u001b[39m \u001b[39m \u001b[39m▂\n",
       "  \u001b[39m█\u001b[34m█\u001b[39m\u001b[39m█\u001b[39m█\u001b[39m█\u001b[32m█\u001b[39m\u001b[39m█\u001b[39m█\u001b[39m█\u001b[39m█\u001b[39m█\u001b[39m█\u001b[39m█\u001b[39m█\u001b[39m█\u001b[39m█\u001b[39m█\u001b[39m█\u001b[39m▇\u001b[39m▇\u001b[39m▇\u001b[39m▇\u001b[39m▅\u001b[39m▅\u001b[39m▄\u001b[39m▄\u001b[39m▅\u001b[39m▄\u001b[39m▁\u001b[39m▁\u001b[39m▃\u001b[39m▁\u001b[39m▄\u001b[39m▁\u001b[39m▁\u001b[39m▄\u001b[39m▁\u001b[39m▁\u001b[39m▁\u001b[39m▁\u001b[39m▁\u001b[39m▁\u001b[39m▁\u001b[39m▁\u001b[39m▅\u001b[39m▆\u001b[39m█\u001b[39m█\u001b[39m▇\u001b[39m▇\u001b[39m▅\u001b[39m▆\u001b[39m▅\u001b[39m▆\u001b[39m▅\u001b[39m▆\u001b[39m▆\u001b[39m▅\u001b[39m▄\u001b[39m▅\u001b[39m▅\u001b[39m \u001b[39m█\n",
       "  235 μs\u001b[90m        \u001b[39m\u001b[90mHistogram: \u001b[39m\u001b[90m\u001b[1mlog(\u001b[22m\u001b[39m\u001b[90mfrequency\u001b[39m\u001b[90m\u001b[1m)\u001b[22m\u001b[39m\u001b[90m by time\u001b[39m       1.49 ms \u001b[0m\u001b[1m<\u001b[22m\n",
       "\n",
       " Memory estimate\u001b[90m: \u001b[39m\u001b[33m1.29 MiB\u001b[39m, allocs estimate\u001b[90m: \u001b[39m\u001b[33m995\u001b[39m."
      ]
     },
     "metadata": {},
     "output_type": "display_data"
    }
   ],
   "source": [
    "@benchmark hopping_operator(_ -> true, l, hp)"
   ]
  },
  {
   "cell_type": "code",
   "execution_count": 4,
   "metadata": {},
   "outputs": [
    {
     "data": {
      "text/plain": [
       "BenchmarkTools.Trial: 10000 samples with 1 evaluation.\n",
       " Range \u001b[90m(\u001b[39m\u001b[36m\u001b[1mmin\u001b[22m\u001b[39m … \u001b[35mmax\u001b[39m\u001b[90m):  \u001b[39m\u001b[36m\u001b[1m 9.700 μs\u001b[22m\u001b[39m … \u001b[35m  4.604 ms\u001b[39m  \u001b[90m┊\u001b[39m GC \u001b[90m(\u001b[39mmin … max\u001b[90m): \u001b[39m 0.00% … 97.36%\n",
       " Time  \u001b[90m(\u001b[39m\u001b[34m\u001b[1mmedian\u001b[22m\u001b[39m\u001b[90m):     \u001b[39m\u001b[34m\u001b[1m17.400 μs               \u001b[22m\u001b[39m\u001b[90m┊\u001b[39m GC \u001b[90m(\u001b[39mmedian\u001b[90m):    \u001b[39m 0.00%\n",
       " Time  \u001b[90m(\u001b[39m\u001b[32m\u001b[1mmean\u001b[22m\u001b[39m ± \u001b[32mσ\u001b[39m\u001b[90m):   \u001b[39m\u001b[32m\u001b[1m38.504 μs\u001b[22m\u001b[39m ± \u001b[32m107.316 μs\u001b[39m  \u001b[90m┊\u001b[39m GC \u001b[90m(\u001b[39mmean ± σ\u001b[90m):  \u001b[39m22.59% ± 10.99%\n",
       "\n",
       "  \u001b[39m█\u001b[34m▇\u001b[39m\u001b[39m▅\u001b[39m▅\u001b[32m▄\u001b[39m\u001b[39m▂\u001b[39m▂\u001b[39m▁\u001b[39m \u001b[39m▁\u001b[39m \u001b[39m▂\u001b[39m▃\u001b[39m \u001b[39m \u001b[39m \u001b[39m \u001b[39m \u001b[39m \u001b[39m \u001b[39m \u001b[39m \u001b[39m \u001b[39m \u001b[39m \u001b[39m \u001b[39m \u001b[39m \u001b[39m \u001b[39m \u001b[39m \u001b[39m \u001b[39m \u001b[39m \u001b[39m \u001b[39m \u001b[39m \u001b[39m \u001b[39m \u001b[39m \u001b[39m \u001b[39m \u001b[39m \u001b[39m \u001b[39m \u001b[39m \u001b[39m \u001b[39m \u001b[39m \u001b[39m \u001b[39m \u001b[39m \u001b[39m \u001b[39m \u001b[39m \u001b[39m \u001b[39m \u001b[39m \u001b[39m \u001b[39m \u001b[39m \u001b[39m▂\n",
       "  \u001b[39m█\u001b[34m█\u001b[39m\u001b[39m█\u001b[39m█\u001b[32m█\u001b[39m\u001b[39m█\u001b[39m█\u001b[39m█\u001b[39m█\u001b[39m█\u001b[39m█\u001b[39m█\u001b[39m█\u001b[39m█\u001b[39m█\u001b[39m█\u001b[39m▇\u001b[39m▆\u001b[39m▇\u001b[39m▆\u001b[39m▅\u001b[39m▇\u001b[39m▇\u001b[39m▆\u001b[39m▇\u001b[39m▅\u001b[39m▆\u001b[39m▆\u001b[39m▆\u001b[39m▆\u001b[39m▇\u001b[39m▅\u001b[39m▆\u001b[39m▄\u001b[39m▄\u001b[39m▄\u001b[39m▅\u001b[39m▄\u001b[39m▁\u001b[39m▁\u001b[39m▃\u001b[39m▃\u001b[39m▄\u001b[39m▁\u001b[39m▃\u001b[39m▄\u001b[39m▁\u001b[39m▄\u001b[39m▁\u001b[39m▁\u001b[39m▄\u001b[39m▁\u001b[39m▁\u001b[39m▁\u001b[39m▃\u001b[39m▁\u001b[39m▄\u001b[39m▅\u001b[39m▆\u001b[39m▇\u001b[39m \u001b[39m█\n",
       "  9.7 μs\u001b[90m        \u001b[39m\u001b[90mHistogram: \u001b[39m\u001b[90m\u001b[1mlog(\u001b[22m\u001b[39m\u001b[90mfrequency\u001b[39m\u001b[90m\u001b[1m)\u001b[22m\u001b[39m\u001b[90m by time\u001b[39m       427 μs \u001b[0m\u001b[1m<\u001b[22m\n",
       "\n",
       " Memory estimate\u001b[90m: \u001b[39m\u001b[33m626.33 KiB\u001b[39m, allocs estimate\u001b[90m: \u001b[39m\u001b[33m24\u001b[39m."
      ]
     },
     "metadata": {},
     "output_type": "display_data"
    }
   ],
   "source": [
    "@benchmark diag_operator([1 0; 0 1], l)"
   ]
  },
  {
   "cell_type": "code",
   "execution_count": 16,
   "metadata": {},
   "outputs": [
    {
     "data": {
      "text/plain": [
       "quote\n",
       "    \u001b[90m#= c:\\Users\\Alexander\\Julia Projects\\LatticeModels\\src\\hamiltonian.jl:76 =#\u001b[39m\n",
       "    var\"#74#H\" = LatticeModels._fast_sum(LatticeModels.diag_operator([1 0; 0 -1], l), LatticeModels.hopping_operator((site->begin\n",
       "                        \u001b[90m#= c:\\Users\\Alexander\\Julia Projects\\LatticeModels\\src\\hamiltonian.jl:46 =#\u001b[39m\n",
       "                        true\n",
       "                    end), l, LatticeModels.Hopping(hop_operator = [1 -im; -im -1] / 2, axis = 1), field = Landau(0.5)), LatticeModels.hopping_operator((site->begin\n",
       "                        \u001b[90m#= c:\\Users\\Alexander\\Julia Projects\\LatticeModels\\src\\hamiltonian.jl:46 =#\u001b[39m\n",
       "                        true\n",
       "                    end), l, LatticeModels.Hopping(hop_operator = [1 1; -1 -1] / 2, axis = 2), field = Landau(0.5)))\n",
       "end"
      ]
     },
     "metadata": {},
     "output_type": "display_data"
    }
   ],
   "source": [
    "@macroexpand @hamiltonian begin\n",
    "    lattice := l\n",
    "    field := Landau(0.5)\n",
    "    @diag [1 0; 0 -1]\n",
    "    @hop axis=1 [1 -im; -im -1] / 2\n",
    "    @hop axis=2 [1 1; -1 -1] / 2\n",
    "end"
   ]
  },
  {
   "cell_type": "code",
   "execution_count": 10,
   "metadata": {},
   "outputs": [
    {
     "data": {
      "text/plain": [
       ":(LatticeModels.diag_operator(l, [1 0; 0 -1]) + LatticeModels.hopping_operator(l, LatticeModels.Hopping(hop_operator = [1 -im; -im -1] / 2, axis = 1), field = Landau(0.5)) + LatticeModels.hopping_operator(l, LatticeModels.Hopping(hop_operator = [1 1; -1 -1] / 2, axis = 2), field = Landau(0.5)))"
      ]
     },
     "metadata": {},
     "output_type": "display_data"
    }
   ],
   "source": [
    "# PV.@profview for _ in 1:100 \n",
    "@macroexpand    @hamiltonian begin\n",
    "        lattice := l\n",
    "        field := Landau(0.5)\n",
    "        @diag [1 0; 0 -1]\n",
    "        @hop axis=1 [1 -im; -im -1] / 2\n",
    "        @hop axis=2 [1 1; -1 -1] / 2\n",
    "    end\n",
    "# end"
   ]
  },
  {
   "cell_type": "code",
   "execution_count": 11,
   "metadata": {},
   "outputs": [
    {
     "data": {
      "application/vnd.vegalite.v4+json": {
       "data": {
        "values": [
         {
          "level": 0,
          "sf": "ip:0x0",
          "status": "Default",
          "x1": 1,
          "x2": 52.9
         },
         {
          "level": 1,
          "sf": "_start() at client.jl:522",
          "status": "Default",
          "x1": 1,
          "x2": 52.9
         },
         {
          "level": 2,
          "sf": "exec_options(opts::Base.JLOptions) at client.jl:303",
          "status": "Default",
          "x1": 1,
          "x2": 52.9
         },
         {
          "level": 3,
          "sf": "include(mod::Module, _path::String) at Base.jl:419",
          "status": "Default",
          "x1": 1,
          "x2": 52.9
         },
         {
          "level": 4,
          "sf": "_include(mapexpr::Function, mod::Module, _path::String) at loading.jl:1488",
          "status": "Default",
          "x1": 1,
          "x2": 52.9
         },
         {
          "level": 5,
          "sf": "include_string(mapexpr::typeof(identity), mod::Module, code::String, filename::String) at loading.jl:1428",
          "status": "Default",
          "x1": 1,
          "x2": 52.9
         },
         {
          "level": 6,
          "sf": "eval at boot.jl:368 [inlined]",
          "status": "Default",
          "x1": 1,
          "x2": 52.9
         },
         {
          "level": 7,
          "sf": "top-level scope at notebook.jl:32",
          "status": "Default",
          "x1": 1,
          "x2": 52.9
         },
         {
          "level": 8,
          "sf": "(::VSCodeServer.var\"#serve_notebook##kw\")(::NamedTuple{(:crashreporting_pipename,), Tuple{String}}, ::typeof(VSCodeServer.serve_notebook), pipename::String, outputchannel_logger::Base.CoreLogging.SimpleLogger) at serve_notebook.jl:75",
          "status": "Default",
          "x1": 1,
          "x2": 52.9
         },
         {
          "level": 9,
          "sf": "serve_notebook(pipename::String, outputchannel_logger::Base.CoreLogging.SimpleLogger; crashreporting_pipename::String) at serve_notebook.jl:139",
          "status": "Default",
          "x1": 1,
          "x2": 52.9
         },
         {
          "level": 10,
          "sf": "dispatch_msg(x::VSCodeServer.JSONRPC.JSONRPCEndpoint{Base.PipeEndpoint, Base.PipeEndpoint}, dispatcher::VSCodeServer.JSONRPC.MsgDispatcher, msg::Dict{String, Any}) at typed.jl:67",
          "status": "Default",
          "x1": 1,
          "x2": 52.9
         },
         {
          "level": 11,
          "sf": "notebook_runcell_request(conn::VSCodeServer.JSONRPC.JSONRPCEndpoint{Base.PipeEndpoint, Base.PipeEndpoint}, params::VSCodeServer.NotebookRunCellArguments) at serve_notebook.jl:13",
          "status": "Default",
          "x1": 1,
          "x2": 52.9
         },
         {
          "level": 12,
          "sf": "withpath(f::VSCodeServer.var\"#198#199\"{VSCodeServer.NotebookRunCellArguments, String}, path::String) at repl.jl:249",
          "status": "Default",
          "x1": 1,
          "x2": 52.9
         },
         {
          "level": 13,
          "sf": "(::VSCodeServer.var\"#198#199\"{VSCodeServer.NotebookRunCellArguments, String})() at serve_notebook.jl:19",
          "status": "Default",
          "x1": 1,
          "x2": 52.9
         },
         {
          "level": 14,
          "sf": "invokelatest at essentials.jl:726 [inlined]",
          "status": "Default",
          "x1": 1,
          "x2": 52.9
         },
         {
          "level": 15,
          "sf": "#invokelatest#2 at essentials.jl:729 [inlined]",
          "status": "Default",
          "x1": 1,
          "x2": 52.9
         },
         {
          "level": 16,
          "sf": "include_string(mapexpr::typeof(REPL.softscope), mod::Module, code::String, filename::String) at loading.jl:1428",
          "status": "Default",
          "x1": 1,
          "x2": 52.9
         },
         {
          "level": 17,
          "sf": "eval at boot.jl:368 [inlined]",
          "status": "Default",
          "x1": 1,
          "x2": 52.9
         },
         {
          "level": 18,
          "sf": "hopping_operator(f::Function, l::SquareLattice, hop::Hopping{Matrix{ComplexF64}}) at hoppings.jl:99",
          "status": "Default",
          "x1": 3,
          "x2": 24.9
         },
         {
          "level": 19,
          "sf": "zero at abstractarray.jl:1156 [inlined]",
          "status": "Default",
          "x1": 3,
          "x2": 6.9
         },
         {
          "level": 20,
          "sf": "fill! at array.jl:353 [inlined]",
          "status": "Default",
          "x1": 3,
          "x2": 6.9
         },
         {
          "level": 21,
          "sf": "setindex! at array.jl:966 [inlined]",
          "status": "Default",
          "x1": 3,
          "x2": 6.9
         },
         {
          "level": 19,
          "sf": "similar at array.jl:379 [inlined]",
          "status": "Default",
          "x1": 7,
          "x2": 24.9
         },
         {
          "level": 20,
          "sf": "Array at boot.jl:469 [inlined]",
          "status": "Default",
          "x1": 7,
          "x2": 24.9
         },
         {
          "level": 21,
          "sf": "Array at boot.jl:461 [inlined]",
          "status": "Garbage collection",
          "x1": 7,
          "x2": 24.9
         },
         {
          "level": 18,
          "sf": "hopping_operator(f::Function, l::SquareLattice, hop::Hopping{Matrix{ComplexF64}}) at hoppings.jl:101",
          "status": "Runtime dispatch",
          "x1": 25,
          "x2": 31.9
         },
         {
          "level": 19,
          "sf": "typeinf_ext_toplevel(mi::Core.MethodInstance, world::UInt64) at typeinfer.jl:996",
          "status": "Default",
          "x1": 25,
          "x2": 26.9
         },
         {
          "level": 20,
          "sf": "typeinf_ext_toplevel(interp::Core.Compiler.NativeInterpreter, linfo::Core.MethodInstance) at typeinfer.jl:1000",
          "status": "Default",
          "x1": 25,
          "x2": 26.9
         },
         {
          "level": 21,
          "sf": "typeinf_ext(interp::Core.Compiler.NativeInterpreter, mi::Core.MethodInstance) at typeinfer.jl:967",
          "status": "Default",
          "x1": 25,
          "x2": 26.9
         },
         {
          "level": 22,
          "sf": "typeinf(interp::Core.Compiler.NativeInterpreter, frame::Core.Compiler.InferenceState) at typeinfer.jl:213",
          "status": "Default",
          "x1": 25,
          "x2": 26.9
         },
         {
          "level": 23,
          "sf": "_typeinf(interp::Core.Compiler.NativeInterpreter, frame::Core.Compiler.InferenceState) at typeinfer.jl:230",
          "status": "Default",
          "x1": 25,
          "x2": 26.9
         },
         {
          "level": 24,
          "sf": "typeinf_nocycle(interp::Core.Compiler.NativeInterpreter, frame::Core.Compiler.InferenceState) at abstractinterpretation.jl:2462",
          "status": "Default",
          "x1": 25,
          "x2": 26.9
         },
         {
          "level": 25,
          "sf": "typeinf_local(interp::Core.Compiler.NativeInterpreter, frame::Core.Compiler.InferenceState) at abstractinterpretation.jl:2366",
          "status": "Default",
          "x1": 25,
          "x2": 26.9
         },
         {
          "level": 26,
          "sf": "abstract_eval_statement(interp::Core.Compiler.NativeInterpreter, e::Any, vtypes::Vector{Core.Compiler.VarState}, sv::Core.Compiler.InferenceState) at abstractinterpretation.jl:1890",
          "status": "Default",
          "x1": 25,
          "x2": 26.9
         },
         {
          "level": 27,
          "sf": "abstract_call(interp::Core.Compiler.NativeInterpreter, arginfo::Core.Compiler.ArgInfo, sv::Core.Compiler.InferenceState) at abstractinterpretation.jl:1733",
          "status": "Default",
          "x1": 25,
          "x2": 26.9
         },
         {
          "level": 28,
          "sf": "abstract_call(interp::Core.Compiler.NativeInterpreter, arginfo::Core.Compiler.ArgInfo, sv::Core.Compiler.InferenceState, max_methods::Int64) at abstractinterpretation.jl:1766",
          "status": "Default",
          "x1": 25,
          "x2": 26.9
         },
         {
          "level": 29,
          "sf": "abstract_call_known(interp::Core.Compiler.NativeInterpreter, f::Any, arginfo::Core.Compiler.ArgInfo, sv::Core.Compiler.InferenceState, max_methods::Int64) at abstractinterpretation.jl:1696",
          "status": "Default",
          "x1": 25,
          "x2": 26.9
         },
         {
          "level": 30,
          "sf": "abstract_call_gf_by_type(interp::Core.Compiler.NativeInterpreter, f::Any, arginfo::Core.Compiler.ArgInfo, atype::Any, sv::Core.Compiler.InferenceState, max_methods::Int64) at abstractinterpretation.jl:153",
          "status": "Default",
          "x1": 25,
          "x2": 26.9
         },
         {
          "level": 31,
          "sf": "abstract_call_method(interp::Core.Compiler.NativeInterpreter, method::Method, sig::Any, sparams::Core.SimpleVector, hardlimit::Bool, sv::Core.Compiler.InferenceState) at abstractinterpretation.jl:641",
          "status": "Default",
          "x1": 25,
          "x2": 26.9
         },
         {
          "level": 32,
          "sf": "typeinf_edge(interp::Core.Compiler.NativeInterpreter, method::Method, atype::Any, sparams::Core.SimpleVector, caller::Core.Compiler.InferenceState) at typeinfer.jl:877",
          "status": "Default",
          "x1": 25,
          "x2": 26.9
         },
         {
          "level": 33,
          "sf": "typeinf(interp::Core.Compiler.NativeInterpreter, frame::Core.Compiler.InferenceState) at typeinfer.jl:213",
          "status": "Default",
          "x1": 25,
          "x2": 26.9
         },
         {
          "level": 34,
          "sf": "_typeinf(interp::Core.Compiler.NativeInterpreter, frame::Core.Compiler.InferenceState) at typeinfer.jl:230",
          "status": "Default",
          "x1": 25,
          "x2": 26.9
         },
         {
          "level": 35,
          "sf": "typeinf_nocycle(interp::Core.Compiler.NativeInterpreter, frame::Core.Compiler.InferenceState) at abstractinterpretation.jl:2462",
          "status": "Default",
          "x1": 25,
          "x2": 26.9
         },
         {
          "level": 36,
          "sf": "typeinf_local(interp::Core.Compiler.NativeInterpreter, frame::Core.Compiler.InferenceState) at abstractinterpretation.jl:2366",
          "status": "Default",
          "x1": 25,
          "x2": 26.9
         },
         {
          "level": 37,
          "sf": "abstract_eval_statement(interp::Core.Compiler.NativeInterpreter, e::Any, vtypes::Vector{Core.Compiler.VarState}, sv::Core.Compiler.InferenceState) at abstractinterpretation.jl:1890",
          "status": "Default",
          "x1": 25,
          "x2": 26.9
         },
         {
          "level": 38,
          "sf": "abstract_call(interp::Core.Compiler.NativeInterpreter, arginfo::Core.Compiler.ArgInfo, sv::Core.Compiler.InferenceState) at abstractinterpretation.jl:1733",
          "status": "Default",
          "x1": 25,
          "x2": 26.9
         },
         {
          "level": 39,
          "sf": "abstract_call(interp::Core.Compiler.NativeInterpreter, arginfo::Core.Compiler.ArgInfo, sv::Core.Compiler.InferenceState, max_methods::Int64) at abstractinterpretation.jl:1766",
          "status": "Default",
          "x1": 25,
          "x2": 26.9
         },
         {
          "level": 40,
          "sf": "abstract_call_known(interp::Core.Compiler.NativeInterpreter, f::Any, arginfo::Core.Compiler.ArgInfo, sv::Core.Compiler.InferenceState, max_methods::Int64) at abstractinterpretation.jl:1696",
          "status": "Default",
          "x1": 25,
          "x2": 26.9
         },
         {
          "level": 41,
          "sf": "abstract_call_gf_by_type(interp::Core.Compiler.NativeInterpreter, f::Any, arginfo::Core.Compiler.ArgInfo, atype::Any, sv::Core.Compiler.InferenceState, max_methods::Int64) at abstractinterpretation.jl:153",
          "status": "Default",
          "x1": 25,
          "x2": 26.9
         },
         {
          "level": 42,
          "sf": "abstract_call_method(interp::Core.Compiler.NativeInterpreter, method::Method, sig::Any, sparams::Core.SimpleVector, hardlimit::Bool, sv::Core.Compiler.InferenceState) at abstractinterpretation.jl:641",
          "status": "Default",
          "x1": 25,
          "x2": 26.9
         },
         {
          "level": 43,
          "sf": "typeinf_edge(interp::Core.Compiler.NativeInterpreter, method::Method, atype::Any, sparams::Core.SimpleVector, caller::Core.Compiler.InferenceState) at typeinfer.jl:877",
          "status": "Default",
          "x1": 25,
          "x2": 26.9
         },
         {
          "level": 44,
          "sf": "typeinf(interp::Core.Compiler.NativeInterpreter, frame::Core.Compiler.InferenceState) at typeinfer.jl:213",
          "status": "Default",
          "x1": 25,
          "x2": 26.9
         },
         {
          "level": 45,
          "sf": "_typeinf(interp::Core.Compiler.NativeInterpreter, frame::Core.Compiler.InferenceState) at typeinfer.jl:257",
          "status": "Default",
          "x1": 25,
          "x2": 26.9
         },
         {
          "level": 46,
          "sf": "optimize at optimize.jl:504 [inlined]",
          "status": "Default",
          "x1": 25,
          "x2": 26.9
         },
         {
          "level": 47,
          "sf": "run_passes(ci::Core.CodeInfo, sv::Core.Compiler.OptimizationState, caller::Core.Compiler.InferenceResult) at optimize.jl:538",
          "status": "Default",
          "x1": 25,
          "x2": 25.9
         },
         {
          "level": 48,
          "sf": "compact! at ir.jl:1459 [inlined]",
          "status": "Default",
          "x1": 25,
          "x2": 25.9
         },
         {
          "level": 49,
          "sf": "compact!(code::Core.Compiler.IRCode, allow_cfg_transforms::Bool) at ir.jl:1459",
          "status": "Default",
          "x1": 25,
          "x2": 25.9
         },
         {
          "level": 50,
          "sf": "Core.Compiler.IncrementalCompact(code::Core.Compiler.IRCode, allow_cfg_transforms::Bool) at ir.jl:615",
          "status": "Default",
          "x1": 25,
          "x2": 25.9
         },
         {
          "level": 51,
          "sf": "NewNodeStream at ir.jl:269 [inlined]",
          "status": "Default",
          "x1": 25,
          "x2": 25.9
         },
         {
          "level": 52,
          "sf": "NewNodeStream at ir.jl:269 [inlined]",
          "status": "Default",
          "x1": 25,
          "x2": 25.9
         },
         {
          "level": 53,
          "sf": "Core.Compiler.InstructionStream(len::Int64) at ir.jl:192",
          "status": "Default",
          "x1": 25,
          "x2": 25.9
         },
         {
          "level": 54,
          "sf": "Array at boot.jl:473 [inlined]",
          "status": "Default",
          "x1": 25,
          "x2": 25.9
         },
         {
          "level": 55,
          "sf": "Array at boot.jl:459 [inlined]",
          "status": "Default",
          "x1": 25,
          "x2": 25.9
         },
         {
          "level": 47,
          "sf": "run_passes(ci::Core.CodeInfo, sv::Core.Compiler.OptimizationState, caller::Core.Compiler.InferenceResult) at optimize.jl:539",
          "status": "Default",
          "x1": 26,
          "x2": 26.9
         },
         {
          "level": 48,
          "sf": "ssa_inlining_pass!(ir::Core.Compiler.IRCode, linetable::Vector{Core.LineInfoNode}, state::Core.Compiler.InliningState{Core.Compiler.EdgeTracker, Core.Compiler.WorldView{Core.Compiler.InternalCodeCache}, Core.Compiler.NativeInterpreter}, propagate_inbounds::Bool) at inlining.jl:82",
          "status": "Default",
          "x1": 26,
          "x2": 26.9
         },
         {
          "level": 49,
          "sf": "assemble_inline_todo!(ir::Core.Compiler.IRCode, state::Core.Compiler.InliningState{Core.Compiler.EdgeTracker, Core.Compiler.WorldView{Core.Compiler.InternalCodeCache}, Core.Compiler.NativeInterpreter}) at inlining.jl:1420",
          "status": "Default",
          "x1": 26,
          "x2": 26.9
         },
         {
          "level": 50,
          "sf": "analyze_single_call!(ir::Core.Compiler.IRCode, idx::Int64, stmt::Expr, infos::Vector{Core.Compiler.MethodMatchInfo}, flag::UInt8, sig::Core.Compiler.Signature, state::Core.Compiler.InliningState{Core.Compiler.EdgeTracker, Core.Compiler.WorldView{Core.Compiler.InternalCodeCache}, Core.Compiler.NativeInterpreter}, todo::Vector{Pair{Int64, Any}}) at inlining.jl:1222",
          "status": "Default",
          "x1": 26,
          "x2": 26.9
         },
         {
          "level": 51,
          "sf": "analyze_method!(match::Core.MethodMatch, argtypes::Vector{Any}, flag::UInt8, state::Core.Compiler.InliningState{Core.Compiler.EdgeTracker, Core.Compiler.WorldView{Core.Compiler.InternalCodeCache}, Core.Compiler.NativeInterpreter}) at inlining.jl:854",
          "status": "Default",
          "x1": 26,
          "x2": 26.9
         },
         {
          "level": 52,
          "sf": "specialize_method at utilities.jl:207 [inlined]",
          "status": "Default",
          "x1": 26,
          "x2": 26.9
         },
         {
          "level": 53,
          "sf": "#specialize_method#255 at utilities.jl:208 [inlined]",
          "status": "Default",
          "x1": 26,
          "x2": 26.9
         },
         {
          "level": 54,
          "sf": "specialize_method at utilities.jl:190 [inlined]",
          "status": "Default",
          "x1": 26,
          "x2": 26.9
         },
         {
          "level": 55,
          "sf": "specialize_method(method::Method, atype::Any, sparams::Core.SimpleVector; preexisting::Bool, compilesig::Bool) at utilities.jl:202",
          "status": "Default",
          "x1": 26,
          "x2": 26.9
         },
         {
          "level": 18,
          "sf": "hopping_operator(f::Function, l::SquareLattice, hop::Hopping{Matrix{ComplexF64}}) at hoppings.jl:104",
          "status": "Default",
          "x1": 32,
          "x2": 34.9
         },
         {
          "level": 19,
          "sf": "iterate(l::SquareLattice) at lattice.jl:53",
          "status": "Default",
          "x1": 32,
          "x2": 32.9
         },
         {
          "level": 20,
          "sf": "start at lattice.jl:32 [inlined]",
          "status": "Default",
          "x1": 32,
          "x2": 32.9
         },
         {
          "level": 21,
          "sf": "fill at array.jl:534 [inlined]",
          "status": "Default",
          "x1": 32,
          "x2": 32.9
         },
         {
          "level": 22,
          "sf": "fill at array.jl:536 [inlined]",
          "status": "Default",
          "x1": 32,
          "x2": 32.9
         },
         {
          "level": 23,
          "sf": "Array at boot.jl:468 [inlined]",
          "status": "Default",
          "x1": 32,
          "x2": 32.9
         },
         {
          "level": 24,
          "sf": "Array at boot.jl:459 [inlined]",
          "status": "Default",
          "x1": 32,
          "x2": 32.9
         },
         {
          "level": 19,
          "sf": "iterate(l::SquareLattice) at lattice.jl:54",
          "status": "Default",
          "x1": 33,
          "x2": 34.9
         },
         {
          "level": 20,
          "sf": "bravais at lattice.jl:24 [inlined]",
          "status": "Default",
          "x1": 33,
          "x2": 34.9
         },
         {
          "level": 21,
          "sf": "_bravais(#unused#::SquareLattice, dims::Int64) at lattice.jl:128",
          "status": "Default",
          "x1": 33,
          "x2": 33.9
         },
         {
          "level": 21,
          "sf": "_bravais(#unused#::SquareLattice, dims::Int64) at lattice.jl:158",
          "status": "Default",
          "x1": 34,
          "x2": 34.9
         },
         {
          "level": 22,
          "sf": "Bravais at lattice.jl:12 [inlined]",
          "status": "Default",
          "x1": 34,
          "x2": 34.9
         },
         {
          "level": 23,
          "sf": "convert at array.jl:617 [inlined]",
          "status": "Default",
          "x1": 34,
          "x2": 34.9
         },
         {
          "level": 24,
          "sf": "Matrix{Float64}(x::Matrix{Bool}) at array.jl:626",
          "status": "Default",
          "x1": 34,
          "x2": 34.9
         },
         {
          "level": 25,
          "sf": "Array at boot.jl:469 [inlined]",
          "status": "Default",
          "x1": 34,
          "x2": 34.9
         },
         {
          "level": 26,
          "sf": "Array at boot.jl:461 [inlined]",
          "status": "Default",
          "x1": 34,
          "x2": 34.9
         },
         {
          "level": 18,
          "sf": "hopping_operator(f::Function, l::SquareLattice, hop::Hopping{Matrix{ComplexF64}}) at hoppings.jl:105",
          "status": "Runtime dispatch",
          "x1": 35,
          "x2": 41.9
         },
         {
          "level": 19,
          "sf": "typeinf_ext_toplevel(mi::Core.MethodInstance, world::UInt64) at typeinfer.jl:996",
          "status": "Default",
          "x1": 35,
          "x2": 35.9
         },
         {
          "level": 20,
          "sf": "typeinf_ext_toplevel(interp::Core.Compiler.NativeInterpreter, linfo::Core.MethodInstance) at typeinfer.jl:1000",
          "status": "Default",
          "x1": 35,
          "x2": 35.9
         },
         {
          "level": 21,
          "sf": "typeinf_ext(interp::Core.Compiler.NativeInterpreter, mi::Core.MethodInstance) at typeinfer.jl:965",
          "status": "Default",
          "x1": 35,
          "x2": 35.9
         },
         {
          "level": 22,
          "sf": "Core.Compiler.InferenceState(result::Core.Compiler.InferenceResult, cache::Symbol, interp::Core.Compiler.NativeInterpreter) at inferencestate.jl:287",
          "status": "Default",
          "x1": 35,
          "x2": 35.9
         },
         {
          "level": 23,
          "sf": "Core.Compiler.InferenceState(result::Core.Compiler.InferenceResult, src::Core.CodeInfo, cache::Symbol, interp::Core.Compiler.NativeInterpreter) at inferencestate.jl:104",
          "status": "Default",
          "x1": 35,
          "x2": 35.9
         },
         {
          "level": 24,
          "sf": "find_ssavalue_uses(body::Vector{Any}, nvals::Int64) at utilities.jl:248",
          "status": "Default",
          "x1": 35,
          "x2": 35.9
         },
         {
          "level": 25,
          "sf": "BitSet at bitset.jl:18 [inlined]",
          "status": "Default",
          "x1": 35,
          "x2": 35.9
         },
         {
          "level": 26,
          "sf": "sizehint! at array.jl:1267 [inlined]",
          "status": "Default",
          "x1": 35,
          "x2": 35.9
         },
         {
          "level": 19,
          "sf": "_match(h::Hopping{Matrix{ComplexF64}}, l::SquareLattice, site1::LatticeIndex, site2::LatticeIndex) at hoppings.jl:0",
          "status": "Default",
          "x1": 36,
          "x2": 38.9
         },
         {
          "level": 19,
          "sf": "_match(h::Hopping{Matrix{ComplexF64}}, l::SquareLattice, site1::LatticeIndex, site2::LatticeIndex) at hoppings.jl:82",
          "status": "Default",
          "x1": 39,
          "x2": 39.9
         },
         {
          "level": 19,
          "sf": "_match(h::Hopping{Matrix{ComplexF64}}, l::SquareLattice, site1::LatticeIndex, site2::LatticeIndex) at hoppings.jl:85",
          "status": "Default",
          "x1": 40,
          "x2": 40.9
         },
         {
          "level": 20,
          "sf": "getindex at array.jl:924 [inlined]",
          "status": "Default",
          "x1": 40,
          "x2": 40.9
         },
         {
          "level": 19,
          "sf": "_match(h::Hopping{Matrix{ComplexF64}}, l::SquareLattice, site1::LatticeIndex, site2::LatticeIndex) at hoppings.jl:86",
          "status": "Default",
          "x1": 41,
          "x2": 41.9
         },
         {
          "level": 20,
          "sf": "getindex at array.jl:924 [inlined]",
          "status": "Default",
          "x1": 41,
          "x2": 41.9
         },
         {
          "level": 18,
          "sf": "hopping_operator(f::Function, l::SquareLattice, hop::Hopping{Matrix{ComplexF64}}) at hoppings.jl:110",
          "status": "Default",
          "x1": 42,
          "x2": 51.9
         },
         {
          "level": 19,
          "sf": "iterate at lattice.jl:59 [inlined]",
          "status": "Default",
          "x1": 42,
          "x2": 51.9
         },
         {
          "level": 20,
          "sf": "proceed!(l::SquareLattice, bvs_len::Int64, site::LatticeIndex) at lattice.jl:34",
          "status": "Default",
          "x1": 42,
          "x2": 45.9
         },
         {
          "level": 20,
          "sf": "proceed!(l::SquareLattice, bvs_len::Int64, site::LatticeIndex) at lattice.jl:35",
          "status": "Default",
          "x1": 46,
          "x2": 48.9
         },
         {
          "level": 21,
          "sf": "== at array.jl:1759 [inlined]",
          "status": "Default",
          "x1": 46,
          "x2": 48.9
         },
         {
          "level": 22,
          "sf": "_memcmp at array.jl:1743 [inlined]",
          "status": "Default",
          "x1": 46,
          "x2": 48.9
         },
         {
          "level": 20,
          "sf": "proceed!(l::SquareLattice, bvs_len::Int64, site::LatticeIndex) at lattice.jl:45",
          "status": "Default",
          "x1": 49,
          "x2": 49.9
         },
         {
          "level": 21,
          "sf": "setindex! at array.jl:966 [inlined]",
          "status": "Default",
          "x1": 49,
          "x2": 49.9
         },
         {
          "level": 18,
          "sf": "hopping_operator(f::Function, l::SquareLattice, hop::Hopping{Matrix{ComplexF64}}) at hoppings.jl:113",
          "status": "Default",
          "x1": 52,
          "x2": 52.9
         },
         {
          "level": 19,
          "sf": "LatticeVecOrMat(basis::Basis, operator::Matrix{ComplexF64}) at lattice_values.jl:50",
          "status": "Runtime dispatch",
          "x1": 52,
          "x2": 52.9
         }
        ]
       },
       "encoding": {
        "color": {
         "field": "status",
         "legend": {
          "orient": "bottom",
          "title": null
         },
         "type": "nominal"
        },
        "fillOpacity": {
         "condition": [
          {
           "selection": "highlight",
           "value": 0.6
          },
          {
           "selection": "select",
           "value": 0.5
          }
         ],
         "value": 1
        },
        "strokeWidth": {
         "condition": [
          {
           "selection": "highlight",
           "value": 0.5
          },
          {
           "selection": "select",
           "value": 0.5
          }
         ],
         "value": 0
        },
        "tooltip": {
         "field": "sf",
         "type": "nominal"
        },
        "x": {
         "axis": null,
         "field": "x1",
         "type": "quantitative"
        },
        "x2": {
         "field": "x2",
         "type": "quantitative"
        },
        "y": {
         "axis": null,
         "field": "level",
         "type": "quantitative"
        },
        "y2": {
         "field": "level2",
         "type": "quantitative"
        }
       },
       "height": 400,
       "mark": {
        "stroke": "#505050",
        "type": "rect"
       },
       "selection": {
        "grid": {
         "bind": "scales",
         "type": "interval"
        },
        "highlight": {
         "empty": "none",
         "on": "mouseover",
         "type": "single"
        },
        "select": {
         "empty": "none",
         "type": "multi"
        }
       },
       "title": "Profile Results",
       "transform": [
        {
         "as": "level2",
         "calculate": "datum.level+0.9"
        }
       ],
       "width": 800
      },
      "image/png": "[encoded data removed]",
      "image/svg+xml": "<?xml version=\"1.0\" encoding=\"utf-8\"?>\n<!DOCTYPE svg PUBLIC \"-//W3C//DTD SVG 1.1//EN\" \"http://www.w3.org/Graphics/SVG/1.1/DTD/svg11.dtd\">\n<svg xmlns=\"http://www.w3.org/2000/svg\" xmlns:xlink=\"http://www.w3.org/1999/xlink\" version=\"1.1\" class=\"marks\" width=\"810\" height=\"458\" viewBox=\"0 0 810 458\"><rect width=\"810\" height=\"458\" fill=\"white\"/><g fill=\"none\" stroke-miterlimit=\"10\" transform=\"translate(5,22)\"><g class=\"mark-group role-frame root\" role=\"graphics-object\" aria-roledescription=\"group mark container\"><g transform=\"translate(0,0)\"><path class=\"background\" aria-hidden=\"true\" d=\"M0.5,0.5h800v400h-800Z\" stroke=\"#ddd\"/><g><g class=\"mark-rect role-mark marks\" clip-path=\"url(#clip1)\" role=\"graphics-object\" aria-roledescription=\"rect mark container\"><path aria-label=\"x1: 1; x2: 52.9; level: 0; level2: 0.9; status: Default; sf: ip:0x0\" role=\"graphics-symbol\" aria-roledescription=\"rect mark\" d=\"M14.545454545454545,394h754.9090909090909v6h-754.9090909090909Z\" fill=\"#4c78a8\" fill-opacity=\"1\" stroke=\"#505050\" stroke-width=\"0\"/><path aria-label=\"x1: 1; x2: 52.9; level: 1; level2: 1.9; status: Default; sf: _start() at client.jl:522\" role=\"graphics-symbol\" aria-roledescription=\"rect mark\" d=\"M14.545454545454545,387.33333333333337h754.9090909090909v5.999999999999943h-754.9090909090909Z\" fill=\"#4c78a8\" fill-opacity=\"1\" stroke=\"#505050\" stroke-width=\"0\"/><path aria-label=\"x1: 1; x2: 52.9; level: 2; level2: 2.9; status: Default; sf: exec_options(opts::Base.JLOptions) at client.jl:303\" role=\"graphics-symbol\" aria-roledescription=\"rect mark\" d=\"M14.545454545454545,380.6666666666667h754.9090909090909v6h-754.9090909090909Z\" fill=\"#4c78a8\" fill-opacity=\"1\" stroke=\"#505050\" stroke-width=\"0\"/><path aria-label=\"x1: 1; x2: 52.9; level: 3; level2: 3.9; status: Default; sf: include(mod::Module, _path::String) at Base.jl:419\" role=\"graphics-symbol\" aria-roledescription=\"rect mark\" d=\"M14.545454545454545,374h754.9090909090909v6h-754.9090909090909Z\" fill=\"#4c78a8\" fill-opacity=\"1\" stroke=\"#505050\" stroke-width=\"0\"/><path aria-label=\"x1: 1; x2: 52.9; level: 4; level2: 4.9; status: Default; sf: _include(mapexpr::Function, mod::Module, _path::String) at loading.jl:1488\" role=\"graphics-symbol\" aria-roledescription=\"rect mark\" d=\"M14.545454545454545,367.3333333333333h754.9090909090909v6h-754.9090909090909Z\" fill=\"#4c78a8\" fill-opacity=\"1\" stroke=\"#505050\" stroke-width=\"0\"/><path aria-label=\"x1: 1; x2: 52.9; level: 5; level2: 5.9; status: Default; sf: include_string(mapexpr::typeof(identity), mod::Module, code::String, filename::String) at loading.jl:1428\" role=\"graphics-symbol\" aria-roledescription=\"rect mark\" d=\"M14.545454545454545,360.66666666666663h754.9090909090909v6h-754.9090909090909Z\" fill=\"#4c78a8\" fill-opacity=\"1\" stroke=\"#505050\" stroke-width=\"0\"/><path aria-label=\"x1: 1; x2: 52.9; level: 6; level2: 6.9; status: Default; sf: eval at boot.jl:368 [inlined]\" role=\"graphics-symbol\" aria-roledescription=\"rect mark\" d=\"M14.545454545454545,354h754.9090909090909v6h-754.9090909090909Z\" fill=\"#4c78a8\" fill-opacity=\"1\" stroke=\"#505050\" stroke-width=\"0\"/><path aria-label=\"x1: 1; x2: 52.9; level: 7; level2: 7.9; status: Default; sf: top-level scope at notebook.jl:32\" role=\"graphics-symbol\" aria-roledescription=\"rect mark\" d=\"M14.545454545454545,347.3333333333333h754.9090909090909v6h-754.9090909090909Z\" fill=\"#4c78a8\" fill-opacity=\"1\" stroke=\"#505050\" stroke-width=\"0\"/><path aria-label=\"x1: 1; x2: 52.9; level: 8; level2: 8.9; status: Default; sf: (::VSCodeServer.var&quot;#serve_notebook##kw&quot;)(::NamedTuple{(:crashreporting_pipename,), Tuple{String}}, ::typeof(VSCodeServer.serve_notebook), pipename::String, outputchannel_logger::Base.CoreLogging.SimpleLogger) at serve_notebook.jl:75\" role=\"graphics-symbol\" aria-roledescription=\"rect mark\" d=\"M14.545454545454545,340.6666666666667h754.9090909090909v6h-754.9090909090909Z\" fill=\"#4c78a8\" fill-opacity=\"1\" stroke=\"#505050\" stroke-width=\"0\"/><path aria-label=\"x1: 1; x2: 52.9; level: 9; level2: 9.9; status: Default; sf: serve_notebook(pipename::String, outputchannel_logger::Base.CoreLogging.SimpleLogger; crashreporting_pipename::String) at serve_notebook.jl:139\" role=\"graphics-symbol\" aria-roledescription=\"rect mark\" d=\"M14.545454545454545,334h754.9090909090909v6h-754.9090909090909Z\" fill=\"#4c78a8\" fill-opacity=\"1\" stroke=\"#505050\" stroke-width=\"0\"/><path aria-label=\"x1: 1; x2: 52.9; level: 10; level2: 10.9; status: Default; sf: dispatch_msg(x::VSCodeServer.JSONRPC.JSONRPCEndpoint{Base.PipeEndpoint, Base.PipeEndpoint}, dispatcher::VSCodeServer.JSONRPC.MsgDispatcher, msg::Dict{String, Any}) at typed.jl:67\" role=\"graphics-symbol\" aria-roledescription=\"rect mark\" d=\"M14.545454545454545,327.33333333333337h754.9090909090909v6h-754.9090909090909Z\" fill=\"#4c78a8\" fill-opacity=\"1\" stroke=\"#505050\" stroke-width=\"0\"/><path aria-label=\"x1: 1; x2: 52.9; level: 11; level2: 11.9; status: Default; sf: notebook_runcell_request(conn::VSCodeServer.JSONRPC.JSONRPCEndpoint{Base.PipeEndpoint, Base.PipeEndpoint}, params::VSCodeServer.NotebookRunCellArguments) at serve_notebook.jl:13\" role=\"graphics-symbol\" aria-roledescription=\"rect mark\" d=\"M14.545454545454545,320.66666666666663h754.9090909090909v6.000000000000057h-754.9090909090909Z\" fill=\"#4c78a8\" fill-opacity=\"1\" stroke=\"#505050\" stroke-width=\"0\"/><path aria-label=\"x1: 1; x2: 52.9; level: 12; level2: 12.9; status: Default; sf: withpath(f::VSCodeServer.var&quot;#198#199&quot;{VSCodeServer.NotebookRunCellArguments, String}, path::String) at repl.jl:249\" role=\"graphics-symbol\" aria-roledescription=\"rect mark\" d=\"M14.545454545454545,314h754.9090909090909v6h-754.9090909090909Z\" fill=\"#4c78a8\" fill-opacity=\"1\" stroke=\"#505050\" stroke-width=\"0\"/><path aria-label=\"x1: 1; x2: 52.9; level: 13; level2: 13.9; status: Default; sf: (::VSCodeServer.var&quot;#198#199&quot;{VSCodeServer.NotebookRunCellArguments, String})() at serve_notebook.jl:19\" role=\"graphics-symbol\" aria-roledescription=\"rect mark\" d=\"M14.545454545454545,307.3333333333333h754.9090909090909v6h-754.9090909090909Z\" fill=\"#4c78a8\" fill-opacity=\"1\" stroke=\"#505050\" stroke-width=\"0\"/><path aria-label=\"x1: 1; x2: 52.9; level: 14; level2: 14.9; status: Default; sf: invokelatest at essentials.jl:726 [inlined]\" role=\"graphics-symbol\" aria-roledescription=\"rect mark\" d=\"M14.545454545454545,300.6666666666667h754.9090909090909v5.999999999999943h-754.9090909090909Z\" fill=\"#4c78a8\" fill-opacity=\"1\" stroke=\"#505050\" stroke-width=\"0\"/><path aria-label=\"x1: 1; x2: 52.9; level: 15; level2: 15.9; status: Default; sf: #invokelatest#2 at essentials.jl:729 [inlined]\" role=\"graphics-symbol\" aria-roledescription=\"rect mark\" d=\"M14.545454545454545,294h754.9090909090909v6h-754.9090909090909Z\" fill=\"#4c78a8\" fill-opacity=\"1\" stroke=\"#505050\" stroke-width=\"0\"/><path aria-label=\"x1: 1; x2: 52.9; level: 16; level2: 16.9; status: Default; sf: include_string(mapexpr::typeof(REPL.softscope), mod::Module, code::String, filename::String) at loading.jl:1428\" role=\"graphics-symbol\" aria-roledescription=\"rect mark\" d=\"M14.545454545454545,287.33333333333337h754.9090909090909v6h-754.9090909090909Z\" fill=\"#4c78a8\" fill-opacity=\"1\" stroke=\"#505050\" stroke-width=\"0\"/><path aria-label=\"x1: 1; x2: 52.9; level: 17; level2: 17.9; status: Default; sf: eval at boot.jl:368 [inlined]\" role=\"graphics-symbol\" aria-roledescription=\"rect mark\" d=\"M14.545454545454545,280.6666666666667h754.9090909090909v6h-754.9090909090909Z\" fill=\"#4c78a8\" fill-opacity=\"1\" stroke=\"#505050\" stroke-width=\"0\"/><path aria-label=\"x1: 3; x2: 24.9; level: 18; level2: 18.9; status: Default; sf: hopping_operator(f::Function, l::SquareLattice, hop::Hopping{Matrix{ComplexF64}}) at hoppings.jl:99\" role=\"graphics-symbol\" aria-roledescription=\"rect mark\" d=\"M43.63636363636363,274h318.54545454545456v6h-318.54545454545456Z\" fill=\"#4c78a8\" fill-opacity=\"1\" stroke=\"#505050\" stroke-width=\"0\"/><path aria-label=\"x1: 3; x2: 6.9; level: 19; level2: 19.9; status: Default; sf: zero at abstractarray.jl:1156 [inlined]\" role=\"graphics-symbol\" aria-roledescription=\"rect mark\" d=\"M43.63636363636363,267.3333333333333h56.72727272727273v6h-56.72727272727273Z\" fill=\"#4c78a8\" fill-opacity=\"1\" stroke=\"#505050\" stroke-width=\"0\"/><path aria-label=\"x1: 3; x2: 6.9; level: 20; level2: 20.9; status: Default; sf: fill! at array.jl:353 [inlined]\" role=\"graphics-symbol\" aria-roledescription=\"rect mark\" d=\"M43.63636363636363,260.66666666666663h56.72727272727273v6.000000000000057h-56.72727272727273Z\" fill=\"#4c78a8\" fill-opacity=\"1\" stroke=\"#505050\" stroke-width=\"0\"/><path aria-label=\"x1: 3; x2: 6.9; level: 21; level2: 21.9; status: Default; sf: setindex! at array.jl:966 [inlined]\" role=\"graphics-symbol\" aria-roledescription=\"rect mark\" d=\"M43.63636363636363,254h56.72727272727273v6h-56.72727272727273Z\" fill=\"#4c78a8\" fill-opacity=\"1\" stroke=\"#505050\" stroke-width=\"0\"/><path aria-label=\"x1: 7; x2: 24.9; level: 19; level2: 19.9; status: Default; sf: similar at array.jl:379 [inlined]\" role=\"graphics-symbol\" aria-roledescription=\"rect mark\" d=\"M101.81818181818181,267.3333333333333h260.3636363636364v6h-260.3636363636364Z\" fill=\"#4c78a8\" fill-opacity=\"1\" stroke=\"#505050\" stroke-width=\"0\"/><path aria-label=\"x1: 7; x2: 24.9; level: 20; level2: 20.9; status: Default; sf: Array at boot.jl:469 [inlined]\" role=\"graphics-symbol\" aria-roledescription=\"rect mark\" d=\"M101.81818181818181,260.66666666666663h260.3636363636364v6.000000000000057h-260.3636363636364Z\" fill=\"#4c78a8\" fill-opacity=\"1\" stroke=\"#505050\" stroke-width=\"0\"/><path aria-label=\"x1: 7; x2: 24.9; level: 21; level2: 21.9; status: Garbage collection; sf: Array at boot.jl:461 [inlined]\" role=\"graphics-symbol\" aria-roledescription=\"rect mark\" d=\"M101.81818181818181,254h260.3636363636364v6h-260.3636363636364Z\" fill=\"#f58518\" fill-opacity=\"1\" stroke=\"#505050\" stroke-width=\"0\"/><path aria-label=\"x1: 25; x2: 31.9; level: 18; level2: 18.9; status: Runtime dispatch; sf: hopping_operator(f::Function, l::SquareLattice, hop::Hopping{Matrix{ComplexF64}}) at hoppings.jl:101\" role=\"graphics-symbol\" aria-roledescription=\"rect mark\" d=\"M363.6363636363636,274h100.36363636363632v6h-100.36363636363632Z\" fill=\"#e45756\" fill-opacity=\"1\" stroke=\"#505050\" stroke-width=\"0\"/><path aria-label=\"x1: 25; x2: 26.9; level: 19; level2: 19.9; status: Default; sf: typeinf_ext_toplevel(mi::Core.MethodInstance, world::UInt64) at typeinfer.jl:996\" role=\"graphics-symbol\" aria-roledescription=\"rect mark\" d=\"M363.6363636363636,267.3333333333333h27.636363636363626v6h-27.636363636363626Z\" fill=\"#4c78a8\" fill-opacity=\"1\" stroke=\"#505050\" stroke-width=\"0\"/><path aria-label=\"x1: 25; x2: 26.9; level: 20; level2: 20.9; status: Default; sf: typeinf_ext_toplevel(interp::Core.Compiler.NativeInterpreter, linfo::Core.MethodInstance) at typeinfer.jl:1000\" role=\"graphics-symbol\" aria-roledescription=\"rect mark\" d=\"M363.6363636363636,260.66666666666663h27.636363636363626v6.000000000000057h-27.636363636363626Z\" fill=\"#4c78a8\" fill-opacity=\"1\" stroke=\"#505050\" stroke-width=\"0\"/><path aria-label=\"x1: 25; x2: 26.9; level: 21; level2: 21.9; status: Default; sf: typeinf_ext(interp::Core.Compiler.NativeInterpreter, mi::Core.MethodInstance) at typeinfer.jl:967\" role=\"graphics-symbol\" aria-roledescription=\"rect mark\" d=\"M363.6363636363636,254h27.636363636363626v6h-27.636363636363626Z\" fill=\"#4c78a8\" fill-opacity=\"1\" stroke=\"#505050\" stroke-width=\"0\"/><path aria-label=\"x1: 25; x2: 26.9; level: 22; level2: 22.9; status: Default; sf: typeinf(interp::Core.Compiler.NativeInterpreter, frame::Core.Compiler.InferenceState) at typeinfer.jl:213\" role=\"graphics-symbol\" aria-roledescription=\"rect mark\" d=\"M363.6363636363636,247.33333333333337h27.636363636363626v5.999999999999943h-27.636363636363626Z\" fill=\"#4c78a8\" fill-opacity=\"1\" stroke=\"#505050\" stroke-width=\"0\"/><path aria-label=\"x1: 25; x2: 26.9; level: 23; level2: 23.9; status: Default; sf: _typeinf(interp::Core.Compiler.NativeInterpreter, frame::Core.Compiler.InferenceState) at typeinfer.jl:230\" role=\"graphics-symbol\" aria-roledescription=\"rect mark\" d=\"M363.6363636363636,240.66666666666669h27.636363636363626v6h-27.636363636363626Z\" fill=\"#4c78a8\" fill-opacity=\"1\" stroke=\"#505050\" stroke-width=\"0\"/><path aria-label=\"x1: 25; x2: 26.9; level: 24; level2: 24.9; status: Default; sf: typeinf_nocycle(interp::Core.Compiler.NativeInterpreter, frame::Core.Compiler.InferenceState) at abstractinterpretation.jl:2462\" role=\"graphics-symbol\" aria-roledescription=\"rect mark\" d=\"M363.6363636363636,234h27.636363636363626v6h-27.636363636363626Z\" fill=\"#4c78a8\" fill-opacity=\"1\" stroke=\"#505050\" stroke-width=\"0\"/><path aria-label=\"x1: 25; x2: 26.9; level: 25; level2: 25.9; status: Default; sf: typeinf_local(interp::Core.Compiler.NativeInterpreter, frame::Core.Compiler.InferenceState) at abstractinterpretation.jl:2366\" role=\"graphics-symbol\" aria-roledescription=\"rect mark\" d=\"M363.6363636363636,227.33333333333334h27.636363636363626v5.999999999999972h-27.636363636363626Z\" fill=\"#4c78a8\" fill-opacity=\"1\" stroke=\"#505050\" stroke-width=\"0\"/><path aria-label=\"x1: 25; x2: 26.9; level: 26; level2: 26.9; status: Default; sf: abstract_eval_statement(interp::Core.Compiler.NativeInterpreter, e::Any, vtypes::Vector{Core.Compiler.VarState}, sv::Core.Compiler.InferenceState) at abstractinterpretation.jl:1890\" role=\"graphics-symbol\" aria-roledescription=\"rect mark\" d=\"M363.6363636363636,220.66666666666669h27.636363636363626v5.999999999999972h-27.636363636363626Z\" fill=\"#4c78a8\" fill-opacity=\"1\" stroke=\"#505050\" stroke-width=\"0\"/><path aria-label=\"x1: 25; x2: 26.9; level: 27; level2: 27.9; status: Default; sf: abstract_call(interp::Core.Compiler.NativeInterpreter, arginfo::Core.Compiler.ArgInfo, sv::Core.Compiler.InferenceState) at abstractinterpretation.jl:1733\" role=\"graphics-symbol\" aria-roledescription=\"rect mark\" d=\"M363.6363636363636,214h27.636363636363626v6.000000000000028h-27.636363636363626Z\" fill=\"#4c78a8\" fill-opacity=\"1\" stroke=\"#505050\" stroke-width=\"0\"/><path aria-label=\"x1: 25; x2: 26.9; level: 28; level2: 28.9; status: Default; sf: abstract_call(interp::Core.Compiler.NativeInterpreter, arginfo::Core.Compiler.ArgInfo, sv::Core.Compiler.InferenceState, max_methods::Int64) at abstractinterpretation.jl:1766\" role=\"graphics-symbol\" aria-roledescription=\"rect mark\" d=\"M363.6363636363636,207.33333333333331h27.636363636363626v6.000000000000028h-27.636363636363626Z\" fill=\"#4c78a8\" fill-opacity=\"1\" stroke=\"#505050\" stroke-width=\"0\"/><path aria-label=\"x1: 25; x2: 26.9; level: 29; level2: 29.9; status: Default; sf: abstract_call_known(interp::Core.Compiler.NativeInterpreter, f::Any, arginfo::Core.Compiler.ArgInfo, sv::Core.Compiler.InferenceState, max_methods::Int64) at abstractinterpretation.jl:1696\" role=\"graphics-symbol\" aria-roledescription=\"rect mark\" d=\"M363.6363636363636,200.66666666666669h27.636363636363626v5.999999999999943h-27.636363636363626Z\" fill=\"#4c78a8\" fill-opacity=\"1\" stroke=\"#505050\" stroke-width=\"0\"/><path aria-label=\"x1: 25; x2: 26.9; level: 30; level2: 30.9; status: Default; sf: abstract_call_gf_by_type(interp::Core.Compiler.NativeInterpreter, f::Any, arginfo::Core.Compiler.ArgInfo, atype::Any, sv::Core.Compiler.InferenceState, max_methods::Int64) at abstractinterpretation.jl:153\" role=\"graphics-symbol\" aria-roledescription=\"rect mark\" d=\"M363.6363636363636,194h27.636363636363626v6h-27.636363636363626Z\" fill=\"#4c78a8\" fill-opacity=\"1\" stroke=\"#505050\" stroke-width=\"0\"/><path aria-label=\"x1: 25; x2: 26.9; level: 31; level2: 31.9; status: Default; sf: abstract_call_method(interp::Core.Compiler.NativeInterpreter, method::Method, sig::Any, sparams::Core.SimpleVector, hardlimit::Bool, sv::Core.Compiler.InferenceState) at abstractinterpretation.jl:641\" role=\"graphics-symbol\" aria-roledescription=\"rect mark\" d=\"M363.6363636363636,187.33333333333334h27.636363636363626v5.999999999999972h-27.636363636363626Z\" fill=\"#4c78a8\" fill-opacity=\"1\" stroke=\"#505050\" stroke-width=\"0\"/><path aria-label=\"x1: 25; x2: 26.9; level: 32; level2: 32.9; status: Default; sf: typeinf_edge(interp::Core.Compiler.NativeInterpreter, method::Method, atype::Any, sparams::Core.SimpleVector, caller::Core.Compiler.InferenceState) at typeinfer.jl:877\" role=\"graphics-symbol\" aria-roledescription=\"rect mark\" d=\"M363.6363636363636,180.66666666666666h27.636363636363626v6h-27.636363636363626Z\" fill=\"#4c78a8\" fill-opacity=\"1\" stroke=\"#505050\" stroke-width=\"0\"/><path aria-label=\"x1: 25; x2: 26.9; level: 33; level2: 33.9; status: Default; sf: typeinf(interp::Core.Compiler.NativeInterpreter, frame::Core.Compiler.InferenceState) at typeinfer.jl:213\" role=\"graphics-symbol\" aria-roledescription=\"rect mark\" d=\"M363.6363636363636,174.00000000000003h27.636363636363626v5.999999999999943h-27.636363636363626Z\" fill=\"#4c78a8\" fill-opacity=\"1\" stroke=\"#505050\" stroke-width=\"0\"/><path aria-label=\"x1: 25; x2: 26.9; level: 34; level2: 34.9; status: Default; sf: _typeinf(interp::Core.Compiler.NativeInterpreter, frame::Core.Compiler.InferenceState) at typeinfer.jl:230\" role=\"graphics-symbol\" aria-roledescription=\"rect mark\" d=\"M363.6363636363636,167.33333333333334h27.636363636363626v6h-27.636363636363626Z\" fill=\"#4c78a8\" fill-opacity=\"1\" stroke=\"#505050\" stroke-width=\"0\"/><path aria-label=\"x1: 25; x2: 26.9; level: 35; level2: 35.9; status: Default; sf: typeinf_nocycle(interp::Core.Compiler.NativeInterpreter, frame::Core.Compiler.InferenceState) at abstractinterpretation.jl:2462\" role=\"graphics-symbol\" aria-roledescription=\"rect mark\" d=\"M363.6363636363636,160.66666666666669h27.636363636363626v5.999999999999972h-27.636363636363626Z\" fill=\"#4c78a8\" fill-opacity=\"1\" stroke=\"#505050\" stroke-width=\"0\"/><path aria-label=\"x1: 25; x2: 26.9; level: 36; level2: 36.9; status: Default; sf: typeinf_local(interp::Core.Compiler.NativeInterpreter, frame::Core.Compiler.InferenceState) at abstractinterpretation.jl:2366\" role=\"graphics-symbol\" aria-roledescription=\"rect mark\" d=\"M363.6363636363636,154h27.636363636363626v6h-27.636363636363626Z\" fill=\"#4c78a8\" fill-opacity=\"1\" stroke=\"#505050\" stroke-width=\"0\"/><path aria-label=\"x1: 25; x2: 26.9; level: 37; level2: 37.9; status: Default; sf: abstract_eval_statement(interp::Core.Compiler.NativeInterpreter, e::Any, vtypes::Vector{Core.Compiler.VarState}, sv::Core.Compiler.InferenceState) at abstractinterpretation.jl:1890\" role=\"graphics-symbol\" aria-roledescription=\"rect mark\" d=\"M363.6363636363636,147.33333333333337h27.636363636363626v5.999999999999943h-27.636363636363626Z\" fill=\"#4c78a8\" fill-opacity=\"1\" stroke=\"#505050\" stroke-width=\"0\"/><path aria-label=\"x1: 25; x2: 26.9; level: 38; level2: 38.9; status: Default; sf: abstract_call(interp::Core.Compiler.NativeInterpreter, arginfo::Core.Compiler.ArgInfo, sv::Core.Compiler.InferenceState) at abstractinterpretation.jl:1733\" role=\"graphics-symbol\" aria-roledescription=\"rect mark\" d=\"M363.6363636363636,140.66666666666669h27.636363636363626v6h-27.636363636363626Z\" fill=\"#4c78a8\" fill-opacity=\"1\" stroke=\"#505050\" stroke-width=\"0\"/><path aria-label=\"x1: 25; x2: 26.9; level: 39; level2: 39.9; status: Default; sf: abstract_call(interp::Core.Compiler.NativeInterpreter, arginfo::Core.Compiler.ArgInfo, sv::Core.Compiler.InferenceState, max_methods::Int64) at abstractinterpretation.jl:1766\" role=\"graphics-symbol\" aria-roledescription=\"rect mark\" d=\"M363.6363636363636,134.00000000000003h27.636363636363626v5.999999999999972h-27.636363636363626Z\" fill=\"#4c78a8\" fill-opacity=\"1\" stroke=\"#505050\" stroke-width=\"0\"/><path aria-label=\"x1: 25; x2: 26.9; level: 40; level2: 40.9; status: Default; sf: abstract_call_known(interp::Core.Compiler.NativeInterpreter, f::Any, arginfo::Core.Compiler.ArgInfo, sv::Core.Compiler.InferenceState, max_methods::Int64) at abstractinterpretation.jl:1696\" role=\"graphics-symbol\" aria-roledescription=\"rect mark\" d=\"M363.6363636363636,127.33333333333334h27.636363636363626v6h-27.636363636363626Z\" fill=\"#4c78a8\" fill-opacity=\"1\" stroke=\"#505050\" stroke-width=\"0\"/><path aria-label=\"x1: 25; x2: 26.9; level: 41; level2: 41.9; status: Default; sf: abstract_call_gf_by_type(interp::Core.Compiler.NativeInterpreter, f::Any, arginfo::Core.Compiler.ArgInfo, atype::Any, sv::Core.Compiler.InferenceState, max_methods::Int64) at abstractinterpretation.jl:153\" role=\"graphics-symbol\" aria-roledescription=\"rect mark\" d=\"M363.6363636363636,120.66666666666666h27.636363636363626v6h-27.636363636363626Z\" fill=\"#4c78a8\" fill-opacity=\"1\" stroke=\"#505050\" stroke-width=\"0\"/><path aria-label=\"x1: 25; x2: 26.9; level: 42; level2: 42.9; status: Default; sf: abstract_call_method(interp::Core.Compiler.NativeInterpreter, method::Method, sig::Any, sparams::Core.SimpleVector, hardlimit::Bool, sv::Core.Compiler.InferenceState) at abstractinterpretation.jl:641\" role=\"graphics-symbol\" aria-roledescription=\"rect mark\" d=\"M363.6363636363636,114.00000000000001h27.636363636363626v6h-27.636363636363626Z\" fill=\"#4c78a8\" fill-opacity=\"1\" stroke=\"#505050\" stroke-width=\"0\"/><path aria-label=\"x1: 25; x2: 26.9; level: 43; level2: 43.9; status: Default; sf: typeinf_edge(interp::Core.Compiler.NativeInterpreter, method::Method, atype::Any, sparams::Core.SimpleVector, caller::Core.Compiler.InferenceState) at typeinfer.jl:877\" role=\"graphics-symbol\" aria-roledescription=\"rect mark\" d=\"M363.6363636363636,107.33333333333333h27.636363636363626v6h-27.636363636363626Z\" fill=\"#4c78a8\" fill-opacity=\"1\" stroke=\"#505050\" stroke-width=\"0\"/><path aria-label=\"x1: 25; x2: 26.9; level: 44; level2: 44.9; status: Default; sf: typeinf(interp::Core.Compiler.NativeInterpreter, frame::Core.Compiler.InferenceState) at typeinfer.jl:213\" role=\"graphics-symbol\" aria-roledescription=\"rect mark\" d=\"M363.6363636363636,100.66666666666669h27.636363636363626v6h-27.636363636363626Z\" fill=\"#4c78a8\" fill-opacity=\"1\" stroke=\"#505050\" stroke-width=\"0\"/><path aria-label=\"x1: 25; x2: 26.9; level: 45; level2: 45.9; status: Default; sf: _typeinf(interp::Core.Compiler.NativeInterpreter, frame::Core.Compiler.InferenceState) at typeinfer.jl:257\" role=\"graphics-symbol\" aria-roledescription=\"rect mark\" d=\"M363.6363636363636,94h27.636363636363626v6h-27.636363636363626Z\" fill=\"#4c78a8\" fill-opacity=\"1\" stroke=\"#505050\" stroke-width=\"0\"/><path aria-label=\"x1: 25; x2: 26.9; level: 46; level2: 46.9; status: Default; sf: optimize at optimize.jl:504 [inlined]\" role=\"graphics-symbol\" aria-roledescription=\"rect mark\" d=\"M363.6363636363636,87.33333333333336h27.636363636363626v5.999999999999957h-27.636363636363626Z\" fill=\"#4c78a8\" fill-opacity=\"1\" stroke=\"#505050\" stroke-width=\"0\"/><path aria-label=\"x1: 25; x2: 25.9; level: 47; level2: 47.9; status: Default; sf: run_passes(ci::Core.CodeInfo, sv::Core.Compiler.OptimizationState, caller::Core.Compiler.InferenceResult) at optimize.jl:538\" role=\"graphics-symbol\" aria-roledescription=\"rect mark\" d=\"M363.6363636363636,80.66666666666666h13.090909090909065v6.000000000000014h-13.090909090909065Z\" fill=\"#4c78a8\" fill-opacity=\"1\" stroke=\"#505050\" stroke-width=\"0\"/><path aria-label=\"x1: 25; x2: 25.9; level: 48; level2: 48.9; status: Default; sf: compact! at ir.jl:1459 [inlined]\" role=\"graphics-symbol\" aria-roledescription=\"rect mark\" d=\"M363.6363636363636,74.00000000000003h13.090909090909065v5.999999999999957h-13.090909090909065Z\" fill=\"#4c78a8\" fill-opacity=\"1\" stroke=\"#505050\" stroke-width=\"0\"/><path aria-label=\"x1: 25; x2: 25.9; level: 49; level2: 49.9; status: Default; sf: compact!(code::Core.Compiler.IRCode, allow_cfg_transforms::Bool) at ir.jl:1459\" role=\"graphics-symbol\" aria-roledescription=\"rect mark\" d=\"M363.6363636363636,67.33333333333333h13.090909090909065v6.000000000000014h-13.090909090909065Z\" fill=\"#4c78a8\" fill-opacity=\"1\" stroke=\"#505050\" stroke-width=\"0\"/><path aria-label=\"x1: 25; x2: 25.9; level: 50; level2: 50.9; status: Default; sf: Core.Compiler.IncrementalCompact(code::Core.Compiler.IRCode, allow_cfg_transforms::Bool) at ir.jl:615\" role=\"graphics-symbol\" aria-roledescription=\"rect mark\" d=\"M363.6363636363636,60.66666666666669h13.090909090909065v5.9999999999999645h-13.090909090909065Z\" fill=\"#4c78a8\" fill-opacity=\"1\" stroke=\"#505050\" stroke-width=\"0\"/><path aria-label=\"x1: 25; x2: 25.9; level: 51; level2: 51.9; status: Default; sf: NewNodeStream at ir.jl:269 [inlined]\" role=\"graphics-symbol\" aria-roledescription=\"rect mark\" d=\"M363.6363636363636,54h13.090909090909065v6.000000000000007h-13.090909090909065Z\" fill=\"#4c78a8\" fill-opacity=\"1\" stroke=\"#505050\" stroke-width=\"0\"/><path aria-label=\"x1: 25; x2: 25.9; level: 52; level2: 52.9; status: Default; sf: NewNodeStream at ir.jl:269 [inlined]\" role=\"graphics-symbol\" aria-roledescription=\"rect mark\" d=\"M363.6363636363636,47.33333333333336h13.090909090909065v5.9999999999999645h-13.090909090909065Z\" fill=\"#4c78a8\" fill-opacity=\"1\" stroke=\"#505050\" stroke-width=\"0\"/><path aria-label=\"x1: 25; x2: 25.9; level: 53; level2: 53.9; status: Default; sf: Core.Compiler.InstructionStream(len::Int64) at ir.jl:192\" role=\"graphics-symbol\" aria-roledescription=\"rect mark\" d=\"M363.6363636363636,40.66666666666667h13.090909090909065v6.000000000000007h-13.090909090909065Z\" fill=\"#4c78a8\" fill-opacity=\"1\" stroke=\"#505050\" stroke-width=\"0\"/><path aria-label=\"x1: 25; x2: 25.9; level: 54; level2: 54.9; status: Default; sf: Array at boot.jl:473 [inlined]\" role=\"graphics-symbol\" aria-roledescription=\"rect mark\" d=\"M363.6363636363636,34.00000000000003h13.090909090909065v5.9999999999999645h-13.090909090909065Z\" fill=\"#4c78a8\" fill-opacity=\"1\" stroke=\"#505050\" stroke-width=\"0\"/><path aria-label=\"x1: 25; x2: 25.9; level: 55; level2: 55.9; status: Default; sf: Array at boot.jl:459 [inlined]\" role=\"graphics-symbol\" aria-roledescription=\"rect mark\" d=\"M363.6363636363636,27.333333333333343h13.090909090909065v6.000000000000007h-13.090909090909065Z\" fill=\"#4c78a8\" fill-opacity=\"1\" stroke=\"#505050\" stroke-width=\"0\"/><path aria-label=\"x1: 26; x2: 26.9; level: 47; level2: 47.9; status: Default; sf: run_passes(ci::Core.CodeInfo, sv::Core.Compiler.OptimizationState, caller::Core.Compiler.InferenceResult) at optimize.jl:539\" role=\"graphics-symbol\" aria-roledescription=\"rect mark\" d=\"M378.1818181818182,80.66666666666666h13.090909090909065v6.000000000000014h-13.090909090909065Z\" fill=\"#4c78a8\" fill-opacity=\"1\" stroke=\"#505050\" stroke-width=\"0\"/><path aria-label=\"x1: 26; x2: 26.9; level: 48; level2: 48.9; status: Default; sf: ssa_inlining_pass!(ir::Core.Compiler.IRCode, linetable::Vector{Core.LineInfoNode}, state::Core.Compiler.InliningState{Core.Compiler.EdgeTracker, Core.Compiler.WorldView{Core.Compiler.InternalCodeCache}, Core.Compiler.NativeInterpreter}, propagate_inbounds::Bool) at inlining.jl:82\" role=\"graphics-symbol\" aria-roledescription=\"rect mark\" d=\"M378.1818181818182,74.00000000000003h13.090909090909065v5.999999999999957h-13.090909090909065Z\" fill=\"#4c78a8\" fill-opacity=\"1\" stroke=\"#505050\" stroke-width=\"0\"/><path aria-label=\"x1: 26; x2: 26.9; level: 49; level2: 49.9; status: Default; sf: assemble_inline_todo!(ir::Core.Compiler.IRCode, state::Core.Compiler.InliningState{Core.Compiler.EdgeTracker, Core.Compiler.WorldView{Core.Compiler.InternalCodeCache}, Core.Compiler.NativeInterpreter}) at inlining.jl:1420\" role=\"graphics-symbol\" aria-roledescription=\"rect mark\" d=\"M378.1818181818182,67.33333333333333h13.090909090909065v6.000000000000014h-13.090909090909065Z\" fill=\"#4c78a8\" fill-opacity=\"1\" stroke=\"#505050\" stroke-width=\"0\"/><path aria-label=\"x1: 26; x2: 26.9; level: 50; level2: 50.9; status: Default; sf: analyze_single_call!(ir::Core.Compiler.IRCode, idx::Int64, stmt::Expr, infos::Vector{Core.Compiler.MethodMatchInfo}, flag::UInt8, sig::Core.Compiler.Signature, state::Core.Compiler.InliningState{Core.Compiler.EdgeTracker, Core.Compiler.WorldView{Core.Compiler.InternalCodeCache}, Core.Compiler.NativeInterpreter}, todo::Vector{Pair{Int64, Any}}) at inlining.jl:1222\" role=\"graphics-symbol\" aria-roledescription=\"rect mark\" d=\"M378.1818181818182,60.66666666666669h13.090909090909065v5.9999999999999645h-13.090909090909065Z\" fill=\"#4c78a8\" fill-opacity=\"1\" stroke=\"#505050\" stroke-width=\"0\"/><path aria-label=\"x1: 26; x2: 26.9; level: 51; level2: 51.9; status: Default; sf: analyze_method!(match::Core.MethodMatch, argtypes::Vector{Any}, flag::UInt8, state::Core.Compiler.InliningState{Core.Compiler.EdgeTracker, Core.Compiler.WorldView{Core.Compiler.InternalCodeCache}, Core.Compiler.NativeInterpreter}) at inlining.jl:854\" role=\"graphics-symbol\" aria-roledescription=\"rect mark\" d=\"M378.1818181818182,54h13.090909090909065v6.000000000000007h-13.090909090909065Z\" fill=\"#4c78a8\" fill-opacity=\"1\" stroke=\"#505050\" stroke-width=\"0\"/><path aria-label=\"x1: 26; x2: 26.9; level: 52; level2: 52.9; status: Default; sf: specialize_method at utilities.jl:207 [inlined]\" role=\"graphics-symbol\" aria-roledescription=\"rect mark\" d=\"M378.1818181818182,47.33333333333336h13.090909090909065v5.9999999999999645h-13.090909090909065Z\" fill=\"#4c78a8\" fill-opacity=\"1\" stroke=\"#505050\" stroke-width=\"0\"/><path aria-label=\"x1: 26; x2: 26.9; level: 53; level2: 53.9; status: Default; sf: #specialize_method#255 at utilities.jl:208 [inlined]\" role=\"graphics-symbol\" aria-roledescription=\"rect mark\" d=\"M378.1818181818182,40.66666666666667h13.090909090909065v6.000000000000007h-13.090909090909065Z\" fill=\"#4c78a8\" fill-opacity=\"1\" stroke=\"#505050\" stroke-width=\"0\"/><path aria-label=\"x1: 26; x2: 26.9; level: 54; level2: 54.9; status: Default; sf: specialize_method at utilities.jl:190 [inlined]\" role=\"graphics-symbol\" aria-roledescription=\"rect mark\" d=\"M378.1818181818182,34.00000000000003h13.090909090909065v5.9999999999999645h-13.090909090909065Z\" fill=\"#4c78a8\" fill-opacity=\"1\" stroke=\"#505050\" stroke-width=\"0\"/><path aria-label=\"x1: 26; x2: 26.9; level: 55; level2: 55.9; status: Default; sf: specialize_method(method::Method, atype::Any, sparams::Core.SimpleVector; preexisting::Bool, compilesig::Bool) at utilities.jl:202\" role=\"graphics-symbol\" aria-roledescription=\"rect mark\" d=\"M378.1818181818182,27.333333333333343h13.090909090909065v6.000000000000007h-13.090909090909065Z\" fill=\"#4c78a8\" fill-opacity=\"1\" stroke=\"#505050\" stroke-width=\"0\"/><path aria-label=\"x1: 32; x2: 34.9; level: 18; level2: 18.9; status: Default; sf: hopping_operator(f::Function, l::SquareLattice, hop::Hopping{Matrix{ComplexF64}}) at hoppings.jl:104\" role=\"graphics-symbol\" aria-roledescription=\"rect mark\" d=\"M465.45454545454544,274h42.18181818181819v6h-42.18181818181819Z\" fill=\"#4c78a8\" fill-opacity=\"1\" stroke=\"#505050\" stroke-width=\"0\"/><path aria-label=\"x1: 32; x2: 32.9; level: 19; level2: 19.9; status: Default; sf: iterate(l::SquareLattice) at lattice.jl:53\" role=\"graphics-symbol\" aria-roledescription=\"rect mark\" d=\"M465.45454545454544,267.3333333333333h13.090909090909065v6h-13.090909090909065Z\" fill=\"#4c78a8\" fill-opacity=\"1\" stroke=\"#505050\" stroke-width=\"0\"/><path aria-label=\"x1: 32; x2: 32.9; level: 20; level2: 20.9; status: Default; sf: start at lattice.jl:32 [inlined]\" role=\"graphics-symbol\" aria-roledescription=\"rect mark\" d=\"M465.45454545454544,260.66666666666663h13.090909090909065v6.000000000000057h-13.090909090909065Z\" fill=\"#4c78a8\" fill-opacity=\"1\" stroke=\"#505050\" stroke-width=\"0\"/><path aria-label=\"x1: 32; x2: 32.9; level: 21; level2: 21.9; status: Default; sf: fill at array.jl:534 [inlined]\" role=\"graphics-symbol\" aria-roledescription=\"rect mark\" d=\"M465.45454545454544,254h13.090909090909065v6h-13.090909090909065Z\" fill=\"#4c78a8\" fill-opacity=\"1\" stroke=\"#505050\" stroke-width=\"0\"/><path aria-label=\"x1: 32; x2: 32.9; level: 22; level2: 22.9; status: Default; sf: fill at array.jl:536 [inlined]\" role=\"graphics-symbol\" aria-roledescription=\"rect mark\" d=\"M465.45454545454544,247.33333333333337h13.090909090909065v5.999999999999943h-13.090909090909065Z\" fill=\"#4c78a8\" fill-opacity=\"1\" stroke=\"#505050\" stroke-width=\"0\"/><path aria-label=\"x1: 32; x2: 32.9; level: 23; level2: 23.9; status: Default; sf: Array at boot.jl:468 [inlined]\" role=\"graphics-symbol\" aria-roledescription=\"rect mark\" d=\"M465.45454545454544,240.66666666666669h13.090909090909065v6h-13.090909090909065Z\" fill=\"#4c78a8\" fill-opacity=\"1\" stroke=\"#505050\" stroke-width=\"0\"/><path aria-label=\"x1: 32; x2: 32.9; level: 24; level2: 24.9; status: Default; sf: Array at boot.jl:459 [inlined]\" role=\"graphics-symbol\" aria-roledescription=\"rect mark\" d=\"M465.45454545454544,234h13.090909090909065v6h-13.090909090909065Z\" fill=\"#4c78a8\" fill-opacity=\"1\" stroke=\"#505050\" stroke-width=\"0\"/><path aria-label=\"x1: 33; x2: 34.9; level: 19; level2: 19.9; status: Default; sf: iterate(l::SquareLattice) at lattice.jl:54\" role=\"graphics-symbol\" aria-roledescription=\"rect mark\" d=\"M480,267.3333333333333h27.636363636363626v6h-27.636363636363626Z\" fill=\"#4c78a8\" fill-opacity=\"1\" stroke=\"#505050\" stroke-width=\"0\"/><path aria-label=\"x1: 33; x2: 34.9; level: 20; level2: 20.9; status: Default; sf: bravais at lattice.jl:24 [inlined]\" role=\"graphics-symbol\" aria-roledescription=\"rect mark\" d=\"M480,260.66666666666663h27.636363636363626v6.000000000000057h-27.636363636363626Z\" fill=\"#4c78a8\" fill-opacity=\"1\" stroke=\"#505050\" stroke-width=\"0\"/><path aria-label=\"x1: 33; x2: 33.9; level: 21; level2: 21.9; status: Default; sf: _bravais(#unused#::SquareLattice, dims::Int64) at lattice.jl:128\" role=\"graphics-symbol\" aria-roledescription=\"rect mark\" d=\"M480,254h13.090909090909065v6h-13.090909090909065Z\" fill=\"#4c78a8\" fill-opacity=\"1\" stroke=\"#505050\" stroke-width=\"0\"/><path aria-label=\"x1: 34; x2: 34.9; level: 21; level2: 21.9; status: Default; sf: _bravais(#unused#::SquareLattice, dims::Int64) at lattice.jl:158\" role=\"graphics-symbol\" aria-roledescription=\"rect mark\" d=\"M494.5454545454545,254h13.090909090909122v6h-13.090909090909122Z\" fill=\"#4c78a8\" fill-opacity=\"1\" stroke=\"#505050\" stroke-width=\"0\"/><path aria-label=\"x1: 34; x2: 34.9; level: 22; level2: 22.9; status: Default; sf: Bravais at lattice.jl:12 [inlined]\" role=\"graphics-symbol\" aria-roledescription=\"rect mark\" d=\"M494.5454545454545,247.33333333333337h13.090909090909122v5.999999999999943h-13.090909090909122Z\" fill=\"#4c78a8\" fill-opacity=\"1\" stroke=\"#505050\" stroke-width=\"0\"/><path aria-label=\"x1: 34; x2: 34.9; level: 23; level2: 23.9; status: Default; sf: convert at array.jl:617 [inlined]\" role=\"graphics-symbol\" aria-roledescription=\"rect mark\" d=\"M494.5454545454545,240.66666666666669h13.090909090909122v6h-13.090909090909122Z\" fill=\"#4c78a8\" fill-opacity=\"1\" stroke=\"#505050\" stroke-width=\"0\"/><path aria-label=\"x1: 34; x2: 34.9; level: 24; level2: 24.9; status: Default; sf: Matrix{Float64}(x::Matrix{Bool}) at array.jl:626\" role=\"graphics-symbol\" aria-roledescription=\"rect mark\" d=\"M494.5454545454545,234h13.090909090909122v6h-13.090909090909122Z\" fill=\"#4c78a8\" fill-opacity=\"1\" stroke=\"#505050\" stroke-width=\"0\"/><path aria-label=\"x1: 34; x2: 34.9; level: 25; level2: 25.9; status: Default; sf: Array at boot.jl:469 [inlined]\" role=\"graphics-symbol\" aria-roledescription=\"rect mark\" d=\"M494.5454545454545,227.33333333333334h13.090909090909122v5.999999999999972h-13.090909090909122Z\" fill=\"#4c78a8\" fill-opacity=\"1\" stroke=\"#505050\" stroke-width=\"0\"/><path aria-label=\"x1: 34; x2: 34.9; level: 26; level2: 26.9; status: Default; sf: Array at boot.jl:461 [inlined]\" role=\"graphics-symbol\" aria-roledescription=\"rect mark\" d=\"M494.5454545454545,220.66666666666669h13.090909090909122v5.999999999999972h-13.090909090909122Z\" fill=\"#4c78a8\" fill-opacity=\"1\" stroke=\"#505050\" stroke-width=\"0\"/><path aria-label=\"x1: 35; x2: 41.9; level: 18; level2: 18.9; status: Runtime dispatch; sf: hopping_operator(f::Function, l::SquareLattice, hop::Hopping{Matrix{ComplexF64}}) at hoppings.jl:105\" role=\"graphics-symbol\" aria-roledescription=\"rect mark\" d=\"M509.09090909090907,274h100.36363636363643v6h-100.36363636363643Z\" fill=\"#e45756\" fill-opacity=\"1\" stroke=\"#505050\" stroke-width=\"0\"/><path aria-label=\"x1: 35; x2: 35.9; level: 19; level2: 19.9; status: Default; sf: typeinf_ext_toplevel(mi::Core.MethodInstance, world::UInt64) at typeinfer.jl:996\" role=\"graphics-symbol\" aria-roledescription=\"rect mark\" d=\"M509.09090909090907,267.3333333333333h13.090909090909065v6h-13.090909090909065Z\" fill=\"#4c78a8\" fill-opacity=\"1\" stroke=\"#505050\" stroke-width=\"0\"/><path aria-label=\"x1: 35; x2: 35.9; level: 20; level2: 20.9; status: Default; sf: typeinf_ext_toplevel(interp::Core.Compiler.NativeInterpreter, linfo::Core.MethodInstance) at typeinfer.jl:1000\" role=\"graphics-symbol\" aria-roledescription=\"rect mark\" d=\"M509.09090909090907,260.66666666666663h13.090909090909065v6.000000000000057h-13.090909090909065Z\" fill=\"#4c78a8\" fill-opacity=\"1\" stroke=\"#505050\" stroke-width=\"0\"/><path aria-label=\"x1: 35; x2: 35.9; level: 21; level2: 21.9; status: Default; sf: typeinf_ext(interp::Core.Compiler.NativeInterpreter, mi::Core.MethodInstance) at typeinfer.jl:965\" role=\"graphics-symbol\" aria-roledescription=\"rect mark\" d=\"M509.09090909090907,254h13.090909090909065v6h-13.090909090909065Z\" fill=\"#4c78a8\" fill-opacity=\"1\" stroke=\"#505050\" stroke-width=\"0\"/><path aria-label=\"x1: 35; x2: 35.9; level: 22; level2: 22.9; status: Default; sf: Core.Compiler.InferenceState(result::Core.Compiler.InferenceResult, cache::Symbol, interp::Core.Compiler.NativeInterpreter) at inferencestate.jl:287\" role=\"graphics-symbol\" aria-roledescription=\"rect mark\" d=\"M509.09090909090907,247.33333333333337h13.090909090909065v5.999999999999943h-13.090909090909065Z\" fill=\"#4c78a8\" fill-opacity=\"1\" stroke=\"#505050\" stroke-width=\"0\"/><path aria-label=\"x1: 35; x2: 35.9; level: 23; level2: 23.9; status: Default; sf: Core.Compiler.InferenceState(result::Core.Compiler.InferenceResult, src::Core.CodeInfo, cache::Symbol, interp::Core.Compiler.NativeInterpreter) at inferencestate.jl:104\" role=\"graphics-symbol\" aria-roledescription=\"rect mark\" d=\"M509.09090909090907,240.66666666666669h13.090909090909065v6h-13.090909090909065Z\" fill=\"#4c78a8\" fill-opacity=\"1\" stroke=\"#505050\" stroke-width=\"0\"/><path aria-label=\"x1: 35; x2: 35.9; level: 24; level2: 24.9; status: Default; sf: find_ssavalue_uses(body::Vector{Any}, nvals::Int64) at utilities.jl:248\" role=\"graphics-symbol\" aria-roledescription=\"rect mark\" d=\"M509.09090909090907,234h13.090909090909065v6h-13.090909090909065Z\" fill=\"#4c78a8\" fill-opacity=\"1\" stroke=\"#505050\" stroke-width=\"0\"/><path aria-label=\"x1: 35; x2: 35.9; level: 25; level2: 25.9; status: Default; sf: BitSet at bitset.jl:18 [inlined]\" role=\"graphics-symbol\" aria-roledescription=\"rect mark\" d=\"M509.09090909090907,227.33333333333334h13.090909090909065v5.999999999999972h-13.090909090909065Z\" fill=\"#4c78a8\" fill-opacity=\"1\" stroke=\"#505050\" stroke-width=\"0\"/><path aria-label=\"x1: 35; x2: 35.9; level: 26; level2: 26.9; status: Default; sf: sizehint! at array.jl:1267 [inlined]\" role=\"graphics-symbol\" aria-roledescription=\"rect mark\" d=\"M509.09090909090907,220.66666666666669h13.090909090909065v5.999999999999972h-13.090909090909065Z\" fill=\"#4c78a8\" fill-opacity=\"1\" stroke=\"#505050\" stroke-width=\"0\"/><path aria-label=\"x1: 36; x2: 38.9; level: 19; level2: 19.9; status: Default; sf: _match(h::Hopping{Matrix{ComplexF64}}, l::SquareLattice, site1::LatticeIndex, site2::LatticeIndex) at hoppings.jl:0\" role=\"graphics-symbol\" aria-roledescription=\"rect mark\" d=\"M523.6363636363636,267.3333333333333h42.181818181818244v6h-42.181818181818244Z\" fill=\"#4c78a8\" fill-opacity=\"1\" stroke=\"#505050\" stroke-width=\"0\"/><path aria-label=\"x1: 39; x2: 39.9; level: 19; level2: 19.9; status: Default; sf: _match(h::Hopping{Matrix{ComplexF64}}, l::SquareLattice, site1::LatticeIndex, site2::LatticeIndex) at hoppings.jl:82\" role=\"graphics-symbol\" aria-roledescription=\"rect mark\" d=\"M567.2727272727273,267.3333333333333h13.090909090909122v6h-13.090909090909122Z\" fill=\"#4c78a8\" fill-opacity=\"1\" stroke=\"#505050\" stroke-width=\"0\"/><path aria-label=\"x1: 40; x2: 40.9; level: 19; level2: 19.9; status: Default; sf: _match(h::Hopping{Matrix{ComplexF64}}, l::SquareLattice, site1::LatticeIndex, site2::LatticeIndex) at hoppings.jl:85\" role=\"graphics-symbol\" aria-roledescription=\"rect mark\" d=\"M581.8181818181819,267.3333333333333h13.090909090909008v6h-13.090909090909008Z\" fill=\"#4c78a8\" fill-opacity=\"1\" stroke=\"#505050\" stroke-width=\"0\"/><path aria-label=\"x1: 40; x2: 40.9; level: 20; level2: 20.9; status: Default; sf: getindex at array.jl:924 [inlined]\" role=\"graphics-symbol\" aria-roledescription=\"rect mark\" d=\"M581.8181818181819,260.66666666666663h13.090909090909008v6.000000000000057h-13.090909090909008Z\" fill=\"#4c78a8\" fill-opacity=\"1\" stroke=\"#505050\" stroke-width=\"0\"/><path aria-label=\"x1: 41; x2: 41.9; level: 19; level2: 19.9; status: Default; sf: _match(h::Hopping{Matrix{ComplexF64}}, l::SquareLattice, site1::LatticeIndex, site2::LatticeIndex) at hoppings.jl:86\" role=\"graphics-symbol\" aria-roledescription=\"rect mark\" d=\"M596.3636363636364,267.3333333333333h13.090909090909122v6h-13.090909090909122Z\" fill=\"#4c78a8\" fill-opacity=\"1\" stroke=\"#505050\" stroke-width=\"0\"/><path aria-label=\"x1: 41; x2: 41.9; level: 20; level2: 20.9; status: Default; sf: getindex at array.jl:924 [inlined]\" role=\"graphics-symbol\" aria-roledescription=\"rect mark\" d=\"M596.3636363636364,260.66666666666663h13.090909090909122v6.000000000000057h-13.090909090909122Z\" fill=\"#4c78a8\" fill-opacity=\"1\" stroke=\"#505050\" stroke-width=\"0\"/><path aria-label=\"x1: 42; x2: 51.9; level: 18; level2: 18.9; status: Default; sf: hopping_operator(f::Function, l::SquareLattice, hop::Hopping{Matrix{ComplexF64}}) at hoppings.jl:110\" role=\"graphics-symbol\" aria-roledescription=\"rect mark\" d=\"M610.909090909091,274h143.9999999999999v6h-143.9999999999999Z\" fill=\"#4c78a8\" fill-opacity=\"1\" stroke=\"#505050\" stroke-width=\"0\"/><path aria-label=\"x1: 42; x2: 51.9; level: 19; level2: 19.9; status: Default; sf: iterate at lattice.jl:59 [inlined]\" role=\"graphics-symbol\" aria-roledescription=\"rect mark\" d=\"M610.909090909091,267.3333333333333h143.9999999999999v6h-143.9999999999999Z\" fill=\"#4c78a8\" fill-opacity=\"1\" stroke=\"#505050\" stroke-width=\"0\"/><path aria-label=\"x1: 42; x2: 45.9; level: 20; level2: 20.9; status: Default; sf: proceed!(l::SquareLattice, bvs_len::Int64, site::LatticeIndex) at lattice.jl:34\" role=\"graphics-symbol\" aria-roledescription=\"rect mark\" d=\"M610.909090909091,260.66666666666663h56.727272727272634v6.000000000000057h-56.727272727272634Z\" fill=\"#4c78a8\" fill-opacity=\"1\" stroke=\"#505050\" stroke-width=\"0\"/><path aria-label=\"x1: 46; x2: 48.9; level: 20; level2: 20.9; status: Default; sf: proceed!(l::SquareLattice, bvs_len::Int64, site::LatticeIndex) at lattice.jl:35\" role=\"graphics-symbol\" aria-roledescription=\"rect mark\" d=\"M669.090909090909,260.66666666666663h42.181818181818244v6.000000000000057h-42.181818181818244Z\" fill=\"#4c78a8\" fill-opacity=\"1\" stroke=\"#505050\" stroke-width=\"0\"/><path aria-label=\"x1: 46; x2: 48.9; level: 21; level2: 21.9; status: Default; sf: == at array.jl:1759 [inlined]\" role=\"graphics-symbol\" aria-roledescription=\"rect mark\" d=\"M669.090909090909,254h42.181818181818244v6h-42.181818181818244Z\" fill=\"#4c78a8\" fill-opacity=\"1\" stroke=\"#505050\" stroke-width=\"0\"/><path aria-label=\"x1: 46; x2: 48.9; level: 22; level2: 22.9; status: Default; sf: _memcmp at array.jl:1743 [inlined]\" role=\"graphics-symbol\" aria-roledescription=\"rect mark\" d=\"M669.090909090909,247.33333333333337h42.181818181818244v5.999999999999943h-42.181818181818244Z\" fill=\"#4c78a8\" fill-opacity=\"1\" stroke=\"#505050\" stroke-width=\"0\"/><path aria-label=\"x1: 49; x2: 49.9; level: 20; level2: 20.9; status: Default; sf: proceed!(l::SquareLattice, bvs_len::Int64, site::LatticeIndex) at lattice.jl:45\" role=\"graphics-symbol\" aria-roledescription=\"rect mark\" d=\"M712.7272727272727,260.66666666666663h13.090909090909008v6.000000000000057h-13.090909090909008Z\" fill=\"#4c78a8\" fill-opacity=\"1\" stroke=\"#505050\" stroke-width=\"0\"/><path aria-label=\"x1: 49; x2: 49.9; level: 21; level2: 21.9; status: Default; sf: setindex! at array.jl:966 [inlined]\" role=\"graphics-symbol\" aria-roledescription=\"rect mark\" d=\"M712.7272727272727,254h13.090909090909008v6h-13.090909090909008Z\" fill=\"#4c78a8\" fill-opacity=\"1\" stroke=\"#505050\" stroke-width=\"0\"/><path aria-label=\"x1: 52; x2: 52.9; level: 18; level2: 18.9; status: Default; sf: hopping_operator(f::Function, l::SquareLattice, hop::Hopping{Matrix{ComplexF64}}) at hoppings.jl:113\" role=\"graphics-symbol\" aria-roledescription=\"rect mark\" d=\"M756.3636363636364,274h13.090909090909008v6h-13.090909090909008Z\" fill=\"#4c78a8\" fill-opacity=\"1\" stroke=\"#505050\" stroke-width=\"0\"/><path aria-label=\"x1: 52; x2: 52.9; level: 19; level2: 19.9; status: Runtime dispatch; sf: LatticeVecOrMat(basis::Basis, operator::Matrix{ComplexF64}) at lattice_values.jl:50\" role=\"graphics-symbol\" aria-roledescription=\"rect mark\" d=\"M756.3636363636364,267.3333333333333h13.090909090909008v6h-13.090909090909008Z\" fill=\"#e45756\" fill-opacity=\"1\" stroke=\"#505050\" stroke-width=\"0\"/></g><g class=\"mark-group role-legend\" role=\"graphics-symbol\" aria-roledescription=\"legend\" aria-label=\"Symbol legend for fill color with 3 values: Default, Garbage collection, Runtime dispatch\"><g transform=\"translate(0,418)\"><path class=\"background\" aria-hidden=\"true\" d=\"M0,0h284v13h-284Z\" pointer-events=\"none\"/><g><g class=\"mark-group role-legend-entry\"><g transform=\"translate(0,0)\"><path class=\"background\" aria-hidden=\"true\" d=\"M0,0h0v0h0Z\" pointer-events=\"none\"/><g><g class=\"mark-group role-scope\" role=\"graphics-object\" aria-roledescription=\"group mark container\"><g transform=\"translate(0,0.25)\"><path class=\"background\" aria-hidden=\"true\" d=\"M0,0h53v12.5h-53Z\" pointer-events=\"none\" opacity=\"1\"/><g><g class=\"mark-symbol role-legend-symbol\" pointer-events=\"none\"><path transform=\"translate(6,6)\" d=\"M-5,-5h10v10h-10Z\" fill=\"#4c78a8\" stroke=\"#505050\" stroke-width=\"1.5\" opacity=\"1\"/></g><g class=\"mark-text role-legend-label\" pointer-events=\"none\"><text text-anchor=\"start\" transform=\"translate(16,9)\" font-family=\"sans-serif\" font-size=\"10px\" fill=\"#000\" opacity=\"1\">Default</text></g></g><path class=\"foreground\" aria-hidden=\"true\" d=\"\" pointer-events=\"none\" display=\"none\"/></g><g transform=\"translate(64,0.25)\"><path class=\"background\" aria-hidden=\"true\" d=\"M0,0h108v12.5h-108Z\" pointer-events=\"none\" opacity=\"1\"/><g><g class=\"mark-symbol role-legend-symbol\" pointer-events=\"none\"><path transform=\"translate(6,6)\" d=\"M-5,-5h10v10h-10Z\" fill=\"#f58518\" stroke=\"#505050\" stroke-width=\"1.5\" opacity=\"1\"/></g><g class=\"mark-text role-legend-label\" pointer-events=\"none\"><text text-anchor=\"start\" transform=\"translate(16,9)\" font-family=\"sans-serif\" font-size=\"10px\" fill=\"#000\" opacity=\"1\">Garbage collection</text></g></g><path class=\"foreground\" aria-hidden=\"true\" d=\"\" pointer-events=\"none\" display=\"none\"/></g><g transform=\"translate(183,0.25)\"><path class=\"background\" aria-hidden=\"true\" d=\"M0,0h101v12.5h-101Z\" pointer-events=\"none\" opacity=\"1\"/><g><g class=\"mark-symbol role-legend-symbol\" pointer-events=\"none\"><path transform=\"translate(6,6)\" d=\"M-5,-5h10v10h-10Z\" fill=\"#e45756\" stroke=\"#505050\" stroke-width=\"1.5\" opacity=\"1\"/></g><g class=\"mark-text role-legend-label\" pointer-events=\"none\"><text text-anchor=\"start\" transform=\"translate(16,9)\" font-family=\"sans-serif\" font-size=\"10px\" fill=\"#000\" opacity=\"1\">Runtime dispatch</text></g></g><path class=\"foreground\" aria-hidden=\"true\" d=\"\" pointer-events=\"none\" display=\"none\"/></g></g></g><path class=\"foreground\" aria-hidden=\"true\" d=\"\" pointer-events=\"none\" display=\"none\"/></g></g></g><path class=\"foreground\" aria-hidden=\"true\" d=\"\" pointer-events=\"none\" display=\"none\"/></g></g><g class=\"mark-group role-title\"><g transform=\"translate(400,-17)\"><path class=\"background\" aria-hidden=\"true\" d=\"M0,0h0v0h0Z\" pointer-events=\"none\"/><g><g class=\"mark-text role-title-text\" role=\"graphics-symbol\" aria-roledescription=\"title\" aria-label=\"Title text 'Profile Results'\" pointer-events=\"none\"><text text-anchor=\"middle\" transform=\"translate(0,10)\" font-family=\"sans-serif\" font-size=\"13px\" font-weight=\"bold\" fill=\"#000\" opacity=\"1\">Profile Results</text></g></g><path class=\"foreground\" aria-hidden=\"true\" d=\"\" pointer-events=\"none\" display=\"none\"/></g></g></g><path class=\"foreground\" aria-hidden=\"true\" d=\"\" display=\"none\"/></g></g></g><defs><clipPath id=\"clip1\"><rect x=\"0\" y=\"0\" width=\"800\" height=\"400\"/></clipPath></defs></svg>\n",
      "text/plain": [
       "@vlplot(\n",
       "    mark={\n",
       "        type=\"rect\",\n",
       "        stroke=\"#505050\"\n",
       "    },\n",
       "    transform=[\n",
       "        {\n",
       "            calculate=\"datum.level+0.9\",\n",
       "            as=\"level2\"\n",
       "        }\n",
       "    ],\n",
       "    selection={\n",
       "        grid={\n",
       "            type=\"interval\",\n",
       "            bind=\"scales\"\n",
       "        },\n",
       "        highlight={\n",
       "            type=\"single\",\n",
       "            on=\"mouseover\",\n",
       "            empty=\"none\"\n",
       "        },\n",
       "        select={\n",
       "            type=\"multi\",\n",
       "            empty=\"none\"\n",
       "        }\n",
       "    },\n",
       "    width=800,\n",
       "    height=400,\n",
       "    title=\"Profile Results\",\n",
       "    encoding={\n",
       "        x={\n",
       "            axis=nothing,\n",
       "            field=\"x1\"\n",
       "        },\n",
       "        x2={\n",
       "            field=\"x2\"\n",
       "        },\n",
       "        y={\n",
       "            axis=nothing,\n",
       "            field=\"level\",\n",
       "            type=\"quantitative\"\n",
       "        },\n",
       "        y2={\n",
       "            field=\"level2\",\n",
       "            type=\"quantitative\"\n",
       "        },\n",
       "        fillOpacity={\n",
       "            condition=[\n",
       "                {\n",
       "                    selection=\"highlight\",\n",
       "                    value=0.6\n",
       "                },\n",
       "                {\n",
       "                    selection=\"select\",\n",
       "                    value=0.5\n",
       "                }\n",
       "            ],\n",
       "            value=1\n",
       "        },\n",
       "        strokeWidth={\n",
       "            condition=[\n",
       "                {\n",
       "                    selection=\"highlight\",\n",
       "                    value=0.5\n",
       "                },\n",
       "                {\n",
       "                    selection=\"select\",\n",
       "                    value=0.5\n",
       "                }\n",
       "            ],\n",
       "            value=0\n",
       "        },\n",
       "        color={\n",
       "            legend={\n",
       "                title=nothing,\n",
       "                orient=\"bottom\"\n",
       "            },\n",
       "            field=\"status\",\n",
       "            type=\"nominal\"\n",
       "        },\n",
       "        tooltip={\n",
       "            field=\"sf\"\n",
       "        }\n",
       "    },\n",
       "    data={\n",
       "        values=...\n",
       "    }\n",
       ")"
      ]
     },
     "metadata": {},
     "output_type": "display_data"
    }
   ],
   "source": [
    "PV.@profview for _ in 1:100 hopping_operator(_ -> true, l, hp) end"
   ]
  },
  {
   "cell_type": "code",
   "execution_count": 15,
   "metadata": {},
   "outputs": [
    {
     "ename": "UndefVarError",
     "evalue": "UndefVarError: X not defined",
     "output_type": "error",
     "traceback": [
      "UndefVarError: X not defined\n"
     ]
    }
   ],
   "source": [
    "X"
   ]
  },
  {
   "cell_type": "code",
   "execution_count": 14,
   "metadata": {},
   "outputs": [
    {
     "data": {
      "text/plain": [
       "BenchmarkTools.Trial: 10000 samples with 1 evaluation.\n",
       " Range \u001b[90m(\u001b[39m\u001b[36m\u001b[1mmin\u001b[22m\u001b[39m … \u001b[35mmax\u001b[39m\u001b[90m):  \u001b[39m\u001b[36m\u001b[1m235.700 μs\u001b[22m\u001b[39m … \u001b[35m  6.265 ms\u001b[39m  \u001b[90m┊\u001b[39m GC \u001b[90m(\u001b[39mmin … max\u001b[90m): \u001b[39m0.00% … 0.00%\n",
       " Time  \u001b[90m(\u001b[39m\u001b[34m\u001b[1mmedian\u001b[22m\u001b[39m\u001b[90m):     \u001b[39m\u001b[34m\u001b[1m420.750 μs               \u001b[22m\u001b[39m\u001b[90m┊\u001b[39m GC \u001b[90m(\u001b[39mmedian\u001b[90m):    \u001b[39m0.00%\n",
       " Time  \u001b[90m(\u001b[39m\u001b[32m\u001b[1mmean\u001b[22m\u001b[39m ± \u001b[32mσ\u001b[39m\u001b[90m):   \u001b[39m\u001b[32m\u001b[1m473.602 μs\u001b[22m\u001b[39m ± \u001b[32m312.121 μs\u001b[39m  \u001b[90m┊\u001b[39m GC \u001b[90m(\u001b[39mmean ± σ\u001b[90m):  \u001b[39m4.29% ± 6.88%\n",
       "\n",
       "  \u001b[39m▅\u001b[39m \u001b[39m \u001b[39m \u001b[39m \u001b[39m \u001b[39m \u001b[39m \u001b[39m█\u001b[39m▃\u001b[39m \u001b[34m \u001b[39m\u001b[39m \u001b[39m \u001b[39m \u001b[32m \u001b[39m\u001b[39m \u001b[39m \u001b[39m \u001b[39m \u001b[39m \u001b[39m \u001b[39m \u001b[39m \u001b[39m \u001b[39m \u001b[39m \u001b[39m \u001b[39m \u001b[39m \u001b[39m \u001b[39m \u001b[39m \u001b[39m \u001b[39m \u001b[39m \u001b[39m \u001b[39m \u001b[39m \u001b[39m \u001b[39m \u001b[39m \u001b[39m \u001b[39m \u001b[39m \u001b[39m \u001b[39m \u001b[39m \u001b[39m \u001b[39m \u001b[39m \u001b[39m \u001b[39m \u001b[39m \u001b[39m \u001b[39m \u001b[39m \u001b[39m \u001b[39m \u001b[39m \u001b[39m \u001b[39m \u001b[39m \n",
       "  \u001b[39m█\u001b[39m▄\u001b[39m▃\u001b[39m▂\u001b[39m▂\u001b[39m▂\u001b[39m▃\u001b[39m▅\u001b[39m█\u001b[39m█\u001b[39m▇\u001b[34m▆\u001b[39m\u001b[39m▅\u001b[39m▃\u001b[39m▄\u001b[32m▄\u001b[39m\u001b[39m▆\u001b[39m▇\u001b[39m▇\u001b[39m▆\u001b[39m▆\u001b[39m▅\u001b[39m▄\u001b[39m▄\u001b[39m▃\u001b[39m▃\u001b[39m▃\u001b[39m▃\u001b[39m▂\u001b[39m▂\u001b[39m▂\u001b[39m▂\u001b[39m▂\u001b[39m▂\u001b[39m▂\u001b[39m▂\u001b[39m▂\u001b[39m▂\u001b[39m▂\u001b[39m▂\u001b[39m▂\u001b[39m▂\u001b[39m▂\u001b[39m▂\u001b[39m▂\u001b[39m▂\u001b[39m▂\u001b[39m▂\u001b[39m▂\u001b[39m▂\u001b[39m▂\u001b[39m▂\u001b[39m▂\u001b[39m▂\u001b[39m▂\u001b[39m▁\u001b[39m▁\u001b[39m▂\u001b[39m▂\u001b[39m▂\u001b[39m▂\u001b[39m \u001b[39m▃\n",
       "  236 μs\u001b[90m           Histogram: frequency by time\u001b[39m         1.24 ms \u001b[0m\u001b[1m<\u001b[22m\n",
       "\n",
       " Memory estimate\u001b[90m: \u001b[39m\u001b[33m312.55 KiB\u001b[39m, allocs estimate\u001b[90m: \u001b[39m\u001b[33m2\u001b[39m."
      ]
     },
     "metadata": {},
     "output_type": "display_data"
    }
   ],
   "source": [
    "@benchmark x * y"
   ]
  },
  {
   "cell_type": "code",
   "execution_count": 23,
   "metadata": {},
   "outputs": [
    {
     "data": {
      "text/plain": [
       "200×200 LatticeMatrix with inner type Matrix{Float64}\n",
       "on Basis with 2-dimensional internal phase space\n",
       "on 10×10 square lattice"
      ]
     },
     "metadata": {},
     "output_type": "display_data"
    }
   ],
   "source": [
    "o = @on_lattice one(X)"
   ]
  },
  {
   "cell_type": "code",
   "execution_count": 25,
   "metadata": {},
   "outputs": [
    {
     "data": {
      "text/plain": [
       "200×200 LatticeMatrix with inner type SubArray{Float64, 2, Array{Float64, 3}, Tuple{Base.Slice{Base.OneTo{Int64}}, Base.Slice{Base.OneTo{Int64}}, Int64}, true}\n",
       "on Basis with 2-dimensional internal phase space\n",
       "on 10×10 square lattice"
      ]
     },
     "metadata": {},
     "output_type": "display_data"
    }
   ],
   "source": [
    "X"
   ]
  },
  {
   "cell_type": "code",
   "execution_count": 25,
   "metadata": {},
   "outputs": [
    {
     "data": {
      "text/plain": [
       "@dict (macro with 1 method)"
      ]
     },
     "metadata": {},
     "output_type": "display_data"
    }
   ],
   "source": [
    "macro dict(expr)\n",
    "    if !Meta.isexpr(expr, :braces)\n",
    "        error(\"braces expected\")\n",
    "    end\n",
    "    kwpairs = []\n",
    "    for arg in expr.args\n",
    "        if Meta.isexpr(arg, :call) && arg.args[1] === :(:)\n",
    "            key, value = arg.args[2:3]\n",
    "            if Meta.isexpr(value, :braces)\n",
    "                value = (@macroexpand @dict($value))\n",
    "            end\n",
    "            push!(kwpairs, :($(esc(key)) => $(esc(value))))\n",
    "        else\n",
    "            error(\"invalid pair format\")\n",
    "        end\n",
    "    end\n",
    "    quote\n",
    "        Dict($(kwpairs...))\n",
    "    end\n",
    "end"
   ]
  },
  {
   "cell_type": "code",
   "execution_count": 26,
   "metadata": {},
   "outputs": [
    {
     "data": {
      "text/plain": [
       "5"
      ]
     },
     "metadata": {},
     "output_type": "display_data"
    }
   ],
   "source": [
    "a = 3\n",
    "b = 5"
   ]
  },
  {
   "cell_type": "code",
   "execution_count": 27,
   "metadata": {},
   "outputs": [
    {
     "ename": "LoadError",
     "evalue": "LoadError: braces expected\nin expression starting at c:\\Users\\Alexander\\Julia Projects\\LatticeModels\\demo.ipynb:1",
     "output_type": "error",
     "traceback": [
      "LoadError: braces expected\n",
      "in expression starting at c:\\Users\\Alexander\\Julia Projects\\LatticeModels\\demo.ipynb:1\n",
      "\n",
      "Stacktrace:\n",
      "  [1] error(s::String)\n",
      "    @ Base .\\error.jl:35\n",
      "  [2] var\"@dict\"(__source__::LineNumberNode, __module__::Module, expr::Any)\n",
      "    @ Main c:\\Users\\Alexander\\Julia Projects\\LatticeModels\\demo.ipynb:3\n",
      "  [3] #macroexpand#61\n",
      "    @ .\\expr.jl:115 [inlined]\n",
      "  [4] var\"@dict\"(__source__::LineNumberNode, __module__::Module, expr::Any)\n",
      "    @ Main c:\\Users\\Alexander\\Julia Projects\\LatticeModels\\demo.ipynb:10\n",
      "  [5] eval\n",
      "    @ .\\boot.jl:368 [inlined]\n",
      "  [6] include_string(mapexpr::typeof(REPL.softscope), mod::Module, code::String, filename::String)\n",
      "    @ Base .\\loading.jl:1428\n",
      "  [7] #invokelatest#2\n",
      "    @ .\\essentials.jl:729 [inlined]\n",
      "  [8] invokelatest\n",
      "    @ .\\essentials.jl:726 [inlined]\n",
      "  [9] (::VSCodeServer.var\"#198#199\"{VSCodeServer.NotebookRunCellArguments, String})()\n",
      "    @ VSCodeServer c:\\Users\\Alexander\\.vscode\\extensions\\julialang.language-julia-1.7.12\\scripts\\packages\\VSCodeServer\\src\\serve_notebook.jl:19\n",
      " [10] withpath(f::VSCodeServer.var\"#198#199\"{VSCodeServer.NotebookRunCellArguments, String}, path::String)\n",
      "    @ VSCodeServer c:\\Users\\Alexander\\.vscode\\extensions\\julialang.language-julia-1.7.12\\scripts\\packages\\VSCodeServer\\src\\repl.jl:249\n",
      " [11] notebook_runcell_request(conn::VSCodeServer.JSONRPC.JSONRPCEndpoint{Base.PipeEndpoint, Base.PipeEndpoint}, params::VSCodeServer.NotebookRunCellArguments)\n",
      "    @ VSCodeServer c:\\Users\\Alexander\\.vscode\\extensions\\julialang.language-julia-1.7.12\\scripts\\packages\\VSCodeServer\\src\\serve_notebook.jl:13\n",
      " [12] dispatch_msg(x::VSCodeServer.JSONRPC.JSONRPCEndpoint{Base.PipeEndpoint, Base.PipeEndpoint}, dispatcher::VSCodeServer.JSONRPC.MsgDispatcher, msg::Dict{String, Any})\n",
      "    @ VSCodeServer.JSONRPC c:\\Users\\Alexander\\.vscode\\extensions\\julialang.language-julia-1.7.12\\scripts\\packages\\JSONRPC\\src\\typed.jl:67\n",
      " [13] serve_notebook(pipename::String, outputchannel_logger::Base.CoreLogging.SimpleLogger; crashreporting_pipename::String)\n",
      "    @ VSCodeServer c:\\Users\\Alexander\\.vscode\\extensions\\julialang.language-julia-1.7.12\\scripts\\packages\\VSCodeServer\\src\\serve_notebook.jl:139\n",
      " [14] top-level scope\n",
      "    @ c:\\Users\\Alexander\\.vscode\\extensions\\julialang.language-julia-1.7.12\\scripts\\notebook\\notebook.jl:32"
     ]
    }
   ],
   "source": [
    "(@dict{2:3, 4:5, a:{2:3}})[3]"
   ]
  },
  {
   "cell_type": "code",
   "execution_count": 6,
   "metadata": {},
   "outputs": [
    {
     "data": {
      "text/plain": [
       "2-element Vector{LatticeVecOrMat{SubArray{Float64, 2, Array{Float64, 3}, Tuple{Base.Slice{Base.OneTo{Int64}}, Base.Slice{Base.OneTo{Int64}}, Int64}, true}}}:\n",
       " LatticeVecOrMat{SubArray{Float64, 2, Array{Float64, 3}, Tuple{Base.Slice{Base.OneTo{Int64}}, Base.Slice{Base.OneTo{Int64}}, Int64}, true}}([-4.5 -0.0 … 0.0 0.0; -0.0 -4.5 … 0.0 0.0; … ; 0.0 0.0 … 4.5 0.0; 0.0 0.0 … 0.0 4.5], Basis(SquareLattice([10, 10]), 2))\n",
       " LatticeVecOrMat{SubArray{Float64, 2, Array{Float64, 3}, Tuple{Base.Slice{Base.OneTo{Int64}}, Base.Slice{Base.OneTo{Int64}}, Int64}, true}}([-4.5 -0.0 … 0.0 0.0; -0.0 -4.5 … 0.0 0.0; … ; 0.0 0.0 … 4.5 0.0; 0.0 0.0 … 0.0 4.5], Basis(SquareLattice([10, 10]), 2))"
      ]
     },
     "metadata": {},
     "output_type": "display_data"
    }
   ],
   "source": [
    "X, Y = LatticeModels.coord_operators(l, 2)"
   ]
  },
  {
   "cell_type": "code",
   "execution_count": 6,
   "metadata": {},
   "outputs": [
    {
     "data": {
      "text/plain": [
       "BenchmarkTools.Trial: 633 samples with 1 evaluation.\n",
       " Range \u001b[90m(\u001b[39m\u001b[36m\u001b[1mmin\u001b[22m\u001b[39m … \u001b[35mmax\u001b[39m\u001b[90m):  \u001b[39m\u001b[36m\u001b[1m4.133 ms\u001b[22m\u001b[39m … \u001b[35m53.724 ms\u001b[39m  \u001b[90m┊\u001b[39m GC \u001b[90m(\u001b[39mmin … max\u001b[90m): \u001b[39m0.00% … 32.17%\n",
       " Time  \u001b[90m(\u001b[39m\u001b[34m\u001b[1mmedian\u001b[22m\u001b[39m\u001b[90m):     \u001b[39m\u001b[34m\u001b[1m7.308 ms              \u001b[22m\u001b[39m\u001b[90m┊\u001b[39m GC \u001b[90m(\u001b[39mmedian\u001b[90m):    \u001b[39m0.00%\n",
       " Time  \u001b[90m(\u001b[39m\u001b[32m\u001b[1mmean\u001b[22m\u001b[39m ± \u001b[32mσ\u001b[39m\u001b[90m):   \u001b[39m\u001b[32m\u001b[1m7.895 ms\u001b[22m\u001b[39m ± \u001b[32m 3.356 ms\u001b[39m  \u001b[90m┊\u001b[39m GC \u001b[90m(\u001b[39mmean ± σ\u001b[90m):  \u001b[39m8.56% ± 14.34%\n",
       "\n",
       "  \u001b[39m▂\u001b[39m▅\u001b[39m▆\u001b[39m▄\u001b[39m▅\u001b[39m▂\u001b[39m▁\u001b[39m▄\u001b[39m▄\u001b[39m▃\u001b[39m▆\u001b[39m▃\u001b[39m▄\u001b[34m█\u001b[39m\u001b[39m▂\u001b[32m▆\u001b[39m\u001b[39m▃\u001b[39m▅\u001b[39m▁\u001b[39m▁\u001b[39m \u001b[39m \u001b[39m \u001b[39m \u001b[39m \u001b[39m \u001b[39m \u001b[39m \u001b[39m \u001b[39m \u001b[39m \u001b[39m \u001b[39m \u001b[39m \u001b[39m \u001b[39m \u001b[39m \u001b[39m \u001b[39m \u001b[39m \u001b[39m \u001b[39m \u001b[39m \u001b[39m \u001b[39m \u001b[39m \u001b[39m \u001b[39m \u001b[39m \u001b[39m \u001b[39m \u001b[39m \u001b[39m \u001b[39m \u001b[39m \u001b[39m \u001b[39m \u001b[39m \u001b[39m \u001b[39m \n",
       "  \u001b[39m█\u001b[39m█\u001b[39m█\u001b[39m█\u001b[39m█\u001b[39m█\u001b[39m█\u001b[39m█\u001b[39m█\u001b[39m█\u001b[39m█\u001b[39m█\u001b[39m█\u001b[34m█\u001b[39m\u001b[39m█\u001b[32m█\u001b[39m\u001b[39m█\u001b[39m█\u001b[39m█\u001b[39m█\u001b[39m▆\u001b[39m▇\u001b[39m▇\u001b[39m▇\u001b[39m▅\u001b[39m▄\u001b[39m▆\u001b[39m▄\u001b[39m▄\u001b[39m▄\u001b[39m▄\u001b[39m▄\u001b[39m▄\u001b[39m▄\u001b[39m▄\u001b[39m▄\u001b[39m▃\u001b[39m▄\u001b[39m▃\u001b[39m▇\u001b[39m▃\u001b[39m▄\u001b[39m▃\u001b[39m▁\u001b[39m▃\u001b[39m▂\u001b[39m▁\u001b[39m▂\u001b[39m▁\u001b[39m▁\u001b[39m▂\u001b[39m▁\u001b[39m▁\u001b[39m▁\u001b[39m▁\u001b[39m▁\u001b[39m▂\u001b[39m▂\u001b[39m \u001b[39m▄\n",
       "  4.13 ms\u001b[90m        Histogram: frequency by time\u001b[39m        18.3 ms \u001b[0m\u001b[1m<\u001b[22m\n",
       "\n",
       " Memory estimate\u001b[90m: \u001b[39m\u001b[33m5.26 MiB\u001b[39m, allocs estimate\u001b[90m: \u001b[39m\u001b[33m99913\u001b[39m."
      ]
     },
     "metadata": {},
     "output_type": "display_data"
    }
   ],
   "source": [
    "@benchmark LatticeModels.apply_field!(H, Landau(3))"
   ]
  },
  {
   "cell_type": "code",
   "execution_count": 7,
   "metadata": {},
   "outputs": [
    {
     "data": {
      "application/vnd.vegalite.v4+json": {
       "data": {
        "values": [
         {
          "level": 0,
          "sf": "ip:0x0",
          "status": "Default",
          "x1": 1,
          "x2": 360.9
         },
         {
          "level": 1,
          "sf": "_start() at client.jl:522",
          "status": "Default",
          "x1": 3,
          "x2": 357.9
         },
         {
          "level": 2,
          "sf": "exec_options(opts::Base.JLOptions) at client.jl:303",
          "status": "Default",
          "x1": 3,
          "x2": 357.9
         },
         {
          "level": 3,
          "sf": "include(mod::Module, _path::String) at Base.jl:419",
          "status": "Default",
          "x1": 3,
          "x2": 357.9
         },
         {
          "level": 4,
          "sf": "_include(mapexpr::Function, mod::Module, _path::String) at loading.jl:1488",
          "status": "Default",
          "x1": 3,
          "x2": 357.9
         },
         {
          "level": 5,
          "sf": "include_string(mapexpr::typeof(identity), mod::Module, code::String, filename::String) at loading.jl:1428",
          "status": "Default",
          "x1": 3,
          "x2": 357.9
         },
         {
          "level": 6,
          "sf": "eval at boot.jl:368 [inlined]",
          "status": "Default",
          "x1": 3,
          "x2": 357.9
         },
         {
          "level": 7,
          "sf": "top-level scope at notebook.jl:32",
          "status": "Default",
          "x1": 3,
          "x2": 357.9
         },
         {
          "level": 8,
          "sf": "(::VSCodeServer.var\"#serve_notebook##kw\")(::NamedTuple{(:crashreporting_pipename,), Tuple{String}}, ::typeof(VSCodeServer.serve_notebook), pipename::String, outputchannel_logger::Base.CoreLogging.SimpleLogger) at serve_notebook.jl:75",
          "status": "Default",
          "x1": 3,
          "x2": 357.9
         },
         {
          "level": 9,
          "sf": "serve_notebook(pipename::String, outputchannel_logger::Base.CoreLogging.SimpleLogger; crashreporting_pipename::String) at serve_notebook.jl:139",
          "status": "Default",
          "x1": 3,
          "x2": 357.9
         },
         {
          "level": 10,
          "sf": "dispatch_msg(x::VSCodeServer.JSONRPC.JSONRPCEndpoint{Base.PipeEndpoint, Base.PipeEndpoint}, dispatcher::VSCodeServer.JSONRPC.MsgDispatcher, msg::Dict{String, Any}) at typed.jl:67",
          "status": "Default",
          "x1": 3,
          "x2": 357.9
         },
         {
          "level": 11,
          "sf": "notebook_runcell_request(conn::VSCodeServer.JSONRPC.JSONRPCEndpoint{Base.PipeEndpoint, Base.PipeEndpoint}, params::VSCodeServer.NotebookRunCellArguments) at serve_notebook.jl:13",
          "status": "Default",
          "x1": 3,
          "x2": 357.9
         },
         {
          "level": 12,
          "sf": "withpath(f::VSCodeServer.var\"#198#199\"{VSCodeServer.NotebookRunCellArguments, String}, path::String) at repl.jl:249",
          "status": "Default",
          "x1": 3,
          "x2": 357.9
         },
         {
          "level": 13,
          "sf": "(::VSCodeServer.var\"#198#199\"{VSCodeServer.NotebookRunCellArguments, String})() at serve_notebook.jl:19",
          "status": "Default",
          "x1": 3,
          "x2": 357.9
         },
         {
          "level": 14,
          "sf": "invokelatest at essentials.jl:726 [inlined]",
          "status": "Default",
          "x1": 3,
          "x2": 357.9
         },
         {
          "level": 15,
          "sf": "#invokelatest#2 at essentials.jl:729 [inlined]",
          "status": "Default",
          "x1": 3,
          "x2": 357.9
         },
         {
          "level": 16,
          "sf": "include_string(mapexpr::typeof(REPL.softscope), mod::Module, code::String, filename::String) at loading.jl:1428",
          "status": "Default",
          "x1": 3,
          "x2": 357.9
         },
         {
          "level": 17,
          "sf": "eval at boot.jl:368 [inlined]",
          "status": "Default",
          "x1": 3,
          "x2": 357.9
         },
         {
          "level": 18,
          "sf": "top-level scope at view.jl:60",
          "status": "Default",
          "x1": 3,
          "x2": 357.9
         },
         {
          "level": 19,
          "sf": "macro expansion at Profile.jl:27 [inlined]",
          "status": "Default",
          "x1": 3,
          "x2": 357.9
         },
         {
          "level": 20,
          "sf": "macro expansion at demo.ipynb:2 [inlined]",
          "status": "Default",
          "x1": 3,
          "x2": 357.9
         },
         {
          "level": 21,
          "sf": "apply_field!(lo::LatticeVecOrMat{Matrix{ComplexF64}}, field::Landau) at field.jl:0",
          "status": "Default",
          "x1": 3,
          "x2": 6.9
         },
         {
          "level": 21,
          "sf": "apply_field!(lo::LatticeVecOrMat{Matrix{ComplexF64}}, field::Landau) at field.jl:34",
          "status": "Default",
          "x1": 7,
          "x2": 7.9
         },
         {
          "level": 22,
          "sf": "iterate(l::SquareLattice) at lattice.jl:53",
          "status": "Default",
          "x1": 7,
          "x2": 7.9
         },
         {
          "level": 23,
          "sf": "start at lattice.jl:32 [inlined]",
          "status": "Default",
          "x1": 7,
          "x2": 7.9
         },
         {
          "level": 24,
          "sf": "LatticeIndex at lattice.jl:28 [inlined]",
          "status": "Default",
          "x1": 7,
          "x2": 7.9
         },
         {
          "level": 21,
          "sf": "apply_field!(lo::LatticeVecOrMat{Matrix{ComplexF64}}, field::Landau) at field.jl:36",
          "status": "Garbage collection",
          "x1": 8,
          "x2": 32.9
         },
         {
          "level": 22,
          "sf": "iterate(l::SquareLattice) at lattice.jl:54",
          "status": "Default",
          "x1": 30,
          "x2": 30.9
         },
         {
          "level": 23,
          "sf": "bravais at lattice.jl:24 [inlined]",
          "status": "Default",
          "x1": 30,
          "x2": 30.9
         },
         {
          "level": 24,
          "sf": "_bravais(#unused#::SquareLattice, dims::Int64) at lattice.jl:166",
          "status": "Default",
          "x1": 30,
          "x2": 30.9
         },
         {
          "level": 25,
          "sf": "Bravais at lattice.jl:12 [inlined]",
          "status": "Default",
          "x1": 30,
          "x2": 30.9
         },
         {
          "level": 26,
          "sf": "convert at array.jl:617 [inlined]",
          "status": "Default",
          "x1": 30,
          "x2": 30.9
         },
         {
          "level": 27,
          "sf": "Matrix{Float64}(x::Matrix{Bool}) at array.jl:626",
          "status": "Default",
          "x1": 30,
          "x2": 30.9
         },
         {
          "level": 28,
          "sf": "Array at boot.jl:469 [inlined]",
          "status": "Default",
          "x1": 30,
          "x2": 30.9
         },
         {
          "level": 29,
          "sf": "Array at boot.jl:461 [inlined]",
          "status": "Default",
          "x1": 30,
          "x2": 30.9
         },
         {
          "level": 21,
          "sf": "apply_field!(lo::LatticeVecOrMat{Matrix{ComplexF64}}, field::Landau) at field.jl:37",
          "status": "Default",
          "x1": 33,
          "x2": 33.9
         },
         {
          "level": 22,
          "sf": "> at operators.jl:382 [inlined]",
          "status": "Default",
          "x1": 33,
          "x2": 33.9
         },
         {
          "level": 23,
          "sf": "< at int.jl:83 [inlined]",
          "status": "Default",
          "x1": 33,
          "x2": 33.9
         },
         {
          "level": 21,
          "sf": "apply_field!(lo::LatticeVecOrMat{Matrix{ComplexF64}}, field::Landau) at field.jl:38",
          "status": "Runtime dispatch",
          "x1": 34,
          "x2": 79.9
         },
         {
          "level": 22,
          "sf": "coords!(crd::Vector{Float64}, l::SquareLattice, site::LatticeIndex, bvs::LatticeModels.Bravais, buf::Vector{Float64}) at lattice.jl:64",
          "status": "Default",
          "x1": 38,
          "x2": 38.9
         },
         {
          "level": 22,
          "sf": "coords!(crd::Vector{Float64}, l::SquareLattice, site::LatticeIndex, bvs::LatticeModels.Bravais, buf::Vector{Float64}) at lattice.jl:65",
          "status": "Default",
          "x1": 39,
          "x2": 43.9
         },
         {
          "level": 23,
          "sf": "materialize! at broadcast.jl:868 [inlined]",
          "status": "Default",
          "x1": 39,
          "x2": 43.9
         },
         {
          "level": 24,
          "sf": "materialize! at broadcast.jl:871 [inlined]",
          "status": "Default",
          "x1": 39,
          "x2": 43.9
         },
         {
          "level": 25,
          "sf": "copyto! at broadcast.jl:913 [inlined]",
          "status": "Default",
          "x1": 39,
          "x2": 43.9
         },
         {
          "level": 26,
          "sf": "copyto! at broadcast.jl:953 [inlined]",
          "status": "Default",
          "x1": 39,
          "x2": 39.9
         },
         {
          "level": 26,
          "sf": "copyto! at broadcast.jl:954 [inlined]",
          "status": "Default",
          "x1": 40,
          "x2": 43.9
         },
         {
          "level": 27,
          "sf": "copyto! at array.jl:343 [inlined]",
          "status": "Default",
          "x1": 40,
          "x2": 43.9
         },
         {
          "level": 28,
          "sf": "copyto! at array.jl:317 [inlined]",
          "status": "Default",
          "x1": 40,
          "x2": 43.9
         },
         {
          "level": 29,
          "sf": "_copyto_impl! at array.jl:331 [inlined]",
          "status": "Default",
          "x1": 40,
          "x2": 43.9
         },
         {
          "level": 30,
          "sf": "unsafe_copyto! at array.jl:307 [inlined]",
          "status": "Default",
          "x1": 40,
          "x2": 43.9
         },
         {
          "level": 31,
          "sf": "_unsafe_copyto!(dest::Vector{Float64}, doffs::Int64, src::Vector{Int64}, soffs::Int64, n::Int64) at array.jl:247",
          "status": "Default",
          "x1": 40,
          "x2": 40.9
         },
         {
          "level": 31,
          "sf": "_unsafe_copyto!(dest::Vector{Float64}, doffs::Int64, src::Vector{Int64}, soffs::Int64, n::Int64) at array.jl:248",
          "status": "Default",
          "x1": 41,
          "x2": 41.9
         },
         {
          "level": 32,
          "sf": "pointer at abstractarray.jl:1190 [inlined]",
          "status": "Default",
          "x1": 41,
          "x2": 41.9
         },
         {
          "level": 33,
          "sf": "+ at pointer.jl:159 [inlined]",
          "status": "Default",
          "x1": 41,
          "x2": 41.9
         },
         {
          "level": 31,
          "sf": "_unsafe_copyto!(dest::Vector{Float64}, doffs::Int64, src::Vector{Int64}, soffs::Int64, n::Int64) at array.jl:249",
          "status": "Default",
          "x1": 42,
          "x2": 42.9
         },
         {
          "level": 32,
          "sf": "pointer at abstractarray.jl:1190 [inlined]",
          "status": "Default",
          "x1": 42,
          "x2": 42.9
         },
         {
          "level": 33,
          "sf": "unsafe_convert at pointer.jl:65 [inlined]",
          "status": "Default",
          "x1": 42,
          "x2": 42.9
         },
         {
          "level": 22,
          "sf": "coords!(crd::Vector{Float64}, l::SquareLattice, site::LatticeIndex, bvs::LatticeModels.Bravais, buf::Vector{Float64}) at lattice.jl:66",
          "status": "Default",
          "x1": 44,
          "x2": 46.9
         },
         {
          "level": 23,
          "sf": "materialize! at broadcast.jl:868 [inlined]",
          "status": "Default",
          "x1": 44,
          "x2": 45.9
         },
         {
          "level": 24,
          "sf": "materialize! at broadcast.jl:871 [inlined]",
          "status": "Default",
          "x1": 44,
          "x2": 45.9
         },
         {
          "level": 25,
          "sf": "copyto! at broadcast.jl:913 [inlined]",
          "status": "Default",
          "x1": 44,
          "x2": 45.9
         },
         {
          "level": 26,
          "sf": "copyto! at broadcast.jl:960 [inlined]",
          "status": "Default",
          "x1": 44,
          "x2": 45.9
         },
         {
          "level": 27,
          "sf": "macro expansion at simdloop.jl:77 [inlined]",
          "status": "Default",
          "x1": 44,
          "x2": 45.9
         },
         {
          "level": 28,
          "sf": "macro expansion at broadcast.jl:961 [inlined]",
          "status": "Default",
          "x1": 44,
          "x2": 45.9
         },
         {
          "level": 29,
          "sf": "setindex! at array.jl:966 [inlined]",
          "status": "Default",
          "x1": 44,
          "x2": 44.9
         },
         {
          "level": 29,
          "sf": "getindex at broadcast.jl:597 [inlined]",
          "status": "Default",
          "x1": 45,
          "x2": 45.9
         },
         {
          "level": 30,
          "sf": "_broadcast_getindex at broadcast.jl:642 [inlined]",
          "status": "Default",
          "x1": 45,
          "x2": 45.9
         },
         {
          "level": 31,
          "sf": "_getindex at broadcast.jl:666 [inlined]",
          "status": "Default",
          "x1": 45,
          "x2": 45.9
         },
         {
          "level": 32,
          "sf": "_broadcast_getindex at broadcast.jl:636 [inlined]",
          "status": "Default",
          "x1": 45,
          "x2": 45.9
         },
         {
          "level": 33,
          "sf": "getindex at array.jl:924 [inlined]",
          "status": "Default",
          "x1": 45,
          "x2": 45.9
         },
         {
          "level": 23,
          "sf": "size at lattice.jl:22 [inlined]",
          "status": "Default",
          "x1": 46,
          "x2": 46.9
         },
         {
          "level": 24,
          "sf": "getproperty at Base.jl:38 [inlined]",
          "status": "Default",
          "x1": 46,
          "x2": 46.9
         },
         {
          "level": 22,
          "sf": "coords!(crd::Vector{Float64}, l::SquareLattice, site::LatticeIndex, bvs::LatticeModels.Bravais, buf::Vector{Float64}) at lattice.jl:67",
          "status": "Default",
          "x1": 47,
          "x2": 47.9
         },
         {
          "level": 23,
          "sf": "materialize! at broadcast.jl:868 [inlined]",
          "status": "Default",
          "x1": 47,
          "x2": 47.9
         },
         {
          "level": 24,
          "sf": "materialize! at broadcast.jl:871 [inlined]",
          "status": "Default",
          "x1": 47,
          "x2": 47.9
         },
         {
          "level": 25,
          "sf": "copyto! at broadcast.jl:913 [inlined]",
          "status": "Default",
          "x1": 47,
          "x2": 47.9
         },
         {
          "level": 26,
          "sf": "copyto! at broadcast.jl:960 [inlined]",
          "status": "Default",
          "x1": 47,
          "x2": 47.9
         },
         {
          "level": 27,
          "sf": "macro expansion at simdloop.jl:78 [inlined]",
          "status": "Default",
          "x1": 47,
          "x2": 47.9
         },
         {
          "level": 28,
          "sf": "+ at int.jl:87 [inlined]",
          "status": "Default",
          "x1": 47,
          "x2": 47.9
         },
         {
          "level": 22,
          "sf": "coords!(crd::Vector{Float64}, l::SquareLattice, site::LatticeIndex, bvs::LatticeModels.Bravais, buf::Vector{Float64}) at lattice.jl:68",
          "status": "Default",
          "x1": 48,
          "x2": 60.9
         },
         {
          "level": 23,
          "sf": "mul! at matmul.jl:276 [inlined]",
          "status": "Default",
          "x1": 48,
          "x2": 60.9
         },
         {
          "level": 24,
          "sf": "mul! at matmul.jl:65 [inlined]",
          "status": "Default",
          "x1": 48,
          "x2": 60.9
         },
         {
          "level": 25,
          "sf": "gemv!(y::Vector{Float64}, tA::Char, A::Matrix{Float64}, x::Vector{Float64}, α::Bool, β::Bool) at array.jl:0",
          "status": "Default",
          "x1": 48,
          "x2": 48.9
         },
         {
          "level": 25,
          "sf": "gemv!(y::Vector{Float64}, tA::Char, A::Matrix{Float64}, x::Vector{Float64}, α::Bool, β::Bool) at matmul.jl:490",
          "status": "Default",
          "x1": 49,
          "x2": 49.9
         },
         {
          "level": 25,
          "sf": "gemv!(y::Vector{Float64}, tA::Char, A::Matrix{Float64}, x::Vector{Float64}, α::Bool, β::Bool) at matmul.jl:503",
          "status": "Default",
          "x1": 50,
          "x2": 60.9
         },
         {
          "level": 26,
          "sf": "gemv!(trans::Char, alpha::Float64, A::Matrix{Float64}, X::Vector{Float64}, beta::Float64, Y::Vector{Float64}) at blas.jl:642",
          "status": "Default",
          "x1": 50,
          "x2": 50.9
         },
         {
          "level": 26,
          "sf": "gemv!(trans::Char, alpha::Float64, A::Matrix{Float64}, X::Vector{Float64}, beta::Float64, Y::Vector{Float64}) at blas.jl:646",
          "status": "Default",
          "x1": 51,
          "x2": 51.9
         },
         {
          "level": 27,
          "sf": "size at array.jl:150 [inlined]",
          "status": "Default",
          "x1": 51,
          "x2": 51.9
         },
         {
          "level": 26,
          "sf": "gemv!(trans::Char, alpha::Float64, A::Matrix{Float64}, X::Vector{Float64}, beta::Float64, Y::Vector{Float64}) at blas.jl:666",
          "status": "Default",
          "x1": 52,
          "x2": 60.9
         },
         {
          "level": 22,
          "sf": "coords!(crd::Vector{Float64}, l::SquareLattice, site::LatticeIndex, bvs::LatticeModels.Bravais, buf::Vector{Float64}) at lattice.jl:69",
          "status": "Default",
          "x1": 61,
          "x2": 78.9
         },
         {
          "level": 23,
          "sf": "getindex at abstractarray.jl:1241 [inlined]",
          "status": "Default",
          "x1": 61,
          "x2": 76.9
         },
         {
          "level": 24,
          "sf": "_getindex at multidimensional.jl:874 [inlined]",
          "status": "Default",
          "x1": 61,
          "x2": 61.9
         },
         {
          "level": 25,
          "sf": "checkbounds at abstractarray.jl:666 [inlined]",
          "status": "Default",
          "x1": 61,
          "x2": 61.9
         },
         {
          "level": 24,
          "sf": "_getindex at multidimensional.jl:875 [inlined]",
          "status": "Default",
          "x1": 62,
          "x2": 76.9
         },
         {
          "level": 25,
          "sf": "_unsafe_getindex at multidimensional.jl:886 [inlined]",
          "status": "Default",
          "x1": 62,
          "x2": 62.9
         },
         {
          "level": 26,
          "sf": "index_shape at multidimensional.jl:748 [inlined]",
          "status": "Default",
          "x1": 62,
          "x2": 62.9
         },
         {
          "level": 27,
          "sf": "axes at indices.jl:356 [inlined]",
          "status": "Default",
          "x1": 62,
          "x2": 62.9
         },
         {
          "level": 25,
          "sf": "_unsafe_getindex at multidimensional.jl:887 [inlined]",
          "status": "Default",
          "x1": 63,
          "x2": 75.9
         },
         {
          "level": 26,
          "sf": "similar at abstractarray.jl:795 [inlined]",
          "status": "Default",
          "x1": 63,
          "x2": 75.9
         },
         {
          "level": 27,
          "sf": "similar at array.jl:378 [inlined]",
          "status": "Default",
          "x1": 63,
          "x2": 75.9
         },
         {
          "level": 28,
          "sf": "Array at boot.jl:468 [inlined]",
          "status": "Default",
          "x1": 63,
          "x2": 75.9
         },
         {
          "level": 29,
          "sf": "Array at boot.jl:459 [inlined]",
          "status": "Garbage collection",
          "x1": 63,
          "x2": 75.9
         },
         {
          "level": 25,
          "sf": "_unsafe_getindex at multidimensional.jl:889 [inlined]",
          "status": "Default",
          "x1": 76,
          "x2": 76.9
         },
         {
          "level": 26,
          "sf": "_unsafe_getindex! at multidimensional.jl:898 [inlined]",
          "status": "Default",
          "x1": 76,
          "x2": 76.9
         },
         {
          "level": 27,
          "sf": "macro expansion at cartesian.jl:64 [inlined]",
          "status": "Default",
          "x1": 76,
          "x2": 76.9
         },
         {
          "level": 28,
          "sf": "macro expansion at multidimensional.jl:903 [inlined]",
          "status": "Default",
          "x1": 76,
          "x2": 76.9
         },
         {
          "level": 29,
          "sf": "setindex! at array.jl:966 [inlined]",
          "status": "Default",
          "x1": 76,
          "x2": 76.9
         },
         {
          "level": 23,
          "sf": "materialize! at broadcast.jl:868 [inlined]",
          "status": "Default",
          "x1": 77,
          "x2": 78.9
         },
         {
          "level": 24,
          "sf": "materialize! at broadcast.jl:871 [inlined]",
          "status": "Default",
          "x1": 77,
          "x2": 78.9
         },
         {
          "level": 25,
          "sf": "copyto! at broadcast.jl:913 [inlined]",
          "status": "Default",
          "x1": 77,
          "x2": 77.9
         },
         {
          "level": 26,
          "sf": "copyto! at broadcast.jl:957 [inlined]",
          "status": "Default",
          "x1": 77,
          "x2": 77.9
         },
         {
          "level": 27,
          "sf": "preprocess at broadcast.jl:940 [inlined]",
          "status": "Default",
          "x1": 77,
          "x2": 77.9
         },
         {
          "level": 28,
          "sf": "preprocess_args at broadcast.jl:943 [inlined]",
          "status": "Default",
          "x1": 77,
          "x2": 77.9
         },
         {
          "level": 29,
          "sf": "preprocess at broadcast.jl:941 [inlined]",
          "status": "Default",
          "x1": 77,
          "x2": 77.9
         },
         {
          "level": 30,
          "sf": "extrude at broadcast.jl:637 [inlined]",
          "status": "Default",
          "x1": 77,
          "x2": 77.9
         },
         {
          "level": 31,
          "sf": "newindexer at broadcast.jl:586 [inlined]",
          "status": "Default",
          "x1": 77,
          "x2": 77.9
         },
         {
          "level": 32,
          "sf": "shapeindexer at broadcast.jl:587 [inlined]",
          "status": "Default",
          "x1": 77,
          "x2": 77.9
         },
         {
          "level": 33,
          "sf": "_newindexer at broadcast.jl:592 [inlined]",
          "status": "Default",
          "x1": 77,
          "x2": 77.9
         },
         {
          "level": 34,
          "sf": "!= at operators.jl:282 [inlined]",
          "status": "Default",
          "x1": 77,
          "x2": 77.9
         },
         {
          "level": 35,
          "sf": "== at promotion.jl:477 [inlined]",
          "status": "Default",
          "x1": 77,
          "x2": 77.9
         },
         {
          "level": 25,
          "sf": "instantiate at broadcast.jl:284 [inlined]",
          "status": "Default",
          "x1": 78,
          "x2": 78.9
         },
         {
          "level": 26,
          "sf": "check_broadcast_axes at broadcast.jl:547 [inlined]",
          "status": "Default",
          "x1": 78,
          "x2": 78.9
         },
         {
          "level": 27,
          "sf": "check_broadcast_axes at broadcast.jl:543 [inlined]",
          "status": "Default",
          "x1": 78,
          "x2": 78.9
         },
         {
          "level": 28,
          "sf": "check_broadcast_shape at broadcast.jl:540 [inlined]",
          "status": "Default",
          "x1": 78,
          "x2": 78.9
         },
         {
          "level": 29,
          "sf": "_bcsm at broadcast.jl:518 [inlined]",
          "status": "Default",
          "x1": 78,
          "x2": 78.9
         },
         {
          "level": 30,
          "sf": "== at range.jl:1111 [inlined]",
          "status": "Default",
          "x1": 78,
          "x2": 78.9
         },
         {
          "level": 31,
          "sf": "== at promotion.jl:477 [inlined]",
          "status": "Default",
          "x1": 78,
          "x2": 78.9
         },
         {
          "level": 21,
          "sf": "apply_field!(lo::LatticeVecOrMat{Matrix{ComplexF64}}, field::Landau) at field.jl:39",
          "status": "Runtime dispatch",
          "x1": 80,
          "x2": 133.9
         },
         {
          "level": 22,
          "sf": "coords!(crd::Vector{Float64}, l::SquareLattice, site::LatticeIndex, bvs::LatticeModels.Bravais, buf::Vector{Float64}) at lattice.jl:64",
          "status": "Default",
          "x1": 85,
          "x2": 86.9
         },
         {
          "level": 22,
          "sf": "coords!(crd::Vector{Float64}, l::SquareLattice, site::LatticeIndex, bvs::LatticeModels.Bravais, buf::Vector{Float64}) at lattice.jl:65",
          "status": "Default",
          "x1": 87,
          "x2": 87.9
         },
         {
          "level": 23,
          "sf": "materialize! at broadcast.jl:868 [inlined]",
          "status": "Default",
          "x1": 87,
          "x2": 87.9
         },
         {
          "level": 24,
          "sf": "materialize! at broadcast.jl:871 [inlined]",
          "status": "Default",
          "x1": 87,
          "x2": 87.9
         },
         {
          "level": 25,
          "sf": "copyto! at broadcast.jl:913 [inlined]",
          "status": "Default",
          "x1": 87,
          "x2": 87.9
         },
         {
          "level": 26,
          "sf": "copyto! at broadcast.jl:954 [inlined]",
          "status": "Default",
          "x1": 87,
          "x2": 87.9
         },
         {
          "level": 27,
          "sf": "copyto! at array.jl:343 [inlined]",
          "status": "Default",
          "x1": 87,
          "x2": 87.9
         },
         {
          "level": 28,
          "sf": "copyto! at array.jl:317 [inlined]",
          "status": "Default",
          "x1": 87,
          "x2": 87.9
         },
         {
          "level": 29,
          "sf": "_copyto_impl! at array.jl:332 [inlined]",
          "status": "Default",
          "x1": 87,
          "x2": 87.9
         },
         {
          "level": 22,
          "sf": "coords!(crd::Vector{Float64}, l::SquareLattice, site::LatticeIndex, bvs::LatticeModels.Bravais, buf::Vector{Float64}) at lattice.jl:66",
          "status": "Default",
          "x1": 88,
          "x2": 88.9
         },
         {
          "level": 23,
          "sf": "materialize! at broadcast.jl:868 [inlined]",
          "status": "Default",
          "x1": 88,
          "x2": 88.9
         },
         {
          "level": 24,
          "sf": "materialize! at broadcast.jl:871 [inlined]",
          "status": "Default",
          "x1": 88,
          "x2": 88.9
         },
         {
          "level": 25,
          "sf": "copyto! at broadcast.jl:913 [inlined]",
          "status": "Default",
          "x1": 88,
          "x2": 88.9
         },
         {
          "level": 26,
          "sf": "copyto! at broadcast.jl:960 [inlined]",
          "status": "Default",
          "x1": 88,
          "x2": 88.9
         },
         {
          "level": 27,
          "sf": "macro expansion at simdloop.jl:77 [inlined]",
          "status": "Default",
          "x1": 88,
          "x2": 88.9
         },
         {
          "level": 28,
          "sf": "macro expansion at broadcast.jl:961 [inlined]",
          "status": "Default",
          "x1": 88,
          "x2": 88.9
         },
         {
          "level": 29,
          "sf": "getindex at broadcast.jl:597 [inlined]",
          "status": "Default",
          "x1": 88,
          "x2": 88.9
         },
         {
          "level": 30,
          "sf": "_broadcast_getindex at broadcast.jl:643 [inlined]",
          "status": "Default",
          "x1": 88,
          "x2": 88.9
         },
         {
          "level": 31,
          "sf": "_broadcast_getindex_evalf at broadcast.jl:670 [inlined]",
          "status": "Default",
          "x1": 88,
          "x2": 88.9
         },
         {
          "level": 32,
          "sf": "- at promotion.jl:390 [inlined]",
          "status": "Default",
          "x1": 88,
          "x2": 88.9
         },
         {
          "level": 33,
          "sf": "promote at promotion.jl:359 [inlined]",
          "status": "Default",
          "x1": 88,
          "x2": 88.9
         },
         {
          "level": 34,
          "sf": "_promote at promotion.jl:336 [inlined]",
          "status": "Default",
          "x1": 88,
          "x2": 88.9
         },
         {
          "level": 35,
          "sf": "convert at number.jl:7 [inlined]",
          "status": "Default",
          "x1": 88,
          "x2": 88.9
         },
         {
          "level": 36,
          "sf": "Float64 at float.jl:146 [inlined]",
          "status": "Default",
          "x1": 88,
          "x2": 88.9
         },
         {
          "level": 22,
          "sf": "coords!(crd::Vector{Float64}, l::SquareLattice, site::LatticeIndex, bvs::LatticeModels.Bravais, buf::Vector{Float64}) at lattice.jl:67",
          "status": "Default",
          "x1": 89,
          "x2": 89.9
         },
         {
          "level": 23,
          "sf": "materialize! at broadcast.jl:868 [inlined]",
          "status": "Default",
          "x1": 89,
          "x2": 89.9
         },
         {
          "level": 24,
          "sf": "materialize! at broadcast.jl:871 [inlined]",
          "status": "Default",
          "x1": 89,
          "x2": 89.9
         },
         {
          "level": 25,
          "sf": "copyto! at broadcast.jl:913 [inlined]",
          "status": "Default",
          "x1": 89,
          "x2": 89.9
         },
         {
          "level": 26,
          "sf": "copyto! at broadcast.jl:960 [inlined]",
          "status": "Default",
          "x1": 89,
          "x2": 89.9
         },
         {
          "level": 27,
          "sf": "macro expansion at simdloop.jl:77 [inlined]",
          "status": "Default",
          "x1": 89,
          "x2": 89.9
         },
         {
          "level": 28,
          "sf": "macro expansion at broadcast.jl:961 [inlined]",
          "status": "Default",
          "x1": 89,
          "x2": 89.9
         },
         {
          "level": 29,
          "sf": "setindex! at array.jl:966 [inlined]",
          "status": "Default",
          "x1": 89,
          "x2": 89.9
         },
         {
          "level": 22,
          "sf": "coords!(crd::Vector{Float64}, l::SquareLattice, site::LatticeIndex, bvs::LatticeModels.Bravais, buf::Vector{Float64}) at lattice.jl:68",
          "status": "Default",
          "x1": 90,
          "x2": 111.9
         },
         {
          "level": 23,
          "sf": "mul! at matmul.jl:276 [inlined]",
          "status": "Default",
          "x1": 90,
          "x2": 111.9
         },
         {
          "level": 24,
          "sf": "mul! at matmul.jl:65 [inlined]",
          "status": "Default",
          "x1": 90,
          "x2": 111.9
         },
         {
          "level": 25,
          "sf": "gemv!(y::Vector{Float64}, tA::Char, A::Matrix{Float64}, x::Vector{Float64}, α::Bool, β::Bool) at array.jl:0",
          "status": "Default",
          "x1": 90,
          "x2": 90.9
         },
         {
          "level": 25,
          "sf": "gemv!(y::Vector{Float64}, tA::Char, A::Matrix{Float64}, x::Vector{Float64}, α::Bool, β::Bool) at matmul.jl:490",
          "status": "Default",
          "x1": 91,
          "x2": 93.9
         },
         {
          "level": 25,
          "sf": "gemv!(y::Vector{Float64}, tA::Char, A::Matrix{Float64}, x::Vector{Float64}, α::Bool, β::Bool) at matmul.jl:503",
          "status": "Default",
          "x1": 94,
          "x2": 111.9
         },
         {
          "level": 26,
          "sf": "gemv!(trans::Char, alpha::Float64, A::Matrix{Float64}, X::Vector{Float64}, beta::Float64, Y::Vector{Float64}) at blas.jl:665",
          "status": "Default",
          "x1": 94,
          "x2": 94.9
         },
         {
          "level": 27,
          "sf": "max at operators.jl:591 [inlined]",
          "status": "Default",
          "x1": 94,
          "x2": 94.9
         },
         {
          "level": 28,
          "sf": "max at promotion.jl:488 [inlined]",
          "status": "Default",
          "x1": 94,
          "x2": 94.9
         },
         {
          "level": 29,
          "sf": "< at int.jl:83 [inlined]",
          "status": "Default",
          "x1": 94,
          "x2": 94.9
         },
         {
          "level": 26,
          "sf": "gemv!(trans::Char, alpha::Float64, A::Matrix{Float64}, X::Vector{Float64}, beta::Float64, Y::Vector{Float64}) at blas.jl:666",
          "status": "Default",
          "x1": 95,
          "x2": 111.9
         },
         {
          "level": 22,
          "sf": "coords!(crd::Vector{Float64}, l::SquareLattice, site::LatticeIndex, bvs::LatticeModels.Bravais, buf::Vector{Float64}) at lattice.jl:69",
          "status": "Default",
          "x1": 112,
          "x2": 133.9
         },
         {
          "level": 23,
          "sf": "getindex at abstractarray.jl:1241 [inlined]",
          "status": "Default",
          "x1": 112,
          "x2": 132.9
         },
         {
          "level": 24,
          "sf": "_getindex at multidimensional.jl:875 [inlined]",
          "status": "Default",
          "x1": 112,
          "x2": 132.9
         },
         {
          "level": 25,
          "sf": "_unsafe_getindex at multidimensional.jl:887 [inlined]",
          "status": "Default",
          "x1": 112,
          "x2": 132.9
         },
         {
          "level": 26,
          "sf": "similar at abstractarray.jl:795 [inlined]",
          "status": "Default",
          "x1": 112,
          "x2": 132.9
         },
         {
          "level": 27,
          "sf": "similar at array.jl:378 [inlined]",
          "status": "Default",
          "x1": 112,
          "x2": 132.9
         },
         {
          "level": 28,
          "sf": "Array at boot.jl:468 [inlined]",
          "status": "Default",
          "x1": 112,
          "x2": 132.9
         },
         {
          "level": 29,
          "sf": "Array at boot.jl:459 [inlined]",
          "status": "Garbage collection",
          "x1": 112,
          "x2": 132.9
         },
         {
          "level": 23,
          "sf": "materialize! at broadcast.jl:868 [inlined]",
          "status": "Default",
          "x1": 133,
          "x2": 133.9
         },
         {
          "level": 24,
          "sf": "materialize! at broadcast.jl:871 [inlined]",
          "status": "Default",
          "x1": 133,
          "x2": 133.9
         },
         {
          "level": 25,
          "sf": "copyto! at broadcast.jl:913 [inlined]",
          "status": "Default",
          "x1": 133,
          "x2": 133.9
         },
         {
          "level": 26,
          "sf": "copyto! at broadcast.jl:957 [inlined]",
          "status": "Default",
          "x1": 133,
          "x2": 133.9
         },
         {
          "level": 27,
          "sf": "preprocess at broadcast.jl:940 [inlined]",
          "status": "Default",
          "x1": 133,
          "x2": 133.9
         },
         {
          "level": 28,
          "sf": "preprocess_args at broadcast.jl:943 [inlined]",
          "status": "Default",
          "x1": 133,
          "x2": 133.9
         },
         {
          "level": 29,
          "sf": "preprocess_args at broadcast.jl:944 [inlined]",
          "status": "Default",
          "x1": 133,
          "x2": 133.9
         },
         {
          "level": 30,
          "sf": "preprocess at broadcast.jl:941 [inlined]",
          "status": "Default",
          "x1": 133,
          "x2": 133.9
         },
         {
          "level": 31,
          "sf": "extrude at broadcast.jl:637 [inlined]",
          "status": "Default",
          "x1": 133,
          "x2": 133.9
         },
         {
          "level": 32,
          "sf": "newindexer at broadcast.jl:586 [inlined]",
          "status": "Default",
          "x1": 133,
          "x2": 133.9
         },
         {
          "level": 33,
          "sf": "shapeindexer at broadcast.jl:587 [inlined]",
          "status": "Default",
          "x1": 133,
          "x2": 133.9
         },
         {
          "level": 34,
          "sf": "_newindexer at broadcast.jl:592 [inlined]",
          "status": "Default",
          "x1": 133,
          "x2": 133.9
         },
         {
          "level": 35,
          "sf": "!= at operators.jl:282 [inlined]",
          "status": "Default",
          "x1": 133,
          "x2": 133.9
         },
         {
          "level": 36,
          "sf": "== at promotion.jl:477 [inlined]",
          "status": "Default",
          "x1": 133,
          "x2": 133.9
         },
         {
          "level": 21,
          "sf": "apply_field!(lo::LatticeVecOrMat{Matrix{ComplexF64}}, field::Landau) at field.jl:40",
          "status": "Garbage collection",
          "x1": 134,
          "x2": 186.9
         },
         {
          "level": 22,
          "sf": "* at operators.jl:591 [inlined]",
          "status": "Runtime dispatch",
          "x1": 134,
          "x2": 141.9
         },
         {
          "level": 22,
          "sf": "exp(z::ComplexF64) at complex.jl:680",
          "status": "Default",
          "x1": 161,
          "x2": 161.9
         },
         {
          "level": 22,
          "sf": "exp(z::ComplexF64) at complex.jl:682",
          "status": "Default",
          "x1": 162,
          "x2": 162.9
         },
         {
          "level": 22,
          "sf": "exp(z::ComplexF64) at complex.jl:693",
          "status": "Default",
          "x1": 163,
          "x2": 166.9
         },
         {
          "level": 23,
          "sf": "exp at exp.jl:327 [inlined]",
          "status": "Default",
          "x1": 163,
          "x2": 166.9
         },
         {
          "level": 24,
          "sf": "exp_impl at exp.jl:218 [inlined]",
          "status": "Default",
          "x1": 163,
          "x2": 163.9
         },
         {
          "level": 25,
          "sf": "table_unpack at exp.jl:184 [inlined]",
          "status": "Default",
          "x1": 163,
          "x2": 163.9
         },
         {
          "level": 26,
          "sf": "& at int.jl:340 [inlined]",
          "status": "Default",
          "x1": 163,
          "x2": 163.9
         },
         {
          "level": 24,
          "sf": "exp_impl at exp.jl:219 [inlined]",
          "status": "Default",
          "x1": 164,
          "x2": 166.9
         },
         {
          "level": 25,
          "sf": "+ at float.jl:383 [inlined]",
          "status": "Default",
          "x1": 164,
          "x2": 166.9
         },
         {
          "level": 22,
          "sf": "exp(z::ComplexF64) at complex.jl:697",
          "status": "Default",
          "x1": 167,
          "x2": 170.9
         },
         {
          "level": 23,
          "sf": "sincos(x::Float64) at trig.jl:185",
          "status": "Default",
          "x1": 167,
          "x2": 167.9
         },
         {
          "level": 24,
          "sf": "rem_pio2_kernel at rem_pio2.jl:279 [inlined]",
          "status": "Default",
          "x1": 167,
          "x2": 167.9
         },
         {
          "level": 25,
          "sf": "cody_waite_ext_pio2 at rem_pio2.jl:82 [inlined]",
          "status": "Default",
          "x1": 167,
          "x2": 167.9
         },
         {
          "level": 26,
          "sf": "highword at math.jl:1312 [inlined]",
          "status": "Default",
          "x1": 167,
          "x2": 167.9
         },
         {
          "level": 27,
          "sf": "reinterpret at essentials.jl:438 [inlined]",
          "status": "Default",
          "x1": 167,
          "x2": 167.9
         },
         {
          "level": 23,
          "sf": "sincos(x::Float64) at trig.jl:188",
          "status": "Default",
          "x1": 168,
          "x2": 169.9
         },
         {
          "level": 24,
          "sf": "sincos_kernel at trig.jl:211 [inlined]",
          "status": "Default",
          "x1": 168,
          "x2": 169.9
         },
         {
          "level": 25,
          "sf": "cos_kernel at trig.jl:138 [inlined]",
          "status": "Default",
          "x1": 168,
          "x2": 168.9
         },
         {
          "level": 26,
          "sf": "evalpoly at math.jl:177 [inlined]",
          "status": "Default",
          "x1": 168,
          "x2": 168.9
         },
         {
          "level": 27,
          "sf": "macro expansion at math.jl:178 [inlined]",
          "status": "Default",
          "x1": 168,
          "x2": 168.9
         },
         {
          "level": 28,
          "sf": "muladd at float.jl:388 [inlined]",
          "status": "Default",
          "x1": 168,
          "x2": 168.9
         },
         {
          "level": 25,
          "sf": "sin_kernel at trig.jl:74 [inlined]",
          "status": "Default",
          "x1": 169,
          "x2": 169.9
         },
         {
          "level": 26,
          "sf": "- at float.jl:384 [inlined]",
          "status": "Default",
          "x1": 169,
          "x2": 169.9
         },
         {
          "level": 23,
          "sf": "sincos(x::Float64) at trig.jl:196",
          "status": "Default",
          "x1": 170,
          "x2": 170.9
         },
         {
          "level": 22,
          "sf": "exp(z::ComplexF64) at complex.jl:698",
          "status": "Default",
          "x1": 171,
          "x2": 173.9
         },
         {
          "level": 23,
          "sf": "* at float.jl:385 [inlined]",
          "status": "Default",
          "x1": 171,
          "x2": 172.9
         },
         {
          "level": 22,
          "sf": "_trip_integral!(field::Landau, p1::Vector{Float64}, p2::Vector{Float64}, A::Vector{Float64}) at field.jl:137",
          "status": "Default",
          "x1": 175,
          "x2": 175.9
         },
         {
          "level": 22,
          "sf": "_trip_integral!(field::Landau, p1::Vector{Float64}, p2::Vector{Float64}, A::Vector{Float64}) at field.jl:173",
          "status": "Default",
          "x1": 176,
          "x2": 183.9
         },
         {
          "level": 23,
          "sf": "* at operators.jl:591 [inlined]",
          "status": "Runtime dispatch",
          "x1": 176,
          "x2": 183.9
         },
         {
          "level": 21,
          "sf": "apply_field!(lo::LatticeVecOrMat{Matrix{ComplexF64}}, field::Landau) at field.jl:41",
          "status": "Runtime dispatch",
          "x1": 187,
          "x2": 254.9
         },
         {
          "level": 22,
          "sf": "getindex at abstractarray.jl:1241 [inlined]",
          "status": "Default",
          "x1": 187,
          "x2": 212.9
         },
         {
          "level": 23,
          "sf": "_getindex at multidimensional.jl:874 [inlined]",
          "status": "Default",
          "x1": 187,
          "x2": 187.9
         },
         {
          "level": 24,
          "sf": "checkbounds at abstractarray.jl:668 [inlined]",
          "status": "Default",
          "x1": 187,
          "x2": 187.9
         },
         {
          "level": 25,
          "sf": "checkbounds at abstractarray.jl:647 [inlined]",
          "status": "Default",
          "x1": 187,
          "x2": 187.9
         },
         {
          "level": 26,
          "sf": "checkbounds_indices at abstractarray.jl:694 [inlined]",
          "status": "Default",
          "x1": 187,
          "x2": 187.9
         },
         {
          "level": 27,
          "sf": "checkindex at abstractarray.jl:732 [inlined]",
          "status": "Default",
          "x1": 187,
          "x2": 187.9
         },
         {
          "level": 28,
          "sf": "checkindex at abstractarray.jl:727 [inlined]",
          "status": "Default",
          "x1": 187,
          "x2": 187.9
         },
         {
          "level": 29,
          "sf": "<= at int.jl:481 [inlined]",
          "status": "Default",
          "x1": 187,
          "x2": 187.9
         },
         {
          "level": 23,
          "sf": "_getindex at multidimensional.jl:875 [inlined]",
          "status": "Default",
          "x1": 188,
          "x2": 212.9
         },
         {
          "level": 24,
          "sf": "_unsafe_getindex(::IndexLinear, ::Matrix{ComplexF64}, ::UnitRange{Int64}, ::UnitRange{Int64}) at multidimensional.jl:884",
          "status": "Default",
          "x1": 188,
          "x2": 190.9
         },
         {
          "level": 24,
          "sf": "_unsafe_getindex(::IndexLinear, ::Matrix{ComplexF64}, ::UnitRange{Int64}, ::UnitRange{Int64}) at multidimensional.jl:887",
          "status": "Default",
          "x1": 191,
          "x2": 206.9
         },
         {
          "level": 25,
          "sf": "similar at abstractarray.jl:795 [inlined]",
          "status": "Default",
          "x1": 191,
          "x2": 206.9
         },
         {
          "level": 26,
          "sf": "similar at array.jl:378 [inlined]",
          "status": "Default",
          "x1": 191,
          "x2": 206.9
         },
         {
          "level": 27,
          "sf": "Array at boot.jl:469 [inlined]",
          "status": "Default",
          "x1": 191,
          "x2": 206.9
         },
         {
          "level": 28,
          "sf": "Array at boot.jl:461 [inlined]",
          "status": "Garbage collection",
          "x1": 191,
          "x2": 206.9
         },
         {
          "level": 24,
          "sf": "_unsafe_getindex(::IndexLinear, ::Matrix{ComplexF64}, ::UnitRange{Int64}, ::UnitRange{Int64}) at multidimensional.jl:889",
          "status": "Default",
          "x1": 207,
          "x2": 211.9
         },
         {
          "level": 25,
          "sf": "_unsafe_getindex! at multidimensional.jl:898 [inlined]",
          "status": "Default",
          "x1": 207,
          "x2": 211.9
         },
         {
          "level": 26,
          "sf": "macro expansion at cartesian.jl:64 [inlined]",
          "status": "Default",
          "x1": 207,
          "x2": 210.9
         },
         {
          "level": 27,
          "sf": "macro expansion at multidimensional.jl:903 [inlined]",
          "status": "Default",
          "x1": 207,
          "x2": 209.9
         },
         {
          "level": 28,
          "sf": "setindex! at array.jl:966 [inlined]",
          "status": "Default",
          "x1": 207,
          "x2": 209.9
         },
         {
          "level": 27,
          "sf": "macro expansion at multidimensional.jl:904 [inlined]",
          "status": "Default",
          "x1": 210,
          "x2": 210.9
         },
         {
          "level": 28,
          "sf": "iterate at range.jl:883 [inlined]",
          "status": "Default",
          "x1": 210,
          "x2": 210.9
         },
         {
          "level": 29,
          "sf": "== at promotion.jl:477 [inlined]",
          "status": "Default",
          "x1": 210,
          "x2": 210.9
         },
         {
          "level": 26,
          "sf": "macro expansion at cartesian.jl:66 [inlined]",
          "status": "Default",
          "x1": 211,
          "x2": 211.9
         },
         {
          "level": 27,
          "sf": "iterate at range.jl:883 [inlined]",
          "status": "Default",
          "x1": 211,
          "x2": 211.9
         },
         {
          "level": 28,
          "sf": "== at promotion.jl:477 [inlined]",
          "status": "Default",
          "x1": 211,
          "x2": 211.9
         },
         {
          "level": 24,
          "sf": "_unsafe_getindex(::IndexLinear, ::Matrix{ComplexF64}, ::UnitRange{Int64}, ::UnitRange{Int64}) at multidimensional.jl:890",
          "status": "Default",
          "x1": 212,
          "x2": 212.9
         },
         {
          "level": 22,
          "sf": "setindex! at abstractarray.jl:1344 [inlined]",
          "status": "Default",
          "x1": 213,
          "x2": 230.9
         },
         {
          "level": 23,
          "sf": "_setindex! at multidimensional.jl:930 [inlined]",
          "status": "Garbage collection",
          "x1": 213,
          "x2": 230.9
         },
         {
          "level": 24,
          "sf": "_unsafe_setindex!(::IndexLinear, ::Matrix{ComplexF64}, ::Matrix{ComplexF64}, ::UnitRange{Int64}, ::UnitRange{Int64}) at array.jl:0",
          "status": "Default",
          "x1": 227,
          "x2": 227.9
         },
         {
          "level": 24,
          "sf": "_unsafe_setindex!(::IndexLinear, ::Matrix{ComplexF64}, ::Matrix{ComplexF64}, ::UnitRange{Int64}, ::UnitRange{Int64}) at multidimensional.jl:941",
          "status": "Default",
          "x1": 228,
          "x2": 230.9
         },
         {
          "level": 25,
          "sf": "macro expansion at cartesian.jl:64 [inlined]",
          "status": "Default",
          "x1": 228,
          "x2": 229.9
         },
         {
          "level": 26,
          "sf": "macro expansion at multidimensional.jl:944 [inlined]",
          "status": "Default",
          "x1": 228,
          "x2": 228.9
         },
         {
          "level": 26,
          "sf": "macro expansion at multidimensional.jl:947 [inlined]",
          "status": "Default",
          "x1": 229,
          "x2": 229.9
         },
         {
          "level": 27,
          "sf": "iterate at array.jl:898 [inlined]",
          "status": "Default",
          "x1": 229,
          "x2": 229.9
         },
         {
          "level": 28,
          "sf": "< at int.jl:487 [inlined]",
          "status": "Default",
          "x1": 229,
          "x2": 229.9
         },
         {
          "level": 29,
          "sf": "< at int.jl:480 [inlined]",
          "status": "Default",
          "x1": 229,
          "x2": 229.9
         },
         {
          "level": 25,
          "sf": "macro expansion at cartesian.jl:66 [inlined]",
          "status": "Default",
          "x1": 230,
          "x2": 230.9
         },
         {
          "level": 26,
          "sf": "iterate at range.jl:883 [inlined]",
          "status": "Default",
          "x1": 230,
          "x2": 230.9
         },
         {
          "level": 22,
          "sf": "*(A::Matrix{ComplexF64}, B::ComplexF64) at arraymath.jl:24",
          "status": "Default",
          "x1": 235,
          "x2": 254.9
         },
         {
          "level": 23,
          "sf": "broadcast_preserving_zero_d at broadcast.jl:849 [inlined]",
          "status": "Default",
          "x1": 235,
          "x2": 253.9
         },
         {
          "level": 24,
          "sf": "materialize at broadcast.jl:860 [inlined]",
          "status": "Default",
          "x1": 235,
          "x2": 253.9
         },
         {
          "level": 25,
          "sf": "copy at broadcast.jl:885 [inlined]",
          "status": "Default",
          "x1": 235,
          "x2": 252.9
         },
         {
          "level": 26,
          "sf": "copyto! at broadcast.jl:913 [inlined]",
          "status": "Default",
          "x1": 235,
          "x2": 239.9
         },
         {
          "level": 27,
          "sf": "copyto! at broadcast.jl:949 [inlined]",
          "status": "Default",
          "x1": 235,
          "x2": 235.9
         },
         {
          "level": 28,
          "sf": "axes at abstractarray.jl:95 [inlined]",
          "status": "Default",
          "x1": 235,
          "x2": 235.9
         },
         {
          "level": 29,
          "sf": "size at array.jl:152 [inlined]",
          "status": "Default",
          "x1": 235,
          "x2": 235.9
         },
         {
          "level": 27,
          "sf": "copyto! at broadcast.jl:957 [inlined]",
          "status": "Default",
          "x1": 236,
          "x2": 236.9
         },
         {
          "level": 28,
          "sf": "preprocess at broadcast.jl:940 [inlined]",
          "status": "Default",
          "x1": 236,
          "x2": 236.9
         },
         {
          "level": 29,
          "sf": "preprocess_args at broadcast.jl:943 [inlined]",
          "status": "Default",
          "x1": 236,
          "x2": 236.9
         },
         {
          "level": 30,
          "sf": "preprocess at broadcast.jl:941 [inlined]",
          "status": "Default",
          "x1": 236,
          "x2": 236.9
         },
         {
          "level": 31,
          "sf": "extrude at broadcast.jl:637 [inlined]",
          "status": "Default",
          "x1": 236,
          "x2": 236.9
         },
         {
          "level": 32,
          "sf": "newindexer at broadcast.jl:586 [inlined]",
          "status": "Default",
          "x1": 236,
          "x2": 236.9
         },
         {
          "level": 33,
          "sf": "shapeindexer at broadcast.jl:587 [inlined]",
          "status": "Default",
          "x1": 236,
          "x2": 236.9
         },
         {
          "level": 34,
          "sf": "_newindexer at broadcast.jl:591 [inlined]",
          "status": "Default",
          "x1": 236,
          "x2": 236.9
         },
         {
          "level": 35,
          "sf": "_newindexer at broadcast.jl:592 [inlined]",
          "status": "Default",
          "x1": 236,
          "x2": 236.9
         },
         {
          "level": 36,
          "sf": "!= at operators.jl:282 [inlined]",
          "status": "Default",
          "x1": 236,
          "x2": 236.9
         },
         {
          "level": 37,
          "sf": "== at promotion.jl:477 [inlined]",
          "status": "Default",
          "x1": 236,
          "x2": 236.9
         },
         {
          "level": 27,
          "sf": "copyto! at broadcast.jl:960 [inlined]",
          "status": "Default",
          "x1": 237,
          "x2": 239.9
         },
         {
          "level": 28,
          "sf": "macro expansion at simdloop.jl:75 [inlined]",
          "status": "Default",
          "x1": 237,
          "x2": 238.9
         },
         {
          "level": 28,
          "sf": "macro expansion at simdloop.jl:77 [inlined]",
          "status": "Default",
          "x1": 239,
          "x2": 239.9
         },
         {
          "level": 29,
          "sf": "macro expansion at broadcast.jl:961 [inlined]",
          "status": "Default",
          "x1": 239,
          "x2": 239.9
         },
         {
          "level": 30,
          "sf": "getindex at broadcast.jl:597 [inlined]",
          "status": "Default",
          "x1": 239,
          "x2": 239.9
         },
         {
          "level": 31,
          "sf": "_broadcast_getindex at broadcast.jl:643 [inlined]",
          "status": "Default",
          "x1": 239,
          "x2": 239.9
         },
         {
          "level": 32,
          "sf": "_broadcast_getindex_evalf at broadcast.jl:670 [inlined]",
          "status": "Default",
          "x1": 239,
          "x2": 239.9
         },
         {
          "level": 33,
          "sf": "* at complex.jl:290 [inlined]",
          "status": "Default",
          "x1": 239,
          "x2": 239.9
         },
         {
          "level": 34,
          "sf": "* at float.jl:385 [inlined]",
          "status": "Default",
          "x1": 239,
          "x2": 239.9
         },
         {
          "level": 26,
          "sf": "similar at broadcast.jl:211 [inlined]",
          "status": "Default",
          "x1": 240,
          "x2": 252.9
         },
         {
          "level": 27,
          "sf": "similar at broadcast.jl:212 [inlined]",
          "status": "Default",
          "x1": 240,
          "x2": 252.9
         },
         {
          "level": 28,
          "sf": "similar at abstractarray.jl:840 [inlined]",
          "status": "Default",
          "x1": 240,
          "x2": 252.9
         },
         {
          "level": 29,
          "sf": "similar at abstractarray.jl:841 [inlined]",
          "status": "Default",
          "x1": 240,
          "x2": 252.9
         },
         {
          "level": 30,
          "sf": "Array at boot.jl:476 [inlined]",
          "status": "Default",
          "x1": 240,
          "x2": 252.9
         },
         {
          "level": 31,
          "sf": "Array at boot.jl:469 [inlined]",
          "status": "Default",
          "x1": 240,
          "x2": 252.9
         },
         {
          "level": 32,
          "sf": "Array at boot.jl:461 [inlined]",
          "status": "Garbage collection",
          "x1": 240,
          "x2": 252.9
         },
         {
          "level": 25,
          "sf": "instantiate at broadcast.jl:281 [inlined]",
          "status": "Default",
          "x1": 253,
          "x2": 253.9
         },
         {
          "level": 26,
          "sf": "combine_axes at broadcast.jl:499 [inlined]",
          "status": "Default",
          "x1": 253,
          "x2": 253.9
         },
         {
          "level": 27,
          "sf": "axes at abstractarray.jl:95 [inlined]",
          "status": "Default",
          "x1": 253,
          "x2": 253.9
         },
         {
          "level": 28,
          "sf": "size at array.jl:152 [inlined]",
          "status": "Default",
          "x1": 253,
          "x2": 253.9
         },
         {
          "level": 21,
          "sf": "apply_field!(lo::LatticeVecOrMat{Matrix{ComplexF64}}, field::Landau) at field.jl:42",
          "status": "Runtime dispatch",
          "x1": 255,
          "x2": 326.9
         },
         {
          "level": 22,
          "sf": "getindex at abstractarray.jl:1241 [inlined]",
          "status": "Default",
          "x1": 255,
          "x2": 275.9
         },
         {
          "level": 23,
          "sf": "_getindex at multidimensional.jl:874 [inlined]",
          "status": "Default",
          "x1": 255,
          "x2": 256.9
         },
         {
          "level": 24,
          "sf": "checkbounds at abstractarray.jl:668 [inlined]",
          "status": "Default",
          "x1": 255,
          "x2": 256.9
         },
         {
          "level": 25,
          "sf": "checkbounds at abstractarray.jl:647 [inlined]",
          "status": "Default",
          "x1": 255,
          "x2": 256.9
         },
         {
          "level": 26,
          "sf": "checkbounds_indices at abstractarray.jl:694 [inlined]",
          "status": "Default",
          "x1": 255,
          "x2": 256.9
         },
         {
          "level": 27,
          "sf": "checkbounds_indices at abstractarray.jl:694 [inlined]",
          "status": "Default",
          "x1": 255,
          "x2": 255.9
         },
         {
          "level": 28,
          "sf": "checkindex at abstractarray.jl:732 [inlined]",
          "status": "Default",
          "x1": 255,
          "x2": 255.9
         },
         {
          "level": 29,
          "sf": "checkindex at abstractarray.jl:727 [inlined]",
          "status": "Default",
          "x1": 255,
          "x2": 255.9
         },
         {
          "level": 30,
          "sf": "<= at int.jl:481 [inlined]",
          "status": "Default",
          "x1": 255,
          "x2": 255.9
         },
         {
          "level": 27,
          "sf": "checkindex at abstractarray.jl:732 [inlined]",
          "status": "Default",
          "x1": 256,
          "x2": 256.9
         },
         {
          "level": 28,
          "sf": "checkindex at abstractarray.jl:727 [inlined]",
          "status": "Default",
          "x1": 256,
          "x2": 256.9
         },
         {
          "level": 29,
          "sf": "<= at int.jl:481 [inlined]",
          "status": "Default",
          "x1": 256,
          "x2": 256.9
         },
         {
          "level": 23,
          "sf": "_getindex at multidimensional.jl:875 [inlined]",
          "status": "Default",
          "x1": 257,
          "x2": 275.9
         },
         {
          "level": 24,
          "sf": "_unsafe_getindex(::IndexLinear, ::Matrix{ComplexF64}, ::UnitRange{Int64}, ::UnitRange{Int64}) at multidimensional.jl:884",
          "status": "Default",
          "x1": 257,
          "x2": 257.9
         },
         {
          "level": 24,
          "sf": "_unsafe_getindex(::IndexLinear, ::Matrix{ComplexF64}, ::UnitRange{Int64}, ::UnitRange{Int64}) at multidimensional.jl:886",
          "status": "Default",
          "x1": 258,
          "x2": 258.9
         },
         {
          "level": 25,
          "sf": "index_shape at multidimensional.jl:748 [inlined]",
          "status": "Default",
          "x1": 258,
          "x2": 258.9
         },
         {
          "level": 26,
          "sf": "index_shape at multidimensional.jl:748 [inlined]",
          "status": "Default",
          "x1": 258,
          "x2": 258.9
         },
         {
          "level": 27,
          "sf": "axes at range.jl:688 [inlined]",
          "status": "Default",
          "x1": 258,
          "x2": 258.9
         },
         {
          "level": 28,
          "sf": "length at range.jl:745 [inlined]",
          "status": "Default",
          "x1": 258,
          "x2": 258.9
         },
         {
          "level": 29,
          "sf": "- at int.jl:86 [inlined]",
          "status": "Default",
          "x1": 258,
          "x2": 258.9
         },
         {
          "level": 24,
          "sf": "_unsafe_getindex(::IndexLinear, ::Matrix{ComplexF64}, ::UnitRange{Int64}, ::UnitRange{Int64}) at multidimensional.jl:887",
          "status": "Default",
          "x1": 259,
          "x2": 269.9
         },
         {
          "level": 25,
          "sf": "similar at abstractarray.jl:795 [inlined]",
          "status": "Default",
          "x1": 259,
          "x2": 269.9
         },
         {
          "level": 26,
          "sf": "similar at array.jl:378 [inlined]",
          "status": "Default",
          "x1": 259,
          "x2": 269.9
         },
         {
          "level": 27,
          "sf": "Array at boot.jl:469 [inlined]",
          "status": "Default",
          "x1": 259,
          "x2": 269.9
         },
         {
          "level": 28,
          "sf": "Array at boot.jl:461 [inlined]",
          "status": "Garbage collection",
          "x1": 259,
          "x2": 269.9
         },
         {
          "level": 24,
          "sf": "_unsafe_getindex(::IndexLinear, ::Matrix{ComplexF64}, ::UnitRange{Int64}, ::UnitRange{Int64}) at multidimensional.jl:889",
          "status": "Default",
          "x1": 270,
          "x2": 274.9
         },
         {
          "level": 25,
          "sf": "_unsafe_getindex! at multidimensional.jl:898 [inlined]",
          "status": "Default",
          "x1": 270,
          "x2": 274.9
         },
         {
          "level": 26,
          "sf": "macro expansion at cartesian.jl:64 [inlined]",
          "status": "Default",
          "x1": 270,
          "x2": 274.9
         },
         {
          "level": 27,
          "sf": "macro expansion at multidimensional.jl:901 [inlined]",
          "status": "Default",
          "x1": 270,
          "x2": 270.9
         },
         {
          "level": 27,
          "sf": "macro expansion at multidimensional.jl:903 [inlined]",
          "status": "Default",
          "x1": 271,
          "x2": 273.9
         },
         {
          "level": 28,
          "sf": "setindex! at array.jl:966 [inlined]",
          "status": "Default",
          "x1": 271,
          "x2": 273.9
         },
         {
          "level": 27,
          "sf": "macro expansion at multidimensional.jl:904 [inlined]",
          "status": "Default",
          "x1": 274,
          "x2": 274.9
         },
         {
          "level": 28,
          "sf": "iterate at range.jl:883 [inlined]",
          "status": "Default",
          "x1": 274,
          "x2": 274.9
         },
         {
          "level": 29,
          "sf": "== at promotion.jl:477 [inlined]",
          "status": "Default",
          "x1": 274,
          "x2": 274.9
         },
         {
          "level": 24,
          "sf": "_unsafe_getindex(::IndexLinear, ::Matrix{ComplexF64}, ::UnitRange{Int64}, ::UnitRange{Int64}) at multidimensional.jl:890",
          "status": "Default",
          "x1": 275,
          "x2": 275.9
         },
         {
          "level": 22,
          "sf": "setindex! at abstractarray.jl:1344 [inlined]",
          "status": "Default",
          "x1": 276,
          "x2": 298.9
         },
         {
          "level": 23,
          "sf": "_setindex! at multidimensional.jl:930 [inlined]",
          "status": "Garbage collection",
          "x1": 276,
          "x2": 298.9
         },
         {
          "level": 24,
          "sf": "_unsafe_setindex!(::IndexLinear, ::Matrix{ComplexF64}, ::Matrix{ComplexF64}, ::UnitRange{Int64}, ::UnitRange{Int64}) at multidimensional.jl:941",
          "status": "Default",
          "x1": 293,
          "x2": 294.9
         },
         {
          "level": 25,
          "sf": "macro expansion at cartesian.jl:64 [inlined]",
          "status": "Default",
          "x1": 293,
          "x2": 294.9
         },
         {
          "level": 26,
          "sf": "macro expansion at multidimensional.jl:944 [inlined]",
          "status": "Default",
          "x1": 293,
          "x2": 293.9
         },
         {
          "level": 26,
          "sf": "macro expansion at multidimensional.jl:947 [inlined]",
          "status": "Default",
          "x1": 294,
          "x2": 294.9
         },
         {
          "level": 27,
          "sf": "iterate at array.jl:898 [inlined]",
          "status": "Default",
          "x1": 294,
          "x2": 294.9
         },
         {
          "level": 28,
          "sf": "getindex at array.jl:924 [inlined]",
          "status": "Default",
          "x1": 294,
          "x2": 294.9
         },
         {
          "level": 24,
          "sf": "_unsafe_setindex!(::IndexLinear, ::Matrix{ComplexF64}, ::Matrix{ComplexF64}, ::UnitRange{Int64}, ::UnitRange{Int64}) at multidimensional.jl:961",
          "status": "Default",
          "x1": 295,
          "x2": 295.9
         },
         {
          "level": 22,
          "sf": "*(A::Matrix{ComplexF64}, B::ComplexF64) at arraymath.jl:24",
          "status": "Default",
          "x1": 305,
          "x2": 320.9
         },
         {
          "level": 23,
          "sf": "broadcast_preserving_zero_d at broadcast.jl:849 [inlined]",
          "status": "Default",
          "x1": 305,
          "x2": 319.9
         },
         {
          "level": 24,
          "sf": "materialize at broadcast.jl:860 [inlined]",
          "status": "Default",
          "x1": 305,
          "x2": 319.9
         },
         {
          "level": 25,
          "sf": "copy at broadcast.jl:885 [inlined]",
          "status": "Default",
          "x1": 305,
          "x2": 319.9
         },
         {
          "level": 26,
          "sf": "copyto! at broadcast.jl:913 [inlined]",
          "status": "Default",
          "x1": 305,
          "x2": 307.9
         },
         {
          "level": 27,
          "sf": "copyto! at broadcast.jl:957 [inlined]",
          "status": "Default",
          "x1": 305,
          "x2": 305.9
         },
         {
          "level": 28,
          "sf": "preprocess at broadcast.jl:940 [inlined]",
          "status": "Default",
          "x1": 305,
          "x2": 305.9
         },
         {
          "level": 29,
          "sf": "preprocess_args at broadcast.jl:943 [inlined]",
          "status": "Default",
          "x1": 305,
          "x2": 305.9
         },
         {
          "level": 30,
          "sf": "preprocess at broadcast.jl:941 [inlined]",
          "status": "Default",
          "x1": 305,
          "x2": 305.9
         },
         {
          "level": 31,
          "sf": "extrude at broadcast.jl:637 [inlined]",
          "status": "Default",
          "x1": 305,
          "x2": 305.9
         },
         {
          "level": 32,
          "sf": "newindexer at broadcast.jl:586 [inlined]",
          "status": "Default",
          "x1": 305,
          "x2": 305.9
         },
         {
          "level": 33,
          "sf": "shapeindexer at broadcast.jl:587 [inlined]",
          "status": "Default",
          "x1": 305,
          "x2": 305.9
         },
         {
          "level": 34,
          "sf": "_newindexer at broadcast.jl:591 [inlined]",
          "status": "Default",
          "x1": 305,
          "x2": 305.9
         },
         {
          "level": 35,
          "sf": "_newindexer at broadcast.jl:592 [inlined]",
          "status": "Default",
          "x1": 305,
          "x2": 305.9
         },
         {
          "level": 36,
          "sf": "!= at operators.jl:282 [inlined]",
          "status": "Default",
          "x1": 305,
          "x2": 305.9
         },
         {
          "level": 37,
          "sf": "== at promotion.jl:477 [inlined]",
          "status": "Default",
          "x1": 305,
          "x2": 305.9
         },
         {
          "level": 27,
          "sf": "copyto! at broadcast.jl:960 [inlined]",
          "status": "Default",
          "x1": 306,
          "x2": 307.9
         },
         {
          "level": 28,
          "sf": "macro expansion at simdloop.jl:75 [inlined]",
          "status": "Default",
          "x1": 306,
          "x2": 306.9
         },
         {
          "level": 28,
          "sf": "macro expansion at simdloop.jl:84 [inlined]",
          "status": "Default",
          "x1": 307,
          "x2": 307.9
         },
         {
          "level": 26,
          "sf": "similar at broadcast.jl:211 [inlined]",
          "status": "Default",
          "x1": 308,
          "x2": 319.9
         },
         {
          "level": 27,
          "sf": "similar at broadcast.jl:212 [inlined]",
          "status": "Default",
          "x1": 308,
          "x2": 319.9
         },
         {
          "level": 28,
          "sf": "similar at abstractarray.jl:840 [inlined]",
          "status": "Default",
          "x1": 308,
          "x2": 319.9
         },
         {
          "level": 29,
          "sf": "similar at abstractarray.jl:841 [inlined]",
          "status": "Default",
          "x1": 308,
          "x2": 319.9
         },
         {
          "level": 30,
          "sf": "Array at boot.jl:476 [inlined]",
          "status": "Default",
          "x1": 308,
          "x2": 319.9
         },
         {
          "level": 31,
          "sf": "Array at boot.jl:469 [inlined]",
          "status": "Default",
          "x1": 308,
          "x2": 319.9
         },
         {
          "level": 32,
          "sf": "Array at boot.jl:461 [inlined]",
          "status": "Garbage collection",
          "x1": 308,
          "x2": 319.9
         },
         {
          "level": 21,
          "sf": "apply_field!(lo::LatticeVecOrMat{Matrix{ComplexF64}}, field::Landau) at field.jl:45",
          "status": "Runtime dispatch",
          "x1": 327,
          "x2": 357.9
         },
         {
          "level": 22,
          "sf": "iterate(l::SquareLattice, state::Tuple{LatticeIndex, Int64, Int64}) at lattice.jl:57",
          "status": "Default",
          "x1": 339,
          "x2": 339.9
         },
         {
          "level": 22,
          "sf": "iterate(l::SquareLattice, state::Tuple{LatticeIndex, Int64, Int64}) at lattice.jl:59",
          "status": "Default",
          "x1": 340,
          "x2": 347.9
         },
         {
          "level": 23,
          "sf": "proceed!(l::SquareLattice, bvs_len::Int64, site::LatticeIndex) at lattice.jl:34",
          "status": "Default",
          "x1": 340,
          "x2": 343.9
         },
         {
          "level": 23,
          "sf": "proceed!(l::SquareLattice, bvs_len::Int64, site::LatticeIndex) at lattice.jl:35",
          "status": "Default",
          "x1": 344,
          "x2": 346.9
         },
         {
          "level": 24,
          "sf": "== at array.jl:1759 [inlined]",
          "status": "Default",
          "x1": 344,
          "x2": 346.9
         },
         {
          "level": 25,
          "sf": "_memcmp at array.jl:1743 [inlined]",
          "status": "Default",
          "x1": 344,
          "x2": 346.9
         },
         {
          "level": 23,
          "sf": "proceed!(l::SquareLattice, bvs_len::Int64, site::LatticeIndex) at lattice.jl:45",
          "status": "Default",
          "x1": 347,
          "x2": 347.9
         },
         {
          "level": 24,
          "sf": "+ at int.jl:87 [inlined]",
          "status": "Default",
          "x1": 347,
          "x2": 347.9
         },
         {
          "level": 22,
          "sf": "iterate(l::SquareLattice, state::Tuple{LatticeIndex, Int64, Int64}) at lattice.jl:61",
          "status": "Garbage collection",
          "x1": 348,
          "x2": 356.9
         }
        ]
       },
       "encoding": {
        "color": {
         "field": "status",
         "legend": {
          "orient": "bottom",
          "title": null
         },
         "type": "nominal"
        },
        "fillOpacity": {
         "condition": [
          {
           "selection": "highlight",
           "value": 0.6
          },
          {
           "selection": "select",
           "value": 0.5
          }
         ],
         "value": 1
        },
        "strokeWidth": {
         "condition": [
          {
           "selection": "highlight",
           "value": 0.5
          },
          {
           "selection": "select",
           "value": 0.5
          }
         ],
         "value": 0
        },
        "tooltip": {
         "field": "sf",
         "type": "nominal"
        },
        "x": {
         "axis": null,
         "field": "x1",
         "type": "quantitative"
        },
        "x2": {
         "field": "x2",
         "type": "quantitative"
        },
        "y": {
         "axis": null,
         "field": "level",
         "type": "quantitative"
        },
        "y2": {
         "field": "level2",
         "type": "quantitative"
        }
       },
       "height": 400,
       "mark": {
        "stroke": "#505050",
        "type": "rect"
       },
       "selection": {
        "grid": {
         "bind": "scales",
         "type": "interval"
        },
        "highlight": {
         "empty": "none",
         "on": "mouseover",
         "type": "single"
        },
        "select": {
         "empty": "none",
         "type": "multi"
        }
       },
       "title": "Profile Results",
       "transform": [
        {
         "as": "level2",
         "calculate": "datum.level+0.9"
        }
       ],
       "width": 800
      },
      "image/png": "[encoded data removed]",
      "image/svg+xml": "<?xml version=\"1.0\" encoding=\"utf-8\"?>\n<!DOCTYPE svg PUBLIC \"-//W3C//DTD SVG 1.1//EN\" \"http://www.w3.org/Graphics/SVG/1.1/DTD/svg11.dtd\">\n<svg xmlns=\"http://www.w3.org/2000/svg\" xmlns:xlink=\"http://www.w3.org/1999/xlink\" version=\"1.1\" class=\"marks\" width=\"810\" height=\"458\" viewBox=\"0 0 810 458\"><rect width=\"810\" height=\"458\" fill=\"white\"/><g fill=\"none\" stroke-miterlimit=\"10\" transform=\"translate(5,22)\"><g class=\"mark-group role-frame root\" role=\"graphics-object\" aria-roledescription=\"group mark container\"><g transform=\"translate(0,0)\"><path class=\"background\" aria-hidden=\"true\" d=\"M0.5,0.5h800v400h-800Z\" stroke=\"#ddd\"/><g><g class=\"mark-rect role-mark marks\" clip-path=\"url(#clip1)\" role=\"graphics-object\" aria-roledescription=\"rect mark container\"><path aria-label=\"x1: 1; x2: 360.9; level: 0; level2: 0.9; status: Default; sf: ip:0x0\" role=\"graphics-symbol\" aria-roledescription=\"rect mark\" d=\"M2,391h719.8v9h-719.8Z\" fill=\"#4c78a8\" fill-opacity=\"1\" stroke=\"#505050\" stroke-width=\"0\"/><path aria-label=\"x1: 3; x2: 357.9; level: 1; level2: 1.9; status: Default; sf: _start() at client.jl:522\" role=\"graphics-symbol\" aria-roledescription=\"rect mark\" d=\"M6,381h709.8v9h-709.8Z\" fill=\"#4c78a8\" fill-opacity=\"1\" stroke=\"#505050\" stroke-width=\"0\"/><path aria-label=\"x1: 3; x2: 357.9; level: 2; level2: 2.9; status: Default; sf: exec_options(opts::Base.JLOptions) at client.jl:303\" role=\"graphics-symbol\" aria-roledescription=\"rect mark\" d=\"M6,371h709.8v9h-709.8Z\" fill=\"#4c78a8\" fill-opacity=\"1\" stroke=\"#505050\" stroke-width=\"0\"/><path aria-label=\"x1: 3; x2: 357.9; level: 3; level2: 3.9; status: Default; sf: include(mod::Module, _path::String) at Base.jl:419\" role=\"graphics-symbol\" aria-roledescription=\"rect mark\" d=\"M6,361h709.8v9h-709.8Z\" fill=\"#4c78a8\" fill-opacity=\"1\" stroke=\"#505050\" stroke-width=\"0\"/><path aria-label=\"x1: 3; x2: 357.9; level: 4; level2: 4.9; status: Default; sf: _include(mapexpr::Function, mod::Module, _path::String) at loading.jl:1488\" role=\"graphics-symbol\" aria-roledescription=\"rect mark\" d=\"M6,351h709.8v9h-709.8Z\" fill=\"#4c78a8\" fill-opacity=\"1\" stroke=\"#505050\" stroke-width=\"0\"/><path aria-label=\"x1: 3; x2: 357.9; level: 5; level2: 5.9; status: Default; sf: include_string(mapexpr::typeof(identity), mod::Module, code::String, filename::String) at loading.jl:1428\" role=\"graphics-symbol\" aria-roledescription=\"rect mark\" d=\"M6,341h709.8v9h-709.8Z\" fill=\"#4c78a8\" fill-opacity=\"1\" stroke=\"#505050\" stroke-width=\"0\"/><path aria-label=\"x1: 3; x2: 357.9; level: 6; level2: 6.9; status: Default; sf: eval at boot.jl:368 [inlined]\" role=\"graphics-symbol\" aria-roledescription=\"rect mark\" d=\"M6,331h709.8v9h-709.8Z\" fill=\"#4c78a8\" fill-opacity=\"1\" stroke=\"#505050\" stroke-width=\"0\"/><path aria-label=\"x1: 3; x2: 357.9; level: 7; level2: 7.9; status: Default; sf: top-level scope at notebook.jl:32\" role=\"graphics-symbol\" aria-roledescription=\"rect mark\" d=\"M6,321h709.8v9h-709.8Z\" fill=\"#4c78a8\" fill-opacity=\"1\" stroke=\"#505050\" stroke-width=\"0\"/><path aria-label=\"x1: 3; x2: 357.9; level: 8; level2: 8.9; status: Default; sf: (::VSCodeServer.var&quot;#serve_notebook##kw&quot;)(::NamedTuple{(:crashreporting_pipename,), Tuple{String}}, ::typeof(VSCodeServer.serve_notebook), pipename::String, outputchannel_logger::Base.CoreLogging.SimpleLogger) at serve_notebook.jl:75\" role=\"graphics-symbol\" aria-roledescription=\"rect mark\" d=\"M6,311h709.8v9h-709.8Z\" fill=\"#4c78a8\" fill-opacity=\"1\" stroke=\"#505050\" stroke-width=\"0\"/><path aria-label=\"x1: 3; x2: 357.9; level: 9; level2: 9.9; status: Default; sf: serve_notebook(pipename::String, outputchannel_logger::Base.CoreLogging.SimpleLogger; crashreporting_pipename::String) at serve_notebook.jl:139\" role=\"graphics-symbol\" aria-roledescription=\"rect mark\" d=\"M6,301h709.8v9h-709.8Z\" fill=\"#4c78a8\" fill-opacity=\"1\" stroke=\"#505050\" stroke-width=\"0\"/><path aria-label=\"x1: 3; x2: 357.9; level: 10; level2: 10.9; status: Default; sf: dispatch_msg(x::VSCodeServer.JSONRPC.JSONRPCEndpoint{Base.PipeEndpoint, Base.PipeEndpoint}, dispatcher::VSCodeServer.JSONRPC.MsgDispatcher, msg::Dict{String, Any}) at typed.jl:67\" role=\"graphics-symbol\" aria-roledescription=\"rect mark\" d=\"M6,291h709.8v9h-709.8Z\" fill=\"#4c78a8\" fill-opacity=\"1\" stroke=\"#505050\" stroke-width=\"0\"/><path aria-label=\"x1: 3; x2: 357.9; level: 11; level2: 11.9; status: Default; sf: notebook_runcell_request(conn::VSCodeServer.JSONRPC.JSONRPCEndpoint{Base.PipeEndpoint, Base.PipeEndpoint}, params::VSCodeServer.NotebookRunCellArguments) at serve_notebook.jl:13\" role=\"graphics-symbol\" aria-roledescription=\"rect mark\" d=\"M6,281h709.8v9h-709.8Z\" fill=\"#4c78a8\" fill-opacity=\"1\" stroke=\"#505050\" stroke-width=\"0\"/><path aria-label=\"x1: 3; x2: 357.9; level: 12; level2: 12.9; status: Default; sf: withpath(f::VSCodeServer.var&quot;#198#199&quot;{VSCodeServer.NotebookRunCellArguments, String}, path::String) at repl.jl:249\" role=\"graphics-symbol\" aria-roledescription=\"rect mark\" d=\"M6,271h709.8v9h-709.8Z\" fill=\"#4c78a8\" fill-opacity=\"1\" stroke=\"#505050\" stroke-width=\"0\"/><path aria-label=\"x1: 3; x2: 357.9; level: 13; level2: 13.9; status: Default; sf: (::VSCodeServer.var&quot;#198#199&quot;{VSCodeServer.NotebookRunCellArguments, String})() at serve_notebook.jl:19\" role=\"graphics-symbol\" aria-roledescription=\"rect mark\" d=\"M6,261h709.8v9h-709.8Z\" fill=\"#4c78a8\" fill-opacity=\"1\" stroke=\"#505050\" stroke-width=\"0\"/><path aria-label=\"x1: 3; x2: 357.9; level: 14; level2: 14.9; status: Default; sf: invokelatest at essentials.jl:726 [inlined]\" role=\"graphics-symbol\" aria-roledescription=\"rect mark\" d=\"M6,250.99999999999997h709.8v9.000000000000028h-709.8Z\" fill=\"#4c78a8\" fill-opacity=\"1\" stroke=\"#505050\" stroke-width=\"0\"/><path aria-label=\"x1: 3; x2: 357.9; level: 15; level2: 15.9; status: Default; sf: #invokelatest#2 at essentials.jl:729 [inlined]\" role=\"graphics-symbol\" aria-roledescription=\"rect mark\" d=\"M6,241h709.8v9h-709.8Z\" fill=\"#4c78a8\" fill-opacity=\"1\" stroke=\"#505050\" stroke-width=\"0\"/><path aria-label=\"x1: 3; x2: 357.9; level: 16; level2: 16.9; status: Default; sf: include_string(mapexpr::typeof(REPL.softscope), mod::Module, code::String, filename::String) at loading.jl:1428\" role=\"graphics-symbol\" aria-roledescription=\"rect mark\" d=\"M6,231h709.8v9h-709.8Z\" fill=\"#4c78a8\" fill-opacity=\"1\" stroke=\"#505050\" stroke-width=\"0\"/><path aria-label=\"x1: 3; x2: 357.9; level: 17; level2: 17.9; status: Default; sf: eval at boot.jl:368 [inlined]\" role=\"graphics-symbol\" aria-roledescription=\"rect mark\" d=\"M6,221h709.8v8.999999999999972h-709.8Z\" fill=\"#4c78a8\" fill-opacity=\"1\" stroke=\"#505050\" stroke-width=\"0\"/><path aria-label=\"x1: 3; x2: 357.9; level: 18; level2: 18.9; status: Default; sf: top-level scope at view.jl:60\" role=\"graphics-symbol\" aria-roledescription=\"rect mark\" d=\"M6,211.00000000000003h709.8v9h-709.8Z\" fill=\"#4c78a8\" fill-opacity=\"1\" stroke=\"#505050\" stroke-width=\"0\"/><path aria-label=\"x1: 3; x2: 357.9; level: 19; level2: 19.9; status: Default; sf: macro expansion at Profile.jl:27 [inlined]\" role=\"graphics-symbol\" aria-roledescription=\"rect mark\" d=\"M6,201.00000000000003h709.8v8.999999999999972h-709.8Z\" fill=\"#4c78a8\" fill-opacity=\"1\" stroke=\"#505050\" stroke-width=\"0\"/><path aria-label=\"x1: 3; x2: 357.9; level: 20; level2: 20.9; status: Default; sf: macro expansion at demo.ipynb:2 [inlined]\" role=\"graphics-symbol\" aria-roledescription=\"rect mark\" d=\"M6,191h709.8v9h-709.8Z\" fill=\"#4c78a8\" fill-opacity=\"1\" stroke=\"#505050\" stroke-width=\"0\"/><path aria-label=\"x1: 3; x2: 6.9; level: 21; level2: 21.9; status: Default; sf: apply_field!(lo::LatticeVecOrMat{Matrix{ComplexF64}}, field::Landau) at field.jl:0\" role=\"graphics-symbol\" aria-roledescription=\"rect mark\" d=\"M6,181h7.800000000000001v9h-7.800000000000001Z\" fill=\"#4c78a8\" fill-opacity=\"1\" stroke=\"#505050\" stroke-width=\"0\"/><path aria-label=\"x1: 7; x2: 7.9; level: 21; level2: 21.9; status: Default; sf: apply_field!(lo::LatticeVecOrMat{Matrix{ComplexF64}}, field::Landau) at field.jl:34\" role=\"graphics-symbol\" aria-roledescription=\"rect mark\" d=\"M14.000000000000002,181h1.799999999999999v9h-1.799999999999999Z\" fill=\"#4c78a8\" fill-opacity=\"1\" stroke=\"#505050\" stroke-width=\"0\"/><path aria-label=\"x1: 7; x2: 7.9; level: 22; level2: 22.9; status: Default; sf: iterate(l::SquareLattice) at lattice.jl:53\" role=\"graphics-symbol\" aria-roledescription=\"rect mark\" d=\"M14.000000000000002,171h1.799999999999999v8.999999999999972h-1.799999999999999Z\" fill=\"#4c78a8\" fill-opacity=\"1\" stroke=\"#505050\" stroke-width=\"0\"/><path aria-label=\"x1: 7; x2: 7.9; level: 23; level2: 23.9; status: Default; sf: start at lattice.jl:32 [inlined]\" role=\"graphics-symbol\" aria-roledescription=\"rect mark\" d=\"M14.000000000000002,161.00000000000003h1.799999999999999v9h-1.799999999999999Z\" fill=\"#4c78a8\" fill-opacity=\"1\" stroke=\"#505050\" stroke-width=\"0\"/><path aria-label=\"x1: 7; x2: 7.9; level: 24; level2: 24.9; status: Default; sf: LatticeIndex at lattice.jl:28 [inlined]\" role=\"graphics-symbol\" aria-roledescription=\"rect mark\" d=\"M14.000000000000002,151.00000000000003h1.799999999999999v8.999999999999972h-1.799999999999999Z\" fill=\"#4c78a8\" fill-opacity=\"1\" stroke=\"#505050\" stroke-width=\"0\"/><path aria-label=\"x1: 8; x2: 32.9; level: 21; level2: 21.9; status: Garbage collection; sf: apply_field!(lo::LatticeVecOrMat{Matrix{ComplexF64}}, field::Landau) at field.jl:36\" role=\"graphics-symbol\" aria-roledescription=\"rect mark\" d=\"M16,181h49.8v9h-49.8Z\" fill=\"#f58518\" fill-opacity=\"1\" stroke=\"#505050\" stroke-width=\"0\"/><path aria-label=\"x1: 30; x2: 30.9; level: 22; level2: 22.9; status: Default; sf: iterate(l::SquareLattice) at lattice.jl:54\" role=\"graphics-symbol\" aria-roledescription=\"rect mark\" d=\"M60,171h1.7999999999999972v8.999999999999972h-1.7999999999999972Z\" fill=\"#4c78a8\" fill-opacity=\"1\" stroke=\"#505050\" stroke-width=\"0\"/><path aria-label=\"x1: 30; x2: 30.9; level: 23; level2: 23.9; status: Default; sf: bravais at lattice.jl:24 [inlined]\" role=\"graphics-symbol\" aria-roledescription=\"rect mark\" d=\"M60,161.00000000000003h1.7999999999999972v9h-1.7999999999999972Z\" fill=\"#4c78a8\" fill-opacity=\"1\" stroke=\"#505050\" stroke-width=\"0\"/><path aria-label=\"x1: 30; x2: 30.9; level: 24; level2: 24.9; status: Default; sf: _bravais(#unused#::SquareLattice, dims::Int64) at lattice.jl:166\" role=\"graphics-symbol\" aria-roledescription=\"rect mark\" d=\"M60,151.00000000000003h1.7999999999999972v8.999999999999972h-1.7999999999999972Z\" fill=\"#4c78a8\" fill-opacity=\"1\" stroke=\"#505050\" stroke-width=\"0\"/><path aria-label=\"x1: 30; x2: 30.9; level: 25; level2: 25.9; status: Default; sf: Bravais at lattice.jl:12 [inlined]\" role=\"graphics-symbol\" aria-roledescription=\"rect mark\" d=\"M60,141h1.7999999999999972v9h-1.7999999999999972Z\" fill=\"#4c78a8\" fill-opacity=\"1\" stroke=\"#505050\" stroke-width=\"0\"/><path aria-label=\"x1: 30; x2: 30.9; level: 26; level2: 26.9; status: Default; sf: convert at array.jl:617 [inlined]\" role=\"graphics-symbol\" aria-roledescription=\"rect mark\" d=\"M60,131h1.7999999999999972v9h-1.7999999999999972Z\" fill=\"#4c78a8\" fill-opacity=\"1\" stroke=\"#505050\" stroke-width=\"0\"/><path aria-label=\"x1: 30; x2: 30.9; level: 27; level2: 27.9; status: Default; sf: Matrix{Float64}(x::Matrix{Bool}) at array.jl:626\" role=\"graphics-symbol\" aria-roledescription=\"rect mark\" d=\"M60,121h1.7999999999999972v8.999999999999972h-1.7999999999999972Z\" fill=\"#4c78a8\" fill-opacity=\"1\" stroke=\"#505050\" stroke-width=\"0\"/><path aria-label=\"x1: 30; x2: 30.9; level: 28; level2: 28.9; status: Default; sf: Array at boot.jl:469 [inlined]\" role=\"graphics-symbol\" aria-roledescription=\"rect mark\" d=\"M60,111.00000000000003h1.7999999999999972v8.999999999999986h-1.7999999999999972Z\" fill=\"#4c78a8\" fill-opacity=\"1\" stroke=\"#505050\" stroke-width=\"0\"/><path aria-label=\"x1: 30; x2: 30.9; level: 29; level2: 29.9; status: Default; sf: Array at boot.jl:461 [inlined]\" role=\"graphics-symbol\" aria-roledescription=\"rect mark\" d=\"M60,101.00000000000003h1.7999999999999972v8.999999999999986h-1.7999999999999972Z\" fill=\"#4c78a8\" fill-opacity=\"1\" stroke=\"#505050\" stroke-width=\"0\"/><path aria-label=\"x1: 33; x2: 33.9; level: 21; level2: 21.9; status: Default; sf: apply_field!(lo::LatticeVecOrMat{Matrix{ComplexF64}}, field::Landau) at field.jl:37\" role=\"graphics-symbol\" aria-roledescription=\"rect mark\" d=\"M66,181h1.7999999999999972v9h-1.7999999999999972Z\" fill=\"#4c78a8\" fill-opacity=\"1\" stroke=\"#505050\" stroke-width=\"0\"/><path aria-label=\"x1: 33; x2: 33.9; level: 22; level2: 22.9; status: Default; sf: &gt; at operators.jl:382 [inlined]\" role=\"graphics-symbol\" aria-roledescription=\"rect mark\" d=\"M66,171h1.7999999999999972v8.999999999999972h-1.7999999999999972Z\" fill=\"#4c78a8\" fill-opacity=\"1\" stroke=\"#505050\" stroke-width=\"0\"/><path aria-label=\"x1: 33; x2: 33.9; level: 23; level2: 23.9; status: Default; sf: &lt; at int.jl:83 [inlined]\" role=\"graphics-symbol\" aria-roledescription=\"rect mark\" d=\"M66,161.00000000000003h1.7999999999999972v9h-1.7999999999999972Z\" fill=\"#4c78a8\" fill-opacity=\"1\" stroke=\"#505050\" stroke-width=\"0\"/><path aria-label=\"x1: 34; x2: 79.9; level: 21; level2: 21.9; status: Runtime dispatch; sf: apply_field!(lo::LatticeVecOrMat{Matrix{ComplexF64}}, field::Landau) at field.jl:38\" role=\"graphics-symbol\" aria-roledescription=\"rect mark\" d=\"M68,181h91.80000000000001v9h-91.80000000000001Z\" fill=\"#e45756\" fill-opacity=\"1\" stroke=\"#505050\" stroke-width=\"0\"/><path aria-label=\"x1: 38; x2: 38.9; level: 22; level2: 22.9; status: Default; sf: coords!(crd::Vector{Float64}, l::SquareLattice, site::LatticeIndex, bvs::LatticeModels.Bravais, buf::Vector{Float64}) at lattice.jl:64\" role=\"graphics-symbol\" aria-roledescription=\"rect mark\" d=\"M76,171h1.7999999999999972v8.999999999999972h-1.7999999999999972Z\" fill=\"#4c78a8\" fill-opacity=\"1\" stroke=\"#505050\" stroke-width=\"0\"/><path aria-label=\"x1: 39; x2: 43.9; level: 22; level2: 22.9; status: Default; sf: coords!(crd::Vector{Float64}, l::SquareLattice, site::LatticeIndex, bvs::LatticeModels.Bravais, buf::Vector{Float64}) at lattice.jl:65\" role=\"graphics-symbol\" aria-roledescription=\"rect mark\" d=\"M78,171h9.799999999999997v8.999999999999972h-9.799999999999997Z\" fill=\"#4c78a8\" fill-opacity=\"1\" stroke=\"#505050\" stroke-width=\"0\"/><path aria-label=\"x1: 39; x2: 43.9; level: 23; level2: 23.9; status: Default; sf: materialize! at broadcast.jl:868 [inlined]\" role=\"graphics-symbol\" aria-roledescription=\"rect mark\" d=\"M78,161.00000000000003h9.799999999999997v9h-9.799999999999997Z\" fill=\"#4c78a8\" fill-opacity=\"1\" stroke=\"#505050\" stroke-width=\"0\"/><path aria-label=\"x1: 39; x2: 43.9; level: 24; level2: 24.9; status: Default; sf: materialize! at broadcast.jl:871 [inlined]\" role=\"graphics-symbol\" aria-roledescription=\"rect mark\" d=\"M78,151.00000000000003h9.799999999999997v8.999999999999972h-9.799999999999997Z\" fill=\"#4c78a8\" fill-opacity=\"1\" stroke=\"#505050\" stroke-width=\"0\"/><path aria-label=\"x1: 39; x2: 43.9; level: 25; level2: 25.9; status: Default; sf: copyto! at broadcast.jl:913 [inlined]\" role=\"graphics-symbol\" aria-roledescription=\"rect mark\" d=\"M78,141h9.799999999999997v9h-9.799999999999997Z\" fill=\"#4c78a8\" fill-opacity=\"1\" stroke=\"#505050\" stroke-width=\"0\"/><path aria-label=\"x1: 39; x2: 39.9; level: 26; level2: 26.9; status: Default; sf: copyto! at broadcast.jl:953 [inlined]\" role=\"graphics-symbol\" aria-roledescription=\"rect mark\" d=\"M78,131h1.7999999999999972v9h-1.7999999999999972Z\" fill=\"#4c78a8\" fill-opacity=\"1\" stroke=\"#505050\" stroke-width=\"0\"/><path aria-label=\"x1: 40; x2: 43.9; level: 26; level2: 26.9; status: Default; sf: copyto! at broadcast.jl:954 [inlined]\" role=\"graphics-symbol\" aria-roledescription=\"rect mark\" d=\"M80,131h7.799999999999997v9h-7.799999999999997Z\" fill=\"#4c78a8\" fill-opacity=\"1\" stroke=\"#505050\" stroke-width=\"0\"/><path aria-label=\"x1: 40; x2: 43.9; level: 27; level2: 27.9; status: Default; sf: copyto! at array.jl:343 [inlined]\" role=\"graphics-symbol\" aria-roledescription=\"rect mark\" d=\"M80,121h7.799999999999997v8.999999999999972h-7.799999999999997Z\" fill=\"#4c78a8\" fill-opacity=\"1\" stroke=\"#505050\" stroke-width=\"0\"/><path aria-label=\"x1: 40; x2: 43.9; level: 28; level2: 28.9; status: Default; sf: copyto! at array.jl:317 [inlined]\" role=\"graphics-symbol\" aria-roledescription=\"rect mark\" d=\"M80,111.00000000000003h7.799999999999997v8.999999999999986h-7.799999999999997Z\" fill=\"#4c78a8\" fill-opacity=\"1\" stroke=\"#505050\" stroke-width=\"0\"/><path aria-label=\"x1: 40; x2: 43.9; level: 29; level2: 29.9; status: Default; sf: _copyto_impl! at array.jl:331 [inlined]\" role=\"graphics-symbol\" aria-roledescription=\"rect mark\" d=\"M80,101.00000000000003h7.799999999999997v8.999999999999986h-7.799999999999997Z\" fill=\"#4c78a8\" fill-opacity=\"1\" stroke=\"#505050\" stroke-width=\"0\"/><path aria-label=\"x1: 40; x2: 43.9; level: 30; level2: 30.9; status: Default; sf: unsafe_copyto! at array.jl:307 [inlined]\" role=\"graphics-symbol\" aria-roledescription=\"rect mark\" d=\"M80,91.00000000000001h7.799999999999997v8.999999999999986h-7.799999999999997Z\" fill=\"#4c78a8\" fill-opacity=\"1\" stroke=\"#505050\" stroke-width=\"0\"/><path aria-label=\"x1: 40; x2: 40.9; level: 31; level2: 31.9; status: Default; sf: _unsafe_copyto!(dest::Vector{Float64}, doffs::Int64, src::Vector{Int64}, soffs::Int64, n::Int64) at array.jl:247\" role=\"graphics-symbol\" aria-roledescription=\"rect mark\" d=\"M80,81h1.7999999999999972v8.999999999999986h-1.7999999999999972Z\" fill=\"#4c78a8\" fill-opacity=\"1\" stroke=\"#505050\" stroke-width=\"0\"/><path aria-label=\"x1: 41; x2: 41.9; level: 31; level2: 31.9; status: Default; sf: _unsafe_copyto!(dest::Vector{Float64}, doffs::Int64, src::Vector{Int64}, soffs::Int64, n::Int64) at array.jl:248\" role=\"graphics-symbol\" aria-roledescription=\"rect mark\" d=\"M82,81h1.7999999999999972v8.999999999999986h-1.7999999999999972Z\" fill=\"#4c78a8\" fill-opacity=\"1\" stroke=\"#505050\" stroke-width=\"0\"/><path aria-label=\"x1: 41; x2: 41.9; level: 32; level2: 32.9; status: Default; sf: pointer at abstractarray.jl:1190 [inlined]\" role=\"graphics-symbol\" aria-roledescription=\"rect mark\" d=\"M82,71h1.7999999999999972v8.999999999999986h-1.7999999999999972Z\" fill=\"#4c78a8\" fill-opacity=\"1\" stroke=\"#505050\" stroke-width=\"0\"/><path aria-label=\"x1: 41; x2: 41.9; level: 33; level2: 33.9; status: Default; sf: + at pointer.jl:159 [inlined]\" role=\"graphics-symbol\" aria-roledescription=\"rect mark\" d=\"M82,61.00000000000003h1.7999999999999972v8.999999999999986h-1.7999999999999972Z\" fill=\"#4c78a8\" fill-opacity=\"1\" stroke=\"#505050\" stroke-width=\"0\"/><path aria-label=\"x1: 42; x2: 42.9; level: 31; level2: 31.9; status: Default; sf: _unsafe_copyto!(dest::Vector{Float64}, doffs::Int64, src::Vector{Int64}, soffs::Int64, n::Int64) at array.jl:249\" role=\"graphics-symbol\" aria-roledescription=\"rect mark\" d=\"M84,81h1.7999999999999972v8.999999999999986h-1.7999999999999972Z\" fill=\"#4c78a8\" fill-opacity=\"1\" stroke=\"#505050\" stroke-width=\"0\"/><path aria-label=\"x1: 42; x2: 42.9; level: 32; level2: 32.9; status: Default; sf: pointer at abstractarray.jl:1190 [inlined]\" role=\"graphics-symbol\" aria-roledescription=\"rect mark\" d=\"M84,71h1.7999999999999972v8.999999999999986h-1.7999999999999972Z\" fill=\"#4c78a8\" fill-opacity=\"1\" stroke=\"#505050\" stroke-width=\"0\"/><path aria-label=\"x1: 42; x2: 42.9; level: 33; level2: 33.9; status: Default; sf: unsafe_convert at pointer.jl:65 [inlined]\" role=\"graphics-symbol\" aria-roledescription=\"rect mark\" d=\"M84,61.00000000000003h1.7999999999999972v8.999999999999986h-1.7999999999999972Z\" fill=\"#4c78a8\" fill-opacity=\"1\" stroke=\"#505050\" stroke-width=\"0\"/><path aria-label=\"x1: 44; x2: 46.9; level: 22; level2: 22.9; status: Default; sf: coords!(crd::Vector{Float64}, l::SquareLattice, site::LatticeIndex, bvs::LatticeModels.Bravais, buf::Vector{Float64}) at lattice.jl:66\" role=\"graphics-symbol\" aria-roledescription=\"rect mark\" d=\"M88,171h5.799999999999997v8.999999999999972h-5.799999999999997Z\" fill=\"#4c78a8\" fill-opacity=\"1\" stroke=\"#505050\" stroke-width=\"0\"/><path aria-label=\"x1: 44; x2: 45.9; level: 23; level2: 23.9; status: Default; sf: materialize! at broadcast.jl:868 [inlined]\" role=\"graphics-symbol\" aria-roledescription=\"rect mark\" d=\"M88,161.00000000000003h3.799999999999997v9h-3.799999999999997Z\" fill=\"#4c78a8\" fill-opacity=\"1\" stroke=\"#505050\" stroke-width=\"0\"/><path aria-label=\"x1: 44; x2: 45.9; level: 24; level2: 24.9; status: Default; sf: materialize! at broadcast.jl:871 [inlined]\" role=\"graphics-symbol\" aria-roledescription=\"rect mark\" d=\"M88,151.00000000000003h3.799999999999997v8.999999999999972h-3.799999999999997Z\" fill=\"#4c78a8\" fill-opacity=\"1\" stroke=\"#505050\" stroke-width=\"0\"/><path aria-label=\"x1: 44; x2: 45.9; level: 25; level2: 25.9; status: Default; sf: copyto! at broadcast.jl:913 [inlined]\" role=\"graphics-symbol\" aria-roledescription=\"rect mark\" d=\"M88,141h3.799999999999997v9h-3.799999999999997Z\" fill=\"#4c78a8\" fill-opacity=\"1\" stroke=\"#505050\" stroke-width=\"0\"/><path aria-label=\"x1: 44; x2: 45.9; level: 26; level2: 26.9; status: Default; sf: copyto! at broadcast.jl:960 [inlined]\" role=\"graphics-symbol\" aria-roledescription=\"rect mark\" d=\"M88,131h3.799999999999997v9h-3.799999999999997Z\" fill=\"#4c78a8\" fill-opacity=\"1\" stroke=\"#505050\" stroke-width=\"0\"/><path aria-label=\"x1: 44; x2: 45.9; level: 27; level2: 27.9; status: Default; sf: macro expansion at simdloop.jl:77 [inlined]\" role=\"graphics-symbol\" aria-roledescription=\"rect mark\" d=\"M88,121h3.799999999999997v8.999999999999972h-3.799999999999997Z\" fill=\"#4c78a8\" fill-opacity=\"1\" stroke=\"#505050\" stroke-width=\"0\"/><path aria-label=\"x1: 44; x2: 45.9; level: 28; level2: 28.9; status: Default; sf: macro expansion at broadcast.jl:961 [inlined]\" role=\"graphics-symbol\" aria-roledescription=\"rect mark\" d=\"M88,111.00000000000003h3.799999999999997v8.999999999999986h-3.799999999999997Z\" fill=\"#4c78a8\" fill-opacity=\"1\" stroke=\"#505050\" stroke-width=\"0\"/><path aria-label=\"x1: 44; x2: 44.9; level: 29; level2: 29.9; status: Default; sf: setindex! at array.jl:966 [inlined]\" role=\"graphics-symbol\" aria-roledescription=\"rect mark\" d=\"M88,101.00000000000003h1.7999999999999972v8.999999999999986h-1.7999999999999972Z\" fill=\"#4c78a8\" fill-opacity=\"1\" stroke=\"#505050\" stroke-width=\"0\"/><path aria-label=\"x1: 45; x2: 45.9; level: 29; level2: 29.9; status: Default; sf: getindex at broadcast.jl:597 [inlined]\" role=\"graphics-symbol\" aria-roledescription=\"rect mark\" d=\"M90,101.00000000000003h1.7999999999999972v8.999999999999986h-1.7999999999999972Z\" fill=\"#4c78a8\" fill-opacity=\"1\" stroke=\"#505050\" stroke-width=\"0\"/><path aria-label=\"x1: 45; x2: 45.9; level: 30; level2: 30.9; status: Default; sf: _broadcast_getindex at broadcast.jl:642 [inlined]\" role=\"graphics-symbol\" aria-roledescription=\"rect mark\" d=\"M90,91.00000000000001h1.7999999999999972v8.999999999999986h-1.7999999999999972Z\" fill=\"#4c78a8\" fill-opacity=\"1\" stroke=\"#505050\" stroke-width=\"0\"/><path aria-label=\"x1: 45; x2: 45.9; level: 31; level2: 31.9; status: Default; sf: _getindex at broadcast.jl:666 [inlined]\" role=\"graphics-symbol\" aria-roledescription=\"rect mark\" d=\"M90,81h1.7999999999999972v8.999999999999986h-1.7999999999999972Z\" fill=\"#4c78a8\" fill-opacity=\"1\" stroke=\"#505050\" stroke-width=\"0\"/><path aria-label=\"x1: 45; x2: 45.9; level: 32; level2: 32.9; status: Default; sf: _broadcast_getindex at broadcast.jl:636 [inlined]\" role=\"graphics-symbol\" aria-roledescription=\"rect mark\" d=\"M90,71h1.7999999999999972v8.999999999999986h-1.7999999999999972Z\" fill=\"#4c78a8\" fill-opacity=\"1\" stroke=\"#505050\" stroke-width=\"0\"/><path aria-label=\"x1: 45; x2: 45.9; level: 33; level2: 33.9; status: Default; sf: getindex at array.jl:924 [inlined]\" role=\"graphics-symbol\" aria-roledescription=\"rect mark\" d=\"M90,61.00000000000003h1.7999999999999972v8.999999999999986h-1.7999999999999972Z\" fill=\"#4c78a8\" fill-opacity=\"1\" stroke=\"#505050\" stroke-width=\"0\"/><path aria-label=\"x1: 46; x2: 46.9; level: 23; level2: 23.9; status: Default; sf: size at lattice.jl:22 [inlined]\" role=\"graphics-symbol\" aria-roledescription=\"rect mark\" d=\"M92,161.00000000000003h1.7999999999999972v9h-1.7999999999999972Z\" fill=\"#4c78a8\" fill-opacity=\"1\" stroke=\"#505050\" stroke-width=\"0\"/><path aria-label=\"x1: 46; x2: 46.9; level: 24; level2: 24.9; status: Default; sf: getproperty at Base.jl:38 [inlined]\" role=\"graphics-symbol\" aria-roledescription=\"rect mark\" d=\"M92,151.00000000000003h1.7999999999999972v8.999999999999972h-1.7999999999999972Z\" fill=\"#4c78a8\" fill-opacity=\"1\" stroke=\"#505050\" stroke-width=\"0\"/><path aria-label=\"x1: 47; x2: 47.9; level: 22; level2: 22.9; status: Default; sf: coords!(crd::Vector{Float64}, l::SquareLattice, site::LatticeIndex, bvs::LatticeModels.Bravais, buf::Vector{Float64}) at lattice.jl:67\" role=\"graphics-symbol\" aria-roledescription=\"rect mark\" d=\"M94,171h1.7999999999999972v8.999999999999972h-1.7999999999999972Z\" fill=\"#4c78a8\" fill-opacity=\"1\" stroke=\"#505050\" stroke-width=\"0\"/><path aria-label=\"x1: 47; x2: 47.9; level: 23; level2: 23.9; status: Default; sf: materialize! at broadcast.jl:868 [inlined]\" role=\"graphics-symbol\" aria-roledescription=\"rect mark\" d=\"M94,161.00000000000003h1.7999999999999972v9h-1.7999999999999972Z\" fill=\"#4c78a8\" fill-opacity=\"1\" stroke=\"#505050\" stroke-width=\"0\"/><path aria-label=\"x1: 47; x2: 47.9; level: 24; level2: 24.9; status: Default; sf: materialize! at broadcast.jl:871 [inlined]\" role=\"graphics-symbol\" aria-roledescription=\"rect mark\" d=\"M94,151.00000000000003h1.7999999999999972v8.999999999999972h-1.7999999999999972Z\" fill=\"#4c78a8\" fill-opacity=\"1\" stroke=\"#505050\" stroke-width=\"0\"/><path aria-label=\"x1: 47; x2: 47.9; level: 25; level2: 25.9; status: Default; sf: copyto! at broadcast.jl:913 [inlined]\" role=\"graphics-symbol\" aria-roledescription=\"rect mark\" d=\"M94,141h1.7999999999999972v9h-1.7999999999999972Z\" fill=\"#4c78a8\" fill-opacity=\"1\" stroke=\"#505050\" stroke-width=\"0\"/><path aria-label=\"x1: 47; x2: 47.9; level: 26; level2: 26.9; status: Default; sf: copyto! at broadcast.jl:960 [inlined]\" role=\"graphics-symbol\" aria-roledescription=\"rect mark\" d=\"M94,131h1.7999999999999972v9h-1.7999999999999972Z\" fill=\"#4c78a8\" fill-opacity=\"1\" stroke=\"#505050\" stroke-width=\"0\"/><path aria-label=\"x1: 47; x2: 47.9; level: 27; level2: 27.9; status: Default; sf: macro expansion at simdloop.jl:78 [inlined]\" role=\"graphics-symbol\" aria-roledescription=\"rect mark\" d=\"M94,121h1.7999999999999972v8.999999999999972h-1.7999999999999972Z\" fill=\"#4c78a8\" fill-opacity=\"1\" stroke=\"#505050\" stroke-width=\"0\"/><path aria-label=\"x1: 47; x2: 47.9; level: 28; level2: 28.9; status: Default; sf: + at int.jl:87 [inlined]\" role=\"graphics-symbol\" aria-roledescription=\"rect mark\" d=\"M94,111.00000000000003h1.7999999999999972v8.999999999999986h-1.7999999999999972Z\" fill=\"#4c78a8\" fill-opacity=\"1\" stroke=\"#505050\" stroke-width=\"0\"/><path aria-label=\"x1: 48; x2: 60.9; level: 22; level2: 22.9; status: Default; sf: coords!(crd::Vector{Float64}, l::SquareLattice, site::LatticeIndex, bvs::LatticeModels.Bravais, buf::Vector{Float64}) at lattice.jl:68\" role=\"graphics-symbol\" aria-roledescription=\"rect mark\" d=\"M96,171h25.799999999999997v8.999999999999972h-25.799999999999997Z\" fill=\"#4c78a8\" fill-opacity=\"1\" stroke=\"#505050\" stroke-width=\"0\"/><path aria-label=\"x1: 48; x2: 60.9; level: 23; level2: 23.9; status: Default; sf: mul! at matmul.jl:276 [inlined]\" role=\"graphics-symbol\" aria-roledescription=\"rect mark\" d=\"M96,161.00000000000003h25.799999999999997v9h-25.799999999999997Z\" fill=\"#4c78a8\" fill-opacity=\"1\" stroke=\"#505050\" stroke-width=\"0\"/><path aria-label=\"x1: 48; x2: 60.9; level: 24; level2: 24.9; status: Default; sf: mul! at matmul.jl:65 [inlined]\" role=\"graphics-symbol\" aria-roledescription=\"rect mark\" d=\"M96,151.00000000000003h25.799999999999997v8.999999999999972h-25.799999999999997Z\" fill=\"#4c78a8\" fill-opacity=\"1\" stroke=\"#505050\" stroke-width=\"0\"/><path aria-label=\"x1: 48; x2: 48.9; level: 25; level2: 25.9; status: Default; sf: gemv!(y::Vector{Float64}, tA::Char, A::Matrix{Float64}, x::Vector{Float64}, α::Bool, β::Bool) at array.jl:0\" role=\"graphics-symbol\" aria-roledescription=\"rect mark\" d=\"M96,141h1.7999999999999972v9h-1.7999999999999972Z\" fill=\"#4c78a8\" fill-opacity=\"1\" stroke=\"#505050\" stroke-width=\"0\"/><path aria-label=\"x1: 49; x2: 49.9; level: 25; level2: 25.9; status: Default; sf: gemv!(y::Vector{Float64}, tA::Char, A::Matrix{Float64}, x::Vector{Float64}, α::Bool, β::Bool) at matmul.jl:490\" role=\"graphics-symbol\" aria-roledescription=\"rect mark\" d=\"M98,141h1.7999999999999972v9h-1.7999999999999972Z\" fill=\"#4c78a8\" fill-opacity=\"1\" stroke=\"#505050\" stroke-width=\"0\"/><path aria-label=\"x1: 50; x2: 60.9; level: 25; level2: 25.9; status: Default; sf: gemv!(y::Vector{Float64}, tA::Char, A::Matrix{Float64}, x::Vector{Float64}, α::Bool, β::Bool) at matmul.jl:503\" role=\"graphics-symbol\" aria-roledescription=\"rect mark\" d=\"M100,141h21.799999999999997v9h-21.799999999999997Z\" fill=\"#4c78a8\" fill-opacity=\"1\" stroke=\"#505050\" stroke-width=\"0\"/><path aria-label=\"x1: 50; x2: 50.9; level: 26; level2: 26.9; status: Default; sf: gemv!(trans::Char, alpha::Float64, A::Matrix{Float64}, X::Vector{Float64}, beta::Float64, Y::Vector{Float64}) at blas.jl:642\" role=\"graphics-symbol\" aria-roledescription=\"rect mark\" d=\"M100,131h1.7999999999999972v9h-1.7999999999999972Z\" fill=\"#4c78a8\" fill-opacity=\"1\" stroke=\"#505050\" stroke-width=\"0\"/><path aria-label=\"x1: 51; x2: 51.9; level: 26; level2: 26.9; status: Default; sf: gemv!(trans::Char, alpha::Float64, A::Matrix{Float64}, X::Vector{Float64}, beta::Float64, Y::Vector{Float64}) at blas.jl:646\" role=\"graphics-symbol\" aria-roledescription=\"rect mark\" d=\"M102,131h1.7999999999999972v9h-1.7999999999999972Z\" fill=\"#4c78a8\" fill-opacity=\"1\" stroke=\"#505050\" stroke-width=\"0\"/><path aria-label=\"x1: 51; x2: 51.9; level: 27; level2: 27.9; status: Default; sf: size at array.jl:150 [inlined]\" role=\"graphics-symbol\" aria-roledescription=\"rect mark\" d=\"M102,121h1.7999999999999972v8.999999999999972h-1.7999999999999972Z\" fill=\"#4c78a8\" fill-opacity=\"1\" stroke=\"#505050\" stroke-width=\"0\"/><path aria-label=\"x1: 52; x2: 60.9; level: 26; level2: 26.9; status: Default; sf: gemv!(trans::Char, alpha::Float64, A::Matrix{Float64}, X::Vector{Float64}, beta::Float64, Y::Vector{Float64}) at blas.jl:666\" role=\"graphics-symbol\" aria-roledescription=\"rect mark\" d=\"M104,131h17.799999999999997v9h-17.799999999999997Z\" fill=\"#4c78a8\" fill-opacity=\"1\" stroke=\"#505050\" stroke-width=\"0\"/><path aria-label=\"x1: 61; x2: 78.9; level: 22; level2: 22.9; status: Default; sf: coords!(crd::Vector{Float64}, l::SquareLattice, site::LatticeIndex, bvs::LatticeModels.Bravais, buf::Vector{Float64}) at lattice.jl:69\" role=\"graphics-symbol\" aria-roledescription=\"rect mark\" d=\"M122,171h35.80000000000001v8.999999999999972h-35.80000000000001Z\" fill=\"#4c78a8\" fill-opacity=\"1\" stroke=\"#505050\" stroke-width=\"0\"/><path aria-label=\"x1: 61; x2: 76.9; level: 23; level2: 23.9; status: Default; sf: getindex at abstractarray.jl:1241 [inlined]\" role=\"graphics-symbol\" aria-roledescription=\"rect mark\" d=\"M122,161.00000000000003h31.80000000000001v9h-31.80000000000001Z\" fill=\"#4c78a8\" fill-opacity=\"1\" stroke=\"#505050\" stroke-width=\"0\"/><path aria-label=\"x1: 61; x2: 61.9; level: 24; level2: 24.9; status: Default; sf: _getindex at multidimensional.jl:874 [inlined]\" role=\"graphics-symbol\" aria-roledescription=\"rect mark\" d=\"M122,151.00000000000003h1.7999999999999972v8.999999999999972h-1.7999999999999972Z\" fill=\"#4c78a8\" fill-opacity=\"1\" stroke=\"#505050\" stroke-width=\"0\"/><path aria-label=\"x1: 61; x2: 61.9; level: 25; level2: 25.9; status: Default; sf: checkbounds at abstractarray.jl:666 [inlined]\" role=\"graphics-symbol\" aria-roledescription=\"rect mark\" d=\"M122,141h1.7999999999999972v9h-1.7999999999999972Z\" fill=\"#4c78a8\" fill-opacity=\"1\" stroke=\"#505050\" stroke-width=\"0\"/><path aria-label=\"x1: 62; x2: 76.9; level: 24; level2: 24.9; status: Default; sf: _getindex at multidimensional.jl:875 [inlined]\" role=\"graphics-symbol\" aria-roledescription=\"rect mark\" d=\"M124,151.00000000000003h29.80000000000001v8.999999999999972h-29.80000000000001Z\" fill=\"#4c78a8\" fill-opacity=\"1\" stroke=\"#505050\" stroke-width=\"0\"/><path aria-label=\"x1: 62; x2: 62.9; level: 25; level2: 25.9; status: Default; sf: _unsafe_getindex at multidimensional.jl:886 [inlined]\" role=\"graphics-symbol\" aria-roledescription=\"rect mark\" d=\"M124,141h1.7999999999999972v9h-1.7999999999999972Z\" fill=\"#4c78a8\" fill-opacity=\"1\" stroke=\"#505050\" stroke-width=\"0\"/><path aria-label=\"x1: 62; x2: 62.9; level: 26; level2: 26.9; status: Default; sf: index_shape at multidimensional.jl:748 [inlined]\" role=\"graphics-symbol\" aria-roledescription=\"rect mark\" d=\"M124,131h1.7999999999999972v9h-1.7999999999999972Z\" fill=\"#4c78a8\" fill-opacity=\"1\" stroke=\"#505050\" stroke-width=\"0\"/><path aria-label=\"x1: 62; x2: 62.9; level: 27; level2: 27.9; status: Default; sf: axes at indices.jl:356 [inlined]\" role=\"graphics-symbol\" aria-roledescription=\"rect mark\" d=\"M124,121h1.7999999999999972v8.999999999999972h-1.7999999999999972Z\" fill=\"#4c78a8\" fill-opacity=\"1\" stroke=\"#505050\" stroke-width=\"0\"/><path aria-label=\"x1: 63; x2: 75.9; level: 25; level2: 25.9; status: Default; sf: _unsafe_getindex at multidimensional.jl:887 [inlined]\" role=\"graphics-symbol\" aria-roledescription=\"rect mark\" d=\"M126,141h25.80000000000001v9h-25.80000000000001Z\" fill=\"#4c78a8\" fill-opacity=\"1\" stroke=\"#505050\" stroke-width=\"0\"/><path aria-label=\"x1: 63; x2: 75.9; level: 26; level2: 26.9; status: Default; sf: similar at abstractarray.jl:795 [inlined]\" role=\"graphics-symbol\" aria-roledescription=\"rect mark\" d=\"M126,131h25.80000000000001v9h-25.80000000000001Z\" fill=\"#4c78a8\" fill-opacity=\"1\" stroke=\"#505050\" stroke-width=\"0\"/><path aria-label=\"x1: 63; x2: 75.9; level: 27; level2: 27.9; status: Default; sf: similar at array.jl:378 [inlined]\" role=\"graphics-symbol\" aria-roledescription=\"rect mark\" d=\"M126,121h25.80000000000001v8.999999999999972h-25.80000000000001Z\" fill=\"#4c78a8\" fill-opacity=\"1\" stroke=\"#505050\" stroke-width=\"0\"/><path aria-label=\"x1: 63; x2: 75.9; level: 28; level2: 28.9; status: Default; sf: Array at boot.jl:468 [inlined]\" role=\"graphics-symbol\" aria-roledescription=\"rect mark\" d=\"M126,111.00000000000003h25.80000000000001v8.999999999999986h-25.80000000000001Z\" fill=\"#4c78a8\" fill-opacity=\"1\" stroke=\"#505050\" stroke-width=\"0\"/><path aria-label=\"x1: 63; x2: 75.9; level: 29; level2: 29.9; status: Garbage collection; sf: Array at boot.jl:459 [inlined]\" role=\"graphics-symbol\" aria-roledescription=\"rect mark\" d=\"M126,101.00000000000003h25.80000000000001v8.999999999999986h-25.80000000000001Z\" fill=\"#f58518\" fill-opacity=\"1\" stroke=\"#505050\" stroke-width=\"0\"/><path aria-label=\"x1: 76; x2: 76.9; level: 25; level2: 25.9; status: Default; sf: _unsafe_getindex at multidimensional.jl:889 [inlined]\" role=\"graphics-symbol\" aria-roledescription=\"rect mark\" d=\"M152,141h1.8000000000000114v9h-1.8000000000000114Z\" fill=\"#4c78a8\" fill-opacity=\"1\" stroke=\"#505050\" stroke-width=\"0\"/><path aria-label=\"x1: 76; x2: 76.9; level: 26; level2: 26.9; status: Default; sf: _unsafe_getindex! at multidimensional.jl:898 [inlined]\" role=\"graphics-symbol\" aria-roledescription=\"rect mark\" d=\"M152,131h1.8000000000000114v9h-1.8000000000000114Z\" fill=\"#4c78a8\" fill-opacity=\"1\" stroke=\"#505050\" stroke-width=\"0\"/><path aria-label=\"x1: 76; x2: 76.9; level: 27; level2: 27.9; status: Default; sf: macro expansion at cartesian.jl:64 [inlined]\" role=\"graphics-symbol\" aria-roledescription=\"rect mark\" d=\"M152,121h1.8000000000000114v8.999999999999972h-1.8000000000000114Z\" fill=\"#4c78a8\" fill-opacity=\"1\" stroke=\"#505050\" stroke-width=\"0\"/><path aria-label=\"x1: 76; x2: 76.9; level: 28; level2: 28.9; status: Default; sf: macro expansion at multidimensional.jl:903 [inlined]\" role=\"graphics-symbol\" aria-roledescription=\"rect mark\" d=\"M152,111.00000000000003h1.8000000000000114v8.999999999999986h-1.8000000000000114Z\" fill=\"#4c78a8\" fill-opacity=\"1\" stroke=\"#505050\" stroke-width=\"0\"/><path aria-label=\"x1: 76; x2: 76.9; level: 29; level2: 29.9; status: Default; sf: setindex! at array.jl:966 [inlined]\" role=\"graphics-symbol\" aria-roledescription=\"rect mark\" d=\"M152,101.00000000000003h1.8000000000000114v8.999999999999986h-1.8000000000000114Z\" fill=\"#4c78a8\" fill-opacity=\"1\" stroke=\"#505050\" stroke-width=\"0\"/><path aria-label=\"x1: 77; x2: 78.9; level: 23; level2: 23.9; status: Default; sf: materialize! at broadcast.jl:868 [inlined]\" role=\"graphics-symbol\" aria-roledescription=\"rect mark\" d=\"M154,161.00000000000003h3.8000000000000114v9h-3.8000000000000114Z\" fill=\"#4c78a8\" fill-opacity=\"1\" stroke=\"#505050\" stroke-width=\"0\"/><path aria-label=\"x1: 77; x2: 78.9; level: 24; level2: 24.9; status: Default; sf: materialize! at broadcast.jl:871 [inlined]\" role=\"graphics-symbol\" aria-roledescription=\"rect mark\" d=\"M154,151.00000000000003h3.8000000000000114v8.999999999999972h-3.8000000000000114Z\" fill=\"#4c78a8\" fill-opacity=\"1\" stroke=\"#505050\" stroke-width=\"0\"/><path aria-label=\"x1: 77; x2: 77.9; level: 25; level2: 25.9; status: Default; sf: copyto! at broadcast.jl:913 [inlined]\" role=\"graphics-symbol\" aria-roledescription=\"rect mark\" d=\"M154,141h1.8000000000000114v9h-1.8000000000000114Z\" fill=\"#4c78a8\" fill-opacity=\"1\" stroke=\"#505050\" stroke-width=\"0\"/><path aria-label=\"x1: 77; x2: 77.9; level: 26; level2: 26.9; status: Default; sf: copyto! at broadcast.jl:957 [inlined]\" role=\"graphics-symbol\" aria-roledescription=\"rect mark\" d=\"M154,131h1.8000000000000114v9h-1.8000000000000114Z\" fill=\"#4c78a8\" fill-opacity=\"1\" stroke=\"#505050\" stroke-width=\"0\"/><path aria-label=\"x1: 77; x2: 77.9; level: 27; level2: 27.9; status: Default; sf: preprocess at broadcast.jl:940 [inlined]\" role=\"graphics-symbol\" aria-roledescription=\"rect mark\" d=\"M154,121h1.8000000000000114v8.999999999999972h-1.8000000000000114Z\" fill=\"#4c78a8\" fill-opacity=\"1\" stroke=\"#505050\" stroke-width=\"0\"/><path aria-label=\"x1: 77; x2: 77.9; level: 28; level2: 28.9; status: Default; sf: preprocess_args at broadcast.jl:943 [inlined]\" role=\"graphics-symbol\" aria-roledescription=\"rect mark\" d=\"M154,111.00000000000003h1.8000000000000114v8.999999999999986h-1.8000000000000114Z\" fill=\"#4c78a8\" fill-opacity=\"1\" stroke=\"#505050\" stroke-width=\"0\"/><path aria-label=\"x1: 77; x2: 77.9; level: 29; level2: 29.9; status: Default; sf: preprocess at broadcast.jl:941 [inlined]\" role=\"graphics-symbol\" aria-roledescription=\"rect mark\" d=\"M154,101.00000000000003h1.8000000000000114v8.999999999999986h-1.8000000000000114Z\" fill=\"#4c78a8\" fill-opacity=\"1\" stroke=\"#505050\" stroke-width=\"0\"/><path aria-label=\"x1: 77; x2: 77.9; level: 30; level2: 30.9; status: Default; sf: extrude at broadcast.jl:637 [inlined]\" role=\"graphics-symbol\" aria-roledescription=\"rect mark\" d=\"M154,91.00000000000001h1.8000000000000114v8.999999999999986h-1.8000000000000114Z\" fill=\"#4c78a8\" fill-opacity=\"1\" stroke=\"#505050\" stroke-width=\"0\"/><path aria-label=\"x1: 77; x2: 77.9; level: 31; level2: 31.9; status: Default; sf: newindexer at broadcast.jl:586 [inlined]\" role=\"graphics-symbol\" aria-roledescription=\"rect mark\" d=\"M154,81h1.8000000000000114v8.999999999999986h-1.8000000000000114Z\" fill=\"#4c78a8\" fill-opacity=\"1\" stroke=\"#505050\" stroke-width=\"0\"/><path aria-label=\"x1: 77; x2: 77.9; level: 32; level2: 32.9; status: Default; sf: shapeindexer at broadcast.jl:587 [inlined]\" role=\"graphics-symbol\" aria-roledescription=\"rect mark\" d=\"M154,71h1.8000000000000114v8.999999999999986h-1.8000000000000114Z\" fill=\"#4c78a8\" fill-opacity=\"1\" stroke=\"#505050\" stroke-width=\"0\"/><path aria-label=\"x1: 77; x2: 77.9; level: 33; level2: 33.9; status: Default; sf: _newindexer at broadcast.jl:592 [inlined]\" role=\"graphics-symbol\" aria-roledescription=\"rect mark\" d=\"M154,61.00000000000003h1.8000000000000114v8.999999999999986h-1.8000000000000114Z\" fill=\"#4c78a8\" fill-opacity=\"1\" stroke=\"#505050\" stroke-width=\"0\"/><path aria-label=\"x1: 77; x2: 77.9; level: 34; level2: 34.9; status: Default; sf: != at operators.jl:282 [inlined]\" role=\"graphics-symbol\" aria-roledescription=\"rect mark\" d=\"M154,51.00000000000002h1.8000000000000114v8.999999999999986h-1.8000000000000114Z\" fill=\"#4c78a8\" fill-opacity=\"1\" stroke=\"#505050\" stroke-width=\"0\"/><path aria-label=\"x1: 77; x2: 77.9; level: 35; level2: 35.9; status: Default; sf: == at promotion.jl:477 [inlined]\" role=\"graphics-symbol\" aria-roledescription=\"rect mark\" d=\"M154,41.000000000000014h1.8000000000000114v8.999999999999986h-1.8000000000000114Z\" fill=\"#4c78a8\" fill-opacity=\"1\" stroke=\"#505050\" stroke-width=\"0\"/><path aria-label=\"x1: 78; x2: 78.9; level: 25; level2: 25.9; status: Default; sf: instantiate at broadcast.jl:284 [inlined]\" role=\"graphics-symbol\" aria-roledescription=\"rect mark\" d=\"M156,141h1.8000000000000114v9h-1.8000000000000114Z\" fill=\"#4c78a8\" fill-opacity=\"1\" stroke=\"#505050\" stroke-width=\"0\"/><path aria-label=\"x1: 78; x2: 78.9; level: 26; level2: 26.9; status: Default; sf: check_broadcast_axes at broadcast.jl:547 [inlined]\" role=\"graphics-symbol\" aria-roledescription=\"rect mark\" d=\"M156,131h1.8000000000000114v9h-1.8000000000000114Z\" fill=\"#4c78a8\" fill-opacity=\"1\" stroke=\"#505050\" stroke-width=\"0\"/><path aria-label=\"x1: 78; x2: 78.9; level: 27; level2: 27.9; status: Default; sf: check_broadcast_axes at broadcast.jl:543 [inlined]\" role=\"graphics-symbol\" aria-roledescription=\"rect mark\" d=\"M156,121h1.8000000000000114v8.999999999999972h-1.8000000000000114Z\" fill=\"#4c78a8\" fill-opacity=\"1\" stroke=\"#505050\" stroke-width=\"0\"/><path aria-label=\"x1: 78; x2: 78.9; level: 28; level2: 28.9; status: Default; sf: check_broadcast_shape at broadcast.jl:540 [inlined]\" role=\"graphics-symbol\" aria-roledescription=\"rect mark\" d=\"M156,111.00000000000003h1.8000000000000114v8.999999999999986h-1.8000000000000114Z\" fill=\"#4c78a8\" fill-opacity=\"1\" stroke=\"#505050\" stroke-width=\"0\"/><path aria-label=\"x1: 78; x2: 78.9; level: 29; level2: 29.9; status: Default; sf: _bcsm at broadcast.jl:518 [inlined]\" role=\"graphics-symbol\" aria-roledescription=\"rect mark\" d=\"M156,101.00000000000003h1.8000000000000114v8.999999999999986h-1.8000000000000114Z\" fill=\"#4c78a8\" fill-opacity=\"1\" stroke=\"#505050\" stroke-width=\"0\"/><path aria-label=\"x1: 78; x2: 78.9; level: 30; level2: 30.9; status: Default; sf: == at range.jl:1111 [inlined]\" role=\"graphics-symbol\" aria-roledescription=\"rect mark\" d=\"M156,91.00000000000001h1.8000000000000114v8.999999999999986h-1.8000000000000114Z\" fill=\"#4c78a8\" fill-opacity=\"1\" stroke=\"#505050\" stroke-width=\"0\"/><path aria-label=\"x1: 78; x2: 78.9; level: 31; level2: 31.9; status: Default; sf: == at promotion.jl:477 [inlined]\" role=\"graphics-symbol\" aria-roledescription=\"rect mark\" d=\"M156,81h1.8000000000000114v8.999999999999986h-1.8000000000000114Z\" fill=\"#4c78a8\" fill-opacity=\"1\" stroke=\"#505050\" stroke-width=\"0\"/><path aria-label=\"x1: 80; x2: 133.9; level: 21; level2: 21.9; status: Runtime dispatch; sf: apply_field!(lo::LatticeVecOrMat{Matrix{ComplexF64}}, field::Landau) at field.jl:39\" role=\"graphics-symbol\" aria-roledescription=\"rect mark\" d=\"M160,181h107.80000000000001v9h-107.80000000000001Z\" fill=\"#e45756\" fill-opacity=\"1\" stroke=\"#505050\" stroke-width=\"0\"/><path aria-label=\"x1: 85; x2: 86.9; level: 22; level2: 22.9; status: Default; sf: coords!(crd::Vector{Float64}, l::SquareLattice, site::LatticeIndex, bvs::LatticeModels.Bravais, buf::Vector{Float64}) at lattice.jl:64\" role=\"graphics-symbol\" aria-roledescription=\"rect mark\" d=\"M170,171h3.8000000000000114v8.999999999999972h-3.8000000000000114Z\" fill=\"#4c78a8\" fill-opacity=\"1\" stroke=\"#505050\" stroke-width=\"0\"/><path aria-label=\"x1: 87; x2: 87.9; level: 22; level2: 22.9; status: Default; sf: coords!(crd::Vector{Float64}, l::SquareLattice, site::LatticeIndex, bvs::LatticeModels.Bravais, buf::Vector{Float64}) at lattice.jl:65\" role=\"graphics-symbol\" aria-roledescription=\"rect mark\" d=\"M174,171h1.8000000000000114v8.999999999999972h-1.8000000000000114Z\" fill=\"#4c78a8\" fill-opacity=\"1\" stroke=\"#505050\" stroke-width=\"0\"/><path aria-label=\"x1: 87; x2: 87.9; level: 23; level2: 23.9; status: Default; sf: materialize! at broadcast.jl:868 [inlined]\" role=\"graphics-symbol\" aria-roledescription=\"rect mark\" d=\"M174,161.00000000000003h1.8000000000000114v9h-1.8000000000000114Z\" fill=\"#4c78a8\" fill-opacity=\"1\" stroke=\"#505050\" stroke-width=\"0\"/><path aria-label=\"x1: 87; x2: 87.9; level: 24; level2: 24.9; status: Default; sf: materialize! at broadcast.jl:871 [inlined]\" role=\"graphics-symbol\" aria-roledescription=\"rect mark\" d=\"M174,151.00000000000003h1.8000000000000114v8.999999999999972h-1.8000000000000114Z\" fill=\"#4c78a8\" fill-opacity=\"1\" stroke=\"#505050\" stroke-width=\"0\"/><path aria-label=\"x1: 87; x2: 87.9; level: 25; level2: 25.9; status: Default; sf: copyto! at broadcast.jl:913 [inlined]\" role=\"graphics-symbol\" aria-roledescription=\"rect mark\" d=\"M174,141h1.8000000000000114v9h-1.8000000000000114Z\" fill=\"#4c78a8\" fill-opacity=\"1\" stroke=\"#505050\" stroke-width=\"0\"/><path aria-label=\"x1: 87; x2: 87.9; level: 26; level2: 26.9; status: Default; sf: copyto! at broadcast.jl:954 [inlined]\" role=\"graphics-symbol\" aria-roledescription=\"rect mark\" d=\"M174,131h1.8000000000000114v9h-1.8000000000000114Z\" fill=\"#4c78a8\" fill-opacity=\"1\" stroke=\"#505050\" stroke-width=\"0\"/><path aria-label=\"x1: 87; x2: 87.9; level: 27; level2: 27.9; status: Default; sf: copyto! at array.jl:343 [inlined]\" role=\"graphics-symbol\" aria-roledescription=\"rect mark\" d=\"M174,121h1.8000000000000114v8.999999999999972h-1.8000000000000114Z\" fill=\"#4c78a8\" fill-opacity=\"1\" stroke=\"#505050\" stroke-width=\"0\"/><path aria-label=\"x1: 87; x2: 87.9; level: 28; level2: 28.9; status: Default; sf: copyto! at array.jl:317 [inlined]\" role=\"graphics-symbol\" aria-roledescription=\"rect mark\" d=\"M174,111.00000000000003h1.8000000000000114v8.999999999999986h-1.8000000000000114Z\" fill=\"#4c78a8\" fill-opacity=\"1\" stroke=\"#505050\" stroke-width=\"0\"/><path aria-label=\"x1: 87; x2: 87.9; level: 29; level2: 29.9; status: Default; sf: _copyto_impl! at array.jl:332 [inlined]\" role=\"graphics-symbol\" aria-roledescription=\"rect mark\" d=\"M174,101.00000000000003h1.8000000000000114v8.999999999999986h-1.8000000000000114Z\" fill=\"#4c78a8\" fill-opacity=\"1\" stroke=\"#505050\" stroke-width=\"0\"/><path aria-label=\"x1: 88; x2: 88.9; level: 22; level2: 22.9; status: Default; sf: coords!(crd::Vector{Float64}, l::SquareLattice, site::LatticeIndex, bvs::LatticeModels.Bravais, buf::Vector{Float64}) at lattice.jl:66\" role=\"graphics-symbol\" aria-roledescription=\"rect mark\" d=\"M176,171h1.8000000000000114v8.999999999999972h-1.8000000000000114Z\" fill=\"#4c78a8\" fill-opacity=\"1\" stroke=\"#505050\" stroke-width=\"0\"/><path aria-label=\"x1: 88; x2: 88.9; level: 23; level2: 23.9; status: Default; sf: materialize! at broadcast.jl:868 [inlined]\" role=\"graphics-symbol\" aria-roledescription=\"rect mark\" d=\"M176,161.00000000000003h1.8000000000000114v9h-1.8000000000000114Z\" fill=\"#4c78a8\" fill-opacity=\"1\" stroke=\"#505050\" stroke-width=\"0\"/><path aria-label=\"x1: 88; x2: 88.9; level: 24; level2: 24.9; status: Default; sf: materialize! at broadcast.jl:871 [inlined]\" role=\"graphics-symbol\" aria-roledescription=\"rect mark\" d=\"M176,151.00000000000003h1.8000000000000114v8.999999999999972h-1.8000000000000114Z\" fill=\"#4c78a8\" fill-opacity=\"1\" stroke=\"#505050\" stroke-width=\"0\"/><path aria-label=\"x1: 88; x2: 88.9; level: 25; level2: 25.9; status: Default; sf: copyto! at broadcast.jl:913 [inlined]\" role=\"graphics-symbol\" aria-roledescription=\"rect mark\" d=\"M176,141h1.8000000000000114v9h-1.8000000000000114Z\" fill=\"#4c78a8\" fill-opacity=\"1\" stroke=\"#505050\" stroke-width=\"0\"/><path aria-label=\"x1: 88; x2: 88.9; level: 26; level2: 26.9; status: Default; sf: copyto! at broadcast.jl:960 [inlined]\" role=\"graphics-symbol\" aria-roledescription=\"rect mark\" d=\"M176,131h1.8000000000000114v9h-1.8000000000000114Z\" fill=\"#4c78a8\" fill-opacity=\"1\" stroke=\"#505050\" stroke-width=\"0\"/><path aria-label=\"x1: 88; x2: 88.9; level: 27; level2: 27.9; status: Default; sf: macro expansion at simdloop.jl:77 [inlined]\" role=\"graphics-symbol\" aria-roledescription=\"rect mark\" d=\"M176,121h1.8000000000000114v8.999999999999972h-1.8000000000000114Z\" fill=\"#4c78a8\" fill-opacity=\"1\" stroke=\"#505050\" stroke-width=\"0\"/><path aria-label=\"x1: 88; x2: 88.9; level: 28; level2: 28.9; status: Default; sf: macro expansion at broadcast.jl:961 [inlined]\" role=\"graphics-symbol\" aria-roledescription=\"rect mark\" d=\"M176,111.00000000000003h1.8000000000000114v8.999999999999986h-1.8000000000000114Z\" fill=\"#4c78a8\" fill-opacity=\"1\" stroke=\"#505050\" stroke-width=\"0\"/><path aria-label=\"x1: 88; x2: 88.9; level: 29; level2: 29.9; status: Default; sf: getindex at broadcast.jl:597 [inlined]\" role=\"graphics-symbol\" aria-roledescription=\"rect mark\" d=\"M176,101.00000000000003h1.8000000000000114v8.999999999999986h-1.8000000000000114Z\" fill=\"#4c78a8\" fill-opacity=\"1\" stroke=\"#505050\" stroke-width=\"0\"/><path aria-label=\"x1: 88; x2: 88.9; level: 30; level2: 30.9; status: Default; sf: _broadcast_getindex at broadcast.jl:643 [inlined]\" role=\"graphics-symbol\" aria-roledescription=\"rect mark\" d=\"M176,91.00000000000001h1.8000000000000114v8.999999999999986h-1.8000000000000114Z\" fill=\"#4c78a8\" fill-opacity=\"1\" stroke=\"#505050\" stroke-width=\"0\"/><path aria-label=\"x1: 88; x2: 88.9; level: 31; level2: 31.9; status: Default; sf: _broadcast_getindex_evalf at broadcast.jl:670 [inlined]\" role=\"graphics-symbol\" aria-roledescription=\"rect mark\" d=\"M176,81h1.8000000000000114v8.999999999999986h-1.8000000000000114Z\" fill=\"#4c78a8\" fill-opacity=\"1\" stroke=\"#505050\" stroke-width=\"0\"/><path aria-label=\"x1: 88; x2: 88.9; level: 32; level2: 32.9; status: Default; sf: - at promotion.jl:390 [inlined]\" role=\"graphics-symbol\" aria-roledescription=\"rect mark\" d=\"M176,71h1.8000000000000114v8.999999999999986h-1.8000000000000114Z\" fill=\"#4c78a8\" fill-opacity=\"1\" stroke=\"#505050\" stroke-width=\"0\"/><path aria-label=\"x1: 88; x2: 88.9; level: 33; level2: 33.9; status: Default; sf: promote at promotion.jl:359 [inlined]\" role=\"graphics-symbol\" aria-roledescription=\"rect mark\" d=\"M176,61.00000000000003h1.8000000000000114v8.999999999999986h-1.8000000000000114Z\" fill=\"#4c78a8\" fill-opacity=\"1\" stroke=\"#505050\" stroke-width=\"0\"/><path aria-label=\"x1: 88; x2: 88.9; level: 34; level2: 34.9; status: Default; sf: _promote at promotion.jl:336 [inlined]\" role=\"graphics-symbol\" aria-roledescription=\"rect mark\" d=\"M176,51.00000000000002h1.8000000000000114v8.999999999999986h-1.8000000000000114Z\" fill=\"#4c78a8\" fill-opacity=\"1\" stroke=\"#505050\" stroke-width=\"0\"/><path aria-label=\"x1: 88; x2: 88.9; level: 35; level2: 35.9; status: Default; sf: convert at number.jl:7 [inlined]\" role=\"graphics-symbol\" aria-roledescription=\"rect mark\" d=\"M176,41.000000000000014h1.8000000000000114v8.999999999999986h-1.8000000000000114Z\" fill=\"#4c78a8\" fill-opacity=\"1\" stroke=\"#505050\" stroke-width=\"0\"/><path aria-label=\"x1: 88; x2: 88.9; level: 36; level2: 36.9; status: Default; sf: Float64 at float.jl:146 [inlined]\" role=\"graphics-symbol\" aria-roledescription=\"rect mark\" d=\"M176,31.000000000000007h1.8000000000000114v8.999999999999986h-1.8000000000000114Z\" fill=\"#4c78a8\" fill-opacity=\"1\" stroke=\"#505050\" stroke-width=\"0\"/><path aria-label=\"x1: 89; x2: 89.9; level: 22; level2: 22.9; status: Default; sf: coords!(crd::Vector{Float64}, l::SquareLattice, site::LatticeIndex, bvs::LatticeModels.Bravais, buf::Vector{Float64}) at lattice.jl:67\" role=\"graphics-symbol\" aria-roledescription=\"rect mark\" d=\"M178,171h1.8000000000000114v8.999999999999972h-1.8000000000000114Z\" fill=\"#4c78a8\" fill-opacity=\"1\" stroke=\"#505050\" stroke-width=\"0\"/><path aria-label=\"x1: 89; x2: 89.9; level: 23; level2: 23.9; status: Default; sf: materialize! at broadcast.jl:868 [inlined]\" role=\"graphics-symbol\" aria-roledescription=\"rect mark\" d=\"M178,161.00000000000003h1.8000000000000114v9h-1.8000000000000114Z\" fill=\"#4c78a8\" fill-opacity=\"1\" stroke=\"#505050\" stroke-width=\"0\"/><path aria-label=\"x1: 89; x2: 89.9; level: 24; level2: 24.9; status: Default; sf: materialize! at broadcast.jl:871 [inlined]\" role=\"graphics-symbol\" aria-roledescription=\"rect mark\" d=\"M178,151.00000000000003h1.8000000000000114v8.999999999999972h-1.8000000000000114Z\" fill=\"#4c78a8\" fill-opacity=\"1\" stroke=\"#505050\" stroke-width=\"0\"/><path aria-label=\"x1: 89; x2: 89.9; level: 25; level2: 25.9; status: Default; sf: copyto! at broadcast.jl:913 [inlined]\" role=\"graphics-symbol\" aria-roledescription=\"rect mark\" d=\"M178,141h1.8000000000000114v9h-1.8000000000000114Z\" fill=\"#4c78a8\" fill-opacity=\"1\" stroke=\"#505050\" stroke-width=\"0\"/><path aria-label=\"x1: 89; x2: 89.9; level: 26; level2: 26.9; status: Default; sf: copyto! at broadcast.jl:960 [inlined]\" role=\"graphics-symbol\" aria-roledescription=\"rect mark\" d=\"M178,131h1.8000000000000114v9h-1.8000000000000114Z\" fill=\"#4c78a8\" fill-opacity=\"1\" stroke=\"#505050\" stroke-width=\"0\"/><path aria-label=\"x1: 89; x2: 89.9; level: 27; level2: 27.9; status: Default; sf: macro expansion at simdloop.jl:77 [inlined]\" role=\"graphics-symbol\" aria-roledescription=\"rect mark\" d=\"M178,121h1.8000000000000114v8.999999999999972h-1.8000000000000114Z\" fill=\"#4c78a8\" fill-opacity=\"1\" stroke=\"#505050\" stroke-width=\"0\"/><path aria-label=\"x1: 89; x2: 89.9; level: 28; level2: 28.9; status: Default; sf: macro expansion at broadcast.jl:961 [inlined]\" role=\"graphics-symbol\" aria-roledescription=\"rect mark\" d=\"M178,111.00000000000003h1.8000000000000114v8.999999999999986h-1.8000000000000114Z\" fill=\"#4c78a8\" fill-opacity=\"1\" stroke=\"#505050\" stroke-width=\"0\"/><path aria-label=\"x1: 89; x2: 89.9; level: 29; level2: 29.9; status: Default; sf: setindex! at array.jl:966 [inlined]\" role=\"graphics-symbol\" aria-roledescription=\"rect mark\" d=\"M178,101.00000000000003h1.8000000000000114v8.999999999999986h-1.8000000000000114Z\" fill=\"#4c78a8\" fill-opacity=\"1\" stroke=\"#505050\" stroke-width=\"0\"/><path aria-label=\"x1: 90; x2: 111.9; level: 22; level2: 22.9; status: Default; sf: coords!(crd::Vector{Float64}, l::SquareLattice, site::LatticeIndex, bvs::LatticeModels.Bravais, buf::Vector{Float64}) at lattice.jl:68\" role=\"graphics-symbol\" aria-roledescription=\"rect mark\" d=\"M180,171h43.80000000000001v8.999999999999972h-43.80000000000001Z\" fill=\"#4c78a8\" fill-opacity=\"1\" stroke=\"#505050\" stroke-width=\"0\"/><path aria-label=\"x1: 90; x2: 111.9; level: 23; level2: 23.9; status: Default; sf: mul! at matmul.jl:276 [inlined]\" role=\"graphics-symbol\" aria-roledescription=\"rect mark\" d=\"M180,161.00000000000003h43.80000000000001v9h-43.80000000000001Z\" fill=\"#4c78a8\" fill-opacity=\"1\" stroke=\"#505050\" stroke-width=\"0\"/><path aria-label=\"x1: 90; x2: 111.9; level: 24; level2: 24.9; status: Default; sf: mul! at matmul.jl:65 [inlined]\" role=\"graphics-symbol\" aria-roledescription=\"rect mark\" d=\"M180,151.00000000000003h43.80000000000001v8.999999999999972h-43.80000000000001Z\" fill=\"#4c78a8\" fill-opacity=\"1\" stroke=\"#505050\" stroke-width=\"0\"/><path aria-label=\"x1: 90; x2: 90.9; level: 25; level2: 25.9; status: Default; sf: gemv!(y::Vector{Float64}, tA::Char, A::Matrix{Float64}, x::Vector{Float64}, α::Bool, β::Bool) at array.jl:0\" role=\"graphics-symbol\" aria-roledescription=\"rect mark\" d=\"M180,141h1.8000000000000114v9h-1.8000000000000114Z\" fill=\"#4c78a8\" fill-opacity=\"1\" stroke=\"#505050\" stroke-width=\"0\"/><path aria-label=\"x1: 91; x2: 93.9; level: 25; level2: 25.9; status: Default; sf: gemv!(y::Vector{Float64}, tA::Char, A::Matrix{Float64}, x::Vector{Float64}, α::Bool, β::Bool) at matmul.jl:490\" role=\"graphics-symbol\" aria-roledescription=\"rect mark\" d=\"M182,141h5.800000000000011v9h-5.800000000000011Z\" fill=\"#4c78a8\" fill-opacity=\"1\" stroke=\"#505050\" stroke-width=\"0\"/><path aria-label=\"x1: 94; x2: 111.9; level: 25; level2: 25.9; status: Default; sf: gemv!(y::Vector{Float64}, tA::Char, A::Matrix{Float64}, x::Vector{Float64}, α::Bool, β::Bool) at matmul.jl:503\" role=\"graphics-symbol\" aria-roledescription=\"rect mark\" d=\"M188,141h35.80000000000001v9h-35.80000000000001Z\" fill=\"#4c78a8\" fill-opacity=\"1\" stroke=\"#505050\" stroke-width=\"0\"/><path aria-label=\"x1: 94; x2: 94.9; level: 26; level2: 26.9; status: Default; sf: gemv!(trans::Char, alpha::Float64, A::Matrix{Float64}, X::Vector{Float64}, beta::Float64, Y::Vector{Float64}) at blas.jl:665\" role=\"graphics-symbol\" aria-roledescription=\"rect mark\" d=\"M188,131h1.8000000000000114v9h-1.8000000000000114Z\" fill=\"#4c78a8\" fill-opacity=\"1\" stroke=\"#505050\" stroke-width=\"0\"/><path aria-label=\"x1: 94; x2: 94.9; level: 27; level2: 27.9; status: Default; sf: max at operators.jl:591 [inlined]\" role=\"graphics-symbol\" aria-roledescription=\"rect mark\" d=\"M188,121h1.8000000000000114v8.999999999999972h-1.8000000000000114Z\" fill=\"#4c78a8\" fill-opacity=\"1\" stroke=\"#505050\" stroke-width=\"0\"/><path aria-label=\"x1: 94; x2: 94.9; level: 28; level2: 28.9; status: Default; sf: max at promotion.jl:488 [inlined]\" role=\"graphics-symbol\" aria-roledescription=\"rect mark\" d=\"M188,111.00000000000003h1.8000000000000114v8.999999999999986h-1.8000000000000114Z\" fill=\"#4c78a8\" fill-opacity=\"1\" stroke=\"#505050\" stroke-width=\"0\"/><path aria-label=\"x1: 94; x2: 94.9; level: 29; level2: 29.9; status: Default; sf: &lt; at int.jl:83 [inlined]\" role=\"graphics-symbol\" aria-roledescription=\"rect mark\" d=\"M188,101.00000000000003h1.8000000000000114v8.999999999999986h-1.8000000000000114Z\" fill=\"#4c78a8\" fill-opacity=\"1\" stroke=\"#505050\" stroke-width=\"0\"/><path aria-label=\"x1: 95; x2: 111.9; level: 26; level2: 26.9; status: Default; sf: gemv!(trans::Char, alpha::Float64, A::Matrix{Float64}, X::Vector{Float64}, beta::Float64, Y::Vector{Float64}) at blas.jl:666\" role=\"graphics-symbol\" aria-roledescription=\"rect mark\" d=\"M190,131h33.80000000000001v9h-33.80000000000001Z\" fill=\"#4c78a8\" fill-opacity=\"1\" stroke=\"#505050\" stroke-width=\"0\"/><path aria-label=\"x1: 112; x2: 133.9; level: 22; level2: 22.9; status: Default; sf: coords!(crd::Vector{Float64}, l::SquareLattice, site::LatticeIndex, bvs::LatticeModels.Bravais, buf::Vector{Float64}) at lattice.jl:69\" role=\"graphics-symbol\" aria-roledescription=\"rect mark\" d=\"M224.00000000000003,171h43.79999999999998v8.999999999999972h-43.79999999999998Z\" fill=\"#4c78a8\" fill-opacity=\"1\" stroke=\"#505050\" stroke-width=\"0\"/><path aria-label=\"x1: 112; x2: 132.9; level: 23; level2: 23.9; status: Default; sf: getindex at abstractarray.jl:1241 [inlined]\" role=\"graphics-symbol\" aria-roledescription=\"rect mark\" d=\"M224.00000000000003,161.00000000000003h41.79999999999998v9h-41.79999999999998Z\" fill=\"#4c78a8\" fill-opacity=\"1\" stroke=\"#505050\" stroke-width=\"0\"/><path aria-label=\"x1: 112; x2: 132.9; level: 24; level2: 24.9; status: Default; sf: _getindex at multidimensional.jl:875 [inlined]\" role=\"graphics-symbol\" aria-roledescription=\"rect mark\" d=\"M224.00000000000003,151.00000000000003h41.79999999999998v8.999999999999972h-41.79999999999998Z\" fill=\"#4c78a8\" fill-opacity=\"1\" stroke=\"#505050\" stroke-width=\"0\"/><path aria-label=\"x1: 112; x2: 132.9; level: 25; level2: 25.9; status: Default; sf: _unsafe_getindex at multidimensional.jl:887 [inlined]\" role=\"graphics-symbol\" aria-roledescription=\"rect mark\" d=\"M224.00000000000003,141h41.79999999999998v9h-41.79999999999998Z\" fill=\"#4c78a8\" fill-opacity=\"1\" stroke=\"#505050\" stroke-width=\"0\"/><path aria-label=\"x1: 112; x2: 132.9; level: 26; level2: 26.9; status: Default; sf: similar at abstractarray.jl:795 [inlined]\" role=\"graphics-symbol\" aria-roledescription=\"rect mark\" d=\"M224.00000000000003,131h41.79999999999998v9h-41.79999999999998Z\" fill=\"#4c78a8\" fill-opacity=\"1\" stroke=\"#505050\" stroke-width=\"0\"/><path aria-label=\"x1: 112; x2: 132.9; level: 27; level2: 27.9; status: Default; sf: similar at array.jl:378 [inlined]\" role=\"graphics-symbol\" aria-roledescription=\"rect mark\" d=\"M224.00000000000003,121h41.79999999999998v8.999999999999972h-41.79999999999998Z\" fill=\"#4c78a8\" fill-opacity=\"1\" stroke=\"#505050\" stroke-width=\"0\"/><path aria-label=\"x1: 112; x2: 132.9; level: 28; level2: 28.9; status: Default; sf: Array at boot.jl:468 [inlined]\" role=\"graphics-symbol\" aria-roledescription=\"rect mark\" d=\"M224.00000000000003,111.00000000000003h41.79999999999998v8.999999999999986h-41.79999999999998Z\" fill=\"#4c78a8\" fill-opacity=\"1\" stroke=\"#505050\" stroke-width=\"0\"/><path aria-label=\"x1: 112; x2: 132.9; level: 29; level2: 29.9; status: Garbage collection; sf: Array at boot.jl:459 [inlined]\" role=\"graphics-symbol\" aria-roledescription=\"rect mark\" d=\"M224.00000000000003,101.00000000000003h41.79999999999998v8.999999999999986h-41.79999999999998Z\" fill=\"#f58518\" fill-opacity=\"1\" stroke=\"#505050\" stroke-width=\"0\"/><path aria-label=\"x1: 133; x2: 133.9; level: 23; level2: 23.9; status: Default; sf: materialize! at broadcast.jl:868 [inlined]\" role=\"graphics-symbol\" aria-roledescription=\"rect mark\" d=\"M266,161.00000000000003h1.8000000000000114v9h-1.8000000000000114Z\" fill=\"#4c78a8\" fill-opacity=\"1\" stroke=\"#505050\" stroke-width=\"0\"/><path aria-label=\"x1: 133; x2: 133.9; level: 24; level2: 24.9; status: Default; sf: materialize! at broadcast.jl:871 [inlined]\" role=\"graphics-symbol\" aria-roledescription=\"rect mark\" d=\"M266,151.00000000000003h1.8000000000000114v8.999999999999972h-1.8000000000000114Z\" fill=\"#4c78a8\" fill-opacity=\"1\" stroke=\"#505050\" stroke-width=\"0\"/><path aria-label=\"x1: 133; x2: 133.9; level: 25; level2: 25.9; status: Default; sf: copyto! at broadcast.jl:913 [inlined]\" role=\"graphics-symbol\" aria-roledescription=\"rect mark\" d=\"M266,141h1.8000000000000114v9h-1.8000000000000114Z\" fill=\"#4c78a8\" fill-opacity=\"1\" stroke=\"#505050\" stroke-width=\"0\"/><path aria-label=\"x1: 133; x2: 133.9; level: 26; level2: 26.9; status: Default; sf: copyto! at broadcast.jl:957 [inlined]\" role=\"graphics-symbol\" aria-roledescription=\"rect mark\" d=\"M266,131h1.8000000000000114v9h-1.8000000000000114Z\" fill=\"#4c78a8\" fill-opacity=\"1\" stroke=\"#505050\" stroke-width=\"0\"/><path aria-label=\"x1: 133; x2: 133.9; level: 27; level2: 27.9; status: Default; sf: preprocess at broadcast.jl:940 [inlined]\" role=\"graphics-symbol\" aria-roledescription=\"rect mark\" d=\"M266,121h1.8000000000000114v8.999999999999972h-1.8000000000000114Z\" fill=\"#4c78a8\" fill-opacity=\"1\" stroke=\"#505050\" stroke-width=\"0\"/><path aria-label=\"x1: 133; x2: 133.9; level: 28; level2: 28.9; status: Default; sf: preprocess_args at broadcast.jl:943 [inlined]\" role=\"graphics-symbol\" aria-roledescription=\"rect mark\" d=\"M266,111.00000000000003h1.8000000000000114v8.999999999999986h-1.8000000000000114Z\" fill=\"#4c78a8\" fill-opacity=\"1\" stroke=\"#505050\" stroke-width=\"0\"/><path aria-label=\"x1: 133; x2: 133.9; level: 29; level2: 29.9; status: Default; sf: preprocess_args at broadcast.jl:944 [inlined]\" role=\"graphics-symbol\" aria-roledescription=\"rect mark\" d=\"M266,101.00000000000003h1.8000000000000114v8.999999999999986h-1.8000000000000114Z\" fill=\"#4c78a8\" fill-opacity=\"1\" stroke=\"#505050\" stroke-width=\"0\"/><path aria-label=\"x1: 133; x2: 133.9; level: 30; level2: 30.9; status: Default; sf: preprocess at broadcast.jl:941 [inlined]\" role=\"graphics-symbol\" aria-roledescription=\"rect mark\" d=\"M266,91.00000000000001h1.8000000000000114v8.999999999999986h-1.8000000000000114Z\" fill=\"#4c78a8\" fill-opacity=\"1\" stroke=\"#505050\" stroke-width=\"0\"/><path aria-label=\"x1: 133; x2: 133.9; level: 31; level2: 31.9; status: Default; sf: extrude at broadcast.jl:637 [inlined]\" role=\"graphics-symbol\" aria-roledescription=\"rect mark\" d=\"M266,81h1.8000000000000114v8.999999999999986h-1.8000000000000114Z\" fill=\"#4c78a8\" fill-opacity=\"1\" stroke=\"#505050\" stroke-width=\"0\"/><path aria-label=\"x1: 133; x2: 133.9; level: 32; level2: 32.9; status: Default; sf: newindexer at broadcast.jl:586 [inlined]\" role=\"graphics-symbol\" aria-roledescription=\"rect mark\" d=\"M266,71h1.8000000000000114v8.999999999999986h-1.8000000000000114Z\" fill=\"#4c78a8\" fill-opacity=\"1\" stroke=\"#505050\" stroke-width=\"0\"/><path aria-label=\"x1: 133; x2: 133.9; level: 33; level2: 33.9; status: Default; sf: shapeindexer at broadcast.jl:587 [inlined]\" role=\"graphics-symbol\" aria-roledescription=\"rect mark\" d=\"M266,61.00000000000003h1.8000000000000114v8.999999999999986h-1.8000000000000114Z\" fill=\"#4c78a8\" fill-opacity=\"1\" stroke=\"#505050\" stroke-width=\"0\"/><path aria-label=\"x1: 133; x2: 133.9; level: 34; level2: 34.9; status: Default; sf: _newindexer at broadcast.jl:592 [inlined]\" role=\"graphics-symbol\" aria-roledescription=\"rect mark\" d=\"M266,51.00000000000002h1.8000000000000114v8.999999999999986h-1.8000000000000114Z\" fill=\"#4c78a8\" fill-opacity=\"1\" stroke=\"#505050\" stroke-width=\"0\"/><path aria-label=\"x1: 133; x2: 133.9; level: 35; level2: 35.9; status: Default; sf: != at operators.jl:282 [inlined]\" role=\"graphics-symbol\" aria-roledescription=\"rect mark\" d=\"M266,41.000000000000014h1.8000000000000114v8.999999999999986h-1.8000000000000114Z\" fill=\"#4c78a8\" fill-opacity=\"1\" stroke=\"#505050\" stroke-width=\"0\"/><path aria-label=\"x1: 133; x2: 133.9; level: 36; level2: 36.9; status: Default; sf: == at promotion.jl:477 [inlined]\" role=\"graphics-symbol\" aria-roledescription=\"rect mark\" d=\"M266,31.000000000000007h1.8000000000000114v8.999999999999986h-1.8000000000000114Z\" fill=\"#4c78a8\" fill-opacity=\"1\" stroke=\"#505050\" stroke-width=\"0\"/><path aria-label=\"x1: 134; x2: 186.9; level: 21; level2: 21.9; status: Garbage collection; sf: apply_field!(lo::LatticeVecOrMat{Matrix{ComplexF64}}, field::Landau) at field.jl:40\" role=\"graphics-symbol\" aria-roledescription=\"rect mark\" d=\"M268,181h105.80000000000001v9h-105.80000000000001Z\" fill=\"#f58518\" fill-opacity=\"1\" stroke=\"#505050\" stroke-width=\"0\"/><path aria-label=\"x1: 134; x2: 141.9; level: 22; level2: 22.9; status: Runtime dispatch; sf: * at operators.jl:591 [inlined]\" role=\"graphics-symbol\" aria-roledescription=\"rect mark\" d=\"M268,171h15.800000000000011v8.999999999999972h-15.800000000000011Z\" fill=\"#e45756\" fill-opacity=\"1\" stroke=\"#505050\" stroke-width=\"0\"/><path aria-label=\"x1: 161; x2: 161.9; level: 22; level2: 22.9; status: Default; sf: exp(z::ComplexF64) at complex.jl:680\" role=\"graphics-symbol\" aria-roledescription=\"rect mark\" d=\"M322,171h1.8000000000000114v8.999999999999972h-1.8000000000000114Z\" fill=\"#4c78a8\" fill-opacity=\"1\" stroke=\"#505050\" stroke-width=\"0\"/><path aria-label=\"x1: 162; x2: 162.9; level: 22; level2: 22.9; status: Default; sf: exp(z::ComplexF64) at complex.jl:682\" role=\"graphics-symbol\" aria-roledescription=\"rect mark\" d=\"M324,171h1.8000000000000114v8.999999999999972h-1.8000000000000114Z\" fill=\"#4c78a8\" fill-opacity=\"1\" stroke=\"#505050\" stroke-width=\"0\"/><path aria-label=\"x1: 163; x2: 166.9; level: 22; level2: 22.9; status: Default; sf: exp(z::ComplexF64) at complex.jl:693\" role=\"graphics-symbol\" aria-roledescription=\"rect mark\" d=\"M326,171h7.800000000000011v8.999999999999972h-7.800000000000011Z\" fill=\"#4c78a8\" fill-opacity=\"1\" stroke=\"#505050\" stroke-width=\"0\"/><path aria-label=\"x1: 163; x2: 166.9; level: 23; level2: 23.9; status: Default; sf: exp at exp.jl:327 [inlined]\" role=\"graphics-symbol\" aria-roledescription=\"rect mark\" d=\"M326,161.00000000000003h7.800000000000011v9h-7.800000000000011Z\" fill=\"#4c78a8\" fill-opacity=\"1\" stroke=\"#505050\" stroke-width=\"0\"/><path aria-label=\"x1: 163; x2: 163.9; level: 24; level2: 24.9; status: Default; sf: exp_impl at exp.jl:218 [inlined]\" role=\"graphics-symbol\" aria-roledescription=\"rect mark\" d=\"M326,151.00000000000003h1.8000000000000114v8.999999999999972h-1.8000000000000114Z\" fill=\"#4c78a8\" fill-opacity=\"1\" stroke=\"#505050\" stroke-width=\"0\"/><path aria-label=\"x1: 163; x2: 163.9; level: 25; level2: 25.9; status: Default; sf: table_unpack at exp.jl:184 [inlined]\" role=\"graphics-symbol\" aria-roledescription=\"rect mark\" d=\"M326,141h1.8000000000000114v9h-1.8000000000000114Z\" fill=\"#4c78a8\" fill-opacity=\"1\" stroke=\"#505050\" stroke-width=\"0\"/><path aria-label=\"x1: 163; x2: 163.9; level: 26; level2: 26.9; status: Default; sf: &amp; at int.jl:340 [inlined]\" role=\"graphics-symbol\" aria-roledescription=\"rect mark\" d=\"M326,131h1.8000000000000114v9h-1.8000000000000114Z\" fill=\"#4c78a8\" fill-opacity=\"1\" stroke=\"#505050\" stroke-width=\"0\"/><path aria-label=\"x1: 164; x2: 166.9; level: 24; level2: 24.9; status: Default; sf: exp_impl at exp.jl:219 [inlined]\" role=\"graphics-symbol\" aria-roledescription=\"rect mark\" d=\"M328,151.00000000000003h5.800000000000011v8.999999999999972h-5.800000000000011Z\" fill=\"#4c78a8\" fill-opacity=\"1\" stroke=\"#505050\" stroke-width=\"0\"/><path aria-label=\"x1: 164; x2: 166.9; level: 25; level2: 25.9; status: Default; sf: + at float.jl:383 [inlined]\" role=\"graphics-symbol\" aria-roledescription=\"rect mark\" d=\"M328,141h5.800000000000011v9h-5.800000000000011Z\" fill=\"#4c78a8\" fill-opacity=\"1\" stroke=\"#505050\" stroke-width=\"0\"/><path aria-label=\"x1: 167; x2: 170.9; level: 22; level2: 22.9; status: Default; sf: exp(z::ComplexF64) at complex.jl:697\" role=\"graphics-symbol\" aria-roledescription=\"rect mark\" d=\"M334,171h7.800000000000011v8.999999999999972h-7.800000000000011Z\" fill=\"#4c78a8\" fill-opacity=\"1\" stroke=\"#505050\" stroke-width=\"0\"/><path aria-label=\"x1: 167; x2: 167.9; level: 23; level2: 23.9; status: Default; sf: sincos(x::Float64) at trig.jl:185\" role=\"graphics-symbol\" aria-roledescription=\"rect mark\" d=\"M334,161.00000000000003h1.8000000000000114v9h-1.8000000000000114Z\" fill=\"#4c78a8\" fill-opacity=\"1\" stroke=\"#505050\" stroke-width=\"0\"/><path aria-label=\"x1: 167; x2: 167.9; level: 24; level2: 24.9; status: Default; sf: rem_pio2_kernel at rem_pio2.jl:279 [inlined]\" role=\"graphics-symbol\" aria-roledescription=\"rect mark\" d=\"M334,151.00000000000003h1.8000000000000114v8.999999999999972h-1.8000000000000114Z\" fill=\"#4c78a8\" fill-opacity=\"1\" stroke=\"#505050\" stroke-width=\"0\"/><path aria-label=\"x1: 167; x2: 167.9; level: 25; level2: 25.9; status: Default; sf: cody_waite_ext_pio2 at rem_pio2.jl:82 [inlined]\" role=\"graphics-symbol\" aria-roledescription=\"rect mark\" d=\"M334,141h1.8000000000000114v9h-1.8000000000000114Z\" fill=\"#4c78a8\" fill-opacity=\"1\" stroke=\"#505050\" stroke-width=\"0\"/><path aria-label=\"x1: 167; x2: 167.9; level: 26; level2: 26.9; status: Default; sf: highword at math.jl:1312 [inlined]\" role=\"graphics-symbol\" aria-roledescription=\"rect mark\" d=\"M334,131h1.8000000000000114v9h-1.8000000000000114Z\" fill=\"#4c78a8\" fill-opacity=\"1\" stroke=\"#505050\" stroke-width=\"0\"/><path aria-label=\"x1: 167; x2: 167.9; level: 27; level2: 27.9; status: Default; sf: reinterpret at essentials.jl:438 [inlined]\" role=\"graphics-symbol\" aria-roledescription=\"rect mark\" d=\"M334,121h1.8000000000000114v8.999999999999972h-1.8000000000000114Z\" fill=\"#4c78a8\" fill-opacity=\"1\" stroke=\"#505050\" stroke-width=\"0\"/><path aria-label=\"x1: 168; x2: 169.9; level: 23; level2: 23.9; status: Default; sf: sincos(x::Float64) at trig.jl:188\" role=\"graphics-symbol\" aria-roledescription=\"rect mark\" d=\"M336,161.00000000000003h3.8000000000000114v9h-3.8000000000000114Z\" fill=\"#4c78a8\" fill-opacity=\"1\" stroke=\"#505050\" stroke-width=\"0\"/><path aria-label=\"x1: 168; x2: 169.9; level: 24; level2: 24.9; status: Default; sf: sincos_kernel at trig.jl:211 [inlined]\" role=\"graphics-symbol\" aria-roledescription=\"rect mark\" d=\"M336,151.00000000000003h3.8000000000000114v8.999999999999972h-3.8000000000000114Z\" fill=\"#4c78a8\" fill-opacity=\"1\" stroke=\"#505050\" stroke-width=\"0\"/><path aria-label=\"x1: 168; x2: 168.9; level: 25; level2: 25.9; status: Default; sf: cos_kernel at trig.jl:138 [inlined]\" role=\"graphics-symbol\" aria-roledescription=\"rect mark\" d=\"M336,141h1.8000000000000114v9h-1.8000000000000114Z\" fill=\"#4c78a8\" fill-opacity=\"1\" stroke=\"#505050\" stroke-width=\"0\"/><path aria-label=\"x1: 168; x2: 168.9; level: 26; level2: 26.9; status: Default; sf: evalpoly at math.jl:177 [inlined]\" role=\"graphics-symbol\" aria-roledescription=\"rect mark\" d=\"M336,131h1.8000000000000114v9h-1.8000000000000114Z\" fill=\"#4c78a8\" fill-opacity=\"1\" stroke=\"#505050\" stroke-width=\"0\"/><path aria-label=\"x1: 168; x2: 168.9; level: 27; level2: 27.9; status: Default; sf: macro expansion at math.jl:178 [inlined]\" role=\"graphics-symbol\" aria-roledescription=\"rect mark\" d=\"M336,121h1.8000000000000114v8.999999999999972h-1.8000000000000114Z\" fill=\"#4c78a8\" fill-opacity=\"1\" stroke=\"#505050\" stroke-width=\"0\"/><path aria-label=\"x1: 168; x2: 168.9; level: 28; level2: 28.9; status: Default; sf: muladd at float.jl:388 [inlined]\" role=\"graphics-symbol\" aria-roledescription=\"rect mark\" d=\"M336,111.00000000000003h1.8000000000000114v8.999999999999986h-1.8000000000000114Z\" fill=\"#4c78a8\" fill-opacity=\"1\" stroke=\"#505050\" stroke-width=\"0\"/><path aria-label=\"x1: 169; x2: 169.9; level: 25; level2: 25.9; status: Default; sf: sin_kernel at trig.jl:74 [inlined]\" role=\"graphics-symbol\" aria-roledescription=\"rect mark\" d=\"M338,141h1.8000000000000114v9h-1.8000000000000114Z\" fill=\"#4c78a8\" fill-opacity=\"1\" stroke=\"#505050\" stroke-width=\"0\"/><path aria-label=\"x1: 169; x2: 169.9; level: 26; level2: 26.9; status: Default; sf: - at float.jl:384 [inlined]\" role=\"graphics-symbol\" aria-roledescription=\"rect mark\" d=\"M338,131h1.8000000000000114v9h-1.8000000000000114Z\" fill=\"#4c78a8\" fill-opacity=\"1\" stroke=\"#505050\" stroke-width=\"0\"/><path aria-label=\"x1: 170; x2: 170.9; level: 23; level2: 23.9; status: Default; sf: sincos(x::Float64) at trig.jl:196\" role=\"graphics-symbol\" aria-roledescription=\"rect mark\" d=\"M340,161.00000000000003h1.8000000000000114v9h-1.8000000000000114Z\" fill=\"#4c78a8\" fill-opacity=\"1\" stroke=\"#505050\" stroke-width=\"0\"/><path aria-label=\"x1: 171; x2: 173.9; level: 22; level2: 22.9; status: Default; sf: exp(z::ComplexF64) at complex.jl:698\" role=\"graphics-symbol\" aria-roledescription=\"rect mark\" d=\"M342,171h5.800000000000011v8.999999999999972h-5.800000000000011Z\" fill=\"#4c78a8\" fill-opacity=\"1\" stroke=\"#505050\" stroke-width=\"0\"/><path aria-label=\"x1: 171; x2: 172.9; level: 23; level2: 23.9; status: Default; sf: * at float.jl:385 [inlined]\" role=\"graphics-symbol\" aria-roledescription=\"rect mark\" d=\"M342,161.00000000000003h3.8000000000000114v9h-3.8000000000000114Z\" fill=\"#4c78a8\" fill-opacity=\"1\" stroke=\"#505050\" stroke-width=\"0\"/><path aria-label=\"x1: 175; x2: 175.9; level: 22; level2: 22.9; status: Default; sf: _trip_integral!(field::Landau, p1::Vector{Float64}, p2::Vector{Float64}, A::Vector{Float64}) at field.jl:137\" role=\"graphics-symbol\" aria-roledescription=\"rect mark\" d=\"M350,171h1.8000000000000114v8.999999999999972h-1.8000000000000114Z\" fill=\"#4c78a8\" fill-opacity=\"1\" stroke=\"#505050\" stroke-width=\"0\"/><path aria-label=\"x1: 176; x2: 183.9; level: 22; level2: 22.9; status: Default; sf: _trip_integral!(field::Landau, p1::Vector{Float64}, p2::Vector{Float64}, A::Vector{Float64}) at field.jl:173\" role=\"graphics-symbol\" aria-roledescription=\"rect mark\" d=\"M352,171h15.800000000000011v8.999999999999972h-15.800000000000011Z\" fill=\"#4c78a8\" fill-opacity=\"1\" stroke=\"#505050\" stroke-width=\"0\"/><path aria-label=\"x1: 176; x2: 183.9; level: 23; level2: 23.9; status: Runtime dispatch; sf: * at operators.jl:591 [inlined]\" role=\"graphics-symbol\" aria-roledescription=\"rect mark\" d=\"M352,161.00000000000003h15.800000000000011v9h-15.800000000000011Z\" fill=\"#e45756\" fill-opacity=\"1\" stroke=\"#505050\" stroke-width=\"0\"/><path aria-label=\"x1: 187; x2: 254.9; level: 21; level2: 21.9; status: Runtime dispatch; sf: apply_field!(lo::LatticeVecOrMat{Matrix{ComplexF64}}, field::Landau) at field.jl:41\" role=\"graphics-symbol\" aria-roledescription=\"rect mark\" d=\"M374,181h135.8v9h-135.8Z\" fill=\"#e45756\" fill-opacity=\"1\" stroke=\"#505050\" stroke-width=\"0\"/><path aria-label=\"x1: 187; x2: 212.9; level: 22; level2: 22.9; status: Default; sf: getindex at abstractarray.jl:1241 [inlined]\" role=\"graphics-symbol\" aria-roledescription=\"rect mark\" d=\"M374,171h51.80000000000001v8.999999999999972h-51.80000000000001Z\" fill=\"#4c78a8\" fill-opacity=\"1\" stroke=\"#505050\" stroke-width=\"0\"/><path aria-label=\"x1: 187; x2: 187.9; level: 23; level2: 23.9; status: Default; sf: _getindex at multidimensional.jl:874 [inlined]\" role=\"graphics-symbol\" aria-roledescription=\"rect mark\" d=\"M374,161.00000000000003h1.8000000000000114v9h-1.8000000000000114Z\" fill=\"#4c78a8\" fill-opacity=\"1\" stroke=\"#505050\" stroke-width=\"0\"/><path aria-label=\"x1: 187; x2: 187.9; level: 24; level2: 24.9; status: Default; sf: checkbounds at abstractarray.jl:668 [inlined]\" role=\"graphics-symbol\" aria-roledescription=\"rect mark\" d=\"M374,151.00000000000003h1.8000000000000114v8.999999999999972h-1.8000000000000114Z\" fill=\"#4c78a8\" fill-opacity=\"1\" stroke=\"#505050\" stroke-width=\"0\"/><path aria-label=\"x1: 187; x2: 187.9; level: 25; level2: 25.9; status: Default; sf: checkbounds at abstractarray.jl:647 [inlined]\" role=\"graphics-symbol\" aria-roledescription=\"rect mark\" d=\"M374,141h1.8000000000000114v9h-1.8000000000000114Z\" fill=\"#4c78a8\" fill-opacity=\"1\" stroke=\"#505050\" stroke-width=\"0\"/><path aria-label=\"x1: 187; x2: 187.9; level: 26; level2: 26.9; status: Default; sf: checkbounds_indices at abstractarray.jl:694 [inlined]\" role=\"graphics-symbol\" aria-roledescription=\"rect mark\" d=\"M374,131h1.8000000000000114v9h-1.8000000000000114Z\" fill=\"#4c78a8\" fill-opacity=\"1\" stroke=\"#505050\" stroke-width=\"0\"/><path aria-label=\"x1: 187; x2: 187.9; level: 27; level2: 27.9; status: Default; sf: checkindex at abstractarray.jl:732 [inlined]\" role=\"graphics-symbol\" aria-roledescription=\"rect mark\" d=\"M374,121h1.8000000000000114v8.999999999999972h-1.8000000000000114Z\" fill=\"#4c78a8\" fill-opacity=\"1\" stroke=\"#505050\" stroke-width=\"0\"/><path aria-label=\"x1: 187; x2: 187.9; level: 28; level2: 28.9; status: Default; sf: checkindex at abstractarray.jl:727 [inlined]\" role=\"graphics-symbol\" aria-roledescription=\"rect mark\" d=\"M374,111.00000000000003h1.8000000000000114v8.999999999999986h-1.8000000000000114Z\" fill=\"#4c78a8\" fill-opacity=\"1\" stroke=\"#505050\" stroke-width=\"0\"/><path aria-label=\"x1: 187; x2: 187.9; level: 29; level2: 29.9; status: Default; sf: &lt;= at int.jl:481 [inlined]\" role=\"graphics-symbol\" aria-roledescription=\"rect mark\" d=\"M374,101.00000000000003h1.8000000000000114v8.999999999999986h-1.8000000000000114Z\" fill=\"#4c78a8\" fill-opacity=\"1\" stroke=\"#505050\" stroke-width=\"0\"/><path aria-label=\"x1: 188; x2: 212.9; level: 23; level2: 23.9; status: Default; sf: _getindex at multidimensional.jl:875 [inlined]\" role=\"graphics-symbol\" aria-roledescription=\"rect mark\" d=\"M376,161.00000000000003h49.80000000000001v9h-49.80000000000001Z\" fill=\"#4c78a8\" fill-opacity=\"1\" stroke=\"#505050\" stroke-width=\"0\"/><path aria-label=\"x1: 188; x2: 190.9; level: 24; level2: 24.9; status: Default; sf: _unsafe_getindex(::IndexLinear, ::Matrix{ComplexF64}, ::UnitRange{Int64}, ::UnitRange{Int64}) at multidimensional.jl:884\" role=\"graphics-symbol\" aria-roledescription=\"rect mark\" d=\"M376,151.00000000000003h5.800000000000011v8.999999999999972h-5.800000000000011Z\" fill=\"#4c78a8\" fill-opacity=\"1\" stroke=\"#505050\" stroke-width=\"0\"/><path aria-label=\"x1: 191; x2: 206.9; level: 24; level2: 24.9; status: Default; sf: _unsafe_getindex(::IndexLinear, ::Matrix{ComplexF64}, ::UnitRange{Int64}, ::UnitRange{Int64}) at multidimensional.jl:887\" role=\"graphics-symbol\" aria-roledescription=\"rect mark\" d=\"M382,151.00000000000003h31.80000000000001v8.999999999999972h-31.80000000000001Z\" fill=\"#4c78a8\" fill-opacity=\"1\" stroke=\"#505050\" stroke-width=\"0\"/><path aria-label=\"x1: 191; x2: 206.9; level: 25; level2: 25.9; status: Default; sf: similar at abstractarray.jl:795 [inlined]\" role=\"graphics-symbol\" aria-roledescription=\"rect mark\" d=\"M382,141h31.80000000000001v9h-31.80000000000001Z\" fill=\"#4c78a8\" fill-opacity=\"1\" stroke=\"#505050\" stroke-width=\"0\"/><path aria-label=\"x1: 191; x2: 206.9; level: 26; level2: 26.9; status: Default; sf: similar at array.jl:378 [inlined]\" role=\"graphics-symbol\" aria-roledescription=\"rect mark\" d=\"M382,131h31.80000000000001v9h-31.80000000000001Z\" fill=\"#4c78a8\" fill-opacity=\"1\" stroke=\"#505050\" stroke-width=\"0\"/><path aria-label=\"x1: 191; x2: 206.9; level: 27; level2: 27.9; status: Default; sf: Array at boot.jl:469 [inlined]\" role=\"graphics-symbol\" aria-roledescription=\"rect mark\" d=\"M382,121h31.80000000000001v8.999999999999972h-31.80000000000001Z\" fill=\"#4c78a8\" fill-opacity=\"1\" stroke=\"#505050\" stroke-width=\"0\"/><path aria-label=\"x1: 191; x2: 206.9; level: 28; level2: 28.9; status: Garbage collection; sf: Array at boot.jl:461 [inlined]\" role=\"graphics-symbol\" aria-roledescription=\"rect mark\" d=\"M382,111.00000000000003h31.80000000000001v8.999999999999986h-31.80000000000001Z\" fill=\"#f58518\" fill-opacity=\"1\" stroke=\"#505050\" stroke-width=\"0\"/><path aria-label=\"x1: 207; x2: 211.9; level: 24; level2: 24.9; status: Default; sf: _unsafe_getindex(::IndexLinear, ::Matrix{ComplexF64}, ::UnitRange{Int64}, ::UnitRange{Int64}) at multidimensional.jl:889\" role=\"graphics-symbol\" aria-roledescription=\"rect mark\" d=\"M413.99999999999994,151.00000000000003h9.800000000000125v8.999999999999972h-9.800000000000125Z\" fill=\"#4c78a8\" fill-opacity=\"1\" stroke=\"#505050\" stroke-width=\"0\"/><path aria-label=\"x1: 207; x2: 211.9; level: 25; level2: 25.9; status: Default; sf: _unsafe_getindex! at multidimensional.jl:898 [inlined]\" role=\"graphics-symbol\" aria-roledescription=\"rect mark\" d=\"M413.99999999999994,141h9.800000000000125v9h-9.800000000000125Z\" fill=\"#4c78a8\" fill-opacity=\"1\" stroke=\"#505050\" stroke-width=\"0\"/><path aria-label=\"x1: 207; x2: 210.9; level: 26; level2: 26.9; status: Default; sf: macro expansion at cartesian.jl:64 [inlined]\" role=\"graphics-symbol\" aria-roledescription=\"rect mark\" d=\"M413.99999999999994,131h7.800000000000068v9h-7.800000000000068Z\" fill=\"#4c78a8\" fill-opacity=\"1\" stroke=\"#505050\" stroke-width=\"0\"/><path aria-label=\"x1: 207; x2: 209.9; level: 27; level2: 27.9; status: Default; sf: macro expansion at multidimensional.jl:903 [inlined]\" role=\"graphics-symbol\" aria-roledescription=\"rect mark\" d=\"M413.99999999999994,121h5.800000000000125v8.999999999999972h-5.800000000000125Z\" fill=\"#4c78a8\" fill-opacity=\"1\" stroke=\"#505050\" stroke-width=\"0\"/><path aria-label=\"x1: 207; x2: 209.9; level: 28; level2: 28.9; status: Default; sf: setindex! at array.jl:966 [inlined]\" role=\"graphics-symbol\" aria-roledescription=\"rect mark\" d=\"M413.99999999999994,111.00000000000003h5.800000000000125v8.999999999999986h-5.800000000000125Z\" fill=\"#4c78a8\" fill-opacity=\"1\" stroke=\"#505050\" stroke-width=\"0\"/><path aria-label=\"x1: 210; x2: 210.9; level: 27; level2: 27.9; status: Default; sf: macro expansion at multidimensional.jl:904 [inlined]\" role=\"graphics-symbol\" aria-roledescription=\"rect mark\" d=\"M420,121h1.8000000000000114v8.999999999999972h-1.8000000000000114Z\" fill=\"#4c78a8\" fill-opacity=\"1\" stroke=\"#505050\" stroke-width=\"0\"/><path aria-label=\"x1: 210; x2: 210.9; level: 28; level2: 28.9; status: Default; sf: iterate at range.jl:883 [inlined]\" role=\"graphics-symbol\" aria-roledescription=\"rect mark\" d=\"M420,111.00000000000003h1.8000000000000114v8.999999999999986h-1.8000000000000114Z\" fill=\"#4c78a8\" fill-opacity=\"1\" stroke=\"#505050\" stroke-width=\"0\"/><path aria-label=\"x1: 210; x2: 210.9; level: 29; level2: 29.9; status: Default; sf: == at promotion.jl:477 [inlined]\" role=\"graphics-symbol\" aria-roledescription=\"rect mark\" d=\"M420,101.00000000000003h1.8000000000000114v8.999999999999986h-1.8000000000000114Z\" fill=\"#4c78a8\" fill-opacity=\"1\" stroke=\"#505050\" stroke-width=\"0\"/><path aria-label=\"x1: 211; x2: 211.9; level: 26; level2: 26.9; status: Default; sf: macro expansion at cartesian.jl:66 [inlined]\" role=\"graphics-symbol\" aria-roledescription=\"rect mark\" d=\"M422,131h1.8000000000000682v9h-1.8000000000000682Z\" fill=\"#4c78a8\" fill-opacity=\"1\" stroke=\"#505050\" stroke-width=\"0\"/><path aria-label=\"x1: 211; x2: 211.9; level: 27; level2: 27.9; status: Default; sf: iterate at range.jl:883 [inlined]\" role=\"graphics-symbol\" aria-roledescription=\"rect mark\" d=\"M422,121h1.8000000000000682v8.999999999999972h-1.8000000000000682Z\" fill=\"#4c78a8\" fill-opacity=\"1\" stroke=\"#505050\" stroke-width=\"0\"/><path aria-label=\"x1: 211; x2: 211.9; level: 28; level2: 28.9; status: Default; sf: == at promotion.jl:477 [inlined]\" role=\"graphics-symbol\" aria-roledescription=\"rect mark\" d=\"M422,111.00000000000003h1.8000000000000682v8.999999999999986h-1.8000000000000682Z\" fill=\"#4c78a8\" fill-opacity=\"1\" stroke=\"#505050\" stroke-width=\"0\"/><path aria-label=\"x1: 212; x2: 212.9; level: 24; level2: 24.9; status: Default; sf: _unsafe_getindex(::IndexLinear, ::Matrix{ComplexF64}, ::UnitRange{Int64}, ::UnitRange{Int64}) at multidimensional.jl:890\" role=\"graphics-symbol\" aria-roledescription=\"rect mark\" d=\"M424,151.00000000000003h1.8000000000000114v8.999999999999972h-1.8000000000000114Z\" fill=\"#4c78a8\" fill-opacity=\"1\" stroke=\"#505050\" stroke-width=\"0\"/><path aria-label=\"x1: 213; x2: 230.9; level: 22; level2: 22.9; status: Default; sf: setindex! at abstractarray.jl:1344 [inlined]\" role=\"graphics-symbol\" aria-roledescription=\"rect mark\" d=\"M426,171h35.80000000000001v8.999999999999972h-35.80000000000001Z\" fill=\"#4c78a8\" fill-opacity=\"1\" stroke=\"#505050\" stroke-width=\"0\"/><path aria-label=\"x1: 213; x2: 230.9; level: 23; level2: 23.9; status: Garbage collection; sf: _setindex! at multidimensional.jl:930 [inlined]\" role=\"graphics-symbol\" aria-roledescription=\"rect mark\" d=\"M426,161.00000000000003h35.80000000000001v9h-35.80000000000001Z\" fill=\"#f58518\" fill-opacity=\"1\" stroke=\"#505050\" stroke-width=\"0\"/><path aria-label=\"x1: 227; x2: 227.9; level: 24; level2: 24.9; status: Default; sf: _unsafe_setindex!(::IndexLinear, ::Matrix{ComplexF64}, ::Matrix{ComplexF64}, ::UnitRange{Int64}, ::UnitRange{Int64}) at array.jl:0\" role=\"graphics-symbol\" aria-roledescription=\"rect mark\" d=\"M454,151.00000000000003h1.7999999999999545v8.999999999999972h-1.7999999999999545Z\" fill=\"#4c78a8\" fill-opacity=\"1\" stroke=\"#505050\" stroke-width=\"0\"/><path aria-label=\"x1: 228; x2: 230.9; level: 24; level2: 24.9; status: Default; sf: _unsafe_setindex!(::IndexLinear, ::Matrix{ComplexF64}, ::Matrix{ComplexF64}, ::UnitRange{Int64}, ::UnitRange{Int64}) at multidimensional.jl:941\" role=\"graphics-symbol\" aria-roledescription=\"rect mark\" d=\"M455.99999999999994,151.00000000000003h5.800000000000068v8.999999999999972h-5.800000000000068Z\" fill=\"#4c78a8\" fill-opacity=\"1\" stroke=\"#505050\" stroke-width=\"0\"/><path aria-label=\"x1: 228; x2: 229.9; level: 25; level2: 25.9; status: Default; sf: macro expansion at cartesian.jl:64 [inlined]\" role=\"graphics-symbol\" aria-roledescription=\"rect mark\" d=\"M455.99999999999994,141h3.800000000000068v9h-3.800000000000068Z\" fill=\"#4c78a8\" fill-opacity=\"1\" stroke=\"#505050\" stroke-width=\"0\"/><path aria-label=\"x1: 228; x2: 228.9; level: 26; level2: 26.9; status: Default; sf: macro expansion at multidimensional.jl:944 [inlined]\" role=\"graphics-symbol\" aria-roledescription=\"rect mark\" d=\"M455.99999999999994,131h1.8000000000000682v9h-1.8000000000000682Z\" fill=\"#4c78a8\" fill-opacity=\"1\" stroke=\"#505050\" stroke-width=\"0\"/><path aria-label=\"x1: 229; x2: 229.9; level: 26; level2: 26.9; status: Default; sf: macro expansion at multidimensional.jl:947 [inlined]\" role=\"graphics-symbol\" aria-roledescription=\"rect mark\" d=\"M458,131h1.8000000000000114v9h-1.8000000000000114Z\" fill=\"#4c78a8\" fill-opacity=\"1\" stroke=\"#505050\" stroke-width=\"0\"/><path aria-label=\"x1: 229; x2: 229.9; level: 27; level2: 27.9; status: Default; sf: iterate at array.jl:898 [inlined]\" role=\"graphics-symbol\" aria-roledescription=\"rect mark\" d=\"M458,121h1.8000000000000114v8.999999999999972h-1.8000000000000114Z\" fill=\"#4c78a8\" fill-opacity=\"1\" stroke=\"#505050\" stroke-width=\"0\"/><path aria-label=\"x1: 229; x2: 229.9; level: 28; level2: 28.9; status: Default; sf: &lt; at int.jl:487 [inlined]\" role=\"graphics-symbol\" aria-roledescription=\"rect mark\" d=\"M458,111.00000000000003h1.8000000000000114v8.999999999999986h-1.8000000000000114Z\" fill=\"#4c78a8\" fill-opacity=\"1\" stroke=\"#505050\" stroke-width=\"0\"/><path aria-label=\"x1: 229; x2: 229.9; level: 29; level2: 29.9; status: Default; sf: &lt; at int.jl:480 [inlined]\" role=\"graphics-symbol\" aria-roledescription=\"rect mark\" d=\"M458,101.00000000000003h1.8000000000000114v8.999999999999986h-1.8000000000000114Z\" fill=\"#4c78a8\" fill-opacity=\"1\" stroke=\"#505050\" stroke-width=\"0\"/><path aria-label=\"x1: 230; x2: 230.9; level: 25; level2: 25.9; status: Default; sf: macro expansion at cartesian.jl:66 [inlined]\" role=\"graphics-symbol\" aria-roledescription=\"rect mark\" d=\"M459.99999999999994,141h1.8000000000000682v9h-1.8000000000000682Z\" fill=\"#4c78a8\" fill-opacity=\"1\" stroke=\"#505050\" stroke-width=\"0\"/><path aria-label=\"x1: 230; x2: 230.9; level: 26; level2: 26.9; status: Default; sf: iterate at range.jl:883 [inlined]\" role=\"graphics-symbol\" aria-roledescription=\"rect mark\" d=\"M459.99999999999994,131h1.8000000000000682v9h-1.8000000000000682Z\" fill=\"#4c78a8\" fill-opacity=\"1\" stroke=\"#505050\" stroke-width=\"0\"/><path aria-label=\"x1: 235; x2: 254.9; level: 22; level2: 22.9; status: Default; sf: *(A::Matrix{ComplexF64}, B::ComplexF64) at arraymath.jl:24\" role=\"graphics-symbol\" aria-roledescription=\"rect mark\" d=\"M470,171h39.80000000000001v8.999999999999972h-39.80000000000001Z\" fill=\"#4c78a8\" fill-opacity=\"1\" stroke=\"#505050\" stroke-width=\"0\"/><path aria-label=\"x1: 235; x2: 253.9; level: 23; level2: 23.9; status: Default; sf: broadcast_preserving_zero_d at broadcast.jl:849 [inlined]\" role=\"graphics-symbol\" aria-roledescription=\"rect mark\" d=\"M470,161.00000000000003h37.80000000000001v9h-37.80000000000001Z\" fill=\"#4c78a8\" fill-opacity=\"1\" stroke=\"#505050\" stroke-width=\"0\"/><path aria-label=\"x1: 235; x2: 253.9; level: 24; level2: 24.9; status: Default; sf: materialize at broadcast.jl:860 [inlined]\" role=\"graphics-symbol\" aria-roledescription=\"rect mark\" d=\"M470,151.00000000000003h37.80000000000001v8.999999999999972h-37.80000000000001Z\" fill=\"#4c78a8\" fill-opacity=\"1\" stroke=\"#505050\" stroke-width=\"0\"/><path aria-label=\"x1: 235; x2: 252.9; level: 25; level2: 25.9; status: Default; sf: copy at broadcast.jl:885 [inlined]\" role=\"graphics-symbol\" aria-roledescription=\"rect mark\" d=\"M470,141h35.799999999999955v9h-35.799999999999955Z\" fill=\"#4c78a8\" fill-opacity=\"1\" stroke=\"#505050\" stroke-width=\"0\"/><path aria-label=\"x1: 235; x2: 239.9; level: 26; level2: 26.9; status: Default; sf: copyto! at broadcast.jl:913 [inlined]\" role=\"graphics-symbol\" aria-roledescription=\"rect mark\" d=\"M470,131h9.800000000000011v9h-9.800000000000011Z\" fill=\"#4c78a8\" fill-opacity=\"1\" stroke=\"#505050\" stroke-width=\"0\"/><path aria-label=\"x1: 235; x2: 235.9; level: 27; level2: 27.9; status: Default; sf: copyto! at broadcast.jl:949 [inlined]\" role=\"graphics-symbol\" aria-roledescription=\"rect mark\" d=\"M470,121h1.8000000000000114v8.999999999999972h-1.8000000000000114Z\" fill=\"#4c78a8\" fill-opacity=\"1\" stroke=\"#505050\" stroke-width=\"0\"/><path aria-label=\"x1: 235; x2: 235.9; level: 28; level2: 28.9; status: Default; sf: axes at abstractarray.jl:95 [inlined]\" role=\"graphics-symbol\" aria-roledescription=\"rect mark\" d=\"M470,111.00000000000003h1.8000000000000114v8.999999999999986h-1.8000000000000114Z\" fill=\"#4c78a8\" fill-opacity=\"1\" stroke=\"#505050\" stroke-width=\"0\"/><path aria-label=\"x1: 235; x2: 235.9; level: 29; level2: 29.9; status: Default; sf: size at array.jl:152 [inlined]\" role=\"graphics-symbol\" aria-roledescription=\"rect mark\" d=\"M470,101.00000000000003h1.8000000000000114v8.999999999999986h-1.8000000000000114Z\" fill=\"#4c78a8\" fill-opacity=\"1\" stroke=\"#505050\" stroke-width=\"0\"/><path aria-label=\"x1: 236; x2: 236.9; level: 27; level2: 27.9; status: Default; sf: copyto! at broadcast.jl:957 [inlined]\" role=\"graphics-symbol\" aria-roledescription=\"rect mark\" d=\"M472,121h1.8000000000000682v8.999999999999972h-1.8000000000000682Z\" fill=\"#4c78a8\" fill-opacity=\"1\" stroke=\"#505050\" stroke-width=\"0\"/><path aria-label=\"x1: 236; x2: 236.9; level: 28; level2: 28.9; status: Default; sf: preprocess at broadcast.jl:940 [inlined]\" role=\"graphics-symbol\" aria-roledescription=\"rect mark\" d=\"M472,111.00000000000003h1.8000000000000682v8.999999999999986h-1.8000000000000682Z\" fill=\"#4c78a8\" fill-opacity=\"1\" stroke=\"#505050\" stroke-width=\"0\"/><path aria-label=\"x1: 236; x2: 236.9; level: 29; level2: 29.9; status: Default; sf: preprocess_args at broadcast.jl:943 [inlined]\" role=\"graphics-symbol\" aria-roledescription=\"rect mark\" d=\"M472,101.00000000000003h1.8000000000000682v8.999999999999986h-1.8000000000000682Z\" fill=\"#4c78a8\" fill-opacity=\"1\" stroke=\"#505050\" stroke-width=\"0\"/><path aria-label=\"x1: 236; x2: 236.9; level: 30; level2: 30.9; status: Default; sf: preprocess at broadcast.jl:941 [inlined]\" role=\"graphics-symbol\" aria-roledescription=\"rect mark\" d=\"M472,91.00000000000001h1.8000000000000682v8.999999999999986h-1.8000000000000682Z\" fill=\"#4c78a8\" fill-opacity=\"1\" stroke=\"#505050\" stroke-width=\"0\"/><path aria-label=\"x1: 236; x2: 236.9; level: 31; level2: 31.9; status: Default; sf: extrude at broadcast.jl:637 [inlined]\" role=\"graphics-symbol\" aria-roledescription=\"rect mark\" d=\"M472,81h1.8000000000000682v8.999999999999986h-1.8000000000000682Z\" fill=\"#4c78a8\" fill-opacity=\"1\" stroke=\"#505050\" stroke-width=\"0\"/><path aria-label=\"x1: 236; x2: 236.9; level: 32; level2: 32.9; status: Default; sf: newindexer at broadcast.jl:586 [inlined]\" role=\"graphics-symbol\" aria-roledescription=\"rect mark\" d=\"M472,71h1.8000000000000682v8.999999999999986h-1.8000000000000682Z\" fill=\"#4c78a8\" fill-opacity=\"1\" stroke=\"#505050\" stroke-width=\"0\"/><path aria-label=\"x1: 236; x2: 236.9; level: 33; level2: 33.9; status: Default; sf: shapeindexer at broadcast.jl:587 [inlined]\" role=\"graphics-symbol\" aria-roledescription=\"rect mark\" d=\"M472,61.00000000000003h1.8000000000000682v8.999999999999986h-1.8000000000000682Z\" fill=\"#4c78a8\" fill-opacity=\"1\" stroke=\"#505050\" stroke-width=\"0\"/><path aria-label=\"x1: 236; x2: 236.9; level: 34; level2: 34.9; status: Default; sf: _newindexer at broadcast.jl:591 [inlined]\" role=\"graphics-symbol\" aria-roledescription=\"rect mark\" d=\"M472,51.00000000000002h1.8000000000000682v8.999999999999986h-1.8000000000000682Z\" fill=\"#4c78a8\" fill-opacity=\"1\" stroke=\"#505050\" stroke-width=\"0\"/><path aria-label=\"x1: 236; x2: 236.9; level: 35; level2: 35.9; status: Default; sf: _newindexer at broadcast.jl:592 [inlined]\" role=\"graphics-symbol\" aria-roledescription=\"rect mark\" d=\"M472,41.000000000000014h1.8000000000000682v8.999999999999986h-1.8000000000000682Z\" fill=\"#4c78a8\" fill-opacity=\"1\" stroke=\"#505050\" stroke-width=\"0\"/><path aria-label=\"x1: 236; x2: 236.9; level: 36; level2: 36.9; status: Default; sf: != at operators.jl:282 [inlined]\" role=\"graphics-symbol\" aria-roledescription=\"rect mark\" d=\"M472,31.000000000000007h1.8000000000000682v8.999999999999986h-1.8000000000000682Z\" fill=\"#4c78a8\" fill-opacity=\"1\" stroke=\"#505050\" stroke-width=\"0\"/><path aria-label=\"x1: 236; x2: 236.9; level: 37; level2: 37.9; status: Default; sf: == at promotion.jl:477 [inlined]\" role=\"graphics-symbol\" aria-roledescription=\"rect mark\" d=\"M472,20.999999999999996h1.8000000000000682v8.999999999999986h-1.8000000000000682Z\" fill=\"#4c78a8\" fill-opacity=\"1\" stroke=\"#505050\" stroke-width=\"0\"/><path aria-label=\"x1: 237; x2: 239.9; level: 27; level2: 27.9; status: Default; sf: copyto! at broadcast.jl:960 [inlined]\" role=\"graphics-symbol\" aria-roledescription=\"rect mark\" d=\"M474,121h5.800000000000011v8.999999999999972h-5.800000000000011Z\" fill=\"#4c78a8\" fill-opacity=\"1\" stroke=\"#505050\" stroke-width=\"0\"/><path aria-label=\"x1: 237; x2: 238.9; level: 28; level2: 28.9; status: Default; sf: macro expansion at simdloop.jl:75 [inlined]\" role=\"graphics-symbol\" aria-roledescription=\"rect mark\" d=\"M474,111.00000000000003h3.800000000000068v8.999999999999986h-3.800000000000068Z\" fill=\"#4c78a8\" fill-opacity=\"1\" stroke=\"#505050\" stroke-width=\"0\"/><path aria-label=\"x1: 239; x2: 239.9; level: 28; level2: 28.9; status: Default; sf: macro expansion at simdloop.jl:77 [inlined]\" role=\"graphics-symbol\" aria-roledescription=\"rect mark\" d=\"M478,111.00000000000003h1.8000000000000114v8.999999999999986h-1.8000000000000114Z\" fill=\"#4c78a8\" fill-opacity=\"1\" stroke=\"#505050\" stroke-width=\"0\"/><path aria-label=\"x1: 239; x2: 239.9; level: 29; level2: 29.9; status: Default; sf: macro expansion at broadcast.jl:961 [inlined]\" role=\"graphics-symbol\" aria-roledescription=\"rect mark\" d=\"M478,101.00000000000003h1.8000000000000114v8.999999999999986h-1.8000000000000114Z\" fill=\"#4c78a8\" fill-opacity=\"1\" stroke=\"#505050\" stroke-width=\"0\"/><path aria-label=\"x1: 239; x2: 239.9; level: 30; level2: 30.9; status: Default; sf: getindex at broadcast.jl:597 [inlined]\" role=\"graphics-symbol\" aria-roledescription=\"rect mark\" d=\"M478,91.00000000000001h1.8000000000000114v8.999999999999986h-1.8000000000000114Z\" fill=\"#4c78a8\" fill-opacity=\"1\" stroke=\"#505050\" stroke-width=\"0\"/><path aria-label=\"x1: 239; x2: 239.9; level: 31; level2: 31.9; status: Default; sf: _broadcast_getindex at broadcast.jl:643 [inlined]\" role=\"graphics-symbol\" aria-roledescription=\"rect mark\" d=\"M478,81h1.8000000000000114v8.999999999999986h-1.8000000000000114Z\" fill=\"#4c78a8\" fill-opacity=\"1\" stroke=\"#505050\" stroke-width=\"0\"/><path aria-label=\"x1: 239; x2: 239.9; level: 32; level2: 32.9; status: Default; sf: _broadcast_getindex_evalf at broadcast.jl:670 [inlined]\" role=\"graphics-symbol\" aria-roledescription=\"rect mark\" d=\"M478,71h1.8000000000000114v8.999999999999986h-1.8000000000000114Z\" fill=\"#4c78a8\" fill-opacity=\"1\" stroke=\"#505050\" stroke-width=\"0\"/><path aria-label=\"x1: 239; x2: 239.9; level: 33; level2: 33.9; status: Default; sf: * at complex.jl:290 [inlined]\" role=\"graphics-symbol\" aria-roledescription=\"rect mark\" d=\"M478,61.00000000000003h1.8000000000000114v8.999999999999986h-1.8000000000000114Z\" fill=\"#4c78a8\" fill-opacity=\"1\" stroke=\"#505050\" stroke-width=\"0\"/><path aria-label=\"x1: 239; x2: 239.9; level: 34; level2: 34.9; status: Default; sf: * at float.jl:385 [inlined]\" role=\"graphics-symbol\" aria-roledescription=\"rect mark\" d=\"M478,51.00000000000002h1.8000000000000114v8.999999999999986h-1.8000000000000114Z\" fill=\"#4c78a8\" fill-opacity=\"1\" stroke=\"#505050\" stroke-width=\"0\"/><path aria-label=\"x1: 240; x2: 252.9; level: 26; level2: 26.9; status: Default; sf: similar at broadcast.jl:211 [inlined]\" role=\"graphics-symbol\" aria-roledescription=\"rect mark\" d=\"M480,131h25.799999999999955v9h-25.799999999999955Z\" fill=\"#4c78a8\" fill-opacity=\"1\" stroke=\"#505050\" stroke-width=\"0\"/><path aria-label=\"x1: 240; x2: 252.9; level: 27; level2: 27.9; status: Default; sf: similar at broadcast.jl:212 [inlined]\" role=\"graphics-symbol\" aria-roledescription=\"rect mark\" d=\"M480,121h25.799999999999955v8.999999999999972h-25.799999999999955Z\" fill=\"#4c78a8\" fill-opacity=\"1\" stroke=\"#505050\" stroke-width=\"0\"/><path aria-label=\"x1: 240; x2: 252.9; level: 28; level2: 28.9; status: Default; sf: similar at abstractarray.jl:840 [inlined]\" role=\"graphics-symbol\" aria-roledescription=\"rect mark\" d=\"M480,111.00000000000003h25.799999999999955v8.999999999999986h-25.799999999999955Z\" fill=\"#4c78a8\" fill-opacity=\"1\" stroke=\"#505050\" stroke-width=\"0\"/><path aria-label=\"x1: 240; x2: 252.9; level: 29; level2: 29.9; status: Default; sf: similar at abstractarray.jl:841 [inlined]\" role=\"graphics-symbol\" aria-roledescription=\"rect mark\" d=\"M480,101.00000000000003h25.799999999999955v8.999999999999986h-25.799999999999955Z\" fill=\"#4c78a8\" fill-opacity=\"1\" stroke=\"#505050\" stroke-width=\"0\"/><path aria-label=\"x1: 240; x2: 252.9; level: 30; level2: 30.9; status: Default; sf: Array at boot.jl:476 [inlined]\" role=\"graphics-symbol\" aria-roledescription=\"rect mark\" d=\"M480,91.00000000000001h25.799999999999955v8.999999999999986h-25.799999999999955Z\" fill=\"#4c78a8\" fill-opacity=\"1\" stroke=\"#505050\" stroke-width=\"0\"/><path aria-label=\"x1: 240; x2: 252.9; level: 31; level2: 31.9; status: Default; sf: Array at boot.jl:469 [inlined]\" role=\"graphics-symbol\" aria-roledescription=\"rect mark\" d=\"M480,81h25.799999999999955v8.999999999999986h-25.799999999999955Z\" fill=\"#4c78a8\" fill-opacity=\"1\" stroke=\"#505050\" stroke-width=\"0\"/><path aria-label=\"x1: 240; x2: 252.9; level: 32; level2: 32.9; status: Garbage collection; sf: Array at boot.jl:461 [inlined]\" role=\"graphics-symbol\" aria-roledescription=\"rect mark\" d=\"M480,71h25.799999999999955v8.999999999999986h-25.799999999999955Z\" fill=\"#f58518\" fill-opacity=\"1\" stroke=\"#505050\" stroke-width=\"0\"/><path aria-label=\"x1: 253; x2: 253.9; level: 25; level2: 25.9; status: Default; sf: instantiate at broadcast.jl:281 [inlined]\" role=\"graphics-symbol\" aria-roledescription=\"rect mark\" d=\"M505.99999999999994,141h1.8000000000000682v9h-1.8000000000000682Z\" fill=\"#4c78a8\" fill-opacity=\"1\" stroke=\"#505050\" stroke-width=\"0\"/><path aria-label=\"x1: 253; x2: 253.9; level: 26; level2: 26.9; status: Default; sf: combine_axes at broadcast.jl:499 [inlined]\" role=\"graphics-symbol\" aria-roledescription=\"rect mark\" d=\"M505.99999999999994,131h1.8000000000000682v9h-1.8000000000000682Z\" fill=\"#4c78a8\" fill-opacity=\"1\" stroke=\"#505050\" stroke-width=\"0\"/><path aria-label=\"x1: 253; x2: 253.9; level: 27; level2: 27.9; status: Default; sf: axes at abstractarray.jl:95 [inlined]\" role=\"graphics-symbol\" aria-roledescription=\"rect mark\" d=\"M505.99999999999994,121h1.8000000000000682v8.999999999999972h-1.8000000000000682Z\" fill=\"#4c78a8\" fill-opacity=\"1\" stroke=\"#505050\" stroke-width=\"0\"/><path aria-label=\"x1: 253; x2: 253.9; level: 28; level2: 28.9; status: Default; sf: size at array.jl:152 [inlined]\" role=\"graphics-symbol\" aria-roledescription=\"rect mark\" d=\"M505.99999999999994,111.00000000000003h1.8000000000000682v8.999999999999986h-1.8000000000000682Z\" fill=\"#4c78a8\" fill-opacity=\"1\" stroke=\"#505050\" stroke-width=\"0\"/><path aria-label=\"x1: 255; x2: 326.9; level: 21; level2: 21.9; status: Runtime dispatch; sf: apply_field!(lo::LatticeVecOrMat{Matrix{ComplexF64}}, field::Landau) at field.jl:42\" role=\"graphics-symbol\" aria-roledescription=\"rect mark\" d=\"M509.99999999999994,181h143.8v9h-143.8Z\" fill=\"#e45756\" fill-opacity=\"1\" stroke=\"#505050\" stroke-width=\"0\"/><path aria-label=\"x1: 255; x2: 275.9; level: 22; level2: 22.9; status: Default; sf: getindex at abstractarray.jl:1241 [inlined]\" role=\"graphics-symbol\" aria-roledescription=\"rect mark\" d=\"M509.99999999999994,171h41.80000000000001v8.999999999999972h-41.80000000000001Z\" fill=\"#4c78a8\" fill-opacity=\"1\" stroke=\"#505050\" stroke-width=\"0\"/><path aria-label=\"x1: 255; x2: 256.9; level: 23; level2: 23.9; status: Default; sf: _getindex at multidimensional.jl:874 [inlined]\" role=\"graphics-symbol\" aria-roledescription=\"rect mark\" d=\"M509.99999999999994,161.00000000000003h3.8000000000000114v9h-3.8000000000000114Z\" fill=\"#4c78a8\" fill-opacity=\"1\" stroke=\"#505050\" stroke-width=\"0\"/><path aria-label=\"x1: 255; x2: 256.9; level: 24; level2: 24.9; status: Default; sf: checkbounds at abstractarray.jl:668 [inlined]\" role=\"graphics-symbol\" aria-roledescription=\"rect mark\" d=\"M509.99999999999994,151.00000000000003h3.8000000000000114v8.999999999999972h-3.8000000000000114Z\" fill=\"#4c78a8\" fill-opacity=\"1\" stroke=\"#505050\" stroke-width=\"0\"/><path aria-label=\"x1: 255; x2: 256.9; level: 25; level2: 25.9; status: Default; sf: checkbounds at abstractarray.jl:647 [inlined]\" role=\"graphics-symbol\" aria-roledescription=\"rect mark\" d=\"M509.99999999999994,141h3.8000000000000114v9h-3.8000000000000114Z\" fill=\"#4c78a8\" fill-opacity=\"1\" stroke=\"#505050\" stroke-width=\"0\"/><path aria-label=\"x1: 255; x2: 256.9; level: 26; level2: 26.9; status: Default; sf: checkbounds_indices at abstractarray.jl:694 [inlined]\" role=\"graphics-symbol\" aria-roledescription=\"rect mark\" d=\"M509.99999999999994,131h3.8000000000000114v9h-3.8000000000000114Z\" fill=\"#4c78a8\" fill-opacity=\"1\" stroke=\"#505050\" stroke-width=\"0\"/><path aria-label=\"x1: 255; x2: 255.9; level: 27; level2: 27.9; status: Default; sf: checkbounds_indices at abstractarray.jl:694 [inlined]\" role=\"graphics-symbol\" aria-roledescription=\"rect mark\" d=\"M509.99999999999994,121h1.8000000000000682v8.999999999999972h-1.8000000000000682Z\" fill=\"#4c78a8\" fill-opacity=\"1\" stroke=\"#505050\" stroke-width=\"0\"/><path aria-label=\"x1: 255; x2: 255.9; level: 28; level2: 28.9; status: Default; sf: checkindex at abstractarray.jl:732 [inlined]\" role=\"graphics-symbol\" aria-roledescription=\"rect mark\" d=\"M509.99999999999994,111.00000000000003h1.8000000000000682v8.999999999999986h-1.8000000000000682Z\" fill=\"#4c78a8\" fill-opacity=\"1\" stroke=\"#505050\" stroke-width=\"0\"/><path aria-label=\"x1: 255; x2: 255.9; level: 29; level2: 29.9; status: Default; sf: checkindex at abstractarray.jl:727 [inlined]\" role=\"graphics-symbol\" aria-roledescription=\"rect mark\" d=\"M509.99999999999994,101.00000000000003h1.8000000000000682v8.999999999999986h-1.8000000000000682Z\" fill=\"#4c78a8\" fill-opacity=\"1\" stroke=\"#505050\" stroke-width=\"0\"/><path aria-label=\"x1: 255; x2: 255.9; level: 30; level2: 30.9; status: Default; sf: &lt;= at int.jl:481 [inlined]\" role=\"graphics-symbol\" aria-roledescription=\"rect mark\" d=\"M509.99999999999994,91.00000000000001h1.8000000000000682v8.999999999999986h-1.8000000000000682Z\" fill=\"#4c78a8\" fill-opacity=\"1\" stroke=\"#505050\" stroke-width=\"0\"/><path aria-label=\"x1: 256; x2: 256.9; level: 27; level2: 27.9; status: Default; sf: checkindex at abstractarray.jl:732 [inlined]\" role=\"graphics-symbol\" aria-roledescription=\"rect mark\" d=\"M512,121h1.7999999999999545v8.999999999999972h-1.7999999999999545Z\" fill=\"#4c78a8\" fill-opacity=\"1\" stroke=\"#505050\" stroke-width=\"0\"/><path aria-label=\"x1: 256; x2: 256.9; level: 28; level2: 28.9; status: Default; sf: checkindex at abstractarray.jl:727 [inlined]\" role=\"graphics-symbol\" aria-roledescription=\"rect mark\" d=\"M512,111.00000000000003h1.7999999999999545v8.999999999999986h-1.7999999999999545Z\" fill=\"#4c78a8\" fill-opacity=\"1\" stroke=\"#505050\" stroke-width=\"0\"/><path aria-label=\"x1: 256; x2: 256.9; level: 29; level2: 29.9; status: Default; sf: &lt;= at int.jl:481 [inlined]\" role=\"graphics-symbol\" aria-roledescription=\"rect mark\" d=\"M512,101.00000000000003h1.7999999999999545v8.999999999999986h-1.7999999999999545Z\" fill=\"#4c78a8\" fill-opacity=\"1\" stroke=\"#505050\" stroke-width=\"0\"/><path aria-label=\"x1: 257; x2: 275.9; level: 23; level2: 23.9; status: Default; sf: _getindex at multidimensional.jl:875 [inlined]\" role=\"graphics-symbol\" aria-roledescription=\"rect mark\" d=\"M514,161.00000000000003h37.799999999999955v9h-37.799999999999955Z\" fill=\"#4c78a8\" fill-opacity=\"1\" stroke=\"#505050\" stroke-width=\"0\"/><path aria-label=\"x1: 257; x2: 257.9; level: 24; level2: 24.9; status: Default; sf: _unsafe_getindex(::IndexLinear, ::Matrix{ComplexF64}, ::UnitRange{Int64}, ::UnitRange{Int64}) at multidimensional.jl:884\" role=\"graphics-symbol\" aria-roledescription=\"rect mark\" d=\"M514,151.00000000000003h1.7999999999999545v8.999999999999972h-1.7999999999999545Z\" fill=\"#4c78a8\" fill-opacity=\"1\" stroke=\"#505050\" stroke-width=\"0\"/><path aria-label=\"x1: 258; x2: 258.9; level: 24; level2: 24.9; status: Default; sf: _unsafe_getindex(::IndexLinear, ::Matrix{ComplexF64}, ::UnitRange{Int64}, ::UnitRange{Int64}) at multidimensional.jl:886\" role=\"graphics-symbol\" aria-roledescription=\"rect mark\" d=\"M516,151.00000000000003h1.7999999999999545v8.999999999999972h-1.7999999999999545Z\" fill=\"#4c78a8\" fill-opacity=\"1\" stroke=\"#505050\" stroke-width=\"0\"/><path aria-label=\"x1: 258; x2: 258.9; level: 25; level2: 25.9; status: Default; sf: index_shape at multidimensional.jl:748 [inlined]\" role=\"graphics-symbol\" aria-roledescription=\"rect mark\" d=\"M516,141h1.7999999999999545v9h-1.7999999999999545Z\" fill=\"#4c78a8\" fill-opacity=\"1\" stroke=\"#505050\" stroke-width=\"0\"/><path aria-label=\"x1: 258; x2: 258.9; level: 26; level2: 26.9; status: Default; sf: index_shape at multidimensional.jl:748 [inlined]\" role=\"graphics-symbol\" aria-roledescription=\"rect mark\" d=\"M516,131h1.7999999999999545v9h-1.7999999999999545Z\" fill=\"#4c78a8\" fill-opacity=\"1\" stroke=\"#505050\" stroke-width=\"0\"/><path aria-label=\"x1: 258; x2: 258.9; level: 27; level2: 27.9; status: Default; sf: axes at range.jl:688 [inlined]\" role=\"graphics-symbol\" aria-roledescription=\"rect mark\" d=\"M516,121h1.7999999999999545v8.999999999999972h-1.7999999999999545Z\" fill=\"#4c78a8\" fill-opacity=\"1\" stroke=\"#505050\" stroke-width=\"0\"/><path aria-label=\"x1: 258; x2: 258.9; level: 28; level2: 28.9; status: Default; sf: length at range.jl:745 [inlined]\" role=\"graphics-symbol\" aria-roledescription=\"rect mark\" d=\"M516,111.00000000000003h1.7999999999999545v8.999999999999986h-1.7999999999999545Z\" fill=\"#4c78a8\" fill-opacity=\"1\" stroke=\"#505050\" stroke-width=\"0\"/><path aria-label=\"x1: 258; x2: 258.9; level: 29; level2: 29.9; status: Default; sf: - at int.jl:86 [inlined]\" role=\"graphics-symbol\" aria-roledescription=\"rect mark\" d=\"M516,101.00000000000003h1.7999999999999545v8.999999999999986h-1.7999999999999545Z\" fill=\"#4c78a8\" fill-opacity=\"1\" stroke=\"#505050\" stroke-width=\"0\"/><path aria-label=\"x1: 259; x2: 269.9; level: 24; level2: 24.9; status: Default; sf: _unsafe_getindex(::IndexLinear, ::Matrix{ComplexF64}, ::UnitRange{Int64}, ::UnitRange{Int64}) at multidimensional.jl:887\" role=\"graphics-symbol\" aria-roledescription=\"rect mark\" d=\"M518,151.00000000000003h21.799999999999955v8.999999999999972h-21.799999999999955Z\" fill=\"#4c78a8\" fill-opacity=\"1\" stroke=\"#505050\" stroke-width=\"0\"/><path aria-label=\"x1: 259; x2: 269.9; level: 25; level2: 25.9; status: Default; sf: similar at abstractarray.jl:795 [inlined]\" role=\"graphics-symbol\" aria-roledescription=\"rect mark\" d=\"M518,141h21.799999999999955v9h-21.799999999999955Z\" fill=\"#4c78a8\" fill-opacity=\"1\" stroke=\"#505050\" stroke-width=\"0\"/><path aria-label=\"x1: 259; x2: 269.9; level: 26; level2: 26.9; status: Default; sf: similar at array.jl:378 [inlined]\" role=\"graphics-symbol\" aria-roledescription=\"rect mark\" d=\"M518,131h21.799999999999955v9h-21.799999999999955Z\" fill=\"#4c78a8\" fill-opacity=\"1\" stroke=\"#505050\" stroke-width=\"0\"/><path aria-label=\"x1: 259; x2: 269.9; level: 27; level2: 27.9; status: Default; sf: Array at boot.jl:469 [inlined]\" role=\"graphics-symbol\" aria-roledescription=\"rect mark\" d=\"M518,121h21.799999999999955v8.999999999999972h-21.799999999999955Z\" fill=\"#4c78a8\" fill-opacity=\"1\" stroke=\"#505050\" stroke-width=\"0\"/><path aria-label=\"x1: 259; x2: 269.9; level: 28; level2: 28.9; status: Garbage collection; sf: Array at boot.jl:461 [inlined]\" role=\"graphics-symbol\" aria-roledescription=\"rect mark\" d=\"M518,111.00000000000003h21.799999999999955v8.999999999999986h-21.799999999999955Z\" fill=\"#f58518\" fill-opacity=\"1\" stroke=\"#505050\" stroke-width=\"0\"/><path aria-label=\"x1: 270; x2: 274.9; level: 24; level2: 24.9; status: Default; sf: _unsafe_getindex(::IndexLinear, ::Matrix{ComplexF64}, ::UnitRange{Int64}, ::UnitRange{Int64}) at multidimensional.jl:889\" role=\"graphics-symbol\" aria-roledescription=\"rect mark\" d=\"M540,151.00000000000003h9.799999999999955v8.999999999999972h-9.799999999999955Z\" fill=\"#4c78a8\" fill-opacity=\"1\" stroke=\"#505050\" stroke-width=\"0\"/><path aria-label=\"x1: 270; x2: 274.9; level: 25; level2: 25.9; status: Default; sf: _unsafe_getindex! at multidimensional.jl:898 [inlined]\" role=\"graphics-symbol\" aria-roledescription=\"rect mark\" d=\"M540,141h9.799999999999955v9h-9.799999999999955Z\" fill=\"#4c78a8\" fill-opacity=\"1\" stroke=\"#505050\" stroke-width=\"0\"/><path aria-label=\"x1: 270; x2: 274.9; level: 26; level2: 26.9; status: Default; sf: macro expansion at cartesian.jl:64 [inlined]\" role=\"graphics-symbol\" aria-roledescription=\"rect mark\" d=\"M540,131h9.799999999999955v9h-9.799999999999955Z\" fill=\"#4c78a8\" fill-opacity=\"1\" stroke=\"#505050\" stroke-width=\"0\"/><path aria-label=\"x1: 270; x2: 270.9; level: 27; level2: 27.9; status: Default; sf: macro expansion at multidimensional.jl:901 [inlined]\" role=\"graphics-symbol\" aria-roledescription=\"rect mark\" d=\"M540,121h1.7999999999999545v8.999999999999972h-1.7999999999999545Z\" fill=\"#4c78a8\" fill-opacity=\"1\" stroke=\"#505050\" stroke-width=\"0\"/><path aria-label=\"x1: 271; x2: 273.9; level: 27; level2: 27.9; status: Default; sf: macro expansion at multidimensional.jl:903 [inlined]\" role=\"graphics-symbol\" aria-roledescription=\"rect mark\" d=\"M542,121h5.7999999999999545v8.999999999999972h-5.7999999999999545Z\" fill=\"#4c78a8\" fill-opacity=\"1\" stroke=\"#505050\" stroke-width=\"0\"/><path aria-label=\"x1: 271; x2: 273.9; level: 28; level2: 28.9; status: Default; sf: setindex! at array.jl:966 [inlined]\" role=\"graphics-symbol\" aria-roledescription=\"rect mark\" d=\"M542,111.00000000000003h5.7999999999999545v8.999999999999986h-5.7999999999999545Z\" fill=\"#4c78a8\" fill-opacity=\"1\" stroke=\"#505050\" stroke-width=\"0\"/><path aria-label=\"x1: 274; x2: 274.9; level: 27; level2: 27.9; status: Default; sf: macro expansion at multidimensional.jl:904 [inlined]\" role=\"graphics-symbol\" aria-roledescription=\"rect mark\" d=\"M548,121h1.7999999999999545v8.999999999999972h-1.7999999999999545Z\" fill=\"#4c78a8\" fill-opacity=\"1\" stroke=\"#505050\" stroke-width=\"0\"/><path aria-label=\"x1: 274; x2: 274.9; level: 28; level2: 28.9; status: Default; sf: iterate at range.jl:883 [inlined]\" role=\"graphics-symbol\" aria-roledescription=\"rect mark\" d=\"M548,111.00000000000003h1.7999999999999545v8.999999999999986h-1.7999999999999545Z\" fill=\"#4c78a8\" fill-opacity=\"1\" stroke=\"#505050\" stroke-width=\"0\"/><path aria-label=\"x1: 274; x2: 274.9; level: 29; level2: 29.9; status: Default; sf: == at promotion.jl:477 [inlined]\" role=\"graphics-symbol\" aria-roledescription=\"rect mark\" d=\"M548,101.00000000000003h1.7999999999999545v8.999999999999986h-1.7999999999999545Z\" fill=\"#4c78a8\" fill-opacity=\"1\" stroke=\"#505050\" stroke-width=\"0\"/><path aria-label=\"x1: 275; x2: 275.9; level: 24; level2: 24.9; status: Default; sf: _unsafe_getindex(::IndexLinear, ::Matrix{ComplexF64}, ::UnitRange{Int64}, ::UnitRange{Int64}) at multidimensional.jl:890\" role=\"graphics-symbol\" aria-roledescription=\"rect mark\" d=\"M550,151.00000000000003h1.7999999999999545v8.999999999999972h-1.7999999999999545Z\" fill=\"#4c78a8\" fill-opacity=\"1\" stroke=\"#505050\" stroke-width=\"0\"/><path aria-label=\"x1: 276; x2: 298.9; level: 22; level2: 22.9; status: Default; sf: setindex! at abstractarray.jl:1344 [inlined]\" role=\"graphics-symbol\" aria-roledescription=\"rect mark\" d=\"M552,171h45.799999999999955v8.999999999999972h-45.799999999999955Z\" fill=\"#4c78a8\" fill-opacity=\"1\" stroke=\"#505050\" stroke-width=\"0\"/><path aria-label=\"x1: 276; x2: 298.9; level: 23; level2: 23.9; status: Garbage collection; sf: _setindex! at multidimensional.jl:930 [inlined]\" role=\"graphics-symbol\" aria-roledescription=\"rect mark\" d=\"M552,161.00000000000003h45.799999999999955v9h-45.799999999999955Z\" fill=\"#f58518\" fill-opacity=\"1\" stroke=\"#505050\" stroke-width=\"0\"/><path aria-label=\"x1: 293; x2: 294.9; level: 24; level2: 24.9; status: Default; sf: _unsafe_setindex!(::IndexLinear, ::Matrix{ComplexF64}, ::Matrix{ComplexF64}, ::UnitRange{Int64}, ::UnitRange{Int64}) at multidimensional.jl:941\" role=\"graphics-symbol\" aria-roledescription=\"rect mark\" d=\"M586,151.00000000000003h3.7999999999999545v8.999999999999972h-3.7999999999999545Z\" fill=\"#4c78a8\" fill-opacity=\"1\" stroke=\"#505050\" stroke-width=\"0\"/><path aria-label=\"x1: 293; x2: 294.9; level: 25; level2: 25.9; status: Default; sf: macro expansion at cartesian.jl:64 [inlined]\" role=\"graphics-symbol\" aria-roledescription=\"rect mark\" d=\"M586,141h3.7999999999999545v9h-3.7999999999999545Z\" fill=\"#4c78a8\" fill-opacity=\"1\" stroke=\"#505050\" stroke-width=\"0\"/><path aria-label=\"x1: 293; x2: 293.9; level: 26; level2: 26.9; status: Default; sf: macro expansion at multidimensional.jl:944 [inlined]\" role=\"graphics-symbol\" aria-roledescription=\"rect mark\" d=\"M586,131h1.7999999999999545v9h-1.7999999999999545Z\" fill=\"#4c78a8\" fill-opacity=\"1\" stroke=\"#505050\" stroke-width=\"0\"/><path aria-label=\"x1: 294; x2: 294.9; level: 26; level2: 26.9; status: Default; sf: macro expansion at multidimensional.jl:947 [inlined]\" role=\"graphics-symbol\" aria-roledescription=\"rect mark\" d=\"M588,131h1.7999999999999545v9h-1.7999999999999545Z\" fill=\"#4c78a8\" fill-opacity=\"1\" stroke=\"#505050\" stroke-width=\"0\"/><path aria-label=\"x1: 294; x2: 294.9; level: 27; level2: 27.9; status: Default; sf: iterate at array.jl:898 [inlined]\" role=\"graphics-symbol\" aria-roledescription=\"rect mark\" d=\"M588,121h1.7999999999999545v8.999999999999972h-1.7999999999999545Z\" fill=\"#4c78a8\" fill-opacity=\"1\" stroke=\"#505050\" stroke-width=\"0\"/><path aria-label=\"x1: 294; x2: 294.9; level: 28; level2: 28.9; status: Default; sf: getindex at array.jl:924 [inlined]\" role=\"graphics-symbol\" aria-roledescription=\"rect mark\" d=\"M588,111.00000000000003h1.7999999999999545v8.999999999999986h-1.7999999999999545Z\" fill=\"#4c78a8\" fill-opacity=\"1\" stroke=\"#505050\" stroke-width=\"0\"/><path aria-label=\"x1: 295; x2: 295.9; level: 24; level2: 24.9; status: Default; sf: _unsafe_setindex!(::IndexLinear, ::Matrix{ComplexF64}, ::Matrix{ComplexF64}, ::UnitRange{Int64}, ::UnitRange{Int64}) at multidimensional.jl:961\" role=\"graphics-symbol\" aria-roledescription=\"rect mark\" d=\"M590,151.00000000000003h1.7999999999999545v8.999999999999972h-1.7999999999999545Z\" fill=\"#4c78a8\" fill-opacity=\"1\" stroke=\"#505050\" stroke-width=\"0\"/><path aria-label=\"x1: 305; x2: 320.9; level: 22; level2: 22.9; status: Default; sf: *(A::Matrix{ComplexF64}, B::ComplexF64) at arraymath.jl:24\" role=\"graphics-symbol\" aria-roledescription=\"rect mark\" d=\"M610,171h31.799999999999955v8.999999999999972h-31.799999999999955Z\" fill=\"#4c78a8\" fill-opacity=\"1\" stroke=\"#505050\" stroke-width=\"0\"/><path aria-label=\"x1: 305; x2: 319.9; level: 23; level2: 23.9; status: Default; sf: broadcast_preserving_zero_d at broadcast.jl:849 [inlined]\" role=\"graphics-symbol\" aria-roledescription=\"rect mark\" d=\"M610,161.00000000000003h29.799999999999955v9h-29.799999999999955Z\" fill=\"#4c78a8\" fill-opacity=\"1\" stroke=\"#505050\" stroke-width=\"0\"/><path aria-label=\"x1: 305; x2: 319.9; level: 24; level2: 24.9; status: Default; sf: materialize at broadcast.jl:860 [inlined]\" role=\"graphics-symbol\" aria-roledescription=\"rect mark\" d=\"M610,151.00000000000003h29.799999999999955v8.999999999999972h-29.799999999999955Z\" fill=\"#4c78a8\" fill-opacity=\"1\" stroke=\"#505050\" stroke-width=\"0\"/><path aria-label=\"x1: 305; x2: 319.9; level: 25; level2: 25.9; status: Default; sf: copy at broadcast.jl:885 [inlined]\" role=\"graphics-symbol\" aria-roledescription=\"rect mark\" d=\"M610,141h29.799999999999955v9h-29.799999999999955Z\" fill=\"#4c78a8\" fill-opacity=\"1\" stroke=\"#505050\" stroke-width=\"0\"/><path aria-label=\"x1: 305; x2: 307.9; level: 26; level2: 26.9; status: Default; sf: copyto! at broadcast.jl:913 [inlined]\" role=\"graphics-symbol\" aria-roledescription=\"rect mark\" d=\"M610,131h5.7999999999999545v9h-5.7999999999999545Z\" fill=\"#4c78a8\" fill-opacity=\"1\" stroke=\"#505050\" stroke-width=\"0\"/><path aria-label=\"x1: 305; x2: 305.9; level: 27; level2: 27.9; status: Default; sf: copyto! at broadcast.jl:957 [inlined]\" role=\"graphics-symbol\" aria-roledescription=\"rect mark\" d=\"M610,121h1.7999999999999545v8.999999999999972h-1.7999999999999545Z\" fill=\"#4c78a8\" fill-opacity=\"1\" stroke=\"#505050\" stroke-width=\"0\"/><path aria-label=\"x1: 305; x2: 305.9; level: 28; level2: 28.9; status: Default; sf: preprocess at broadcast.jl:940 [inlined]\" role=\"graphics-symbol\" aria-roledescription=\"rect mark\" d=\"M610,111.00000000000003h1.7999999999999545v8.999999999999986h-1.7999999999999545Z\" fill=\"#4c78a8\" fill-opacity=\"1\" stroke=\"#505050\" stroke-width=\"0\"/><path aria-label=\"x1: 305; x2: 305.9; level: 29; level2: 29.9; status: Default; sf: preprocess_args at broadcast.jl:943 [inlined]\" role=\"graphics-symbol\" aria-roledescription=\"rect mark\" d=\"M610,101.00000000000003h1.7999999999999545v8.999999999999986h-1.7999999999999545Z\" fill=\"#4c78a8\" fill-opacity=\"1\" stroke=\"#505050\" stroke-width=\"0\"/><path aria-label=\"x1: 305; x2: 305.9; level: 30; level2: 30.9; status: Default; sf: preprocess at broadcast.jl:941 [inlined]\" role=\"graphics-symbol\" aria-roledescription=\"rect mark\" d=\"M610,91.00000000000001h1.7999999999999545v8.999999999999986h-1.7999999999999545Z\" fill=\"#4c78a8\" fill-opacity=\"1\" stroke=\"#505050\" stroke-width=\"0\"/><path aria-label=\"x1: 305; x2: 305.9; level: 31; level2: 31.9; status: Default; sf: extrude at broadcast.jl:637 [inlined]\" role=\"graphics-symbol\" aria-roledescription=\"rect mark\" d=\"M610,81h1.7999999999999545v8.999999999999986h-1.7999999999999545Z\" fill=\"#4c78a8\" fill-opacity=\"1\" stroke=\"#505050\" stroke-width=\"0\"/><path aria-label=\"x1: 305; x2: 305.9; level: 32; level2: 32.9; status: Default; sf: newindexer at broadcast.jl:586 [inlined]\" role=\"graphics-symbol\" aria-roledescription=\"rect mark\" d=\"M610,71h1.7999999999999545v8.999999999999986h-1.7999999999999545Z\" fill=\"#4c78a8\" fill-opacity=\"1\" stroke=\"#505050\" stroke-width=\"0\"/><path aria-label=\"x1: 305; x2: 305.9; level: 33; level2: 33.9; status: Default; sf: shapeindexer at broadcast.jl:587 [inlined]\" role=\"graphics-symbol\" aria-roledescription=\"rect mark\" d=\"M610,61.00000000000003h1.7999999999999545v8.999999999999986h-1.7999999999999545Z\" fill=\"#4c78a8\" fill-opacity=\"1\" stroke=\"#505050\" stroke-width=\"0\"/><path aria-label=\"x1: 305; x2: 305.9; level: 34; level2: 34.9; status: Default; sf: _newindexer at broadcast.jl:591 [inlined]\" role=\"graphics-symbol\" aria-roledescription=\"rect mark\" d=\"M610,51.00000000000002h1.7999999999999545v8.999999999999986h-1.7999999999999545Z\" fill=\"#4c78a8\" fill-opacity=\"1\" stroke=\"#505050\" stroke-width=\"0\"/><path aria-label=\"x1: 305; x2: 305.9; level: 35; level2: 35.9; status: Default; sf: _newindexer at broadcast.jl:592 [inlined]\" role=\"graphics-symbol\" aria-roledescription=\"rect mark\" d=\"M610,41.000000000000014h1.7999999999999545v8.999999999999986h-1.7999999999999545Z\" fill=\"#4c78a8\" fill-opacity=\"1\" stroke=\"#505050\" stroke-width=\"0\"/><path aria-label=\"x1: 305; x2: 305.9; level: 36; level2: 36.9; status: Default; sf: != at operators.jl:282 [inlined]\" role=\"graphics-symbol\" aria-roledescription=\"rect mark\" d=\"M610,31.000000000000007h1.7999999999999545v8.999999999999986h-1.7999999999999545Z\" fill=\"#4c78a8\" fill-opacity=\"1\" stroke=\"#505050\" stroke-width=\"0\"/><path aria-label=\"x1: 305; x2: 305.9; level: 37; level2: 37.9; status: Default; sf: == at promotion.jl:477 [inlined]\" role=\"graphics-symbol\" aria-roledescription=\"rect mark\" d=\"M610,20.999999999999996h1.7999999999999545v8.999999999999986h-1.7999999999999545Z\" fill=\"#4c78a8\" fill-opacity=\"1\" stroke=\"#505050\" stroke-width=\"0\"/><path aria-label=\"x1: 306; x2: 307.9; level: 27; level2: 27.9; status: Default; sf: copyto! at broadcast.jl:960 [inlined]\" role=\"graphics-symbol\" aria-roledescription=\"rect mark\" d=\"M612,121h3.7999999999999545v8.999999999999972h-3.7999999999999545Z\" fill=\"#4c78a8\" fill-opacity=\"1\" stroke=\"#505050\" stroke-width=\"0\"/><path aria-label=\"x1: 306; x2: 306.9; level: 28; level2: 28.9; status: Default; sf: macro expansion at simdloop.jl:75 [inlined]\" role=\"graphics-symbol\" aria-roledescription=\"rect mark\" d=\"M612,111.00000000000003h1.7999999999999545v8.999999999999986h-1.7999999999999545Z\" fill=\"#4c78a8\" fill-opacity=\"1\" stroke=\"#505050\" stroke-width=\"0\"/><path aria-label=\"x1: 307; x2: 307.9; level: 28; level2: 28.9; status: Default; sf: macro expansion at simdloop.jl:84 [inlined]\" role=\"graphics-symbol\" aria-roledescription=\"rect mark\" d=\"M614,111.00000000000003h1.7999999999999545v8.999999999999986h-1.7999999999999545Z\" fill=\"#4c78a8\" fill-opacity=\"1\" stroke=\"#505050\" stroke-width=\"0\"/><path aria-label=\"x1: 308; x2: 319.9; level: 26; level2: 26.9; status: Default; sf: similar at broadcast.jl:211 [inlined]\" role=\"graphics-symbol\" aria-roledescription=\"rect mark\" d=\"M616,131h23.799999999999955v9h-23.799999999999955Z\" fill=\"#4c78a8\" fill-opacity=\"1\" stroke=\"#505050\" stroke-width=\"0\"/><path aria-label=\"x1: 308; x2: 319.9; level: 27; level2: 27.9; status: Default; sf: similar at broadcast.jl:212 [inlined]\" role=\"graphics-symbol\" aria-roledescription=\"rect mark\" d=\"M616,121h23.799999999999955v8.999999999999972h-23.799999999999955Z\" fill=\"#4c78a8\" fill-opacity=\"1\" stroke=\"#505050\" stroke-width=\"0\"/><path aria-label=\"x1: 308; x2: 319.9; level: 28; level2: 28.9; status: Default; sf: similar at abstractarray.jl:840 [inlined]\" role=\"graphics-symbol\" aria-roledescription=\"rect mark\" d=\"M616,111.00000000000003h23.799999999999955v8.999999999999986h-23.799999999999955Z\" fill=\"#4c78a8\" fill-opacity=\"1\" stroke=\"#505050\" stroke-width=\"0\"/><path aria-label=\"x1: 308; x2: 319.9; level: 29; level2: 29.9; status: Default; sf: similar at abstractarray.jl:841 [inlined]\" role=\"graphics-symbol\" aria-roledescription=\"rect mark\" d=\"M616,101.00000000000003h23.799999999999955v8.999999999999986h-23.799999999999955Z\" fill=\"#4c78a8\" fill-opacity=\"1\" stroke=\"#505050\" stroke-width=\"0\"/><path aria-label=\"x1: 308; x2: 319.9; level: 30; level2: 30.9; status: Default; sf: Array at boot.jl:476 [inlined]\" role=\"graphics-symbol\" aria-roledescription=\"rect mark\" d=\"M616,91.00000000000001h23.799999999999955v8.999999999999986h-23.799999999999955Z\" fill=\"#4c78a8\" fill-opacity=\"1\" stroke=\"#505050\" stroke-width=\"0\"/><path aria-label=\"x1: 308; x2: 319.9; level: 31; level2: 31.9; status: Default; sf: Array at boot.jl:469 [inlined]\" role=\"graphics-symbol\" aria-roledescription=\"rect mark\" d=\"M616,81h23.799999999999955v8.999999999999986h-23.799999999999955Z\" fill=\"#4c78a8\" fill-opacity=\"1\" stroke=\"#505050\" stroke-width=\"0\"/><path aria-label=\"x1: 308; x2: 319.9; level: 32; level2: 32.9; status: Garbage collection; sf: Array at boot.jl:461 [inlined]\" role=\"graphics-symbol\" aria-roledescription=\"rect mark\" d=\"M616,71h23.799999999999955v8.999999999999986h-23.799999999999955Z\" fill=\"#f58518\" fill-opacity=\"1\" stroke=\"#505050\" stroke-width=\"0\"/><path aria-label=\"x1: 327; x2: 357.9; level: 21; level2: 21.9; status: Runtime dispatch; sf: apply_field!(lo::LatticeVecOrMat{Matrix{ComplexF64}}, field::Landau) at field.jl:45\" role=\"graphics-symbol\" aria-roledescription=\"rect mark\" d=\"M654,181h61.799999999999955v9h-61.799999999999955Z\" fill=\"#e45756\" fill-opacity=\"1\" stroke=\"#505050\" stroke-width=\"0\"/><path aria-label=\"x1: 339; x2: 339.9; level: 22; level2: 22.9; status: Default; sf: iterate(l::SquareLattice, state::Tuple{LatticeIndex, Int64, Int64}) at lattice.jl:57\" role=\"graphics-symbol\" aria-roledescription=\"rect mark\" d=\"M678,171h1.7999999999999545v8.999999999999972h-1.7999999999999545Z\" fill=\"#4c78a8\" fill-opacity=\"1\" stroke=\"#505050\" stroke-width=\"0\"/><path aria-label=\"x1: 340; x2: 347.9; level: 22; level2: 22.9; status: Default; sf: iterate(l::SquareLattice, state::Tuple{LatticeIndex, Int64, Int64}) at lattice.jl:59\" role=\"graphics-symbol\" aria-roledescription=\"rect mark\" d=\"M680,171h15.799999999999955v8.999999999999972h-15.799999999999955Z\" fill=\"#4c78a8\" fill-opacity=\"1\" stroke=\"#505050\" stroke-width=\"0\"/><path aria-label=\"x1: 340; x2: 343.9; level: 23; level2: 23.9; status: Default; sf: proceed!(l::SquareLattice, bvs_len::Int64, site::LatticeIndex) at lattice.jl:34\" role=\"graphics-symbol\" aria-roledescription=\"rect mark\" d=\"M680,161.00000000000003h7.7999999999999545v9h-7.7999999999999545Z\" fill=\"#4c78a8\" fill-opacity=\"1\" stroke=\"#505050\" stroke-width=\"0\"/><path aria-label=\"x1: 344; x2: 346.9; level: 23; level2: 23.9; status: Default; sf: proceed!(l::SquareLattice, bvs_len::Int64, site::LatticeIndex) at lattice.jl:35\" role=\"graphics-symbol\" aria-roledescription=\"rect mark\" d=\"M688,161.00000000000003h5.7999999999999545v9h-5.7999999999999545Z\" fill=\"#4c78a8\" fill-opacity=\"1\" stroke=\"#505050\" stroke-width=\"0\"/><path aria-label=\"x1: 344; x2: 346.9; level: 24; level2: 24.9; status: Default; sf: == at array.jl:1759 [inlined]\" role=\"graphics-symbol\" aria-roledescription=\"rect mark\" d=\"M688,151.00000000000003h5.7999999999999545v8.999999999999972h-5.7999999999999545Z\" fill=\"#4c78a8\" fill-opacity=\"1\" stroke=\"#505050\" stroke-width=\"0\"/><path aria-label=\"x1: 344; x2: 346.9; level: 25; level2: 25.9; status: Default; sf: _memcmp at array.jl:1743 [inlined]\" role=\"graphics-symbol\" aria-roledescription=\"rect mark\" d=\"M688,141h5.7999999999999545v9h-5.7999999999999545Z\" fill=\"#4c78a8\" fill-opacity=\"1\" stroke=\"#505050\" stroke-width=\"0\"/><path aria-label=\"x1: 347; x2: 347.9; level: 23; level2: 23.9; status: Default; sf: proceed!(l::SquareLattice, bvs_len::Int64, site::LatticeIndex) at lattice.jl:45\" role=\"graphics-symbol\" aria-roledescription=\"rect mark\" d=\"M694,161.00000000000003h1.7999999999999545v9h-1.7999999999999545Z\" fill=\"#4c78a8\" fill-opacity=\"1\" stroke=\"#505050\" stroke-width=\"0\"/><path aria-label=\"x1: 347; x2: 347.9; level: 24; level2: 24.9; status: Default; sf: + at int.jl:87 [inlined]\" role=\"graphics-symbol\" aria-roledescription=\"rect mark\" d=\"M694,151.00000000000003h1.7999999999999545v8.999999999999972h-1.7999999999999545Z\" fill=\"#4c78a8\" fill-opacity=\"1\" stroke=\"#505050\" stroke-width=\"0\"/><path aria-label=\"x1: 348; x2: 356.9; level: 22; level2: 22.9; status: Garbage collection; sf: iterate(l::SquareLattice, state::Tuple{LatticeIndex, Int64, Int64}) at lattice.jl:61\" role=\"graphics-symbol\" aria-roledescription=\"rect mark\" d=\"M696,171h17.799999999999955v8.999999999999972h-17.799999999999955Z\" fill=\"#f58518\" fill-opacity=\"1\" stroke=\"#505050\" stroke-width=\"0\"/></g><g class=\"mark-group role-legend\" role=\"graphics-symbol\" aria-roledescription=\"legend\" aria-label=\"Symbol legend for fill color with 3 values: Default, Garbage collection, Runtime dispatch\"><g transform=\"translate(0,418)\"><path class=\"background\" aria-hidden=\"true\" d=\"M0,0h284v13h-284Z\" pointer-events=\"none\"/><g><g class=\"mark-group role-legend-entry\"><g transform=\"translate(0,0)\"><path class=\"background\" aria-hidden=\"true\" d=\"M0,0h0v0h0Z\" pointer-events=\"none\"/><g><g class=\"mark-group role-scope\" role=\"graphics-object\" aria-roledescription=\"group mark container\"><g transform=\"translate(0,0.25)\"><path class=\"background\" aria-hidden=\"true\" d=\"M0,0h53v12.5h-53Z\" pointer-events=\"none\" opacity=\"1\"/><g><g class=\"mark-symbol role-legend-symbol\" pointer-events=\"none\"><path transform=\"translate(6,6)\" d=\"M-5,-5h10v10h-10Z\" fill=\"#4c78a8\" stroke=\"#505050\" stroke-width=\"1.5\" opacity=\"1\"/></g><g class=\"mark-text role-legend-label\" pointer-events=\"none\"><text text-anchor=\"start\" transform=\"translate(16,9)\" font-family=\"sans-serif\" font-size=\"10px\" fill=\"#000\" opacity=\"1\">Default</text></g></g><path class=\"foreground\" aria-hidden=\"true\" d=\"\" pointer-events=\"none\" display=\"none\"/></g><g transform=\"translate(64,0.25)\"><path class=\"background\" aria-hidden=\"true\" d=\"M0,0h108v12.5h-108Z\" pointer-events=\"none\" opacity=\"1\"/><g><g class=\"mark-symbol role-legend-symbol\" pointer-events=\"none\"><path transform=\"translate(6,6)\" d=\"M-5,-5h10v10h-10Z\" fill=\"#f58518\" stroke=\"#505050\" stroke-width=\"1.5\" opacity=\"1\"/></g><g class=\"mark-text role-legend-label\" pointer-events=\"none\"><text text-anchor=\"start\" transform=\"translate(16,9)\" font-family=\"sans-serif\" font-size=\"10px\" fill=\"#000\" opacity=\"1\">Garbage collection</text></g></g><path class=\"foreground\" aria-hidden=\"true\" d=\"\" pointer-events=\"none\" display=\"none\"/></g><g transform=\"translate(183,0.25)\"><path class=\"background\" aria-hidden=\"true\" d=\"M0,0h101v12.5h-101Z\" pointer-events=\"none\" opacity=\"1\"/><g><g class=\"mark-symbol role-legend-symbol\" pointer-events=\"none\"><path transform=\"translate(6,6)\" d=\"M-5,-5h10v10h-10Z\" fill=\"#e45756\" stroke=\"#505050\" stroke-width=\"1.5\" opacity=\"1\"/></g><g class=\"mark-text role-legend-label\" pointer-events=\"none\"><text text-anchor=\"start\" transform=\"translate(16,9)\" font-family=\"sans-serif\" font-size=\"10px\" fill=\"#000\" opacity=\"1\">Runtime dispatch</text></g></g><path class=\"foreground\" aria-hidden=\"true\" d=\"\" pointer-events=\"none\" display=\"none\"/></g></g></g><path class=\"foreground\" aria-hidden=\"true\" d=\"\" pointer-events=\"none\" display=\"none\"/></g></g></g><path class=\"foreground\" aria-hidden=\"true\" d=\"\" pointer-events=\"none\" display=\"none\"/></g></g><g class=\"mark-group role-title\"><g transform=\"translate(400,-17)\"><path class=\"background\" aria-hidden=\"true\" d=\"M0,0h0v0h0Z\" pointer-events=\"none\"/><g><g class=\"mark-text role-title-text\" role=\"graphics-symbol\" aria-roledescription=\"title\" aria-label=\"Title text 'Profile Results'\" pointer-events=\"none\"><text text-anchor=\"middle\" transform=\"translate(0,10)\" font-family=\"sans-serif\" font-size=\"13px\" font-weight=\"bold\" fill=\"#000\" opacity=\"1\">Profile Results</text></g></g><path class=\"foreground\" aria-hidden=\"true\" d=\"\" pointer-events=\"none\" display=\"none\"/></g></g></g><path class=\"foreground\" aria-hidden=\"true\" d=\"\" display=\"none\"/></g></g></g><defs><clipPath id=\"clip1\"><rect x=\"0\" y=\"0\" width=\"800\" height=\"400\"/></clipPath></defs></svg>\n",
      "text/plain": [
       "@vlplot(\n",
       "    mark={\n",
       "        type=\"rect\",\n",
       "        stroke=\"#505050\"\n",
       "    },\n",
       "    transform=[\n",
       "        {\n",
       "            calculate=\"datum.level+0.9\",\n",
       "            as=\"level2\"\n",
       "        }\n",
       "    ],\n",
       "    selection={\n",
       "        grid={\n",
       "            type=\"interval\",\n",
       "            bind=\"scales\"\n",
       "        },\n",
       "        highlight={\n",
       "            type=\"single\",\n",
       "            on=\"mouseover\",\n",
       "            empty=\"none\"\n",
       "        },\n",
       "        select={\n",
       "            type=\"multi\",\n",
       "            empty=\"none\"\n",
       "        }\n",
       "    },\n",
       "    width=800,\n",
       "    height=400,\n",
       "    title=\"Profile Results\",\n",
       "    encoding={\n",
       "        x={\n",
       "            axis=nothing,\n",
       "            field=\"x1\"\n",
       "        },\n",
       "        x2={\n",
       "            field=\"x2\"\n",
       "        },\n",
       "        y={\n",
       "            axis=nothing,\n",
       "            field=\"level\",\n",
       "            type=\"quantitative\"\n",
       "        },\n",
       "        y2={\n",
       "            field=\"level2\",\n",
       "            type=\"quantitative\"\n",
       "        },\n",
       "        fillOpacity={\n",
       "            condition=[\n",
       "                {\n",
       "                    selection=\"highlight\",\n",
       "                    value=0.6\n",
       "                },\n",
       "                {\n",
       "                    selection=\"select\",\n",
       "                    value=0.5\n",
       "                }\n",
       "            ],\n",
       "            value=1\n",
       "        },\n",
       "        strokeWidth={\n",
       "            condition=[\n",
       "                {\n",
       "                    selection=\"highlight\",\n",
       "                    value=0.5\n",
       "                },\n",
       "                {\n",
       "                    selection=\"select\",\n",
       "                    value=0.5\n",
       "                }\n",
       "            ],\n",
       "            value=0\n",
       "        },\n",
       "        color={\n",
       "            legend={\n",
       "                title=nothing,\n",
       "                orient=\"bottom\"\n",
       "            },\n",
       "            field=\"status\",\n",
       "            type=\"nominal\"\n",
       "        },\n",
       "        tooltip={\n",
       "            field=\"sf\"\n",
       "        }\n",
       "    },\n",
       "    data={\n",
       "        values=...\n",
       "    }\n",
       ")"
      ]
     },
     "metadata": {},
     "output_type": "display_data"
    }
   ],
   "source": [
    "\n",
    "PV.@profview for _ in 1:100 LatticeModels.apply_field!(H, Landau(3)) end"
   ]
  },
  {
   "cell_type": "code",
   "execution_count": 11,
   "metadata": {},
   "outputs": [
    {
     "data": {
      "text/plain": [
       "apply_field! (generic function with 1 method)"
      ]
     },
     "metadata": {},
     "output_type": "display_data"
    }
   ],
   "source": [
    "LatticeModels.apply_field!"
   ]
  },
  {
   "cell_type": "code",
   "execution_count": 10,
   "metadata": {},
   "outputs": [
    {
     "data": {
      "text/plain": [
       "1000-element Vector{Float64}:\n",
       " 0.13359100107328037\n",
       " 0.5480336538503929\n",
       " 0.2848601211888552\n",
       " 0.24070939498446753\n",
       " 0.02324464820069161\n",
       " 0.0841201348557683\n",
       " 0.17622365896361714\n",
       " 0.28260065620712316\n",
       " 0.9242730798982755\n",
       " 0.5428709613531257\n",
       " ⋮\n",
       " 0.7805813262085545\n",
       " 0.30580879235470826\n",
       " 0.2522946011573455\n",
       " 0.40795188898283463\n",
       " 0.3722750350069084\n",
       " 0.11793028351701229\n",
       " 0.47671163713283093\n",
       " 0.2597501889401578\n",
       " 0.04715808237661889"
      ]
     },
     "metadata": {},
     "output_type": "display_data"
    }
   ],
   "source": [
    "a = rand(1000)\n",
    "b = rand(1000)\n",
    "c = copy(a)"
   ]
  },
  {
   "cell_type": "code",
   "execution_count": 13,
   "metadata": {},
   "outputs": [
    {
     "data": {
      "text/plain": [
       "BenchmarkTools.Trial: 10000 samples with 186 evaluations.\n",
       " Range \u001b[90m(\u001b[39m\u001b[36m\u001b[1mmin\u001b[22m\u001b[39m … \u001b[35mmax\u001b[39m\u001b[90m):  \u001b[39m\u001b[36m\u001b[1m633.333 ns\u001b[22m\u001b[39m … \u001b[35m39.625 μs\u001b[39m  \u001b[90m┊\u001b[39m GC \u001b[90m(\u001b[39mmin … max\u001b[90m): \u001b[39m 0.00% … 95.23%\n",
       " Time  \u001b[90m(\u001b[39m\u001b[34m\u001b[1mmedian\u001b[22m\u001b[39m\u001b[90m):     \u001b[39m\u001b[34m\u001b[1m  1.006 μs              \u001b[22m\u001b[39m\u001b[90m┊\u001b[39m GC \u001b[90m(\u001b[39mmedian\u001b[90m):    \u001b[39m 0.00%\n",
       " Time  \u001b[90m(\u001b[39m\u001b[32m\u001b[1mmean\u001b[22m\u001b[39m ± \u001b[32mσ\u001b[39m\u001b[90m):   \u001b[39m\u001b[32m\u001b[1m  1.893 μs\u001b[22m\u001b[39m ± \u001b[32m 2.733 μs\u001b[39m  \u001b[90m┊\u001b[39m GC \u001b[90m(\u001b[39mmean ± σ\u001b[90m):  \u001b[39m19.79% ± 14.85%\n",
       "\n",
       "  \u001b[39m█\u001b[39m▇\u001b[34m▆\u001b[39m\u001b[39m▅\u001b[39m▄\u001b[39m▃\u001b[32m▂\u001b[39m\u001b[39m▂\u001b[39m▃\u001b[39m▄\u001b[39m▃\u001b[39m▂\u001b[39m▂\u001b[39m▂\u001b[39m▂\u001b[39m▁\u001b[39m▁\u001b[39m \u001b[39m \u001b[39m \u001b[39m \u001b[39m \u001b[39m \u001b[39m \u001b[39m \u001b[39m \u001b[39m \u001b[39m \u001b[39m \u001b[39m \u001b[39m \u001b[39m \u001b[39m \u001b[39m \u001b[39m \u001b[39m \u001b[39m \u001b[39m \u001b[39m \u001b[39m \u001b[39m \u001b[39m \u001b[39m \u001b[39m \u001b[39m \u001b[39m \u001b[39m \u001b[39m \u001b[39m \u001b[39m \u001b[39m \u001b[39m \u001b[39m \u001b[39m \u001b[39m \u001b[39m \u001b[39m \u001b[39m \u001b[39m \u001b[39m \u001b[39m \u001b[39m▂\n",
       "  \u001b[39m█\u001b[39m█\u001b[34m█\u001b[39m\u001b[39m█\u001b[39m█\u001b[39m█\u001b[32m█\u001b[39m\u001b[39m█\u001b[39m█\u001b[39m█\u001b[39m█\u001b[39m█\u001b[39m█\u001b[39m█\u001b[39m█\u001b[39m█\u001b[39m█\u001b[39m█\u001b[39m█\u001b[39m█\u001b[39m█\u001b[39m▇\u001b[39m▆\u001b[39m▆\u001b[39m▆\u001b[39m▆\u001b[39m▆\u001b[39m▅\u001b[39m▆\u001b[39m▆\u001b[39m▆\u001b[39m▆\u001b[39m▆\u001b[39m▆\u001b[39m▆\u001b[39m▅\u001b[39m▅\u001b[39m▆\u001b[39m▅\u001b[39m▅\u001b[39m▄\u001b[39m▅\u001b[39m▅\u001b[39m▅\u001b[39m▆\u001b[39m▅\u001b[39m▅\u001b[39m▅\u001b[39m▄\u001b[39m▄\u001b[39m▅\u001b[39m▅\u001b[39m▄\u001b[39m▄\u001b[39m▃\u001b[39m▄\u001b[39m▂\u001b[39m▂\u001b[39m▅\u001b[39m▄\u001b[39m \u001b[39m█\n",
       "  633 ns\u001b[90m        \u001b[39m\u001b[90mHistogram: \u001b[39m\u001b[90m\u001b[1mlog(\u001b[22m\u001b[39m\u001b[90mfrequency\u001b[39m\u001b[90m\u001b[1m)\u001b[22m\u001b[39m\u001b[90m by time\u001b[39m      13.6 μs \u001b[0m\u001b[1m<\u001b[22m\n",
       "\n",
       " Memory estimate\u001b[90m: \u001b[39m\u001b[33m7.94 KiB\u001b[39m, allocs estimate\u001b[90m: \u001b[39m\u001b[33m1\u001b[39m."
      ]
     },
     "metadata": {},
     "output_type": "display_data"
    }
   ],
   "source": [
    "@benchmark c + b"
   ]
  }
 ],
 "metadata": {
  "kernelspec": {
   "display_name": "Julia 1.8.0",
   "language": "julia",
   "name": "julia-1.8"
  },
  "language_info": {
   "file_extension": ".jl",
   "mimetype": "application/julia",
   "name": "julia",
   "version": "1.8.0"
  },
  "orig_nbformat": 4
 },
 "nbformat": 4,
 "nbformat_minor": 2
}
